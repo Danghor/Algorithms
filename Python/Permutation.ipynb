{
 "cells": [
  {
   "cell_type": "code",
   "execution_count": 1,
   "metadata": {},
   "outputs": [
    {
     "data": {
      "text/html": [
       "<style>.container { width:100%; !important } </style>"
      ],
      "text/plain": [
       "<IPython.core.display.HTML object>"
      ]
     },
     "metadata": {},
     "output_type": "display_data"
    }
   ],
   "source": [
    "#%autosave 0\n",
    "from IPython.core.display import HTML, display\n",
    "display(HTML('<style>.container { width:100%; !important } </style>'))"
   ]
  },
  {
   "cell_type": "markdown",
   "metadata": {},
   "source": [
    "# Generating Random Permutations"
   ]
  },
  {
   "cell_type": "code",
   "execution_count": 2,
   "metadata": {},
   "outputs": [],
   "source": [
    "import random as rnd"
   ]
  },
  {
   "cell_type": "code",
   "execution_count": 3,
   "metadata": {},
   "outputs": [],
   "source": [
    "def permute(L):\n",
    "    if len(L) == 1:\n",
    "        return L\n",
    "    k = rnd.randint(0, len(L)-1)\n",
    "    return permute(L[:k] + L[k+1:]) + [L[k]]"
   ]
  },
  {
   "cell_type": "code",
   "execution_count": 4,
   "metadata": {},
   "outputs": [
    {
     "name": "stdout",
     "output_type": "stream",
     "text": [
      "[1, 5, 4, 2, 3]\n",
      "[4, 3, 5, 2, 1]\n",
      "[1, 5, 3, 4, 2]\n",
      "[4, 2, 5, 3, 1]\n",
      "[3, 4, 1, 2, 5]\n",
      "[4, 1, 2, 5, 3]\n",
      "[4, 2, 3, 1, 5]\n",
      "[4, 1, 3, 2, 5]\n",
      "[2, 3, 1, 5, 4]\n",
      "[4, 3, 1, 2, 5]\n",
      "[4, 3, 1, 5, 2]\n",
      "[5, 1, 4, 2, 3]\n",
      "[3, 2, 5, 4, 1]\n",
      "[1, 5, 2, 3, 4]\n",
      "[3, 1, 2, 5, 4]\n",
      "[5, 1, 3, 2, 4]\n",
      "[2, 1, 3, 5, 4]\n",
      "[1, 3, 4, 2, 5]\n",
      "[4, 2, 5, 3, 1]\n",
      "[2, 3, 4, 5, 1]\n"
     ]
    }
   ],
   "source": [
    "for _ in range(20):\n",
    "    print(permute([1,2,3,4,5]))"
   ]
  },
  {
   "cell_type": "code",
   "execution_count": null,
   "metadata": {},
   "outputs": [],
   "source": []
  }
 ],
 "metadata": {
  "kernelspec": {
   "display_name": "Python 3",
   "language": "python",
   "name": "python3"
  },
  "language_info": {
   "codemirror_mode": {
    "name": "ipython",
    "version": 3
   },
   "file_extension": ".py",
   "mimetype": "text/x-python",
   "name": "python",
   "nbconvert_exporter": "python",
   "pygments_lexer": "ipython3",
   "version": "3.7.3"
  }
 },
 "nbformat": 4,
 "nbformat_minor": 2
}
