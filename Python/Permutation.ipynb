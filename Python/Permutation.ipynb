{
 "cells": [
  {
   "cell_type": "code",
   "execution_count": null,
   "metadata": {},
   "outputs": [],
   "source": [
    "#%autosave 0\n",
    "from IPython.core.display import HTML, display\n",
    "display(HTML('<style>.container { width:100%; !important } </style>'))"
   ]
  },
  {
   "cell_type": "markdown",
   "metadata": {},
   "source": [
    "# Generating Random Permutations"
   ]
  },
  {
   "cell_type": "code",
   "execution_count": null,
   "metadata": {},
   "outputs": [],
   "source": [
    "import random as rnd"
   ]
  },
  {
   "cell_type": "code",
   "execution_count": null,
   "metadata": {},
   "outputs": [],
   "source": [
    "def permute(L):\n",
    "    if len(L) == 1:\n",
    "        return L\n",
    "    k = rnd.randint(0, len(L)-1)\n",
    "    return permute(L[:k] + L[k+1:]) + [L[k]]"
   ]
  },
  {
   "cell_type": "code",
   "execution_count": null,
   "metadata": {},
   "outputs": [],
   "source": [
    "for _ in range(20):\n",
    "    print(permute([1,2,3,4,5]))"
   ]
  },
  {
   "cell_type": "markdown",
   "metadata": {},
   "source": [
    "# Case Study: Computation of Probabilities in Poker "
   ]
  },
  {
   "cell_type": "markdown",
   "metadata": {},
   "source": [
    "This notebook shows how to compute probabilities in \n",
    "<A href=\"https://en.wikipedia.org/wiki/Texas_hold_%27em\">Texas Hold'em Poker</A>.  Texas Hold'em is played with a deck of 52 cards.  The cards have 13 different *values* and four different *suits*.  The values are:"
   ]
  },
  {
   "cell_type": "code",
   "execution_count": null,
   "metadata": {},
   "outputs": [],
   "source": [
    "Values = { \"2\", \"3\", \"4\", \"5\", \"6\", \"7\", \"8\", \"9\", \"T\", \n",
    "           \"J\", \"Q\", \"K\", \"A\" \n",
    "         }"
   ]
  },
  {
   "cell_type": "markdown",
   "metadata": {},
   "source": [
    "The four *suits* are *clubs*, *hearts*, *diamonds*, and *spades*.  We represent these suits by their first letter:"
   ]
  },
  {
   "cell_type": "code",
   "execution_count": null,
   "metadata": {},
   "outputs": [],
   "source": [
    "Suits = { \"c\", \"h\", \"d\", \"s\" }"
   ]
  },
  {
   "cell_type": "markdown",
   "metadata": {},
   "source": [
    "Now the *deck* of cards is convieniently represented by the Cartesian product of the two sets <tt>Values</tt> and <tt>Suits</tt>."
   ]
  },
  {
   "cell_type": "code",
   "execution_count": null,
   "metadata": {},
   "outputs": [],
   "source": [
    "Deck = { (v, s) for v in Values for s in Suits }"
   ]
  },
  {
   "cell_type": "markdown",
   "metadata": {},
   "source": [
    "Let's assume you have been dealt the three of clubs and the three of spades.  In Texas Hold'em, the hand dealt to a player at the beginning is called the *hole*, so we have:"
   ]
  },
  {
   "cell_type": "code",
   "execution_count": null,
   "metadata": {},
   "outputs": [],
   "source": [
    "Hole = { ('3', 'c'), ('3', 's') }"
   ]
  },
  {
   "cell_type": "markdown",
   "metadata": {},
   "source": [
    "The remaining cards are all other cards, lets call them <tt>rest</tt>:"
   ]
  },
  {
   "cell_type": "code",
   "execution_count": null,
   "metadata": {},
   "outputs": [],
   "source": [
    "Rest = Deck - Hole"
   ]
  },
  {
   "cell_type": "code",
   "execution_count": null,
   "metadata": {},
   "outputs": [],
   "source": [
    "50 * 49 * 48 * 47 * 46 / (1 * 2 * 3 * 4 * 5)"
   ]
  },
  {
   "cell_type": "markdown",
   "metadata": {},
   "source": [
    "We are interested in the probability that on the *river* you will improve your hand to *four of a kind*.  As there are 5 cards that will be dealt,\n",
    "three cards in the *flop*, the *turn*, and the *river*, there are \n",
    "$$ (50 \\cdot 49 \\cdot 48 \\cdot 47 \\cdot 46) / (1 \\cdot 2 \\cdot 3 \\cdot 4 \\cdot 5) = 2\\,118\\,760 $$\n",
    "possibilities for these cards.  Let's pretend that we do not have enough main memory to store all these different possibilities.  Instead, we want to run a Monte-Carlo Simulation."
   ]
  },
  {
   "cell_type": "code",
   "execution_count": null,
   "metadata": {},
   "outputs": [],
   "source": [
    "def get_four_of_a_kind(n, Rest, v):\n",
    "    no_four_of_a_kind = 0\n",
    "    Rest = list(Rest)\n",
    "    for _ in range(n):\n",
    "        Rest  = permute(Rest)\n",
    "        Cards = Hole | set(Rest[:5])\n",
    "        if len({ card for card in Cards if card[0] == v }) == 4:\n",
    "            no_four_of_a_kind += 1\n",
    "    return no_four_of_a_kind / n"
   ]
  },
  {
   "cell_type": "code",
   "execution_count": null,
   "metadata": {},
   "outputs": [],
   "source": [
    "%%time\n",
    "get_four_of_a_kind(1000000, Rest, '3')"
   ]
  },
  {
   "cell_type": "markdown",
   "metadata": {},
   "source": []
  }
 ],
 "metadata": {
  "kernelspec": {
   "display_name": "Python 3",
   "language": "python",
   "name": "python3"
  },
  "language_info": {
   "codemirror_mode": {
    "name": "ipython",
    "version": 3
   },
   "file_extension": ".py",
   "mimetype": "text/x-python",
   "name": "python",
   "nbconvert_exporter": "python",
   "pygments_lexer": "ipython3",
   "version": "3.6.7"
  }
 },
 "nbformat": 4,
 "nbformat_minor": 2
}
