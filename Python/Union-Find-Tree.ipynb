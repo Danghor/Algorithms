{
 "cells": [
  {
   "cell_type": "code",
   "execution_count": null,
   "metadata": {},
   "outputs": [],
   "source": [
    "#%autosave 0\n",
    "from IPython.core.display import HTML, display\n",
    "display(HTML('<style>.container { width:100%; !important } </style>'))"
   ]
  },
  {
   "cell_type": "code",
   "execution_count": null,
   "metadata": {},
   "outputs": [],
   "source": [
    "import graphviz as gv"
   ]
  },
  {
   "cell_type": "markdown",
   "metadata": {},
   "source": [
    "The function $\\texttt{toDot}(\\texttt{Parent})$ takes a dictionary $\\texttt{Parent}$.\n",
    "For every node $x$, $\\texttt{Parent}[x]$ is the parent of $x$.   It draws this dictionary \n",
    "as a family tree using `graphviz`."
   ]
  },
  {
   "cell_type": "code",
   "execution_count": null,
   "metadata": {},
   "outputs": [],
   "source": [
    "def toDot(Parent):\n",
    "    print(Parent)\n",
    "    dot = gv.Digraph(node_attr={'shape': 'record', 'style': 'rounded'})\n",
    "    M  = Parent.keys()\n",
    "    M |= { Parent[x] for x in M }\n",
    "    print(f'M = {M}')\n",
    "    for x in M:\n",
    "        dot.node(str(x), label=str(x))\n",
    "    for x in M:\n",
    "        p = Parent[x]\n",
    "        if x != p:\n",
    "            dot.edge(str(x), str(p))\n",
    "    return dot"
   ]
  },
  {
   "cell_type": "markdown",
   "metadata": {},
   "source": [
    "# A Tree Based Implementation of the Union-Find Algorithm"
   ]
  },
  {
   "cell_type": "markdown",
   "metadata": {},
   "source": [
    "Given a set of *frozen sets* `FS` this function turns this set into a string that looks like a set of sets."
   ]
  },
  {
   "cell_type": "code",
   "execution_count": null,
   "metadata": {},
   "outputs": [],
   "source": [
    "def toStr(FS):\n",
    "    result = '{ '\n",
    "    for S in FS:\n",
    "        result += str(set(S)) + ', '\n",
    "    result = result[:-2]\n",
    "    result += ' }'\n",
    "    return result"
   ]
  },
  {
   "cell_type": "markdown",
   "metadata": {},
   "source": [
    "Given a set $M$ and a binary relation $R \\subseteq M \\times M$, the function $\\texttt{union_find}$ returns a partition $\\mathcal{P}$ of $M$ such that we have\n",
    "$$ \\forall \\langle x, y \\rangle \\in R: \\exists S \\in \\mathcal{P}: \\bigl(x \\in S \\wedge y \\in S\\bigr) $$"
   ]
  },
  {
   "cell_type": "code",
   "execution_count": null,
   "metadata": {},
   "outputs": [],
   "source": [
    "def union_find(M, R):\n",
    "    Parent = { x: x for x in M } \n",
    "    for x, y in R:\n",
    "        root_x = find(x, Parent)\n",
    "        root_y = find(y, Parent)\n",
    "        if root_x != root_y:\n",
    "            Parent[root_y] = root_x\n",
    "    display(toDot(Parent))\n",
    "    Roots = { x for x in M if Parent[x] == x }\n",
    "    return { frozenset({ y for y in M if find(y, Parent) == r}) for r in Roots }"
   ]
  },
  {
   "cell_type": "markdown",
   "metadata": {},
   "source": [
    "Given a dictionary `Parent` and an element $x$ from $M$, the function $\\texttt{find}(x, \\texttt{Parent})$ \n",
    "returns ancestor of $x$ that is its own parent."
   ]
  },
  {
   "cell_type": "code",
   "execution_count": null,
   "metadata": {},
   "outputs": [],
   "source": [
    "def find(x, Parent):\n",
    "    if Parent[x] == x:\n",
    "        return x\n",
    "    return find(Parent[x], Parent)"
   ]
  },
  {
   "cell_type": "code",
   "execution_count": null,
   "metadata": {},
   "outputs": [],
   "source": [
    "def demo():\n",
    "    M = set(range(1, 10))\n",
    "    R = { (1, 4), (7, 9), (3, 5), (2, 6), (5, 8), (1, 9), (4, 7) }\n",
    "    P = union_find(M, R)\n",
    "    return toStr(P)"
   ]
  },
  {
   "cell_type": "code",
   "execution_count": null,
   "metadata": {},
   "outputs": [],
   "source": [
    "demo()"
   ]
  },
  {
   "cell_type": "code",
   "execution_count": null,
   "metadata": {},
   "outputs": [],
   "source": [
    "def demo():\n",
    "    n = 9\n",
    "    M = set(range(1, n+1))\n",
    "    R = { (k+1, k) for k in M if k < n }\n",
    "    print(f'R = {R}')\n",
    "    P = union_find(M, R)\n",
    "    print(f'P = {toStr(P)}')"
   ]
  },
  {
   "cell_type": "code",
   "execution_count": null,
   "metadata": {},
   "outputs": [],
   "source": [
    "demo()"
   ]
  },
  {
   "cell_type": "code",
   "execution_count": null,
   "metadata": {},
   "outputs": [],
   "source": []
  }
 ],
 "metadata": {
  "kernelspec": {
   "display_name": "Python 3",
   "language": "python",
   "name": "python3"
  },
  "language_info": {
   "codemirror_mode": {
    "name": "ipython",
    "version": 3
   },
   "file_extension": ".py",
   "mimetype": "text/x-python",
   "name": "python",
   "nbconvert_exporter": "python",
   "pygments_lexer": "ipython3",
   "version": "3.7.3"
  }
 },
 "nbformat": 4,
 "nbformat_minor": 2
}
