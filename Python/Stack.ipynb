{
 "cells": [
  {
   "cell_type": "code",
   "execution_count": 1,
   "metadata": {},
   "outputs": [
    {
     "data": {
      "text/html": [
       "<style>\n",
       ".container { width:100% }\n",
       "</style>"
      ],
      "text/plain": [
       "<IPython.core.display.HTML object>"
      ]
     },
     "metadata": {},
     "output_type": "display_data"
    }
   ],
   "source": [
    "%%HTML\n",
    "<style>\n",
    ".container { width:100% }\n",
    "</style>"
   ]
  },
  {
   "cell_type": "markdown",
   "metadata": {},
   "source": [
    "# Implementing a Stack Class"
   ]
  },
  {
   "cell_type": "markdown",
   "metadata": {},
   "source": [
    "First, we define an empty class `Stack`."
   ]
  },
  {
   "cell_type": "code",
   "execution_count": 2,
   "metadata": {},
   "outputs": [],
   "source": [
    "class Stack:\n",
    "    pass"
   ]
  },
  {
   "cell_type": "markdown",
   "metadata": {},
   "source": [
    "Next we define a <em style=\"color:blue\">constructor</em> to this class.  The function $\\texttt{stack}(S)$ takes an uninitialized object $S$ and initializes its \n",
    "<em style=\"color:blue\">member variable</em> `mStackElements`.  This member variable is a list containing the data stored in the stack."
   ]
  },
  {
   "cell_type": "code",
   "execution_count": 7,
   "metadata": {},
   "outputs": [],
   "source": [
    "def stack(S):\n",
    "    S.mStackElements = []"
   ]
  },
  {
   "cell_type": "markdown",
   "metadata": {},
   "source": [
    "We add this method to the class Stack.  Since we add it under the name `__init__`, this method will be the constructor."
   ]
  },
  {
   "cell_type": "code",
   "execution_count": 8,
   "metadata": {},
   "outputs": [],
   "source": [
    "Stack.__init__ = stack\n",
    "del stack"
   ]
  },
  {
   "cell_type": "markdown",
   "metadata": {},
   "source": [
    "Next, we add the method `push` to the class `Stack`.  The method $\\texttt{push}(S, e)$ pushes $e$ onto the stack $S$."
   ]
  },
  {
   "cell_type": "code",
   "execution_count": 9,
   "metadata": {},
   "outputs": [],
   "source": [
    "def push(S, e):\n",
    "    S.mStackElements += [e]"
   ]
  },
  {
   "cell_type": "markdown",
   "metadata": {},
   "source": [
    "We add this method to the class `Stack`."
   ]
  },
  {
   "cell_type": "code",
   "execution_count": 10,
   "metadata": {},
   "outputs": [],
   "source": [
    "Stack.push = push\n",
    "del push"
   ]
  },
  {
   "cell_type": "markdown",
   "metadata": {},
   "source": [
    "The method `pop` removes the topmost element from a stack."
   ]
  },
  {
   "cell_type": "code",
   "execution_count": 11,
   "metadata": {},
   "outputs": [],
   "source": [
    "def pop(S):\n",
    "    assert len(S.mStackElements) > 0, \"popping empty stack\"\n",
    "    S.mStackElements = S.mStackElements[:-1]\n",
    "\n",
    "Stack.pop = pop\n",
    "del pop"
   ]
  },
  {
   "cell_type": "markdown",
   "metadata": {},
   "source": [
    "The method `top` returns the element that is on top of the stack."
   ]
  },
  {
   "cell_type": "code",
   "execution_count": 12,
   "metadata": {},
   "outputs": [],
   "source": [
    "def top(S):\n",
    "    assert len(S.mStackElements) > 0, \"top of empty stack\"\n",
    "    return S.mStackElements[-1]\n",
    "\n",
    "Stack.top = top\n",
    "del top"
   ]
  },
  {
   "cell_type": "markdown",
   "metadata": {},
   "source": [
    "The method `isEmpty` checks whether the stack is empty."
   ]
  },
  {
   "cell_type": "code",
   "execution_count": 13,
   "metadata": {},
   "outputs": [],
   "source": [
    "def isEmpty(S):\n",
    "    return S.mStackElements == []\n",
    "\n",
    "Stack.isEmpty = isEmpty\n",
    "del isEmpty"
   ]
  },
  {
   "cell_type": "markdown",
   "metadata": {},
   "source": [
    "The method `copy` creates a shallow copy of the given stack. "
   ]
  },
  {
   "cell_type": "code",
   "execution_count": 14,
   "metadata": {},
   "outputs": [],
   "source": [
    "def copy(S):\n",
    "    C = Stack()\n",
    "    C.mStackElements = S.mStackElements[:]\n",
    "    return C\n",
    "\n",
    "Stack.copy = copy\n",
    "del copy"
   ]
  },
  {
   "cell_type": "markdown",
   "metadata": {},
   "source": [
    "The method `toStr` converts a stack into a string."
   ]
  },
  {
   "cell_type": "code",
   "execution_count": 15,
   "metadata": {},
   "outputs": [],
   "source": [
    "def toStr(S):\n",
    "    C = S.copy()\n",
    "    result = C._convert()\n",
    "    dashes = \"-\" * len(result)\n",
    "    return '\\n'.join([dashes, result, dashes])\n",
    "\n",
    "Stack.__str__ = toStr\n",
    "del toStr"
   ]
  },
  {
   "cell_type": "markdown",
   "metadata": {},
   "source": [
    "The method `convert` converts a stack into a string."
   ]
  },
  {
   "cell_type": "code",
   "execution_count": 16,
   "metadata": {},
   "outputs": [],
   "source": [
    "def convert(S):\n",
    "    if S.isEmpty():\n",
    "        return '|'\n",
    "    top = S.top()\n",
    "    S.pop()\n",
    "    return S._convert() + ' ' + str(top) + ' |'\n",
    "\n",
    "Stack._convert = convert\n",
    "del convert"
   ]
  },
  {
   "cell_type": "markdown",
   "metadata": {},
   "source": [
    "## Testing"
   ]
  },
  {
   "cell_type": "code",
   "execution_count": 17,
   "metadata": {},
   "outputs": [],
   "source": [
    "def createStack(L):\n",
    "    S = Stack()\n",
    "    for x in L:\n",
    "        S.push(x)\n",
    "        print(S)\n",
    "    return S"
   ]
  },
  {
   "cell_type": "code",
   "execution_count": 18,
   "metadata": {},
   "outputs": [
    {
     "name": "stdout",
     "output_type": "stream",
     "text": [
      "-----\n",
      "| 0 |\n",
      "-----\n",
      "---------\n",
      "| 0 | 1 |\n",
      "---------\n",
      "-------------\n",
      "| 0 | 1 | 2 |\n",
      "-------------\n",
      "-----------------\n",
      "| 0 | 1 | 2 | 3 |\n",
      "-----------------\n",
      "---------------------\n",
      "| 0 | 1 | 2 | 3 | 4 |\n",
      "---------------------\n",
      "-------------------------\n",
      "| 0 | 1 | 2 | 3 | 4 | 5 |\n",
      "-------------------------\n",
      "-----------------------------\n",
      "| 0 | 1 | 2 | 3 | 4 | 5 | 6 |\n",
      "-----------------------------\n",
      "---------------------------------\n",
      "| 0 | 1 | 2 | 3 | 4 | 5 | 6 | 7 |\n",
      "---------------------------------\n",
      "-------------------------------------\n",
      "| 0 | 1 | 2 | 3 | 4 | 5 | 6 | 7 | 8 |\n",
      "-------------------------------------\n",
      "-----------------------------------------\n",
      "| 0 | 1 | 2 | 3 | 4 | 5 | 6 | 7 | 8 | 9 |\n",
      "-----------------------------------------\n"
     ]
    }
   ],
   "source": [
    "S = createStack(range(10))"
   ]
  },
  {
   "cell_type": "code",
   "execution_count": 21,
   "metadata": {},
   "outputs": [
    {
     "data": {
      "text/plain": [
       "-----------------------------------------\n",
       "| 0 | 1 | 2 | 3 | 4 | 5 | 6 | 7 | 8 | 9 |\n",
       "-----------------------------------------"
      ]
     },
     "execution_count": 21,
     "metadata": {},
     "output_type": "execute_result"
    }
   ],
   "source": [
    "S"
   ]
  },
  {
   "cell_type": "code",
   "execution_count": 20,
   "metadata": {},
   "outputs": [],
   "source": [
    "Stack.__repr__ = Stack.__str__"
   ]
  },
  {
   "cell_type": "code",
   "execution_count": 22,
   "metadata": {},
   "outputs": [
    {
     "name": "stdout",
     "output_type": "stream",
     "text": [
      "-----------------------------------------\n",
      "| 0 | 1 | 2 | 3 | 4 | 5 | 6 | 7 | 8 | 9 |\n",
      "-----------------------------------------\n"
     ]
    }
   ],
   "source": [
    "print(S)"
   ]
  },
  {
   "cell_type": "code",
   "execution_count": 23,
   "metadata": {},
   "outputs": [
    {
     "name": "stdout",
     "output_type": "stream",
     "text": [
      "9\n",
      "-------------------------------------\n",
      "| 0 | 1 | 2 | 3 | 4 | 5 | 6 | 7 | 8 |\n",
      "-------------------------------------\n",
      "8\n",
      "---------------------------------\n",
      "| 0 | 1 | 2 | 3 | 4 | 5 | 6 | 7 |\n",
      "---------------------------------\n",
      "7\n",
      "-----------------------------\n",
      "| 0 | 1 | 2 | 3 | 4 | 5 | 6 |\n",
      "-----------------------------\n",
      "6\n",
      "-------------------------\n",
      "| 0 | 1 | 2 | 3 | 4 | 5 |\n",
      "-------------------------\n",
      "5\n",
      "---------------------\n",
      "| 0 | 1 | 2 | 3 | 4 |\n",
      "---------------------\n",
      "4\n",
      "-----------------\n",
      "| 0 | 1 | 2 | 3 |\n",
      "-----------------\n",
      "3\n",
      "-------------\n",
      "| 0 | 1 | 2 |\n",
      "-------------\n",
      "2\n",
      "---------\n",
      "| 0 | 1 |\n",
      "---------\n",
      "1\n",
      "-----\n",
      "| 0 |\n",
      "-----\n",
      "0\n",
      "-\n",
      "|\n",
      "-\n"
     ]
    }
   ],
   "source": [
    "for i in range(10):\n",
    "    print(S.top())\n",
    "    S.pop()\n",
    "    print(S)"
   ]
  },
  {
   "cell_type": "code",
   "execution_count": null,
   "metadata": {},
   "outputs": [],
   "source": []
  }
 ],
 "metadata": {
  "kernelspec": {
   "display_name": "Python 3",
   "language": "python",
   "name": "python3"
  },
  "language_info": {
   "codemirror_mode": {
    "name": "ipython",
    "version": 3
   },
   "file_extension": ".py",
   "mimetype": "text/x-python",
   "name": "python",
   "nbconvert_exporter": "python",
   "pygments_lexer": "ipython3",
   "version": "3.7.6"
  },
  "varInspector": {
   "cols": {
    "lenName": 16,
    "lenType": 16,
    "lenVar": 40
   },
   "kernels_config": {
    "python": {
     "delete_cmd_postfix": "",
     "delete_cmd_prefix": "del ",
     "library": "var_list.py",
     "varRefreshCmd": "print(var_dic_list())"
    },
    "r": {
     "delete_cmd_postfix": ") ",
     "delete_cmd_prefix": "rm(",
     "library": "var_list.r",
     "varRefreshCmd": "cat(var_dic_list()) "
    }
   },
   "types_to_exclude": [
    "module",
    "function",
    "builtin_function_or_method",
    "instance",
    "_Feature"
   ],
   "window_display": false
  }
 },
 "nbformat": 4,
 "nbformat_minor": 2
}
