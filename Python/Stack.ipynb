{
 "cells": [
  {
   "cell_type": "code",
   "execution_count": 1,
   "metadata": {},
   "outputs": [
    {
     "data": {
      "text/html": [
       "<style>.container { width:100%; !important } </style>"
      ],
      "text/plain": [
       "<IPython.core.display.HTML object>"
      ]
     },
     "metadata": {},
     "output_type": "display_data"
    }
   ],
   "source": [
    "#%autosave 0\n",
    "from IPython.core.display import HTML, display\n",
    "display(HTML('<style>.container { width:100%; !important } </style>'))"
   ]
  },
  {
   "cell_type": "markdown",
   "metadata": {},
   "source": [
    "# Implementing a Stack Class"
   ]
  },
  {
   "cell_type": "markdown",
   "metadata": {},
   "source": [
    "First, we define an empty class `Stack`."
   ]
  },
  {
   "cell_type": "code",
   "execution_count": 2,
   "metadata": {},
   "outputs": [],
   "source": [
    "class Stack:\n",
    "    pass"
   ]
  },
  {
   "cell_type": "markdown",
   "metadata": {},
   "source": [
    "Next we define a *constructor* to this class.  The function $\\texttt{stack}(S)$ takes an uninitialized object $S$ andinitializes its *member variable* `mStackElements`.  This member variable is a list containing the data stored in the stack."
   ]
  },
  {
   "cell_type": "code",
   "execution_count": 3,
   "metadata": {},
   "outputs": [],
   "source": [
    "def stack(S):\n",
    "    S.mStackElements = []"
   ]
  },
  {
   "cell_type": "markdown",
   "metadata": {},
   "source": [
    "We add this method to the class Stack.  Since we add it under the name `__init__`, this method will be the constructor."
   ]
  },
  {
   "cell_type": "code",
   "execution_count": 4,
   "metadata": {},
   "outputs": [],
   "source": [
    "Stack.__init__ = stack"
   ]
  },
  {
   "cell_type": "markdown",
   "metadata": {},
   "source": [
    "Next, we add the method `push` to the class `Stack`.  The method $\\texttt{push}(S, e)$ pushes $e$ onto the stack $S$."
   ]
  },
  {
   "cell_type": "code",
   "execution_count": 5,
   "metadata": {},
   "outputs": [],
   "source": [
    "def push(S, e):\n",
    "    S.mStackElements += [e]"
   ]
  },
  {
   "cell_type": "markdown",
   "metadata": {},
   "source": [
    "We add this method to the class `Stack`."
   ]
  },
  {
   "cell_type": "code",
   "execution_count": 6,
   "metadata": {},
   "outputs": [],
   "source": [
    "Stack.push = push"
   ]
  },
  {
   "cell_type": "code",
   "execution_count": 7,
   "metadata": {},
   "outputs": [],
   "source": [
    "def pop(S):\n",
    "    assert len(S.mStackElements) > 0, \"popping empty stack\"\n",
    "    S.mStackElements = S.mStackElements[:-1]"
   ]
  },
  {
   "cell_type": "code",
   "execution_count": 8,
   "metadata": {},
   "outputs": [],
   "source": [
    "Stack.pop = pop"
   ]
  },
  {
   "cell_type": "code",
   "execution_count": 9,
   "metadata": {},
   "outputs": [],
   "source": [
    "def top(S):\n",
    "    assert len(S.mStackElements) > 0, \"top of empty stack\"\n",
    "    return S.mStackElements[-1]"
   ]
  },
  {
   "cell_type": "code",
   "execution_count": 10,
   "metadata": {},
   "outputs": [],
   "source": [
    "Stack.top = top"
   ]
  },
  {
   "cell_type": "code",
   "execution_count": 11,
   "metadata": {},
   "outputs": [],
   "source": [
    "def isEmpty(S):\n",
    "    return S.mStackElements == []"
   ]
  },
  {
   "cell_type": "code",
   "execution_count": 12,
   "metadata": {},
   "outputs": [],
   "source": [
    "Stack.isEmpty = isEmpty"
   ]
  },
  {
   "cell_type": "code",
   "execution_count": 13,
   "metadata": {},
   "outputs": [],
   "source": [
    "def copy(S):\n",
    "    C = Stack()\n",
    "    C.mStackElements = S.mStackElements[:]\n",
    "    return C"
   ]
  },
  {
   "cell_type": "code",
   "execution_count": 14,
   "metadata": {},
   "outputs": [],
   "source": [
    "Stack.copy = copy"
   ]
  },
  {
   "cell_type": "code",
   "execution_count": 15,
   "metadata": {},
   "outputs": [],
   "source": [
    "def toStr(S):\n",
    "    C = S.copy()\n",
    "    result = C._convert()\n",
    "    dashes = \"-\" * len(result)\n",
    "    return '\\n'.join([dashes, result, dashes])"
   ]
  },
  {
   "cell_type": "code",
   "execution_count": 16,
   "metadata": {},
   "outputs": [],
   "source": [
    "Stack.__str__ = toStr"
   ]
  },
  {
   "cell_type": "code",
   "execution_count": 17,
   "metadata": {},
   "outputs": [],
   "source": [
    "def convert(S):\n",
    "    if S.isEmpty():\n",
    "        return '|'\n",
    "    top = S.top()\n",
    "    S.pop()\n",
    "    return S._convert() + ' ' + str(top) + ' |'"
   ]
  },
  {
   "cell_type": "code",
   "execution_count": 18,
   "metadata": {},
   "outputs": [],
   "source": [
    "Stack._convert = convert"
   ]
  },
  {
   "cell_type": "markdown",
   "metadata": {},
   "source": [
    "## Testing"
   ]
  },
  {
   "cell_type": "code",
   "execution_count": 19,
   "metadata": {},
   "outputs": [],
   "source": [
    "def createStack(L):\n",
    "    S = Stack()\n",
    "    n = len(L)\n",
    "    for i in range(n):\n",
    "        S.push(L[i])\n",
    "        print(S)\n",
    "    return S"
   ]
  },
  {
   "cell_type": "code",
   "execution_count": 20,
   "metadata": {},
   "outputs": [
    {
     "name": "stdout",
     "output_type": "stream",
     "text": [
      "-----\n",
      "| 0 |\n",
      "-----\n",
      "---------\n",
      "| 0 | 1 |\n",
      "---------\n",
      "-------------\n",
      "| 0 | 1 | 2 |\n",
      "-------------\n",
      "-----------------\n",
      "| 0 | 1 | 2 | 3 |\n",
      "-----------------\n",
      "---------------------\n",
      "| 0 | 1 | 2 | 3 | 4 |\n",
      "---------------------\n",
      "-------------------------\n",
      "| 0 | 1 | 2 | 3 | 4 | 5 |\n",
      "-------------------------\n",
      "-----------------------------\n",
      "| 0 | 1 | 2 | 3 | 4 | 5 | 6 |\n",
      "-----------------------------\n",
      "---------------------------------\n",
      "| 0 | 1 | 2 | 3 | 4 | 5 | 6 | 7 |\n",
      "---------------------------------\n",
      "-------------------------------------\n",
      "| 0 | 1 | 2 | 3 | 4 | 5 | 6 | 7 | 8 |\n",
      "-------------------------------------\n",
      "-----------------------------------------\n",
      "| 0 | 1 | 2 | 3 | 4 | 5 | 6 | 7 | 8 | 9 |\n",
      "-----------------------------------------\n"
     ]
    },
    {
     "data": {
      "text/plain": [
       "<__main__.Stack at 0x10322af60>"
      ]
     },
     "execution_count": 20,
     "metadata": {},
     "output_type": "execute_result"
    }
   ],
   "source": [
    "createStack(range(10))"
   ]
  },
  {
   "cell_type": "code",
   "execution_count": null,
   "metadata": {},
   "outputs": [],
   "source": []
  }
 ],
 "metadata": {
  "kernelspec": {
   "display_name": "Python 3",
   "language": "python",
   "name": "python3"
  },
  "language_info": {
   "codemirror_mode": {
    "name": "ipython",
    "version": 3
   },
   "file_extension": ".py",
   "mimetype": "text/x-python",
   "name": "python",
   "nbconvert_exporter": "python",
   "pygments_lexer": "ipython3",
   "version": "3.6.7"
  }
 },
 "nbformat": 4,
 "nbformat_minor": 2
}
