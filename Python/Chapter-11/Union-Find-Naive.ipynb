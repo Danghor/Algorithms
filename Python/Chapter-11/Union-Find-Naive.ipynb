{
 "cells": [
  {
   "cell_type": "code",
   "execution_count": 1,
   "metadata": {},
   "outputs": [
    {
     "data": {
      "text/html": [
       "<link href='http://fonts.googleapis.com/css?family=Alegreya+Sans:100,300,400,500,700,800,900,100italic,300italic,400italic,500italic,700italic,800italic,900italic' rel='stylesheet' type='text/css'>\n",
       "<link href='http://fonts.googleapis.com/css?family=Arvo:400,700,400italic' rel='stylesheet' type='text/css'>\n",
       "<link href='http://fonts.googleapis.com/css?family=PT+Mono' rel='stylesheet' type='text/css'>\n",
       "<link href='http://fonts.googleapis.com/css?family=Shadows+Into+Light' rel='stylesheet' type='text/css'>\n",
       "<link href='http://fonts.googleapis.com/css?family=Philosopher:400,700,400italic,700italic' rel='stylesheet' type='text/css'>\n",
       "\n",
       "<style>\n",
       "\n",
       "@font-face {\n",
       "    font-family: \"Computer Modern\";\n",
       "    src: url('http://mirrors.ctan.org/fonts/cm-unicode/fonts/otf/cmunss.otf');\n",
       "}\n",
       "\n",
       ".container { width: 100% }\n",
       "\n",
       "/* Formatting for header cells */\n",
       ".text_cell_render h1 {\n",
       "    font-family: 'Philosopher', sans-serif;\n",
       "    font-weight: 400;\n",
       "    font-size: 2.2em;\n",
       "    line-height: 100%;\n",
       "    color: rgb(0, 80, 120);\n",
       "    margin-bottom: 0.1em;\n",
       "    margin-top: 0.1em;\n",
       "    display: block;\n",
       "}\t\n",
       ".text_cell_render h2 {\n",
       "    font-family: 'Philosopher', serif;\n",
       "    font-weight: 400;\n",
       "    font-size: 1.9em;\n",
       "    line-height: 100%;\n",
       "    color: rgb(200,100,0);\n",
       "    margin-bottom: 0.1em;\n",
       "    margin-top: 0.1em;\n",
       "    display: block;\n",
       "}\t\n",
       "\n",
       ".text_cell_render h3 {\n",
       "    font-family: 'Philosopher', serif;\n",
       "    margin-top:12px;\n",
       "    margin-bottom: 3px;\n",
       "    font-style: italic;\n",
       "    color: rgb(94,127,192);\n",
       "}\n",
       "\n",
       ".text_cell_render h4 {\n",
       "    font-family: 'Philosopher', serif;\n",
       "}\n",
       "\n",
       ".text_cell_render h5 {\n",
       "    font-family: 'Alegreya Sans', sans-serif;\n",
       "    font-weight: 300;\n",
       "    font-size: 16pt;\n",
       "    color: grey;\n",
       "    font-style: italic;\n",
       "    margin-bottom: .1em;\n",
       "    margin-top: 0.1em;\n",
       "    display: block;\n",
       "}\n",
       "\n",
       ".text_cell_render h6 {\n",
       "    font-family: 'PT Mono', sans-serif;\n",
       "    font-weight: 300;\n",
       "    font-size: 10pt;\n",
       "    color: grey;\n",
       "    margin-bottom: 1px;\n",
       "    margin-top: 1px;\n",
       "}\n",
       "\n",
       ".text_cell_render em {\n",
       "    font-family: 'Philosopher', sans-serif;\n",
       "    color:        blue;\n",
       "    background-color: rgb(255,220,180);\n",
       "    font-size:    110%;\n",
       "    margin-left:   2px;\n",
       "    margin-right:  2px;\n",
       "    font-weight:   100;\n",
       "}\n",
       "\n",
       ".text_cell_render b {\n",
       "    color:            rgb(255,195,195);\n",
       "    background-color: rgb(0,0,0);\n",
       "    font-size:    110%;\n",
       "    margin-left:   2px;\n",
       "    margin-right:  2px;\n",
       "    font-weight:   650;\n",
       "}\n",
       "\n",
       ".text_cell_render tt {\n",
       "    font-size:    120%;\n",
       "    margin-left:   2px;\n",
       "    margin-right:  2px;\n",
       "    font-weight:   150;\n",
       "}\n",
       "\n",
       ".Codemirror {\n",
       "    font-family: \"PT Mono\";\n",
       "    font-size: 100%;\n",
       "}\n",
       "\n",
       "</style>\n",
       "\n"
      ],
      "text/plain": [
       "<IPython.core.display.HTML object>"
      ]
     },
     "execution_count": 1,
     "metadata": {},
     "output_type": "execute_result"
    }
   ],
   "source": [
    "from IPython.core.display import HTML\n",
    "with open('../style.css') as file:\n",
    "    css = file.read()\n",
    "HTML(css)"
   ]
  },
  {
   "cell_type": "markdown",
   "metadata": {},
   "source": [
    "# A Naive Implementation of the Union-Find Algorithm"
   ]
  },
  {
   "cell_type": "markdown",
   "metadata": {},
   "source": [
    "Given a set $M$ and a binary relation $R \\subseteq M \\times M$, the function $\\texttt{union_find}$ returns a partition $\\mathcal{P}$ of $M$ such that we have\n",
    "$$ \\forall \\langle x, y \\rangle \\in R: \\exists S \\in \\mathcal{P}: \\bigl(x \\in S \\wedge y \\in S\\bigr) $$\n",
    "It works by starting with the trivial partition \n",
    "$$\\mathcal{P} := \\bigl\\{ \\{ x \\} \\mid x \\in M \\bigr\\}. $$\n",
    "As long as there is a pair $\\langle x, y \\rangle \\in R$ such that:\n",
    "* $x \\in A$, $y \\in B$, where $A \\in \\mathcal{P}$ and $B \\in \\mathcal{P}$, \n",
    "* but $A \\not= B$\n",
    "\n",
    "we update the partition $\\mathcal{P}$ as follows:\n",
    "$$ \\mathcal{P} := \\mathcal{P} \\backslash \\{ A, B \\} \\cup \\{ A \\cup B \\}. $$ \n",
    "In order to avoid dealing with frozen sets, the partition $\\mathcal{P}$ is implemented as a list rather than a set.\n",
    "Note that this is quite inefficient."
   ]
  },
  {
   "cell_type": "code",
   "execution_count": 2,
   "metadata": {},
   "outputs": [],
   "source": [
    "def union_find(M, R):\n",
    "    print(f'R = {R}')\n",
    "    P = [ {x} for x in M ]  # the trivial partition of M\n",
    "    print(f'P = {P}')\n",
    "    for x, y in R:\n",
    "        A = find(x, P) # find A\n",
    "        B = find(y, P) # find B\n",
    "        if A != B:\n",
    "            print(f'{x} ≅ {y}: combining {set(A)} and {set(B)}')\n",
    "            P.remove(A)\n",
    "            P.remove(B)\n",
    "            P.append(A | B)\n",
    "            print(f'P = {P}')\n",
    "    return P"
   ]
  },
  {
   "cell_type": "markdown",
   "metadata": {},
   "source": [
    "Given a partition $\\mathcal{P}$ of a set $M$ and an element $x$ from $M$, the function $\\texttt{find}(x, \\mathcal{P})$ \n",
    "returns the set $S \\in \\mathcal{P}$ such that $x \\in S$."
   ]
  },
  {
   "cell_type": "code",
   "execution_count": 3,
   "metadata": {},
   "outputs": [],
   "source": [
    "def find(x, P):\n",
    "    for S in P:\n",
    "        if x in S:\n",
    "            return S"
   ]
  },
  {
   "cell_type": "code",
   "execution_count": 4,
   "metadata": {},
   "outputs": [],
   "source": [
    "def demo():\n",
    "    M = set(range(1, 9+1))\n",
    "    R = { (1, 4), (7, 9), (3, 5), (2, 6), (5, 8), (1, 9), (4, 7) }\n",
    "    P = union_find(M, R)"
   ]
  },
  {
   "cell_type": "code",
   "execution_count": 5,
   "metadata": {},
   "outputs": [
    {
     "name": "stdout",
     "output_type": "stream",
     "text": [
      "R = {(7, 9), (4, 7), (3, 5), (2, 6), (5, 8), (1, 9), (1, 4)}\n",
      "P = [{1}, {2}, {3}, {4}, {5}, {6}, {7}, {8}, {9}]\n",
      "7 ≅ 9: combining {7} and {9}\n",
      "P = [{1}, {2}, {3}, {4}, {5}, {6}, {8}, {9, 7}]\n",
      "4 ≅ 7: combining {4} and {9, 7}\n",
      "P = [{1}, {2}, {3}, {5}, {6}, {8}, {9, 4, 7}]\n",
      "3 ≅ 5: combining {3} and {5}\n",
      "P = [{1}, {2}, {6}, {8}, {9, 4, 7}, {3, 5}]\n",
      "2 ≅ 6: combining {2} and {6}\n",
      "P = [{1}, {8}, {9, 4, 7}, {3, 5}, {2, 6}]\n",
      "5 ≅ 8: combining {3, 5} and {8}\n",
      "P = [{1}, {9, 4, 7}, {2, 6}, {8, 3, 5}]\n",
      "1 ≅ 9: combining {1} and {9, 4, 7}\n",
      "P = [{2, 6}, {8, 3, 5}, {1, 4, 9, 7}]\n"
     ]
    }
   ],
   "source": [
    "demo()"
   ]
  },
  {
   "cell_type": "code",
   "execution_count": null,
   "metadata": {},
   "outputs": [],
   "source": []
  }
 ],
 "metadata": {
  "kernelspec": {
   "display_name": "Python 3 (ipykernel)",
   "language": "python",
   "name": "python3"
  },
  "language_info": {
   "codemirror_mode": {
    "name": "ipython",
    "version": 3
   },
   "file_extension": ".py",
   "mimetype": "text/x-python",
   "name": "python",
   "nbconvert_exporter": "python",
   "pygments_lexer": "ipython3",
   "version": "3.10.4"
  },
  "varInspector": {
   "cols": {
    "lenName": 16,
    "lenType": 16,
    "lenVar": 40
   },
   "kernels_config": {
    "python": {
     "delete_cmd_postfix": "",
     "delete_cmd_prefix": "del ",
     "library": "var_list.py",
     "varRefreshCmd": "print(var_dic_list())"
    },
    "r": {
     "delete_cmd_postfix": ") ",
     "delete_cmd_prefix": "rm(",
     "library": "var_list.r",
     "varRefreshCmd": "cat(var_dic_list()) "
    }
   },
   "types_to_exclude": [
    "module",
    "function",
    "builtin_function_or_method",
    "instance",
    "_Feature"
   ],
   "window_display": false
  }
 },
 "nbformat": 4,
 "nbformat_minor": 2
}
