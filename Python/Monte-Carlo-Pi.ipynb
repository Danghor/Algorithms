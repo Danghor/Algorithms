{
 "cells": [
  {
   "cell_type": "code",
   "execution_count": null,
   "metadata": {},
   "outputs": [],
   "source": [
    "#%autosave 0\n",
    "from IPython.core.display import HTML, display\n",
    "display(HTML(\"<style>.container { width:100% !important; }</style>\"))"
   ]
  },
  {
   "cell_type": "markdown",
   "metadata": {},
   "source": [
    "# Computing <a href=\"https://en.wikipedia.org/wiki/Pi\">$\\pi$</a> with the Monte-Carlo-Method"
   ]
  },
  {
   "cell_type": "code",
   "execution_count": null,
   "metadata": {},
   "outputs": [],
   "source": [
    "import random as rnd"
   ]
  },
  {
   "cell_type": "markdown",
   "metadata": {},
   "source": [
    "The unit circle $U$ is defined as the set \n",
    "$$U := \\bigl\\{ (x,y) \\in \\mathbb{R}^2 \\bigm| x^2 + y^2 \\leq 1 \\bigr\\}.$$\n",
    "The set $U$ contains those points $(x,y)$ that have distance of $1$ or less from the origin\n",
    "$(0,0)$.  The unit circle is a subset of the square $Q$ that is defined as \n",
    "$$Q := \\bigl\\{ (x,y) \\in \\mathbb{R}^2 \\bigm| -1 \\leq x \\leq +1 \\wedge -1 \\leq y \\leq +1 \\bigr\\}.$$\n",
    "A simple algorithm to compute $\\pi$ works as follows:  We randomly create $n$ points $(x,y) \\in Q$.\n",
    "Then we count the number of points that end up in the unit circle $U$.  Call this number $k$.\n",
    "It is reasonable to assume that approximately $k$ is to $n$ as the area of $U$ is to the area of $Q$.  As the area of $Q$ is\n",
    "$2 \\cdot 2$ and the area of $U$ equals $\\pi \\cdot 1^2$, we should have\n",
    "$$\\frac{k}{n} \\approx \\frac{\\pi}{4}.$$\n",
    "Multiplying by $4$ we get\n",
    "$$\\pi \\approx 4 \\cdot \\frac{k}{n}.$$\n",
    "The function $\\texttt{approximate_pi}(n)$ creates $n$ random points in $Q$ and approximates $\\pi$ as $4 \\cdot \\frac{k}{n}$."
   ]
  },
  {
   "cell_type": "code",
   "execution_count": null,
   "metadata": {},
   "outputs": [],
   "source": [
    "def approximate_pi(n):\n",
    "    k = 0\n",
    "    for _ in range(n):\n",
    "        x = 2 * rnd.random() - 1\n",
    "        y = 2 * rnd.random() - 1\n",
    "        r = x * x + y * y\n",
    "        if r <= 1:\n",
    "            k += 1\n",
    "    return 4 * k / n"
   ]
  },
  {
   "cell_type": "code",
   "execution_count": null,
   "metadata": {},
   "outputs": [],
   "source": [
    "import math"
   ]
  },
  {
   "cell_type": "code",
   "execution_count": null,
   "metadata": {},
   "outputs": [],
   "source": [
    "%%time\n",
    "n = 100\n",
    "while n <= 100000000:\n",
    "    approx_pi = approximate_pi(n)\n",
    "    error     = abs(approx_pi - math.pi)\n",
    "    print('%9d: %6f, error = %6f' % (n, approx_pi, error))\n",
    "    n *= 10"
   ]
  },
  {
   "cell_type": "code",
   "execution_count": null,
   "metadata": {},
   "outputs": [],
   "source": []
  }
 ],
 "metadata": {
  "kernelspec": {
   "display_name": "Python 3",
   "language": "python",
   "name": "python3"
  },
  "language_info": {
   "codemirror_mode": {
    "name": "ipython",
    "version": 3
   },
   "file_extension": ".py",
   "mimetype": "text/x-python",
   "name": "python",
   "nbconvert_exporter": "python",
   "pygments_lexer": "ipython3",
   "version": "3.7.3"
  }
 },
 "nbformat": 4,
 "nbformat_minor": 2
}
