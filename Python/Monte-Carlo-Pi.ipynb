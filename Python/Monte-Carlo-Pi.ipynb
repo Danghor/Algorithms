{
 "cells": [
  {
   "cell_type": "code",
   "execution_count": 1,
   "metadata": {},
   "outputs": [
    {
     "data": {
      "text/html": [
       "<style>.container { width:100% !important; }</style>"
      ],
      "text/plain": [
       "<IPython.core.display.HTML object>"
      ]
     },
     "metadata": {},
     "output_type": "display_data"
    }
   ],
   "source": [
    "#%autosave 0\n",
    "from IPython.core.display import HTML, display\n",
    "display(HTML(\"<style>.container { width:100% !important; }</style>\"))"
   ]
  },
  {
   "cell_type": "markdown",
   "metadata": {},
   "source": [
    "# Computing <a href=\"https://en.wikipedia.org/wiki/Pi\">$\\pi$</a> with the Monte-Carlo-Method"
   ]
  },
  {
   "cell_type": "code",
   "execution_count": 2,
   "metadata": {},
   "outputs": [],
   "source": [
    "import random as rnd\n",
    "import math"
   ]
  },
  {
   "cell_type": "markdown",
   "metadata": {},
   "source": [
    "The unit circle $U$ is defined as the set \n",
    "$$U := \\bigl\\{ (x,y) \\in \\mathbb{R}^2 \\bigm| x^2 + y^2 \\leq 1 \\bigr\\}.$$\n",
    "The set $U$ contains those points $(x,y)$ that have distance of $1$ or less from the origin\n",
    "$(0,0)$.  The unit circle is a subset of the square $Q$ that is defined as \n",
    "$$Q := \\bigl\\{ (x,y) \\in \\mathbb{R}^2 \\bigm| -1 \\leq x \\leq +1 \\wedge -1 \\leq y \\leq +1 \\bigr\\}.$$\n",
    "A simple algorithm to compute $\\pi$ works as follows:  We randomly create $n$ points $(x,y) \\in Q$.\n",
    "Then we count the number of points that end up in the unit circle $U$.  Call this number $k$.\n",
    "It is reasonable to assume that approximately $k$ is to $n$ as the area of $U$ is to the area of $Q$.  As the area of $Q$ is\n",
    "$2 \\cdot 2$ and the area of $U$ equals $\\pi \\cdot 1^2$, we should have\n",
    "$$\\frac{k}{n} \\approx \\frac{\\pi}{4}.$$\n",
    "Multiplying by $4$ we get\n",
    "$$\\pi \\approx 4 \\cdot \\frac{k}{n}.$$\n",
    "The function $\\texttt{approximate_pi}(n)$ creates $n$ random points in $Q$ and approximates $\\pi$ as $4 \\cdot \\frac{k}{n}$."
   ]
  },
  {
   "cell_type": "code",
   "execution_count": 3,
   "metadata": {},
   "outputs": [],
   "source": [
    "def approximate_pi(n):\n",
    "    k = 0\n",
    "    for _ in range(n):\n",
    "        x = 2 * rnd.random() - 1\n",
    "        y = 2 * rnd.random() - 1\n",
    "        r = x * x + y * y\n",
    "        if r <= 1:\n",
    "            k += 1\n",
    "    return 4 * k / n"
   ]
  },
  {
   "cell_type": "markdown",
   "metadata": {},
   "source": [
    "Given a list $L = [x_1, \\cdots, x_n]$, the function $\\texttt{std_and_mean}(L)$ computes the pair $(\\mu, \\sigma)$, where $\\sigma$ is the *sample standard deviation* of $L$, \n",
    "while $\\mu$ is the *mean* of $L$. $\\mu$ and $\\sigma$ are defined as follows:\n",
    "$$ \\mu = \\sum\\limits_{i=1}^n x_i$$\n",
    "$$ \\sigma = \\sqrt{\\sum\\limits_{i=1}^n \\frac{(x_i - \\mu)^2}{N-1}} $$"
   ]
  },
  {
   "cell_type": "code",
   "execution_count": 4,
   "metadata": {},
   "outputs": [],
   "source": [
    "def std_and_mean(L):\n",
    "    N    = len(L)\n",
    "    mean = sum(L) / N\n",
    "    ss    = 0\n",
    "    for x in L:\n",
    "        ss += (x - mean) ** 2 \n",
    "    ss /= (N - 1)\n",
    "    std = math.sqrt(ss)\n",
    "    return mean, std"
   ]
  },
  {
   "cell_type": "markdown",
   "metadata": {},
   "source": [
    "The method $\\texttt{confidence_interval}(k, n)$ runs $k$ approximations of $\\pi$ using $n$ trials in each approximation run.\n",
    "It computes a $97.3\\%$ confidence interval for the value of $\\pi$."
   ]
  },
  {
   "cell_type": "code",
   "execution_count": 5,
   "metadata": {},
   "outputs": [],
   "source": [
    "def confidence_interval(k, n):\n",
    "    L = []\n",
    "    for _ in range(k):\n",
    "        L.append(approximate_pi(n))\n",
    "    𝜇, 𝜎 = std_and_mean(L)\n",
    "    return 𝜇 - 3 * 𝜎, 𝜇, 𝜇 + 3 * 𝜎"
   ]
  },
  {
   "cell_type": "code",
   "execution_count": 6,
   "metadata": {},
   "outputs": [
    {
     "name": "stdout",
     "output_type": "stream",
     "text": [
      "      100: 2.630493 < 𝜋 < 3.645507, 𝜋 ≈ 3.138000, error: 0.003593\n",
      "     1000: 2.987113 < 𝜋 < 3.297847, 𝜋 ≈ 3.142480, error: 0.000887\n",
      "    10000: 3.092212 < 𝜋 < 3.190484, 𝜋 ≈ 3.141348, error: 0.000245\n",
      "   100000: 3.124077 < 𝜋 < 3.156233, 𝜋 ≈ 3.140155, error: 0.001438\n",
      "  1000000: 3.137091 < 𝜋 < 3.145157, 𝜋 ≈ 3.141124, error: 0.000469\n",
      " 10000000: 3.140086 < 𝜋 < 3.143055, 𝜋 ≈ 3.141571, error: 0.000022\n",
      "CPU times: user 6min 37s, sys: 469 ms, total: 6min 37s\n",
      "Wall time: 6min 38s\n"
     ]
    }
   ],
   "source": [
    "%%time\n",
    "n = 100\n",
    "while n <= 10000000:\n",
    "    lower, pi, upper = confidence_interval(100, n)\n",
    "    print('%9d: %6f < 𝜋 < %6f, 𝜋 ≈ %6f, error: %6f' % (n, lower, upper, pi, abs(pi - math.pi)))\n",
    "    n *= 10"
   ]
  },
  {
   "cell_type": "code",
   "execution_count": null,
   "metadata": {},
   "outputs": [],
   "source": []
  }
 ],
 "metadata": {
  "kernelspec": {
   "display_name": "Python 3",
   "language": "python",
   "name": "python3"
  },
  "language_info": {
   "codemirror_mode": {
    "name": "ipython",
    "version": 3
   },
   "file_extension": ".py",
   "mimetype": "text/x-python",
   "name": "python",
   "nbconvert_exporter": "python",
   "pygments_lexer": "ipython3",
   "version": "3.7.3"
  },
  "latex_envs": {
   "LaTeX_envs_menu_present": true,
   "autoclose": false,
   "autocomplete": true,
   "bibliofile": "biblio.bib",
   "cite_by": "apalike",
   "current_citInitial": 1,
   "eqLabelWithNumbers": true,
   "eqNumInitial": 1,
   "hotkeys": {
    "equation": "Ctrl-E",
    "itemize": "Ctrl-I"
   },
   "labels_anchors": false,
   "latex_user_defs": false,
   "report_style_numbering": false,
   "user_envs_cfg": false
  },
  "toc": {
   "base_numbering": 1,
   "nav_menu": {},
   "number_sections": true,
   "sideBar": true,
   "skip_h1_title": false,
   "title_cell": "Table of Contents",
   "title_sidebar": "Contents",
   "toc_cell": false,
   "toc_position": {},
   "toc_section_display": true,
   "toc_window_display": false
  },
  "varInspector": {
   "cols": {
    "lenName": 16,
    "lenType": 16,
    "lenVar": 40
   },
   "kernels_config": {
    "python": {
     "delete_cmd_postfix": "",
     "delete_cmd_prefix": "del ",
     "library": "var_list.py",
     "varRefreshCmd": "print(var_dic_list())"
    },
    "r": {
     "delete_cmd_postfix": ") ",
     "delete_cmd_prefix": "rm(",
     "library": "var_list.r",
     "varRefreshCmd": "cat(var_dic_list()) "
    }
   },
   "position": {
    "height": "199.6666717529297px",
    "left": "1344px",
    "right": "20px",
    "top": "120px",
    "width": "342.6666564941406px"
   },
   "types_to_exclude": [
    "module",
    "function",
    "builtin_function_or_method",
    "instance",
    "_Feature"
   ],
   "window_display": true
  }
 },
 "nbformat": 4,
 "nbformat_minor": 2
}
