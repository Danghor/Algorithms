{
 "cells": [
  {
   "cell_type": "code",
   "execution_count": null,
   "metadata": {},
   "outputs": [],
   "source": [
    "#%autosave 0\n",
    "from IPython.core.display import HTML, display\n",
    "display(HTML('<style>.container { width:100%; !important } </style>'))"
   ]
  },
  {
   "cell_type": "markdown",
   "metadata": {},
   "source": [
    "# Kruskal's Algorithm for Computing the Minimum Spanning Tree"
   ]
  },
  {
   "cell_type": "markdown",
   "metadata": {},
   "source": [
    "In our implementation of **Kruskal's algorithm** for finding the *minimum spanning tree* we use the *union-find* data structure that we have defined previously."
   ]
  },
  {
   "cell_type": "code",
   "execution_count": null,
   "metadata": {},
   "outputs": [],
   "source": [
    "import union_find_oo as uf"
   ]
  },
  {
   "cell_type": "markdown",
   "metadata": {},
   "source": [
    "Furthermore, we need a priority queue."
   ]
  },
  {
   "cell_type": "code",
   "execution_count": null,
   "metadata": {},
   "outputs": [],
   "source": [
    "import heapq as hq"
   ]
  },
  {
   "cell_type": "markdown",
   "metadata": {},
   "source": [
    "The function $\\texttt{mst}(V, E)$ takes a set of nodes $V$ and a set of weighted edges $E$ to compute a minimum spanning tree.  It is assumed that the pair $(V, E)$ represents a weighted graph $G$ that is **connected**.  The weighted edges in the set $E$ have the form\n",
    "$$ \\bigl(w, (x, y)\\bigr).  $$\n",
    "Here, $x$ and $y$ are nodes from the set $V$, while $w$ is the cost of the edge $\\{x,y\\}$.\n",
    "The algorithm returns a set of weighted edges that define a minimum spanning tree of $G$."
   ]
  },
  {
   "cell_type": "code",
   "execution_count": null,
   "metadata": {},
   "outputs": [],
   "source": [
    "def mst(V, E):\n",
    "    UF  = uf.UnionFind(V)\n",
    "    MST = set()         # minimum spaning tree\n",
    "    H   = []            # empty priority queue for weighted edges\n",
    "    for edge in E:\n",
    "        hq.heappush(H, edge)\n",
    "    while True:\n",
    "        w, (x, y) = hq.heappop(H)\n",
    "        print(f'testing {x} - {y}, weight {w}')\n",
    "        root_x = UF.find(x)\n",
    "        root_y = UF.find(y)\n",
    "        if root_x != root_y:\n",
    "            print(f'connect {x} - {y}')\n",
    "            MST.add((w, (x, y)))\n",
    "            UF.union(x, y)\n",
    "            display(toDot(E, MST))\n",
    "            print('_' * 100)\n",
    "            if len(MST) == len(V) - 1:\n",
    "                return MST"
   ]
  },
  {
   "cell_type": "code",
   "execution_count": null,
   "metadata": {},
   "outputs": [],
   "source": [
    "import graphviz as gv"
   ]
  },
  {
   "cell_type": "markdown",
   "metadata": {},
   "source": [
    "Given a set $E$ of weighted edges, the function $\\texttt{toDot}$ transforms this set into a dot structure that can be displayed as a graph.  The edges that are present in the set $H$ are assumed to be the edges that are part of the minimum spanning tree and therefore are highlighted."
   ]
  },
  {
   "cell_type": "code",
   "execution_count": null,
   "metadata": {},
   "outputs": [],
   "source": [
    "def toDot(E, H):\n",
    "    V = set()\n",
    "    for (_, (x, y)) in E:\n",
    "        V.add(x)\n",
    "        V.add(y)\n",
    "    dot = gv.Graph()\n",
    "    for x in V:\n",
    "        dot.node(str(x))\n",
    "    for (w, (x, y)) in E:\n",
    "        if (w, (x, y)) in H:\n",
    "            dot.edge(str(x), str(y), label=str(w), color='blue', penwidth='2')\n",
    "        else:\n",
    "            dot.edge(str(x), str(y), label=str(w), style='dashed')\n",
    "    return dot"
   ]
  },
  {
   "cell_type": "code",
   "execution_count": null,
   "metadata": {},
   "outputs": [],
   "source": [
    "def demoFile(fn):\n",
    "    with open(fn, 'r') as file:\n",
    "        data = file.readlines()\n",
    "    Edges = set()\n",
    "    Nodes = set()\n",
    "    for line in data:\n",
    "        x, y, weight = line.split()\n",
    "        Edges.add( (int(weight), (int(x), int(y))) )\n",
    "        Nodes.add( int(x) )\n",
    "        Nodes.add( int(y) )\n",
    "    MST = mst(Nodes, Edges);\n",
    "    print(MST)\n",
    "    return toDot(Edges, MST)"
   ]
  },
  {
   "cell_type": "code",
   "execution_count": null,
   "metadata": {
    "scrolled": false
   },
   "outputs": [],
   "source": [
    "MST = demoFile(\"tiny.txt\")\n",
    "MST"
   ]
  },
  {
   "cell_type": "code",
   "execution_count": null,
   "metadata": {},
   "outputs": [],
   "source": []
  }
 ],
 "metadata": {
  "kernelspec": {
   "display_name": "Python 3",
   "language": "python",
   "name": "python3"
  },
  "language_info": {
   "codemirror_mode": {
    "name": "ipython",
    "version": 3
   },
   "file_extension": ".py",
   "mimetype": "text/x-python",
   "name": "python",
   "nbconvert_exporter": "python",
   "pygments_lexer": "ipython3",
   "version": "3.6.7"
  }
 },
 "nbformat": 4,
 "nbformat_minor": 2
}
