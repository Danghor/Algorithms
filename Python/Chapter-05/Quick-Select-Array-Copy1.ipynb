{
 "cells": [
  {
   "cell_type": "code",
   "execution_count": 1,
   "metadata": {},
   "outputs": [
    {
     "data": {
      "text/html": [
       "<link href='http://fonts.googleapis.com/css?family=Alegreya+Sans:100,300,400,500,700,800,900,100italic,300italic,400italic,500italic,700italic,800italic,900italic' rel='stylesheet' type='text/css'>\n",
       "<link href='http://fonts.googleapis.com/css?family=Arvo:400,700,400italic' rel='stylesheet' type='text/css'>\n",
       "<link href='http://fonts.googleapis.com/css?family=PT+Mono' rel='stylesheet' type='text/css'>\n",
       "<link href='http://fonts.googleapis.com/css?family=Shadows+Into+Light' rel='stylesheet' type='text/css'>\n",
       "<link href='http://fonts.googleapis.com/css?family=Philosopher:400,700,400italic,700italic' rel='stylesheet' type='text/css'>\n",
       "\n",
       "<style>\n",
       "\n",
       "@font-face {\n",
       "    font-family: \"Computer Modern\";\n",
       "    src: url('http://mirrors.ctan.org/fonts/cm-unicode/fonts/otf/cmunss.otf');\n",
       "}\n",
       "\n",
       ".container { width: 100% }\n",
       "\n",
       "/* Formatting for header cells */\n",
       ".text_cell_render h1 {\n",
       "    font-family: 'Philosopher', sans-serif;\n",
       "    font-weight: 400;\n",
       "    font-size: 2.2em;\n",
       "    line-height: 100%;\n",
       "    color: rgb(0, 80, 120);\n",
       "    margin-bottom: 0.1em;\n",
       "    margin-top: 0.1em;\n",
       "    display: block;\n",
       "}\t\n",
       ".text_cell_render h2 {\n",
       "    font-family: 'Philosopher', serif;\n",
       "    font-weight: 400;\n",
       "    font-size: 1.9em;\n",
       "    line-height: 100%;\n",
       "    color: rgb(200,100,0);\n",
       "    margin-bottom: 0.1em;\n",
       "    margin-top: 0.1em;\n",
       "    display: block;\n",
       "}\t\n",
       "\n",
       ".text_cell_render h3 {\n",
       "    font-family: 'Philosopher', serif;\n",
       "    margin-top:12px;\n",
       "    margin-bottom: 3px;\n",
       "    font-style: italic;\n",
       "    color: rgb(94,127,192);\n",
       "}\n",
       "\n",
       ".text_cell_render h4 {\n",
       "    font-family: 'Philosopher', serif;\n",
       "}\n",
       "\n",
       ".text_cell_render h5 {\n",
       "    font-family: 'Alegreya Sans', sans-serif;\n",
       "    font-weight: 300;\n",
       "    font-size: 16pt;\n",
       "    color: grey;\n",
       "    font-style: italic;\n",
       "    margin-bottom: .1em;\n",
       "    margin-top: 0.1em;\n",
       "    display: block;\n",
       "}\n",
       "\n",
       ".text_cell_render h6 {\n",
       "    font-family: 'PT Mono', sans-serif;\n",
       "    font-weight: 300;\n",
       "    font-size: 10pt;\n",
       "    color: grey;\n",
       "    margin-bottom: 1px;\n",
       "    margin-top: 1px;\n",
       "}\n",
       "\n",
       ".text_cell_render em {\n",
       "    font-family: 'Philosopher', sans-serif;\n",
       "    color:        blue;\n",
       "    background-color: rgb(255,220,180);\n",
       "    font-size:    110%;\n",
       "    margin-left:   2px;\n",
       "    margin-right:  2px;\n",
       "    font-weight:   100;\n",
       "}\n",
       "\n",
       ".text_cell_render b {\n",
       "    color:            rgb(255,195,195);\n",
       "    background-color: rgb(0,0,0);\n",
       "    font-size:    110%;\n",
       "    margin-left:   2px;\n",
       "    margin-right:  2px;\n",
       "    font-weight:   650;\n",
       "}\n",
       "\n",
       ".text_cell_render tt {\n",
       "    font-size:    120%;\n",
       "    margin-left:   2px;\n",
       "    margin-right:  2px;\n",
       "    font-weight:   150;\n",
       "}\n",
       "\n",
       ".Codemirror {\n",
       "    font-family: \"PT Mono\";\n",
       "    font-size: 100%;\n",
       "}\n",
       "\n",
       "</style>\n",
       "\n"
      ],
      "text/plain": [
       "<IPython.core.display.HTML object>"
      ]
     },
     "execution_count": 1,
     "metadata": {},
     "output_type": "execute_result"
    }
   ],
   "source": [
    "from IPython.core.display import HTML\n",
    "with open('../style.css') as file:\n",
    "    css = file.read()\n",
    "HTML(css)"
   ]
  },
  {
   "cell_type": "markdown",
   "metadata": {},
   "source": [
    "The function `logging` is used as a *decorator*.  It takes a function \n",
    "`f` as its argument and returns a new function `logged_f` that returns \n",
    "the same result as the function `f`, but additionally it prints its arguments before the function is called and when the function returns, the result is printed."
   ]
  },
  {
   "cell_type": "code",
   "execution_count": 2,
   "metadata": {},
   "outputs": [],
   "source": [
    "def logging(f):\n",
    "    def logged_f(*a):\n",
    "        print(f'{f.__name__}{a}')\n",
    "        r = f(*a)\n",
    "        print(f'{f.__name__}{a} = {r}')\n",
    "        return r\n",
    "    return logged_f"
   ]
  },
  {
   "cell_type": "markdown",
   "metadata": {},
   "source": [
    "# An Array-Based Implementation of QuickSelect"
   ]
  },
  {
   "cell_type": "markdown",
   "metadata": {},
   "source": [
    "The function `quickSelect` takes two arguments:\n",
    "* `L` is a list of numbers,\n",
    "* `k` is a natural number such that `k <= len(L)`. \n",
    "\n",
    "The function call `quickSelect(L, k)` returns a list of length `k` that contains the `k` smallest\n",
    "elements of `L`, i.e. it satisfies the following specification:\n",
    "- `len(quickSelect(L, k)) = k`,\n",
    "- `set(quickSelect(L, k)) = set(sorted(L)[:k])`."
   ]
  },
  {
   "cell_type": "code",
   "execution_count": 3,
   "metadata": {},
   "outputs": [],
   "source": [
    "def select(L, k):\n",
    "    return quickSelect(0, len(L) - 1, L, k)"
   ]
  },
  {
   "cell_type": "markdown",
   "metadata": {},
   "source": [
    "The function `quickSelect(start, end, L, k)` takes four arguments:\n",
    "* `start` is an index into the list `L`,\n",
    "* `end`   is an index into the list `L`,\n",
    "* `L`     is a list of objects that can be compared using the operators `<` or `<=`,\n",
    "* `k`     is a natural number such that `k ≤ len(L)`.\n",
    "\n",
    "The function call `quickSelect(start, end, L, k)` returns a list of length `k` that contains \n",
    "the `k` smallest elements of `L[start:end+1]`."
   ]
  },
  {
   "cell_type": "markdown",
   "metadata": {},
   "source": [
    "The implementation of `quickSelect(start, end, L, k)` can be specified recursively via the following equations.\n",
    "To simplify these equations we first define\n",
    "$$ n := \\texttt{len}(\\texttt{L[start:end+1]}) = \\texttt{end}+1 - \\texttt{start}. $$\n",
    "1. $n < k \\rightarrow \\texttt{quickSelect}(\\texttt{start}, \\texttt{end}, \\texttt{L}, \\texttt{k}) = \\Omega$,\n",
    "\n",
    "   because when the length of `L[start:end+1]` is less than `k` there is no way to select the `k` smallest\n",
    "   elements from `L[start:end+1]`.\n",
    "2. $n = k \\rightarrow \\texttt{quickSelect}(\\texttt{start}, \\texttt{end}, \\texttt{L}, \\texttt{k}) = \\texttt{L[start:end+1]}$,\n",
    "\n",
    "   because when the list `L[start:end+1]` has exactly `k` elements, then the `k` smallest elements of \n",
    "   `L[start:end+1]` are all elements of `L[start:end+1]`.\n",
    "3. Otherwise we *partition* `L[start:end+1]` as in *QuickSort*, i.e. we define\n",
    "   $$ m := \\texttt{partition}(\\texttt{start}, \\texttt{end}, \\texttt{L}). $$\n",
    "   After the partitioning all elements in `L[start:m]` are less or equal than the *pivot element* `L[m]` \n",
    "   and all elements in `L[m+1:end+1]` are bigger than `L[m]`.\n",
    "   Then there are three cases:\n",
    "   - $k \\leq \\texttt{len(L[start:m])} \\rightarrow \\texttt{quickSelect}(\\texttt{start}, \\texttt{end}, \\texttt{L}, \\texttt{k}) = \n",
    "                                                  \\texttt{quickSelect}(\\texttt{start}, \\texttt{m}-1, \\texttt{L}, \\texttt{k})$,\n",
    "   - $k = \\texttt{len(L[start:m+1])} \\rightarrow \\texttt{quickSelect}(\\texttt{start}, \\texttt{end}, \\texttt{L}, \\texttt{k}) = \\texttt{L[start:m+1]}$,\n",
    "   - $k > \\texttt{len(L[start:m+1])} \\rightarrow \n",
    "      \\texttt{quickSelect}(\\texttt{L}, \\texttt{k}) = \\texttt{L[start:m+1]} + \n",
    "                                   \\texttt{quickSelect}(m+1, \\texttt{end}, \\texttt{L}, \\texttt{k} - \\texttt{len(L[start:m+1])})$\n",
    "      \n",
    "To implement these equations we observe that $\\texttt{len(L[start:m+1])} = m + 1 - \\texttt{start}$."
   ]
  },
  {
   "cell_type": "code",
   "execution_count": 4,
   "metadata": {},
   "outputs": [],
   "source": [
    "#@logging\n",
    "def quickSelect(start, end, L, k):\n",
    "    n = end + 1 - start\n",
    "    assert k <= n, f'quickSelect({start}, {end}, {L}, {k})'\n",
    "    if n == k:\n",
    "        return L[start:end+1]\n",
    "    m = partition(start, end, L)  # m is the split index\n",
    "    if k <= m - start:\n",
    "        return quickSelect(start, m-1, L, k)\n",
    "    if k == m + 1 - start:\n",
    "        return L[start:m+1]\n",
    "    return L[start:m+1] + quickSelect(m+1, end, L, k - (m+1 - start))"
   ]
  },
  {
   "cell_type": "markdown",
   "metadata": {},
   "source": [
    "The function $\\texttt{partition}(\\texttt{start}, \\texttt{end}, L)$ returns an index $m$ into the list $L$ and \n",
    "regroups the elements of $L$ such that after the function returns the following holds:\n",
    " \n",
    "  - $\\forall i \\in \\{\\texttt{start}, \\cdots, m-1\\} : L[i] \\leq L[m]$,\n",
    "  - $\\forall i \\in \\{ m+1, \\cdots, \\texttt{end} \\}  : L[m] <    L[i]$,\n",
    "  - $L[m] = \\texttt{pivot}$.\n",
    "  \n",
    "Here, $\\texttt{pivot}$ is the element that is at the index $\\texttt{end}$ at the time of the invocation \n",
    "of the function, i.e. we have\n",
    "\n",
    "  - $L[\\texttt{end}] = \\texttt{pivot}$\n",
    "  \n",
    "at invocation time.\n",
    "  \n",
    "The for-loop of `partition` maintains the following invariants:\n",
    "\n",
    " - $\\forall i \\in \\{\\texttt{start}, \\cdots, \\texttt{left} \\} : L[i] \\leq \\texttt{pivot}$,\n",
    " - $\\forall i \\in \\{\\texttt{left}+1, \\cdots, \\texttt{idx}-1\\} : \\texttt{pivot} < L[i]$,\n",
    " - $L[\\texttt{end}] = \\texttt{pivot}$.\n",
    " \n",
    "This algorithm has been suggested by *Nico Lomuto*.  It is not the most efficient implementation of `partition`, but\n",
    "it is easier to understand than the algorithm given by *Tony Hoare* that uses two separate loops."
   ]
  },
  {
   "cell_type": "code",
   "execution_count": 5,
   "metadata": {},
   "outputs": [],
   "source": [
    "def partition(start, end, L):\n",
    "    pivot = L[end]\n",
    "    left  = start - 1\n",
    "    for idx in range(start, end):\n",
    "        if L[idx] <= pivot:\n",
    "            left += 1\n",
    "            swap(left, idx, L)\n",
    "    swap(left + 1, end, L)\n",
    "    return left + 1"
   ]
  },
  {
   "cell_type": "markdown",
   "metadata": {},
   "source": [
    "The function $\\texttt{swap}(x, y, L)$ swaps the elements at index $x$ and $y$ in $L$."
   ]
  },
  {
   "cell_type": "code",
   "execution_count": 6,
   "metadata": {},
   "outputs": [],
   "source": [
    "def swap(x, y, L):\n",
    "    L[x], L[y] = L[y], L[x]"
   ]
  },
  {
   "cell_type": "markdown",
   "metadata": {},
   "source": [
    "## Testing"
   ]
  },
  {
   "cell_type": "code",
   "execution_count": 7,
   "metadata": {},
   "outputs": [
    {
     "data": {
      "text/plain": [
       "[4, 7]"
      ]
     },
     "execution_count": 7,
     "metadata": {},
     "output_type": "execute_result"
    }
   ],
   "source": [
    "L = [7, 8, 11, 4]\n",
    "select(0L, 2)"
   ]
  },
  {
   "cell_type": "code",
   "execution_count": 8,
   "metadata": {},
   "outputs": [],
   "source": [
    "import random as rnd\n",
    "rnd.seed(42)"
   ]
  },
  {
   "cell_type": "markdown",
   "metadata": {},
   "source": [
    "The function `test_list(n, m)` generates `n` random lists `L` of length `m` and checks whether \n",
    "`quickSelect(L, k)` satisfies its specification.  Here, the number `k` is a random number less \n",
    "than or equal to the length of the list."
   ]
  },
  {
   "cell_type": "code",
   "execution_count": 9,
   "metadata": {},
   "outputs": [],
   "source": [
    "def testSelect(n, m):\n",
    "    for i in range(n):\n",
    "        L = [ rnd.randrange(2*m) for x in range(m) ]\n",
    "        k = rnd.randrange(m)\n",
    "        C = L[:]\n",
    "        S = select(C, k)\n",
    "        assert len(S) == k, f'{S} = select({L}, {k})'\n",
    "        assert set(sorted(L)[:k]) == set(S)\n",
    "        print('.', end='')\n",
    "    print()\n",
    "    print(\"All tests successful!\")"
   ]
  },
  {
   "cell_type": "code",
   "execution_count": 10,
   "metadata": {},
   "outputs": [
    {
     "name": "stdout",
     "output_type": "stream",
     "text": [
      "....................................................................................................\n",
      "All tests successful!\n",
      "CPU times: user 12.7 s, sys: 101 ms, total: 12.8 s\n",
      "Wall time: 12.8 s\n"
     ]
    }
   ],
   "source": [
    "%%time\n",
    "testSelect(100, 100_000)"
   ]
  },
  {
   "cell_type": "markdown",
   "metadata": {},
   "source": [
    "## Performance Testing"
   ]
  },
  {
   "cell_type": "code",
   "execution_count": 13,
   "metadata": {},
   "outputs": [
    {
     "name": "stdout",
     "output_type": "stream",
     "text": [
      "CPU times: user 752 ms, sys: 9.84 ms, total: 762 ms\n",
      "Wall time: 762 ms\n"
     ]
    }
   ],
   "source": [
    "%%time\n",
    "k = 1_000_000\n",
    "L = [ rnd.randrange(1000 * k) for x in range(k) ]\n",
    "S = select(L, 1500)"
   ]
  },
  {
   "cell_type": "markdown",
   "metadata": {},
   "source": [
    "This is quite a lot faster than to sort the list and extract the first $k$ elements from the sorted list."
   ]
  },
  {
   "cell_type": "code",
   "execution_count": null,
   "metadata": {},
   "outputs": [],
   "source": []
  }
 ],
 "metadata": {
  "kernelspec": {
   "display_name": "Python 3",
   "language": "python",
   "name": "python3"
  },
  "language_info": {
   "codemirror_mode": {
    "name": "ipython",
    "version": 3
   },
   "file_extension": ".py",
   "mimetype": "text/x-python",
   "name": "python",
   "nbconvert_exporter": "python",
   "pygments_lexer": "ipython3",
   "version": "3.9.0"
  },
  "varInspector": {
   "cols": {
    "lenName": 16,
    "lenType": 16,
    "lenVar": 40
   },
   "kernels_config": {
    "python": {
     "delete_cmd_postfix": "",
     "delete_cmd_prefix": "del ",
     "library": "var_list.py",
     "varRefreshCmd": "print(var_dic_list())"
    },
    "r": {
     "delete_cmd_postfix": ") ",
     "delete_cmd_prefix": "rm(",
     "library": "var_list.r",
     "varRefreshCmd": "cat(var_dic_list()) "
    }
   },
   "types_to_exclude": [
    "module",
    "function",
    "builtin_function_or_method",
    "instance",
    "_Feature"
   ],
   "window_display": false
  }
 },
 "nbformat": 4,
 "nbformat_minor": 2
}
