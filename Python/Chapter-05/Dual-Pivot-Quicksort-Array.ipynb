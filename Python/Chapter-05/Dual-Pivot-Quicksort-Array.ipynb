{
 "cells": [
  {
   "cell_type": "code",
   "execution_count": null,
   "metadata": {},
   "outputs": [],
   "source": [
    "from IPython.core.display import HTML\n",
    "with open('../style.css') as file:\n",
    "    css = file.read()\n",
    "HTML(css)"
   ]
  },
  {
   "cell_type": "markdown",
   "metadata": {},
   "source": [
    "# An Array-Based Implementation of Dual-Pivot-Quicksort"
   ]
  },
  {
   "cell_type": "code",
   "execution_count": null,
   "metadata": {},
   "outputs": [],
   "source": [
    "import random as rnd"
   ]
  },
  {
   "cell_type": "markdown",
   "metadata": {},
   "source": [
    "The function $\\texttt{sort}(L)$ sorts the list $L$ in place."
   ]
  },
  {
   "cell_type": "code",
   "execution_count": null,
   "metadata": {},
   "outputs": [],
   "source": [
    "def sort(L):\n",
    "    quickSort(0, len(L) - 1, L)"
   ]
  },
  {
   "cell_type": "markdown",
   "metadata": {},
   "source": [
    "The function $\\texttt{quickSort}(a, b, L)$ sorts the sublist $L[a:b+1]$ in place."
   ]
  },
  {
   "cell_type": "code",
   "execution_count": null,
   "metadata": {},
   "outputs": [],
   "source": [
    "def quickSort(a, b, L):\n",
    "    if b <= a:\n",
    "        return  # at most one element, nothing to do\n",
    "    x1, x2 = L[a], L[b]\n",
    "    if x1 > x2:\n",
    "        swap(a, b, L)\n",
    "    m1, m2 = partition(a, b, L)  # m is the split index\n",
    "    quickSort(a, m1 - 1, L)\n",
    "    if L[m1] != L[m2]:\n",
    "        quickSort(m1 + 1, m2 - 1, L)\n",
    "    quickSort(m2 + 1, b, L)"
   ]
  },
  {
   "cell_type": "markdown",
   "metadata": {},
   "source": [
    "The function $\\texttt{partition}(\\texttt{start}, \\texttt{end}, L)$ returns two indices $m_1$ and $m_2$ \n",
    "into the list $L$ and regroups the elements of $L$ such that after the function returns the following holds:\n",
    " \n",
    "  - $\\forall i \\in \\{\\texttt{start}, \\cdots, m_1-1\\} : L[i]    <   L[m_1]$,\n",
    "  - $\\forall i \\in \\{ m_1+1, \\cdots, m_2-1 \\}        : L[m_1] \\leq L[i] \\leq L[m_2]$,\n",
    "  - $\\forall i \\in \\{ m_2+1, \\cdots, \\texttt{end} \\} : L[m_2]  <   L[i]$,\n",
    "  - $L[m_1] = p_1$,\n",
    "  - $L[m_2] = p_2$.\n",
    "\n",
    "Here, $p_1$ is the element that is at the index $\\texttt{start}$ at the time of the invocation \n",
    "of the function, while $p_2$ is the elements at index $\\texttt{end}$.  It is assumed that $p_1 \\leq p_2$.\n",
    "  \n",
    "The for-loop of `partition` maintains the following invariants:\n",
    "\n",
    " - $L[\\texttt{start}] = p_1$,\n",
    " - $L[\\texttt{end}]   = p_2$,\n",
    " - $\\forall i \\in \\{\\texttt{start} + 1, \\cdots, \\texttt{idxLeft} \\} : L[i] < p_1$\n",
    " - $\\forall i \\in \\{\\texttt{idxLeft} + 1, \\cdots, \\texttt{idxMiddle} - 1\\} : p_1 \\leq L[i] \\leq p_2$\n",
    " - $\\forall i \\in \\{\\texttt{idxRight}, \\cdots, \\texttt{end}-1\\} : p_2 < L[i]$\n",
    " "
   ]
  },
  {
   "cell_type": "code",
   "execution_count": null,
   "metadata": {},
   "outputs": [],
   "source": [
    "def partition(start, end, L):\n",
    "    p1 = L[start]\n",
    "    p2 = L[end]\n",
    "    idxLeft   = start\n",
    "    idxMiddle = start + 1\n",
    "    idxRight  = end\n",
    "    while idxMiddle < idxRight:\n",
    "        x = L[idxMiddle]\n",
    "        if x < p1:\n",
    "            idxLeft += 1\n",
    "            swap(idxLeft, idxMiddle, L)\n",
    "            idxMiddle += 1\n",
    "        elif x <= p2:\n",
    "            idxMiddle += 1\n",
    "        else: \n",
    "            idxRight -= 1\n",
    "            swap(idxMiddle, idxRight, L)\n",
    "    swap(start, idxLeft, L)\n",
    "    swap(end, idxRight, L)\n",
    "    return idxLeft, idxRight"
   ]
  },
  {
   "cell_type": "markdown",
   "metadata": {},
   "source": [
    "The function $\\texttt{swap}(x, y, L)$ swaps the elements at index $x$ and $y$ in $L$."
   ]
  },
  {
   "cell_type": "code",
   "execution_count": null,
   "metadata": {},
   "outputs": [],
   "source": [
    "def swap(x, y, L):\n",
    "    L[x], L[y] = L[y], L[x]"
   ]
  },
  {
   "cell_type": "markdown",
   "metadata": {},
   "source": [
    "## Testing"
   ]
  },
  {
   "cell_type": "code",
   "execution_count": null,
   "metadata": {},
   "outputs": [],
   "source": [
    "L = [5, 7, 9, 1, 24, 11, 5, 2, 5, 8, 2, 13, 9]\n",
    "print(L)\n",
    "p1, p2 = partition(0, len(L) - 1, L)\n",
    "print(L[:p1], L[p1], L[p1+1:p2], L[p2], L[p2+1:])"
   ]
  },
  {
   "cell_type": "code",
   "execution_count": null,
   "metadata": {},
   "outputs": [],
   "source": [
    "def demo():\n",
    "    L = [ rnd.randrange(1, 200) for n in range(1, 16) ]\n",
    "    print(\"L = \", L)\n",
    "    sort(L)\n",
    "    print(\"L = \", L)"
   ]
  },
  {
   "cell_type": "code",
   "execution_count": null,
   "metadata": {},
   "outputs": [],
   "source": [
    "demo()"
   ]
  },
  {
   "cell_type": "code",
   "execution_count": null,
   "metadata": {},
   "outputs": [],
   "source": [
    "def isOrdered(L):\n",
    "    for i in range(len(L) - 1):\n",
    "        assert L[i] <= L[i+1]"
   ]
  },
  {
   "cell_type": "code",
   "execution_count": null,
   "metadata": {},
   "outputs": [],
   "source": [
    "from collections import Counter"
   ]
  },
  {
   "cell_type": "code",
   "execution_count": null,
   "metadata": {},
   "outputs": [],
   "source": [
    "def sameElements(L, S):\n",
    "    assert Counter(L) == Counter(S)"
   ]
  },
  {
   "cell_type": "markdown",
   "metadata": {},
   "source": [
    "The function $\\texttt{testSort}(n, k)$ generates $n$ random lists of length $k$, sorts them, and checks whether the output is sorted and contains the same elements as the input."
   ]
  },
  {
   "cell_type": "code",
   "execution_count": null,
   "metadata": {},
   "outputs": [],
   "source": [
    "def testSort(n, k):\n",
    "    for i in range(n):\n",
    "        L = [ rnd.randrange(2*k) for x in range(k) ]\n",
    "        oldL = L[:]\n",
    "        sort(L)\n",
    "        isOrdered(L)\n",
    "        sameElements(oldL, L)\n",
    "        assert len(L) == len(oldL)\n",
    "        print('.', end='')\n",
    "    print()\n",
    "    print(\"All tests successful!\")"
   ]
  },
  {
   "cell_type": "code",
   "execution_count": null,
   "metadata": {},
   "outputs": [],
   "source": [
    "%%time\n",
    "testSort(100, 20_000)"
   ]
  },
  {
   "cell_type": "markdown",
   "metadata": {},
   "source": [
    "Next, we sort a million random integers."
   ]
  },
  {
   "cell_type": "code",
   "execution_count": null,
   "metadata": {},
   "outputs": [],
   "source": [
    "%%timeit\n",
    "k = 1_000_000\n",
    "L = [ rnd.randrange(2 * k) for x in range(k) ]\n",
    "sort(L)"
   ]
  },
  {
   "cell_type": "markdown",
   "metadata": {},
   "source": [
    "Again, we sort a million integers.  This time, many of the integers have the same value."
   ]
  },
  {
   "cell_type": "code",
   "execution_count": null,
   "metadata": {},
   "outputs": [],
   "source": [
    "%%timeit\n",
    "k = 1_000_000\n",
    "L = [ rnd.randrange(1000) for x in range(k) ]\n",
    "sort(L)"
   ]
  },
  {
   "cell_type": "code",
   "execution_count": null,
   "metadata": {},
   "outputs": [],
   "source": []
  }
 ],
 "metadata": {
  "kernelspec": {
   "display_name": "Python 3",
   "language": "python",
   "name": "python3"
  },
  "language_info": {
   "codemirror_mode": {
    "name": "ipython",
    "version": 3
   },
   "file_extension": ".py",
   "mimetype": "text/x-python",
   "name": "python",
   "nbconvert_exporter": "python",
   "pygments_lexer": "ipython3",
   "version": "3.9.4"
  },
  "varInspector": {
   "cols": {
    "lenName": 16,
    "lenType": 16,
    "lenVar": 40
   },
   "kernels_config": {
    "python": {
     "delete_cmd_postfix": "",
     "delete_cmd_prefix": "del ",
     "library": "var_list.py",
     "varRefreshCmd": "print(var_dic_list())"
    },
    "r": {
     "delete_cmd_postfix": ") ",
     "delete_cmd_prefix": "rm(",
     "library": "var_list.r",
     "varRefreshCmd": "cat(var_dic_list()) "
    }
   },
   "types_to_exclude": [
    "module",
    "function",
    "builtin_function_or_method",
    "instance",
    "_Feature"
   ],
   "window_display": false
  }
 },
 "nbformat": 4,
 "nbformat_minor": 2
}
