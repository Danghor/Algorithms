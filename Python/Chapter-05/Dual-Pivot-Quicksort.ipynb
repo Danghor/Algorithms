{
 "cells": [
  {
   "cell_type": "code",
   "execution_count": null,
   "metadata": {},
   "outputs": [],
   "source": [
    "from IPython.core.display import HTML\n",
    "with open('../style.css') as file:\n",
    "    css = file.read()\n",
    "HTML(css)"
   ]
  },
  {
   "cell_type": "markdown",
   "metadata": {},
   "source": [
    "# Dual Pivot Quicksort"
   ]
  },
  {
   "cell_type": "markdown",
   "metadata": {},
   "source": [
    "The function `sort` takes a list `L` that is to be sorted and returns the sorted list.\n",
    "It implements *dual pivot quicksort* and uses the first and the last element as *pivots* `p1` and `p2`.\n",
    "This algorithm is specified as follows:\n",
    "1. $\\texttt{len}(L) \\leq 1 \\rightarrow \\texttt{sort}(L) = L$.\n",
    "2. If  $\\texttt{len}(L) > 1$ we define:\n",
    "   * $x := L[0]$, $y := L[-1]$,\n",
    "   * $p_1 := \\min(x, y)$, $p_2 := \\max(x, y)$,\n",
    "   * $S := [z \\in L[1\\!:\\!-1] \\mid z < p_1]$,\n",
    "   * $M := [z \\in L[1\\!:\\!-1] \\mid p_1 \\leq z \\leq p_1]$, and\n",
    "   * $B := [z \\in L[1\\!:\\!-1] \\mid p_2 < z]$.\n",
    "   \n",
    "   Then there are two cases:\n",
    "   + $p_1 < p2 \\rightarrow \\texttt{sort}(L) = \\texttt{sort}(S) + [p_1] + \\texttt{sort}(M) + [p_2] + \\texttt{sort}(B)$,\n",
    "   + $p_1 = p2 \\rightarrow \\texttt{sort}(L) = \\texttt{sort}(S) + [p_1] + M + [p_2] + \\texttt{sort}(B)$.\n",
    "      \n",
    "     For the efficiency of the algorithm it is important that we do not have to sort the list $M$ in the second case. "
   ]
  },
  {
   "cell_type": "code",
   "execution_count": null,
   "metadata": {},
   "outputs": [],
   "source": [
    "def sort(L):\n",
    "    if len(L) <= 1:\n",
    "        return L\n",
    "    x, y, R    = L[0], L[-1], L[1:-1]\n",
    "    p1, p2     = min(x, y), max(x, y)\n",
    "    L1, L2, L3 = partition(p1, p2, R)\n",
    "    if p1 == p2:\n",
    "        return sort(L1) + [p1] + L2 + [p2] + sort(L3)\n",
    "    else:\n",
    "        return sort(L1) + [p1] + sort(L2) + [p2] + sort(L3)"
   ]
  },
  {
   "cell_type": "markdown",
   "metadata": {},
   "source": [
    "The function partition receives three arguments:\n",
    "* `p1` and `p2` are comparable objects taken from some list that is to be sorted.\n",
    "  Furthermore `p1 <= p2`.\n",
    "* `L` is a list of comparable elements. \n",
    "The function *partions* the list into three sublists.  Mathematically, we have:\n",
    "$$ \\texttt{partition}(p_1, p_2, L) = \\bigl\\langle[x \\in L \\mid x < p_1],\\; [x \\in L \\mid p_1 \\leq x \\leq p_2],\\; [x \\in L \\mid p_2 < x]\\bigr\\rangle $$"
   ]
  },
  {
   "cell_type": "code",
   "execution_count": null,
   "metadata": {},
   "outputs": [],
   "source": [
    "def partition(p1, p2, L):\n",
    "    if L == []:\n",
    "        return [], [], []\n",
    "    x, *R      = L\n",
    "    R1, R2, R3 = partition(p1, p2, R)\n",
    "    if x < p1:\n",
    "        return [x] + R1, R2, R3\n",
    "    if x <= p2:\n",
    "        return R1, [x] + R2, R3\n",
    "    else:\n",
    "        return R1, R2, [x] + R3"
   ]
  },
  {
   "cell_type": "code",
   "execution_count": null,
   "metadata": {},
   "outputs": [],
   "source": [
    "partition(5, 13, [1, 19, 27, 2, 5, 6, 4, 7, 8, 5, 8, 17, 13])"
   ]
  },
  {
   "cell_type": "code",
   "execution_count": null,
   "metadata": {},
   "outputs": [],
   "source": [
    "sort([1, 19, 27, 2, 5, 6, 4, 7, 8, 5, 8, 17, 13])"
   ]
  },
  {
   "cell_type": "code",
   "execution_count": null,
   "metadata": {},
   "outputs": [],
   "source": []
  }
 ],
 "metadata": {
  "kernelspec": {
   "display_name": "Python 3 (ipykernel)",
   "language": "python",
   "name": "python3"
  },
  "language_info": {
   "codemirror_mode": {
    "name": "ipython",
    "version": 3
   },
   "file_extension": ".py",
   "mimetype": "text/x-python",
   "name": "python",
   "nbconvert_exporter": "python",
   "pygments_lexer": "ipython3",
   "version": "3.9.12"
  },
  "varInspector": {
   "cols": {
    "lenName": 16,
    "lenType": 16,
    "lenVar": 40
   },
   "kernels_config": {
    "python": {
     "delete_cmd_postfix": "",
     "delete_cmd_prefix": "del ",
     "library": "var_list.py",
     "varRefreshCmd": "print(var_dic_list())"
    },
    "r": {
     "delete_cmd_postfix": ") ",
     "delete_cmd_prefix": "rm(",
     "library": "var_list.r",
     "varRefreshCmd": "cat(var_dic_list()) "
    }
   },
   "types_to_exclude": [
    "module",
    "function",
    "builtin_function_or_method",
    "instance",
    "_Feature"
   ],
   "window_display": false
  }
 },
 "nbformat": 4,
 "nbformat_minor": 2
}
