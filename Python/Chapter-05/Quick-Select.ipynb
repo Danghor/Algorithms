{
 "cells": [
  {
   "cell_type": "code",
   "execution_count": null,
   "metadata": {},
   "outputs": [],
   "source": [
    "from IPython.core.display import HTML\n",
    "with open('../style.css') as file:\n",
    "    css = file.read()\n",
    "HTML(css)"
   ]
  },
  {
   "cell_type": "markdown",
   "metadata": {},
   "source": [
    "# QuickSelect"
   ]
  },
  {
   "cell_type": "markdown",
   "metadata": {},
   "source": [
    "The function `quickSelect` takes two arguments:\n",
    "* `L` is a list of numbers,\n",
    "* `k` is a natural number such that `k <= len(L)`. \n",
    "\n",
    "The function call `quickSelect(L, k)` returns a list of length `k` that contains the `k` smallest\n",
    "elements of `L`, i.e. it satisfies the following specification:\n",
    "- `len(quickSelect(L, k)) = k`,\n",
    "- `set(quickSelect(L, k)) = set(sorted(L)[:k])`.\n",
    "\n",
    "The function can be implemented recursively via the following equations:\n",
    "1. $\\texttt{len}(L) < k \\rightarrow \\texttt{quickSelect}(L,k) = \\Omega$,\n",
    "\n",
    "   because if the length of `L` is less than `k`, then there is no way to select the \n",
    "   `k` smallest elements from `L`.\n",
    "2. $\\texttt{len}(L) = k \\rightarrow \\texttt{quickSelect}(L,k) = L$,\n",
    "\n",
    "   because if the list `L` has exactly `k` elements, then the `k` smallest elements of `L` are\n",
    "   all elements of `L`.\n",
    "3. Otherwise we assume that `L = [x] + R` and partition `L` as in *QuickSort*, i.e. we define\n",
    "   $$ S := [y \\in L \\mid y \\leq x] \\quad \\mbox{and} \\quad B := [y \\in L \\mid y > x]. $$\n",
    "   Then there are three cases:\n",
    "   - $k \\leq \\texttt{len}(S) \\rightarrow \\texttt{quickSelect}(L, k) = \\texttt{quickSelect}(S, k)$,\n",
    "   - $k = \\texttt{len}(S) + 1 \\rightarrow \\texttt{quickSelect}(L, k) = S + [x]$,\n",
    "   - $k > \\texttt{len}(S) + 1 \\rightarrow \n",
    "      \\texttt{quickSelect}(L, k) = S + [x] + \\texttt{quickSelect}(B, k - \\texttt{len}(S) - 1)$."
   ]
  },
  {
   "cell_type": "code",
   "execution_count": null,
   "metadata": {},
   "outputs": [],
   "source": [
    "def quickSelect(L, k):\n",
    "    assert k <= len(L), f'quickSelect({L}, {k})' \n",
    "    if len(L) == k:\n",
    "        return L\n",
    "    x, *R = L\n",
    "    S = [y for y in R if y <= x]\n",
    "    B = [y for y in R if y >  x]\n",
    "    if k <= len(S):\n",
    "        return quickSelect(S, k)\n",
    "    if k == len(S) + 1:\n",
    "        return S + [x]\n",
    "    return S + [x] + quickSelect(B, k - len(S) - 1)"
   ]
  },
  {
   "cell_type": "markdown",
   "metadata": {},
   "source": [
    "## Testing"
   ]
  },
  {
   "cell_type": "code",
   "execution_count": null,
   "metadata": {},
   "outputs": [],
   "source": [
    "quickSelect([7, 8, 11, 12, 2, 5, 3, 7, 9, 3, 2], 5)"
   ]
  },
  {
   "cell_type": "code",
   "execution_count": null,
   "metadata": {},
   "outputs": [],
   "source": [
    "import random as rnd\n",
    "rnd.seed(42)"
   ]
  },
  {
   "cell_type": "markdown",
   "metadata": {},
   "source": [
    "The function `test_list(n, m)` generates `n` random lists `L` of length `m` and checks whether \n",
    "`quickSelect(L, k)` satisfies its specification.  Here, the number `k` is a random number less \n",
    "than or equal to the length of the list."
   ]
  },
  {
   "cell_type": "code",
   "execution_count": null,
   "metadata": {},
   "outputs": [],
   "source": [
    "def testSelect(n, m):\n",
    "    for i in range(n):\n",
    "        L = [ rnd.randrange(2*m) for x in range(m) ]\n",
    "        k = rnd.randrange(m)\n",
    "        C = L[:]\n",
    "        S = quickSelect(C, k)\n",
    "        assert len(S) == k\n",
    "        assert set(sorted(L)[:k]) == set(S)\n",
    "        print('.', end='')\n",
    "    print()\n",
    "    print(\"All tests successful!\")"
   ]
  },
  {
   "cell_type": "code",
   "execution_count": null,
   "metadata": {},
   "outputs": [],
   "source": [
    "%%time\n",
    "testSelect(100, 100_000)"
   ]
  },
  {
   "cell_type": "code",
   "execution_count": null,
   "metadata": {},
   "outputs": [],
   "source": []
  }
 ],
 "metadata": {
  "kernelspec": {
   "display_name": "Python 3",
   "language": "python",
   "name": "python3"
  },
  "language_info": {
   "codemirror_mode": {
    "name": "ipython",
    "version": 3
   },
   "file_extension": ".py",
   "mimetype": "text/x-python",
   "name": "python",
   "nbconvert_exporter": "python",
   "pygments_lexer": "ipython3",
   "version": "3.9.0"
  },
  "varInspector": {
   "cols": {
    "lenName": 16,
    "lenType": 16,
    "lenVar": 40
   },
   "kernels_config": {
    "python": {
     "delete_cmd_postfix": "",
     "delete_cmd_prefix": "del ",
     "library": "var_list.py",
     "varRefreshCmd": "print(var_dic_list())"
    },
    "r": {
     "delete_cmd_postfix": ") ",
     "delete_cmd_prefix": "rm(",
     "library": "var_list.r",
     "varRefreshCmd": "cat(var_dic_list()) "
    }
   },
   "types_to_exclude": [
    "module",
    "function",
    "builtin_function_or_method",
    "instance",
    "_Feature"
   ],
   "window_display": false
  }
 },
 "nbformat": 4,
 "nbformat_minor": 2
}
