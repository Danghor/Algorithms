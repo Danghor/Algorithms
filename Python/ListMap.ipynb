{
 "cells": [
  {
   "cell_type": "code",
   "execution_count": null,
   "metadata": {},
   "outputs": [],
   "source": [
    "%%HTML\n",
    "<style>\n",
    ".container { width: 100% }\n",
    "</style>"
   ]
  },
  {
   "cell_type": "markdown",
   "metadata": {},
   "source": [
    "# Implementing Maps as Lists of Key-Value-Pairs "
   ]
  },
  {
   "cell_type": "markdown",
   "metadata": {},
   "source": [
    "The class `ListNode` implements a node of a <em style=\"color:blue\">linked lists</em> of \n",
    "*key-value pairs*.  Every node has three member variables:\n",
    "- `mKey`     stores the *key*,\n",
    "- `mValue`   stores the *value* associated with this key, and\n",
    "- `mNextPtr` stores a reference to the next node.  If there is no next node, then \n",
    "  `mNextPtr` is `None`.\n",
    "  \n",
    "Objects of class `ListNode` are used to represent linked lists.  \n",
    "  \n",
    "The constructor of the class `ListNode` creates a single node that stores the given `key` and its associated `value`."
   ]
  },
  {
   "cell_type": "code",
   "execution_count": null,
   "metadata": {},
   "outputs": [],
   "source": [
    "class ListNode:\n",
    "    def __init__(self, key, value):\n",
    "        self.mKey     = key\n",
    "        self.mValue   = value\n",
    "        self.mNextPtr = None"
   ]
  },
  {
   "cell_type": "markdown",
   "metadata": {},
   "source": [
    "Given a `key`, the method `find` traverses the given list until it finds a node that stores the given `key`.  In this case, it returns the associated value.  Otherwise, `None` is returned."
   ]
  },
  {
   "cell_type": "code",
   "execution_count": null,
   "metadata": {},
   "outputs": [],
   "source": [
    "def find(self, key):\n",
    "    if self.mKey == key:\n",
    "        return self.mValue\n",
    "    if self.mNextPtr != None:\n",
    "        return self.mNextPtr.find(key)\n",
    "    \n",
    "ListNode.find = find\n",
    "del find"
   ]
  },
  {
   "cell_type": "markdown",
   "metadata": {},
   "source": [
    "Given the first node of a *linked list* $L$, the function $L.\\texttt{insert}(k, v)$ inserts the *key-value* pair $(k, v)$ into the list $L$.  If there is already a key value pair in $L$ that has the same key, then the old value is overwritten."
   ]
  },
  {
   "cell_type": "code",
   "execution_count": null,
   "metadata": {},
   "outputs": [],
   "source": [
    "def insert(self, key, value):\n",
    "    if self.mKey == key:\n",
    "        self.mValue = value\n",
    "    elif self.mNextPtr != None:\n",
    "        self.mNextPtr.insert(key, value)\n",
    "    else:\n",
    "        self.mNextPtr = ListNode(key, value)\n",
    "\n",
    "ListNode.insert = insert\n",
    "del insert"
   ]
  },
  {
   "cell_type": "markdown",
   "metadata": {},
   "source": [
    "Given the first node of a *linked list* $L$, the function $L.\\texttt{delete}(k)$ deletes the first *key-value* pair of the form $(k, v)$ from the list $L$.  If there is no such pair, the list $L$ is unchanged."
   ]
  },
  {
   "cell_type": "code",
   "execution_count": null,
   "metadata": {},
   "outputs": [],
   "source": [
    "def delete(self, key):\n",
    "    if self.mKey == key:\n",
    "        return self.mNextPtr\n",
    "    if self.mNextPtr != None:\n",
    "        self.mNextPtr = self.mNextPtr.delete(key)\n",
    "    return self\n",
    "\n",
    "ListNode.delete = delete\n",
    "del delete"
   ]
  },
  {
   "cell_type": "markdown",
   "metadata": {},
   "source": [
    "Given the first node of a *linked list* $L$, the function $L.\\texttt{toString}()$ returns a string representing $L$."
   ]
  },
  {
   "cell_type": "code",
   "execution_count": null,
   "metadata": {},
   "outputs": [],
   "source": [
    "def toString(self):\n",
    "    if self.mNextPtr != None:\n",
    "        return f'{self.mKey} ↦ {self.mValue}, ' + self.mNextPtr.__str__()\n",
    "    else:\n",
    "        return f'{self.mKey} ↦ {self.mValue}'\n",
    "\n",
    "ListNode.__str__ = toString\n",
    "del toString"
   ]
  },
  {
   "cell_type": "markdown",
   "metadata": {},
   "source": [
    "The class `ListMap` implements a *map* using a linked list of *key-value* pairs."
   ]
  },
  {
   "cell_type": "code",
   "execution_count": null,
   "metadata": {},
   "outputs": [],
   "source": [
    "class ListMap:\n",
    "    def __init__(self):\n",
    "        self.mPtr = None\n",
    "        \n",
    "    def find(self, key):\n",
    "        if self.mPtr != None:\n",
    "            return self.mPtr.find(key)\n",
    "        \n",
    "    def insert(self, key, value):\n",
    "        if self.mPtr != None:\n",
    "            self.mPtr.insert(key, value)\n",
    "        else:\n",
    "            self.mPtr = ListNode(key, value)\n",
    "            \n",
    "    def delete(self, key):\n",
    "        if self.mPtr != None:\n",
    "            self.mPtr = self.mPtr.delete(key)\n",
    "            \n",
    "    def __str__(self):\n",
    "        if self.mPtr != None:\n",
    "            return '{' + self.mPtr.__str__() + '}'\n",
    "        else:\n",
    "            return '{}'\n",
    "    \n",
    "    def __repr__(self):\n",
    "        return self.__str__()"
   ]
  },
  {
   "cell_type": "code",
   "execution_count": null,
   "metadata": {},
   "outputs": [],
   "source": [
    "S = ListMap()\n",
    "for i in range(2, 101):\n",
    "    S.insert(i, i)\n",
    "for i in range(2, 51):\n",
    "    for j in range(i, 100 // i + 1):\n",
    "        S.delete(i * j)\n",
    "S"
   ]
  },
  {
   "cell_type": "code",
   "execution_count": null,
   "metadata": {},
   "outputs": [],
   "source": [
    "S.find(83)"
   ]
  },
  {
   "cell_type": "code",
   "execution_count": null,
   "metadata": {},
   "outputs": [],
   "source": [
    "S.find(99)"
   ]
  }
 ],
 "metadata": {
  "kernelspec": {
   "display_name": "Python 3",
   "language": "python",
   "name": "python3"
  },
  "language_info": {
   "codemirror_mode": {
    "name": "ipython",
    "version": 3
   },
   "file_extension": ".py",
   "mimetype": "text/x-python",
   "name": "python",
   "nbconvert_exporter": "python",
   "pygments_lexer": "ipython3",
   "version": "3.7.6"
  },
  "varInspector": {
   "cols": {
    "lenName": 16,
    "lenType": 16,
    "lenVar": 40
   },
   "kernels_config": {
    "python": {
     "delete_cmd_postfix": "",
     "delete_cmd_prefix": "del ",
     "library": "var_list.py",
     "varRefreshCmd": "print(var_dic_list())"
    },
    "r": {
     "delete_cmd_postfix": ") ",
     "delete_cmd_prefix": "rm(",
     "library": "var_list.r",
     "varRefreshCmd": "cat(var_dic_list()) "
    }
   },
   "types_to_exclude": [
    "module",
    "function",
    "builtin_function_or_method",
    "instance",
    "_Feature"
   ],
   "window_display": false
  }
 },
 "nbformat": 4,
 "nbformat_minor": 2
}
