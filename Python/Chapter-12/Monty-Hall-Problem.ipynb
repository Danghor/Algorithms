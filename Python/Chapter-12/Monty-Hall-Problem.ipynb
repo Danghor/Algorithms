{
 "cells": [
  {
   "cell_type": "code",
   "execution_count": 1,
   "metadata": {},
   "outputs": [
    {
     "data": {
      "text/html": [
       "<link href='http://fonts.googleapis.com/css?family=Alegreya+Sans:100,300,400,500,700,800,900,100italic,300italic,400italic,500italic,700italic,800italic,900italic' rel='stylesheet' type='text/css'>\n",
       "<link href='http://fonts.googleapis.com/css?family=Arvo:400,700,400italic' rel='stylesheet' type='text/css'>\n",
       "<link href='http://fonts.googleapis.com/css?family=PT+Mono' rel='stylesheet' type='text/css'>\n",
       "<link href='http://fonts.googleapis.com/css?family=Shadows+Into+Light' rel='stylesheet' type='text/css'>\n",
       "<link href='http://fonts.googleapis.com/css?family=Philosopher:400,700,400italic,700italic' rel='stylesheet' type='text/css'>\n",
       "\n",
       "<style>\n",
       "\n",
       "@font-face {\n",
       "    font-family: \"Computer Modern\";\n",
       "    src: url('http://mirrors.ctan.org/fonts/cm-unicode/fonts/otf/cmunss.otf');\n",
       "}\n",
       "\n",
       ".container { width: 100% }\n",
       "\n",
       "/* Formatting for header cells */\n",
       ".text_cell_render h1 {\n",
       "    font-family: 'Philosopher', sans-serif;\n",
       "    font-weight: 400;\n",
       "    font-size: 2.2em;\n",
       "    line-height: 100%;\n",
       "    color: rgb(0, 80, 120);\n",
       "    margin-bottom: 0.1em;\n",
       "    margin-top: 0.1em;\n",
       "    display: block;\n",
       "}\t\n",
       ".text_cell_render h2 {\n",
       "    font-family: 'Philosopher', serif;\n",
       "    font-weight: 400;\n",
       "    font-size: 1.9em;\n",
       "    line-height: 100%;\n",
       "    color: rgb(200,100,0);\n",
       "    margin-bottom: 0.1em;\n",
       "    margin-top: 0.1em;\n",
       "    display: block;\n",
       "}\t\n",
       "\n",
       ".text_cell_render h3 {\n",
       "    font-family: 'Philosopher', serif;\n",
       "    margin-top:12px;\n",
       "    margin-bottom: 3px;\n",
       "    font-style: italic;\n",
       "    color: rgb(94,127,192);\n",
       "}\n",
       "\n",
       ".text_cell_render h4 {\n",
       "    font-family: 'Philosopher', serif;\n",
       "}\n",
       "\n",
       ".text_cell_render h5 {\n",
       "    font-family: 'Alegreya Sans', sans-serif;\n",
       "    font-weight: 300;\n",
       "    font-size: 16pt;\n",
       "    color: grey;\n",
       "    font-style: italic;\n",
       "    margin-bottom: .1em;\n",
       "    margin-top: 0.1em;\n",
       "    display: block;\n",
       "}\n",
       "\n",
       ".text_cell_render h6 {\n",
       "    font-family: 'PT Mono', sans-serif;\n",
       "    font-weight: 300;\n",
       "    font-size: 10pt;\n",
       "    color: grey;\n",
       "    margin-bottom: 1px;\n",
       "    margin-top: 1px;\n",
       "}\n",
       "\n",
       ".text_cell_render em {\n",
       "    font-family: 'Philosopher', sans-serif;\n",
       "    color:        blue;\n",
       "    background-color: rgb(255,220,180);\n",
       "    font-size:    110%;\n",
       "    margin-left:   2px;\n",
       "    margin-right:  2px;\n",
       "    font-weight:   100;\n",
       "}\n",
       "\n",
       ".text_cell_render b {\n",
       "    color:            rgb(255,195,195);\n",
       "    background-color: rgb(0,0,0);\n",
       "    font-size:    110%;\n",
       "    margin-left:   2px;\n",
       "    margin-right:  2px;\n",
       "    font-weight:   650;\n",
       "}\n",
       "\n",
       ".text_cell_render tt {\n",
       "    font-size:    120%;\n",
       "    margin-left:   2px;\n",
       "    margin-right:  2px;\n",
       "    font-weight:   150;\n",
       "}\n",
       "\n",
       ".Codemirror {\n",
       "    font-family: \"PT Mono\";\n",
       "    font-size: 100%;\n",
       "}\n",
       "\n",
       "</style>\n",
       "\n"
      ],
      "text/plain": [
       "<IPython.core.display.HTML object>"
      ]
     },
     "execution_count": 1,
     "metadata": {},
     "output_type": "execute_result"
    }
   ],
   "source": [
    "from IPython.core.display import HTML\n",
    "with open('../style.css') as file:\n",
    "    css = file.read()\n",
    "HTML(css)"
   ]
  },
  {
   "cell_type": "markdown",
   "metadata": {},
   "source": [
    "# The Monty Hall Problem"
   ]
  },
  {
   "cell_type": "markdown",
   "metadata": {},
   "source": [
    "The <a href=\"http://en.wikipedia.org/wiki/Monty_Hall_problem\">Monty Hall problem</a> is a famous probability\n",
    "puzzle that is based on the TV show \n",
    "<a href=\"http://en.wikipedia.org/wiki/Let%27s_Make_a_Deal\">Let's Make a Deal</a>, which was aired in the\n",
    "US from the sixties through the seventies.  The host of this show was \n",
    "<a href=\"http://en.wikipedia.org/wiki/Monty_Hall\">Monty Hall</a>. In his show, a player had to choose one\n",
    "of three doors.  Monty Hall had placed goats behind two of the doors but there was a shiny new car\n",
    "behind the third door.  Of course, the player did not know the location of the door with the car.  \n",
    "Once the player had told Monty Hall the door she had chosen, Monty Hall would open one of the other\n",
    "two doors.  However, Monty Hall would never open the door with the car behind it.  Therefore, if the\n",
    "player had chosen the door with the car, Monty Hall would have randomly chosen a door leading to a\n",
    "goat.  If, instead, the player had chosen a door leading to a goat, Monty Hall would have opened the\n",
    "door showing the other goat.  In either case, after opening the door  Monty Hall would ask the\n",
    "player whether she wanted to stick with her first choice or whether, instead, she wanted to pick the\n",
    "remaining closed door.  In order to better understand the problem you can try the animation at\n",
    "[https://www.rossmanchance.com/applets/2021/montyhall/Monty.html](https://www.rossmanchance.com/applets/2021/montyhall/Monty.html).\n",
    "The question now is whether it is a good strategy to stick with the door chosen first or whether it\n",
    "is a better idea to switch doors.  \n",
    "\n",
    "Mathematically, the reasoning is quite simple: As there are three doors initially and the probability that the car is behind any of them is the same, the probability that the door chosen first leads to the car is \n",
    "$$\\frac{1}{3}. $$  \n",
    "Therefore, the probability that the car is behind the other unopened door has to be \n",
    "$$\\frac{2}{3}, $$\n",
    "as the two probabilities have to add up to $1$.  Hence the best strategy is to switch the door.\n",
    "Although the reasoning given above is straightforward, many people don't believe it, as is shown\n",
    "by this <a href=\"https://priceonomics.com/the-time-everyone-corrected-the-worlds-smartest/\">article</a>.  In order to convince them, the best thing is to run a Monte Carlo simulation. "
   ]
  },
  {
   "cell_type": "markdown",
   "metadata": {},
   "source": [
    "The function $\\texttt{arb}(S)$ returns an arbitrary element from the set $S$."
   ]
  },
  {
   "cell_type": "code",
   "execution_count": 2,
   "metadata": {},
   "outputs": [],
   "source": [
    "def arb(S):\n",
    "    for x in S: return x"
   ]
  },
  {
   "cell_type": "code",
   "execution_count": 3,
   "metadata": {},
   "outputs": [],
   "source": [
    "import random as rnd"
   ]
  },
  {
   "cell_type": "markdown",
   "metadata": {},
   "source": [
    "The function `calculate_chances` simulates the game of Monty Hall $n$ times and keeps track how often two different strategies win.\n",
    "  1. The <em stlye=\"color:blue;\">persistent strategy</em> never switches the door and always sticks to the door chosen first.\n",
    "  2. The <em stlye=\"color:blue;\">wavering strategy</em> always switches the door."
   ]
  },
  {
   "cell_type": "code",
   "execution_count": 4,
   "metadata": {},
   "outputs": [],
   "source": [
    "def calculate_chances(n):\n",
    "    success_persistent = 0\n",
    "    success_wavering   = 0\n",
    "    for _ in range(n):\n",
    "        car    = rnd.randint(1, 3)\n",
    "        choice = rnd.randint(1, 3) \n",
    "        opened = rnd.choice(list({1,2,3} - {choice,car}))\n",
    "        last   = arb({ 1, 2, 3 } - { choice, opened })\n",
    "        if car == choice:\n",
    "            success_persistent += 1\n",
    "        if car == last:\n",
    "            success_wavering  += 1\n",
    "    print(f'The persistent strategy wins {success_persistent} cars.')\n",
    "    print(f'The wavering   strategy wins {success_wavering  } cars.')"
   ]
  },
  {
   "cell_type": "code",
   "execution_count": 5,
   "metadata": {},
   "outputs": [
    {
     "name": "stdout",
     "output_type": "stream",
     "text": [
      "The persistent strategy wins 333682 cars.\n",
      "The wavering   strategy wins 666318 cars.\n",
      "CPU times: user 2.77 s, sys: 16.8 ms, total: 2.78 s\n",
      "Wall time: 2.79 s\n"
     ]
    }
   ],
   "source": [
    "%%time\n",
    "rnd.seed(1)\n",
    "calculate_chances(1000_000)"
   ]
  },
  {
   "cell_type": "code",
   "execution_count": null,
   "metadata": {},
   "outputs": [],
   "source": []
  }
 ],
 "metadata": {
  "hide_input": false,
  "kernelspec": {
   "display_name": "Python 3 (ipykernel)",
   "language": "python",
   "name": "python3"
  },
  "language_info": {
   "codemirror_mode": {
    "name": "ipython",
    "version": 3
   },
   "file_extension": ".py",
   "mimetype": "text/x-python",
   "name": "python",
   "nbconvert_exporter": "python",
   "pygments_lexer": "ipython3",
   "version": "3.10.4"
  },
  "toc": {
   "base_numbering": 1,
   "nav_menu": {},
   "number_sections": true,
   "sideBar": true,
   "skip_h1_title": false,
   "title_cell": "Table of Contents",
   "title_sidebar": "Contents",
   "toc_cell": false,
   "toc_position": {},
   "toc_section_display": true,
   "toc_window_display": false
  },
  "varInspector": {
   "cols": {
    "lenName": 16,
    "lenType": 16,
    "lenVar": 40
   },
   "kernels_config": {
    "python": {
     "delete_cmd_postfix": "",
     "delete_cmd_prefix": "del ",
     "library": "var_list.py",
     "varRefreshCmd": "print(var_dic_list())"
    },
    "r": {
     "delete_cmd_postfix": ") ",
     "delete_cmd_prefix": "rm(",
     "library": "var_list.r",
     "varRefreshCmd": "cat(var_dic_list()) "
    }
   },
   "types_to_exclude": [
    "module",
    "function",
    "builtin_function_or_method",
    "instance",
    "_Feature"
   ],
   "window_display": false
  }
 },
 "nbformat": 4,
 "nbformat_minor": 2
}
