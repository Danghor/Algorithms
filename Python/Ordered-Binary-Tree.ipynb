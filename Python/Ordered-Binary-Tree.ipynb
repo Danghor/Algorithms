{
 "cells": [
  {
   "cell_type": "code",
   "execution_count": 1,
   "metadata": {},
   "outputs": [
    {
     "data": {
      "text/html": [
       "<style>.container { width:100%; !important } </style>"
      ],
      "text/plain": [
       "<IPython.core.display.HTML object>"
      ]
     },
     "metadata": {},
     "output_type": "display_data"
    }
   ],
   "source": [
    "#%autosave 0\n",
    "from IPython.core.display import HTML, display\n",
    "display(HTML('<style>.container { width:100%; !important } </style>'))"
   ]
  },
  {
   "cell_type": "markdown",
   "metadata": {},
   "source": [
    "# Ordered Binary Trees"
   ]
  },
  {
   "cell_type": "code",
   "execution_count": 2,
   "metadata": {},
   "outputs": [],
   "source": [
    "class OrderedBinaryTree:\n",
    "    def __init__(self):\n",
    "        self.mKey   = None\n",
    "        self.mValue = None\n",
    "        self.mLeft  = None\n",
    "        self.mRight = None"
   ]
  },
  {
   "cell_type": "code",
   "execution_count": 3,
   "metadata": {},
   "outputs": [],
   "source": [
    "def isEmpty(self):\n",
    "    return self.mKey == None\n",
    "\n",
    "OrderedBinaryTree.isEmpty = isEmpty"
   ]
  },
  {
   "cell_type": "code",
   "execution_count": 4,
   "metadata": {},
   "outputs": [],
   "source": [
    "def find(self, key):\n",
    "    if self.isEmpty():\n",
    "        return None\n",
    "    elif self.mKey == key:\n",
    "        return self.mValue\n",
    "    elif key < self.mKey:\n",
    "        return self.mLeft.find(key)\n",
    "    else:\n",
    "        return self.mRight.find(key)\n",
    "    \n",
    "OrderedBinaryTree.find = find"
   ]
  },
  {
   "cell_type": "code",
   "execution_count": 5,
   "metadata": {},
   "outputs": [],
   "source": [
    "def insert(self, key, value):\n",
    "    if self.isEmpty():\n",
    "        self.mKey   = key\n",
    "        self.mValue = value\n",
    "        self.mLeft  = OrderedBinaryTree()\n",
    "        self.mRight = OrderedBinaryTree()\n",
    "    elif self.mKey == key:\n",
    "        self.mValue = value\n",
    "    elif key < self.mKey:\n",
    "        self.mLeft.insert(key, value)\n",
    "    else:\n",
    "        self.mRight.insert(key, value)\n",
    "\n",
    "OrderedBinaryTree.insert = insert"
   ]
  },
  {
   "cell_type": "code",
   "execution_count": 6,
   "metadata": {},
   "outputs": [],
   "source": [
    "def delete(self, key):\n",
    "    if self.isEmpty():\n",
    "        return\n",
    "    if key == self.mKey:\n",
    "        if self.mLeft.isEmpty():\n",
    "            self._update(self.mRight)\n",
    "        elif self.mRight.isEmpty():\n",
    "            self._update(self.mLeft)\n",
    "        else:\n",
    "            rs, km, vm = self.mRight._delMin()\n",
    "            self.mKey   = km\n",
    "            self.mValue = vm\n",
    "            self.mRight = rs\n",
    "    elif key < self.mKey:\n",
    "        self.mLeft.delete(key)\n",
    "    else:\n",
    "        self.mRight.delete(key)\n",
    "        \n",
    "OrderedBinaryTree.delete = delete"
   ]
  },
  {
   "cell_type": "code",
   "execution_count": 7,
   "metadata": {},
   "outputs": [],
   "source": [
    "def _delMin(self):\n",
    "    if self.mLeft.isEmpty():\n",
    "        return (self.mRight, self.mKey, self.mValue)\n",
    "    else:\n",
    "        ls, km, vm = self.mLeft._delMin()\n",
    "        self.mLeft = ls\n",
    "        return self, km, vm\n",
    "    \n",
    "OrderedBinaryTree._delMin = _delMin"
   ]
  },
  {
   "cell_type": "code",
   "execution_count": 8,
   "metadata": {},
   "outputs": [],
   "source": [
    "def _toString(self, n):\n",
    "    if self.isEmpty():\n",
    "        return \" \" * n + 'Nil'\n",
    "    else:\n",
    "        return self.mLeft._toString(n + 4) + '\\n' + \\\n",
    "               ' ' * n + '<' + str(self.mKey) + ' |-> ' + str(self.mValue) + '>\\n' + \\\n",
    "               self.mRight._toString(n + 4)\n",
    "    \n",
    "OrderedBinaryTree._toString = _toString"
   ]
  },
  {
   "cell_type": "code",
   "execution_count": 9,
   "metadata": {},
   "outputs": [],
   "source": [
    "def myStr(self):\n",
    "    return self._toString(0)\n",
    "\n",
    "OrderedBinaryTree.__str__ = myStr"
   ]
  },
  {
   "cell_type": "code",
   "execution_count": 10,
   "metadata": {},
   "outputs": [],
   "source": [
    "def demo():\n",
    "    m = OrderedBinaryTree()\n",
    "    m.insert(\"anton\",  123)\n",
    "    m.insert(\"hugo\" ,  345)\n",
    "    m.insert(\"gustav\", 789)\n",
    "    m.insert(\"jens\",   234)\n",
    "    m.insert(\"hubert\", 432)\n",
    "    m.insert(\"andre\",  342)\n",
    "    m.insert(\"philipp\",  342)\n",
    "    m.insert(\"rene\",   345)\n",
    "    print(m)\n",
    "    print(f\"m.find('hubert') = {m.find('hubert')}\")\n",
    "    m.delete('anton')\n",
    "    print(m)\n",
    "    return m"
   ]
  },
  {
   "cell_type": "code",
   "execution_count": 11,
   "metadata": {},
   "outputs": [
    {
     "name": "stdout",
     "output_type": "stream",
     "text": [
      "        Nil\n",
      "    <andre |-> 342>\n",
      "        Nil\n",
      "<anton |-> 123>\n",
      "            Nil\n",
      "        <gustav |-> 789>\n",
      "                Nil\n",
      "            <hubert |-> 432>\n",
      "                Nil\n",
      "    <hugo |-> 345>\n",
      "            Nil\n",
      "        <jens |-> 234>\n",
      "                Nil\n",
      "            <philipp |-> 342>\n",
      "                    Nil\n",
      "                <rene |-> 345>\n",
      "                    Nil\n",
      "m.find('hubert') = 432\n",
      "        Nil\n",
      "    <andre |-> 342>\n",
      "        Nil\n",
      "<gustav |-> 789>\n",
      "            Nil\n",
      "        <hubert |-> 432>\n",
      "            Nil\n",
      "    <hugo |-> 345>\n",
      "            Nil\n",
      "        <jens |-> 234>\n",
      "                Nil\n",
      "            <philipp |-> 342>\n",
      "                    Nil\n",
      "                <rene |-> 345>\n",
      "                    Nil\n"
     ]
    },
    {
     "data": {
      "text/plain": [
       "<__main__.OrderedBinaryTree at 0x11025b748>"
      ]
     },
     "execution_count": 11,
     "metadata": {},
     "output_type": "execute_result"
    }
   ],
   "source": [
    "demo()"
   ]
  },
  {
   "cell_type": "code",
   "execution_count": null,
   "metadata": {},
   "outputs": [],
   "source": []
  }
 ],
 "metadata": {
  "kernelspec": {
   "display_name": "Python 3",
   "language": "python",
   "name": "python3"
  },
  "language_info": {
   "codemirror_mode": {
    "name": "ipython",
    "version": 3
   },
   "file_extension": ".py",
   "mimetype": "text/x-python",
   "name": "python",
   "nbconvert_exporter": "python",
   "pygments_lexer": "ipython3",
   "version": "3.6.8"
  }
 },
 "nbformat": 4,
 "nbformat_minor": 2
}
