{
 "cells": [
  {
   "cell_type": "code",
   "execution_count": 1,
   "metadata": {},
   "outputs": [
    {
     "data": {
      "text/html": [
       "<style>.container { width:100%; !important } </style>"
      ],
      "text/plain": [
       "<IPython.core.display.HTML object>"
      ]
     },
     "metadata": {},
     "output_type": "display_data"
    }
   ],
   "source": [
    "#%autosave 0\n",
    "from IPython.core.display import HTML, display\n",
    "display(HTML('<style>.container { width:100%; !important } </style>'))"
   ]
  },
  {
   "cell_type": "markdown",
   "metadata": {},
   "source": [
    "# Ordered Binary Trees"
   ]
  },
  {
   "cell_type": "code",
   "execution_count": 2,
   "metadata": {},
   "outputs": [],
   "source": [
    "class OrderedBinaryTree:\n",
    "    def __init__(self):\n",
    "        self.mKey   = None\n",
    "        self.mValue = None\n",
    "        self.mLeft  = None\n",
    "        self.mRight = None"
   ]
  },
  {
   "cell_type": "code",
   "execution_count": 3,
   "metadata": {},
   "outputs": [],
   "source": [
    "def isEmpty(self):\n",
    "    return self.mKey == None\n",
    "\n",
    "OrderedBinaryTree.isEmpty = isEmpty"
   ]
  },
  {
   "cell_type": "code",
   "execution_count": 4,
   "metadata": {},
   "outputs": [],
   "source": [
    "def find(self, key):\n",
    "    if self.isEmpty():\n",
    "        return None\n",
    "    elif self.mKey == key:\n",
    "        return self.mValue\n",
    "    elif key < self.mKey:\n",
    "        return self.mLeft.find(key)\n",
    "    else:\n",
    "        return self.mRight.find(key)\n",
    "    \n",
    "OrderedBinaryTree.find = find"
   ]
  },
  {
   "cell_type": "code",
   "execution_count": 5,
   "metadata": {},
   "outputs": [],
   "source": [
    "def insert(self, key, value):\n",
    "    if self.isEmpty():\n",
    "        self.mKey   = key\n",
    "        self.mValue = value\n",
    "        self.mLeft  = OrderedBinaryTree()\n",
    "        self.mRight = OrderedBinaryTree()\n",
    "    elif self.mKey == key:\n",
    "        self.mValue = value\n",
    "    elif key < self.mKey:\n",
    "        self.mLeft.insert(key, value)\n",
    "    else:\n",
    "        self.mRight.insert(key, value)\n",
    "\n",
    "OrderedBinaryTree.insert = insert"
   ]
  },
  {
   "cell_type": "code",
   "execution_count": 6,
   "metadata": {},
   "outputs": [],
   "source": [
    "def delete(self, key):\n",
    "    if self.isEmpty():\n",
    "        return\n",
    "    if key == self.mKey:\n",
    "        if self.mLeft.isEmpty():\n",
    "            self._update(self.mRight)\n",
    "        elif self.mRight.isEmpty():\n",
    "            self._update(self.mLeft)\n",
    "        else:\n",
    "            rs, km, vm = self.mRight._delMin()\n",
    "            self.mKey   = km\n",
    "            self.mValue = vm\n",
    "            self.mRight = rs\n",
    "    elif key < self.mKey:\n",
    "        self.mLeft.delete(key)\n",
    "    else:\n",
    "        self.mRight.delete(key)\n",
    "        \n",
    "OrderedBinaryTree.delete = delete"
   ]
  },
  {
   "cell_type": "code",
   "execution_count": 7,
   "metadata": {},
   "outputs": [],
   "source": [
    "def _delMin(self):\n",
    "    if self.mLeft.isEmpty():\n",
    "        return (self.mRight, self.mKey, self.mValue)\n",
    "    else:\n",
    "        ls, km, vm = self.mLeft._delMin()\n",
    "        self.mLeft = ls\n",
    "        return self, km, vm\n",
    "    \n",
    "OrderedBinaryTree._delMin = _delMin"
   ]
  },
  {
   "cell_type": "code",
   "execution_count": 8,
   "metadata": {},
   "outputs": [],
   "source": [
    "def _toString(self, n):\n",
    "    if self.isEmpty():\n",
    "        return \" \" * n + 'Nil'\n",
    "    else:\n",
    "        return self.mLeft._toString(n + 4) + '\\n' + \\\n",
    "               ' ' * n + '<' + str(self.mKey) + ' |-> ' + str(self.mValue) + '>\\n' + \\\n",
    "               self.mRight._toString(n + 4)\n",
    "    \n",
    "OrderedBinaryTree._toString = _toString"
   ]
  },
  {
   "cell_type": "code",
   "execution_count": 9,
   "metadata": {},
   "outputs": [],
   "source": [
    "def myStr(self):\n",
    "    return self._toString(0)\n",
    "\n",
    "OrderedBinaryTree.__str__ = myStr"
   ]
  },
  {
   "cell_type": "code",
   "execution_count": 10,
   "metadata": {},
   "outputs": [],
   "source": [
    "def demo():\n",
    "    m = OrderedBinaryTree()\n",
    "    m.insert(\"anton\",  123)\n",
    "    m.insert(\"hugo\" ,  345)\n",
    "    m.insert(\"gustav\", 789)\n",
    "    m.insert(\"jens\",   234)\n",
    "    m.insert(\"hubert\", 432)\n",
    "    m.insert(\"andre\",  342)\n",
    "    m.insert(\"philipp\",  342)\n",
    "    m.insert(\"rene\",   345)\n",
    "    print(m)\n",
    "    print(f\"m.find('hubert') = {m.find('hubert')}\")\n",
    "    m.delete('anton')\n",
    "    print(m)\n",
    "    return m"
   ]
  },
  {
   "cell_type": "code",
   "execution_count": 11,
   "metadata": {},
   "outputs": [
    {
     "name": "stdout",
     "output_type": "stream",
     "text": [
      "        Nil\n",
      "    <andre |-> 342>\n",
      "        Nil\n",
      "<anton |-> 123>\n",
      "            Nil\n",
      "        <gustav |-> 789>\n",
      "                Nil\n",
      "            <hubert |-> 432>\n",
      "                Nil\n",
      "    <hugo |-> 345>\n",
      "            Nil\n",
      "        <jens |-> 234>\n",
      "                Nil\n",
      "            <philipp |-> 342>\n",
      "                    Nil\n",
      "                <rene |-> 345>\n",
      "                    Nil\n",
      "m.find('hubert') = 432\n",
      "        Nil\n",
      "    <andre |-> 342>\n",
      "        Nil\n",
      "<gustav |-> 789>\n",
      "            Nil\n",
      "        <hubert |-> 432>\n",
      "            Nil\n",
      "    <hugo |-> 345>\n",
      "            Nil\n",
      "        <jens |-> 234>\n",
      "                Nil\n",
      "            <philipp |-> 342>\n",
      "                    Nil\n",
      "                <rene |-> 345>\n",
      "                    Nil\n"
     ]
    }
   ],
   "source": [
    "t = demo()"
   ]
  },
  {
   "cell_type": "code",
   "execution_count": 12,
   "metadata": {},
   "outputs": [],
   "source": [
    "import graphviz as gv"
   ]
  },
  {
   "cell_type": "code",
   "execution_count": 13,
   "metadata": {},
   "outputs": [],
   "source": [
    "def _assignIDs(self, NodeDict):\n",
    "    if self.isEmpty():\n",
    "        return\n",
    "    OrderedBinaryTree.sNodeCount += 1\n",
    "    self.mID = OrderedBinaryTree.sNodeCount\n",
    "    NodeDict[self.mID] = self\n",
    "    self.mLeft ._assignIDs(NodeDict)\n",
    "    self.mRight._assignIDs(NodeDict)\n",
    "    \n",
    "OrderedBinaryTree._assignIDs = _assignIDs"
   ]
  },
  {
   "cell_type": "markdown",
   "metadata": {},
   "source": [
    "Given an ordered binary tree, this function renders the tree graphically using `graphviz`."
   ]
  },
  {
   "cell_type": "code",
   "execution_count": 14,
   "metadata": {},
   "outputs": [],
   "source": [
    "def toDot(self):\n",
    "    OrderedBinaryTree.sNodeCount = 0 # static variable of class OrderedBinaryTree\n",
    "    dot = gv.Digraph()\n",
    "    NodeDict = {}\n",
    "    self._assignIDs(NodeDict)\n",
    "    for n in NodeDict:\n",
    "        dot.node(str(n))\n",
    "    for n, t in NodeDict.items():\n",
    "        if not t.mLeft.isEmpty():\n",
    "            dot.edge(str(n), str(t.mLeft.mID))\n",
    "        if not t.mRight.isEmpty():\n",
    "            dot.edge(str(n), str(t.mRight.mID))\n",
    "    return dot\n",
    "\n",
    "OrderedBinaryTree.toDot = toDot"
   ]
  },
  {
   "cell_type": "code",
   "execution_count": 15,
   "metadata": {},
   "outputs": [],
   "source": [
    "d = t.toDot()"
   ]
  },
  {
   "cell_type": "code",
   "execution_count": 16,
   "metadata": {},
   "outputs": [
    {
     "data": {
      "image/svg+xml": [
       "<?xml version=\"1.0\" encoding=\"UTF-8\" standalone=\"no\"?>\n",
       "<!DOCTYPE svg PUBLIC \"-//W3C//DTD SVG 1.1//EN\"\n",
       " \"http://www.w3.org/Graphics/SVG/1.1/DTD/svg11.dtd\">\n",
       "<!-- Generated by graphviz version 2.40.1 (20161225.0304)\n",
       " -->\n",
       "<!-- Title: %3 Pages: 1 -->\n",
       "<svg width=\"170pt\" height=\"332pt\"\n",
       " viewBox=\"0.00 0.00 170.00 332.00\" xmlns=\"http://www.w3.org/2000/svg\" xmlns:xlink=\"http://www.w3.org/1999/xlink\">\n",
       "<g id=\"graph0\" class=\"graph\" transform=\"scale(1 1) rotate(0) translate(4 328)\">\n",
       "<title>%3</title>\n",
       "<polygon fill=\"#ffffff\" stroke=\"transparent\" points=\"-4,4 -4,-328 166,-328 166,4 -4,4\"/>\n",
       "<!-- 1 -->\n",
       "<g id=\"node1\" class=\"node\">\n",
       "<title>1</title>\n",
       "<ellipse fill=\"none\" stroke=\"#000000\" cx=\"63\" cy=\"-306\" rx=\"27\" ry=\"18\"/>\n",
       "<text text-anchor=\"middle\" x=\"63\" y=\"-302.3\" font-family=\"Times,serif\" font-size=\"14.00\" fill=\"#000000\">1</text>\n",
       "</g>\n",
       "<!-- 2 -->\n",
       "<g id=\"node2\" class=\"node\">\n",
       "<title>2</title>\n",
       "<ellipse fill=\"none\" stroke=\"#000000\" cx=\"27\" cy=\"-234\" rx=\"27\" ry=\"18\"/>\n",
       "<text text-anchor=\"middle\" x=\"27\" y=\"-230.3\" font-family=\"Times,serif\" font-size=\"14.00\" fill=\"#000000\">2</text>\n",
       "</g>\n",
       "<!-- 1&#45;&gt;2 -->\n",
       "<g id=\"edge1\" class=\"edge\">\n",
       "<title>1&#45;&gt;2</title>\n",
       "<path fill=\"none\" stroke=\"#000000\" d=\"M54.2854,-288.5708C50.0403,-280.0807 44.8464,-269.6929 40.1337,-260.2674\"/>\n",
       "<polygon fill=\"#000000\" stroke=\"#000000\" points=\"43.237,-258.6477 35.6343,-251.2687 36.976,-261.7782 43.237,-258.6477\"/>\n",
       "</g>\n",
       "<!-- 3 -->\n",
       "<g id=\"node3\" class=\"node\">\n",
       "<title>3</title>\n",
       "<ellipse fill=\"none\" stroke=\"#000000\" cx=\"99\" cy=\"-234\" rx=\"27\" ry=\"18\"/>\n",
       "<text text-anchor=\"middle\" x=\"99\" y=\"-230.3\" font-family=\"Times,serif\" font-size=\"14.00\" fill=\"#000000\">3</text>\n",
       "</g>\n",
       "<!-- 1&#45;&gt;3 -->\n",
       "<g id=\"edge2\" class=\"edge\">\n",
       "<title>1&#45;&gt;3</title>\n",
       "<path fill=\"none\" stroke=\"#000000\" d=\"M71.7146,-288.5708C75.9597,-280.0807 81.1536,-269.6929 85.8663,-260.2674\"/>\n",
       "<polygon fill=\"#000000\" stroke=\"#000000\" points=\"89.024,-261.7782 90.3657,-251.2687 82.763,-258.6477 89.024,-261.7782\"/>\n",
       "</g>\n",
       "<!-- 4 -->\n",
       "<g id=\"node4\" class=\"node\">\n",
       "<title>4</title>\n",
       "<ellipse fill=\"none\" stroke=\"#000000\" cx=\"63\" cy=\"-162\" rx=\"27\" ry=\"18\"/>\n",
       "<text text-anchor=\"middle\" x=\"63\" y=\"-158.3\" font-family=\"Times,serif\" font-size=\"14.00\" fill=\"#000000\">4</text>\n",
       "</g>\n",
       "<!-- 3&#45;&gt;4 -->\n",
       "<g id=\"edge3\" class=\"edge\">\n",
       "<title>3&#45;&gt;4</title>\n",
       "<path fill=\"none\" stroke=\"#000000\" d=\"M90.2854,-216.5708C86.0403,-208.0807 80.8464,-197.6929 76.1337,-188.2674\"/>\n",
       "<polygon fill=\"#000000\" stroke=\"#000000\" points=\"79.237,-186.6477 71.6343,-179.2687 72.976,-189.7782 79.237,-186.6477\"/>\n",
       "</g>\n",
       "<!-- 5 -->\n",
       "<g id=\"node5\" class=\"node\">\n",
       "<title>5</title>\n",
       "<ellipse fill=\"none\" stroke=\"#000000\" cx=\"135\" cy=\"-162\" rx=\"27\" ry=\"18\"/>\n",
       "<text text-anchor=\"middle\" x=\"135\" y=\"-158.3\" font-family=\"Times,serif\" font-size=\"14.00\" fill=\"#000000\">5</text>\n",
       "</g>\n",
       "<!-- 3&#45;&gt;5 -->\n",
       "<g id=\"edge4\" class=\"edge\">\n",
       "<title>3&#45;&gt;5</title>\n",
       "<path fill=\"none\" stroke=\"#000000\" d=\"M107.7146,-216.5708C111.9597,-208.0807 117.1536,-197.6929 121.8663,-188.2674\"/>\n",
       "<polygon fill=\"#000000\" stroke=\"#000000\" points=\"125.024,-189.7782 126.3657,-179.2687 118.763,-186.6477 125.024,-189.7782\"/>\n",
       "</g>\n",
       "<!-- 6 -->\n",
       "<g id=\"node6\" class=\"node\">\n",
       "<title>6</title>\n",
       "<ellipse fill=\"none\" stroke=\"#000000\" cx=\"135\" cy=\"-90\" rx=\"27\" ry=\"18\"/>\n",
       "<text text-anchor=\"middle\" x=\"135\" y=\"-86.3\" font-family=\"Times,serif\" font-size=\"14.00\" fill=\"#000000\">6</text>\n",
       "</g>\n",
       "<!-- 5&#45;&gt;6 -->\n",
       "<g id=\"edge5\" class=\"edge\">\n",
       "<title>5&#45;&gt;6</title>\n",
       "<path fill=\"none\" stroke=\"#000000\" d=\"M135,-143.8314C135,-136.131 135,-126.9743 135,-118.4166\"/>\n",
       "<polygon fill=\"#000000\" stroke=\"#000000\" points=\"138.5001,-118.4132 135,-108.4133 131.5001,-118.4133 138.5001,-118.4132\"/>\n",
       "</g>\n",
       "<!-- 7 -->\n",
       "<g id=\"node7\" class=\"node\">\n",
       "<title>7</title>\n",
       "<ellipse fill=\"none\" stroke=\"#000000\" cx=\"135\" cy=\"-18\" rx=\"27\" ry=\"18\"/>\n",
       "<text text-anchor=\"middle\" x=\"135\" y=\"-14.3\" font-family=\"Times,serif\" font-size=\"14.00\" fill=\"#000000\">7</text>\n",
       "</g>\n",
       "<!-- 6&#45;&gt;7 -->\n",
       "<g id=\"edge6\" class=\"edge\">\n",
       "<title>6&#45;&gt;7</title>\n",
       "<path fill=\"none\" stroke=\"#000000\" d=\"M135,-71.8314C135,-64.131 135,-54.9743 135,-46.4166\"/>\n",
       "<polygon fill=\"#000000\" stroke=\"#000000\" points=\"138.5001,-46.4132 135,-36.4133 131.5001,-46.4133 138.5001,-46.4132\"/>\n",
       "</g>\n",
       "</g>\n",
       "</svg>\n"
      ],
      "text/plain": [
       "<graphviz.dot.Digraph at 0x10ae4f630>"
      ]
     },
     "execution_count": 16,
     "metadata": {},
     "output_type": "execute_result"
    }
   ],
   "source": [
    "d"
   ]
  },
  {
   "cell_type": "code",
   "execution_count": null,
   "metadata": {},
   "outputs": [],
   "source": []
  }
 ],
 "metadata": {
  "kernelspec": {
   "display_name": "Python 3",
   "language": "python",
   "name": "python3"
  },
  "language_info": {
   "codemirror_mode": {
    "name": "ipython",
    "version": 3
   },
   "file_extension": ".py",
   "mimetype": "text/x-python",
   "name": "python",
   "nbconvert_exporter": "python",
   "pygments_lexer": "ipython3",
   "version": "3.6.8"
  }
 },
 "nbformat": 4,
 "nbformat_minor": 2
}
