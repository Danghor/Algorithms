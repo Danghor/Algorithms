{
 "cells": [
  {
   "cell_type": "code",
   "execution_count": 1,
   "metadata": {},
   "outputs": [
    {
     "data": {
      "text/html": [
       "<style>.container { width:100%; !important } </style>"
      ],
      "text/plain": [
       "<IPython.core.display.HTML object>"
      ]
     },
     "metadata": {},
     "output_type": "display_data"
    }
   ],
   "source": [
    "#%autosave 0\n",
    "from IPython.core.display import HTML, display\n",
    "display(HTML('<style>.container { width:100%; !important } </style>'))"
   ]
  },
  {
   "cell_type": "markdown",
   "metadata": {},
   "source": [
    "# Dual Pivot Quicksort"
   ]
  },
  {
   "cell_type": "code",
   "execution_count": 2,
   "metadata": {},
   "outputs": [],
   "source": [
    "def sort(L):\n",
    "    if len(L) <= 1:\n",
    "        return L\n",
    "    x, y, R    = L[0], L[1], L[2:]\n",
    "    p1, p2     = min(x, y), max(x, y)\n",
    "    L1, L2, L3 = partition(p1, p2, R)\n",
    "    return sort(L1) + [p1] + sort(L2) + [p2] + sort(L3)"
   ]
  },
  {
   "cell_type": "code",
   "execution_count": 3,
   "metadata": {},
   "outputs": [],
   "source": [
    "def partition(p1, p2, L):\n",
    "    if L == []:\n",
    "        return [], [], []\n",
    "    x, R       = L[0], L[1:]\n",
    "    R1, R2, R3 = partition(p1, p2, R)\n",
    "    if x < p1:\n",
    "        return [x] + R1, R2, R3\n",
    "    if x <= p2:\n",
    "        return R1, [x] + R2, R3\n",
    "    else:\n",
    "        return R1, R2, [x] + R3"
   ]
  },
  {
   "cell_type": "code",
   "execution_count": 6,
   "metadata": {},
   "outputs": [
    {
     "data": {
      "text/plain": [
       "([1, 2, 4], [5, 6, 7, 8, 5, 8, 13], [19, 27, 17])"
      ]
     },
     "execution_count": 6,
     "metadata": {},
     "output_type": "execute_result"
    }
   ],
   "source": [
    "partition(5, 13, [1,19,27,2,5,6,4,7,8,5,8,17, 13])"
   ]
  },
  {
   "cell_type": "code",
   "execution_count": 7,
   "metadata": {},
   "outputs": [
    {
     "data": {
      "text/plain": [
       "[1, 2, 4, 5, 5, 6, 7, 8, 8, 13, 17, 19, 27]"
      ]
     },
     "execution_count": 7,
     "metadata": {},
     "output_type": "execute_result"
    }
   ],
   "source": [
    "sort([1,19,27,2,5,6,4,7,8,5,8,17,13])"
   ]
  },
  {
   "cell_type": "code",
   "execution_count": null,
   "metadata": {},
   "outputs": [],
   "source": []
  }
 ],
 "metadata": {
  "kernelspec": {
   "display_name": "Python 3",
   "language": "python",
   "name": "python3"
  },
  "language_info": {
   "codemirror_mode": {
    "name": "ipython",
    "version": 3
   },
   "file_extension": ".py",
   "mimetype": "text/x-python",
   "name": "python",
   "nbconvert_exporter": "python",
   "pygments_lexer": "ipython3",
   "version": "3.6.6"
  }
 },
 "nbformat": 4,
 "nbformat_minor": 2
}
