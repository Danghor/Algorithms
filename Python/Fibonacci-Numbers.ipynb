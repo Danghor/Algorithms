{
 "cells": [
  {
   "cell_type": "code",
   "execution_count": 1,
   "metadata": {},
   "outputs": [
    {
     "data": {
      "text/html": [
       "<style>.container { width:100%; !important } </style>"
      ],
      "text/plain": [
       "<IPython.core.display.HTML object>"
      ]
     },
     "metadata": {},
     "output_type": "display_data"
    }
   ],
   "source": [
    "#%autosave 0\n",
    "from IPython.core.display import HTML, display\n",
    "display(HTML('<style>.container { width:100%; !important } </style>'))"
   ]
  },
  {
   "cell_type": "markdown",
   "metadata": {},
   "source": [
    "# The Fibonacci Numbers"
   ]
  },
  {
   "cell_type": "markdown",
   "metadata": {},
   "source": [
    "The <em style=\"color:blue;\">Fibonacci Numbers</em> $F_n$ are defined by induction for all $n\\in\\mathbb{N}$:\n",
    "  - $F_0 := 0$,\n",
    "  - $F_1 := 1$, \n",
    "  - $F_{n+2} = F_{n+1} + F_n$.\n",
    "\n",
    "The function $\\texttt{fib}(n)$ computes the number $F_n$."
   ]
  },
  {
   "cell_type": "code",
   "execution_count": 2,
   "metadata": {},
   "outputs": [],
   "source": [
    "def fib(n):\n",
    "    if n <= 1:\n",
    "        return n\n",
    "    return fib(n-1) + fib(n-2)"
   ]
  },
  {
   "cell_type": "code",
   "execution_count": 3,
   "metadata": {},
   "outputs": [
    {
     "data": {
      "text/plain": [
       "[0, 1, 1, 2, 3, 5, 8, 13, 21, 34, 55, 89, 144, 233, 377, 610, 987, 1597, 2584]"
      ]
     },
     "execution_count": 3,
     "metadata": {},
     "output_type": "execute_result"
    }
   ],
   "source": [
    "[fib(n) for n in range(19)]"
   ]
  },
  {
   "cell_type": "code",
   "execution_count": 4,
   "metadata": {},
   "outputs": [],
   "source": [
    "import time\n",
    "import numpy             as np\n",
    "import matplotlib.pyplot as plt"
   ]
  },
  {
   "cell_type": "code",
   "execution_count": null,
   "metadata": {},
   "outputs": [
    {
     "name": "stdout",
     "output_type": "stream",
     "text": [
      "fib(0) = 0\n",
      "fib(1) = 1\n",
      "fib(2) = 1\n",
      "fib(3) = 2\n",
      "fib(4) = 3\n",
      "fib(5) = 5\n",
      "fib(6) = 8\n",
      "fib(7) = 13\n",
      "fib(8) = 21\n",
      "fib(9) = 34\n",
      "fib(10) = 55\n",
      "fib(11) = 89\n",
      "fib(12) = 144\n",
      "fib(13) = 233\n",
      "fib(14) = 377\n",
      "fib(15) = 610\n",
      "fib(16) = 987\n",
      "fib(17) = 1597\n",
      "fib(18) = 2584\n",
      "fib(19) = 4181\n",
      "fib(20) = 6765\n",
      "fib(21) = 10946\n",
      "fib(22) = 17711\n",
      "fib(23) = 28657\n",
      "fib(24) = 46368\n",
      "fib(25) = 75025\n",
      "fib(26) = 121393\n",
      "fib(27) = 196418\n",
      "fib(28) = 317811\n",
      "fib(29) = 514229\n",
      "fib(30) = 832040\n",
      "fib(31) = 1346269\n",
      "fib(32) = 2178309\n",
      "fib(33) = 3524578\n",
      "fib(34) = 5702887\n",
      "fib(35) = 9227465\n",
      "fib(36) = 14930352\n",
      "fib(37) = 24157817\n",
      "fib(38) = 39088169\n",
      "fib(39) = 63245986\n",
      "fib(40) = 102334155\n",
      "fib(41) = 165580141\n",
      "fib(42) = 267914296\n"
     ]
    }
   ],
   "source": [
    "m = 100\n",
    "Y = np.zeros(m)\n",
    "for n in range(m):\n",
    "    start = time.time()\n",
    "    print(f'fib({n}) = {fib(n)}')\n",
    "    stop  = time.time()\n",
    "    Y[n] = stop - start"
   ]
  },
  {
   "cell_type": "code",
   "execution_count": null,
   "metadata": {},
   "outputs": [],
   "source": [
    "X = np.array(range(m))\n",
    "plt.figure(figsize=(12,8))\n",
    "plt.plot(X, Y) \n",
    "plt.xlabel('n')\n",
    "plt.ylabel('time in seconds')\n",
    "plt.title('Time to Compute the Fibonacci Numbers')\n",
    "plt.show()"
   ]
  },
  {
   "cell_type": "code",
   "execution_count": null,
   "metadata": {},
   "outputs": [],
   "source": [
    "plt.figure(figsize=(12,8))\n",
    "plt.plot(X, Y) \n",
    "plt.yscale('log')\n",
    "plt.xlabel('n')\n",
    "plt.ylabel('time in seconds')\n",
    "plt.title('Time to Compute the Fibonacci Numbers, Logarithmic Plot')\n",
    "plt.show()"
   ]
  },
  {
   "cell_type": "markdown",
   "metadata": {},
   "source": [
    "If we want to compute the Fibonacci numbers efficiently, we must not compute the value`fib(n)` for a given `n` twice.  The easiest way to achieve this is by storing the Fibnacci numbers in a list `L`.  In the implementation below, `L[n]` stores the $n$-th Fibonacci number."
   ]
  },
  {
   "cell_type": "code",
   "execution_count": null,
   "metadata": {},
   "outputs": [],
   "source": [
    "def fibMem(n):\n",
    "    if n <= 1:\n",
    "        return n\n",
    "    L    = [0 for k in range(n+1)]\n",
    "    L[0] = 0\n",
    "    L[1] = 1\n",
    "    for k in range(2, n+1):\n",
    "        L[k] = L[k-1] + L[k-2]\n",
    "    return L[n]"
   ]
  },
  {
   "cell_type": "code",
   "execution_count": null,
   "metadata": {},
   "outputs": [],
   "source": [
    "%%time\n",
    "x = fibMem(10000)"
   ]
  },
  {
   "cell_type": "code",
   "execution_count": null,
   "metadata": {},
   "outputs": [],
   "source": [
    "x"
   ]
  },
  {
   "cell_type": "code",
   "execution_count": null,
   "metadata": {},
   "outputs": [],
   "source": [
    "def memoize(f):\n",
    "    cache = {}\n",
    "    def memoizedF(n):\n",
    "        if n not in cache:\n",
    "            cache[n] = f(n)\n",
    "        return cache[n]\n",
    "    return memoizedF"
   ]
  },
  {
   "cell_type": "code",
   "execution_count": null,
   "metadata": {},
   "outputs": [],
   "source": [
    "fib = memoize(fib)"
   ]
  },
  {
   "cell_type": "code",
   "execution_count": null,
   "metadata": {},
   "outputs": [],
   "source": [
    "fib(1000)"
   ]
  },
  {
   "cell_type": "code",
   "execution_count": null,
   "metadata": {},
   "outputs": [],
   "source": [
    "import sys"
   ]
  },
  {
   "cell_type": "code",
   "execution_count": null,
   "metadata": {},
   "outputs": [],
   "source": [
    "sys.setrecursionlimit(20000)"
   ]
  },
  {
   "cell_type": "code",
   "execution_count": null,
   "metadata": {},
   "outputs": [],
   "source": [
    "%%time\n",
    "fib(10000)"
   ]
  },
  {
   "cell_type": "code",
   "execution_count": null,
   "metadata": {},
   "outputs": [],
   "source": []
  }
 ],
 "metadata": {
  "kernelspec": {
   "display_name": "Python 3",
   "language": "python",
   "name": "python3"
  },
  "language_info": {
   "codemirror_mode": {
    "name": "ipython",
    "version": 3
   },
   "file_extension": ".py",
   "mimetype": "text/x-python",
   "name": "python",
   "nbconvert_exporter": "python",
   "pygments_lexer": "ipython3",
   "version": "3.6.7"
  }
 },
 "nbformat": 4,
 "nbformat_minor": 2
}
