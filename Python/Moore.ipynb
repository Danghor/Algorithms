{
 "cells": [
  {
   "cell_type": "code",
   "execution_count": null,
   "metadata": {},
   "outputs": [],
   "source": [
    "#%autosave 0\n",
    "from IPython.core.display import HTML, display\n",
    "display(HTML('<style>.container { width:100%; !important } </style>'))"
   ]
  },
  {
   "cell_type": "markdown",
   "metadata": {},
   "source": [
    "# Moore's Shortest Path Algorithm"
   ]
  },
  {
   "cell_type": "markdown",
   "metadata": {},
   "source": [
    "Given a node `source` and a dictionary `Edges`, the function call \n",
    "$\\texttt{shortest_path}(\\texttt{source}, \\texttt{Edges})$ \n",
    "computes the distances of all nodes from `source`."
   ]
  },
  {
   "cell_type": "code",
   "execution_count": null,
   "metadata": {},
   "outputs": [],
   "source": [
    "def shortest_path(source, Edges):\n",
    "    Distance = { source: 0 }\n",
    "    Fringe   = [ source ]\n",
    "    while len(Fringe) > 0:\n",
    "        u = Fringe.pop()\n",
    "        display(toDot(source, u, Edges, Fringe, Distance))\n",
    "        for v, l in Edges[u]:\n",
    "            if Distance.get(v, None) == None or Distance[u] + l < Distance[v]:\n",
    "                Distance[v] = Distance[u] + l\n",
    "                Fringe = Fringe + [v] \n",
    "    display(toDot(source, None, Edges, Fringe, Distance))\n",
    "    return Distance"
   ]
  },
  {
   "cell_type": "markdown",
   "metadata": {},
   "source": [
    "## Code to Display the Directed Graph"
   ]
  },
  {
   "cell_type": "code",
   "execution_count": null,
   "metadata": {},
   "outputs": [],
   "source": [
    "import graphviz as gv"
   ]
  },
  {
   "cell_type": "markdown",
   "metadata": {},
   "source": [
    "The function $\\texttt{toDot}(\\texttt{source}, \\texttt{Edges}, \\texttt{Fringe}, \\texttt{Distance})$ takes a graph that is represented by \n",
    "its `Edges`, a set of nodes `Fringe`, and a dictionary `Distance` that has the distance of a node from the node `source`."
   ]
  },
  {
   "cell_type": "code",
   "execution_count": null,
   "metadata": {},
   "outputs": [],
   "source": [
    "def toDot(source, p, Edges, Fringe, Distance):\n",
    "    V = set()\n",
    "    for x in Edges.keys():\n",
    "        V.add(x)\n",
    "    dot = gv.Digraph(node_attr={'shape': 'record', 'style': 'rounded'})\n",
    "    for x in V:\n",
    "        if x == source:\n",
    "            dot.node(str(x), color='blue', shape='doublecircle')\n",
    "        else:\n",
    "            d = str(Distance.get(x, ''))\n",
    "            if x == p:\n",
    "                dot.node(str(x), label='{' + str(x) + '|' + d + '}', color='magenta')\n",
    "            elif x in Fringe:\n",
    "                dot.node(str(x), label='{' + str(x) + '|' + d + '}', color='red')\n",
    "            else:\n",
    "                dot.node(str(x), label='{' + str(x) + '|' + d + '}')\n",
    "    for u in V:\n",
    "        for v, l in Edges[u]:\n",
    "            dot.edge(str(u), str(v), label=str(l))\n",
    "    return dot"
   ]
  },
  {
   "cell_type": "markdown",
   "metadata": {},
   "source": [
    "## Code for Testing"
   ]
  },
  {
   "cell_type": "code",
   "execution_count": null,
   "metadata": {},
   "outputs": [],
   "source": [
    "Edges = { 'a': (('b', 2), ('c', 3)), \n",
    "          'b': (('d', 1), ),\n",
    "          'c': (('e', 3), ('g', 3)),  \n",
    "          'd': (('e', 2), ('f', 4)),  \n",
    "          'e': (('f', 1), ),\n",
    "          'f': (('a', 5), ),\n",
    "          'g': (('e', 4), )\n",
    "        }"
   ]
  },
  {
   "cell_type": "code",
   "execution_count": null,
   "metadata": {
    "scrolled": false
   },
   "outputs": [],
   "source": [
    "M  = { x for x in Edges.keys() }\n",
    "s  = 'a'\n",
    "sp = shortest_path(s, Edges);"
   ]
  },
  {
   "cell_type": "code",
   "execution_count": null,
   "metadata": {},
   "outputs": [],
   "source": []
  }
 ],
 "metadata": {
  "kernelspec": {
   "display_name": "Python 3",
   "language": "python",
   "name": "python3"
  },
  "language_info": {
   "codemirror_mode": {
    "name": "ipython",
    "version": 3
   },
   "file_extension": ".py",
   "mimetype": "text/x-python",
   "name": "python",
   "nbconvert_exporter": "python",
   "pygments_lexer": "ipython3",
   "version": "3.7.3"
  }
 },
 "nbformat": 4,
 "nbformat_minor": 2
}
