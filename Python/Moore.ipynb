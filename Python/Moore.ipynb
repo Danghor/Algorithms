{
 "cells": [
  {
   "cell_type": "code",
   "execution_count": null,
   "metadata": {},
   "outputs": [],
   "source": [
    "%autosave 0\n",
    "from IPython.core.display import HTML, display\n",
    "display(HTML('<style>.container { width:100%; !important } </style>'))"
   ]
  },
  {
   "cell_type": "markdown",
   "metadata": {},
   "source": [
    "# Moore's Shortest Path Algorithm"
   ]
  },
  {
   "cell_type": "markdown",
   "metadata": {},
   "source": [
    "Given a node `source` and a dictionary `Edges`, the function call \n",
    "$\\texttt{shortest_path}(\\texttt{source}, \\texttt{Edges})$ \n",
    "computes the distances of all nodes from `source`."
   ]
  },
  {
   "cell_type": "code",
   "execution_count": null,
   "metadata": {},
   "outputs": [],
   "source": [
    "def shortest_path(source, Edges):\n",
    "    Distance = { source: 0 }\n",
    "    Fringe   = [ source ]\n",
    "    while len(Fringe) > 0:\n",
    "        u = Fringe.pop()\n",
    "        display(toDot(source, u, Edges, Fringe, Distance))\n",
    "        print('_' * 80)\n",
    "        for v, l in Edges[u]:\n",
    "            dv = Distance.get(v, None)\n",
    "            if dv == None or Distance[u] + l < dv:\n",
    "                Distance[v] = Distance[u] + l\n",
    "                if v not in Fringe: \n",
    "                    Fringe += [v] \n",
    "    display(toDot(source, None, Edges, Fringe, Distance))\n",
    "    return Distance"
   ]
  },
  {
   "cell_type": "markdown",
   "metadata": {},
   "source": [
    "## Code to Display the Directed Graph"
   ]
  },
  {
   "cell_type": "code",
   "execution_count": null,
   "metadata": {},
   "outputs": [],
   "source": [
    "import graphviz as gv"
   ]
  },
  {
   "cell_type": "markdown",
   "metadata": {},
   "source": [
    "The function $\\texttt{toDot}(\\texttt{source}, \\texttt{Edges}, \\texttt{Fringe}, \\texttt{Distance})$ takes a graph that is represented by \n",
    "its `Edges`, a set of nodes `Fringe`, and a dictionary `Distance` that has the distance of a node from the node `source`."
   ]
  },
  {
   "cell_type": "code",
   "execution_count": null,
   "metadata": {},
   "outputs": [],
   "source": [
    "def toDot(source, p, Edges, Fringe, Distance):\n",
    "    V = set()\n",
    "    for x in Edges.keys():\n",
    "        V.add(x)\n",
    "    dot = gv.Digraph(node_attr={'shape': 'record', 'style': 'rounded'})\n",
    "    dot.attr(rankdir='LR', size='8,5')\n",
    "    for x in V:\n",
    "        if x == source:\n",
    "            dot.node(str(x), color='blue', shape='doublecircle')\n",
    "        else:\n",
    "            d = str(Distance.get(x, ''))\n",
    "            if x == p:\n",
    "                dot.node(str(x), label='{' + str(x) + '|' + d + '}', color='magenta')\n",
    "            elif x in Fringe:\n",
    "                dot.node(str(x), label='{' + str(x) + '|' + d + '}', color='red')\n",
    "            else:\n",
    "                dot.node(str(x), label='{' + str(x) + '|' + d + '}')\n",
    "    for u in V:\n",
    "        for v, l in Edges[u]:\n",
    "            dot.edge(str(u), str(v), label=str(l))\n",
    "    return dot"
   ]
  },
  {
   "cell_type": "markdown",
   "metadata": {},
   "source": [
    "## Code for Testing"
   ]
  },
  {
   "cell_type": "code",
   "execution_count": null,
   "metadata": {},
   "outputs": [],
   "source": [
    "Edges = { 'a': [ ('c', 2), ('b', 9)], \n",
    "          'b': [('d', 1)],\n",
    "          'c': [('e', 5), ('g', 3)],  \n",
    "          'd': [('f', 2), ('e', 4)],  \n",
    "          'e': [('f', 1), ('b', 2)],\n",
    "          'f': [('h', 5)],\n",
    "          'g': [('e', 1)],\n",
    "          'h': []\n",
    "        }"
   ]
  },
  {
   "cell_type": "code",
   "execution_count": null,
   "metadata": {
    "scrolled": false
   },
   "outputs": [],
   "source": [
    "s  = 'a'\n",
    "sp = shortest_path(s, Edges)\n",
    "sp"
   ]
  },
  {
   "cell_type": "code",
   "execution_count": null,
   "metadata": {},
   "outputs": [],
   "source": []
  }
 ],
 "metadata": {
  "hide_input": false,
  "kernelspec": {
   "display_name": "Python 3",
   "language": "python",
   "name": "python3"
  },
  "language_info": {
   "codemirror_mode": {
    "name": "ipython",
    "version": 3
   },
   "file_extension": ".py",
   "mimetype": "text/x-python",
   "name": "python",
   "nbconvert_exporter": "python",
   "pygments_lexer": "ipython3",
   "version": "3.6.7"
  },
  "latex_envs": {
   "LaTeX_envs_menu_present": true,
   "autoclose": false,
   "autocomplete": true,
   "bibliofile": "biblio.bib",
   "cite_by": "apalike",
   "current_citInitial": 1,
   "eqLabelWithNumbers": true,
   "eqNumInitial": 1,
   "hotkeys": {
    "equation": "Ctrl-E",
    "itemize": "Ctrl-I"
   },
   "labels_anchors": false,
   "latex_user_defs": false,
   "report_style_numbering": false,
   "user_envs_cfg": false
  },
  "toc": {
   "base_numbering": 1,
   "nav_menu": {},
   "number_sections": true,
   "sideBar": true,
   "skip_h1_title": false,
   "title_cell": "Table of Contents",
   "title_sidebar": "Contents",
   "toc_cell": false,
   "toc_position": {
    "height": "calc(100% - 180px)",
    "left": "10px",
    "top": "150px",
    "width": "165px"
   },
   "toc_section_display": true,
   "toc_window_display": false
  },
  "varInspector": {
   "cols": {
    "lenName": 16,
    "lenType": 16,
    "lenVar": 40
   },
   "kernels_config": {
    "python": {
     "delete_cmd_postfix": "",
     "delete_cmd_prefix": "del ",
     "library": "var_list.py",
     "varRefreshCmd": "print(var_dic_list())"
    },
    "r": {
     "delete_cmd_postfix": ") ",
     "delete_cmd_prefix": "rm(",
     "library": "var_list.r",
     "varRefreshCmd": "cat(var_dic_list()) "
    }
   },
   "types_to_exclude": [
    "module",
    "function",
    "builtin_function_or_method",
    "instance",
    "_Feature"
   ],
   "window_display": false
  }
 },
 "nbformat": 4,
 "nbformat_minor": 2
}
