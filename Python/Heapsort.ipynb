{
 "cells": [
  {
   "cell_type": "code",
   "execution_count": null,
   "metadata": {},
   "outputs": [],
   "source": [
    "#%autosave 0\n",
    "from IPython.core.display import display, HTML\n",
    "display(HTML('<style>.container { width:100%; !important } </style>'))"
   ]
  },
  {
   "cell_type": "markdown",
   "metadata": {},
   "source": [
    "# Heapsort"
   ]
  },
  {
   "cell_type": "code",
   "execution_count": null,
   "metadata": {},
   "outputs": [],
   "source": [
    "import graphviz as gv"
   ]
  },
  {
   "cell_type": "code",
   "execution_count": null,
   "metadata": {},
   "outputs": [],
   "source": [
    "def toDot(A, f, g):\n",
    "    n   = len(A)\n",
    "    dot = gv.Digraph(node_attr={'shape': 'record'})\n",
    "    for k, p in enumerate(A):\n",
    "        if k < f:\n",
    "            dot.node(str(k), label='{' + str(p) + '|' + str(k) + '}', style='filled', fillcolor='red')\n",
    "        elif k < g:\n",
    "            dot.node(str(k), label='{' + str(p) + '|' + str(k) + '}', style='rounded')\n",
    "        else:\n",
    "            dot.node(str(k), label='{' + str(p) + '|' + str(k) + '}', style='filled', fillcolor='green')\n",
    "    for k in range(0, n // 2):\n",
    "        if 2 * k + 1 < g:\n",
    "            dot.edge(str(k), str(2 * k + 1))\n",
    "        if 2 * k + 2 < g:\n",
    "            dot.edge(str(k), str(2 * k + 2))\n",
    "    return dot"
   ]
  },
  {
   "cell_type": "code",
   "execution_count": null,
   "metadata": {},
   "outputs": [],
   "source": [
    "def swap(A, i, j):\n",
    "    A[i], A[j] = A[j], A[i]"
   ]
  },
  {
   "cell_type": "code",
   "execution_count": null,
   "metadata": {},
   "outputs": [],
   "source": [
    "def sink(A, k, n):\n",
    "    while 2 * k + 1 <= n:\n",
    "        j = 2 * k + 1\n",
    "        if j + 1 <= n and A[j] > A[j + 1]:\n",
    "            j += 1\n",
    "        if A[k] < A[j]:\n",
    "            return\n",
    "        swap(A, k, j)\n",
    "        k = j"
   ]
  },
  {
   "cell_type": "code",
   "execution_count": null,
   "metadata": {},
   "outputs": [],
   "source": [
    "def heap_sort(A):\n",
    "    n = len(A) - 1\n",
    "    display(toDot(A, n // 2, len(A)))\n",
    "    for k in range((n + 1) // 2 - 1, -1, -1):\n",
    "        sink(A, k, n)\n",
    "        print(f'k = {k}')\n",
    "        display(toDot(A[:], k, len(A)))\n",
    "    while n >= 0:\n",
    "        swap(A, 0, n)\n",
    "        n -= 1\n",
    "        sink(A, 0, n)\n",
    "        print(f'n = {n+1}')\n",
    "        display(toDot(A[:], 0, n + 1))"
   ]
  },
  {
   "cell_type": "code",
   "execution_count": null,
   "metadata": {},
   "outputs": [],
   "source": [
    "import random as rnd"
   ]
  },
  {
   "cell_type": "code",
   "execution_count": null,
   "metadata": {},
   "outputs": [],
   "source": [
    "def demo():\n",
    "    L = [ rnd.randrange(1, 200) for n in range(1, 16) ]\n",
    "    print(\"L = \", L)\n",
    "    heap_sort(L)\n",
    "    print(\"L = \", L)"
   ]
  },
  {
   "cell_type": "code",
   "execution_count": null,
   "metadata": {
    "scrolled": false
   },
   "outputs": [],
   "source": [
    "demo()"
   ]
  },
  {
   "cell_type": "code",
   "execution_count": null,
   "metadata": {},
   "outputs": [],
   "source": []
  }
 ],
 "metadata": {
  "kernelspec": {
   "display_name": "Python 3",
   "language": "python",
   "name": "python3"
  },
  "language_info": {
   "codemirror_mode": {
    "name": "ipython",
    "version": 3
   },
   "file_extension": ".py",
   "mimetype": "text/x-python",
   "name": "python",
   "nbconvert_exporter": "python",
   "pygments_lexer": "ipython3",
   "version": "3.6.7"
  }
 },
 "nbformat": 4,
 "nbformat_minor": 2
}
