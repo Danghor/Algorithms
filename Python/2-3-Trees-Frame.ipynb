{
 "cells": [
  {
   "cell_type": "code",
   "execution_count": null,
   "metadata": {},
   "outputs": [],
   "source": [
    "#%autosave 0\n",
    "from IPython.core.display import HTML, display\n",
    "display(HTML('<style>.container { width:100%; !important } </style>'))"
   ]
  },
  {
   "cell_type": "markdown",
   "metadata": {},
   "source": [
    "# 2-3 Trees"
   ]
  },
  {
   "cell_type": "code",
   "execution_count": null,
   "metadata": {},
   "outputs": [],
   "source": [
    "import graphviz as gv"
   ]
  },
  {
   "cell_type": "markdown",
   "metadata": {},
   "source": [
    "Ths notebook presents <a href=\"https://en.wikipedia.org/wiki/2-3_tree\">2-3 trees</a>.  We define these trees inductively as follows:\n",
    "  - $\\texttt{Nil}$ is a 2-3 tree that represents the empty set.\n",
    "  - $\\texttt{Two}(l, k, r)$ is a 2-3 tree provided that\n",
    "      - $l$ is a 2-3 tree,\n",
    "      - $k$ is a key,\n",
    "      - $r$ is a 2-3 tree,\n",
    "      - all keys stored in $l$ are less than k and all keys stored in $r$ are bigger than $k$, that is we have\n",
    "        $$ l < k < r. $$\n",
    "      - $l$ and $r$ have the same height.\n",
    "      A node of the form  $\\texttt{Two}(l, k, r)$ is called a *2-node*.  Except for the fact\n",
    "      that there is no value, a 2-node is\n",
    "      interpreted in the same way as we have interpreted the term $\\texttt{Node}(k, v, l, r)$.\n",
    "  - $\\texttt{Three}(l, k_l, m, k_r, r)$ is a 2-3 tree provided\n",
    "      - $l$, $m$, and $r$ are 2-3 trees,\n",
    "      - $k_l$ and $k_r$ are keys,\n",
    "      - $l < k_l < m < k_r < r$,\n",
    "      - $l$, $m$, and $r$ have the same height.\n",
    "      A node of the form  $\\texttt{Three}(l, k_l, m, k_r, r)$ is called a *3-node*. \n",
    "\n",
    "In order to keep 2-3 trees balanced when inserting new keys, we use a fourth constructor of the form\n",
    "$\\texttt{Four}(l,k_1,m_l, k_2, m_r, k_3, r)$.\n",
    "A term of the form $\\texttt{Four}(l,k_1,m_l, k_2, m_r, k_3, r)$ is a *2-3-4 tree* iff\n",
    "  - $l$, $m_l$, $m_r$, and $r$ are 2-3 trees,\n",
    "  - $k_l$, $k_m$, and $k_r$ are keys,\n",
    "  - $l < k_l < m_l < k_m < m_r < k_r < r$,\n",
    "  - $l$, $m_l$, $m_r$, and $r$ all have the same height.\n",
    "  \n",
    "Nodes of this form are called *4-nodes* and the key $k_m$ is called the *middle key*.\n",
    "Trees containing 2-nodes, 3-node, and 4-nodes are called *2-3-4 trees*."
   ]
  },
  {
   "cell_type": "markdown",
   "metadata": {},
   "source": [
    "The class `TwoThreeTree` is a *superclass* for constructing the nodes of *2-3-4 trees*.  It has one static variable `sNodeCount`.  This variable is used to equip all nodes with a unique identifier.  This identifier is used to draw the trees using `graphviz`.\n",
    "\n",
    "Every node has a uniques id `mID` that is stored as a member variable.  Furthermore, this class provides defaults for the functions `isNil`, `isTwo`, `isThree`, and `isFour`.  These functions can be used to check the type of a node."
   ]
  },
  {
   "cell_type": "code",
   "execution_count": null,
   "metadata": {},
   "outputs": [],
   "source": [
    "class TwoThreeTree:\n",
    "    sNodeCount = 0\n",
    "    \n",
    "    def __init__(self):\n",
    "        TwoThreeTree.sNodeCount += 1\n",
    "        self.mID = TwoThreeTree.sNodeCount\n",
    "        \n",
    "    def getID(self):\n",
    "        return self.mID\n",
    "        \n",
    "    def isNil(self):\n",
    "        return False\n",
    "    \n",
    "    def isTwo(self):\n",
    "        return False\n",
    "    \n",
    "    def isThree(self):\n",
    "        return False\n",
    "    \n",
    "    def isFour(self):\n",
    "        return False\n",
    "    \n",
    "    def insert(self, k):\n",
    "        return self._ins(k)._restore()._grow()\n",
    "    \n",
    "    def _grow(self):\n",
    "        return self"
   ]
  },
  {
   "cell_type": "markdown",
   "metadata": {},
   "source": [
    "The method $t.\\texttt{toDot}()$ takes a 2-3-4 tree $t$ and returns a graph that depicts the tree $t$."
   ]
  },
  {
   "cell_type": "code",
   "execution_count": null,
   "metadata": {},
   "outputs": [],
   "source": [
    "def toDot(self):\n",
    "    dot = gv.Digraph(node_attr={'shape': 'record', 'style': 'rounded'})\n",
    "    nodeDict = {}\n",
    "    self._collectIDs(nodeDict)\n",
    "    for n, t in nodeDict.items():\n",
    "        if t.isNil():\n",
    "            dot.node(str(n), label='', shape='point')\n",
    "        elif t.isTwo():\n",
    "            dot.node(str(n), label=str(t.mKey))\n",
    "        elif t.isThree():\n",
    "            dot.node(str(n), label=str(t.mKeyL) + '|' + str(t.mKeyR))\n",
    "        elif t.isFour():\n",
    "            dot.node(str(n), label=str(t.mKeyL) + '|' + str(t.mKeyM) + '|' + str(t.mKeyR))\n",
    "    for n, t in nodeDict.items():\n",
    "        if t.isTwo():\n",
    "            dot.edge(str(n), str(t.mLeft .getID()))\n",
    "            dot.edge(str(n), str(t.mRight.getID()))\n",
    "        if t.isThree():\n",
    "            dot.edge(str(n), str(t.mLeft  .getID()))\n",
    "            dot.edge(str(n), str(t.mMiddle.getID()))\n",
    "            dot.edge(str(n), str(t.mRight .getID()))\n",
    "        if t.isFour():\n",
    "            dot.edge(str(n), str(t.mLeft   .getID()))\n",
    "            dot.edge(str(n), str(t.mMiddleL.getID()))\n",
    "            dot.edge(str(n), str(t.mMiddleR.getID()))\n",
    "            dot.edge(str(n), str(t.mRight  .getID()))\n",
    "    return dot\n",
    "\n",
    "TwoThreeTree.toDot = toDot"
   ]
  },
  {
   "cell_type": "markdown",
   "metadata": {},
   "source": [
    "The method $t.\\texttt{collectIDs}(d)$ takes a tree $t$ and a dictionary $d$ and updates the dictionary so that the following holds:\n",
    "$$ d[\\texttt{id}] = n \\quad \\mbox{for every node $n$ in $t$.} $$\n",
    "Here, $\\texttt{id}$ is the unique identifier of the node $n$, i.e. $d$ associates the identifiers with the corresponding nodes."
   ]
  },
  {
   "cell_type": "code",
   "execution_count": null,
   "metadata": {},
   "outputs": [],
   "source": [
    "def _collectIDs(self, nodeDict):\n",
    "    nodeDict[self.getID()] = self\n",
    "    if self.isTwo():\n",
    "        self.mLeft ._collectIDs(nodeDict)\n",
    "        self.mRight._collectIDs(nodeDict)\n",
    "    elif self.isThree():\n",
    "        self.mLeft  ._collectIDs(nodeDict)\n",
    "        self.mMiddle._collectIDs(nodeDict)\n",
    "        self.mRight ._collectIDs(nodeDict)\n",
    "    elif self.isFour():\n",
    "        self.mLeft   ._collectIDs(nodeDict)\n",
    "        self.mMiddleL._collectIDs(nodeDict)\n",
    "        self.mMiddleR._collectIDs(nodeDict)\n",
    "        self.mRight  ._collectIDs(nodeDict)\n",
    "    \n",
    "TwoThreeTree._collectIDs = _collectIDs"
   ]
  },
  {
   "cell_type": "markdown",
   "metadata": {},
   "source": [
    "The class `Nil` represents an empty tree."
   ]
  },
  {
   "cell_type": "code",
   "execution_count": null,
   "metadata": {},
   "outputs": [],
   "source": [
    "class Nil(TwoThreeTree):\n",
    "    def __init__(self):\n",
    "        TwoThreeTree.__init__(self)\n",
    "        \n",
    "    def __str__(self):\n",
    "        return 'Nil()'\n",
    "    \n",
    "    def isNil(self):\n",
    "        return True"
   ]
  },
  {
   "cell_type": "markdown",
   "metadata": {},
   "source": [
    "The empty tree does not contain any keys:\n",
    "$$ \\texttt{Nil}.\\texttt{member}(k) = \\texttt{False} $$"
   ]
  },
  {
   "cell_type": "code",
   "execution_count": null,
   "metadata": {},
   "outputs": [],
   "source": [
    "def member(self, k):\n",
    "    return \"your code here\"\n",
    "\n",
    "Nil.member = member"
   ]
  },
  {
   "cell_type": "markdown",
   "metadata": {},
   "source": [
    "Insertings a key $k$ into an empty node returns a 2-node.\n",
    "$$ \\texttt{Nil}.\\texttt{ins}(k) = \\texttt{Two}(\\texttt{Nil}, k, \\texttt{Nil}) $$"
   ]
  },
  {
   "cell_type": "code",
   "execution_count": null,
   "metadata": {},
   "outputs": [],
   "source": [
    "def _ins(self, k):\n",
    "    return \"your code here\"\n",
    "\n",
    "Nil._ins = _ins"
   ]
  },
  {
   "cell_type": "markdown",
   "metadata": {},
   "source": [
    "The class `Two` represents a 2-node."
   ]
  },
  {
   "cell_type": "code",
   "execution_count": null,
   "metadata": {},
   "outputs": [],
   "source": [
    "class Two(TwoThreeTree):\n",
    "    def __init__(self, left, key, right):\n",
    "        TwoThreeTree.__init__(self)\n",
    "        self.mLeft  = left\n",
    "        self.mKey   = key\n",
    "        self.mRight = right\n",
    "        \n",
    "    def isTwo(self):\n",
    "        return True\n",
    "\n",
    "    def __str__(self):\n",
    "        return 'Two(' + str(self.mLeft) + ',' + str(self.mKey) + ',' + str(self.mRight) + ')'"
   ]
  },
  {
   "cell_type": "markdown",
   "metadata": {},
   "source": [
    "The method `extract` returns the member variables stored in a 2-node."
   ]
  },
  {
   "cell_type": "code",
   "execution_count": null,
   "metadata": {},
   "outputs": [],
   "source": [
    "def _extract(self):\n",
    "    return self.mLeft, self.mKey, self.mRight\n",
    "\n",
    "Two._extract = _extract"
   ]
  },
  {
   "cell_type": "markdown",
   "metadata": {},
   "source": [
    "Given a 2-node $t$ and a key $k$, the method $t.\\texttt{member}(k)$ checks whether the key $k$ occurs in $t$.  It is specified as follows:\n",
    "  - $\\texttt{Two}(l,k,r).\\texttt{member}(k) = \\texttt{True}$,\n",
    "  - $k_1 < k_2 \\rightarrow \\texttt{Two}(l,k_1,r).\\texttt{member}(k_2) = r.\\texttt{member}(k_2)$,\n",
    "  - $k_1 > k_2 \\rightarrow \\texttt{Two}(l,k_1,r).\\texttt{member}(k_2) = l.\\texttt{member}(k_2)$."
   ]
  },
  {
   "cell_type": "code",
   "execution_count": null,
   "metadata": {},
   "outputs": [],
   "source": [
    "def member(self, key):\n",
    "    \"your code here\"\n",
    "\n",
    "Two.member = member"
   ]
  },
  {
   "cell_type": "markdown",
   "metadata": {},
   "source": [
    "The method $t.\\texttt{ins}(k)$ takes a 2-3 tree $t$ and and a key $k$ and inserts the key $k$ into $t$.\n",
    "It returns a 2-3-4 tree that has at most one 4-node, which has to be a child of the root\n",
    "node.  The function \\texttt{ins} is recursive and uses the function $\\texttt{restore}$ defined below. \n",
    "It is defined as follows:\n",
    "  - $\\texttt{Two}(l,k,r).\\texttt{ins}(k) = \\texttt{Two}(l,k,r)$,\n",
    "  - $k_1 < k_2 \\rightarrow \\texttt{Two}(\\texttt{Nil},k_1,\\texttt{Nil}).\\texttt{ins}(k_2) = \\texttt{Three}(\\texttt{Nil},k_1,\\texttt{Nil},k_2,\\texttt{Nil})$,\n",
    "  - $k_2 < k_1 \\rightarrow \\texttt{Two}(\\texttt{Nil},k_1,\\texttt{Nil}).\\texttt{ins}(k_2) = \\texttt{Three}(\\texttt{Nil},k_2,\\texttt{Nil},k_1,\\texttt{Nil})$,\n",
    "  - $k_1 < k_2 \\wedge l \\not= \\texttt{Nil} \\wedge r \\not= \\texttt{Nil} \\rightarrow \\texttt{Two}(l,k_1,r).\\texttt{ins}(k_2) = \\texttt{Two}(l,k_1,r.\\texttt{ins}(k)).\\texttt{restore}()$,\n",
    "  - $k_2 < k_1 \\wedge l \\not= \\texttt{Nil} \\wedge r \\not= \\texttt{Nil} \\rightarrow \\texttt{Two}(l,k_1,r).\\texttt{ins}(k_2) = \\texttt{Two}(l.\\texttt{ins}(k),k_1,r).\\texttt{restore}()$."
   ]
  },
  {
   "cell_type": "code",
   "execution_count": null,
   "metadata": {},
   "outputs": [],
   "source": [
    "def _ins(self, key):\n",
    "    \"your code here\"\n",
    "    \n",
    "Two._ins = _ins"
   ]
  },
  {
   "cell_type": "markdown",
   "metadata": {},
   "source": [
    "The function call $t.\\texttt{restore}()$ takes a 2-3-4 tree $t$ that has at most one 4-node. This 4-node has to be a child\n",
    "of the root.  It returns a 2-3-4 tree that has at most one 4-node.  This 4-node has to be the root node.\n",
    "It is specified as follows:\n",
    "  - $\\texttt{Two}\\bigl(\\texttt{Four}(l_1,k_l,m_l,k_m,m_r,k_r,r_1), k, r\\bigr).\\texttt{restore}() = \n",
    "     \\texttt{Three}\\bigl(\\texttt{Two}(l_1, k_l, m_l), k_m, \\texttt{Two}(m_r, k_r, r_1), k, r\\bigr) $,\n",
    "  - $\\texttt{Two}\\bigl(l, k, \\texttt{Four}(l_1,k_l,m_l,k_m,m_r,k_r,r_1)\\bigr).\\texttt{restore}() = \n",
    "     \\texttt{Three}\\bigl(l, k, \\texttt{Two}(l_1, k_l, m_l), k_m, \\texttt{Two}(m_r, k_r, r_1)\\bigr) $\n",
    "\n",
    "If neither the left nor the right child node of a 2-node is a 4-node, the node is returned unchanged."
   ]
  },
  {
   "cell_type": "code",
   "execution_count": null,
   "metadata": {},
   "outputs": [],
   "source": [
    "def _restore(self):\n",
    "    \"your code here\"\n",
    "\n",
    "Two._restore = _restore"
   ]
  },
  {
   "cell_type": "markdown",
   "metadata": {},
   "source": [
    "The class `Three` represents a 3-node."
   ]
  },
  {
   "cell_type": "code",
   "execution_count": null,
   "metadata": {},
   "outputs": [],
   "source": [
    "class Three(TwoThreeTree):\n",
    "    def __init__(self, left, keyL, middle, keyR, right):\n",
    "        TwoThreeTree.__init__(self)\n",
    "        self.mLeft   = left\n",
    "        self.mKeyL   = keyL\n",
    "        self.mMiddle = middle\n",
    "        self.mKeyR   = keyR\n",
    "        self.mRight  = right\n",
    "        \n",
    "    def __str__(self):\n",
    "        return 'Three(' + str(self.mLeft) + ',' + str(self.mKeyL) + ',' + \\\n",
    "                          str(self.mMiddle) + ',' + str(self.mKeyR) + ',' + str(self.mRight) + ')'\n",
    "    \n",
    "    def isThree(self):\n",
    "        return True"
   ]
  },
  {
   "cell_type": "markdown",
   "metadata": {},
   "source": [
    "The method `extract` returns the member variables stored in a 3-node."
   ]
  },
  {
   "cell_type": "code",
   "execution_count": null,
   "metadata": {},
   "outputs": [],
   "source": [
    "def _extract(self):\n",
    "    return self.mLeft, self.mKeyL, self.mMiddle, self.mKeyR, self.mRight\n",
    "\n",
    "Three._extract = _extract"
   ]
  },
  {
   "cell_type": "markdown",
   "metadata": {},
   "source": [
    "Given a 3-node $t$ and a key $k$, the method $t.\\texttt{member}(k)$ checks whether the key $k$ occurs in $t$.  It is specified as follows:\n",
    "  - $k = k_l \\vee k = k_r \\rightarrow \\texttt{Three}(l,k_l,m,k_r,r).\\texttt{member}(k) = \\texttt{True}$,\n",
    "  - $k < k_l \\rightarrow \\texttt{Three}(l,k_l,m,k_r,r).\\texttt{member}(k) = l.\\texttt{member}(k)$,\n",
    "  - $k_l < k < k_r \\rightarrow \\texttt{Three}(l,k_l,m,k_r,r).\\texttt{member}(k) = m.\\texttt{member}(k)$,\n",
    "  - $k_r < k \\rightarrow \\texttt{Three}(l,k_l,m,k_r,r).\\texttt{member}(k) = r.\\texttt{member}(k)$."
   ]
  },
  {
   "cell_type": "code",
   "execution_count": null,
   "metadata": {},
   "outputs": [],
   "source": [
    "def member(self, key):\n",
    "    \"your code here\"\n",
    "    \n",
    "Three.member = member"
   ]
  },
  {
   "cell_type": "markdown",
   "metadata": {},
   "source": [
    "The method $t.\\texttt{ins}(k)$ takes a 2-3 tree $t$ and and a key $k$ and inserts the key $k$ into $t$.\n",
    "It returns a 2-3-4 tree that has at most one 4-node, which has to be a child of the root\n",
    "node.  The function \\texttt{ins} is recursive and uses the function $\\texttt{restore}$ defined below. \n",
    "It is defined as follows:\n",
    "  - $k = k_l \\vee k = k_r \\rightarrow\\texttt{Three}(l,k_l,m,k_r,r).\\texttt{ins}(k) = \\texttt{Three}(l,k_l,m,k_r,r)$,\n",
    "  - $k < k_l \\rightarrow \\texttt{Three}(\\texttt{Nil},k_l,\\texttt{Nil},k_r,\\texttt{Nil}).\\texttt{ins}(k) = \n",
    "                         \\texttt{Four}(\\texttt{Nil},k,\\texttt{Nil},k_l,\\texttt{Nil},k_r,\\texttt{Nil})$,\n",
    "  - $k_l < k < k_r \\rightarrow \\texttt{Three}(\\texttt{Nil},k_l,\\texttt{Nil},k_r,\\texttt{Nil}).\\texttt{ins}(k) = \n",
    "                         \\texttt{Four}(\\texttt{Nil},k_l,\\texttt{Nil},k,\\texttt{Nil},k_r,\\texttt{Nil})$,\n",
    "  - $k_r < k \\rightarrow \\texttt{Three}(\\texttt{Nil},k_l,\\texttt{Nil},k_r,\\texttt{Nil}).\\texttt{ins}(k) = \n",
    "                         \\texttt{Four}(\\texttt{Nil},k_l,\\texttt{Nil},k_r,\\texttt{Nil},k,\\texttt{Nil})$,\n",
    "  \n",
    "  - $k < k_l \\wedge l \\not= \\texttt{Nil} \\wedge m \\not= \\texttt{Nil}\\wedge r \\not= \\texttt{Nil} \\rightarrow \n",
    "     \\texttt{Three}(l,k_l,m,k_r,r).\\texttt{ins}(k) = \\texttt{Three}\\bigl(l.\\texttt{ins}(k),k_l,m,k_r,r\\bigr).\\texttt{restore}()$,\n",
    "  - $k_l < k < k_r \\wedge l \\not= \\texttt{Nil} \\wedge m \\not= \\texttt{Nil}\\wedge r \\not= \\texttt{Nil} \\rightarrow \n",
    "     \\texttt{Three}(l,k_l,m,k_r,r).\\texttt{ins}(k) = \\texttt{Three}\\bigl(l,k_l,m.\\texttt{ins}(k),k_r,r\\bigr).\\texttt{restore}()$,\n",
    "  - $k_r < k \\wedge l \\not= \\texttt{Nil} \\wedge m \\not= \\texttt{Nil}\\wedge r \\not= \\texttt{Nil} \\rightarrow \n",
    "     \\texttt{Three}(l,k_l,m,k_r,r).\\texttt{ins}(k) = \\texttt{Three}\\bigl(l,k_l,m,k_r,r.\\texttt{ins}(k)\\bigr).\\texttt{restore}()$."
   ]
  },
  {
   "cell_type": "code",
   "execution_count": null,
   "metadata": {},
   "outputs": [],
   "source": [
    "def _ins(self, key):\n",
    "    \"your code here\"\n",
    "    \n",
    "Three._ins = _ins"
   ]
  },
  {
   "cell_type": "markdown",
   "metadata": {},
   "source": [
    "The function call $t.\\texttt{restore}()$ takes a 2-3-4 tree $t$ that has at most one 4-node. This 4-node has to be a child\n",
    "of the root.  It returns a 2-3-4 tree that has at most one 4-node.  This 4-node has to be the root node.\n",
    "It is specified as follows:\n",
    "  - $\\texttt{Three}\\bigl(\\texttt{Four}(l_1,k_1,m_l,k_2,m_r,k_3,r_1), k_l, m, k_r, r\\bigr).\\texttt{restore}() = \n",
    "     \\texttt{Four}\\bigl(\\texttt{Two}(l_1, k_1, m_l), k_2, \\texttt{Two}(m_r, k_3, r_1), k_l, m, k_r, r\\bigr) $,\n",
    "  - $\\texttt{Three}\\bigl(l, k_l, \\texttt{Four}(l_1,k_1,m_l,k_2,m_r,k_3,r_1), k_r, r\\bigr).\\texttt{restore}() = \n",
    "     \\texttt{Four}\\bigl(l, k_l, \\texttt{Two}(l_1, k_1, m_l), k_2, \\texttt{Two}(m_r, k_3, r_1), k_r, r\\bigr) $,\n",
    "  - $\\texttt{Three}\\bigl(l, k_l, m, k_r, \\texttt{Four}(l_1,k_1,m_l,k_2,m_r,k_3,r_1)\\bigr).\\texttt{restore}() = \n",
    "     \\texttt{Four}\\bigl(l, k_l, m, k_r, \\texttt{Two}(l_1, k_1, m_l), k_2, \\texttt{Two}(m_r, k_3, r_1)\\bigr) $,\n",
    "     \n",
    "If neither of the child nodes of a 3-node is a 4-node, the node is returned unchanged."
   ]
  },
  {
   "cell_type": "code",
   "execution_count": null,
   "metadata": {},
   "outputs": [],
   "source": [
    "def _restore(self):\n",
    "    \"your code here\"\n",
    "\n",
    "Three._restore = _restore"
   ]
  },
  {
   "cell_type": "markdown",
   "metadata": {},
   "source": [
    "The class `Four` represents a 4-node."
   ]
  },
  {
   "cell_type": "code",
   "execution_count": null,
   "metadata": {},
   "outputs": [],
   "source": [
    "class Four(TwoThreeTree):\n",
    "    def __init__(self, l, kl, ml, km, mr, kr, r):\n",
    "        TwoThreeTree.__init__(self)\n",
    "        self.mLeft    = l\n",
    "        self.mKeyL    = kl\n",
    "        self.mMiddleL = ml\n",
    "        self.mKeyM    = km\n",
    "        self.mMiddleR = mr\n",
    "        self.mKeyR    = kr\n",
    "        self.mRight   = r\n",
    "        \n",
    "    def __str__(self):\n",
    "        return 'Four(' + str(self.mLeft)    + ',' + str(self.mKeyL) + ',' + \\\n",
    "                         str(self.mMiddleL) + ',' + str(self.mKeyM) + ',' + \\\n",
    "                         str(self.mMiddleR) + ',' + str(self.mKeyR) + ',' + \\\n",
    "                         str(self.mRight)   + ')'\n",
    "    \n",
    "    def isFour(self):\n",
    "        return True"
   ]
  },
  {
   "cell_type": "markdown",
   "metadata": {},
   "source": [
    "The method extract returns the member variables stored in a 4-node."
   ]
  },
  {
   "cell_type": "code",
   "execution_count": null,
   "metadata": {},
   "outputs": [],
   "source": [
    "def _extract(self):\n",
    "    return self.mLeft, self.mKeyL, self.mMiddleL, self.mKeyM, self.mMiddleR, self.mKeyR, self.mRight \n",
    "\n",
    "Four._extract = _extract"
   ]
  },
  {
   "cell_type": "markdown",
   "metadata": {},
   "source": [
    "The method `restore` returns a 4-node unchanged."
   ]
  },
  {
   "cell_type": "code",
   "execution_count": null,
   "metadata": {},
   "outputs": [],
   "source": [
    "def _restore(self):\n",
    "    return self\n",
    "\n",
    "Four._restore = _restore"
   ]
  },
  {
   "cell_type": "markdown",
   "metadata": {},
   "source": [
    "The function `grow` turns a 4-node into 3 2-nodes.  It is specified as follows:\n",
    "$$ \\texttt{Four}(l, k_l, m_l, k_m, m_r, k_r, r).\\texttt{grow}() =  \n",
    "   \\texttt{Two}\\bigl(\\texttt{Two}(l, k_l, m_l), k_m, \\texttt{Two}(m_r, k_r, r)\\bigr)\n",
    "$$"
   ]
  },
  {
   "cell_type": "code",
   "execution_count": null,
   "metadata": {},
   "outputs": [],
   "source": [
    "def _grow(self):\n",
    "    \"your code here\"\n",
    "    \n",
    "Four._grow = _grow"
   ]
  },
  {
   "cell_type": "markdown",
   "metadata": {},
   "source": [
    "The function $\\texttt{demo}()$ creates a small ordered binary tree."
   ]
  },
  {
   "cell_type": "code",
   "execution_count": null,
   "metadata": {},
   "outputs": [],
   "source": [
    "m = Nil()\n",
    "m.isNil()"
   ]
  },
  {
   "cell_type": "code",
   "execution_count": null,
   "metadata": {},
   "outputs": [],
   "source": [
    "m = m.insert(\"anton\")\n",
    "m.toDot()"
   ]
  },
  {
   "cell_type": "code",
   "execution_count": null,
   "metadata": {},
   "outputs": [],
   "source": [
    "m = m.insert(\"hugo\" )\n",
    "m.toDot()"
   ]
  },
  {
   "cell_type": "code",
   "execution_count": null,
   "metadata": {},
   "outputs": [],
   "source": [
    "m = m.insert(\"gustav\")\n",
    "m.toDot()"
   ]
  },
  {
   "cell_type": "code",
   "execution_count": null,
   "metadata": {},
   "outputs": [],
   "source": [
    "m = m.insert(\"jens\")\n",
    "m.toDot()"
   ]
  },
  {
   "cell_type": "code",
   "execution_count": null,
   "metadata": {},
   "outputs": [],
   "source": [
    "m = m.insert(\"hubert\")\n",
    "m.toDot()"
   ]
  },
  {
   "cell_type": "code",
   "execution_count": null,
   "metadata": {},
   "outputs": [],
   "source": [
    "m = m.insert(\"andre\")\n",
    "m.toDot()"
   ]
  },
  {
   "cell_type": "code",
   "execution_count": null,
   "metadata": {},
   "outputs": [],
   "source": [
    "m = m.insert(\"philipp\")\n",
    "m.toDot()"
   ]
  },
  {
   "cell_type": "code",
   "execution_count": null,
   "metadata": {},
   "outputs": [],
   "source": [
    "m = m.insert(\"rene\")\n",
    "m.toDot()"
   ]
  },
  {
   "cell_type": "code",
   "execution_count": null,
   "metadata": {},
   "outputs": [],
   "source": [
    "m = m.insert(\"walter\")\n",
    "m.toDot()"
   ]
  },
  {
   "cell_type": "markdown",
   "metadata": {},
   "source": [
    "Let's generate 2-3 tree with random keys."
   ]
  },
  {
   "cell_type": "code",
   "execution_count": null,
   "metadata": {},
   "outputs": [],
   "source": [
    "import random as rnd"
   ]
  },
  {
   "cell_type": "code",
   "execution_count": null,
   "metadata": {},
   "outputs": [],
   "source": [
    "t = Nil()\n",
    "for k in range(30):\n",
    "    k = rnd.randrange(100)\n",
    "    t = t.insert(k)\n",
    "t.toDot()"
   ]
  },
  {
   "cell_type": "markdown",
   "metadata": {},
   "source": [
    "Lets us try to create a tree by inserting sorted numbers because that resulted in linear complexity for ordered binary trees."
   ]
  },
  {
   "cell_type": "code",
   "execution_count": null,
   "metadata": {
    "scrolled": true
   },
   "outputs": [],
   "source": [
    "M = Nil()\n",
    "for k in range(38):\n",
    "    M = M.insert(k)\n",
    "M.toDot()"
   ]
  },
  {
   "cell_type": "markdown",
   "metadata": {},
   "source": [
    "Finally, we compute the set of prime numbers $\\leq 100$.  Mathematically, this set is given as follows:\n",
    "$$ \\bigl\\{2, \\cdots, 100 \\bigr\\} - \\bigl\\{ i \\cdot j \\bigm| i, j \\in \\{2, \\cdots, 100 \\}\\bigr\\}$$\n",
    "First, we compute the set of products $\\bigl\\{ i \\cdot j \\bigm| i, j \\in \\{2, \\cdots, 100 \\}\\bigr\\}$.\n",
    "Then, we insert all naturals numbers less than 100 that are not products into the set of primes."
   ]
  },
  {
   "cell_type": "code",
   "execution_count": null,
   "metadata": {},
   "outputs": [],
   "source": [
    "Products = Nil()    \n",
    "for i in range(2, 101):\n",
    "    for j in range(2, 101):\n",
    "        Products = Products.insert(i * j)\n",
    "        \n",
    "Primes = Nil()\n",
    "for k in range(2, 101):\n",
    "    if not Products.member(k):\n",
    "        Primes = Primes.insert(k)\n",
    "Primes.toDot()"
   ]
  },
  {
   "cell_type": "code",
   "execution_count": null,
   "metadata": {},
   "outputs": [],
   "source": []
  }
 ],
 "metadata": {
  "kernelspec": {
   "display_name": "Python 3",
   "language": "python",
   "name": "python3"
  },
  "language_info": {
   "codemirror_mode": {
    "name": "ipython",
    "version": 3
   },
   "file_extension": ".py",
   "mimetype": "text/x-python",
   "name": "python",
   "nbconvert_exporter": "python",
   "pygments_lexer": "ipython3",
   "version": "3.6.7"
  }
 },
 "nbformat": 4,
 "nbformat_minor": 2
}
