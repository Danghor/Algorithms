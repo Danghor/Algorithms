{
 "cells": [
  {
   "cell_type": "code",
   "execution_count": 1,
   "metadata": {},
   "outputs": [
    {
     "data": {
      "text/html": [
       "<style>\n",
       ".container { width:100% }\n",
       "</style>"
      ],
      "text/plain": [
       "<IPython.core.display.HTML object>"
      ]
     },
     "metadata": {},
     "output_type": "display_data"
    }
   ],
   "source": [
    "%%HTML\n",
    "<style>\n",
    ".container { width:100% }\n",
    "</style>"
   ]
  },
  {
   "cell_type": "markdown",
   "metadata": {},
   "source": [
    "# 2-3 Trees"
   ]
  },
  {
   "cell_type": "code",
   "execution_count": 2,
   "metadata": {},
   "outputs": [],
   "source": [
    "import graphviz as gv"
   ]
  },
  {
   "cell_type": "markdown",
   "metadata": {},
   "source": [
    "Ths notebook presents <a href=\"https://en.wikipedia.org/wiki/2-3_tree\">2-3 trees</a>.  We define these trees inductively as follows:\n",
    "  - $\\texttt{Nil}$ is a 2-3 tree that represents the empty set.\n",
    "  - $\\texttt{Two}(l, k, r)$ is a 2-3 tree provided that\n",
    "      - $l$ is a 2-3 tree,\n",
    "      - $k$ is a key,\n",
    "      - $r$ is a 2-3 tree,\n",
    "      - all keys stored in $l$ are less than k and all keys stored in $r$ are bigger than $k$, that is we have\n",
    "        $$ l < k < r. $$\n",
    "      - $l$ and $r$ have the same height.\n",
    "      A node of the form  $\\texttt{Two}(l, k, r)$ is called a *2-node*.  Except for the fact\n",
    "      that there is no value, a 2-node is\n",
    "      interpreted in the same way as we have interpreted the term $\\texttt{Node}(k, v, l, r)$.\n",
    "  - $\\texttt{Three}(l, k_l, m, k_r, r)$ is a 2-3 tree provided\n",
    "      - $l$, $m$, and $r$ are 2-3 trees,\n",
    "      - $k_l$ and $k_r$ are keys,\n",
    "      - $l < k_l < m < k_r < r$,\n",
    "      - $l$, $m$, and $r$ have the same height.\n",
    "      A node of the form  $\\texttt{Three}(l, k_l, m, k_r, r)$ is called a *3-node*. \n",
    "\n",
    "In order to keep 2-3 trees balanced when inserting new keys, we use a fourth constructor of the form\n",
    "$\\texttt{Four}(l,k_1,m_l, k_2, m_r, k_3, r)$.\n",
    "A term of the form $\\texttt{Four}(l,k_1,m_l, k_2, m_r, k_3, r)$ is a *2-3-4 tree* iff\n",
    "  - $l$, $m_l$, $m_r$, and $r$ are 2-3 trees,\n",
    "  - $k_l$, $k_m$, and $k_r$ are keys,\n",
    "  - $l < k_l < m_l < k_m < m_r < k_r < r$,\n",
    "  - $l$, $m_l$, $m_r$, and $r$ all have the same height.\n",
    "  \n",
    "Nodes of this form are called *4-nodes* and the key $k_m$ is called the *middle key*.\n",
    "Trees containing 2-nodes, 3-node, and 4-nodes are called *2-3-4 trees*."
   ]
  },
  {
   "cell_type": "markdown",
   "metadata": {},
   "source": [
    "The class `TwoThreeTree` is a *superclass* for constructing the nodes of *2-3-4 trees*.  It has one static variable `sNodeCount`.  This variable is used to equip all nodes with a unique identifier.  This identifier is used to draw the trees using `graphviz`.\n",
    "\n",
    "Every node has a uniques id `mID` that is stored as a member variable.  Furthermore, this class provides defaults for the functions `isNil`, `isTwo`, `isThree`, and `isFour`.  These functions can be used to check the type of a node."
   ]
  },
  {
   "cell_type": "code",
   "execution_count": 4,
   "metadata": {},
   "outputs": [],
   "source": [
    "class TwoThreeTree:\n",
    "    sNodeCount = 0       # only needed for graphviz\n",
    "    \n",
    "    def __init__(self):\n",
    "        TwoThreeTree.sNodeCount += 1\n",
    "        self.mID = TwoThreeTree.sNodeCount  # only for graphviz\n",
    "        \n",
    "    def getID(self):     # only needed for graphviz\n",
    "        return self.mID\n",
    "        \n",
    "    def isNil(self):\n",
    "        return False\n",
    "    \n",
    "    def isTwo(self):\n",
    "        return False\n",
    "    \n",
    "    def isThree(self):\n",
    "        return False\n",
    "    \n",
    "    def isFour(self):\n",
    "        return False\n",
    "    \n",
    "    def isTree(self):    # only needed for display of equations\n",
    "        return False\n",
    "    \n",
    "    def insert(self, k):\n",
    "        return self._ins(k)._restore()._grow()\n",
    "    \n",
    "    def _grow(self):\n",
    "        return self"
   ]
  },
  {
   "cell_type": "markdown",
   "metadata": {},
   "source": [
    "The method $t.\\texttt{toDot}()$ takes a 2-3-4 tree $t$ and returns a graph that depicts the tree $t$."
   ]
  },
  {
   "cell_type": "code",
   "execution_count": 5,
   "metadata": {},
   "outputs": [],
   "source": [
    "def toDot(self):\n",
    "    dot = gv.Digraph(node_attr={'shape': 'record', 'style': 'rounded'})\n",
    "    nodeDict = {}\n",
    "    self._collectIDs(nodeDict)\n",
    "    for n, t in nodeDict.items():\n",
    "        if t.isNil():\n",
    "            dot.node(str(n), label='', shape='point')\n",
    "        elif t.isTwo():\n",
    "            dot.node(str(n), label=str(t.mKey))\n",
    "        elif t.isThree():\n",
    "            dot.node(str(n), label=str(t.mKeyL) + '|' + str(t.mKeyR))\n",
    "        elif t.isFour():\n",
    "            dot.node(str(n), label=str(t.mKeyL) + '|' + str(t.mKeyM) + '|' + str(t.mKeyR))\n",
    "        elif t.isTree():\n",
    "            dot.node(str(n), label=str(t.mName), shape='triangle')\n",
    "        else:\n",
    "            assert False, f'Unknown node {t}'\n",
    "    for n, t in nodeDict.items():\n",
    "        if t.isTwo():\n",
    "            dot.edge(str(n), str(t.mLeft .getID()))\n",
    "            dot.edge(str(n), str(t.mRight.getID()))\n",
    "        if t.isThree():\n",
    "            dot.edge(str(n), str(t.mLeft  .getID()))\n",
    "            dot.edge(str(n), str(t.mMiddle.getID()))\n",
    "            dot.edge(str(n), str(t.mRight .getID()))\n",
    "        if t.isFour():\n",
    "            dot.edge(str(n), str(t.mLeft   .getID()))\n",
    "            dot.edge(str(n), str(t.mMiddleL.getID()))\n",
    "            dot.edge(str(n), str(t.mMiddleR.getID()))\n",
    "            dot.edge(str(n), str(t.mRight  .getID()))\n",
    "    return dot\n",
    "\n",
    "TwoThreeTree.toDot = toDot"
   ]
  },
  {
   "cell_type": "markdown",
   "metadata": {},
   "source": [
    "The method $t.\\texttt{collectIDs}(d)$ takes a tree $t$ and a dictionary $d$ and updates the dictionary so that the following holds:\n",
    "$$ d[\\texttt{id}] = n \\quad \\mbox{for every node $n$ in $t$.} $$\n",
    "Here, $\\texttt{id}$ is the unique identifier of the node $n$, i.e. $d$ associates the identifiers with the corresponding nodes."
   ]
  },
  {
   "cell_type": "code",
   "execution_count": 6,
   "metadata": {},
   "outputs": [],
   "source": [
    "def _collectIDs(self, nodeDict):\n",
    "    nodeDict[self.getID()] = self\n",
    "    if self.isTwo():\n",
    "        self.mLeft ._collectIDs(nodeDict)\n",
    "        self.mRight._collectIDs(nodeDict)\n",
    "    elif self.isThree():\n",
    "        self.mLeft  ._collectIDs(nodeDict)\n",
    "        self.mMiddle._collectIDs(nodeDict)\n",
    "        self.mRight ._collectIDs(nodeDict)\n",
    "    elif self.isFour():\n",
    "        self.mLeft   ._collectIDs(nodeDict)\n",
    "        self.mMiddleL._collectIDs(nodeDict)\n",
    "        self.mMiddleR._collectIDs(nodeDict)\n",
    "        self.mRight  ._collectIDs(nodeDict)\n",
    "        \n",
    "TwoThreeTree._collectIDs = _collectIDs"
   ]
  },
  {
   "cell_type": "markdown",
   "metadata": {},
   "source": [
    "The function $\\texttt{toDotList}(\\texttt{NodeList})$ takes a list of trees and displays them one by one."
   ]
  },
  {
   "cell_type": "code",
   "execution_count": 7,
   "metadata": {},
   "outputs": [],
   "source": [
    "def toDotList(NodeList):\n",
    "    dot = gv.Digraph(node_attr={'shape': 'record', 'style': 'rounded'})\n",
    "    nodeDict = {}\n",
    "    for node in NodeList:\n",
    "        node._collectIDs(nodeDict)\n",
    "    for n, t in nodeDict.items():\n",
    "        if t.isNil():\n",
    "            dot.node(str(n), label='', shape='point')\n",
    "        elif t.isTwo():\n",
    "            dot.node(str(n), label=str(t.mKey))\n",
    "        elif t.isThree():\n",
    "            dot.node(str(n), label=str(t.mKeyL) + '|' + str(t.mKeyR))\n",
    "        elif t.isFour():\n",
    "            dot.node(str(n), label=str(t.mKeyL) + '|' + str(t.mKeyM) + '|' + str(t.mKeyR))\n",
    "        elif t.isTree():\n",
    "            dot.node(str(n), label=str(t.mName), shape='triangle', style='solid')\n",
    "        elif t.isMethod():\n",
    "            dot.node(str(n), label=str(t.mLabel), shape='rectangle', style='dotted')\n",
    "        else:\n",
    "            assert False, f'Unknown node {t}'\n",
    "    for n, t in nodeDict.items():\n",
    "        if t.isTwo():\n",
    "            dot.edge(str(n), str(t.mLeft .getID()))\n",
    "            dot.edge(str(n), str(t.mRight.getID()))\n",
    "        if t.isThree():\n",
    "            dot.edge(str(n), str(t.mLeft  .getID()))\n",
    "            dot.edge(str(n), str(t.mMiddle.getID()))\n",
    "            dot.edge(str(n), str(t.mRight .getID()))\n",
    "        if t.isFour():\n",
    "            dot.edge(str(n), str(t.mLeft   .getID()))\n",
    "            dot.edge(str(n), str(t.mMiddleL.getID()))\n",
    "            dot.edge(str(n), str(t.mMiddleR.getID()))\n",
    "            dot.edge(str(n), str(t.mRight  .getID()))\n",
    "    return dot"
   ]
  },
  {
   "cell_type": "markdown",
   "metadata": {},
   "source": [
    "The class `Tree` is not used in the implementation of *2-3 trees*.  It is only used for displaying abstract subtrees in equations."
   ]
  },
  {
   "cell_type": "code",
   "execution_count": 8,
   "metadata": {},
   "outputs": [],
   "source": [
    "class Tree(TwoThreeTree):\n",
    "    def __init__(self, name):\n",
    "        TwoThreeTree.__init__(self)\n",
    "        self.mName = name\n",
    "        \n",
    "    def __str__(self):\n",
    "        return self.mName\n",
    "    \n",
    "    def isTree(self):\n",
    "        return True"
   ]
  },
  {
   "cell_type": "markdown",
   "metadata": {},
   "source": [
    "The class `Method` is not used in the implementation of *2-3 trees*.  It is only used for displaying  the name of methods in equations."
   ]
  },
  {
   "cell_type": "code",
   "execution_count": 9,
   "metadata": {},
   "outputs": [],
   "source": [
    "class Method(TwoThreeTree):\n",
    "    def __init__(self, label):\n",
    "        TwoThreeTree.__init__(self)\n",
    "        self.mLabel = label\n",
    "        \n",
    "    def __str__(self):\n",
    "        return self.mLabel\n",
    "    \n",
    "    def isMethod(self):\n",
    "        return True"
   ]
  },
  {
   "cell_type": "markdown",
   "metadata": {},
   "source": [
    "`make_string` is an auxiliary function that makes implementation of `__str__` methods simpler."
   ]
  },
  {
   "cell_type": "code",
   "execution_count": 10,
   "metadata": {},
   "outputs": [],
   "source": [
    "def make_string(obj, type_name, attributes):\n",
    "        # map the function __str__ to all attributes and join them with a comma\n",
    "        return f\"{type_name}({', '.join(map(str, [getattr(obj, at) for at in attributes]))})\""
   ]
  },
  {
   "cell_type": "markdown",
   "metadata": {},
   "source": [
    "The class `Nil` represents an empty tree."
   ]
  },
  {
   "cell_type": "code",
   "execution_count": 11,
   "metadata": {},
   "outputs": [],
   "source": [
    "class Nil(TwoThreeTree):\n",
    "    def __init__(self):\n",
    "        TwoThreeTree.__init__(self)\n",
    "        \n",
    "    def __str__(self):\n",
    "        return make_string(self, 'Nil', [])\n",
    "    \n",
    "    def isNil(self):\n",
    "        return True"
   ]
  },
  {
   "cell_type": "markdown",
   "metadata": {},
   "source": [
    "The class `Two` represents a 2-node."
   ]
  },
  {
   "cell_type": "code",
   "execution_count": 12,
   "metadata": {},
   "outputs": [],
   "source": [
    "class Two(TwoThreeTree):\n",
    "    def __init__(self, left, key, right):\n",
    "        TwoThreeTree.__init__(self)\n",
    "        self.mLeft  = left\n",
    "        self.mKey   = key\n",
    "        self.mRight = right\n",
    "        \n",
    "    def isTwo(self):\n",
    "        return True\n",
    "\n",
    "    def __str__(self):\n",
    "        return make_string(self, 'Two', ['mLeft', 'mKey', 'mRight'])"
   ]
  },
  {
   "cell_type": "markdown",
   "metadata": {},
   "source": [
    "The class `Three` represents a 3-node."
   ]
  },
  {
   "cell_type": "code",
   "execution_count": 13,
   "metadata": {},
   "outputs": [],
   "source": [
    "class Three(TwoThreeTree):\n",
    "    def __init__(self, left, keyL, middle, keyR, right):\n",
    "        TwoThreeTree.__init__(self)\n",
    "        self.mLeft   = left\n",
    "        self.mKeyL   = keyL\n",
    "        self.mMiddle = middle\n",
    "        self.mKeyR   = keyR\n",
    "        self.mRight  = right\n",
    "        \n",
    "    def __str__(self):\n",
    "        return make_string(self, 'Three', ['mLeft', 'mKeyL', 'mMiddle', 'mKeyR', 'mRight'])\n",
    "    \n",
    "    def isThree(self):\n",
    "        return True"
   ]
  },
  {
   "cell_type": "markdown",
   "metadata": {},
   "source": [
    "The class `Four` represents a 4-node."
   ]
  },
  {
   "cell_type": "code",
   "execution_count": 14,
   "metadata": {},
   "outputs": [],
   "source": [
    "class Four(TwoThreeTree):\n",
    "    def __init__(self, l, kl, ml, km, mr, kr, r):\n",
    "        TwoThreeTree.__init__(self)\n",
    "        self.mLeft    = l\n",
    "        self.mKeyL    = kl\n",
    "        self.mMiddleL = ml\n",
    "        self.mKeyM    = km\n",
    "        self.mMiddleR = mr\n",
    "        self.mKeyR    = kr\n",
    "        self.mRight   = r\n",
    "        \n",
    "    def __str__(self):\n",
    "        return make_string(self, 'Four', \n",
    "                           ['mLeft', 'mKeyL', 'mMiddleL', 'mKeyM', 'mMiddleR', 'mKeyR', 'mRight'])\n",
    "                           \n",
    "    def isFour(self):\n",
    "        return True"
   ]
  },
  {
   "cell_type": "markdown",
   "metadata": {},
   "source": [
    "## Methods of the Class `Nil`"
   ]
  },
  {
   "cell_type": "markdown",
   "metadata": {},
   "source": [
    "The empty tree does not contain any keys:\n",
    "$$ \\texttt{Nil}.\\texttt{member}(k) = \\texttt{False} $$"
   ]
  },
  {
   "cell_type": "code",
   "execution_count": null,
   "metadata": {},
   "outputs": [],
   "source": [
    "def member(self, k):\n",
    "    return \"your code here\"\n",
    "\n",
    "Nil.member = member"
   ]
  },
  {
   "cell_type": "markdown",
   "metadata": {},
   "source": [
    "Insertings a key $k$ into an empty node returns a 2-node.\n",
    "$$ \\texttt{Nil}.\\texttt{ins}(k) = \\texttt{Two}(\\texttt{Nil}, k, \\texttt{Nil}) $$\n",
    "Graphically, this equation looks like this:"
   ]
  },
  {
   "cell_type": "code",
   "execution_count": 15,
   "metadata": {},
   "outputs": [
    {
     "data": {
      "image/svg+xml": [
       "<?xml version=\"1.0\" encoding=\"UTF-8\" standalone=\"no\"?>\n",
       "<!DOCTYPE svg PUBLIC \"-//W3C//DTD SVG 1.1//EN\"\n",
       " \"http://www.w3.org/Graphics/SVG/1.1/DTD/svg11.dtd\">\n",
       "<!-- Generated by graphviz version 2.40.1 (20161225.0304)\n",
       " -->\n",
       "<!-- Title: %3 Pages: 1 -->\n",
       "<svg width=\"162pt\" height=\"85pt\"\n",
       " viewBox=\"0.00 0.00 161.80 84.60\" xmlns=\"http://www.w3.org/2000/svg\" xmlns:xlink=\"http://www.w3.org/1999/xlink\">\n",
       "<g id=\"graph0\" class=\"graph\" transform=\"scale(1 1) rotate(0) translate(4 80.6)\">\n",
       "<title>%3</title>\n",
       "<polygon fill=\"#ffffff\" stroke=\"transparent\" points=\"-4,4 -4,-80.6 157.8,-80.6 157.8,4 -4,4\"/>\n",
       "<!-- 1 -->\n",
       "<g id=\"node1\" class=\"node\">\n",
       "<title>1</title>\n",
       "<ellipse fill=\"#000000\" stroke=\"#000000\" cx=\"1.8\" cy=\"-58.1\" rx=\"1.8\" ry=\"1.8\"/>\n",
       "</g>\n",
       "<!-- 2 -->\n",
       "<g id=\"node2\" class=\"node\">\n",
       "<title>2</title>\n",
       "<polygon fill=\"none\" stroke=\"#000000\" stroke-dasharray=\"1,5\" points=\"81.8,-76.1 21.8,-76.1 21.8,-40.1 81.8,-40.1 81.8,-76.1\"/>\n",
       "<text text-anchor=\"middle\" x=\"51.8\" y=\"-54.4\" font-family=\"Times,serif\" font-size=\"14.00\" fill=\"#000000\">._ins(k)</text>\n",
       "</g>\n",
       "<!-- 5 -->\n",
       "<g id=\"node3\" class=\"node\">\n",
       "<title>5</title>\n",
       "<path fill=\"none\" stroke=\"#000000\" d=\"M111.8,-40.1C111.8,-40.1 141.8,-40.1 141.8,-40.1 147.8,-40.1 153.8,-46.1 153.8,-52.1 153.8,-52.1 153.8,-64.1 153.8,-64.1 153.8,-70.1 147.8,-76.1 141.8,-76.1 141.8,-76.1 111.8,-76.1 111.8,-76.1 105.8,-76.1 99.8,-70.1 99.8,-64.1 99.8,-64.1 99.8,-52.1 99.8,-52.1 99.8,-46.1 105.8,-40.1 111.8,-40.1\"/>\n",
       "<text text-anchor=\"middle\" x=\"126.8\" y=\"-54.4\" font-family=\"Times,serif\" font-size=\"14.00\" fill=\"#000000\">k</text>\n",
       "</g>\n",
       "<!-- 3 -->\n",
       "<g id=\"node4\" class=\"node\">\n",
       "<title>3</title>\n",
       "<ellipse fill=\"#000000\" stroke=\"#000000\" cx=\"115.8\" cy=\"-1.8\" rx=\"1.8\" ry=\"1.8\"/>\n",
       "</g>\n",
       "<!-- 5&#45;&gt;3 -->\n",
       "<g id=\"edge1\" class=\"edge\">\n",
       "<title>5&#45;&gt;3</title>\n",
       "<path fill=\"none\" stroke=\"#000000\" d=\"M123.259,-39.9764C121.5738,-31.3515 119.6064,-21.2821 118.1154,-13.6508\"/>\n",
       "<polygon fill=\"#000000\" stroke=\"#000000\" points=\"121.502,-12.731 116.1493,-3.5878 114.6319,-14.0734 121.502,-12.731\"/>\n",
       "</g>\n",
       "<!-- 4 -->\n",
       "<g id=\"node5\" class=\"node\">\n",
       "<title>4</title>\n",
       "<ellipse fill=\"#000000\" stroke=\"#000000\" cx=\"137.8\" cy=\"-1.8\" rx=\"1.8\" ry=\"1.8\"/>\n",
       "</g>\n",
       "<!-- 5&#45;&gt;4 -->\n",
       "<g id=\"edge2\" class=\"edge\">\n",
       "<title>5&#45;&gt;4</title>\n",
       "<path fill=\"none\" stroke=\"#000000\" d=\"M130.341,-39.9764C132.0262,-31.3515 133.9936,-21.2821 135.4846,-13.6508\"/>\n",
       "<polygon fill=\"#000000\" stroke=\"#000000\" points=\"138.9681,-14.0734 137.4507,-3.5878 132.098,-12.731 138.9681,-14.0734\"/>\n",
       "</g>\n",
       "</g>\n",
       "</svg>\n"
      ],
      "text/plain": [
       "<graphviz.dot.Digraph at 0x7faae08aafd0>"
      ]
     },
     "execution_count": 15,
     "metadata": {},
     "output_type": "execute_result"
    }
   ],
   "source": [
    "toDotList([Nil(), Method('._ins(k)'), Two(Nil(), 'k', Nil())])"
   ]
  },
  {
   "cell_type": "code",
   "execution_count": null,
   "metadata": {},
   "outputs": [],
   "source": [
    "def _ins(self, k):\n",
    "    return \"your code here\"\n",
    "\n",
    "Nil._ins = _ins"
   ]
  },
  {
   "cell_type": "markdown",
   "metadata": {},
   "source": [
    "## Methods of the Class Two"
   ]
  },
  {
   "cell_type": "markdown",
   "metadata": {},
   "source": [
    "The method `extract` returns the member variables stored in a 2-node."
   ]
  },
  {
   "cell_type": "code",
   "execution_count": null,
   "metadata": {},
   "outputs": [],
   "source": [
    "def _extract(self):\n",
    "    return self.mLeft, self.mKey, self.mRight\n",
    "\n",
    "Two._extract = _extract"
   ]
  },
  {
   "cell_type": "markdown",
   "metadata": {},
   "source": [
    "Given a 2-node $t$ and a key $k$, the method $t.\\texttt{member}(k)$ checks whether the key $k$ occurs in $t$.  It is specified as follows:\n",
    "  - $\\texttt{Two}(l,k,r).\\texttt{member}(k) = \\texttt{True}$,\n",
    "  - $k_1 < k_2 \\rightarrow \\texttt{Two}(l,k_1,r).\\texttt{member}(k_2) = r.\\texttt{member}(k_2)$,\n",
    "  - $k_1 > k_2 \\rightarrow \\texttt{Two}(l,k_1,r).\\texttt{member}(k_2) = l.\\texttt{member}(k_2)$."
   ]
  },
  {
   "cell_type": "code",
   "execution_count": null,
   "metadata": {},
   "outputs": [],
   "source": [
    "def member(self, key):\n",
    "    l, k1, r = self._extract() \n",
    "    \"your code here\"\n",
    "    \n",
    "Two.member = member"
   ]
  },
  {
   "cell_type": "markdown",
   "metadata": {},
   "source": [
    "The method $t.\\texttt{ins}(k)$ takes a 2-3 tree $t$ and and a key $k$ and inserts the key $k$ into $t$.\n",
    "It returns a 2-3-4 tree that has at most one 4-node, which has to be a child of the root\n",
    "node.  The function $\\texttt{ins}$ is recursive and uses the function $\\texttt{restore}$ defined below. \n",
    "It is defined as follows:\n",
    "  - $\\texttt{Two}(l,k,r).\\texttt{ins}(k) = \\texttt{Two}(l,k,r)$\n",
    "  - $k_1 < k_2 \\rightarrow \\texttt{Two}(\\texttt{Nil},k_1,\\texttt{Nil}).\\texttt{ins}(k_2) = \\texttt{Three}(\\texttt{Nil},k_1,\\texttt{Nil},k_2,\\texttt{Nil})$\n",
    "  - $k_2 < k_1 \\rightarrow \\texttt{Two}(\\texttt{Nil},k_1,\\texttt{Nil}).\\texttt{ins}(k_2) = \\texttt{Three}(\\texttt{Nil},k_2,\\texttt{Nil},k_1,\\texttt{Nil})$\n",
    "  - $k_1 < k_2 \\wedge l \\not= \\texttt{Nil} \\wedge r \\not= \\texttt{Nil} \\rightarrow \\texttt{Two}(l,k_1,r).\\texttt{ins}(k_2) = \\texttt{Two}(l,k_1,r.\\texttt{ins}(k_2)).\\texttt{restore}()$\n",
    "  - $k_2 < k_1 \\wedge l \\not= \\texttt{Nil} \\wedge r \\not= \\texttt{Nil} \\rightarrow \\texttt{Two}(l,k_1,r).\\texttt{ins}(k_2) = \\texttt{Two}(l.\\texttt{ins}(k_2),k_1,r).\\texttt{restore}()$\n",
    "  \n",
    "These equation are presented graphically below:"
   ]
  },
  {
   "cell_type": "code",
   "execution_count": 16,
   "metadata": {},
   "outputs": [
    {
     "data": {
      "image/svg+xml": [
       "<?xml version=\"1.0\" encoding=\"UTF-8\" standalone=\"no\"?>\n",
       "<!DOCTYPE svg PUBLIC \"-//W3C//DTD SVG 1.1//EN\"\n",
       " \"http://www.w3.org/Graphics/SVG/1.1/DTD/svg11.dtd\">\n",
       "<!-- Generated by graphviz version 2.40.1 (20161225.0304)\n",
       " -->\n",
       "<!-- Title: %3 Pages: 1 -->\n",
       "<svg width=\"309pt\" height=\"127pt\"\n",
       " viewBox=\"0.00 0.00 309.30 127.00\" xmlns=\"http://www.w3.org/2000/svg\" xmlns:xlink=\"http://www.w3.org/1999/xlink\">\n",
       "<g id=\"graph0\" class=\"graph\" transform=\"scale(1 1) rotate(0) translate(4 123)\">\n",
       "<title>%3</title>\n",
       "<polygon fill=\"#ffffff\" stroke=\"transparent\" points=\"-4,4 -4,-123 305.2976,-123 305.2976,4 -4,4\"/>\n",
       "<!-- 8 -->\n",
       "<g id=\"node1\" class=\"node\">\n",
       "<title>8</title>\n",
       "<path fill=\"none\" stroke=\"#000000\" d=\"M21,-82.5C21,-82.5 51,-82.5 51,-82.5 57,-82.5 63,-88.5 63,-94.5 63,-94.5 63,-106.5 63,-106.5 63,-112.5 57,-118.5 51,-118.5 51,-118.5 21,-118.5 21,-118.5 15,-118.5 9,-112.5 9,-106.5 9,-106.5 9,-94.5 9,-94.5 9,-88.5 15,-82.5 21,-82.5\"/>\n",
       "<text text-anchor=\"middle\" x=\"36\" y=\"-96.8\" font-family=\"Times,serif\" font-size=\"14.00\" fill=\"#000000\">k</text>\n",
       "</g>\n",
       "<!-- 6 -->\n",
       "<g id=\"node2\" class=\"node\">\n",
       "<title>6</title>\n",
       "<polygon fill=\"none\" stroke=\"#000000\" points=\"27,-46 0,-11.5 54,-11.5 27,-46\"/>\n",
       "<text text-anchor=\"middle\" x=\"27\" y=\"-19.3\" font-family=\"Times,serif\" font-size=\"14.00\" fill=\"#000000\">l</text>\n",
       "</g>\n",
       "<!-- 8&#45;&gt;6 -->\n",
       "<g id=\"edge1\" class=\"edge\">\n",
       "<title>8&#45;&gt;6</title>\n",
       "<path fill=\"none\" stroke=\"#000000\" d=\"M33.8671,-82.1336C32.867,-73.5212 31.6488,-63.0309 30.5176,-53.2903\"/>\n",
       "<polygon fill=\"#000000\" stroke=\"#000000\" points=\"33.969,-52.6689 29.3388,-43.1394 27.0158,-53.4764 33.969,-52.6689\"/>\n",
       "</g>\n",
       "<!-- 7 -->\n",
       "<g id=\"node3\" class=\"node\">\n",
       "<title>7</title>\n",
       "<polygon fill=\"none\" stroke=\"#000000\" points=\"99,-46 71.9034,-11.5 126.0966,-11.5 99,-46\"/>\n",
       "<text text-anchor=\"middle\" x=\"99\" y=\"-19.3\" font-family=\"Times,serif\" font-size=\"14.00\" fill=\"#000000\">r</text>\n",
       "</g>\n",
       "<!-- 8&#45;&gt;7 -->\n",
       "<g id=\"edge2\" class=\"edge\">\n",
       "<title>8&#45;&gt;7</title>\n",
       "<path fill=\"none\" stroke=\"#000000\" d=\"M50.9301,-82.1336C60.6272,-70.2047 73.2529,-54.673 83.1314,-42.5209\"/>\n",
       "<polygon fill=\"#000000\" stroke=\"#000000\" points=\"85.8696,-44.7011 89.4616,-34.7337 80.4379,-40.2856 85.8696,-44.7011\"/>\n",
       "</g>\n",
       "<!-- 9 -->\n",
       "<g id=\"node4\" class=\"node\">\n",
       "<title>9</title>\n",
       "<polygon fill=\"none\" stroke=\"#000000\" stroke-dasharray=\"1,5\" points=\"153,-118.5 99,-118.5 99,-82.5 153,-82.5 153,-118.5\"/>\n",
       "<text text-anchor=\"middle\" x=\"126\" y=\"-96.8\" font-family=\"Times,serif\" font-size=\"14.00\" fill=\"#000000\">.ins(k)</text>\n",
       "</g>\n",
       "<!-- 12 -->\n",
       "<g id=\"node5\" class=\"node\">\n",
       "<title>12</title>\n",
       "<path fill=\"none\" stroke=\"#000000\" d=\"M219,-82.5C219,-82.5 249,-82.5 249,-82.5 255,-82.5 261,-88.5 261,-94.5 261,-94.5 261,-106.5 261,-106.5 261,-112.5 255,-118.5 249,-118.5 249,-118.5 219,-118.5 219,-118.5 213,-118.5 207,-112.5 207,-106.5 207,-106.5 207,-94.5 207,-94.5 207,-88.5 213,-82.5 219,-82.5\"/>\n",
       "<text text-anchor=\"middle\" x=\"234\" y=\"-96.8\" font-family=\"Times,serif\" font-size=\"14.00\" fill=\"#000000\">k</text>\n",
       "</g>\n",
       "<!-- 10 -->\n",
       "<g id=\"node6\" class=\"node\">\n",
       "<title>10</title>\n",
       "<polygon fill=\"none\" stroke=\"#000000\" points=\"202,-46 175,-11.5 229,-11.5 202,-46\"/>\n",
       "<text text-anchor=\"middle\" x=\"202\" y=\"-19.3\" font-family=\"Times,serif\" font-size=\"14.00\" fill=\"#000000\">l</text>\n",
       "</g>\n",
       "<!-- 12&#45;&gt;10 -->\n",
       "<g id=\"edge3\" class=\"edge\">\n",
       "<title>12&#45;&gt;10</title>\n",
       "<path fill=\"none\" stroke=\"#000000\" d=\"M226.4164,-82.1336C222.128,-71.7476 216.7119,-58.6304 212.071,-47.3906\"/>\n",
       "<polygon fill=\"#000000\" stroke=\"#000000\" points=\"215.2916,-46.0196 208.2399,-38.1124 208.8214,-48.6912 215.2916,-46.0196\"/>\n",
       "</g>\n",
       "<!-- 11 -->\n",
       "<g id=\"node7\" class=\"node\">\n",
       "<title>11</title>\n",
       "<polygon fill=\"none\" stroke=\"#000000\" points=\"274,-46 246.9034,-11.5 301.0966,-11.5 274,-46\"/>\n",
       "<text text-anchor=\"middle\" x=\"274\" y=\"-19.3\" font-family=\"Times,serif\" font-size=\"14.00\" fill=\"#000000\">r</text>\n",
       "</g>\n",
       "<!-- 12&#45;&gt;11 -->\n",
       "<g id=\"edge4\" class=\"edge\">\n",
       "<title>12&#45;&gt;11</title>\n",
       "<path fill=\"none\" stroke=\"#000000\" d=\"M243.4794,-82.1336C249.0385,-71.3629 256.1135,-57.655 262.0518,-46.1497\"/>\n",
       "<polygon fill=\"#000000\" stroke=\"#000000\" points=\"265.2379,-47.6076 266.7142,-37.1161 259.0176,-44.3971 265.2379,-47.6076\"/>\n",
       "</g>\n",
       "</g>\n",
       "</svg>\n"
      ],
      "text/plain": [
       "<graphviz.dot.Digraph at 0x7faae08a2850>"
      ]
     },
     "execution_count": 16,
     "metadata": {},
     "output_type": "execute_result"
    }
   ],
   "source": [
    "toDotList([Two(Tree('l'), 'k', Tree('r')), Method('.ins(k)'), Two(Tree('l'), 'k', Tree('r')) ])"
   ]
  },
  {
   "cell_type": "code",
   "execution_count": 17,
   "metadata": {},
   "outputs": [
    {
     "data": {
      "image/svg+xml": [
       "<?xml version=\"1.0\" encoding=\"UTF-8\" standalone=\"no\"?>\n",
       "<!DOCTYPE svg PUBLIC \"-//W3C//DTD SVG 1.1//EN\"\n",
       " \"http://www.w3.org/Graphics/SVG/1.1/DTD/svg11.dtd\">\n",
       "<!-- Generated by graphviz version 2.40.1 (20161225.0304)\n",
       " -->\n",
       "<!-- Title: %3 Pages: 1 -->\n",
       "<svg width=\"302pt\" height=\"85pt\"\n",
       " viewBox=\"0.00 0.00 301.50 84.60\" xmlns=\"http://www.w3.org/2000/svg\" xmlns:xlink=\"http://www.w3.org/1999/xlink\">\n",
       "<g id=\"graph0\" class=\"graph\" transform=\"scale(1 1) rotate(0) translate(4 80.6)\">\n",
       "<title>%3</title>\n",
       "<polygon fill=\"#ffffff\" stroke=\"transparent\" points=\"-4,4 -4,-80.6 297.5,-80.6 297.5,4 -4,4\"/>\n",
       "<!-- 13 -->\n",
       "<g id=\"node1\" class=\"node\">\n",
       "<title>13</title>\n",
       "<polygon fill=\"none\" stroke=\"#000000\" stroke-dasharray=\"1,5\" points=\"63,-76.1 0,-76.1 0,-40.1 63,-40.1 63,-76.1\"/>\n",
       "<text text-anchor=\"middle\" x=\"31.5\" y=\"-54.4\" font-family=\"Times,serif\" font-size=\"14.00\" fill=\"#000000\">k1 &lt; k2:</text>\n",
       "</g>\n",
       "<!-- 16 -->\n",
       "<g id=\"node2\" class=\"node\">\n",
       "<title>16</title>\n",
       "<path fill=\"none\" stroke=\"#000000\" d=\"M93.5,-40.1C93.5,-40.1 123.5,-40.1 123.5,-40.1 129.5,-40.1 135.5,-46.1 135.5,-52.1 135.5,-52.1 135.5,-64.1 135.5,-64.1 135.5,-70.1 129.5,-76.1 123.5,-76.1 123.5,-76.1 93.5,-76.1 93.5,-76.1 87.5,-76.1 81.5,-70.1 81.5,-64.1 81.5,-64.1 81.5,-52.1 81.5,-52.1 81.5,-46.1 87.5,-40.1 93.5,-40.1\"/>\n",
       "<text text-anchor=\"middle\" x=\"108.5\" y=\"-54.4\" font-family=\"Times,serif\" font-size=\"14.00\" fill=\"#000000\">k1</text>\n",
       "</g>\n",
       "<!-- 14 -->\n",
       "<g id=\"node3\" class=\"node\">\n",
       "<title>14</title>\n",
       "<ellipse fill=\"#000000\" stroke=\"#000000\" cx=\"97.5\" cy=\"-1.8\" rx=\"1.8\" ry=\"1.8\"/>\n",
       "</g>\n",
       "<!-- 16&#45;&gt;14 -->\n",
       "<g id=\"edge1\" class=\"edge\">\n",
       "<title>16&#45;&gt;14</title>\n",
       "<path fill=\"none\" stroke=\"#000000\" d=\"M104.959,-39.9764C103.2738,-31.3515 101.3064,-21.2821 99.8154,-13.6508\"/>\n",
       "<polygon fill=\"#000000\" stroke=\"#000000\" points=\"103.202,-12.731 97.8493,-3.5878 96.3319,-14.0734 103.202,-12.731\"/>\n",
       "</g>\n",
       "<!-- 15 -->\n",
       "<g id=\"node4\" class=\"node\">\n",
       "<title>15</title>\n",
       "<ellipse fill=\"#000000\" stroke=\"#000000\" cx=\"119.5\" cy=\"-1.8\" rx=\"1.8\" ry=\"1.8\"/>\n",
       "</g>\n",
       "<!-- 16&#45;&gt;15 -->\n",
       "<g id=\"edge2\" class=\"edge\">\n",
       "<title>16&#45;&gt;15</title>\n",
       "<path fill=\"none\" stroke=\"#000000\" d=\"M112.041,-39.9764C113.7262,-31.3515 115.6936,-21.2821 117.1846,-13.6508\"/>\n",
       "<polygon fill=\"#000000\" stroke=\"#000000\" points=\"120.6681,-14.0734 119.1507,-3.5878 113.798,-12.731 120.6681,-14.0734\"/>\n",
       "</g>\n",
       "<!-- 17 -->\n",
       "<g id=\"node5\" class=\"node\">\n",
       "<title>17</title>\n",
       "<polygon fill=\"none\" stroke=\"#000000\" stroke-dasharray=\"1,5\" points=\"213.5,-76.1 153.5,-76.1 153.5,-40.1 213.5,-40.1 213.5,-76.1\"/>\n",
       "<text text-anchor=\"middle\" x=\"183.5\" y=\"-54.4\" font-family=\"Times,serif\" font-size=\"14.00\" fill=\"#000000\">.ins(k2)</text>\n",
       "</g>\n",
       "<!-- 21 -->\n",
       "<g id=\"node6\" class=\"node\">\n",
       "<title>21</title>\n",
       "<path fill=\"none\" stroke=\"#000000\" d=\"M243.5,-40.1C243.5,-40.1 281.5,-40.1 281.5,-40.1 287.5,-40.1 293.5,-46.1 293.5,-52.1 293.5,-52.1 293.5,-64.1 293.5,-64.1 293.5,-70.1 287.5,-76.1 281.5,-76.1 281.5,-76.1 243.5,-76.1 243.5,-76.1 237.5,-76.1 231.5,-70.1 231.5,-64.1 231.5,-64.1 231.5,-52.1 231.5,-52.1 231.5,-46.1 237.5,-40.1 243.5,-40.1\"/>\n",
       "<text text-anchor=\"middle\" x=\"247\" y=\"-54.4\" font-family=\"Times,serif\" font-size=\"14.00\" fill=\"#000000\">k1</text>\n",
       "<polyline fill=\"none\" stroke=\"#000000\" points=\"262.5,-40.1 262.5,-76.1 \"/>\n",
       "<text text-anchor=\"middle\" x=\"278\" y=\"-54.4\" font-family=\"Times,serif\" font-size=\"14.00\" fill=\"#000000\">k2</text>\n",
       "</g>\n",
       "<!-- 18 -->\n",
       "<g id=\"node7\" class=\"node\">\n",
       "<title>18</title>\n",
       "<ellipse fill=\"#000000\" stroke=\"#000000\" cx=\"240.5\" cy=\"-1.8\" rx=\"1.8\" ry=\"1.8\"/>\n",
       "</g>\n",
       "<!-- 21&#45;&gt;18 -->\n",
       "<g id=\"edge3\" class=\"edge\">\n",
       "<title>21&#45;&gt;18</title>\n",
       "<path fill=\"none\" stroke=\"#000000\" d=\"M255.418,-39.9764C251.9644,-31.1385 247.9182,-20.7839 244.9117,-13.09\"/>\n",
       "<polygon fill=\"#000000\" stroke=\"#000000\" points=\"248.0982,-11.628 241.1986,-3.5878 241.5783,-14.1758 248.0982,-11.628\"/>\n",
       "</g>\n",
       "<!-- 19 -->\n",
       "<g id=\"node8\" class=\"node\">\n",
       "<title>19</title>\n",
       "<ellipse fill=\"#000000\" stroke=\"#000000\" cx=\"262.5\" cy=\"-1.8\" rx=\"1.8\" ry=\"1.8\"/>\n",
       "</g>\n",
       "<!-- 21&#45;&gt;19 -->\n",
       "<g id=\"edge4\" class=\"edge\">\n",
       "<title>21&#45;&gt;19</title>\n",
       "<path fill=\"none\" stroke=\"#000000\" d=\"M262.5,-39.9764C262.5,-31.5142 262.5,-21.6615 262.5,-14.0853\"/>\n",
       "<polygon fill=\"#000000\" stroke=\"#000000\" points=\"266.0001,-13.9127 262.5,-3.9128 259.0001,-13.9128 266.0001,-13.9127\"/>\n",
       "</g>\n",
       "<!-- 20 -->\n",
       "<g id=\"node9\" class=\"node\">\n",
       "<title>20</title>\n",
       "<ellipse fill=\"#000000\" stroke=\"#000000\" cx=\"284.5\" cy=\"-1.8\" rx=\"1.8\" ry=\"1.8\"/>\n",
       "</g>\n",
       "<!-- 21&#45;&gt;20 -->\n",
       "<g id=\"edge5\" class=\"edge\">\n",
       "<title>21&#45;&gt;20</title>\n",
       "<path fill=\"none\" stroke=\"#000000\" d=\"M269.582,-39.9764C273.0356,-31.1385 277.0818,-20.7839 280.0883,-13.09\"/>\n",
       "<polygon fill=\"#000000\" stroke=\"#000000\" points=\"283.4217,-14.1758 283.8014,-3.5878 276.9018,-11.628 283.4217,-14.1758\"/>\n",
       "</g>\n",
       "</g>\n",
       "</svg>\n"
      ],
      "text/plain": [
       "<graphviz.dot.Digraph at 0x7faae08b0510>"
      ]
     },
     "execution_count": 17,
     "metadata": {},
     "output_type": "execute_result"
    }
   ],
   "source": [
    "toDotList([Method('k1 < k2:'), Two(Nil(), 'k1', Nil()), Method('.ins(k2)'), Three(Nil(), 'k1', Nil(), 'k2', Nil()) ])"
   ]
  },
  {
   "cell_type": "code",
   "execution_count": 18,
   "metadata": {},
   "outputs": [
    {
     "data": {
      "image/svg+xml": [
       "<?xml version=\"1.0\" encoding=\"UTF-8\" standalone=\"no\"?>\n",
       "<!DOCTYPE svg PUBLIC \"-//W3C//DTD SVG 1.1//EN\"\n",
       " \"http://www.w3.org/Graphics/SVG/1.1/DTD/svg11.dtd\">\n",
       "<!-- Generated by graphviz version 2.40.1 (20161225.0304)\n",
       " -->\n",
       "<!-- Title: %3 Pages: 1 -->\n",
       "<svg width=\"302pt\" height=\"85pt\"\n",
       " viewBox=\"0.00 0.00 301.50 84.60\" xmlns=\"http://www.w3.org/2000/svg\" xmlns:xlink=\"http://www.w3.org/1999/xlink\">\n",
       "<g id=\"graph0\" class=\"graph\" transform=\"scale(1 1) rotate(0) translate(4 80.6)\">\n",
       "<title>%3</title>\n",
       "<polygon fill=\"#ffffff\" stroke=\"transparent\" points=\"-4,4 -4,-80.6 297.5,-80.6 297.5,4 -4,4\"/>\n",
       "<!-- 22 -->\n",
       "<g id=\"node1\" class=\"node\">\n",
       "<title>22</title>\n",
       "<polygon fill=\"none\" stroke=\"#000000\" stroke-dasharray=\"1,5\" points=\"63,-76.1 0,-76.1 0,-40.1 63,-40.1 63,-76.1\"/>\n",
       "<text text-anchor=\"middle\" x=\"31.5\" y=\"-54.4\" font-family=\"Times,serif\" font-size=\"14.00\" fill=\"#000000\">k2 &lt; k1:</text>\n",
       "</g>\n",
       "<!-- 25 -->\n",
       "<g id=\"node2\" class=\"node\">\n",
       "<title>25</title>\n",
       "<path fill=\"none\" stroke=\"#000000\" d=\"M93.5,-40.1C93.5,-40.1 123.5,-40.1 123.5,-40.1 129.5,-40.1 135.5,-46.1 135.5,-52.1 135.5,-52.1 135.5,-64.1 135.5,-64.1 135.5,-70.1 129.5,-76.1 123.5,-76.1 123.5,-76.1 93.5,-76.1 93.5,-76.1 87.5,-76.1 81.5,-70.1 81.5,-64.1 81.5,-64.1 81.5,-52.1 81.5,-52.1 81.5,-46.1 87.5,-40.1 93.5,-40.1\"/>\n",
       "<text text-anchor=\"middle\" x=\"108.5\" y=\"-54.4\" font-family=\"Times,serif\" font-size=\"14.00\" fill=\"#000000\">k1</text>\n",
       "</g>\n",
       "<!-- 23 -->\n",
       "<g id=\"node3\" class=\"node\">\n",
       "<title>23</title>\n",
       "<ellipse fill=\"#000000\" stroke=\"#000000\" cx=\"97.5\" cy=\"-1.8\" rx=\"1.8\" ry=\"1.8\"/>\n",
       "</g>\n",
       "<!-- 25&#45;&gt;23 -->\n",
       "<g id=\"edge1\" class=\"edge\">\n",
       "<title>25&#45;&gt;23</title>\n",
       "<path fill=\"none\" stroke=\"#000000\" d=\"M104.959,-39.9764C103.2738,-31.3515 101.3064,-21.2821 99.8154,-13.6508\"/>\n",
       "<polygon fill=\"#000000\" stroke=\"#000000\" points=\"103.202,-12.731 97.8493,-3.5878 96.3319,-14.0734 103.202,-12.731\"/>\n",
       "</g>\n",
       "<!-- 24 -->\n",
       "<g id=\"node4\" class=\"node\">\n",
       "<title>24</title>\n",
       "<ellipse fill=\"#000000\" stroke=\"#000000\" cx=\"119.5\" cy=\"-1.8\" rx=\"1.8\" ry=\"1.8\"/>\n",
       "</g>\n",
       "<!-- 25&#45;&gt;24 -->\n",
       "<g id=\"edge2\" class=\"edge\">\n",
       "<title>25&#45;&gt;24</title>\n",
       "<path fill=\"none\" stroke=\"#000000\" d=\"M112.041,-39.9764C113.7262,-31.3515 115.6936,-21.2821 117.1846,-13.6508\"/>\n",
       "<polygon fill=\"#000000\" stroke=\"#000000\" points=\"120.6681,-14.0734 119.1507,-3.5878 113.798,-12.731 120.6681,-14.0734\"/>\n",
       "</g>\n",
       "<!-- 26 -->\n",
       "<g id=\"node5\" class=\"node\">\n",
       "<title>26</title>\n",
       "<polygon fill=\"none\" stroke=\"#000000\" stroke-dasharray=\"1,5\" points=\"213.5,-76.1 153.5,-76.1 153.5,-40.1 213.5,-40.1 213.5,-76.1\"/>\n",
       "<text text-anchor=\"middle\" x=\"183.5\" y=\"-54.4\" font-family=\"Times,serif\" font-size=\"14.00\" fill=\"#000000\">.ins(k2)</text>\n",
       "</g>\n",
       "<!-- 30 -->\n",
       "<g id=\"node6\" class=\"node\">\n",
       "<title>30</title>\n",
       "<path fill=\"none\" stroke=\"#000000\" d=\"M243.5,-40.1C243.5,-40.1 281.5,-40.1 281.5,-40.1 287.5,-40.1 293.5,-46.1 293.5,-52.1 293.5,-52.1 293.5,-64.1 293.5,-64.1 293.5,-70.1 287.5,-76.1 281.5,-76.1 281.5,-76.1 243.5,-76.1 243.5,-76.1 237.5,-76.1 231.5,-70.1 231.5,-64.1 231.5,-64.1 231.5,-52.1 231.5,-52.1 231.5,-46.1 237.5,-40.1 243.5,-40.1\"/>\n",
       "<text text-anchor=\"middle\" x=\"247\" y=\"-54.4\" font-family=\"Times,serif\" font-size=\"14.00\" fill=\"#000000\">k2</text>\n",
       "<polyline fill=\"none\" stroke=\"#000000\" points=\"262.5,-40.1 262.5,-76.1 \"/>\n",
       "<text text-anchor=\"middle\" x=\"278\" y=\"-54.4\" font-family=\"Times,serif\" font-size=\"14.00\" fill=\"#000000\">k1</text>\n",
       "</g>\n",
       "<!-- 27 -->\n",
       "<g id=\"node7\" class=\"node\">\n",
       "<title>27</title>\n",
       "<ellipse fill=\"#000000\" stroke=\"#000000\" cx=\"240.5\" cy=\"-1.8\" rx=\"1.8\" ry=\"1.8\"/>\n",
       "</g>\n",
       "<!-- 30&#45;&gt;27 -->\n",
       "<g id=\"edge3\" class=\"edge\">\n",
       "<title>30&#45;&gt;27</title>\n",
       "<path fill=\"none\" stroke=\"#000000\" d=\"M255.418,-39.9764C251.9644,-31.1385 247.9182,-20.7839 244.9117,-13.09\"/>\n",
       "<polygon fill=\"#000000\" stroke=\"#000000\" points=\"248.0982,-11.628 241.1986,-3.5878 241.5783,-14.1758 248.0982,-11.628\"/>\n",
       "</g>\n",
       "<!-- 28 -->\n",
       "<g id=\"node8\" class=\"node\">\n",
       "<title>28</title>\n",
       "<ellipse fill=\"#000000\" stroke=\"#000000\" cx=\"262.5\" cy=\"-1.8\" rx=\"1.8\" ry=\"1.8\"/>\n",
       "</g>\n",
       "<!-- 30&#45;&gt;28 -->\n",
       "<g id=\"edge4\" class=\"edge\">\n",
       "<title>30&#45;&gt;28</title>\n",
       "<path fill=\"none\" stroke=\"#000000\" d=\"M262.5,-39.9764C262.5,-31.5142 262.5,-21.6615 262.5,-14.0853\"/>\n",
       "<polygon fill=\"#000000\" stroke=\"#000000\" points=\"266.0001,-13.9127 262.5,-3.9128 259.0001,-13.9128 266.0001,-13.9127\"/>\n",
       "</g>\n",
       "<!-- 29 -->\n",
       "<g id=\"node9\" class=\"node\">\n",
       "<title>29</title>\n",
       "<ellipse fill=\"#000000\" stroke=\"#000000\" cx=\"284.5\" cy=\"-1.8\" rx=\"1.8\" ry=\"1.8\"/>\n",
       "</g>\n",
       "<!-- 30&#45;&gt;29 -->\n",
       "<g id=\"edge5\" class=\"edge\">\n",
       "<title>30&#45;&gt;29</title>\n",
       "<path fill=\"none\" stroke=\"#000000\" d=\"M269.582,-39.9764C273.0356,-31.1385 277.0818,-20.7839 280.0883,-13.09\"/>\n",
       "<polygon fill=\"#000000\" stroke=\"#000000\" points=\"283.4217,-14.1758 283.8014,-3.5878 276.9018,-11.628 283.4217,-14.1758\"/>\n",
       "</g>\n",
       "</g>\n",
       "</svg>\n"
      ],
      "text/plain": [
       "<graphviz.dot.Digraph at 0x7faab01b02d0>"
      ]
     },
     "execution_count": 18,
     "metadata": {},
     "output_type": "execute_result"
    }
   ],
   "source": [
    "toDotList([Method('k2 < k1:'), Two(Nil(), 'k1', Nil()), Method('.ins(k2)'), Three(Nil(), 'k2', Nil(), 'k1', Nil()) ])"
   ]
  },
  {
   "cell_type": "code",
   "execution_count": 19,
   "metadata": {},
   "outputs": [
    {
     "data": {
      "image/svg+xml": [
       "<?xml version=\"1.0\" encoding=\"UTF-8\" standalone=\"no\"?>\n",
       "<!DOCTYPE svg PUBLIC \"-//W3C//DTD SVG 1.1//EN\"\n",
       " \"http://www.w3.org/Graphics/SVG/1.1/DTD/svg11.dtd\">\n",
       "<!-- Generated by graphviz version 2.40.1 (20161225.0304)\n",
       " -->\n",
       "<!-- Title: %3 Pages: 1 -->\n",
       "<svg width=\"436pt\" height=\"127pt\"\n",
       " viewBox=\"0.00 0.00 435.69 127.00\" xmlns=\"http://www.w3.org/2000/svg\" xmlns:xlink=\"http://www.w3.org/1999/xlink\">\n",
       "<g id=\"graph0\" class=\"graph\" transform=\"scale(1 1) rotate(0) translate(4 123)\">\n",
       "<title>%3</title>\n",
       "<polygon fill=\"#ffffff\" stroke=\"transparent\" points=\"-4,4 -4,-123 431.6926,-123 431.6926,4 -4,4\"/>\n",
       "<!-- 31 -->\n",
       "<g id=\"node1\" class=\"node\">\n",
       "<title>31</title>\n",
       "<polygon fill=\"none\" stroke=\"#000000\" stroke-dasharray=\"1,5\" points=\"63,-118.5 0,-118.5 0,-82.5 63,-82.5 63,-118.5\"/>\n",
       "<text text-anchor=\"middle\" x=\"31.5\" y=\"-96.8\" font-family=\"Times,serif\" font-size=\"14.00\" fill=\"#000000\">k1 &lt; k2:</text>\n",
       "</g>\n",
       "<!-- 34 -->\n",
       "<g id=\"node2\" class=\"node\">\n",
       "<title>34</title>\n",
       "<path fill=\"none\" stroke=\"#000000\" d=\"M93.5,-82.5C93.5,-82.5 123.5,-82.5 123.5,-82.5 129.5,-82.5 135.5,-88.5 135.5,-94.5 135.5,-94.5 135.5,-106.5 135.5,-106.5 135.5,-112.5 129.5,-118.5 123.5,-118.5 123.5,-118.5 93.5,-118.5 93.5,-118.5 87.5,-118.5 81.5,-112.5 81.5,-106.5 81.5,-106.5 81.5,-94.5 81.5,-94.5 81.5,-88.5 87.5,-82.5 93.5,-82.5\"/>\n",
       "<text text-anchor=\"middle\" x=\"108.5\" y=\"-96.8\" font-family=\"Times,serif\" font-size=\"14.00\" fill=\"#000000\">k1</text>\n",
       "</g>\n",
       "<!-- 32 -->\n",
       "<g id=\"node3\" class=\"node\">\n",
       "<title>32</title>\n",
       "<polygon fill=\"none\" stroke=\"#000000\" points=\"72.5,-46 45.5,-11.5 99.5,-11.5 72.5,-46\"/>\n",
       "<text text-anchor=\"middle\" x=\"72.5\" y=\"-19.3\" font-family=\"Times,serif\" font-size=\"14.00\" fill=\"#000000\">l</text>\n",
       "</g>\n",
       "<!-- 34&#45;&gt;32 -->\n",
       "<g id=\"edge1\" class=\"edge\">\n",
       "<title>34&#45;&gt;32</title>\n",
       "<path fill=\"none\" stroke=\"#000000\" d=\"M99.9685,-82.1336C95.0797,-71.6091 88.8882,-58.2801 83.6215,-46.9421\"/>\n",
       "<polygon fill=\"#000000\" stroke=\"#000000\" points=\"86.6743,-45.2061 79.2872,-37.6113 80.3258,-48.1551 86.6743,-45.2061\"/>\n",
       "</g>\n",
       "<!-- 33 -->\n",
       "<g id=\"node4\" class=\"node\">\n",
       "<title>33</title>\n",
       "<polygon fill=\"none\" stroke=\"#000000\" points=\"144.5,-46 117.4034,-11.5 171.5966,-11.5 144.5,-46\"/>\n",
       "<text text-anchor=\"middle\" x=\"144.5\" y=\"-19.3\" font-family=\"Times,serif\" font-size=\"14.00\" fill=\"#000000\">r</text>\n",
       "</g>\n",
       "<!-- 34&#45;&gt;33 -->\n",
       "<g id=\"edge2\" class=\"edge\">\n",
       "<title>34&#45;&gt;33</title>\n",
       "<path fill=\"none\" stroke=\"#000000\" d=\"M117.0315,-82.1336C121.9203,-71.6091 128.1118,-58.2801 133.3785,-46.9421\"/>\n",
       "<polygon fill=\"#000000\" stroke=\"#000000\" points=\"136.6742,-48.1551 137.7128,-37.6113 130.3257,-45.2061 136.6742,-48.1551\"/>\n",
       "</g>\n",
       "<!-- 35 -->\n",
       "<g id=\"node5\" class=\"node\">\n",
       "<title>35</title>\n",
       "<polygon fill=\"none\" stroke=\"#000000\" stroke-dasharray=\"1,5\" points=\"262.5,-118.5 202.5,-118.5 202.5,-82.5 262.5,-82.5 262.5,-118.5\"/>\n",
       "<text text-anchor=\"middle\" x=\"232.5\" y=\"-96.8\" font-family=\"Times,serif\" font-size=\"14.00\" fill=\"#000000\">.ins(k2)</text>\n",
       "</g>\n",
       "<!-- 38 -->\n",
       "<g id=\"node6\" class=\"node\">\n",
       "<title>38</title>\n",
       "<path fill=\"none\" stroke=\"#000000\" d=\"M317.5,-82.5C317.5,-82.5 347.5,-82.5 347.5,-82.5 353.5,-82.5 359.5,-88.5 359.5,-94.5 359.5,-94.5 359.5,-106.5 359.5,-106.5 359.5,-112.5 353.5,-118.5 347.5,-118.5 347.5,-118.5 317.5,-118.5 317.5,-118.5 311.5,-118.5 305.5,-112.5 305.5,-106.5 305.5,-106.5 305.5,-94.5 305.5,-94.5 305.5,-88.5 311.5,-82.5 317.5,-82.5\"/>\n",
       "<text text-anchor=\"middle\" x=\"332.5\" y=\"-96.8\" font-family=\"Times,serif\" font-size=\"14.00\" fill=\"#000000\">k1</text>\n",
       "</g>\n",
       "<!-- 36 -->\n",
       "<g id=\"node7\" class=\"node\">\n",
       "<title>36</title>\n",
       "<polygon fill=\"none\" stroke=\"#000000\" points=\"216.5,-46 189.5,-11.5 243.5,-11.5 216.5,-46\"/>\n",
       "<text text-anchor=\"middle\" x=\"216.5\" y=\"-19.3\" font-family=\"Times,serif\" font-size=\"14.00\" fill=\"#000000\">l</text>\n",
       "</g>\n",
       "<!-- 38&#45;&gt;36 -->\n",
       "<g id=\"edge3\" class=\"edge\">\n",
       "<title>38&#45;&gt;36</title>\n",
       "<path fill=\"none\" stroke=\"#000000\" d=\"M305.3032,-82.3297C284.3556,-68.3346 255.8564,-49.2942 236.8523,-36.5975\"/>\n",
       "<polygon fill=\"#000000\" stroke=\"#000000\" points=\"238.6198,-33.5691 228.3605,-30.924 234.7311,-39.3896 238.6198,-33.5691\"/>\n",
       "</g>\n",
       "<!-- 37 -->\n",
       "<g id=\"node8\" class=\"node\">\n",
       "<title>37</title>\n",
       "<polygon fill=\"none\" stroke=\"#000000\" points=\"344.5,-46 261.1143,-11.5 427.8857,-11.5 344.5,-46\"/>\n",
       "<text text-anchor=\"middle\" x=\"344.5\" y=\"-19.3\" font-family=\"Times,serif\" font-size=\"14.00\" fill=\"#000000\">r.ins(k2)</text>\n",
       "</g>\n",
       "<!-- 38&#45;&gt;37 -->\n",
       "<g id=\"edge4\" class=\"edge\">\n",
       "<title>38&#45;&gt;37</title>\n",
       "<path fill=\"none\" stroke=\"#000000\" d=\"M335.3438,-82.1336C336.6027,-74.0031 338.1208,-64.199 339.5557,-54.932\"/>\n",
       "<polygon fill=\"#000000\" stroke=\"#000000\" points=\"343.0507,-55.2331 341.1221,-44.8153 336.1331,-54.1619 343.0507,-55.2331\"/>\n",
       "</g>\n",
       "</g>\n",
       "</svg>\n"
      ],
      "text/plain": [
       "<graphviz.dot.Digraph at 0x7faab01be390>"
      ]
     },
     "execution_count": 19,
     "metadata": {},
     "output_type": "execute_result"
    }
   ],
   "source": [
    "toDotList([Method('k1 < k2:'), Two(Tree('l'), 'k1', Tree('r')), Method('.ins(k2)'), Two(Tree('l'), 'k1', Tree('r.ins(k2)')) ])"
   ]
  },
  {
   "cell_type": "code",
   "execution_count": 20,
   "metadata": {},
   "outputs": [
    {
     "data": {
      "image/svg+xml": [
       "<?xml version=\"1.0\" encoding=\"UTF-8\" standalone=\"no\"?>\n",
       "<!DOCTYPE svg PUBLIC \"-//W3C//DTD SVG 1.1//EN\"\n",
       " \"http://www.w3.org/Graphics/SVG/1.1/DTD/svg11.dtd\">\n",
       "<!-- Generated by graphviz version 2.40.1 (20161225.0304)\n",
       " -->\n",
       "<!-- Title: %3 Pages: 1 -->\n",
       "<svg width=\"460pt\" height=\"127pt\"\n",
       " viewBox=\"0.00 0.00 459.80 127.00\" xmlns=\"http://www.w3.org/2000/svg\" xmlns:xlink=\"http://www.w3.org/1999/xlink\">\n",
       "<g id=\"graph0\" class=\"graph\" transform=\"scale(1 1) rotate(0) translate(4 123)\">\n",
       "<title>%3</title>\n",
       "<polygon fill=\"#ffffff\" stroke=\"transparent\" points=\"-4,4 -4,-123 455.7976,-123 455.7976,4 -4,4\"/>\n",
       "<!-- 39 -->\n",
       "<g id=\"node1\" class=\"node\">\n",
       "<title>39</title>\n",
       "<polygon fill=\"none\" stroke=\"#000000\" stroke-dasharray=\"1,5\" points=\"63,-118.5 0,-118.5 0,-82.5 63,-82.5 63,-118.5\"/>\n",
       "<text text-anchor=\"middle\" x=\"31.5\" y=\"-96.8\" font-family=\"Times,serif\" font-size=\"14.00\" fill=\"#000000\">k2 &lt; k1:</text>\n",
       "</g>\n",
       "<!-- 42 -->\n",
       "<g id=\"node2\" class=\"node\">\n",
       "<title>42</title>\n",
       "<path fill=\"none\" stroke=\"#000000\" d=\"M93.5,-82.5C93.5,-82.5 123.5,-82.5 123.5,-82.5 129.5,-82.5 135.5,-88.5 135.5,-94.5 135.5,-94.5 135.5,-106.5 135.5,-106.5 135.5,-112.5 129.5,-118.5 123.5,-118.5 123.5,-118.5 93.5,-118.5 93.5,-118.5 87.5,-118.5 81.5,-112.5 81.5,-106.5 81.5,-106.5 81.5,-94.5 81.5,-94.5 81.5,-88.5 87.5,-82.5 93.5,-82.5\"/>\n",
       "<text text-anchor=\"middle\" x=\"108.5\" y=\"-96.8\" font-family=\"Times,serif\" font-size=\"14.00\" fill=\"#000000\">k1</text>\n",
       "</g>\n",
       "<!-- 40 -->\n",
       "<g id=\"node3\" class=\"node\">\n",
       "<title>40</title>\n",
       "<polygon fill=\"none\" stroke=\"#000000\" points=\"96.5,-46 69.5,-11.5 123.5,-11.5 96.5,-46\"/>\n",
       "<text text-anchor=\"middle\" x=\"96.5\" y=\"-19.3\" font-family=\"Times,serif\" font-size=\"14.00\" fill=\"#000000\">l</text>\n",
       "</g>\n",
       "<!-- 42&#45;&gt;40 -->\n",
       "<g id=\"edge1\" class=\"edge\">\n",
       "<title>42&#45;&gt;40</title>\n",
       "<path fill=\"none\" stroke=\"#000000\" d=\"M105.6562,-82.1336C104.2776,-73.2303 102.5883,-62.32 101.0377,-52.3058\"/>\n",
       "<polygon fill=\"#000000\" stroke=\"#000000\" points=\"104.4799,-51.6627 99.4909,-42.3161 97.5623,-52.7339 104.4799,-51.6627\"/>\n",
       "</g>\n",
       "<!-- 41 -->\n",
       "<g id=\"node4\" class=\"node\">\n",
       "<title>41</title>\n",
       "<polygon fill=\"none\" stroke=\"#000000\" points=\"168.5,-46 141.4034,-11.5 195.5966,-11.5 168.5,-46\"/>\n",
       "<text text-anchor=\"middle\" x=\"168.5\" y=\"-19.3\" font-family=\"Times,serif\" font-size=\"14.00\" fill=\"#000000\">r</text>\n",
       "</g>\n",
       "<!-- 42&#45;&gt;41 -->\n",
       "<g id=\"edge2\" class=\"edge\">\n",
       "<title>42&#45;&gt;41</title>\n",
       "<path fill=\"none\" stroke=\"#000000\" d=\"M122.7192,-82.1336C131.8656,-70.3194 143.748,-54.9713 153.1149,-42.8724\"/>\n",
       "<polygon fill=\"#000000\" stroke=\"#000000\" points=\"156.0616,-44.7836 159.4158,-34.7337 150.5265,-40.4984 156.0616,-44.7836\"/>\n",
       "</g>\n",
       "<!-- 43 -->\n",
       "<g id=\"node5\" class=\"node\">\n",
       "<title>43</title>\n",
       "<polygon fill=\"none\" stroke=\"#000000\" stroke-dasharray=\"1,5\" points=\"290.5,-118.5 230.5,-118.5 230.5,-82.5 290.5,-82.5 290.5,-118.5\"/>\n",
       "<text text-anchor=\"middle\" x=\"260.5\" y=\"-96.8\" font-family=\"Times,serif\" font-size=\"14.00\" fill=\"#000000\">.ins(k2)</text>\n",
       "</g>\n",
       "<!-- 46 -->\n",
       "<g id=\"node6\" class=\"node\">\n",
       "<title>46</title>\n",
       "<path fill=\"none\" stroke=\"#000000\" d=\"M345.5,-82.5C345.5,-82.5 375.5,-82.5 375.5,-82.5 381.5,-82.5 387.5,-88.5 387.5,-94.5 387.5,-94.5 387.5,-106.5 387.5,-106.5 387.5,-112.5 381.5,-118.5 375.5,-118.5 375.5,-118.5 345.5,-118.5 345.5,-118.5 339.5,-118.5 333.5,-112.5 333.5,-106.5 333.5,-106.5 333.5,-94.5 333.5,-94.5 333.5,-88.5 339.5,-82.5 345.5,-82.5\"/>\n",
       "<text text-anchor=\"middle\" x=\"360.5\" y=\"-96.8\" font-family=\"Times,serif\" font-size=\"14.00\" fill=\"#000000\">k1</text>\n",
       "</g>\n",
       "<!-- 44 -->\n",
       "<g id=\"node7\" class=\"node\">\n",
       "<title>44</title>\n",
       "<polygon fill=\"none\" stroke=\"#000000\" points=\"296.5,-46 213.1143,-11.5 379.8857,-11.5 296.5,-46\"/>\n",
       "<text text-anchor=\"middle\" x=\"296.5\" y=\"-19.3\" font-family=\"Times,serif\" font-size=\"14.00\" fill=\"#000000\">l.ins(k2)</text>\n",
       "</g>\n",
       "<!-- 46&#45;&gt;44 -->\n",
       "<g id=\"edge3\" class=\"edge\">\n",
       "<title>46&#45;&gt;44</title>\n",
       "<path fill=\"none\" stroke=\"#000000\" d=\"M345.3329,-82.1336C336.8854,-71.9042 326.2501,-59.0255 317.063,-47.9005\"/>\n",
       "<polygon fill=\"#000000\" stroke=\"#000000\" points=\"319.7476,-45.6548 310.6813,-40.1727 314.3502,-50.1121 319.7476,-45.6548\"/>\n",
       "</g>\n",
       "<!-- 45 -->\n",
       "<g id=\"node8\" class=\"node\">\n",
       "<title>45</title>\n",
       "<polygon fill=\"none\" stroke=\"#000000\" points=\"424.5,-46 397.4034,-11.5 451.5966,-11.5 424.5,-46\"/>\n",
       "<text text-anchor=\"middle\" x=\"424.5\" y=\"-19.3\" font-family=\"Times,serif\" font-size=\"14.00\" fill=\"#000000\">r</text>\n",
       "</g>\n",
       "<!-- 46&#45;&gt;45 -->\n",
       "<g id=\"edge4\" class=\"edge\">\n",
       "<title>46&#45;&gt;45</title>\n",
       "<path fill=\"none\" stroke=\"#000000\" d=\"M375.6671,-82.1336C385.6382,-70.0592 398.6575,-54.2936 408.7454,-42.0779\"/>\n",
       "<polygon fill=\"#000000\" stroke=\"#000000\" points=\"411.5186,-44.2163 415.1874,-34.2769 406.1211,-39.759 411.5186,-44.2163\"/>\n",
       "</g>\n",
       "</g>\n",
       "</svg>\n"
      ],
      "text/plain": [
       "<graphviz.dot.Digraph at 0x7faac06f2690>"
      ]
     },
     "execution_count": 20,
     "metadata": {},
     "output_type": "execute_result"
    }
   ],
   "source": [
    "toDotList([Method('k2 < k1:'), Two(Tree('l'), 'k1', Tree('r')), Method('.ins(k2)'), Two(Tree('l.ins(k2)'), 'k1', Tree('r')) ])"
   ]
  },
  {
   "cell_type": "code",
   "execution_count": null,
   "metadata": {},
   "outputs": [],
   "source": [
    "def _ins(self, key):\n",
    "    \"your code here\"\n",
    "    \n",
    "Two._ins = _ins"
   ]
  },
  {
   "cell_type": "markdown",
   "metadata": {},
   "source": [
    "The function call $t.\\texttt{restore}()$ takes a 2-3-4 tree $t$ that has at most one 4-node. This 4-node has to be a child\n",
    "of the root.  It returns a 2-3-4 tree that has at most one 4-node.  This 4-node has to be the root node.\n",
    "It is specified as follows:\n",
    "  - $\\texttt{Two}\\bigl(\\texttt{Four}(l_1,k_l,m_l,k_m,m_r,k_r,r_1), k, r\\bigr).\\texttt{restore}() = \n",
    "     \\texttt{Three}\\bigl(\\texttt{Two}(l_1, k_l, m_l), k_m, \\texttt{Two}(m_r, k_r, r_1), k, r\\bigr) $,\n",
    "  - $\\texttt{Two}\\bigl(l, k, \\texttt{Four}(l_1,k_l,m_l,k_m,m_r,k_r,r_1)\\bigr).\\texttt{restore}() = \n",
    "     \\texttt{Three}\\bigl(l, k, \\texttt{Two}(l_1, k_l, m_l), k_m, \\texttt{Two}(m_r, k_r, r_1)\\bigr) $\n",
    "\n",
    "If neither the left nor the right child node of a 2-node is a 4-node, the node is returned unchanged.  "
   ]
  },
  {
   "cell_type": "code",
   "execution_count": 21,
   "metadata": {},
   "outputs": [
    {
     "data": {
      "image/svg+xml": [
       "<?xml version=\"1.0\" encoding=\"UTF-8\" standalone=\"no\"?>\n",
       "<!DOCTYPE svg PUBLIC \"-//W3C//DTD SVG 1.1//EN\"\n",
       " \"http://www.w3.org/Graphics/SVG/1.1/DTD/svg11.dtd\">\n",
       "<!-- Generated by graphviz version 2.40.1 (20161225.0304)\n",
       " -->\n",
       "<!-- Title: %3 Pages: 1 -->\n",
       "<svg width=\"746pt\" height=\"209pt\"\n",
       " viewBox=\"0.00 0.00 746.49 209.00\" xmlns=\"http://www.w3.org/2000/svg\" xmlns:xlink=\"http://www.w3.org/1999/xlink\">\n",
       "<g id=\"graph0\" class=\"graph\" transform=\"scale(1 1) rotate(0) translate(4 205)\">\n",
       "<title>%3</title>\n",
       "<polygon fill=\"#ffffff\" stroke=\"transparent\" points=\"-4,4 -4,-205 742.4937,-205 742.4937,4 -4,4\"/>\n",
       "<!-- 53 -->\n",
       "<g id=\"node1\" class=\"node\">\n",
       "<title>53</title>\n",
       "<path fill=\"none\" stroke=\"#000000\" d=\"M208.0969,-164.5C208.0969,-164.5 238.0969,-164.5 238.0969,-164.5 244.0969,-164.5 250.0969,-170.5 250.0969,-176.5 250.0969,-176.5 250.0969,-188.5 250.0969,-188.5 250.0969,-194.5 244.0969,-200.5 238.0969,-200.5 238.0969,-200.5 208.0969,-200.5 208.0969,-200.5 202.0969,-200.5 196.0969,-194.5 196.0969,-188.5 196.0969,-188.5 196.0969,-176.5 196.0969,-176.5 196.0969,-170.5 202.0969,-164.5 208.0969,-164.5\"/>\n",
       "<text text-anchor=\"middle\" x=\"223.0969\" y=\"-178.8\" font-family=\"Times,serif\" font-size=\"14.00\" fill=\"#000000\">k</text>\n",
       "</g>\n",
       "<!-- 51 -->\n",
       "<g id=\"node2\" class=\"node\">\n",
       "<title>51</title>\n",
       "<path fill=\"none\" stroke=\"#000000\" d=\"M145.5969,-87C145.5969,-87 210.5969,-87 210.5969,-87 216.5969,-87 222.5969,-93 222.5969,-99 222.5969,-99 222.5969,-111 222.5969,-111 222.5969,-117 216.5969,-123 210.5969,-123 210.5969,-123 145.5969,-123 145.5969,-123 139.5969,-123 133.5969,-117 133.5969,-111 133.5969,-111 133.5969,-99 133.5969,-99 133.5969,-93 139.5969,-87 145.5969,-87\"/>\n",
       "<text text-anchor=\"middle\" x=\"147.0969\" y=\"-101.3\" font-family=\"Times,serif\" font-size=\"14.00\" fill=\"#000000\">kl</text>\n",
       "<polyline fill=\"none\" stroke=\"#000000\" points=\"160.5969,-87 160.5969,-123 \"/>\n",
       "<text text-anchor=\"middle\" x=\"177.5969\" y=\"-101.3\" font-family=\"Times,serif\" font-size=\"14.00\" fill=\"#000000\">km</text>\n",
       "<polyline fill=\"none\" stroke=\"#000000\" points=\"194.5969,-87 194.5969,-123 \"/>\n",
       "<text text-anchor=\"middle\" x=\"208.5969\" y=\"-101.3\" font-family=\"Times,serif\" font-size=\"14.00\" fill=\"#000000\">kr</text>\n",
       "</g>\n",
       "<!-- 53&#45;&gt;51 -->\n",
       "<g id=\"edge1\" class=\"edge\">\n",
       "<title>53&#45;&gt;51</title>\n",
       "<path fill=\"none\" stroke=\"#000000\" d=\"M212.4325,-164.1336C206.8844,-154.5784 199.994,-142.7117 193.8451,-132.1219\"/>\n",
       "<polygon fill=\"#000000\" stroke=\"#000000\" points=\"196.7329,-130.125 188.6847,-123.2346 190.6793,-133.64 196.7329,-130.125\"/>\n",
       "</g>\n",
       "<!-- 52 -->\n",
       "<g id=\"node7\" class=\"node\">\n",
       "<title>52</title>\n",
       "<polygon fill=\"none\" stroke=\"#000000\" points=\"268.0969,-128 241.0002,-93.5 295.1935,-93.5 268.0969,-128\"/>\n",
       "<text text-anchor=\"middle\" x=\"268.0969\" y=\"-101.3\" font-family=\"Times,serif\" font-size=\"14.00\" fill=\"#000000\">r</text>\n",
       "</g>\n",
       "<!-- 53&#45;&gt;52 -->\n",
       "<g id=\"edge2\" class=\"edge\">\n",
       "<title>53&#45;&gt;52</title>\n",
       "<path fill=\"none\" stroke=\"#000000\" d=\"M233.7613,-164.1336C240.1598,-153.1139 248.3435,-139.0197 255.1163,-127.3554\"/>\n",
       "<polygon fill=\"#000000\" stroke=\"#000000\" points=\"258.1898,-129.0324 260.1844,-118.627 252.1363,-125.5174 258.1898,-129.0324\"/>\n",
       "</g>\n",
       "<!-- 47 -->\n",
       "<g id=\"node3\" class=\"node\">\n",
       "<title>47</title>\n",
       "<polygon fill=\"none\" stroke=\"#000000\" points=\"35.0969,-46 -.0972,-11.5 70.2909,-11.5 35.0969,-46\"/>\n",
       "<text text-anchor=\"middle\" x=\"35.0969\" y=\"-19.3\" font-family=\"Times,serif\" font-size=\"14.00\" fill=\"#000000\">l1</text>\n",
       "</g>\n",
       "<!-- 51&#45;&gt;47 -->\n",
       "<g id=\"edge3\" class=\"edge\">\n",
       "<title>51&#45;&gt;47</title>\n",
       "<path fill=\"none\" stroke=\"#000000\" d=\"M146.3606,-86.8015C119.9194,-71.6395 82.8403,-50.3774 58.8921,-36.6448\"/>\n",
       "<polygon fill=\"#000000\" stroke=\"#000000\" points=\"60.5209,-33.5442 50.1049,-31.606 57.0388,-39.6167 60.5209,-33.5442\"/>\n",
       "</g>\n",
       "<!-- 48 -->\n",
       "<g id=\"node4\" class=\"node\">\n",
       "<title>48</title>\n",
       "<polygon fill=\"none\" stroke=\"#000000\" points=\"128.0969,-46 88.003,-11.5 168.1908,-11.5 128.0969,-46\"/>\n",
       "<text text-anchor=\"middle\" x=\"128.0969\" y=\"-19.3\" font-family=\"Times,serif\" font-size=\"14.00\" fill=\"#000000\">ml</text>\n",
       "</g>\n",
       "<!-- 51&#45;&gt;48 -->\n",
       "<g id=\"edge4\" class=\"edge\">\n",
       "<title>51&#45;&gt;48</title>\n",
       "<path fill=\"none\" stroke=\"#000000\" d=\"M167.0003,-86.8015C159.8234,-75.0315 150.4051,-59.5855 142.6331,-46.8394\"/>\n",
       "<polygon fill=\"#000000\" stroke=\"#000000\" points=\"145.5149,-44.8425 137.3205,-38.1267 139.5383,-48.4868 145.5149,-44.8425\"/>\n",
       "</g>\n",
       "<!-- 49 -->\n",
       "<g id=\"node5\" class=\"node\">\n",
       "<title>49</title>\n",
       "<polygon fill=\"none\" stroke=\"#000000\" points=\"228.0969,-46 186.404,-11.5 269.7897,-11.5 228.0969,-46\"/>\n",
       "<text text-anchor=\"middle\" x=\"228.0969\" y=\"-19.3\" font-family=\"Times,serif\" font-size=\"14.00\" fill=\"#000000\">mr</text>\n",
       "</g>\n",
       "<!-- 51&#45;&gt;49 -->\n",
       "<g id=\"edge5\" class=\"edge\">\n",
       "<title>51&#45;&gt;49</title>\n",
       "<path fill=\"none\" stroke=\"#000000\" d=\"M189.1935,-86.8015C196.3241,-75.1074 205.6672,-59.7847 213.41,-47.0865\"/>\n",
       "<polygon fill=\"#000000\" stroke=\"#000000\" points=\"216.4928,-48.7536 218.7106,-38.3935 210.5162,-45.1093 216.4928,-48.7536\"/>\n",
       "</g>\n",
       "<!-- 50 -->\n",
       "<g id=\"node6\" class=\"node\">\n",
       "<title>50</title>\n",
       "<polygon fill=\"none\" stroke=\"#000000\" points=\"324.0969,-46 287.8031,-11.5 360.3907,-11.5 324.0969,-46\"/>\n",
       "<text text-anchor=\"middle\" x=\"324.0969\" y=\"-19.3\" font-family=\"Times,serif\" font-size=\"14.00\" fill=\"#000000\">r1</text>\n",
       "</g>\n",
       "<!-- 51&#45;&gt;50 -->\n",
       "<g id=\"edge6\" class=\"edge\">\n",
       "<title>51&#45;&gt;50</title>\n",
       "<path fill=\"none\" stroke=\"#000000\" d=\"M210.499,-86.8015C237.4949,-71.6395 275.3518,-50.3774 299.8025,-36.6448\"/>\n",
       "<polygon fill=\"#000000\" stroke=\"#000000\" points=\"301.769,-39.5546 308.774,-31.606 298.3411,-33.4513 301.769,-39.5546\"/>\n",
       "</g>\n",
       "<!-- 54 -->\n",
       "<g id=\"node8\" class=\"node\">\n",
       "<title>54</title>\n",
       "<polygon fill=\"none\" stroke=\"#000000\" stroke-dasharray=\"1,5\" points=\"494.5969,-200.5 427.5969,-200.5 427.5969,-164.5 494.5969,-164.5 494.5969,-200.5\"/>\n",
       "<text text-anchor=\"middle\" x=\"461.0969\" y=\"-178.8\" font-family=\"Times,serif\" font-size=\"14.00\" fill=\"#000000\">.restore()</text>\n",
       "</g>\n",
       "<!-- 62 -->\n",
       "<g id=\"node9\" class=\"node\">\n",
       "<title>62</title>\n",
       "<path fill=\"none\" stroke=\"#000000\" d=\"M589.0969,-164.5C589.0969,-164.5 623.0969,-164.5 623.0969,-164.5 629.0969,-164.5 635.0969,-170.5 635.0969,-176.5 635.0969,-176.5 635.0969,-188.5 635.0969,-188.5 635.0969,-194.5 629.0969,-200.5 623.0969,-200.5 623.0969,-200.5 589.0969,-200.5 589.0969,-200.5 583.0969,-200.5 577.0969,-194.5 577.0969,-188.5 577.0969,-188.5 577.0969,-176.5 577.0969,-176.5 577.0969,-170.5 583.0969,-164.5 589.0969,-164.5\"/>\n",
       "<text text-anchor=\"middle\" x=\"594.0969\" y=\"-178.8\" font-family=\"Times,serif\" font-size=\"14.00\" fill=\"#000000\">km</text>\n",
       "<polyline fill=\"none\" stroke=\"#000000\" points=\"611.0969,-164.5 611.0969,-200.5 \"/>\n",
       "<text text-anchor=\"middle\" x=\"623.0969\" y=\"-178.8\" font-family=\"Times,serif\" font-size=\"14.00\" fill=\"#000000\">k</text>\n",
       "</g>\n",
       "<!-- 57 -->\n",
       "<g id=\"node10\" class=\"node\">\n",
       "<title>57</title>\n",
       "<path fill=\"none\" stroke=\"#000000\" d=\"M491.0969,-87C491.0969,-87 521.0969,-87 521.0969,-87 527.0969,-87 533.0969,-93 533.0969,-99 533.0969,-99 533.0969,-111 533.0969,-111 533.0969,-117 527.0969,-123 521.0969,-123 521.0969,-123 491.0969,-123 491.0969,-123 485.0969,-123 479.0969,-117 479.0969,-111 479.0969,-111 479.0969,-99 479.0969,-99 479.0969,-93 485.0969,-87 491.0969,-87\"/>\n",
       "<text text-anchor=\"middle\" x=\"506.0969\" y=\"-101.3\" font-family=\"Times,serif\" font-size=\"14.00\" fill=\"#000000\">kl</text>\n",
       "</g>\n",
       "<!-- 62&#45;&gt;57 -->\n",
       "<g id=\"edge7\" class=\"edge\">\n",
       "<title>62&#45;&gt;57</title>\n",
       "<path fill=\"none\" stroke=\"#000000\" d=\"M582.6513,-164.3297C569.2358,-153.9326 552.2272,-140.751 537.6511,-129.4545\"/>\n",
       "<polygon fill=\"#000000\" stroke=\"#000000\" points=\"539.4437,-126.4158 529.3956,-123.0565 535.1557,-131.9487 539.4437,-126.4158\"/>\n",
       "</g>\n",
       "<!-- 60 -->\n",
       "<g id=\"node13\" class=\"node\">\n",
       "<title>60</title>\n",
       "<path fill=\"none\" stroke=\"#000000\" d=\"M591.0969,-87C591.0969,-87 621.0969,-87 621.0969,-87 627.0969,-87 633.0969,-93 633.0969,-99 633.0969,-99 633.0969,-111 633.0969,-111 633.0969,-117 627.0969,-123 621.0969,-123 621.0969,-123 591.0969,-123 591.0969,-123 585.0969,-123 579.0969,-117 579.0969,-111 579.0969,-111 579.0969,-99 579.0969,-99 579.0969,-93 585.0969,-87 591.0969,-87\"/>\n",
       "<text text-anchor=\"middle\" x=\"606.0969\" y=\"-101.3\" font-family=\"Times,serif\" font-size=\"14.00\" fill=\"#000000\">kr</text>\n",
       "</g>\n",
       "<!-- 62&#45;&gt;60 -->\n",
       "<g id=\"edge8\" class=\"edge\">\n",
       "<title>62&#45;&gt;60</title>\n",
       "<path fill=\"none\" stroke=\"#000000\" d=\"M606.0969,-164.1336C606.0969,-154.9645 606.0969,-143.6668 606.0969,-133.4115\"/>\n",
       "<polygon fill=\"#000000\" stroke=\"#000000\" points=\"609.597,-133.2345 606.0969,-123.2346 602.597,-133.2346 609.597,-133.2345\"/>\n",
       "</g>\n",
       "<!-- 61 -->\n",
       "<g id=\"node16\" class=\"node\">\n",
       "<title>61</title>\n",
       "<polygon fill=\"none\" stroke=\"#000000\" points=\"678.0969,-128 651.0002,-93.5 705.1935,-93.5 678.0969,-128\"/>\n",
       "<text text-anchor=\"middle\" x=\"678.0969\" y=\"-101.3\" font-family=\"Times,serif\" font-size=\"14.00\" fill=\"#000000\">r</text>\n",
       "</g>\n",
       "<!-- 62&#45;&gt;61 -->\n",
       "<g id=\"edge9\" class=\"edge\">\n",
       "<title>62&#45;&gt;61</title>\n",
       "<path fill=\"none\" stroke=\"#000000\" d=\"M623.1599,-164.1336C634.6217,-151.7962 649.6637,-135.6052 661.1097,-123.2848\"/>\n",
       "<polygon fill=\"#000000\" stroke=\"#000000\" points=\"663.7961,-125.5355 668.0382,-115.827 658.6677,-120.7711 663.7961,-125.5355\"/>\n",
       "</g>\n",
       "<!-- 55 -->\n",
       "<g id=\"node11\" class=\"node\">\n",
       "<title>55</title>\n",
       "<polygon fill=\"none\" stroke=\"#000000\" points=\"413.0969,-46 377.9028,-11.5 448.2909,-11.5 413.0969,-46\"/>\n",
       "<text text-anchor=\"middle\" x=\"413.0969\" y=\"-19.3\" font-family=\"Times,serif\" font-size=\"14.00\" fill=\"#000000\">l1</text>\n",
       "</g>\n",
       "<!-- 57&#45;&gt;55 -->\n",
       "<g id=\"edge10\" class=\"edge\">\n",
       "<title>57&#45;&gt;55</title>\n",
       "<path fill=\"none\" stroke=\"#000000\" d=\"M485.4572,-86.8015C470.0154,-73.1862 448.9948,-54.6519 433.5887,-41.0681\"/>\n",
       "<polygon fill=\"#000000\" stroke=\"#000000\" points=\"435.4941,-38.0818 425.6786,-34.0935 430.8646,-43.3324 435.4941,-38.0818\"/>\n",
       "</g>\n",
       "<!-- 56 -->\n",
       "<g id=\"node12\" class=\"node\">\n",
       "<title>56</title>\n",
       "<polygon fill=\"none\" stroke=\"#000000\" points=\"506.0969,-46 466.003,-11.5 546.1908,-11.5 506.0969,-46\"/>\n",
       "<text text-anchor=\"middle\" x=\"506.0969\" y=\"-19.3\" font-family=\"Times,serif\" font-size=\"14.00\" fill=\"#000000\">ml</text>\n",
       "</g>\n",
       "<!-- 57&#45;&gt;56 -->\n",
       "<g id=\"edge11\" class=\"edge\">\n",
       "<title>57&#45;&gt;56</title>\n",
       "<path fill=\"none\" stroke=\"#000000\" d=\"M506.0969,-86.8015C506.0969,-77.8131 506.0969,-66.6809 506.0969,-56.2445\"/>\n",
       "<polygon fill=\"#000000\" stroke=\"#000000\" points=\"509.597,-56.1451 506.0969,-46.1452 502.597,-56.1452 509.597,-56.1451\"/>\n",
       "</g>\n",
       "<!-- 58 -->\n",
       "<g id=\"node14\" class=\"node\">\n",
       "<title>58</title>\n",
       "<polygon fill=\"none\" stroke=\"#000000\" points=\"606.0969,-46 564.404,-11.5 647.7897,-11.5 606.0969,-46\"/>\n",
       "<text text-anchor=\"middle\" x=\"606.0969\" y=\"-19.3\" font-family=\"Times,serif\" font-size=\"14.00\" fill=\"#000000\">mr</text>\n",
       "</g>\n",
       "<!-- 60&#45;&gt;58 -->\n",
       "<g id=\"edge12\" class=\"edge\">\n",
       "<title>60&#45;&gt;58</title>\n",
       "<path fill=\"none\" stroke=\"#000000\" d=\"M606.0969,-86.8015C606.0969,-77.8131 606.0969,-66.6809 606.0969,-56.2445\"/>\n",
       "<polygon fill=\"#000000\" stroke=\"#000000\" points=\"609.597,-56.1451 606.0969,-46.1452 602.597,-56.1452 609.597,-56.1451\"/>\n",
       "</g>\n",
       "<!-- 59 -->\n",
       "<g id=\"node15\" class=\"node\">\n",
       "<title>59</title>\n",
       "<polygon fill=\"none\" stroke=\"#000000\" points=\"702.0969,-46 665.8031,-11.5 738.3907,-11.5 702.0969,-46\"/>\n",
       "<text text-anchor=\"middle\" x=\"702.0969\" y=\"-19.3\" font-family=\"Times,serif\" font-size=\"14.00\" fill=\"#000000\">r1</text>\n",
       "</g>\n",
       "<!-- 60&#45;&gt;59 -->\n",
       "<g id=\"edge13\" class=\"edge\">\n",
       "<title>60&#45;&gt;59</title>\n",
       "<path fill=\"none\" stroke=\"#000000\" d=\"M627.4024,-86.8015C643.4899,-73.0601 665.4433,-54.3082 681.3842,-40.692\"/>\n",
       "<polygon fill=\"#000000\" stroke=\"#000000\" points=\"683.7788,-43.2497 689.1093,-34.0935 679.2324,-37.9271 683.7788,-43.2497\"/>\n",
       "</g>\n",
       "</g>\n",
       "</svg>\n"
      ],
      "text/plain": [
       "<graphviz.dot.Digraph at 0x7faab01b5b90>"
      ]
     },
     "execution_count": 21,
     "metadata": {},
     "output_type": "execute_result"
    }
   ],
   "source": [
    "toDotList([Two(Four(Tree('l1'),'kl',Tree('ml'),'km', Tree('mr'),'kr',Tree('r1')), 'k', Tree('r')), \n",
    "           Method('.restore()'), \n",
    "           Three(Two(Tree('l1'),'kl',Tree('ml')), 'km', Two(Tree('mr'),'kr',Tree('r1')), 'k', Tree('r'))])"
   ]
  },
  {
   "cell_type": "code",
   "execution_count": null,
   "metadata": {},
   "outputs": [],
   "source": [
    "toDotList([Two(Tree('l'), 'k', Four(Tree('l1'),'kl',Tree('ml'),'km',Tree('mr'),'kr',Tree('r1'))),\n",
    "           Method('.restore()'),\n",
    "           Three(Tree('l'), 'k', Two(Tree('l1'),'kl',Tree('ml')),'km',Two(Tree('mr'),'kr',Tree('r1')))\n",
    "          ])"
   ]
  },
  {
   "cell_type": "code",
   "execution_count": null,
   "metadata": {},
   "outputs": [],
   "source": [
    "def _restore(self):\n",
    "    \"your code here\"\n",
    "\n",
    "Two._restore = _restore"
   ]
  },
  {
   "cell_type": "markdown",
   "metadata": {},
   "source": [
    "## Methods of the Class `Three`"
   ]
  },
  {
   "cell_type": "markdown",
   "metadata": {},
   "source": [
    "The method `extract` returns the member variables stored in a 3-node."
   ]
  },
  {
   "cell_type": "code",
   "execution_count": null,
   "metadata": {},
   "outputs": [],
   "source": [
    "def _extract(self):\n",
    "    return self.mLeft, self.mKeyL, self.mMiddle, self.mKeyR, self.mRight\n",
    "\n",
    "Three._extract = _extract"
   ]
  },
  {
   "cell_type": "markdown",
   "metadata": {},
   "source": [
    "Given a 3-node $t$ and a key $k$, the method $t.\\texttt{member}(k)$ checks whether the key $k$ occurs in $t$.  It is specified as follows:\n",
    "  - $k = k_l \\vee k = k_r \\rightarrow \\texttt{Three}(l,k_l,m,k_r,r).\\texttt{member}(k) = \\texttt{True}$,\n",
    "  - $k < k_l \\rightarrow \\texttt{Three}(l,k_l,m,k_r,r).\\texttt{member}(k) = l.\\texttt{member}(k)$,\n",
    "  - $k_l < k < k_r \\rightarrow \\texttt{Three}(l,k_l,m,k_r,r).\\texttt{member}(k) = m.\\texttt{member}(k)$,\n",
    "  - $k_r < k \\rightarrow \\texttt{Three}(l,k_l,m,k_r,r).\\texttt{member}(k) = r.\\texttt{member}(k)$."
   ]
  },
  {
   "cell_type": "code",
   "execution_count": null,
   "metadata": {},
   "outputs": [],
   "source": [
    "def member(self, key):\n",
    "    \"your code here\"\n",
    "    \n",
    "Three.member = member"
   ]
  },
  {
   "cell_type": "markdown",
   "metadata": {},
   "source": [
    "The method $t.\\texttt{ins}(k)$ takes a 2-3 tree $t$ and and a key $k$ and inserts the key $k$ into $t$.\n",
    "It returns a 2-3-4 tree that has at most one 4-node, which has to be a child of the root\n",
    "node.  The function \\texttt{ins} is recursive and uses the function $\\texttt{restore}$ defined below. \n",
    "It is defined as follows:\n",
    "  - $k = k_l \\vee k = k_r \\rightarrow\\texttt{Three}(l,k_l,m,k_r,r).\\texttt{ins}(k) = \\texttt{Three}(l,k_l,m,k_r,r)$\n",
    "  - $k < k_l \\rightarrow \\texttt{Three}(\\texttt{Nil},k_l,\\texttt{Nil},k_r,\\texttt{Nil}).\\texttt{ins}(k) = \n",
    "                         \\texttt{Four}(\\texttt{Nil},k,\\texttt{Nil},k_l,\\texttt{Nil},k_r,\\texttt{Nil})$\n",
    "  - $k_l < k < k_r \\rightarrow \\texttt{Three}(\\texttt{Nil},k_l,\\texttt{Nil},k_r,\\texttt{Nil}).\\texttt{ins}(k) = \n",
    "                         \\texttt{Four}(\\texttt{Nil},k_l,\\texttt{Nil},k,\\texttt{Nil},k_r,\\texttt{Nil})$\n",
    "  - $k_r < k \\rightarrow \\texttt{Three}(\\texttt{Nil},k_l,\\texttt{Nil},k_r,\\texttt{Nil}).\\texttt{ins}(k) = \n",
    "                         \\texttt{Four}(\\texttt{Nil},k_l,\\texttt{Nil},k_r,\\texttt{Nil},k,\\texttt{Nil})$\n",
    "  \n",
    "  - $k < k_l \\wedge l \\not= \\texttt{Nil} \\wedge m \\not= \\texttt{Nil}\\wedge r \\not= \\texttt{Nil} \\rightarrow \n",
    "     \\texttt{Three}(l,k_l,m,k_r,r).\\texttt{ins}(k) = \\texttt{Three}\\bigl(l.\\texttt{ins}(k),k_l,m,k_r,r\\bigr).\\texttt{restore}()$\n",
    "  - $k_l < k < k_r \\wedge l \\not= \\texttt{Nil} \\wedge m \\not= \\texttt{Nil}\\wedge r \\not= \\texttt{Nil} \\rightarrow \n",
    "     \\texttt{Three}(l,k_l,m,k_r,r).\\texttt{ins}(k) = \\texttt{Three}\\bigl(l,k_l,m.\\texttt{ins}(k),k_r,r\\bigr).\\texttt{restore}()$\n",
    "  - $k_r < k \\wedge l \\not= \\texttt{Nil} \\wedge m \\not= \\texttt{Nil}\\wedge r \\not= \\texttt{Nil} \\rightarrow \n",
    "     \\texttt{Three}(l,k_l,m,k_r,r).\\texttt{ins}(k) = \\texttt{Three}\\bigl(l,k_l,m,k_r,r.\\texttt{ins}(k)\\bigr).\\texttt{restore}()$"
   ]
  },
  {
   "cell_type": "code",
   "execution_count": null,
   "metadata": {},
   "outputs": [],
   "source": [
    "def _ins(self, key):\n",
    "    \"your code here\"\n",
    "    \n",
    "Three._ins = _ins"
   ]
  },
  {
   "cell_type": "markdown",
   "metadata": {},
   "source": [
    "The function call $t.\\texttt{restore}()$ takes a 2-3-4 tree $t$ that has at most one 4-node. This 4-node has to be a child\n",
    "of the root.  It returns a 2-3-4 tree that has at most one 4-node.  This 4-node has to be the root node.\n",
    "It is specified as follows:\n",
    "  - $\\texttt{Three}\\bigl(\\texttt{Four}(l_1,k_1,m_l,k_2,m_r,k_3,r_1), k_l, m, k_r, r\\bigr).\\texttt{restore}() = \n",
    "     \\texttt{Four}\\bigl(\\texttt{Two}(l_1, k_1, m_l), k_2, \\texttt{Two}(m_r, k_3, r_1), k_l, m, k_r, r\\bigr) $,\n",
    "  - $\\texttt{Three}\\bigl(l, k_l, \\texttt{Four}(l_1,k_1,m_l,k_2,m_r,k_3,r_1), k_r, r\\bigr).\\texttt{restore}() = \n",
    "     \\texttt{Four}\\bigl(l, k_l, \\texttt{Two}(l_1, k_1, m_l), k_2, \\texttt{Two}(m_r, k_3, r_1), k_r, r\\bigr) $,\n",
    "  - $\\texttt{Three}\\bigl(l, k_l, m, k_r, \\texttt{Four}(l_1,k_1,m_l,k_2,m_r,k_3,r_1)\\bigr).\\texttt{restore}() = \n",
    "     \\texttt{Four}\\bigl(l, k_l, m, k_r, \\texttt{Two}(l_1, k_1, m_l), k_2, \\texttt{Two}(m_r, k_3, r_1)\\bigr) $,\n",
    "     \n",
    "If neither of the child nodes of a 3-node is a 4-node, the node is returned unchanged."
   ]
  },
  {
   "cell_type": "code",
   "execution_count": null,
   "metadata": {},
   "outputs": [],
   "source": [
    "toDotList([Three(Four(Tree('l1'), 'k1', Tree('ml'), 'k2', Tree('mr'), 'k3', Tree('r1')), 'kl', Tree('m'), 'kr', Tree('r')),\n",
    "           Method('.restore()'),\n",
    "           Four(Two(Tree('l1'), 'k1', Tree('ml')), 'k2', Two(Tree('mr'), 'k3', Tree('r1')), 'kl', Tree('m'), 'kr', Tree('r')),\n",
    "          ])"
   ]
  },
  {
   "cell_type": "code",
   "execution_count": null,
   "metadata": {},
   "outputs": [],
   "source": [
    "toDotList([Three(Tree('l'), 'kl', Four(Tree('l1'), 'k1', Tree('ml'), 'k2', Tree('mr'), 'k3', Tree('r1')), 'kr', Tree('r')),\n",
    "           Method('.restore()'),\n",
    "           Four(Tree('l'), 'kl', Two(Tree('l1'), 'k1', Tree('ml')), 'k2', Two(Tree('mr'), 'k3', Tree('r1')), 'kr', Tree('r'))\n",
    "          ])"
   ]
  },
  {
   "cell_type": "code",
   "execution_count": null,
   "metadata": {},
   "outputs": [],
   "source": [
    "toDotList([Three(Tree('l'), 'kl', Tree('m'), 'kr', Four(Tree('l1'), 'k1', Tree('ml'), 'k2', Tree('mr'), 'k3', Tree('r1'))),\n",
    "           Method('.restore()'),\n",
    "           Four(Tree('l'), 'kl', Tree('m'), 'kr', Two(Tree('l1'), 'k1', Tree('ml')), 'k2', Two(Tree('mr'), 'k3', Tree('r1')))\n",
    "          ])"
   ]
  },
  {
   "cell_type": "code",
   "execution_count": null,
   "metadata": {},
   "outputs": [],
   "source": [
    "def _restore(self):\n",
    "    \"your code here\"\n",
    "\n",
    "Three._restore = _restore"
   ]
  },
  {
   "cell_type": "markdown",
   "metadata": {},
   "source": [
    "## Methods of the Class `Four`"
   ]
  },
  {
   "cell_type": "markdown",
   "metadata": {},
   "source": [
    "The method extract returns the member variables stored in a 4-node."
   ]
  },
  {
   "cell_type": "code",
   "execution_count": null,
   "metadata": {},
   "outputs": [],
   "source": [
    "def _extract(self):\n",
    "    return self.mLeft, self.mKeyL, self.mMiddleL, self.mKeyM, self.mMiddleR, self.mKeyR, self.mRight \n",
    "\n",
    "Four._extract = _extract"
   ]
  },
  {
   "cell_type": "markdown",
   "metadata": {},
   "source": [
    "The method `restore` returns a 4-node unchanged."
   ]
  },
  {
   "cell_type": "code",
   "execution_count": null,
   "metadata": {},
   "outputs": [],
   "source": [
    "def _restore(self):\n",
    "    return self\n",
    "\n",
    "Four._restore = _restore"
   ]
  },
  {
   "cell_type": "markdown",
   "metadata": {},
   "source": [
    "The function `grow` turns one 4-node into three 2-nodes.  It is specified as follows:\n",
    "$$ \\texttt{Four}(l, k_l, m_l, k_m, m_r, k_r, r).\\texttt{grow}() =  \n",
    "   \\texttt{Two}\\bigl(\\texttt{Two}(l, k_l, m_l), k_m, \\texttt{Two}(m_r, k_r, r)\\bigr)\n",
    "$$"
   ]
  },
  {
   "cell_type": "code",
   "execution_count": 22,
   "metadata": {},
   "outputs": [
    {
     "data": {
      "image/svg+xml": [
       "<?xml version=\"1.0\" encoding=\"UTF-8\" standalone=\"no\"?>\n",
       "<!DOCTYPE svg PUBLIC \"-//W3C//DTD SVG 1.1//EN\"\n",
       " \"http://www.w3.org/Graphics/SVG/1.1/DTD/svg11.dtd\">\n",
       "<!-- Generated by graphviz version 2.40.1 (20161225.0304)\n",
       " -->\n",
       "<!-- Title: %3 Pages: 1 -->\n",
       "<svg width=\"596pt\" height=\"209pt\"\n",
       " viewBox=\"0.00 0.00 596.30 209.00\" xmlns=\"http://www.w3.org/2000/svg\" xmlns:xlink=\"http://www.w3.org/1999/xlink\">\n",
       "<g id=\"graph0\" class=\"graph\" transform=\"scale(1 1) rotate(0) translate(4 205)\">\n",
       "<title>%3</title>\n",
       "<polygon fill=\"#ffffff\" stroke=\"transparent\" points=\"-4,4 -4,-205 592.2976,-205 592.2976,4 -4,4\"/>\n",
       "<!-- 67 -->\n",
       "<g id=\"node1\" class=\"node\">\n",
       "<title>67</title>\n",
       "<path fill=\"none\" stroke=\"#000000\" d=\"M141.5,-164.5C141.5,-164.5 206.5,-164.5 206.5,-164.5 212.5,-164.5 218.5,-170.5 218.5,-176.5 218.5,-176.5 218.5,-188.5 218.5,-188.5 218.5,-194.5 212.5,-200.5 206.5,-200.5 206.5,-200.5 141.5,-200.5 141.5,-200.5 135.5,-200.5 129.5,-194.5 129.5,-188.5 129.5,-188.5 129.5,-176.5 129.5,-176.5 129.5,-170.5 135.5,-164.5 141.5,-164.5\"/>\n",
       "<text text-anchor=\"middle\" x=\"143\" y=\"-178.8\" font-family=\"Times,serif\" font-size=\"14.00\" fill=\"#000000\">kl</text>\n",
       "<polyline fill=\"none\" stroke=\"#000000\" points=\"156.5,-164.5 156.5,-200.5 \"/>\n",
       "<text text-anchor=\"middle\" x=\"173.5\" y=\"-178.8\" font-family=\"Times,serif\" font-size=\"14.00\" fill=\"#000000\">km</text>\n",
       "<polyline fill=\"none\" stroke=\"#000000\" points=\"190.5,-164.5 190.5,-200.5 \"/>\n",
       "<text text-anchor=\"middle\" x=\"204.5\" y=\"-178.8\" font-family=\"Times,serif\" font-size=\"14.00\" fill=\"#000000\">kr</text>\n",
       "</g>\n",
       "<!-- 63 -->\n",
       "<g id=\"node2\" class=\"node\">\n",
       "<title>63</title>\n",
       "<polygon fill=\"none\" stroke=\"#000000\" points=\"27,-128 0,-93.5 54,-93.5 27,-128\"/>\n",
       "<text text-anchor=\"middle\" x=\"27\" y=\"-101.3\" font-family=\"Times,serif\" font-size=\"14.00\" fill=\"#000000\">l</text>\n",
       "</g>\n",
       "<!-- 67&#45;&gt;63 -->\n",
       "<g id=\"edge1\" class=\"edge\">\n",
       "<title>67&#45;&gt;63</title>\n",
       "<path fill=\"none\" stroke=\"#000000\" d=\"M134.4046,-164.3842C112.9687,-154.2476 86.201,-141.053 63,-128 57.8289,-125.0907 52.3741,-121.7536 47.3179,-118.5402\"/>\n",
       "<polygon fill=\"#000000\" stroke=\"#000000\" points=\"49.0884,-115.5168 38.7947,-113.0088 45.2777,-121.3887 49.0884,-115.5168\"/>\n",
       "</g>\n",
       "<!-- 64 -->\n",
       "<g id=\"node3\" class=\"node\">\n",
       "<title>64</title>\n",
       "<polygon fill=\"none\" stroke=\"#000000\" points=\"112,-128 71.9061,-93.5 152.0939,-93.5 112,-128\"/>\n",
       "<text text-anchor=\"middle\" x=\"112\" y=\"-101.3\" font-family=\"Times,serif\" font-size=\"14.00\" fill=\"#000000\">ml</text>\n",
       "</g>\n",
       "<!-- 67&#45;&gt;64 -->\n",
       "<g id=\"edge2\" class=\"edge\">\n",
       "<title>67&#45;&gt;64</title>\n",
       "<path fill=\"none\" stroke=\"#000000\" d=\"M159.3069,-164.1336C150.3166,-152.8957 138.7682,-138.4603 129.3323,-126.6654\"/>\n",
       "<polygon fill=\"#000000\" stroke=\"#000000\" points=\"131.8817,-124.2493 122.9016,-118.627 126.4156,-128.6222 131.8817,-124.2493\"/>\n",
       "</g>\n",
       "<!-- 65 -->\n",
       "<g id=\"node4\" class=\"node\">\n",
       "<title>65</title>\n",
       "<polygon fill=\"none\" stroke=\"#000000\" points=\"212,-128 170.3072,-93.5 253.6928,-93.5 212,-128\"/>\n",
       "<text text-anchor=\"middle\" x=\"212\" y=\"-101.3\" font-family=\"Times,serif\" font-size=\"14.00\" fill=\"#000000\">mr</text>\n",
       "</g>\n",
       "<!-- 67&#45;&gt;65 -->\n",
       "<g id=\"edge3\" class=\"edge\">\n",
       "<title>67&#45;&gt;65</title>\n",
       "<path fill=\"none\" stroke=\"#000000\" d=\"M183.0055,-164.1336C187.9282,-154.0938 194.1023,-141.5019 199.4866,-130.5207\"/>\n",
       "<polygon fill=\"#000000\" stroke=\"#000000\" points=\"202.7037,-131.9095 203.9637,-121.3899 196.4186,-128.8277 202.7037,-131.9095\"/>\n",
       "</g>\n",
       "<!-- 66 -->\n",
       "<g id=\"node5\" class=\"node\">\n",
       "<title>66</title>\n",
       "<polygon fill=\"none\" stroke=\"#000000\" points=\"299,-128 271.9034,-93.5 326.0966,-93.5 299,-128\"/>\n",
       "<text text-anchor=\"middle\" x=\"299\" y=\"-101.3\" font-family=\"Times,serif\" font-size=\"14.00\" fill=\"#000000\">r</text>\n",
       "</g>\n",
       "<!-- 67&#45;&gt;66 -->\n",
       "<g id=\"edge4\" class=\"edge\">\n",
       "<title>67&#45;&gt;66</title>\n",
       "<path fill=\"none\" stroke=\"#000000\" d=\"M203.7539,-164.4743C221.0886,-153.9241 243.3386,-140.2991 263,-128 267.9516,-124.9025 273.2635,-121.5343 278.2453,-118.355\"/>\n",
       "<polygon fill=\"#000000\" stroke=\"#000000\" points=\"280.1739,-121.2761 286.7073,-112.9355 276.3986,-115.3814 280.1739,-121.2761\"/>\n",
       "</g>\n",
       "<!-- 68 -->\n",
       "<g id=\"node6\" class=\"node\">\n",
       "<title>68</title>\n",
       "<polygon fill=\"none\" stroke=\"#000000\" stroke-dasharray=\"1,5\" points=\"343,-200.5 285,-200.5 285,-164.5 343,-164.5 343,-200.5\"/>\n",
       "<text text-anchor=\"middle\" x=\"314\" y=\"-178.8\" font-family=\"Times,serif\" font-size=\"14.00\" fill=\"#000000\">.grow()</text>\n",
       "</g>\n",
       "<!-- 75 -->\n",
       "<g id=\"node7\" class=\"node\">\n",
       "<title>75</title>\n",
       "<path fill=\"none\" stroke=\"#000000\" d=\"M397,-164.5C397,-164.5 427,-164.5 427,-164.5 433,-164.5 439,-170.5 439,-176.5 439,-176.5 439,-188.5 439,-188.5 439,-194.5 433,-200.5 427,-200.5 427,-200.5 397,-200.5 397,-200.5 391,-200.5 385,-194.5 385,-188.5 385,-188.5 385,-176.5 385,-176.5 385,-170.5 391,-164.5 397,-164.5\"/>\n",
       "<text text-anchor=\"middle\" x=\"412\" y=\"-178.8\" font-family=\"Times,serif\" font-size=\"14.00\" fill=\"#000000\">km</text>\n",
       "</g>\n",
       "<!-- 71 -->\n",
       "<g id=\"node8\" class=\"node\">\n",
       "<title>71</title>\n",
       "<path fill=\"none\" stroke=\"#000000\" d=\"M359,-87C359,-87 389,-87 389,-87 395,-87 401,-93 401,-99 401,-99 401,-111 401,-111 401,-117 395,-123 389,-123 389,-123 359,-123 359,-123 353,-123 347,-117 347,-111 347,-111 347,-99 347,-99 347,-93 353,-87 359,-87\"/>\n",
       "<text text-anchor=\"middle\" x=\"374\" y=\"-101.3\" font-family=\"Times,serif\" font-size=\"14.00\" fill=\"#000000\">kl</text>\n",
       "</g>\n",
       "<!-- 75&#45;&gt;71 -->\n",
       "<g id=\"edge5\" class=\"edge\">\n",
       "<title>75&#45;&gt;71</title>\n",
       "<path fill=\"none\" stroke=\"#000000\" d=\"M402.9945,-164.1336C398.3568,-154.675 392.6083,-142.9512 387.456,-132.4432\"/>\n",
       "<polygon fill=\"#000000\" stroke=\"#000000\" points=\"390.4859,-130.6725 382.9408,-123.2346 384.2008,-133.7542 390.4859,-130.6725\"/>\n",
       "</g>\n",
       "<!-- 74 -->\n",
       "<g id=\"node11\" class=\"node\">\n",
       "<title>74</title>\n",
       "<path fill=\"none\" stroke=\"#000000\" d=\"M459,-87C459,-87 489,-87 489,-87 495,-87 501,-93 501,-99 501,-99 501,-111 501,-111 501,-117 495,-123 489,-123 489,-123 459,-123 459,-123 453,-123 447,-117 447,-111 447,-111 447,-99 447,-99 447,-93 453,-87 459,-87\"/>\n",
       "<text text-anchor=\"middle\" x=\"474\" y=\"-101.3\" font-family=\"Times,serif\" font-size=\"14.00\" fill=\"#000000\">kr</text>\n",
       "</g>\n",
       "<!-- 75&#45;&gt;74 -->\n",
       "<g id=\"edge6\" class=\"edge\">\n",
       "<title>75&#45;&gt;74</title>\n",
       "<path fill=\"none\" stroke=\"#000000\" d=\"M426.6931,-164.1336C434.5689,-154.2889 444.4077,-141.9904 453.0698,-131.1628\"/>\n",
       "<polygon fill=\"#000000\" stroke=\"#000000\" points=\"455.8984,-133.2297 459.4123,-123.2346 450.4323,-128.8568 455.8984,-133.2297\"/>\n",
       "</g>\n",
       "<!-- 69 -->\n",
       "<g id=\"node9\" class=\"node\">\n",
       "<title>69</title>\n",
       "<polygon fill=\"none\" stroke=\"#000000\" points=\"289,-46 262,-11.5 316,-11.5 289,-46\"/>\n",
       "<text text-anchor=\"middle\" x=\"289\" y=\"-19.3\" font-family=\"Times,serif\" font-size=\"14.00\" fill=\"#000000\">l</text>\n",
       "</g>\n",
       "<!-- 71&#45;&gt;69 -->\n",
       "<g id=\"edge7\" class=\"edge\">\n",
       "<title>71&#45;&gt;69</title>\n",
       "<path fill=\"none\" stroke=\"#000000\" d=\"M355.1357,-86.8015C340.6096,-72.7881 320.682,-53.5638 306.5074,-39.8895\"/>\n",
       "<polygon fill=\"#000000\" stroke=\"#000000\" points=\"308.9223,-37.356 299.2953,-32.9319 304.0622,-42.3938 308.9223,-37.356\"/>\n",
       "</g>\n",
       "<!-- 70 -->\n",
       "<g id=\"node10\" class=\"node\">\n",
       "<title>70</title>\n",
       "<polygon fill=\"none\" stroke=\"#000000\" points=\"374,-46 333.9061,-11.5 414.0939,-11.5 374,-46\"/>\n",
       "<text text-anchor=\"middle\" x=\"374\" y=\"-19.3\" font-family=\"Times,serif\" font-size=\"14.00\" fill=\"#000000\">ml</text>\n",
       "</g>\n",
       "<!-- 71&#45;&gt;70 -->\n",
       "<g id=\"edge8\" class=\"edge\">\n",
       "<title>71&#45;&gt;70</title>\n",
       "<path fill=\"none\" stroke=\"#000000\" d=\"M374,-86.8015C374,-77.8131 374,-66.6809 374,-56.2445\"/>\n",
       "<polygon fill=\"#000000\" stroke=\"#000000\" points=\"377.5001,-56.1451 374,-46.1452 370.5001,-56.1452 377.5001,-56.1451\"/>\n",
       "</g>\n",
       "<!-- 72 -->\n",
       "<g id=\"node12\" class=\"node\">\n",
       "<title>72</title>\n",
       "<polygon fill=\"none\" stroke=\"#000000\" points=\"474,-46 432.3072,-11.5 515.6928,-11.5 474,-46\"/>\n",
       "<text text-anchor=\"middle\" x=\"474\" y=\"-19.3\" font-family=\"Times,serif\" font-size=\"14.00\" fill=\"#000000\">mr</text>\n",
       "</g>\n",
       "<!-- 74&#45;&gt;72 -->\n",
       "<g id=\"edge9\" class=\"edge\">\n",
       "<title>74&#45;&gt;72</title>\n",
       "<path fill=\"none\" stroke=\"#000000\" d=\"M474,-86.8015C474,-77.8131 474,-66.6809 474,-56.2445\"/>\n",
       "<polygon fill=\"#000000\" stroke=\"#000000\" points=\"477.5001,-56.1451 474,-46.1452 470.5001,-56.1452 477.5001,-56.1451\"/>\n",
       "</g>\n",
       "<!-- 73 -->\n",
       "<g id=\"node13\" class=\"node\">\n",
       "<title>73</title>\n",
       "<polygon fill=\"none\" stroke=\"#000000\" points=\"561,-46 533.9034,-11.5 588.0966,-11.5 561,-46\"/>\n",
       "<text text-anchor=\"middle\" x=\"561\" y=\"-19.3\" font-family=\"Times,serif\" font-size=\"14.00\" fill=\"#000000\">r</text>\n",
       "</g>\n",
       "<!-- 74&#45;&gt;73 -->\n",
       "<g id=\"edge10\" class=\"edge\">\n",
       "<title>74&#45;&gt;73</title>\n",
       "<path fill=\"none\" stroke=\"#000000\" d=\"M493.3081,-86.8015C508.176,-72.7881 528.5725,-53.5638 543.0807,-39.8895\"/>\n",
       "<polygon fill=\"#000000\" stroke=\"#000000\" points=\"545.586,-42.3378 550.4625,-32.9319 540.7847,-37.2438 545.586,-42.3378\"/>\n",
       "</g>\n",
       "</g>\n",
       "</svg>\n"
      ],
      "text/plain": [
       "<graphviz.dot.Digraph at 0x7faab01af690>"
      ]
     },
     "execution_count": 22,
     "metadata": {},
     "output_type": "execute_result"
    }
   ],
   "source": [
    "toDotList([Four(Tree('l'),'kl', Tree('ml'), 'km', Tree('mr'), 'kr', Tree('r')),\n",
    "           Method('.grow()'),\n",
    "           Two(Two(Tree('l'),'kl', Tree('ml')), 'km', Two(Tree('mr'), 'kr', Tree('r')))\n",
    "          ])"
   ]
  },
  {
   "cell_type": "code",
   "execution_count": null,
   "metadata": {},
   "outputs": [],
   "source": [
    "def _grow(self):\n",
    "    \"your code here\"\n",
    "    \n",
    "Four._grow = _grow"
   ]
  },
  {
   "cell_type": "markdown",
   "metadata": {},
   "source": [
    "The function $\\texttt{demo}()$ creates a small ordered binary tree."
   ]
  },
  {
   "cell_type": "code",
   "execution_count": null,
   "metadata": {},
   "outputs": [],
   "source": [
    "m = Nil()\n",
    "m.isNil()\n",
    "m.toDot()"
   ]
  },
  {
   "cell_type": "code",
   "execution_count": null,
   "metadata": {},
   "outputs": [],
   "source": [
    "m = m.insert(\"anton\")\n",
    "m.toDot()"
   ]
  },
  {
   "cell_type": "code",
   "execution_count": null,
   "metadata": {},
   "outputs": [],
   "source": [
    "m = m.insert(\"hugo\" )\n",
    "m.toDot()"
   ]
  },
  {
   "cell_type": "code",
   "execution_count": null,
   "metadata": {},
   "outputs": [],
   "source": [
    "m = m.insert(\"gustav\")\n",
    "m.toDot()"
   ]
  },
  {
   "cell_type": "code",
   "execution_count": null,
   "metadata": {},
   "outputs": [],
   "source": [
    "m = m.insert(\"jens\")\n",
    "m.toDot()"
   ]
  },
  {
   "cell_type": "code",
   "execution_count": null,
   "metadata": {},
   "outputs": [],
   "source": [
    "m = m.insert(\"hubert\")\n",
    "m.toDot()"
   ]
  },
  {
   "cell_type": "code",
   "execution_count": null,
   "metadata": {},
   "outputs": [],
   "source": [
    "m = m.insert(\"andre\")\n",
    "m.toDot()"
   ]
  },
  {
   "cell_type": "code",
   "execution_count": null,
   "metadata": {},
   "outputs": [],
   "source": [
    "m = m.insert(\"philipp\")\n",
    "m.toDot()"
   ]
  },
  {
   "cell_type": "code",
   "execution_count": null,
   "metadata": {},
   "outputs": [],
   "source": [
    "m = m.insert(\"rene\")\n",
    "m.toDot()"
   ]
  },
  {
   "cell_type": "code",
   "execution_count": null,
   "metadata": {},
   "outputs": [],
   "source": [
    "m = m.insert(\"walter\")\n",
    "m.toDot()"
   ]
  },
  {
   "cell_type": "markdown",
   "metadata": {},
   "source": [
    "Let's generate 2-3 tree with random keys."
   ]
  },
  {
   "cell_type": "code",
   "execution_count": null,
   "metadata": {},
   "outputs": [],
   "source": [
    "import random as rnd"
   ]
  },
  {
   "cell_type": "code",
   "execution_count": null,
   "metadata": {},
   "outputs": [],
   "source": [
    "t = Nil()\n",
    "for k in range(30):\n",
    "    k = rnd.randrange(100)\n",
    "    t = t.insert(k)\n",
    "t.toDot()"
   ]
  },
  {
   "cell_type": "markdown",
   "metadata": {},
   "source": [
    "Lets us try to create a tree by inserting sorted numbers because that resulted in linear complexity for ordered binary trees."
   ]
  },
  {
   "cell_type": "code",
   "execution_count": null,
   "metadata": {
    "scrolled": true
   },
   "outputs": [],
   "source": [
    "M = Nil()\n",
    "for k in range(38):\n",
    "    M = M.insert(k)\n",
    "M.toDot()"
   ]
  },
  {
   "cell_type": "markdown",
   "metadata": {},
   "source": [
    "Finally, we compute the set of prime numbers $\\leq 100$.  Mathematically, this set is given as follows:\n",
    "$$ \\bigl\\{2, \\cdots, 100 \\bigr\\} - \\bigl\\{ i \\cdot j \\bigm| i, j \\in \\{2, \\cdots, 100 \\}\\bigr\\}$$\n",
    "First, we compute the set of products $\\bigl\\{ i \\cdot j \\bigm| i, j \\in \\{2, \\cdots, 100 \\}\\bigr\\}$.\n",
    "Then, we insert all naturals numbers less than 100 that are not products into the set of primes."
   ]
  },
  {
   "cell_type": "code",
   "execution_count": null,
   "metadata": {},
   "outputs": [],
   "source": [
    "Products = Nil()    \n",
    "for i in range(2, 51):\n",
    "    for j in range(i, 100 // i + 1):\n",
    "        Products = Products.insert(i * j)\n",
    "        \n",
    "Primes = Nil()\n",
    "for k in range(2, 101):\n",
    "    if not Products.member(k):\n",
    "        Primes = Primes.insert(k)\n",
    "Primes.toDot()"
   ]
  },
  {
   "cell_type": "code",
   "execution_count": null,
   "metadata": {},
   "outputs": [],
   "source": []
  }
 ],
 "metadata": {
  "kernelspec": {
   "display_name": "Python 3",
   "language": "python",
   "name": "python3"
  },
  "language_info": {
   "codemirror_mode": {
    "name": "ipython",
    "version": 3
   },
   "file_extension": ".py",
   "mimetype": "text/x-python",
   "name": "python",
   "nbconvert_exporter": "python",
   "pygments_lexer": "ipython3",
   "version": "3.7.6"
  },
  "toc": {
   "base_numbering": 1,
   "nav_menu": {},
   "number_sections": true,
   "sideBar": true,
   "skip_h1_title": false,
   "title_cell": "Table of Contents",
   "title_sidebar": "Contents",
   "toc_cell": false,
   "toc_position": {},
   "toc_section_display": true,
   "toc_window_display": false
  },
  "varInspector": {
   "cols": {
    "lenName": 16,
    "lenType": 16,
    "lenVar": 40
   },
   "kernels_config": {
    "python": {
     "delete_cmd_postfix": "",
     "delete_cmd_prefix": "del ",
     "library": "var_list.py",
     "varRefreshCmd": "print(var_dic_list())"
    },
    "r": {
     "delete_cmd_postfix": ") ",
     "delete_cmd_prefix": "rm(",
     "library": "var_list.r",
     "varRefreshCmd": "cat(var_dic_list()) "
    }
   },
   "types_to_exclude": [
    "module",
    "function",
    "builtin_function_or_method",
    "instance",
    "_Feature"
   ],
   "window_display": false
  }
 },
 "nbformat": 4,
 "nbformat_minor": 2
}
