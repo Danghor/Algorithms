{
 "cells": [
  {
   "cell_type": "markdown",
   "metadata": {},
   "source": [
    "A Jupyter notebook consists of two different types of cells:\n",
    "- *Code cells* contain Python code, while\n",
    "- *Markdown cells* are used to write comments.  \n",
    "\n",
    "The current cell is a *markdown cell*, the next cell is a *code cell*.\n",
    "This code cell is only needed to format this notebook."
   ]
  },
  {
   "cell_type": "code",
   "execution_count": 1,
   "metadata": {},
   "outputs": [
    {
     "data": {
      "text/html": [
       "<link href='http://fonts.googleapis.com/css?family=Alegreya+Sans:100,300,400,500,700,800,900,100italic,300italic,400italic,500italic,700italic,800italic,900italic' rel='stylesheet' type='text/css'>\n",
       "<link href='http://fonts.googleapis.com/css?family=Arvo:400,700,400italic' rel='stylesheet' type='text/css'>\n",
       "<link href='http://fonts.googleapis.com/css?family=PT+Mono' rel='stylesheet' type='text/css'>\n",
       "<link href='http://fonts.googleapis.com/css?family=Shadows+Into+Light' rel='stylesheet' type='text/css'>\n",
       "<link href='http://fonts.googleapis.com/css?family=Philosopher:400,700,400italic,700italic' rel='stylesheet' type='text/css'>\n",
       "\n",
       "<style>\n",
       "\n",
       "@font-face {\n",
       "    font-family: \"Computer Modern\";\n",
       "    src: url('http://mirrors.ctan.org/fonts/cm-unicode/fonts/otf/cmunss.otf');\n",
       "}\n",
       "\n",
       ".container { width: 100% }\n",
       "\n",
       "/* Formatting for header cells */\n",
       ".text_cell_render h1 {\n",
       "    font-family: 'Philosopher', sans-serif;\n",
       "    font-weight: 400;\n",
       "    font-size: 2.2em;\n",
       "    line-height: 100%;\n",
       "    color: rgb(0, 80, 120);\n",
       "    margin-bottom: 0.1em;\n",
       "    margin-top: 0.1em;\n",
       "    display: block;\n",
       "}\t\n",
       ".text_cell_render h2 {\n",
       "    font-family: 'Philosopher', serif;\n",
       "    font-weight: 400;\n",
       "    font-size: 1.9em;\n",
       "    line-height: 100%;\n",
       "    color: rgb(200,100,0);\n",
       "    margin-bottom: 0.1em;\n",
       "    margin-top: 0.1em;\n",
       "    display: block;\n",
       "}\t\n",
       "\n",
       ".text_cell_render h3 {\n",
       "    font-family: 'Philosopher', serif;\n",
       "    margin-top:12px;\n",
       "    margin-bottom: 3px;\n",
       "    font-style: italic;\n",
       "    color: rgb(94,127,192);\n",
       "}\n",
       "\n",
       ".text_cell_render h4 {\n",
       "    font-family: 'Philosopher', serif;\n",
       "}\n",
       "\n",
       ".text_cell_render h5 {\n",
       "    font-family: 'Alegreya Sans', sans-serif;\n",
       "    font-weight: 300;\n",
       "    font-size: 16pt;\n",
       "    color: grey;\n",
       "    font-style: italic;\n",
       "    margin-bottom: .1em;\n",
       "    margin-top: 0.1em;\n",
       "    display: block;\n",
       "}\n",
       "\n",
       ".text_cell_render h6 {\n",
       "    font-family: 'PT Mono', sans-serif;\n",
       "    font-weight: 300;\n",
       "    font-size: 10pt;\n",
       "    color: grey;\n",
       "    margin-bottom: 1px;\n",
       "    margin-top: 1px;\n",
       "}\n",
       "\n",
       ".text_cell_render em {\n",
       "    font-family: 'Philosopher', sans-serif;\n",
       "    color:        blue;\n",
       "    background-color: rgb(255,220,180);\n",
       "    font-size:    110%;\n",
       "    margin-left:   2px;\n",
       "    margin-right:  2px;\n",
       "    font-weight:   100;\n",
       "}\n",
       "\n",
       ".text_cell_render b {\n",
       "    color:            rgb(255,195,195);\n",
       "    background-color: rgb(0,0,0);\n",
       "    font-size:    110%;\n",
       "    margin-left:   2px;\n",
       "    margin-right:  2px;\n",
       "    font-weight:   650;\n",
       "}\n",
       "\n",
       ".text_cell_render tt {\n",
       "    font-size:    120%;\n",
       "    margin-left:   2px;\n",
       "    margin-right:  2px;\n",
       "    font-weight:   150;\n",
       "}\n",
       "\n",
       ".Codemirror {\n",
       "    font-family: \"PT Mono\";\n",
       "    font-size: 100%;\n",
       "}\n",
       "\n",
       "</style>\n",
       "\n"
      ],
      "text/plain": [
       "<IPython.core.display.HTML object>"
      ]
     },
     "execution_count": 1,
     "metadata": {},
     "output_type": "execute_result"
    }
   ],
   "source": [
    "from IPython.core.display import HTML\n",
    "with open('../style.css', 'r') as file:\n",
    "    css = file.read()\n",
    "HTML(css)"
   ]
  },
  {
   "cell_type": "markdown",
   "metadata": {},
   "source": [
    "# An Introduction to *Python*\n",
    "\n",
    "Let us begin by checking the version of our Python interpreter.\n",
    "The package `sys` contains the variable `version` that stores this information."
   ]
  },
  {
   "cell_type": "code",
   "execution_count": 2,
   "metadata": {},
   "outputs": [
    {
     "data": {
      "text/plain": [
       "'3.10.4 (main, Mar 31 2022, 03:38:35) [Clang 12.0.0 ]'"
      ]
     },
     "execution_count": 2,
     "metadata": {},
     "output_type": "execute_result"
    }
   ],
   "source": [
    "import sys\n",
    "sys.version"
   ]
  },
  {
   "cell_type": "markdown",
   "metadata": {},
   "source": [
    "This notebook gives a short introduction to *Python*.  We will just present the basics.\n",
    "More interesting features will be presented later."
   ]
  },
  {
   "cell_type": "markdown",
   "metadata": {},
   "source": [
    "## Evaluating expressions\n",
    "\n",
    "As Python is an interactive language, expressions can be evaluated directly.  In a *Jupyter* \n",
    "notebook we just have to type <tt>Ctrl-Enter</tt> in the cell containing the expression.  Instead\n",
    "of <tt>Ctrl-Enter</tt> we can also use <tt>Shift-Enter</tt>."
   ]
  },
  {
   "cell_type": "code",
   "execution_count": 3,
   "metadata": {},
   "outputs": [
    {
     "data": {
      "text/plain": [
       "3"
      ]
     },
     "execution_count": 3,
     "metadata": {},
     "output_type": "execute_result"
    }
   ],
   "source": [
    "1 + 2"
   ]
  },
  {
   "cell_type": "markdown",
   "metadata": {},
   "source": [
    "In *Python*, the precision of integers is not bounded.  Hence, the following expression does **not** cause\n",
    "an <a href=\"https://en.wikipedia.org/wiki/Integer_overflow\">integer overflow</a>."
   ]
  },
  {
   "cell_type": "code",
   "execution_count": 4,
   "metadata": {},
   "outputs": [
    {
     "data": {
      "text/plain": [
       "1124000727777607680000"
      ]
     },
     "execution_count": 4,
     "metadata": {},
     "output_type": "execute_result"
    }
   ],
   "source": [
    "1 * 2 * 3 * 4 * 5 * 6 * 7 * 8 * 9 * 10 * 11 * 12 * 13 * 14 * 15 * 16 * 17 * 18 * 19 * 20 * 21 * 22"
   ]
  },
  {
   "cell_type": "markdown",
   "metadata": {},
   "source": [
    "Here is another example that show that *Python* is able to compute with huge numbers.  \n",
    "In this example, the operator `**` is used for exponentiation, i.e. the expression\n",
    "```\n",
    "    7 ** 125\n",
    "```\n",
    "is interpreted as $7^{125}$."
   ]
  },
  {
   "cell_type": "code",
   "execution_count": 7,
   "metadata": {
    "scrolled": true
   },
   "outputs": [
    {
     "data": {
      "text/plain": [
       "4337654948097993282537354757263188251697832994620405101744893017744569432720994168089672192211758909320807"
      ]
     },
     "execution_count": 7,
     "metadata": {},
     "output_type": "execute_result"
    }
   ],
   "source": [
    "7 ** 125"
   ]
  },
  {
   "cell_type": "markdown",
   "metadata": {},
   "source": [
    "In order to print numbers or strings, we can use the function `print`.  This function can print objects of any type.  In the following example, this function prints a *string*.  In *Python* any character sequence \n",
    "enclosed in single quotes is interpreted as a *string*."
   ]
  },
  {
   "cell_type": "code",
   "execution_count": 8,
   "metadata": {},
   "outputs": [
    {
     "name": "stdout",
     "output_type": "stream",
     "text": [
      "Hello, World!\n"
     ]
    }
   ],
   "source": [
    "print('Hello, World!')"
   ]
  },
  {
   "cell_type": "markdown",
   "metadata": {},
   "source": [
    "The last expression in every notebook cell is automatically printed.  Therefore, printing `'Hello, World!'` can also be done by just executing the following cell."
   ]
  },
  {
   "cell_type": "code",
   "execution_count": 9,
   "metadata": {},
   "outputs": [
    {
     "data": {
      "text/plain": [
       "'Hello, World!'"
      ]
     },
     "execution_count": 9,
     "metadata": {},
     "output_type": "execute_result"
    }
   ],
   "source": [
    "'Hello, World!'"
   ]
  },
  {
   "cell_type": "markdown",
   "metadata": {},
   "source": [
    "If we want to supress the last expression from being printed, we can end the expression with a semicolon:"
   ]
  },
  {
   "cell_type": "code",
   "execution_count": 10,
   "metadata": {},
   "outputs": [],
   "source": [
    "'Hello, World!';"
   ]
  },
  {
   "cell_type": "markdown",
   "metadata": {},
   "source": [
    "Instead of using single quotes we can also use double quotes as seen in the next example.  However, the convention is to use single quotes, unless the string itself contains a single quote."
   ]
  },
  {
   "cell_type": "code",
   "execution_count": 11,
   "metadata": {},
   "outputs": [
    {
     "data": {
      "text/plain": [
       "'Hello, World!'"
      ]
     },
     "execution_count": 11,
     "metadata": {},
     "output_type": "execute_result"
    }
   ],
   "source": [
    "\"Hello, World!\""
   ]
  },
  {
   "cell_type": "code",
   "execution_count": 12,
   "metadata": {},
   "outputs": [
    {
     "data": {
      "text/plain": [
       "\"This can't be the case!\""
      ]
     },
     "execution_count": 12,
     "metadata": {},
     "output_type": "execute_result"
    }
   ],
   "source": [
    "\"This can't be the case!\""
   ]
  },
  {
   "cell_type": "markdown",
   "metadata": {},
   "source": [
    "The function <tt>print</tt> accepts any number of arguments.  For example, to print the string \"36 * 37 / 2 = \" followed by the value of the expression $36 \\cdot 37 / 2$ we can use the following <tt>print</tt> statement:"
   ]
  },
  {
   "cell_type": "code",
   "execution_count": 13,
   "metadata": {},
   "outputs": [
    {
     "name": "stdout",
     "output_type": "stream",
     "text": [
      "36 * 37 / 2 = 666\n"
     ]
    }
   ],
   "source": [
    "print('36 * 37 / 2 =', 36 * 37 // 2)"
   ]
  },
  {
   "cell_type": "code",
   "execution_count": 16,
   "metadata": {},
   "outputs": [
    {
     "data": {
      "text/plain": [
       "int"
      ]
     },
     "execution_count": 16,
     "metadata": {},
     "output_type": "execute_result"
    }
   ],
   "source": [
    "type(666)"
   ]
  },
  {
   "cell_type": "markdown",
   "metadata": {},
   "source": [
    "In the expression \"<tt>36 \\* 37 // 2</tt>\" we have used the operator \"<tt>//</tt>\" in order to enforce *integer division*, which is also known as *Euclidean division*.  If we had used the operator \"<tt>/</tt>\" instead, *Python* would have used *floating point division* and therefore it would have printed the floating point number <tt>666.0</tt> instead of the integer <tt>666<tt>. "
   ]
  },
  {
   "cell_type": "code",
   "execution_count": 17,
   "metadata": {},
   "outputs": [
    {
     "data": {
      "text/plain": [
       "float"
      ]
     },
     "execution_count": 17,
     "metadata": {},
     "output_type": "execute_result"
    }
   ],
   "source": [
    "type(666.0)"
   ]
  },
  {
   "cell_type": "code",
   "execution_count": 14,
   "metadata": {},
   "outputs": [
    {
     "name": "stdout",
     "output_type": "stream",
     "text": [
      "36 * 37 / 2 = 666.0\n"
     ]
    }
   ],
   "source": [
    "print('36 * 37 / 2 =', 36 * 37 / 2)"
   ]
  },
  {
   "cell_type": "markdown",
   "metadata": {},
   "source": [
    "The next cell demonstrates [Euclidean division](https://en.wikipedia.org/wiki/Euclidean_division)."
   ]
  },
  {
   "cell_type": "code",
   "execution_count": 18,
   "metadata": {},
   "outputs": [
    {
     "data": {
      "text/plain": [
       "2"
      ]
     },
     "execution_count": 18,
     "metadata": {},
     "output_type": "execute_result"
    }
   ],
   "source": [
    "7 // 3"
   ]
  },
  {
   "cell_type": "markdown",
   "metadata": {},
   "source": [
    "The *remainder* that is left in an integer division is computed with the operator `%`. "
   ]
  },
  {
   "cell_type": "code",
   "execution_count": 19,
   "metadata": {},
   "outputs": [
    {
     "data": {
      "text/plain": [
       "1"
      ]
     },
     "execution_count": 19,
     "metadata": {},
     "output_type": "execute_result"
    }
   ],
   "source": [
    "7 % 3"
   ]
  },
  {
   "cell_type": "markdown",
   "metadata": {},
   "source": [
    "The result of a computation can be stored in a *variable*.  For example, to store the quotient resulting from dividing $7$ by $3$ into the variable with name `q` and to store the remainder into a variable with name `r` we can write:"
   ]
  },
  {
   "cell_type": "code",
   "execution_count": 20,
   "metadata": {},
   "outputs": [],
   "source": [
    "q = 7 // 3\n",
    "r = 7 % 3"
   ]
  },
  {
   "cell_type": "markdown",
   "metadata": {},
   "source": [
    "Now `q` and `r` contain the quotient and the remainder of the integer division of `7` by `3`as can be seen below:"
   ]
  },
  {
   "cell_type": "code",
   "execution_count": 21,
   "metadata": {},
   "outputs": [
    {
     "data": {
      "text/plain": [
       "2"
      ]
     },
     "execution_count": 21,
     "metadata": {},
     "output_type": "execute_result"
    }
   ],
   "source": [
    "q"
   ]
  },
  {
   "cell_type": "code",
   "execution_count": 22,
   "metadata": {},
   "outputs": [
    {
     "data": {
      "text/plain": [
       "1"
      ]
     },
     "execution_count": 22,
     "metadata": {},
     "output_type": "execute_result"
    }
   ],
   "source": [
    "r"
   ]
  },
  {
   "cell_type": "markdown",
   "metadata": {},
   "source": [
    "## Lists\n",
    "\n",
    "In order to present more interesting examples we next show how *Python* supports *lists*.  A list is created using the square brackets \n",
    "`[` and `]`.  For example, the empty list, that is the list containing no elements, is written as `[]`."
   ]
  },
  {
   "cell_type": "code",
   "execution_count": 23,
   "metadata": {},
   "outputs": [
    {
     "data": {
      "text/plain": [
       "[]"
      ]
     },
     "execution_count": 23,
     "metadata": {},
     "output_type": "execute_result"
    }
   ],
   "source": [
    "[]"
   ]
  },
  {
   "cell_type": "markdown",
   "metadata": {},
   "source": [
    "The list containing the elements `1`, `2`, and `3` is written by seperating the elements with a `,` as shown below:"
   ]
  },
  {
   "cell_type": "code",
   "execution_count": 24,
   "metadata": {},
   "outputs": [
    {
     "data": {
      "text/plain": [
       "[1, 2, 3]"
      ]
     },
     "execution_count": 24,
     "metadata": {},
     "output_type": "execute_result"
    }
   ],
   "source": [
    "[1, 2, 3]"
   ]
  },
  {
   "cell_type": "markdown",
   "metadata": {},
   "source": [
    "The spaces that I have used in the previous example are optional but recommended."
   ]
  },
  {
   "cell_type": "markdown",
   "metadata": {},
   "source": [
    "There are a number of predefined functions that take lists as arguments.  For example, the function `sum` takes a list of numbers and adds these numbers."
   ]
  },
  {
   "cell_type": "code",
   "execution_count": 25,
   "metadata": {},
   "outputs": [
    {
     "data": {
      "text/plain": [
       "6"
      ]
     },
     "execution_count": 25,
     "metadata": {},
     "output_type": "execute_result"
    }
   ],
   "source": [
    "sum([1, 2, 3])"
   ]
  },
  {
   "cell_type": "markdown",
   "metadata": {},
   "source": [
    "To create a list containing all numbers starting from a given number $a$ up to but excluding the number $b$ we can use *list comprehension* together with the function `range`.  For example, the list of the first 10 positive natural numbers can be written as:"
   ]
  },
  {
   "cell_type": "code",
   "execution_count": 26,
   "metadata": {},
   "outputs": [
    {
     "data": {
      "text/plain": [
       "range(1, 11)"
      ]
     },
     "execution_count": 26,
     "metadata": {},
     "output_type": "execute_result"
    }
   ],
   "source": [
    "range(1, 10+1)"
   ]
  },
  {
   "cell_type": "code",
   "execution_count": 27,
   "metadata": {},
   "outputs": [
    {
     "data": {
      "text/plain": [
       "[1, 2, 3, 4, 5, 6, 7, 8, 9, 10]"
      ]
     },
     "execution_count": 27,
     "metadata": {},
     "output_type": "execute_result"
    }
   ],
   "source": [
    "L = [n for n in range(1, 10+1)]\n",
    "L"
   ]
  },
  {
   "cell_type": "markdown",
   "metadata": {},
   "source": [
    "The function call `range(a, b)` takes two integers `a` and `b` and returns the sequence of numbers from `a` upto `b-1`."
   ]
  },
  {
   "cell_type": "markdown",
   "metadata": {},
   "source": [
    "The general syntax for a list comprehension expression is\n",
    "$$ [x \\quad \\texttt{for}\\; x \\;\\texttt{in}\\; e]$$\n",
    "where `for` and `in` are keywords, $x$ is a variable used for iterating while $e$ is an expression that evaluates to a so called *iterable*.  For example, a list is an *iterable* because we can *iterate* over its elements."
   ]
  },
  {
   "cell_type": "markdown",
   "metadata": {},
   "source": [
    "We can also combine *list selection* with *list comprehension*.  This is done by using the keyword `if` followed by an expression that evaluates as either `True` of `False` for all elements that are generated by the comprehension expression.  For example, the following expression computes the list of all positive even numbers less or equal than $10$."
   ]
  },
  {
   "cell_type": "code",
   "execution_count": 28,
   "metadata": {},
   "outputs": [
    {
     "data": {
      "text/plain": [
       "[2, 4, 6, 8, 10]"
      ]
     },
     "execution_count": 28,
     "metadata": {},
     "output_type": "execute_result"
    }
   ],
   "source": [
    "E = [n for n in L if n % 2 == 0]\n",
    "E"
   ]
  },
  {
   "cell_type": "markdown",
   "metadata": {},
   "source": [
    "Here, the expression `n % 2 == 0` tests whether the remainder that is left when `n` is divided by `2` is equal to `0`.\n",
    "Note that we have to use the operator `==` to compare to numbers for equality, since the string `=` is used as the *assignment operator* in *Python*."
   ]
  },
  {
   "cell_type": "code",
   "execution_count": 29,
   "metadata": {},
   "outputs": [
    {
     "data": {
      "text/plain": [
       "[1, 4, 9, 16, 25, 36, 49, 64, 81, 100]"
      ]
     },
     "execution_count": 29,
     "metadata": {},
     "output_type": "execute_result"
    }
   ],
   "source": [
    "[n*n for n in L]"
   ]
  },
  {
   "cell_type": "markdown",
   "metadata": {},
   "source": [
    "The *index operator* $[\\cdot]$ is a postfix operator that is used to return the element that is stored at \n",
    "a given *index* in a list.  For example, If `L` is a list, then `L[0]` returns the first element of `L`.  (Yes, indexing is zero-based in *Python*, so the first element has index `0`.)"
   ]
  },
  {
   "cell_type": "code",
   "execution_count": 30,
   "metadata": {},
   "outputs": [
    {
     "data": {
      "text/plain": [
       "[1, 2, 3, 4, 5, 6, 7, 8, 9, 10]"
      ]
     },
     "execution_count": 30,
     "metadata": {},
     "output_type": "execute_result"
    }
   ],
   "source": [
    "L"
   ]
  },
  {
   "cell_type": "code",
   "execution_count": 31,
   "metadata": {},
   "outputs": [
    {
     "data": {
      "text/plain": [
       "1"
      ]
     },
     "execution_count": 31,
     "metadata": {},
     "output_type": "execute_result"
    }
   ],
   "source": [
    "L[0]"
   ]
  },
  {
   "cell_type": "markdown",
   "metadata": {},
   "source": [
    "To change the first element of a list, we can use the *index operator* on the left hand side of an *assignment*:"
   ]
  },
  {
   "cell_type": "code",
   "execution_count": 32,
   "metadata": {},
   "outputs": [
    {
     "data": {
      "text/plain": [
       "[7, 2, 3, 4, 5, 6, 7, 8, 9, 10]"
      ]
     },
     "execution_count": 32,
     "metadata": {},
     "output_type": "execute_result"
    }
   ],
   "source": [
    "L[0] = 7\n",
    "L"
   ]
  },
  {
   "cell_type": "markdown",
   "metadata": {},
   "source": [
    "Lists can be *concatenated*  with the operator `+`: "
   ]
  },
  {
   "cell_type": "code",
   "execution_count": 33,
   "metadata": {},
   "outputs": [
    {
     "data": {
      "text/plain": [
       "[1, 2, 3, 4, 5, 6]"
      ]
     },
     "execution_count": 33,
     "metadata": {},
     "output_type": "execute_result"
    }
   ],
   "source": [
    "[1,2,3] + [4,5,6]"
   ]
  },
  {
   "cell_type": "markdown",
   "metadata": {},
   "source": [
    "The function `len` computes the *length* of a list.  The length of a list $L$ is defined as the number of elements of $L$:"
   ]
  },
  {
   "cell_type": "code",
   "execution_count": 34,
   "metadata": {},
   "outputs": [
    {
     "data": {
      "text/plain": [
       "3"
      ]
     },
     "execution_count": 34,
     "metadata": {},
     "output_type": "execute_result"
    }
   ],
   "source": [
    "len([4, 5, 4])"
   ]
  },
  {
   "cell_type": "markdown",
   "metadata": {},
   "source": [
    "Lists support the functions <tt>max</tt> and <tt>min</tt>.  The expression $\\texttt{max}(L)$ computes the maximum of all the elements of the list (or tuple) $L$, while $\\texttt{min}(L)$ computes the smallest element of $L$.  These functions also operate on tuples or sets.  "
   ]
  },
  {
   "cell_type": "code",
   "execution_count": 35,
   "metadata": {},
   "outputs": [
    {
     "data": {
      "text/plain": [
       "3"
      ]
     },
     "execution_count": 35,
     "metadata": {},
     "output_type": "execute_result"
    }
   ],
   "source": [
    "max([1, 2, 3])"
   ]
  },
  {
   "cell_type": "code",
   "execution_count": 36,
   "metadata": {},
   "outputs": [
    {
     "data": {
      "text/plain": [
       "1"
      ]
     },
     "execution_count": 36,
     "metadata": {},
     "output_type": "execute_result"
    }
   ],
   "source": [
    "min([1, 2, 3])"
   ]
  },
  {
   "cell_type": "code",
   "execution_count": 37,
   "metadata": {},
   "outputs": [],
   "source": [
    "T = (1, 2, 3)"
   ]
  },
  {
   "cell_type": "code",
   "execution_count": 38,
   "metadata": {},
   "outputs": [
    {
     "data": {
      "text/plain": [
       "1"
      ]
     },
     "execution_count": 38,
     "metadata": {},
     "output_type": "execute_result"
    }
   ],
   "source": [
    "T[0]"
   ]
  },
  {
   "cell_type": "code",
   "execution_count": 39,
   "metadata": {},
   "outputs": [
    {
     "ename": "TypeError",
     "evalue": "'tuple' object does not support item assignment",
     "output_type": "error",
     "traceback": [
      "\u001b[0;31m---------------------------------------------------------------------------\u001b[0m",
      "\u001b[0;31mTypeError\u001b[0m                                 Traceback (most recent call last)",
      "Input \u001b[0;32mIn [39]\u001b[0m, in \u001b[0;36m<cell line: 1>\u001b[0;34m()\u001b[0m\n\u001b[0;32m----> 1\u001b[0m T[\u001b[38;5;241m0\u001b[39m] \u001b[38;5;241m=\u001b[39m \u001b[38;5;241m7\u001b[39m\n",
      "\u001b[0;31mTypeError\u001b[0m: 'tuple' object does not support item assignment"
     ]
    }
   ],
   "source": [
    "T[0] = 7"
   ]
  },
  {
   "cell_type": "markdown",
   "metadata": {},
   "source": [
    "## Scripts and Functions\n",
    "\n",
    "Next, we show how it is possible to combine multiple expressions in a *script* and how to create *user defined functions*."
   ]
  },
  {
   "cell_type": "markdown",
   "metadata": {},
   "source": [
    "To begin with we present a script that asks the user to input a natural number $n$ and then proceeds to compute the sum of all natural numbers from $1$ upto and including $n$, that is it computes the sum\n",
    "$$ \\sum\\limits_{i=1}^n i = 1 + 2 + 3 + \\cdots + (n-2) + (n-1) + n. $$\n",
    "The script contained in the cell below works as follows:\n",
    " * The function <tt>input</tt> prompts the user to enter a string.\n",
    " * This string is then converted into an integer using the function <tt>int</tt>.\n",
    " * Next, the list `L` is created such that \n",
    "   $$\\texttt{L} = [1, 2, 3,\\cdots, (n-2), (n-1), n]. $$  \n",
    " * The `print` statement uses the function `sum` to compute the sum of\n",
    "   all the elements of the List `L`.  The effect of the last argument `sep=''`\n",
    "   is to prevent `print` from separating its arguments by spaces."
   ]
  },
  {
   "cell_type": "code",
   "execution_count": 40,
   "metadata": {},
   "outputs": [
    {
     "name": "stdout",
     "output_type": "stream",
     "text": [
      "Type a natural number and press return: 36\n",
      "The sum 1 + 2 + ... + 36 is equal to 666.\n"
     ]
    }
   ],
   "source": [
    "n = input('Type a natural number and press return: ')\n",
    "n = int(n)\n",
    "L = [i for i in range(1, n+1)]\n",
    "print('The sum 1 + 2 + ... + ', n, ' is equal to ', sum(L), '.', sep='')"
   ]
  },
  {
   "cell_type": "markdown",
   "metadata": {},
   "source": [
    "If we input the number $36$, which happens to be equal to $6^2$, then we discover the following remarkable identity:\n",
    "$$ \\sum\\limits_{i=1}^{6^2} i = 666. $$"
   ]
  },
  {
   "cell_type": "markdown",
   "metadata": {},
   "source": [
    "The next example shows how *functions* can be defined in *Python*.  The function $\\texttt{sum}(n)$ is supposed \n",
    "to compute the sum of all the numbers in the set $\\{1, \\cdots, n\\}$.  Therefore, we have\n",
    "$$\\texttt{sum}(n) = \\sum\\limits_{i=1}^n i. $$  \n",
    "The function `sum` is defined *recursively*.  The recursive implementation of the function `sum` can best by understood if we observe that it satisfies the following two equations:\n",
    " * $\\texttt{sum}(0) = 0$, \n",
    " * $\\texttt{sum}(n) = \\texttt{sum}(n-1) + n \\quad$  provided that $n > 0$.\n",
    "\n",
    "The keyword `def` is used to signal that we define a function."
   ]
  },
  {
   "cell_type": "code",
   "execution_count": 3,
   "metadata": {},
   "outputs": [],
   "source": [
    "def sum(n):\n",
    "    if n == 0:\n",
    "        return 0\n",
    "    return sum(n-1) + n"
   ]
  },
  {
   "cell_type": "markdown",
   "metadata": {},
   "source": [
    "Lets test this function."
   ]
  },
  {
   "cell_type": "code",
   "execution_count": 4,
   "metadata": {},
   "outputs": [
    {
     "data": {
      "text/plain": [
       "55"
      ]
     },
     "execution_count": 4,
     "metadata": {},
     "output_type": "execute_result"
    }
   ],
   "source": [
    "sum(10)"
   ]
  },
  {
   "cell_type": "markdown",
   "metadata": {},
   "source": [
    "Let us discuss the implementation of the function `sum` line by line:\n",
    "  1. The keyword `def` starts the definition of the function. \n",
    "     It is followed by the name of the function that is defined.  The name is followed by the list of the parameters of the \n",
    "     function.  This list is enclosed in parentheses. If there had been more than one parameter, the parameters would have \n",
    "     been separated by commas.  Finally, there needs to be a colon at the end of the first line.\n",
    "  2. The body of the function is *indented*.  **Contrary** to most other programming languages, \n",
    "     <u>Python is space sensitive</u>. \n",
    "     The first statement of the body is a *conditional statement*, which starts with the keyword\n",
    "     `if`.  The keyword is followed by a test.  In this case we test whether the variable $n$ \n",
    "     is equal to the number $0$.  Note that this test is followed by a colon `:`.\n",
    "  3. The next line contains a `return` statement.  Note that this statement is again indented.\n",
    "     All statements indented by the same amount that follow an `if`-statement are considered as\n",
    "     the *body* of the `if`-statement.  In this case the body contains only a single statement.\n",
    "  4. The last line of the function definition contains the recursive invocation of the function `sum`\n",
    "     that computes the value `sum(n)` by reducing it to the value `sum(n-1)`.\n",
    "\n",
    "Using the function `sum`, we can compute the sum $\\sum\\limits_{i=1}^n i$ as follows:"
   ]
  },
  {
   "cell_type": "code",
   "execution_count": null,
   "metadata": {},
   "outputs": [],
   "source": [
    "n     = int(input(\"Enter a natural number: \"))\n",
    "total = sum(n)\n",
    "if n > 2:\n",
    "    print(\"0 + 1 + 2 + ... + \", n, \" = \", total, sep='')\n",
    "else: \n",
    "    print(total)"
   ]
  },
  {
   "cell_type": "markdown",
   "metadata": {},
   "source": [
    "## Boolean Values and Boolean Operators"
   ]
  },
  {
   "cell_type": "markdown",
   "metadata": {},
   "source": [
    "In *Python*, the *truth values*, also known as *Boolean values*, are written as <tt>True</tt> and <tt>False</tt>. "
   ]
  },
  {
   "cell_type": "code",
   "execution_count": 45,
   "metadata": {},
   "outputs": [
    {
     "data": {
      "text/plain": [
       "True"
      ]
     },
     "execution_count": 45,
     "metadata": {},
     "output_type": "execute_result"
    }
   ],
   "source": [
    "True"
   ]
  },
  {
   "cell_type": "code",
   "execution_count": 46,
   "metadata": {},
   "outputs": [
    {
     "data": {
      "text/plain": [
       "False"
      ]
     },
     "execution_count": 46,
     "metadata": {},
     "output_type": "execute_result"
    }
   ],
   "source": [
    "False"
   ]
  },
  {
   "cell_type": "markdown",
   "metadata": {},
   "source": [
    "The following function is needed for pretty-printing.  It assumes that the argument <tt>val</tt> is a truth value.  This truth value is then turned into a string that has a size of exactly 5 characters."
   ]
  },
  {
   "cell_type": "code",
   "execution_count": 47,
   "metadata": {},
   "outputs": [],
   "source": [
    "def toStr(val):\n",
    "    if val:\n",
    "        return 'True '\n",
    "    return 'False'"
   ]
  },
  {
   "cell_type": "markdown",
   "metadata": {},
   "source": [
    "These values can be combined using the *Boolean operators* $\\wedge$, $\\vee$, and $\\neg$.  In *Python*, these operators are denoted as `and`, `or`, and `not`.  The following table shows how the operator `and` is defined:"
   ]
  },
  {
   "cell_type": "code",
   "execution_count": 48,
   "metadata": {},
   "outputs": [
    {
     "name": "stdout",
     "output_type": "stream",
     "text": [
      "True  and True  = True\n",
      "True  and False = False\n",
      "False and True  = False\n",
      "False and False = False\n"
     ]
    }
   ],
   "source": [
    "B = [True, False]\n",
    "for x in B:\n",
    "    for y in B:\n",
    "        print(toStr(x), 'and', toStr(y), '=', x and y)"
   ]
  },
  {
   "cell_type": "markdown",
   "metadata": {},
   "source": [
    "The *disjunction* of two Boolean values is only *False* if both values are *False*.  In *Python*, the disjunction operator is written as `or`:"
   ]
  },
  {
   "cell_type": "code",
   "execution_count": 49,
   "metadata": {},
   "outputs": [
    {
     "name": "stdout",
     "output_type": "stream",
     "text": [
      "True  or True  = True\n",
      "True  or False = True\n",
      "False or True  = True\n",
      "False or False = False\n"
     ]
    }
   ],
   "source": [
    "for x in B:\n",
    "    for y in B:\n",
    "        print(toStr(x), 'or', toStr(y), '=', x or y)"
   ]
  },
  {
   "cell_type": "markdown",
   "metadata": {},
   "source": [
    "Finally, the <em style=\"color:blue;\">negation</em> operator `not` works as expected:"
   ]
  },
  {
   "cell_type": "code",
   "execution_count": null,
   "metadata": {},
   "outputs": [],
   "source": [
    "for x in B:\n",
    "    print('not', toStr(x), '=', not x)"
   ]
  },
  {
   "cell_type": "markdown",
   "metadata": {},
   "source": [
    "Boolean values are created by comparing numbers using the comparison operators\n",
    "`==`, `!=`, `<`, `>`, `<=`, and `>=`:\n",
    " * $a\\;\\texttt{==}\\;b$ is true iff $a$ is equal to $b$.\n",
    " * $a\\;\\texttt{!=}\\;b$ is true iff $a$ is different from $b$.\n",
    " * $a\\;\\texttt{<}\\;b$ is true iff $a$ is less than $b$.\n",
    " * $a\\;\\texttt{<=}\\;b$ is true iff $a$ is less than or equal to $b$.\n",
    " * $a\\;\\texttt{>=}\\;b$ is true iff $a$ is bigger than or equal to $b$.\n",
    " * $a\\;\\texttt{>}\\;b$ is true iff $a$ is bigger than $b$."
   ]
  },
  {
   "cell_type": "code",
   "execution_count": null,
   "metadata": {},
   "outputs": [],
   "source": [
    "1 == 2"
   ]
  },
  {
   "cell_type": "code",
   "execution_count": null,
   "metadata": {},
   "outputs": [],
   "source": [
    "1 != 2"
   ]
  },
  {
   "cell_type": "code",
   "execution_count": null,
   "metadata": {},
   "outputs": [],
   "source": [
    "1 < 2"
   ]
  },
  {
   "cell_type": "code",
   "execution_count": null,
   "metadata": {},
   "outputs": [],
   "source": [
    "1 <= 2"
   ]
  },
  {
   "cell_type": "code",
   "execution_count": null,
   "metadata": {},
   "outputs": [],
   "source": [
    "1 > 2"
   ]
  },
  {
   "cell_type": "code",
   "execution_count": null,
   "metadata": {},
   "outputs": [],
   "source": [
    "1 >= 2"
   ]
  },
  {
   "cell_type": "markdown",
   "metadata": {},
   "source": [
    "Comparison operators can be <em style=\"color:blue;\">chained</em> as shown in the following example:"
   ]
  },
  {
   "cell_type": "code",
   "execution_count": null,
   "metadata": {},
   "outputs": [],
   "source": [
    "1 < 2 < 3"
   ]
  },
  {
   "cell_type": "markdown",
   "metadata": {},
   "source": [
    "*Python* supports the <em style=\"color:blue;\">universal quantifier</em> $\\forall$.  If $L$ is a list of Boolean values, then we can check whether all elements of $L$ are <tt>True</tt> by writing\n",
    "$$ \\texttt{all}(L). $$\n",
    "For example, to check whether all elements of a list $L$ are even we can write the following:"
   ]
  },
  {
   "cell_type": "code",
   "execution_count": null,
   "metadata": {},
   "outputs": [],
   "source": [
    "L = [2, 4, 6, 8]\n",
    "all([x % 2 == 0 for x in L])"
   ]
  },
  {
   "cell_type": "markdown",
   "metadata": {},
   "source": [
    "*Python* also supports the <em style=\"color:blue;\">existential quantifier</em> $\\exists$.  If $L$ is a list of Boolean values, the expression\n",
    "$$ \\texttt{any}(L) $$\n",
    "is true iff there exists an element $x \\in L$ such that $x$ is true."
   ]
  },
  {
   "cell_type": "code",
   "execution_count": null,
   "metadata": {},
   "outputs": [],
   "source": [
    "L = [n for n in range(1, 9+1)]\n",
    "any([n ** 2 > 2 ** n for n in L])"
   ]
  },
  {
   "cell_type": "markdown",
   "metadata": {},
   "source": [
    "## Control Structures"
   ]
  },
  {
   "cell_type": "markdown",
   "metadata": {},
   "source": [
    "First of all, *Python* supports *branching* via the keywords `if`, `elif`, and `else`.  The following example is taken from the *Python* tutorial at [https://python.org](https://docs.python.org/3/tutorial/controlflow.html):"
   ]
  },
  {
   "cell_type": "code",
   "execution_count": null,
   "metadata": {},
   "outputs": [],
   "source": [
    "s = input(\"Please enter an integer: \")\n",
    "x = int(s)\n",
    "if x < 0:\n",
    "    print('The number is negative!')\n",
    "elif x == 0:\n",
    "    print('The number is zero.')\n",
    "elif x == 1:\n",
    "    print(\"It's a one.\")\n",
    "else:\n",
    "    print(\"It's more than one.\")"
   ]
  },
  {
   "cell_type": "markdown",
   "metadata": {},
   "source": [
    "*Loops* can be created with the keyword `for`.  They can be used to iterate over lists.    \n",
    "The syntax of a `for`-loop is:\n",
    "```\n",
    "   for x in L:\n",
    "       S1\n",
    "       ...\n",
    "       Sn\n",
    "```\n",
    "Here, `x` is the name of a variable that is used to iterate over the elements of the list `L`.  The statements\n",
    "`S1`, $\\cdots$, `Sn` make up the *body* of the loop.  These statements are executed for every element of the list `L`.\n",
    "\n",
    "The next examples shows a simple loop that prints all the elements from the list `L`:"
   ]
  },
  {
   "cell_type": "code",
   "execution_count": null,
   "metadata": {},
   "outputs": [],
   "source": [
    "for x in L:\n",
    "    print(x)"
   ]
  },
  {
   "cell_type": "markdown",
   "metadata": {},
   "source": [
    "Another way to write a *loop* is to use the keyword `while` as in the following example:"
   ]
  },
  {
   "cell_type": "code",
   "execution_count": null,
   "metadata": {},
   "outputs": [],
   "source": [
    "x = 1\n",
    "while x < 10:\n",
    "    print(x)\n",
    "    x = x + 1"
   ]
  },
  {
   "cell_type": "markdown",
   "metadata": {},
   "source": [
    "The general syntax of a `while`-loop is as follows:\n",
    "```\n",
    "    while e:\n",
    "        S1\n",
    "        ...\n",
    "        Sn\n",
    "```\n",
    "Here, `while` is the keyword starting the `while`-loop, while `e` is an expression that contains some variable `x` which is presumably updated in the statements `S1`, $\\cdots$, `Sn`.  These statements are executed as long as the expression `e` is `True`."
   ]
  },
  {
   "cell_type": "markdown",
   "metadata": {},
   "source": [
    "The following program computes the prime numbers according to an\n",
    "[algorithm given by Eratosthenes](https://en.wikipedia.org/wiki/Sieve_of_Eratosthenes).\n",
    " 1. We set $n$ equal to 100 as we want to compute the set all prime numbers less or equal that 100.\n",
    " 2. `primes` is the list of numbers from 0 upto $n$, i.e. we have initially\n",
    "    $$ \\texttt{primes} = [0,1,2,\\cdots,n] $$\n",
    "    Therefore, we have initially\n",
    "    $$ \\texttt{primes}[i] = i \\quad \\mbox{for all $i \\in \\{0,1,\\cdots,n\\}$.} $$\n",
    "    The idea is to set $\\texttt{primes}[i]$ to zero iff $i$ is a proper product of two numbers.\n",
    " 3. To this end we iterate over all $i$ and $j$ from the list $[2,\\cdots,n]$\n",
    "    and set the product $\\texttt{primes}[i\\cdot j]$ to zero.  \n",
    "    This is achieved by the two `for` loops in line 4 and line 5 below.\n",
    "\n",
    "    Note that we have to check that the product $i * j$ is not bigger than $n$ \n",
    "    for otherwise we would get an *out of range error* when trying to assign $\\texttt{primes}[i*j]$.     \n",
    "    \n",
    " 4. After the iteration, all non-prime elements greater than one of the list primes have been set to zero.\n",
    " 5. Finally, we compute the list of all prime numbers by collecting those elements from the list `primes` \n",
    "    that have not been set to $0$."
   ]
  },
  {
   "cell_type": "code",
   "execution_count": null,
   "metadata": {},
   "outputs": [],
   "source": [
    "n         = 100\n",
    "primes    = [i for i in range(0, n+1)]\n",
    "primes[1] = 0\n",
    "for i in range(2, n+1):\n",
    "    for j in range(2, n+1):\n",
    "        if i * j <= n:\n",
    "            primes[i * j] = 0\n",
    "print(primes)\n",
    "print([i for i in range(2, n+1) if primes[i] != 0])"
   ]
  },
  {
   "cell_type": "markdown",
   "metadata": {},
   "source": [
    "The algorithm given above can be improved by using the following observations:\n",
    " 1. If a number $x$ can be written as a product $a \\cdot b$, then at least one of the numbers \n",
    "    $a$ or $b$ has to be less than $\\sqrt{x}$.  Therefore, the `for` loop in line 5 below \n",
    "    iterates as long as $i \\leq \\sqrt{x}$.  The function `ceil` is needed to cast the square \n",
    "    root of $x$ to a natural number.  In order to use the functions `sqrt` and `ceil` we have \n",
    "    to import them from the module `math`.  This is done in line 1 of the program shown below. \n",
    " 2. When we iterate over $j$ in the inner loop, it is sufficient if we start with $j = i$ \n",
    "    since all products of the form $i \\cdot j$ where $j < i$ have already been eliminated at the time \n",
    "    when the multiples of $i$ had been eliminated.\n",
    " 3. If $\\texttt{primes}[i] = 0$, then $i$ is not a prime and hence it has to be a product of two \n",
    "    numbers $a$ and $b$ both of which are smaller than $i$.  However, since all the multiples of \n",
    "    $a$ and $b$ have already been eliminated, there is no point in eliminating the multiples of \n",
    "    $i$ since these are also multiples of both $a$ and $b$ and hence they have already been eliminated.    \n",
    "    Therefore, if $\\texttt{primes}[i] = 0$ we can immediately jump to the next value of $i$.  \n",
    "    This is achieved by the *continue* statement in line 8 below. \n",
    "\n",
    "The program shown below is easily capable of computing all prime numbers less than a million.\n",
    "On my desktop computer, which is a 2017 iMac with a Quad-Core Intel i5 processor, this takes less than a second."
   ]
  },
  {
   "cell_type": "code",
   "execution_count": null,
   "metadata": {
    "scrolled": true
   },
   "outputs": [],
   "source": [
    "%%time\n",
    "import math\n",
    "\n",
    "n = 1_000_000\n",
    "primes = list(range(n+1))\n",
    "for i in range(2, math.ceil(math.sqrt(n))):\n",
    "    if primes[i] == 0:\n",
    "        continue\n",
    "    j = i\n",
    "    while i * j <= n:\n",
    "        primes[i * j] = 0\n",
    "        j += 1\n",
    "P = [i for i in range(2, n+1) if primes[i] != 0]\n",
    "print(P)"
   ]
  },
  {
   "cell_type": "markdown",
   "metadata": {},
   "source": [
    "## Numerical Functions"
   ]
  },
  {
   "cell_type": "markdown",
   "metadata": {},
   "source": [
    "*Python* provides all of the mathematical functions that you have learned about at school.  A detailed listing of these functions can be found at \n",
    "[https://docs.python.org/3.6/library/math.html](https://docs.python.org/3.6/library/math.html).  We just show the most important functions and constants.  In order to make the module `math` available, we use \n",
    "the following `import` statement: "
   ]
  },
  {
   "cell_type": "code",
   "execution_count": null,
   "metadata": {},
   "outputs": [],
   "source": [
    "import math"
   ]
  },
  {
   "cell_type": "markdown",
   "metadata": {},
   "source": [
    "The mathematical constant [Pi](https://en.wikipedia.org/wiki/Pi), which in mathematics is written as $\\pi$, is available as `math.pi`."
   ]
  },
  {
   "cell_type": "code",
   "execution_count": null,
   "metadata": {},
   "outputs": [],
   "source": [
    "math.pi"
   ]
  },
  {
   "cell_type": "markdown",
   "metadata": {},
   "source": [
    "The <a href=\"https://en.wikipedia.org/wiki/Sine\">sine</a> function is called as follows:"
   ]
  },
  {
   "cell_type": "code",
   "execution_count": null,
   "metadata": {},
   "outputs": [],
   "source": [
    "math.sin(math.pi/6)"
   ]
  },
  {
   "cell_type": "markdown",
   "metadata": {},
   "source": [
    "The <a href=\"https://en.wikipedia.org/wiki/Trigonometric_functions#cosine\">cosine</a> function is called as follows:"
   ]
  },
  {
   "cell_type": "code",
   "execution_count": null,
   "metadata": {},
   "outputs": [],
   "source": [
    "math.cos(0.0)"
   ]
  },
  {
   "cell_type": "markdown",
   "metadata": {},
   "source": [
    "The tangent function is called as follows:"
   ]
  },
  {
   "cell_type": "code",
   "execution_count": null,
   "metadata": {},
   "outputs": [],
   "source": [
    "math.tan(math.pi/4)"
   ]
  },
  {
   "cell_type": "markdown",
   "metadata": {},
   "source": [
    "The *arc sine*, *arc cosine*, and *arc tangent* are called by prefixing the character `'a'` to the name of the function as seen below:"
   ]
  },
  {
   "cell_type": "code",
   "execution_count": null,
   "metadata": {},
   "outputs": [],
   "source": [
    "math.asin(1.0)"
   ]
  },
  {
   "cell_type": "code",
   "execution_count": null,
   "metadata": {},
   "outputs": [],
   "source": [
    "math.acos(1.0)"
   ]
  },
  {
   "cell_type": "code",
   "execution_count": null,
   "metadata": {},
   "outputs": [],
   "source": [
    "math.atan(1.0)"
   ]
  },
  {
   "cell_type": "markdown",
   "metadata": {},
   "source": [
    "<a href=\"https://en.wikipedia.org/wiki/E_(mathematical_constant)\">Euler's number $e$</a> is stored as the constant `math.e`:"
   ]
  },
  {
   "cell_type": "code",
   "execution_count": null,
   "metadata": {},
   "outputs": [],
   "source": [
    "math.e"
   ]
  },
  {
   "cell_type": "markdown",
   "metadata": {},
   "source": [
    "The exponential function $\\mathrm{exp}(x) := e^x$ is computed as follows:"
   ]
  },
  {
   "cell_type": "code",
   "execution_count": null,
   "metadata": {},
   "outputs": [],
   "source": [
    "math.exp(1)"
   ]
  },
  {
   "cell_type": "markdown",
   "metadata": {},
   "source": [
    "The natural logarithm $\\ln(x)$, which is defined as the inverse of the function $\\exp(x)$, is called `log` (instead of `ln`):"
   ]
  },
  {
   "cell_type": "code",
   "execution_count": null,
   "metadata": {},
   "outputs": [],
   "source": [
    "math.log(math.e * math.e)"
   ]
  },
  {
   "cell_type": "markdown",
   "metadata": {},
   "source": [
    "The square root $\\sqrt{x}$ of a number $x$ is computed using the function `sqrt`:"
   ]
  },
  {
   "cell_type": "code",
   "execution_count": null,
   "metadata": {},
   "outputs": [],
   "source": [
    "math.sqrt(2)"
   ]
  },
  {
   "cell_type": "markdown",
   "metadata": {},
   "source": [
    "The <em style=\"color:blue;\">flooring function</em> $\\texttt{floor}(x)$ truncates a floating point number $x$ down to the biggest integer number less or equal to $x$:\n",
    "$$ \\texttt{floor}(x) = \\max(\\{ n \\in \\mathbb{Z} \\mid n \\leq x \\} $$"
   ]
  },
  {
   "cell_type": "code",
   "execution_count": null,
   "metadata": {},
   "outputs": [],
   "source": [
    "math.floor(1.999)"
   ]
  },
  {
   "cell_type": "markdown",
   "metadata": {},
   "source": [
    "The <em style=\"color:blue;\">ceiling function</em> $\\texttt{ceil}(x)$ rounds a floating point number $x$ up to the next  integer number bigger or equal to $x$:\n",
    "$$ \\texttt{ceil}(x) = \\min(\\{ n \\in \\mathbb{Z} \\mid x \\leq n \\} $$"
   ]
  },
  {
   "cell_type": "code",
   "execution_count": null,
   "metadata": {},
   "outputs": [],
   "source": [
    "math.ceil(1.001)"
   ]
  },
  {
   "cell_type": "markdown",
   "metadata": {},
   "source": [
    "The function `round` rounds its input to the nearest integer.  For an integer number $n$, the floating point number $n.5$ is rounded to $n+1$."
   ]
  },
  {
   "cell_type": "code",
   "execution_count": null,
   "metadata": {},
   "outputs": [],
   "source": [
    "round(1.5), round(1.39), round(1.51)"
   ]
  },
  {
   "cell_type": "markdown",
   "metadata": {},
   "source": [
    "The function `abs` computes the absolute value.  Note that this function is not part of the math library but rather is a predefined function.  Therefore the name `abs` is  not prefixed with the package name `math`."
   ]
  },
  {
   "cell_type": "code",
   "execution_count": null,
   "metadata": {},
   "outputs": [],
   "source": [
    "abs(-1)"
   ]
  },
  {
   "cell_type": "markdown",
   "metadata": {},
   "source": [
    "## The Help System"
   ]
  },
  {
   "cell_type": "markdown",
   "metadata": {},
   "source": [
    "Typing a single question mark <tt>'?'</tt> starts the help system of the *Jupyter* notebook."
   ]
  },
  {
   "cell_type": "code",
   "execution_count": null,
   "metadata": {},
   "outputs": [],
   "source": [
    "?"
   ]
  },
  {
   "cell_type": "markdown",
   "metadata": {},
   "source": [
    "If the name of a module is followed by a question mark, a description of the module is printed."
   ]
  },
  {
   "cell_type": "code",
   "execution_count": null,
   "metadata": {},
   "outputs": [],
   "source": [
    "math?"
   ]
  },
  {
   "cell_type": "markdown",
   "metadata": {},
   "source": [
    "This also works for functions defined in a module."
   ]
  },
  {
   "cell_type": "code",
   "execution_count": null,
   "metadata": {},
   "outputs": [],
   "source": [
    "math.sin?"
   ]
  },
  {
   "cell_type": "markdown",
   "metadata": {},
   "source": [
    "The question mark operator only works inside a <em style=\"color:blue;\">Jupyter notebook</em>.  \n",
    "\n",
    "Furthermore, there is the function `help`, which is part of *Python*."
   ]
  },
  {
   "cell_type": "code",
   "execution_count": null,
   "metadata": {
    "scrolled": true
   },
   "outputs": [],
   "source": [
    "help(math)"
   ]
  },
  {
   "cell_type": "code",
   "execution_count": null,
   "metadata": {},
   "outputs": [],
   "source": [
    "help(math.sin)"
   ]
  },
  {
   "cell_type": "code",
   "execution_count": null,
   "metadata": {},
   "outputs": [],
   "source": [
    "help(dir)"
   ]
  },
  {
   "cell_type": "markdown",
   "metadata": {},
   "source": [
    "We can use the function <tt>dir()</tt> to print the names of the variables that have been defined."
   ]
  },
  {
   "cell_type": "code",
   "execution_count": null,
   "metadata": {
    "scrolled": true
   },
   "outputs": [],
   "source": [
    "dir()"
   ]
  },
  {
   "cell_type": "markdown",
   "metadata": {},
   "source": [
    "The names of the form $\\textrm{_i}n$ where $n$ is a number refer to the *input* of the $n^{\\textrm{th}}$ cell of this notebook.  Let us check the input of the $55^{\\textrm{th}}$ cell of this notebook."
   ]
  },
  {
   "cell_type": "code",
   "execution_count": null,
   "metadata": {},
   "outputs": [],
   "source": [
    "_i21"
   ]
  },
  {
   "cell_type": "markdown",
   "metadata": {},
   "source": [
    "The names of the form $\\textrm{_}n$ where $n$ is a number refer to the *output* produced by the $n^{\\textrm{th}}$ cell of this notebook.  "
   ]
  },
  {
   "cell_type": "code",
   "execution_count": null,
   "metadata": {},
   "outputs": [],
   "source": [
    "_21"
   ]
  },
  {
   "cell_type": "code",
   "execution_count": null,
   "metadata": {},
   "outputs": [],
   "source": [
    "2 * 3"
   ]
  },
  {
   "cell_type": "markdown",
   "metadata": {},
   "source": [
    "Inside a *Jupyter* notebook, the variable `_` refers to the value of the last expression that has been executed."
   ]
  },
  {
   "cell_type": "code",
   "execution_count": null,
   "metadata": {},
   "outputs": [],
   "source": [
    "_"
   ]
  },
  {
   "cell_type": "markdown",
   "metadata": {},
   "source": [
    "The <em style=\"color:blue;\">magic</em> command <tt>%quickref</tt> prints an overview of the so called \n",
    "<em style=\"color:blue;\">magic commands</em> that are available in <em style=\"color:blue;\">Jupyter notebooks</em>."
   ]
  },
  {
   "cell_type": "code",
   "execution_count": null,
   "metadata": {},
   "outputs": [],
   "source": [
    "%quickref"
   ]
  },
  {
   "cell_type": "markdown",
   "metadata": {},
   "source": [
    "We can use the command `ls` to list the files in the current directory."
   ]
  },
  {
   "cell_type": "code",
   "execution_count": null,
   "metadata": {},
   "outputs": [],
   "source": [
    "ls -al"
   ]
  },
  {
   "cell_type": "markdown",
   "metadata": {},
   "source": [
    "Prefixing a shell command with a `!` executes this command in a shell.  On the Windows operating system, the system command to list the files in the current directory is called `dir`, while on Linux and MacOS, the corresponding command is known as `ls`."
   ]
  },
  {
   "cell_type": "code",
   "execution_count": null,
   "metadata": {},
   "outputs": [],
   "source": [
    "!ls"
   ]
  },
  {
   "cell_type": "code",
   "execution_count": null,
   "metadata": {},
   "outputs": [],
   "source": [
    "!dir"
   ]
  },
  {
   "cell_type": "code",
   "execution_count": null,
   "metadata": {},
   "outputs": [],
   "source": []
  }
 ],
 "metadata": {
  "@webio": {
   "lastCommId": null,
   "lastKernelId": null
  },
  "hide_input": false,
  "kernelspec": {
   "display_name": "Python 3 (ipykernel)",
   "language": "python",
   "name": "python3"
  },
  "language_info": {
   "codemirror_mode": {
    "name": "ipython",
    "version": 3
   },
   "file_extension": ".py",
   "mimetype": "text/x-python",
   "name": "python",
   "nbconvert_exporter": "python",
   "pygments_lexer": "ipython3",
   "version": "3.10.4"
  },
  "toc": {
   "base_numbering": 1,
   "nav_menu": {},
   "number_sections": true,
   "sideBar": true,
   "skip_h1_title": false,
   "title_cell": "Table of Contents",
   "title_sidebar": "Contents",
   "toc_cell": false,
   "toc_position": {},
   "toc_section_display": true,
   "toc_window_display": false
  },
  "varInspector": {
   "cols": {
    "lenName": 16,
    "lenType": 16,
    "lenVar": 40
   },
   "kernels_config": {
    "python": {
     "delete_cmd_postfix": "",
     "delete_cmd_prefix": "del ",
     "library": "var_list.py",
     "varRefreshCmd": "print(var_dic_list())"
    },
    "r": {
     "delete_cmd_postfix": ") ",
     "delete_cmd_prefix": "rm(",
     "library": "var_list.r",
     "varRefreshCmd": "cat(var_dic_list()) "
    }
   },
   "types_to_exclude": [
    "module",
    "function",
    "builtin_function_or_method",
    "instance",
    "_Feature"
   ],
   "window_display": false
  }
 },
 "nbformat": 4,
 "nbformat_minor": 4
}
