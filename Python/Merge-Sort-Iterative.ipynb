{
 "cells": [
  {
   "cell_type": "code",
   "execution_count": 2,
   "metadata": {},
   "outputs": [
    {
     "data": {
      "text/html": [
       "<style>\n",
       ".container { width:100% } \n",
       "</style>\n"
      ],
      "text/plain": [
       "<IPython.core.display.HTML object>"
      ]
     },
     "metadata": {},
     "output_type": "display_data"
    }
   ],
   "source": [
    "%%HTML\n",
    "<style>\n",
    ".container { width:100% } \n",
    "</style>"
   ]
  },
  {
   "cell_type": "markdown",
   "metadata": {},
   "source": [
    "# An Iterative Implementation of Merge Sort"
   ]
  },
  {
   "cell_type": "markdown",
   "metadata": {},
   "source": [
    "The function $\\texttt{sort}(L)$ sorts the list $L$ in place using <em style=\"color:blue\">merge sort</em>.\n",
    "It takes advantage of the fact that, in *Python*, lists are stored internally as arrays.\n",
    "The function `sort` is a wrapper for the function `merge_sort`.  Its sole purpose is to allocate the auxiliary array `A`, \n",
    "which has the same size as the array holding `L`."
   ]
  },
  {
   "cell_type": "code",
   "execution_count": 3,
   "metadata": {},
   "outputs": [],
   "source": [
    "def sort(L):\n",
    "    A = L[:]  # A is a copy of L\n",
    "    mergeSort(L, A)"
   ]
  },
  {
   "cell_type": "markdown",
   "metadata": {},
   "source": [
    "The function `mergeSort` is called with 2 arguments.\n",
    "  - The first parameter $\\texttt{L}$ is the list that is to be sorted.\n",
    "  - The second parameter $\\texttt{A}$ is used as an auxiliary array.  This array is needed\n",
    "    as <em style=\"color:blue\">temporary storage</em> and is required to have the same size as the list $\\texttt{L}$."
   ]
  },
  {
   "cell_type": "code",
   "execution_count": 15,
   "metadata": {},
   "outputs": [],
   "source": [
    "def mergeSort(L, A):\n",
    "    n = 1\n",
    "    while n < len(L):\n",
    "        k = 0\n",
    "        while n * k + n < len(L):\n",
    "            top = min(n * k + 2 * n, len(L))\n",
    "            merge(L, n * k, n * k + n, top, A)\n",
    "            k += 2    \n",
    "        n *= 2"
   ]
  },
  {
   "cell_type": "markdown",
   "metadata": {},
   "source": [
    "The function `merge` takes five arguments.\n",
    "  - `L`      is a list,\n",
    "  - `start`  is an integer such that $\\texttt{start}  \\in \\{0, \\cdots, \\texttt{len}(L)-1 \\}$,\n",
    "  - `middle` is an integer such that $\\texttt{middle} \\in \\{0, \\cdots, \\texttt{len}(L)-1 \\}$,\n",
    "  - `end`    is an integer such that $\\texttt{end}    \\in \\{0, \\cdots, \\texttt{len}(L)-1 \\}$, \n",
    "  - `A`      is a list of the same length as `L`.\n",
    "  \n",
    "Furthermore, the indices `start`, `middle` and `end` have to satisfy the following:\n",
    "$$ 0 \\leq \\texttt{start} < \\texttt{middle} < \\texttt{end} \\leq \\texttt{len}(L) $$\n",
    "The function assumes that the sublists `L[start:middle]` and `L[middle:end]` are already sorted.\n",
    "The function merges these sublists so that when the call returns the sublist `L[start:end]`\n",
    "is sorted.  The last argument `A` is used as auxiliary memory."
   ]
  },
  {
   "cell_type": "code",
   "execution_count": 16,
   "metadata": {},
   "outputs": [],
   "source": [
    "def merge(L, start, middle, end, A):\n",
    "    A[start:end] = L[start:end]\n",
    "    idx1 = start\n",
    "    idx2 = middle\n",
    "    i    = start\n",
    "    while idx1 < middle and idx2 < end:\n",
    "        if A[idx1] <= A[idx2]:\n",
    "            L[i]  = A[idx1]\n",
    "            idx1 += 1\n",
    "        else:\n",
    "            L[i]  = A[idx2]\n",
    "            idx2 += 1\n",
    "        i += 1\n",
    "    if idx1 < middle:\n",
    "        L[i:end] = A[idx1:middle]\n",
    "    if idx2 < end:\n",
    "        L[i:end] = A[idx2:end]"
   ]
  },
  {
   "cell_type": "markdown",
   "metadata": {},
   "source": [
    "## Testing"
   ]
  },
  {
   "cell_type": "code",
   "execution_count": 17,
   "metadata": {},
   "outputs": [],
   "source": [
    "import random as rnd\n",
    "from collections import Counter"
   ]
  },
  {
   "cell_type": "code",
   "execution_count": 18,
   "metadata": {},
   "outputs": [],
   "source": [
    "def demo():\n",
    "    L = [ rnd.randrange(1, 100) for n in range(1, 20) ]\n",
    "    print(\"L = \", L)\n",
    "    S = L[:]\n",
    "    sort(S)\n",
    "    print(\"S = \", S)\n",
    "    print(Counter(L))\n",
    "    print(Counter(S))\n",
    "    print(Counter(L) == Counter(S))"
   ]
  },
  {
   "cell_type": "code",
   "execution_count": 19,
   "metadata": {},
   "outputs": [
    {
     "name": "stdout",
     "output_type": "stream",
     "text": [
      "L =  [25, 20, 92, 35, 83, 92, 91, 58, 64, 71, 64, 35, 45, 2, 66, 64, 15, 30, 47]\n",
      "S =  [2, 15, 20, 25, 30, 35, 35, 45, 47, 58, 64, 64, 64, 66, 71, 83, 91, 92, 92]\n",
      "Counter({64: 3, 92: 2, 35: 2, 25: 1, 20: 1, 83: 1, 91: 1, 58: 1, 71: 1, 45: 1, 2: 1, 66: 1, 15: 1, 30: 1, 47: 1})\n",
      "Counter({64: 3, 35: 2, 92: 2, 2: 1, 15: 1, 20: 1, 25: 1, 30: 1, 45: 1, 47: 1, 58: 1, 66: 1, 71: 1, 83: 1, 91: 1})\n",
      "True\n"
     ]
    }
   ],
   "source": [
    "demo()"
   ]
  },
  {
   "cell_type": "markdown",
   "metadata": {},
   "source": [
    "The function `isOrdered(L)` checks that the list `L` is sorted in ascending order."
   ]
  },
  {
   "cell_type": "code",
   "execution_count": 20,
   "metadata": {},
   "outputs": [],
   "source": [
    "def isOrdered(L):\n",
    "    for i in range(len(L) - 1):\n",
    "        assert L[i] <= L[i+1]"
   ]
  },
  {
   "cell_type": "markdown",
   "metadata": {},
   "source": [
    "The function `sameElements(L, S)` returns `True`if the lists `L` and `S` contain the same elements and, furthermore, each \n",
    "element $x$ occurring in `L` occurs in `S` the same number of times it occurs in `L`."
   ]
  },
  {
   "cell_type": "code",
   "execution_count": 21,
   "metadata": {},
   "outputs": [],
   "source": [
    "def sameElements(L, S):\n",
    "    assert Counter(L) == Counter(S)"
   ]
  },
  {
   "cell_type": "markdown",
   "metadata": {},
   "source": [
    "The function $\\texttt{testSort}(n, k)$ generates $n$ random lists of length $k$, sorts them, and checks whether the output is sorted and contains the same elements as the input."
   ]
  },
  {
   "cell_type": "code",
   "execution_count": 22,
   "metadata": {},
   "outputs": [],
   "source": [
    "def testSort(n, k):\n",
    "    for i in range(n):\n",
    "        L = [ rnd.randrange(2*k) for x in range(k) ]\n",
    "        oldL = L[:]\n",
    "        sort(L)\n",
    "        isOrdered(L)\n",
    "        sameElements(oldL, L)\n",
    "        print('.', end='')\n",
    "    print()\n",
    "    print(\"All tests successful!\")"
   ]
  },
  {
   "cell_type": "code",
   "execution_count": 23,
   "metadata": {},
   "outputs": [
    {
     "name": "stdout",
     "output_type": "stream",
     "text": [
      "....................................................................................................\n",
      "All tests successful!\n",
      "CPU times: user 10.5 s, sys: 59.1 ms, total: 10.6 s\n",
      "Wall time: 10.6 s\n"
     ]
    }
   ],
   "source": [
    "%%time\n",
    "testSort(100, 20000)"
   ]
  },
  {
   "cell_type": "code",
   "execution_count": 24,
   "metadata": {},
   "outputs": [],
   "source": [
    "k = 1000000\n",
    "L = [ rnd.randrange(2*k) for x in range(k) ]"
   ]
  },
  {
   "cell_type": "code",
   "execution_count": 25,
   "metadata": {},
   "outputs": [
    {
     "name": "stdout",
     "output_type": "stream",
     "text": [
      "CPU times: user 5.59 s, sys: 25.9 ms, total: 5.61 s\n",
      "Wall time: 5.62 s\n"
     ]
    }
   ],
   "source": [
    "%%time\n",
    "sort(L)"
   ]
  },
  {
   "cell_type": "code",
   "execution_count": 26,
   "metadata": {},
   "outputs": [],
   "source": [
    "L = [ rnd.randrange(2*k) for x in range(k) ]"
   ]
  },
  {
   "cell_type": "code",
   "execution_count": 27,
   "metadata": {},
   "outputs": [
    {
     "name": "stdout",
     "output_type": "stream",
     "text": [
      "CPU times: user 243 ms, sys: 6.37 ms, total: 250 ms\n",
      "Wall time: 249 ms\n"
     ]
    }
   ],
   "source": [
    "%%time\n",
    "L = sorted(L)"
   ]
  },
  {
   "cell_type": "code",
   "execution_count": null,
   "metadata": {},
   "outputs": [],
   "source": [
    "help(sorted)"
   ]
  },
  {
   "cell_type": "code",
   "execution_count": null,
   "metadata": {},
   "outputs": [],
   "source": []
  }
 ],
 "metadata": {
  "kernelspec": {
   "display_name": "Python 3",
   "language": "python",
   "name": "python3"
  },
  "language_info": {
   "codemirror_mode": {
    "name": "ipython",
    "version": 3
   },
   "file_extension": ".py",
   "mimetype": "text/x-python",
   "name": "python",
   "nbconvert_exporter": "python",
   "pygments_lexer": "ipython3",
   "version": "3.7.3"
  }
 },
 "nbformat": 4,
 "nbformat_minor": 2
}
