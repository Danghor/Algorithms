{
 "cells": [
  {
   "cell_type": "code",
   "execution_count": 1,
   "metadata": {},
   "outputs": [
    {
     "data": {
      "text/html": [
       "<style>.container { width:100%; !important } </style>"
      ],
      "text/plain": [
       "<IPython.core.display.HTML object>"
      ]
     },
     "metadata": {},
     "output_type": "display_data"
    }
   ],
   "source": [
    "from IPython.core.display import HTML, display\n",
    "display(HTML('<style>.container { width:100%; !important } </style>'))"
   ]
  },
  {
   "cell_type": "markdown",
   "metadata": {},
   "source": [
    "# SymPy - An Appetizer"
   ]
  },
  {
   "cell_type": "markdown",
   "metadata": {},
   "source": [
    "`SymPy`is a module that support <em style='color:blue;'>symbolic mathematics</em> i.e. things like \n",
    "  - <em style='color:blue;'>symbolic differentiation</em>, \n",
    "  - <em style='color:blue;'>symbolic integration</em>, \n",
    "  - solving equations in <em style='color:blue;'>closed form</em>,\n",
    "  - compute <em style='color:blue;'>limits</em>,\n",
    "  - solve recurrence equations.\n",
    "The listing given above is far from complete."
   ]
  },
  {
   "cell_type": "code",
   "execution_count": 2,
   "metadata": {},
   "outputs": [],
   "source": [
    "import sympy as sym"
   ]
  },
  {
   "cell_type": "markdown",
   "metadata": {},
   "source": [
    "To get started, we need to define some <em style='color:blue;'>symbolic variables</em>. "
   ]
  },
  {
   "cell_type": "code",
   "execution_count": 3,
   "metadata": {},
   "outputs": [],
   "source": [
    "x = sym.symbols('x')\n",
    "y = sym.symbols('y')\n",
    "n = sym.symbols('n')\n",
    "i = sym.symbols('i')\n",
    "q = sym.symbols('q')\n",
    "a, b, c, d = sym.symbols('a b c d')"
   ]
  },
  {
   "cell_type": "markdown",
   "metadata": {},
   "source": [
    "Let us verify the first Binomial formula \n",
    "$$ (x + y)^2 = x^2 + 2 \\cdot x \\cdot y + y^2 $$\n",
    "using the variables `x` and `y`."
   ]
  },
  {
   "cell_type": "code",
   "execution_count": 4,
   "metadata": {},
   "outputs": [
    {
     "data": {
      "text/plain": [
       "x**2 + 2*x*y + y**2"
      ]
     },
     "execution_count": 4,
     "metadata": {},
     "output_type": "execute_result"
    }
   ],
   "source": [
    "sym.expand((x + y) ** 2)"
   ]
  },
  {
   "cell_type": "markdown",
   "metadata": {},
   "source": [
    "A slightly more impressing result can be achieved via a `for`-loop."
   ]
  },
  {
   "cell_type": "code",
   "execution_count": 5,
   "metadata": {},
   "outputs": [
    {
     "name": "stdout",
     "output_type": "stream",
     "text": [
      "(x + y)**2 = x**2 + 2*x*y + y**2\n",
      "(x + y)**3 = x**3 + 3*x**2*y + 3*x*y**2 + y**3\n",
      "(x + y)**4 = x**4 + 4*x**3*y + 6*x**2*y**2 + 4*x*y**3 + y**4\n",
      "(x + y)**5 = x**5 + 5*x**4*y + 10*x**3*y**2 + 10*x**2*y**3 + 5*x*y**4 + y**5\n"
     ]
    }
   ],
   "source": [
    "for k in range(2, 6):\n",
    "    print(f'(x + y)**{k} = {sym.expand((x + y) ** k)}')"
   ]
  },
  {
   "cell_type": "markdown",
   "metadata": {},
   "source": [
    "The opposite of the command `expand` is the command `factor`.  Suppose we want to know\n",
    "the solution of the equation\n",
    "$$ x^2 - 8 \\cdot x + 15 = 0 $$\n",
    "and we suspect that the solutions are, in fact, integers.  The following command does the trick:"
   ]
  },
  {
   "cell_type": "code",
   "execution_count": 6,
   "metadata": {},
   "outputs": [
    {
     "data": {
      "text/plain": [
       "(x - 5)*(x - 3)"
      ]
     },
     "execution_count": 6,
     "metadata": {},
     "output_type": "execute_result"
    }
   ],
   "source": [
    "sym.factor(x ** 2 - 8 * x + 15)"
   ]
  },
  {
   "cell_type": "markdown",
   "metadata": {},
   "source": [
    "We can also compute the <em style='color:blue;'>partial fraction decomposition</em> of an expression."
   ]
  },
  {
   "cell_type": "code",
   "execution_count": 7,
   "metadata": {},
   "outputs": [
    {
     "data": {
      "text/plain": [
       "-3/(x - 3) + 5/(x - 5)"
      ]
     },
     "execution_count": 7,
     "metadata": {},
     "output_type": "execute_result"
    }
   ],
   "source": [
    "sym.apart(2*x/(x**2 - 8*x + 15))"
   ]
  },
  {
   "cell_type": "markdown",
   "metadata": {},
   "source": [
    "This shows that\n",
    "$$ \\frac{2 \\cdot x}{x^2 - 8 \\cdot x + 15} = \\frac{5}{x - 5} - \\frac{3}{x - 3}. $$"
   ]
  },
  {
   "cell_type": "markdown",
   "metadata": {},
   "source": [
    "In order to compute the derivative of\n",
    "$$x \\cdot \\sin(x)$$\n",
    "with respect to $x$ we can use the following command:"
   ]
  },
  {
   "cell_type": "code",
   "execution_count": 8,
   "metadata": {},
   "outputs": [
    {
     "data": {
      "text/plain": [
       "x*cos(x) + sin(x)"
      ]
     },
     "execution_count": 8,
     "metadata": {},
     "output_type": "execute_result"
    }
   ],
   "source": [
    "sym.diff(x * sym.sin(x), x)"
   ]
  },
  {
   "cell_type": "markdown",
   "metadata": {},
   "source": [
    "Symbolic integration is possible, too:  To compute the indefinite integral\n",
    "$$\\displaystyle\\int x \\cdot \\sin(x)\\; dx$$\n",
    "we use the following command:"
   ]
  },
  {
   "cell_type": "code",
   "execution_count": 9,
   "metadata": {},
   "outputs": [
    {
     "data": {
      "text/plain": [
       "-x*cos(x) + sin(x)"
      ]
     },
     "execution_count": 9,
     "metadata": {},
     "output_type": "execute_result"
    }
   ],
   "source": [
    "sym.integrate(x * sym.sin(x), x)"
   ]
  },
  {
   "cell_type": "markdown",
   "metadata": {},
   "source": [
    "`SymPy` can compute definite integrals.  To compute the integral\n",
    "$$\\displaystyle\\int_{-\\infty}^{+\\infty} e^{-x^2} \\; dx $$\n",
    "we use the following command:"
   ]
  },
  {
   "cell_type": "code",
   "execution_count": 10,
   "metadata": {},
   "outputs": [
    {
     "data": {
      "text/plain": [
       "sqrt(pi)"
      ]
     },
     "execution_count": 10,
     "metadata": {},
     "output_type": "execute_result"
    }
   ],
   "source": [
    "sym.integrate(sym.exp(-x**2), (x, -sym.oo, sym.oo))"
   ]
  },
  {
   "cell_type": "markdown",
   "metadata": {},
   "source": [
    "This shows that\n",
    "$$\\displaystyle \\int_{-\\infty}^{+\\infty} e^{-x^2} \\; \\mathrm{d}x = \\sqrt{\\pi}. $$"
   ]
  },
  {
   "cell_type": "markdown",
   "metadata": {},
   "source": [
    "Let us compute the limit\n",
    "$$\\lim\\limits_{n \\rightarrow \\infty} \\sqrt{n+1} - \\sqrt{n}.$$"
   ]
  },
  {
   "cell_type": "code",
   "execution_count": 11,
   "metadata": {},
   "outputs": [
    {
     "data": {
      "text/plain": [
       "0"
      ]
     },
     "execution_count": 11,
     "metadata": {},
     "output_type": "execute_result"
    }
   ],
   "source": [
    "sym.limit(sym.sqrt(n+1) - sym.sqrt(n), n, sym.oo)"
   ]
  },
  {
   "cell_type": "markdown",
   "metadata": {},
   "source": [
    "`SymPy` can compute the Taylor series of a given function up to a given value of $n$.  For\n",
    "example, to compute the Taylor series of the exponential function use the command"
   ]
  },
  {
   "cell_type": "code",
   "execution_count": null,
   "metadata": {},
   "outputs": [],
   "source": [
    "sym.series(sym.exp(x), x, n=10)"
   ]
  },
  {
   "cell_type": "markdown",
   "metadata": {},
   "source": [
    "In order to compute an analytical expression for the sum\n",
    "$$\\displaystyle \\sum\\limits_{i=1}^n i^3 $$\n",
    "we can use the following command:"
   ]
  },
  {
   "cell_type": "code",
   "execution_count": null,
   "metadata": {},
   "outputs": [],
   "source": [
    "sym.summation(i**3, (i, 1, n))"
   ]
  },
  {
   "cell_type": "markdown",
   "metadata": {},
   "source": [
    "Therefore, we have shown that\n",
    "$$\\displaystyle \\sum\\limits_{i=1}^n i^3 = \\frac{n^{4}}{4} + \\frac{n^{3}}{2} + \\frac{n^{2}}{4} $$\n",
    "holds.  Let's try the geometric series:"
   ]
  },
  {
   "cell_type": "code",
   "execution_count": null,
   "metadata": {},
   "outputs": [],
   "source": [
    "sym.summation(q**i, (i, 0, n))"
   ]
  },
  {
   "cell_type": "markdown",
   "metadata": {},
   "source": [
    "This shows that\n",
    "$$\\sum\\limits_{i=0}^n q^i =\n",
    "\\begin{cases} \n",
    "  n + 1                    & \\text{for}\\: q = 1\\text{;} \\\\[0.2cm]\n",
    "  \\frac{\\displaystyle\\;1 - q^{n+1}\\;}{\\displaystyle 1 - q} & \\text{otherwise.} \n",
    "\\end{cases}\n",
    "$$"
   ]
  },
  {
   "cell_type": "markdown",
   "metadata": {},
   "source": [
    "Lets try to compute\n",
    "$$ \\sum\\limits_{i=1}^\\infty \\frac{1}{i^2}: $$"
   ]
  },
  {
   "cell_type": "code",
   "execution_count": null,
   "metadata": {},
   "outputs": [],
   "source": [
    "sym.summation(1 / n**2, (n, 1, sym.oo))"
   ]
  },
  {
   "cell_type": "markdown",
   "metadata": {},
   "source": [
    "Let us compute the solution of the quadratic equation\n",
    "$$ x^2 - x - 1 = 0: $$"
   ]
  },
  {
   "cell_type": "code",
   "execution_count": null,
   "metadata": {},
   "outputs": [],
   "source": [
    "sym.solve(x**2 - x - 1, x)"
   ]
  },
  {
   "cell_type": "markdown",
   "metadata": {},
   "source": [
    "Next, we solve the following system of linear equations:\n",
    "$$\n",
    "\\begin{array}[t]{lcr}\n",
    "  x + y & = &  a \\\\\n",
    "  x - y & = &  b\n",
    "\\end{array}\n",
    "$$"
   ]
  },
  {
   "cell_type": "code",
   "execution_count": null,
   "metadata": {},
   "outputs": [],
   "source": [
    "sym.solve({x + y - a, x - y - b}, {x, y})"
   ]
  },
  {
   "cell_type": "markdown",
   "metadata": {},
   "source": [
    "Suppose we want to solve the recurrence equation\n",
    "$$ a(n+2) = a(n+1) + a(n) $$  \n",
    "with the initial values $a(0) = 0$ and $a(1) = 1$."
   ]
  },
  {
   "cell_type": "code",
   "execution_count": null,
   "metadata": {},
   "outputs": [],
   "source": [
    "sym.rsolve(a(n+2) - a(n+1) - a(n), a(n), {a(0): 0, a(1): 1})"
   ]
  },
  {
   "cell_type": "markdown",
   "metadata": {},
   "source": [
    "The solution that is computed is\n",
    "$$\\displaystyle a(n) = \\frac{\\sqrt{5}}{5} \\cdot\\left(\\frac{1}{2} + \\frac{\\sqrt{5}}{2}\\right)^{n} - \n",
    "                       \\frac{\\sqrt{5}}{5} \\cdot\\left(- \\frac{\\sqrt{5}}{2} + \\frac{1}{2}\\right)^{n}.\n",
    "$$"
   ]
  },
  {
   "cell_type": "markdown",
   "metadata": {},
   "source": [
    "In order to solve the differential equation\n",
    "$$\\displaystyle x \\cdot \\frac{d\\hspace{0.1pt}f}{dx} - f(x) = x^2$$\n",
    "we first need to declare $f$ as a function."
   ]
  },
  {
   "cell_type": "code",
   "execution_count": null,
   "metadata": {},
   "outputs": [],
   "source": [
    "f = sym.Function('f')"
   ]
  },
  {
   "cell_type": "code",
   "execution_count": null,
   "metadata": {},
   "outputs": [],
   "source": [
    "sym.dsolve(sym.Eq(x * f(x).diff(x) - f(x) - x**2, 0), f(x))"
   ]
  },
  {
   "cell_type": "markdown",
   "metadata": {},
   "source": [
    "This shows that for any $C_1 \\in \\mathbb{R}$ the function\n",
    "$$f(x) = x \\cdot \\bigl(C_{1} + x\\bigr)$$\n",
    "is a solution of the given differential equation."
   ]
  },
  {
   "cell_type": "markdown",
   "metadata": {},
   "source": [
    "Sometimes the output of `SymPy` is a little hard to read for the untrained eye:"
   ]
  },
  {
   "cell_type": "code",
   "execution_count": null,
   "metadata": {},
   "outputs": [],
   "source": [
    "sym.solve(a*x**3 + b * x**2 + c * x + d, x)"
   ]
  },
  {
   "cell_type": "markdown",
   "metadata": {},
   "source": [
    "The `latex` command can help out here:"
   ]
  },
  {
   "cell_type": "code",
   "execution_count": null,
   "metadata": {},
   "outputs": [],
   "source": [
    "sym.latex(sym.solve(a*x**3 + b * x**2 + c * x + d, x))"
   ]
  },
  {
   "cell_type": "markdown",
   "metadata": {},
   "source": [
    "If we typeset this in $\\LaTeX$, we get\n",
    "$$ \\left [ - \\frac{- \\frac{3 c}{a} + \\frac{b^{2}}{a^{2}}}{3 \\sqrt[3]{\\frac{1}{2} \\sqrt{- 4 \\left(- \\frac{3 c}{a} + \\frac{b^{2}}{a^{2}}\\right)^{3} + \\left(\\frac{27 d}{a} - \\frac{9 b}{a^{2}} c + \\frac{2 b^{3}}{a^{3}}\\right)^{2}} + \\frac{27 d}{2 a} - \\frac{9 b c}{2 a^{2}} + \\frac{b^{3}}{a^{3}}}} - \\frac{1}{3} \\sqrt[3]{\\frac{1}{2} \\sqrt{- 4 \\left(- \\frac{3 c}{a} + \\frac{b^{2}}{a^{2}}\\right)^{3} + \\left(\\frac{27 d}{a} - \\frac{9 b}{a^{2}} c + \\frac{2 b^{3}}{a^{3}}\\right)^{2}} + \\frac{27 d}{2 a} - \\frac{9 b c}{2 a^{2}} + \\frac{b^{3}}{a^{3}}} - \\frac{b}{3 a}, \\quad - \\frac{- \\frac{3 c}{a} + \\frac{b^{2}}{a^{2}}}{3 \\left(- \\frac{1}{2} - \\frac{\\sqrt{3} i}{2}\\right) \\sqrt[3]{\\frac{1}{2} \\sqrt{- 4 \\left(- \\frac{3 c}{a} + \\frac{b^{2}}{a^{2}}\\right)^{3} + \\left(\\frac{27 d}{a} - \\frac{9 b}{a^{2}} c + \\frac{2 b^{3}}{a^{3}}\\right)^{2}} + \\frac{27 d}{2 a} - \\frac{9 b c}{2 a^{2}} + \\frac{b^{3}}{a^{3}}}} - \\frac{1}{3} \\left(- \\frac{1}{2} - \\frac{\\sqrt{3} i}{2}\\right) \\sqrt[3]{\\frac{1}{2} \\sqrt{- 4 \\left(- \\frac{3 c}{a} + \\frac{b^{2}}{a^{2}}\\right)^{3} + \\left(\\frac{27 d}{a} - \\frac{9 b}{a^{2}} c + \\frac{2 b^{3}}{a^{3}}\\right)^{2}} + \\frac{27 d}{2 a} - \\frac{9 b c}{2 a^{2}} + \\frac{b^{3}}{a^{3}}} - \\frac{b}{3 a}, \\quad - \\frac{- \\frac{3 c}{a} + \\frac{b^{2}}{a^{2}}}{3 \\left(- \\frac{1}{2} + \\frac{\\sqrt{3} i}{2}\\right) \\sqrt[3]{\\frac{1}{2} \\sqrt{- 4 \\left(- \\frac{3 c}{a} + \\frac{b^{2}}{a^{2}}\\right)^{3} + \\left(\\frac{27 d}{a} - \\frac{9 b}{a^{2}} c + \\frac{2 b^{3}}{a^{3}}\\right)^{2}} + \\frac{27 d}{2 a} - \\frac{9 b c}{2 a^{2}} + \\frac{b^{3}}{a^{3}}}} - \\frac{1}{3} \\left(- \\frac{1}{2} + \\frac{\\sqrt{3} i}{2}\\right) \\sqrt[3]{\\frac{1}{2} \\sqrt{- 4 \\left(- \\frac{3 c}{a} + \\frac{b^{2}}{a^{2}}\\right)^{3} + \\left(\\frac{27 d}{a} - \\frac{9 b}{a^{2}} c + \\frac{2 b^{3}}{a^{3}}\\right)^{2}} + \\frac{27 d}{2 a} - \\frac{9 b c}{2 a^{2}} + \\frac{b^{3}}{a^{3}}} - \\frac{b}{3 a}\\right ]\n",
    "$$"
   ]
  },
  {
   "cell_type": "markdown",
   "metadata": {},
   "source": [
    "This looks better."
   ]
  }
 ],
 "metadata": {
  "kernelspec": {
   "display_name": "Python 3",
   "language": "python",
   "name": "python3"
  },
  "language_info": {
   "codemirror_mode": {
    "name": "ipython",
    "version": 3
   },
   "file_extension": ".py",
   "mimetype": "text/x-python",
   "name": "python",
   "nbconvert_exporter": "python",
   "pygments_lexer": "ipython3",
   "version": "3.6.8"
  }
 },
 "nbformat": 4,
 "nbformat_minor": 2
}
