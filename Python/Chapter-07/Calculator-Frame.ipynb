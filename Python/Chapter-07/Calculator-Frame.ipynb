{
 "cells": [
  {
   "cell_type": "code",
   "execution_count": 1,
   "metadata": {},
   "outputs": [
    {
     "data": {
      "text/html": [
       "<link href='http://fonts.googleapis.com/css?family=Alegreya+Sans:100,300,400,500,700,800,900,100italic,300italic,400italic,500italic,700italic,800italic,900italic' rel='stylesheet' type='text/css'>\n",
       "<link href='http://fonts.googleapis.com/css?family=Arvo:400,700,400italic' rel='stylesheet' type='text/css'>\n",
       "<link href='http://fonts.googleapis.com/css?family=PT+Mono' rel='stylesheet' type='text/css'>\n",
       "<link href='http://fonts.googleapis.com/css?family=Shadows+Into+Light' rel='stylesheet' type='text/css'>\n",
       "<link href='http://fonts.googleapis.com/css?family=Philosopher:400,700,400italic,700italic' rel='stylesheet' type='text/css'>\n",
       "\n",
       "<style>\n",
       "\n",
       "@font-face {\n",
       "    font-family: \"Computer Modern\";\n",
       "    src: url('http://mirrors.ctan.org/fonts/cm-unicode/fonts/otf/cmunss.otf');\n",
       "}\n",
       "\n",
       ".container { width: 100% }\n",
       "\n",
       "/* Formatting for header cells */\n",
       ".text_cell_render h1 {\n",
       "    font-family: 'Philosopher', sans-serif;\n",
       "    font-weight: 400;\n",
       "    font-size: 2.2em;\n",
       "    line-height: 100%;\n",
       "    color: rgb(0, 80, 120);\n",
       "    margin-bottom: 0.1em;\n",
       "    margin-top: 0.1em;\n",
       "    display: block;\n",
       "}\t\n",
       ".text_cell_render h2 {\n",
       "    font-family: 'Philosopher', serif;\n",
       "    font-weight: 400;\n",
       "    font-size: 1.9em;\n",
       "    line-height: 100%;\n",
       "    color: rgb(200,100,0);\n",
       "    margin-bottom: 0.1em;\n",
       "    margin-top: 0.1em;\n",
       "    display: block;\n",
       "}\t\n",
       "\n",
       ".text_cell_render h3 {\n",
       "    font-family: 'Philosopher', serif;\n",
       "    margin-top:12px;\n",
       "    margin-bottom: 3px;\n",
       "    font-style: italic;\n",
       "    color: rgb(94,127,192);\n",
       "}\n",
       "\n",
       ".text_cell_render h4 {\n",
       "    font-family: 'Philosopher', serif;\n",
       "}\n",
       "\n",
       ".text_cell_render h5 {\n",
       "    font-family: 'Alegreya Sans', sans-serif;\n",
       "    font-weight: 300;\n",
       "    font-size: 16pt;\n",
       "    color: grey;\n",
       "    font-style: italic;\n",
       "    margin-bottom: .1em;\n",
       "    margin-top: 0.1em;\n",
       "    display: block;\n",
       "}\n",
       "\n",
       ".text_cell_render h6 {\n",
       "    font-family: 'PT Mono', sans-serif;\n",
       "    font-weight: 300;\n",
       "    font-size: 10pt;\n",
       "    color: grey;\n",
       "    margin-bottom: 1px;\n",
       "    margin-top: 1px;\n",
       "}\n",
       "\n",
       ".text_cell_render em {\n",
       "    font-family: 'Philosopher', sans-serif;\n",
       "    color:        blue;\n",
       "    background-color: rgb(255,220,180);\n",
       "    font-size:    110%;\n",
       "    margin-left:   2px;\n",
       "    margin-right:  2px;\n",
       "    font-weight:   100;\n",
       "}\n",
       "\n",
       ".text_cell_render b {\n",
       "    color:            rgb(255,195,195);\n",
       "    background-color: rgb(0,0,0);\n",
       "    font-size:    110%;\n",
       "    margin-left:   2px;\n",
       "    margin-right:  2px;\n",
       "    font-weight:   650;\n",
       "}\n",
       "\n",
       ".text_cell_render tt {\n",
       "    font-size:    120%;\n",
       "    margin-left:   2px;\n",
       "    margin-right:  2px;\n",
       "    font-weight:   150;\n",
       "}\n",
       "\n",
       ".Codemirror {\n",
       "    font-family: \"PT Mono\";\n",
       "    font-size: 100%;\n",
       "}\n",
       "\n",
       "</style>\n",
       "\n"
      ],
      "text/plain": [
       "<IPython.core.display.HTML object>"
      ]
     },
     "execution_count": 1,
     "metadata": {},
     "output_type": "execute_result"
    }
   ],
   "source": [
    "from IPython.core.display import HTML\n",
    "with open('../style.css') as file:\n",
    "    css = file.read()\n",
    "HTML(css)"
   ]
  },
  {
   "cell_type": "markdown",
   "metadata": {},
   "source": [
    "Normally, I would just write\n",
    "```\n",
    "%run Stack.ipynb\n",
    "```\n",
    "here.  As this does not work in Deepnote, I have included the implementation of the class `Stack` here."
   ]
  },
  {
   "cell_type": "code",
   "execution_count": null,
   "metadata": {},
   "outputs": [],
   "source": [
    "class Stack:\n",
    "    def __init__(self):\n",
    "        self.mStackElements = []\n",
    "\n",
    "    def push(self, e):\n",
    "        self.mStackElements.append(e)\n",
    "\n",
    "    def pop(self):\n",
    "        assert len(self.mStackElements) > 0, \"popping empty stack\"\n",
    "        self.mStackElements = self.mStackElements[:-1]\n",
    "\n",
    "    def top(self):\n",
    "        assert len(self.mStackElements) > 0, \"top of empty stack\"\n",
    "        return self.mStackElements[-1]\n",
    "\n",
    "    def isEmpty(self):\n",
    "        return self.mStackElements == []\n",
    "\n",
    "    def copy(self):\n",
    "        C = Stack()\n",
    "        C.mStackElements = self.mStackElements[:]\n",
    "        return C\n",
    "\n",
    "    def __str__(self):\n",
    "        C = self.copy()\n",
    "        result = C._convert()\n",
    "        return result\n",
    "\n",
    "    def _convert(self):\n",
    "        if self.isEmpty():\n",
    "            return '|'\n",
    "        t = self.top()\n",
    "        self.pop()\n",
    "        return self._convert() + ' ' + str(t) + ' |'\n",
    "\n",
    "def createStack(L):\n",
    "    S = Stack()\n",
    "    n = len(L)\n",
    "    for i in range(n):\n",
    "        S.push(L[i])\n",
    "    return S"
   ]
  },
  {
   "cell_type": "markdown",
   "metadata": {},
   "source": [
    "# The Shunting Yard Algorithm (Operator Precedence Parsing)"
   ]
  },
  {
   "cell_type": "code",
   "execution_count": 2,
   "metadata": {},
   "outputs": [],
   "source": [
    "import re"
   ]
  },
  {
   "cell_type": "markdown",
   "metadata": {},
   "source": [
    "The function $\\texttt{isWhiteSpace}(s)$ checks whether $s$ contains only blanks and tabulators."
   ]
  },
  {
   "cell_type": "code",
   "execution_count": 3,
   "metadata": {},
   "outputs": [],
   "source": [
    "def isWhiteSpace(s):\n",
    "    whitespace = re.compile(r'[ \\t]+')\n",
    "    return whitespace.fullmatch(s)"
   ]
  },
  {
   "cell_type": "markdown",
   "metadata": {},
   "source": [
    "The function $\\texttt{toFloat}(s)$ tries to convert the string $s$ to a floating point number.  If this works out, this number is returned.  Otherwise, the string $s$ is returned unchanged."
   ]
  },
  {
   "cell_type": "code",
   "execution_count": 4,
   "metadata": {},
   "outputs": [],
   "source": [
    "def toFloat(s):\n",
    "    try:\n",
    "        return float(s)   \n",
    "    except ValueError:\n",
    "        return s"
   ]
  },
  {
   "cell_type": "code",
   "execution_count": 5,
   "metadata": {},
   "outputs": [
    {
     "data": {
      "text/plain": [
       "0.123"
      ]
     },
     "execution_count": 5,
     "metadata": {},
     "output_type": "execute_result"
    }
   ],
   "source": [
    "toFloat('0.123')"
   ]
  },
  {
   "cell_type": "code",
   "execution_count": 6,
   "metadata": {},
   "outputs": [
    {
     "data": {
      "text/plain": [
       "'+'"
      ]
     },
     "execution_count": 6,
     "metadata": {},
     "output_type": "execute_result"
    }
   ],
   "source": [
    "toFloat('+')"
   ]
  },
  {
   "cell_type": "markdown",
   "metadata": {},
   "source": [
    "The module `re` provides support for <a href='https://en.wikipedia.org/wiki/Regular_expression'>regular expressions</a>.  These are needed for\n",
    "<em style=\"color:blue;\">tokenizing</em> a string."
   ]
  },
  {
   "cell_type": "markdown",
   "metadata": {},
   "source": [
    "The function $\\texttt{tokenize}(s)$ takes a string and splits this string into a list of tokens.  Whitespace is discarded."
   ]
  },
  {
   "cell_type": "code",
   "execution_count": 9,
   "metadata": {},
   "outputs": [],
   "source": [
    "def tokenize(s):\n",
    "    regExp = r'''\n",
    "              0|[1-9][0-9]*               | # integer\n",
    "              (?:0|[1-9][0-9])+[.][0-9]+  | # floating point number\n",
    "              \\*\\*                        | # power operator\n",
    "              [-+*/()]                    | # arithmetic operators and parentheses\n",
    "              [ \\t]                       | # white space\n",
    "              sqrt                        | # square root\n",
    "              sin                         | # sine function\n",
    "              cos                         | # cosine function\n",
    "              tan                         | # tangent function\n",
    "              asin                        | # arcus sine\n",
    "              acos                        | # arcus cosine\n",
    "              atan                        | # arcus tangent\n",
    "              exp                         | # exponential function\n",
    "              log                         | # natural logarithm\n",
    "              x                           | # variable\n",
    "              e                           | # Euler's number\n",
    "              π                             # π = 3.1415926535...\n",
    "              '''\n",
    "    L = [toFloat(t) for t in re.findall(regExp, s, flags=re.VERBOSE) if not isWhiteSpace(t)]\n",
    "    return list(reversed(L))"
   ]
  },
  {
   "cell_type": "code",
   "execution_count": 10,
   "metadata": {},
   "outputs": [
    {
     "data": {
      "text/plain": [
       "['π', '*', 2.0, '-', 2.0, '**', 'x']"
      ]
     },
     "execution_count": 10,
     "metadata": {},
     "output_type": "execute_result"
    }
   ],
   "source": [
    "tokenize('x**2 - 2 * π')"
   ]
  },
  {
   "cell_type": "markdown",
   "metadata": {},
   "source": [
    "The module `math` provides a number of mathematical functions like `exp`, `sin`, `log` etc."
   ]
  },
  {
   "cell_type": "code",
   "execution_count": null,
   "metadata": {},
   "outputs": [],
   "source": [
    "import math"
   ]
  },
  {
   "cell_type": "markdown",
   "metadata": {},
   "source": [
    "The function $\\texttt{findZero}(f, a, b, n)$ takes a function $f$ and two numbers $a$ and $b$ such that\n",
    "\n",
    "  - $a < b$,\n",
    "  - $f(a) \\leq 0$, and \n",
    "  - $0 \\leq f(b)$.\n",
    "  \n",
    "It uses the bisection method to find a number $x \\in [a, b]$ such that $f(x) \\approx 0$."
   ]
  },
  {
   "cell_type": "code",
   "execution_count": 13,
   "metadata": {},
   "outputs": [],
   "source": [
    "def findZero(f, a, b, n):\n",
    "    assert a < b    , f'{a} has to be less than b'\n",
    "    assert f(a) * f(b) <= 0, f'f({a}) * f({b}) > 0'\n",
    "    if f(a) <= 0 <= f(b):\n",
    "        for k in range(n):\n",
    "            c = 0.5 * (a + b) \n",
    "            # print(f'f({c}) = {f(c)}, {b-a}')\n",
    "            if f(c) < 0:\n",
    "                a = c\n",
    "            elif f(c) > 0:\n",
    "                b = c\n",
    "            else:\n",
    "                return c\n",
    "    else:\n",
    "        for k in range(n):\n",
    "            c = 0.5 * (a + b) \n",
    "            # print(f'f({c}) = {f(c)}, {b-a}')\n",
    "            if f(c) > 0:\n",
    "                a = c\n",
    "            elif f(c) < 0:\n",
    "                b = c\n",
    "            else:\n",
    "                return c\n",
    "    return (a + b) / 2"
   ]
  },
  {
   "cell_type": "code",
   "execution_count": 11,
   "metadata": {},
   "outputs": [],
   "source": [
    "def f(x):\n",
    "    return 2 - x ** 2"
   ]
  },
  {
   "cell_type": "code",
   "execution_count": 18,
   "metadata": {},
   "outputs": [
    {
     "data": {
      "text/plain": [
       "1.414213562373095"
      ]
     },
     "execution_count": 18,
     "metadata": {},
     "output_type": "execute_result"
    }
   ],
   "source": [
    "r = findZero(f, 0, 2, 54)\n",
    "r"
   ]
  },
  {
   "cell_type": "code",
   "execution_count": 19,
   "metadata": {},
   "outputs": [
    {
     "data": {
      "text/plain": [
       "1.9999999999999996"
      ]
     },
     "execution_count": 19,
     "metadata": {},
     "output_type": "execute_result"
    }
   ],
   "source": [
    "r * r"
   ]
  },
  {
   "cell_type": "markdown",
   "metadata": {},
   "source": [
    "The function $\\texttt{precedence}(o)$ calculates the precedence of the operator $o$."
   ]
  },
  {
   "cell_type": "code",
   "execution_count": 20,
   "metadata": {},
   "outputs": [],
   "source": [
    "def precedence(op):\n",
    "    \"your code here\"\n",
    "    assert False, f'unkown operator in precedence: {op}'"
   ]
  },
  {
   "cell_type": "markdown",
   "metadata": {},
   "source": [
    "The function $\\texttt{isUnaryOperator}(o)$ returns `True` of $o$ is a unary operator."
   ]
  },
  {
   "cell_type": "code",
   "execution_count": 21,
   "metadata": {},
   "outputs": [],
   "source": [
    "def isUnaryOperator(op):\n",
    "    \"your code here\""
   ]
  },
  {
   "cell_type": "markdown",
   "metadata": {},
   "source": [
    "The function $\\texttt{isConstOperator}(o)$ returns `True` of $o$ is a constant like `e`or `pi`. \n",
    "The variable `x` is also considered as a constant operator."
   ]
  },
  {
   "cell_type": "code",
   "execution_count": 22,
   "metadata": {},
   "outputs": [],
   "source": [
    "def isConstOperator(op):\n",
    "    \"your code here\""
   ]
  },
  {
   "cell_type": "markdown",
   "metadata": {},
   "source": [
    "The function $\\texttt{isLeftAssociative}(o)$ returns `True` of $o$ is left associative."
   ]
  },
  {
   "cell_type": "code",
   "execution_count": 23,
   "metadata": {},
   "outputs": [],
   "source": [
    "def isLeftAssociative(op):\n",
    "    \"your code here\"\n",
    "    assert False, f'unkown operator in isLeftAssociative: {op}'"
   ]
  },
  {
   "cell_type": "markdown",
   "metadata": {},
   "source": [
    "The function $\\texttt{evalBefore}(o_1, o_2)$ receives to strings representing arithmetical operators.  It returns `True` if the operator $o_1$ should be evaluated before the operator $o_2$ in an arithmetical expression of the form $a \\;\\texttt{o}_1\\; b \\;\\texttt{o}_2\\; c$.  In order to determine whether $o_1$ should be evaluated before $o_2$ it uses the \n",
    "<em style=\"color:blue\">precedence</em> and the <em style=\"color:blue\">associativity</em> of the operators.  \n",
    "Its behavior is specified by the following rules:\n",
    "- $\\texttt{precedence}(o_1) > \\texttt{precedence}(o_2) \\rightarrow \\texttt{evalBefore}(\\texttt{o}_1, \\texttt{o}_2) = \\texttt{True}$,\n",
    "- $o_1 = o_2 \\wedge \\neg\\texttt{isUnaryOperator}(o_1)\\rightarrow \\texttt{evalBefore}(\\texttt{o}_1, \\texttt{o}_2) = \\texttt{isLeftAssociative}(o_1)$,\n",
    "- $\\texttt{isUnaryOperator}(o_1) \\wedge \\texttt{isUnaryOperator}(o_2) \\rightarrow \n",
    "   \\texttt{evalBefore}(\\texttt{o}_1, \\texttt{o}_2) = \\texttt{False}$,\n",
    "- $\\texttt{precedence}(o_1) = \\texttt{precedence}(o_2) \\wedge o_1 \\not= o_2 \\wedge \n",
    "   \\neg\\texttt{isUnaryOperator}(o_1) \\rightarrow \n",
    "   \\texttt{evalBefore}(\\texttt{o}_1, \\texttt{o}_2) = \\texttt{True}$,\n",
    "- $\\texttt{precedence}(o_1) < \\texttt{precedence}(o_2) \\rightarrow \\texttt{evalBefore}(\\texttt{o}_1, \\texttt{o}_2) = \\texttt{False}$."
   ]
  },
  {
   "cell_type": "code",
   "execution_count": null,
   "metadata": {},
   "outputs": [],
   "source": [
    "def evalBefore(stackOp, nextOp):\n",
    "    \"your code here\"\n",
    "    assert False, f'incomplete case distinction in evalBefore({stackOp}, {nextOp})'"
   ]
  },
  {
   "cell_type": "markdown",
   "metadata": {},
   "source": [
    "The class `Calculator` supports three member variables:\n",
    "  - the token stack `mTokens`,\n",
    "  - the operator stack `mOperators`,\n",
    "  - the argument stack `mArguments`,\n",
    "  - the floating point number `mValue`, which is the current value of `x`.\n",
    "  \n",
    "The constructor takes a list of tokens `TL` and initializes the token stack with these \n",
    "tokens."
   ]
  },
  {
   "cell_type": "code",
   "execution_count": null,
   "metadata": {},
   "outputs": [],
   "source": [
    "class Calculator:\n",
    "    def __init__(self, TL, x):\n",
    "        self.mTokens     = createStack(TL)\n",
    "        self.mOperators  = Stack()\n",
    "        self.mArguments  = Stack()\n",
    "        self.mValue      = x"
   ]
  },
  {
   "cell_type": "markdown",
   "metadata": {},
   "source": [
    "The method `__str__` is used to convert an object of class `Calculator` to a string."
   ]
  },
  {
   "cell_type": "code",
   "execution_count": null,
   "metadata": {},
   "outputs": [],
   "source": [
    "def toString(self):\n",
    "    return '\\n'.join(['_'*50, \n",
    "                      'TokenStack: ' + str(self.mTokens), \n",
    "                      'Arguments:  ' + str(self.mArguments), \n",
    "                      'Operators:  ' + str(self.mOperators), \n",
    "                      '_'*50])\n",
    "\n",
    "Calculator.__str__ = toString\n",
    "del toString"
   ]
  },
  {
   "cell_type": "markdown",
   "metadata": {},
   "source": [
    "The function $\\texttt{evaluate}(\\texttt{self})$ evaluates the expression that is given by the tokens on the `mTokenStack`.  \n",
    "There are two phases:\n",
    "1. The first phase is the <em style=\"color:blue\">reading phase</em>. In this phase\n",
    "   the tokens are removed from the token stack `mTokens`.  \n",
    "2. The second phase is the <em style=\"color:blue\">evaluation phase</em>.  In this phase,\n",
    "   the remaining operators on the operator stack `mOperators` are evaluated.  Note that some operators are already \n",
    "   evaluated in the *reading phase*.\n",
    "\n",
    "We can describe what happens in the *reading phase* using \n",
    "<em style=\"color:blue\">rewrite rules</em> that describe how the three stacks `mTokens`, `mArguments` and `mOperators`\n",
    "are changed in each *step*.  Here, a *step* is one iteration of the first `while`-loop of the function `evaluate`.\n",
    "The following *rewrite rules* are executed until the token stack `mTokens` is empty.\n",
    "1. If the token on top of the token stack is an integer, it is removed from the token stack and pushed onto the argument stack.\n",
    "   The operator stack remains unchanged in this case.  \n",
    "   $$\\begin{array}{lc}\n",
    "     \\texttt{mTokens} = \\texttt{mTokensRest} + [\\texttt{token} ] & \\wedge \\\\\n",
    "     \\texttt{isInteger}(\\texttt{token}) & \\Rightarrow \\\\[0.2cm]\n",
    "     \\texttt{mArguments}' = \\texttt{mArguments} + [\\texttt{token}] & \\wedge \\\\\n",
    "     \\texttt{mTokens}' = \\texttt{mTokensRest} & \\wedge \\\\\n",
    "     \\texttt{mOperators}' = \\texttt{mOperators}\n",
    "     \\end{array} \n",
    "   $$\n",
    "   Here, the primed variable $\\texttt{mArguments}'$ refers to the argument stack after  $\\texttt{token}$\n",
    "   has been pushed onto it.\n",
    "   \n",
    "   In the following rules we implicitly assume that the token on top of the token stack is not an integer but \n",
    "   rather a parenthesis or a proper operator.  In order to be more concise, we suppress this precondition from the \n",
    "   following rewrite rules.\n",
    "2. If the operator stack is empty, the next token is pushed onto the operator stack.\n",
    "   $$\\begin{array}{lc}\n",
    "     \\texttt{mTokens} = \\texttt{mTokensRest} + [\\texttt{op} ] & \\wedge \\\\\n",
    "     \\texttt{mOperators} = [] & \\Rightarrow \\\\[0.2cm]\n",
    "     \\texttt{mOperators}' = \\texttt{mOperators} + [\\texttt{op}] & \\wedge \\\\\n",
    "     \\texttt{mTokens}' = \\texttt{mTokensRest} & \\wedge \\\\\n",
    "     \\texttt{mArguments}' = \\texttt{mArguments} \n",
    "     \\end{array} \n",
    "   $$\n",
    "3. If the next token is an opening parenthesis, this parenthesis token is pushed onto the operator stack.\n",
    "   $$\\begin{array}{lc}\n",
    "     \\texttt{mTokens} = \\texttt{mTokensRest} + [\\texttt{'('} ] & \\Rightarrow \\\\[0.2cm]\n",
    "     \\texttt{mOperators}' = \\texttt{mOperators} + [\\texttt{'('}] & \\wedge \\\\\n",
    "     \\texttt{mTokens}' = \\texttt{mTokensRest} & \\wedge \\\\\n",
    "     \\texttt{mArguments}' = \\texttt{mArguments} \n",
    "     \\end{array} \n",
    "   $$\n",
    "4. If the next token is a closing parenthesis and the operator on top of the operator stack is an opening parenthesis, then both \n",
    "   parentheses are removed.\n",
    "   $$\\begin{array}{lc}\n",
    "     \\texttt{mTokens} = \\texttt{mTokensRest} + [\\texttt{')'} ] & \\wedge \\\\\n",
    "     \\texttt{mOperators} =\\texttt{mOperatorsRest} + [\\texttt{'('}]                  & \\Rightarrow \\\\[0.2cm]\n",
    "     \\texttt{mOperators}' = \\texttt{mOperatorsRest} & \\wedge \\\\\n",
    "     \\texttt{mTokens}' = \\texttt{mTokensRest} & \\wedge \\\\\n",
    "     \\texttt{mArguments}' = \\texttt{mArguments} \n",
    "     \\end{array} \n",
    "   $$\n",
    "5. If the next token is a closing parenthesis but the operator on top of the operator stack is not an opening parenthesis, \n",
    "   the operator on top of the operator stack is evaluated.  Note that the token stack is not changed in this case.\n",
    "   $$\\begin{array}{lc}\n",
    "     \\texttt{mTokens} = \\texttt{mTokensRest} + [\\texttt{')'} ] & \\wedge \\\\\n",
    "     \\texttt{mOperatorsRest} + [\\texttt{op}]                   & \\wedge \\\\\n",
    "     \\texttt{op} \\not= \\texttt{'('}                            & \\wedge \\\\\n",
    "     \\texttt{mArguments} = \\texttt{mArgumentsRest} + [\\texttt{lhs}, \\texttt{rhs}] & \\Rightarrow \\\\[0.2cm]\n",
    "        \\texttt{mOperators}' = \\texttt{mOperatorsRest} & \\wedge \\\\\n",
    "         \\texttt{mTokens}' = \\texttt{mTokens} & \\wedge \\\\\n",
    "         \\texttt{mArguments}' = \\texttt{mArgumentsRest} + [\\texttt{lhs} \\;\\texttt{op}\\; \\texttt{rhs}]\n",
    "     \\end{array} \n",
    "   $$\n",
    "   Here, the expression $\\texttt{lhs} \\;\\texttt{op}\\; \\texttt{rhs}$ denotes evaluating the operator $\\texttt{op}$ with the arguments\n",
    "   $\\texttt{lhs}$ and $\\texttt{rhs}$.\n",
    "6. If the token on top of the operator stack is an opening parenthesis, then the operator on top of the token stack\n",
    "   is pushed onto the operator stack.\n",
    "   $$\\begin{array}{lc}\n",
    "     \\texttt{mTokens} = \\texttt{mTokensRest} + [\\texttt{op}] & \\wedge \\\\\n",
    "     \\texttt{op} \\not= \\texttt{')'}                          & \\wedge \\\\\n",
    "     \\texttt{mOperators} = \\texttt{mOperatorsRest} + [\\texttt{'('}] & \\Rightarrow \\\\[0.2cm]\n",
    "     \\texttt{mOperator}' = \\texttt{mOperator} + [\\texttt{op}] & \\wedge \\\\\n",
    "     \\texttt{mTokens}' = \\texttt{mTokensRest} & \\wedge \\\\\n",
    "     \\texttt{mArguments}' = \\texttt{mArguments}\n",
    "     \\end{array} \n",
    "   $$\n",
    "   \n",
    "   In the remaining cases neither the token on top of the token stack nor the operator on top of the operator stack can be\n",
    "   a parenthesis.  The following rules will implicitly assume that this is the case.\n",
    "7. If the operator on top of the operator stack needs to be evaluated before the operator on top of the token stack,\n",
    "   the operator on top of the operator stack is evaluated.\n",
    "      $$\\begin{array}{lc}\n",
    "        \\texttt{mTokens} = \\texttt{mTokensRest} + [o_2]                                        & \\wedge \\\\\n",
    "        \\texttt{mOperatorsRest} + [o_1]                                                        & \\wedge \\\\\n",
    "        \\texttt{evalBefore}(o_1, o_2)                                                          & \\wedge \\\\ \n",
    "        \\texttt{mArguments} = \\texttt{mArgumentsRest} + [\\texttt{lhs}, \\texttt{rhs}]           & \\Rightarrow \\\\[0.2cm]\n",
    "        \\texttt{mOperators}' = \\texttt{mOperatorRest}                                          & \\wedge \\\\\n",
    "        \\texttt{mTokens}' = \\texttt{mTokens}                                                   & \\wedge \\\\\n",
    "        \\texttt{mArguments}' = \\texttt{mArgumentsRest} + [\\texttt{lhs} \\;o_1\\; \\texttt{rhs}]\n",
    "        \\end{array} \n",
    "      $$\n",
    "8. Otherwise, the operator on top of the token stack is pushed onto the operator stack.\n",
    "   $$\\begin{array}{lc}\n",
    "         \\texttt{mTokens} = \\texttt{mTokensRest} + [o_2]           & \\wedge \\\\\n",
    "         \\texttt{mOperators} = \\texttt{mOperatorsRest} + [o_1]     & \\wedge \\\\\n",
    "         \\neg \\texttt{evalBefore}(o_1, o_2)                        & \\Rightarrow \\\\[0.2cm]\n",
    "        \\texttt{mOperators}' = \\texttt{mOperators} + [o_2]         & \\wedge \\\\\n",
    "        \\texttt{mTokens}' = \\texttt{mTokensRest}                   & \\wedge \\\\\n",
    "        \\texttt{mArguments}' = \\texttt{mArguments}\n",
    "      \\end{array} \n",
    "    $$\n",
    "   \n",
    "In every step of the evaluation phase we \n",
    "- remove one operator from the operator stack, \n",
    "- remove its arguments from the argument stack, \n",
    "- evaluate the operator, and \n",
    "- push the result back on the argument stack."
   ]
  },
  {
   "cell_type": "code",
   "execution_count": null,
   "metadata": {},
   "outputs": [],
   "source": [
    "def evaluate(self):\n",
    "    \"your code here\"\n",
    "    return self.mArguments.top()\n",
    "    \n",
    "Calculator.evaluate = evaluate\n",
    "del evaluate"
   ]
  },
  {
   "cell_type": "markdown",
   "metadata": {},
   "source": [
    "The method $\\texttt{popAndEvaluate}(\\texttt{self})$ removes an operator from the operator stack and removes the corresponding arguments from the \n",
    "arguments stack.  It evaluates the operator and pushes the result on the argument stack."
   ]
  },
  {
   "cell_type": "code",
   "execution_count": null,
   "metadata": {},
   "outputs": [],
   "source": [
    "def popAndEvaluate(self):\n",
    "    \"your code here\"\n",
    "    \n",
    "Calculator.popAndEvaluate = popAndEvaluate\n",
    "del popAndEvaluate"
   ]
  },
  {
   "cell_type": "markdown",
   "metadata": {},
   "source": [
    "The function `testEvaluateExpr` takes three arguments:\n",
    "- `s` is a string that can be interpreted as an arithmetic expression.\n",
    "  This string might contain the variable $x$. In this arithmetic expression,\n",
    "  unary function symbols need not be  be followed by parenthesis.\n",
    "- `t` is a string that contains an arithmetic expression. The syntax\n",
    "  of this expression has to follow the rules of the programming language\n",
    "  python.\n",
    "- `x` is a floating point value.  This value is supposed to be the value of\n",
    "  the variable $x$ that might occur in `s` and `t`. \n",
    "\n",
    "The function evaluates `s`using the class `Calculator`, while `t` is evaluated \n",
    "using the predefined function `eval`.  If the results differ, an exception is raised. "
   ]
  },
  {
   "cell_type": "code",
   "execution_count": null,
   "metadata": {},
   "outputs": [],
   "source": [
    "def testEvaluateExpr(s, t, x):\n",
    "    TL = tokenize(s)\n",
    "    C = Calculator(TL, x)\n",
    "    r1 = C.evaluate()\n",
    "    r2 = eval(t, { 'math': math }, { 'x': x })\n",
    "    assert r1 == r2, f'{r1} != {r2}'"
   ]
  },
  {
   "cell_type": "code",
   "execution_count": null,
   "metadata": {},
   "outputs": [],
   "source": [
    "testEvaluateExpr('sin cos x', 'math.sin(math.cos(x))', 0)"
   ]
  },
  {
   "cell_type": "code",
   "execution_count": null,
   "metadata": {},
   "outputs": [],
   "source": [
    "testEvaluateExpr('sin x**2', 'math.sin(math.pi)**2', math.pi)"
   ]
  },
  {
   "cell_type": "code",
   "execution_count": null,
   "metadata": {},
   "outputs": [],
   "source": [
    "testEvaluateExpr('log e ** x + 1 * 2 - 3', 'math.log(math.e**x) + 1 * 2 - 3 ', 1)"
   ]
  },
  {
   "cell_type": "markdown",
   "metadata": {},
   "source": [
    "The function `computeZero` takes three arguments:\n",
    "* `s` is a string that can be interpreted as a function $f$ of the variable `x`.\n",
    "  For example, `s` could be equal to `'x * x - 2.0'`.\n",
    "* `left` and `right` are floating point numbers.\n",
    "\n",
    "It is required that the function $f$ changes signs in the interval $[\\texttt{left}, \\texttt{right}]$.\n",
    "Then `computeZero` returns a floating point value $x_0$ such that $f(x_0) \\approx 0$."
   ]
  },
  {
   "cell_type": "code",
   "execution_count": null,
   "metadata": {},
   "outputs": [],
   "source": [
    "def computeZero(s, left, right):\n",
    "    TL = tokenize(s)\n",
    "\n",
    "    def f(x):\n",
    "        c = Calculator(TL, x)\n",
    "        return c.evaluate()\n",
    "\n",
    "    return findZero(f, left, right, 54);"
   ]
  },
  {
   "cell_type": "markdown",
   "metadata": {},
   "source": [
    "The cell below should output the number `0.7390851332151607`."
   ]
  },
  {
   "cell_type": "code",
   "execution_count": null,
   "metadata": {},
   "outputs": [],
   "source": [
    "computeZero('log exp x - cos(sqrt(x**2))', 0, 1)"
   ]
  },
  {
   "cell_type": "code",
   "execution_count": null,
   "metadata": {},
   "outputs": [],
   "source": []
  }
 ],
 "metadata": {
  "kernelspec": {
   "display_name": "Python 3 (ipykernel)",
   "language": "python",
   "name": "python3"
  },
  "language_info": {
   "codemirror_mode": {
    "name": "ipython",
    "version": 3
   },
   "file_extension": ".py",
   "mimetype": "text/x-python",
   "name": "python",
   "nbconvert_exporter": "python",
   "pygments_lexer": "ipython3",
   "version": "3.10.6"
  },
  "varInspector": {
   "cols": {
    "lenName": 16,
    "lenType": 16,
    "lenVar": 40
   },
   "kernels_config": {
    "python": {
     "delete_cmd_postfix": "",
     "delete_cmd_prefix": "del ",
     "library": "var_list.py",
     "varRefreshCmd": "print(var_dic_list())"
    },
    "r": {
     "delete_cmd_postfix": ") ",
     "delete_cmd_prefix": "rm(",
     "library": "var_list.r",
     "varRefreshCmd": "cat(var_dic_list()) "
    }
   },
   "types_to_exclude": [
    "module",
    "function",
    "builtin_function_or_method",
    "instance",
    "_Feature"
   ],
   "window_display": false
  }
 },
 "nbformat": 4,
 "nbformat_minor": 2
}
