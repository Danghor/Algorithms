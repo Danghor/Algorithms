{
 "cells": [
  {
   "cell_type": "code",
   "execution_count": null,
   "metadata": {},
   "outputs": [],
   "source": [
    "%%HTML\n",
    "<style>\n",
    ".container { width:100% } \n",
    "</style>"
   ]
  },
  {
   "cell_type": "markdown",
   "metadata": {},
   "source": [
    "# Topological Sorting"
   ]
  },
  {
   "cell_type": "markdown",
   "metadata": {},
   "source": [
    "The function `topo_sort` implements Kahn's algorithm for topological sorting.\n",
    "- The first argument `T` is the set of the nodes of the directed graph.\n",
    "- The second argument `D` is the set of the edges.\n",
    "\n",
    "The function returns a list `Sorted` that contains all nodes of $T$.  If\n",
    "`Sorted[i] = x`, `Sorted[j] = y`, and `(x, y) in D`,\n",
    "then we must have `i < j`."
   ]
  },
  {
   "cell_type": "code",
   "execution_count": null,
   "metadata": {},
   "outputs": [],
   "source": [
    "def topo_sort(T, D):\n",
    "    Parents  = { t: set() for t in T }  # dictionary of parents\n",
    "    Children = { t: set() for t in T }  # dictionary of children\n",
    "    for s, t in D:\n",
    "        Children[s].add(t)\n",
    "        Parents [t].add(s)\n",
    "    Orphans = { t for (t, P) in Parents.items() if len(P) == 0 }\n",
    "    Sorted  = []\n",
    "    while len(T) > 0:\n",
    "        assert Orphans != set(), 'The graph is cyclic!'\n",
    "        t        = Orphans.pop()\n",
    "        Orphans -= { t }\n",
    "        T       -= { t }\n",
    "        Sorted.append(t)\n",
    "        for s in Children[t]:\n",
    "            Parents[s] -= { t }\n",
    "            if Parents[s] == set():\n",
    "                Orphans.add(s)\n",
    "    return Sorted"
   ]
  },
  {
   "cell_type": "code",
   "execution_count": null,
   "metadata": {},
   "outputs": [],
   "source": [
    "def demo():\n",
    "    T = { 5, 7, 3, 11, 8, 2, 9, 10 }\n",
    "    D = { (5, 11), (7, 11), (7, 8), (3, 8), (3, 10), (11, 2), (11, 9), (11, 10), (8, 9) }\n",
    "    S = topo_sort(T, D)\n",
    "    print(S)"
   ]
  },
  {
   "cell_type": "code",
   "execution_count": null,
   "metadata": {},
   "outputs": [],
   "source": [
    "demo()"
   ]
  },
  {
   "cell_type": "code",
   "execution_count": null,
   "metadata": {},
   "outputs": [],
   "source": []
  }
 ],
 "metadata": {
  "kernelspec": {
   "display_name": "Python 3",
   "language": "python",
   "name": "python3"
  },
  "language_info": {
   "codemirror_mode": {
    "name": "ipython",
    "version": 3
   },
   "file_extension": ".py",
   "mimetype": "text/x-python",
   "name": "python",
   "nbconvert_exporter": "python",
   "pygments_lexer": "ipython3",
   "version": "3.7.3"
  }
 },
 "nbformat": 4,
 "nbformat_minor": 2
}
