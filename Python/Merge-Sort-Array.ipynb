{
 "cells": [
  {
   "cell_type": "code",
   "execution_count": 1,
   "metadata": {},
   "outputs": [
    {
     "data": {
      "text/html": [
       "<style>.container { width:100%; !important } </style>"
      ],
      "text/plain": [
       "<IPython.core.display.HTML object>"
      ]
     },
     "metadata": {},
     "output_type": "display_data"
    }
   ],
   "source": [
    "#%autosave 0\n",
    "from IPython.core.display import HTML, display\n",
    "display(HTML('<style>.container { width:100%; !important } </style>'))"
   ]
  },
  {
   "cell_type": "markdown",
   "metadata": {},
   "source": [
    "# Merge Sort (Array Based Implementation)"
   ]
  },
  {
   "cell_type": "markdown",
   "metadata": {},
   "source": [
    "The function $\\texttt{sort}(L)$ sorts $L$ in place using *merge sort*."
   ]
  },
  {
   "cell_type": "code",
   "execution_count": 2,
   "metadata": {},
   "outputs": [],
   "source": [
    "def sort(L):\n",
    "    A = L[:]  # A is a copy of L\n",
    "    mergeSort(L, 0, len(L), A)"
   ]
  },
  {
   "cell_type": "code",
   "execution_count": 3,
   "metadata": {},
   "outputs": [],
   "source": [
    "def mergeSort(L, start, end, A):\n",
    "    if end - start < 2:\n",
    "        return\n",
    "    middle = (start + end) // 2\n",
    "    mergeSort(L, start,  middle, A)\n",
    "    mergeSort(L, middle, end   , A)\n",
    "    merge(L, start, middle, end, A)"
   ]
  },
  {
   "cell_type": "code",
   "execution_count": 4,
   "metadata": {},
   "outputs": [],
   "source": [
    "def merge(L, start, middle, end, A):\n",
    "    for i in range(start, end):\n",
    "        A[i] = L[i]\n",
    "    idx1 = start\n",
    "    idx2 = middle\n",
    "    i    = start\n",
    "    while idx1 < middle and idx2 < end:\n",
    "        if A[idx1] <= A[idx2]:\n",
    "            L[i]  = A[idx1]\n",
    "            idx1 += 1\n",
    "        else:\n",
    "            L[i]  = A[idx2]\n",
    "            idx2 += 1\n",
    "        i += 1\n",
    "    while idx1 < middle:\n",
    "        L[i]  = A[idx1]\n",
    "        idx1 += 1\n",
    "        i    += 1\n",
    "    while idx2 < end:\n",
    "        L[i]  = A[idx2]\n",
    "        idx2 += 1\n",
    "        i    += 1"
   ]
  },
  {
   "cell_type": "code",
   "execution_count": 5,
   "metadata": {},
   "outputs": [
    {
     "data": {
      "text/plain": [
       "[2, 2, 3, 3, 5, 7, 7, 8, 9, 11, 12]"
      ]
     },
     "execution_count": 5,
     "metadata": {},
     "output_type": "execute_result"
    }
   ],
   "source": [
    "L = [7, 8, 11, 12, 2, 5, 3, 7, 9, 3, 2]\n",
    "sort(L)\n",
    "L"
   ]
  },
  {
   "cell_type": "code",
   "execution_count": null,
   "metadata": {},
   "outputs": [],
   "source": []
  }
 ],
 "metadata": {
  "kernelspec": {
   "display_name": "Python 3",
   "language": "python",
   "name": "python3"
  },
  "language_info": {
   "codemirror_mode": {
    "name": "ipython",
    "version": 3
   },
   "file_extension": ".py",
   "mimetype": "text/x-python",
   "name": "python",
   "nbconvert_exporter": "python",
   "pygments_lexer": "ipython3",
   "version": "3.6.7"
  }
 },
 "nbformat": 4,
 "nbformat_minor": 2
}
