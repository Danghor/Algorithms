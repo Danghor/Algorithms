{
 "cells": [
  {
   "cell_type": "code",
   "execution_count": 1,
   "metadata": {},
   "outputs": [
    {
     "data": {
      "text/html": [
       "<style>.container { width:100%; !important } </style>"
      ],
      "text/plain": [
       "<IPython.core.display.HTML object>"
      ]
     },
     "metadata": {},
     "output_type": "display_data"
    }
   ],
   "source": [
    "#%autosave 0\n",
    "from IPython.core.display import HTML, display\n",
    "display(HTML('<style>.container { width:100%; !important } </style>'))"
   ]
  },
  {
   "cell_type": "markdown",
   "metadata": {},
   "source": [
    "# An Array-Based Implementation of Quick-Sort"
   ]
  },
  {
   "cell_type": "markdown",
   "metadata": {},
   "source": [
    "The function $\\texttt{sort}(L)$ sorts the list $L$ in place."
   ]
  },
  {
   "cell_type": "code",
   "execution_count": 2,
   "metadata": {},
   "outputs": [],
   "source": [
    "def sort(L):\n",
    "    quickSort(0, len(L) - 1, L)"
   ]
  },
  {
   "cell_type": "markdown",
   "metadata": {},
   "source": [
    "The function $\\texttt{quickSort}(a, b, L)$ sorts the sublist $L[a:b+1]$ in place."
   ]
  },
  {
   "cell_type": "code",
   "execution_count": 3,
   "metadata": {},
   "outputs": [],
   "source": [
    "def quickSort(a, b, L):\n",
    "    if b <= a:\n",
    "        return  # at most one element, nothing to do\n",
    "    m = partition(a, b, L)  # m is the split index\n",
    "    quickSort(a, m - 1, L)\n",
    "    quickSort(m + 1, b, L)"
   ]
  },
  {
   "cell_type": "markdown",
   "metadata": {},
   "source": [
    "The function $\\texttt{partition}(\\texttt{start}, \\texttt{end}, L)$ returns an index $m$ into the list $L$ and \n",
    "regroups the elements of $L$ such that after the function returns the following holds:\n",
    " \n",
    "  - $\\forall i \\in \\{\\texttt{start}, \\cdots, m-1\\} : L[i] \\leq L[m]$,\n",
    "  - $\\forall i \\in \\{ m+1, \\cdots, \\texttt{end} \\}  : L[m] <    L[i]$,\n",
    "  - $L[m] = \\texttt{pivot}$.\n",
    "  \n",
    "Here, $\\texttt{pivot}$ is the element that is at the index $\\texttt{end}$ at the time of the invocation \n",
    "of the function, i.e. we have\n",
    "\n",
    "  - $L[\\texttt{end}] = \\texttt{pivot}$\n",
    "  \n",
    "at invocation time.\n",
    "  \n",
    "The for-loop of `partition` maintains the following invariants:\n",
    "\n",
    " - $\\forall i \\in \\{\\texttt{start}, \\cdots, \\texttt{left} \\} : L[i] \\leq \\texttt{pivot}$,\n",
    " - $\\forall i \\in \\{\\texttt{left}+1, \\cdots, \\texttt{idx}-1\\} : \\texttt{pivot} < L[i]$,\n",
    " - $L[\\texttt{end}] = \\texttt{pivot}$.\n",
    " \n",
    "This algorithm has been suggested by Nico Lomuto.  It is not the most efficient implementation of `partition`, but\n",
    "it is easier to understand than the algorithms that use two separate loops."
   ]
  },
  {
   "cell_type": "code",
   "execution_count": 4,
   "metadata": {},
   "outputs": [],
   "source": [
    "def partition(start, end, L):\n",
    "    pivot = L[end]\n",
    "    left  = start - 1\n",
    "    for idx in range(start, end):\n",
    "        if L[idx] <= pivot:\n",
    "            left += 1\n",
    "            swap(left, idx, L)\n",
    "    swap(left + 1, end, L)\n",
    "    return left + 1"
   ]
  },
  {
   "cell_type": "markdown",
   "metadata": {},
   "source": [
    "The function $\\texttt{swap}(x, y, L)$ swaps the elements at index $x$ and $y$ in $L$."
   ]
  },
  {
   "cell_type": "code",
   "execution_count": 5,
   "metadata": {},
   "outputs": [],
   "source": [
    "def swap(x, y, L):\n",
    "    L[x], L[y] = L[y], L[x]"
   ]
  },
  {
   "cell_type": "markdown",
   "metadata": {},
   "source": [
    "## Testing"
   ]
  },
  {
   "cell_type": "code",
   "execution_count": 6,
   "metadata": {},
   "outputs": [],
   "source": [
    "import random as rnd"
   ]
  },
  {
   "cell_type": "code",
   "execution_count": 7,
   "metadata": {},
   "outputs": [],
   "source": [
    "def demo():\n",
    "    L = [ rnd.randrange(1, 200) for n in range(1, 16) ]\n",
    "    print(\"L = \", L)\n",
    "    sort(L)\n",
    "    print(\"L = \", L)"
   ]
  },
  {
   "cell_type": "code",
   "execution_count": 8,
   "metadata": {},
   "outputs": [
    {
     "name": "stdout",
     "output_type": "stream",
     "text": [
      "L =  [147, 193, 87, 27, 99, 140, 29, 155, 124, 97, 43, 184, 132, 199, 48]\n",
      "L =  [27, 29, 43, 48, 87, 97, 99, 124, 132, 140, 147, 155, 184, 193, 199]\n"
     ]
    }
   ],
   "source": [
    "demo()"
   ]
  },
  {
   "cell_type": "code",
   "execution_count": 9,
   "metadata": {},
   "outputs": [],
   "source": [
    "def isOrdered(L):\n",
    "    for i in range(len(L) - 1):\n",
    "        assert L[i] <= L[i+1]"
   ]
  },
  {
   "cell_type": "code",
   "execution_count": 10,
   "metadata": {},
   "outputs": [],
   "source": [
    "def sameElements(L, S):\n",
    "    assert set(L) == set(S)"
   ]
  },
  {
   "cell_type": "markdown",
   "metadata": {},
   "source": [
    "The function $\\texttt{testSort}(n, k)$ generates $n$ random lists of length $k$, sorts them, and checks whether the output is sorted and contains the same elements as the input."
   ]
  },
  {
   "cell_type": "code",
   "execution_count": 11,
   "metadata": {},
   "outputs": [],
   "source": [
    "def testSort(n, k):\n",
    "    for i in range(n):\n",
    "        L = [ rnd.randrange(2*k) for x in range(k) ]\n",
    "        oldL = L[:]\n",
    "        sort(L)\n",
    "        isOrdered(L)\n",
    "        sameElements(oldL, L)\n",
    "        assert len(L) == len(oldL)\n",
    "        print('.', end='')\n",
    "    print()\n",
    "    print(\"All tests successful!\")"
   ]
  },
  {
   "cell_type": "code",
   "execution_count": 12,
   "metadata": {},
   "outputs": [
    {
     "name": "stdout",
     "output_type": "stream",
     "text": [
      "....................................................................................................\n",
      "All tests successful!\n",
      "CPU times: user 8.17 s, sys: 49.4 ms, total: 8.22 s\n",
      "Wall time: 8.21 s\n"
     ]
    }
   ],
   "source": [
    "%%time\n",
    "testSort(100, 20000)"
   ]
  },
  {
   "cell_type": "markdown",
   "metadata": {},
   "source": [
    "Next, we sort a million random integers."
   ]
  },
  {
   "cell_type": "code",
   "execution_count": 13,
   "metadata": {},
   "outputs": [],
   "source": [
    "k = 1000000\n",
    "L = [ rnd.randrange(2 * k) for x in range(k) ]"
   ]
  },
  {
   "cell_type": "code",
   "execution_count": 14,
   "metadata": {},
   "outputs": [
    {
     "name": "stdout",
     "output_type": "stream",
     "text": [
      "CPU times: user 4.38 s, sys: 6.61 ms, total: 4.39 s\n",
      "Wall time: 4.39 s\n"
     ]
    }
   ],
   "source": [
    "%%time\n",
    "sort(L)"
   ]
  },
  {
   "cell_type": "markdown",
   "metadata": {},
   "source": [
    "Again, we sort a million integers.  This time, many of the integers have the same value."
   ]
  },
  {
   "cell_type": "code",
   "execution_count": 15,
   "metadata": {},
   "outputs": [],
   "source": [
    "L = [ rnd.randrange(1000) for x in range(k) ]"
   ]
  },
  {
   "cell_type": "code",
   "execution_count": 16,
   "metadata": {},
   "outputs": [
    {
     "name": "stdout",
     "output_type": "stream",
     "text": [
      "CPU times: user 1min 59s, sys: 89 ms, total: 1min 59s\n",
      "Wall time: 2min\n"
     ]
    }
   ],
   "source": [
    "%%time\n",
    "sort(L)"
   ]
  },
  {
   "cell_type": "markdown",
   "metadata": {},
   "source": [
    "Next, we test the worst case and sort 5000 integers that are sorted ascendingly.  Since quicksort is recursive, we have to increment the *recursion limit* of *Python*, because otherwise we would get an error that we exceed the maximum recursion depth."
   ]
  },
  {
   "cell_type": "code",
   "execution_count": 17,
   "metadata": {},
   "outputs": [],
   "source": [
    "import sys"
   ]
  },
  {
   "cell_type": "code",
   "execution_count": 18,
   "metadata": {},
   "outputs": [],
   "source": [
    "sys.setrecursionlimit(10000)"
   ]
  },
  {
   "cell_type": "code",
   "execution_count": 19,
   "metadata": {},
   "outputs": [],
   "source": [
    "L = list(range(5000))"
   ]
  },
  {
   "cell_type": "code",
   "execution_count": 20,
   "metadata": {},
   "outputs": [
    {
     "name": "stdout",
     "output_type": "stream",
     "text": [
      "CPU times: user 2.81 s, sys: 3.7 ms, total: 2.82 s\n",
      "Wall time: 2.82 s\n"
     ]
    }
   ],
   "source": [
    "%%time\n",
    "sort(L)"
   ]
  },
  {
   "cell_type": "markdown",
   "metadata": {},
   "source": [
    "If we shuffle the list to be sorted before sorting, the worst case behaviour disappears."
   ]
  },
  {
   "cell_type": "code",
   "execution_count": 21,
   "metadata": {},
   "outputs": [],
   "source": [
    "import random"
   ]
  },
  {
   "cell_type": "code",
   "execution_count": 22,
   "metadata": {},
   "outputs": [],
   "source": [
    "random.shuffle(L)"
   ]
  },
  {
   "cell_type": "code",
   "execution_count": 23,
   "metadata": {},
   "outputs": [
    {
     "name": "stdout",
     "output_type": "stream",
     "text": [
      "CPU times: user 15.1 ms, sys: 743 µs, total: 15.8 ms\n",
      "Wall time: 15.3 ms\n"
     ]
    }
   ],
   "source": [
    "%%time\n",
    "sort(L)"
   ]
  },
  {
   "cell_type": "code",
   "execution_count": null,
   "metadata": {},
   "outputs": [],
   "source": []
  }
 ],
 "metadata": {
  "kernelspec": {
   "display_name": "Python 3",
   "language": "python",
   "name": "python3"
  },
  "language_info": {
   "codemirror_mode": {
    "name": "ipython",
    "version": 3
   },
   "file_extension": ".py",
   "mimetype": "text/x-python",
   "name": "python",
   "nbconvert_exporter": "python",
   "pygments_lexer": "ipython3",
   "version": "3.6.6"
  }
 },
 "nbformat": 4,
 "nbformat_minor": 2
}
