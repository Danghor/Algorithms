{
 "cells": [
  {
   "cell_type": "code",
   "execution_count": null,
   "metadata": {},
   "outputs": [],
   "source": [
    "from IPython.core.display import HTML\n",
    "with open('../style.css') as file:\n",
    "    css = file.read()\n",
    "HTML(css)"
   ]
  },
  {
   "cell_type": "markdown",
   "metadata": {},
   "source": [
    "# Three-Way Merge Sort"
   ]
  },
  {
   "cell_type": "markdown",
   "metadata": {},
   "source": [
    "In order to sort a list $L$ using <em style=\"color:blue;\">merge sort</em> we proceed as follows:\n",
    "\n",
    " - If $L$ has less than two elements, then $L$ is already sorted.  Therefore we have: \n",
    "   $$ \\#L < 2 \\rightarrow \\mathtt{sort}(L) = L $$\n",
    " - Otherwise, the list $L$ is split into three lists that have approximately the same size.\n",
    "   These lists are sorted recursively.  Then, the sorted lists are merged in a way that the\n",
    "   resulting list is sorted: \n",
    "   $$ \\#L \\geq 2 \\rightarrow \\mathtt{sort}(L) =\n",
    "         \\mathtt{merge3}\\bigl(\\mathtt{sort}\\bigl(\\texttt{L[:n//3]}\\bigr),\n",
    "                              \\mathtt{sort}\\bigl(\\texttt{L[n//3:2$\\cdot$n//3]}\\bigr),\n",
    "                              \\mathtt{sort}\\bigl(\\texttt{L[2$\\cdot$n//3:]}\\bigr)\\bigr)\n",
    "   $$\n",
    "   Here, `L[:n//3]` is the first part of the list, while\n",
    "   `L[n//3:2*n//3]}` is the second part and `L[2*n//3:]` is the last part."
   ]
  },
  {
   "cell_type": "code",
   "execution_count": null,
   "metadata": {},
   "outputs": [],
   "source": [
    "def sort(L):\n",
    "    n = len(L)\n",
    "    if n < 2:\n",
    "        return L\n",
    "    L1, L2, L3 = L[:n//3], L[n//3:2*n//3], L[2*n//3:]\n",
    "    return merge3(sort(L1), sort(L2), sort(L3))"
   ]
  },
  {
   "cell_type": "markdown",
   "metadata": {},
   "source": [
    "We still need to specify how three sorted lists $L_1$, $L_2$, and $L_3$ are merged in a way that the \n",
    "resulting list is also sorted.\n",
    "\n",
    " - If the list $L_1$ is empty, the result is the merge of $L_2$ and $L_3$: \n",
    "   $$ \\mathtt{merge3}([], L_2, L_3) = \\mathtt{merge}(L_2, L_3) $$\n",
    " - If the list $L_2$ is empty, the result is the merge of $L_1$ and $L_3$: \n",
    "   $$ \\mathtt{merge3}(L_2, [], L_3) = \\mathtt{merge}(L_1, L_3) $$\n",
    " - If the list $L_3$ is empty, the result is the merge of $L_1$ and $L_2$: \n",
    "   $$ \\mathtt{merge3}(L_1, L_2, []) = \\mathtt{merge}(L_1, L_2) $$\n",
    " - Otherwise, the lists $L_1$, $L_2$, $L_3$ must have the form \n",
    "   * $L_1 = [x_1] + R_1$,\n",
    "   * $L_2 = [x_2] + R_2$, and\n",
    "   * $L_3 = [x_3] + R_3$.\n",
    "   \n",
    "   Then there is a case distinction with respect to the minimum of $x_1$, $x_2$, and $x_3$:\n",
    "   - $x_1 = \\min(x_1, x_2, x_3) \\rightarrow\n",
    "     \\mathtt{merge3}\\bigl(L_1, L_2, L_3\\bigr) = \n",
    "     \\bigl[x_1\\bigr] + \\mathtt{merge}\\bigl(R_1, L_2, L_3\\bigr)$\n",
    "   - $x_2 = \\min(x_1, x_2, x_3) \\rightarrow\n",
    "     \\mathtt{merge3}\\bigl(L_1, L_2, L_3\\bigr) = \n",
    "     \\bigl[x_2\\bigr] + \\mathtt{merge}\\bigl(L_1, R_2, L_3\\bigr)$\n",
    "   - $x_3 = \\min(x_1, x_2, x_3) \\rightarrow\n",
    "     \\mathtt{merge3}\\bigl(L_1, L_2, L_3\\bigr) = \n",
    "     \\bigl[x_3\\bigr] + \\mathtt{merge}\\bigl(L_1, L_2, R_3\\bigr)$\n",
    "\n",
    "\n"
   ]
  },
  {
   "cell_type": "code",
   "execution_count": null,
   "metadata": {},
   "outputs": [],
   "source": [
    "def merge3(L1, L2, L3):\n",
    "    if L1 == []:\n",
    "        return merge(L2, L3)\n",
    "    if L2 == []:\n",
    "        return merge(L1, L3)\n",
    "    if L3 == []:\n",
    "        return merge(L1, L2)\n",
    "    x1, *R1 = L1\n",
    "    x2, *R2 = L2\n",
    "    x3, *R3 = L3\n",
    "    if x1 <= x2:\n",
    "        if x1 <= x3:\n",
    "            return [x1] + merge3(R1, L2, L3)\n",
    "        else: # x3 < x1\n",
    "            return [x3] + merge3(L1, L2, R3)\n",
    "    else: # x2 < x1\n",
    "        if x2 <= x3:\n",
    "            return [x2] + merge3(L1, R2, L3)\n",
    "        else: # x3 < x2\n",
    "            return [x3] + merge3(L1, L2, R3)"
   ]
  },
  {
   "cell_type": "code",
   "execution_count": null,
   "metadata": {},
   "outputs": [],
   "source": [
    "def merge(L1, L2):\n",
    "    if L1 == []:\n",
    "        return L2\n",
    "    if L2 == []:\n",
    "        return L1\n",
    "    x1, *R1 = L1\n",
    "    x2, *R2 = L2\n",
    "    if x1 <= x2:\n",
    "        return [x1] + merge(R1, L2)\n",
    "    else:\n",
    "        return [x2] + merge(L1, R2)"
   ]
  },
  {
   "cell_type": "code",
   "execution_count": null,
   "metadata": {},
   "outputs": [],
   "source": [
    "sort([7, 8, 11, 12, 2, 5, 3, 7, 9, 3, 2])"
   ]
  },
  {
   "cell_type": "markdown",
   "metadata": {},
   "source": [
    "## Testing"
   ]
  },
  {
   "cell_type": "markdown",
   "metadata": {},
   "source": [
    "We import the module `random` in order to be able to create lists of random numbers that are used for testing."
   ]
  },
  {
   "cell_type": "code",
   "execution_count": null,
   "metadata": {},
   "outputs": [],
   "source": [
    "import random as rnd"
   ]
  },
  {
   "cell_type": "code",
   "execution_count": null,
   "metadata": {},
   "outputs": [],
   "source": [
    "from collections import Counter"
   ]
  },
  {
   "cell_type": "markdown",
   "metadata": {},
   "source": [
    "The function `isOrdered(L)` checks that the list `L` is sorted ascendingly."
   ]
  },
  {
   "cell_type": "code",
   "execution_count": null,
   "metadata": {},
   "outputs": [],
   "source": [
    "def isOrdered(L):\n",
    "    for i in range(len(L) - 1):\n",
    "        assert L[i] <= L[i+1], f'{L} not ordered at {i}'"
   ]
  },
  {
   "cell_type": "markdown",
   "metadata": {},
   "source": [
    "The function `sameElements(L, S)` returns `True`if the lists `L` and `S` contain the same elements and, furthermore, each \n",
    "element $x$ occurring in `L` occurs in `S` the same number of times it occurs in `L`."
   ]
  },
  {
   "cell_type": "code",
   "execution_count": null,
   "metadata": {},
   "outputs": [],
   "source": [
    "def sameElements(L, S):\n",
    "    assert Counter(L) == Counter(S)"
   ]
  },
  {
   "cell_type": "markdown",
   "metadata": {},
   "source": [
    "The function $\\texttt{testSort}(n, k)$ generates $n$ random lists of length $k$, sorts them, and checks whether the output is sorted and contains the same elements as the input."
   ]
  },
  {
   "cell_type": "code",
   "execution_count": null,
   "metadata": {},
   "outputs": [],
   "source": [
    "def testSort(n, k):\n",
    "    for i in range(n):\n",
    "        L = [ rnd.randrange(2*k) for x in range(k) ]\n",
    "        S = sort(L)\n",
    "        isOrdered(S)\n",
    "        sameElements(L, S)\n",
    "        print('.', end='')\n",
    "    print()\n",
    "    print(\"All tests successful!\")"
   ]
  },
  {
   "cell_type": "markdown",
   "metadata": {},
   "source": [
    "Due to the *recursion limit* in Python we can only sort lists of length 2000."
   ]
  },
  {
   "cell_type": "code",
   "execution_count": null,
   "metadata": {},
   "outputs": [],
   "source": [
    "%%time\n",
    "testSort(100, 2000)"
   ]
  },
  {
   "cell_type": "code",
   "execution_count": null,
   "metadata": {},
   "outputs": [],
   "source": []
  }
 ],
 "metadata": {
  "kernelspec": {
   "display_name": "Python 3",
   "language": "python",
   "name": "python3"
  },
  "language_info": {
   "codemirror_mode": {
    "name": "ipython",
    "version": 3
   },
   "file_extension": ".py",
   "mimetype": "text/x-python",
   "name": "python",
   "nbconvert_exporter": "python",
   "pygments_lexer": "ipython3",
   "version": "3.9.2"
  },
  "varInspector": {
   "cols": {
    "lenName": 16,
    "lenType": 16,
    "lenVar": 40
   },
   "kernels_config": {
    "python": {
     "delete_cmd_postfix": "",
     "delete_cmd_prefix": "del ",
     "library": "var_list.py",
     "varRefreshCmd": "print(var_dic_list())"
    },
    "r": {
     "delete_cmd_postfix": ") ",
     "delete_cmd_prefix": "rm(",
     "library": "var_list.r",
     "varRefreshCmd": "cat(var_dic_list()) "
    }
   },
   "types_to_exclude": [
    "module",
    "function",
    "builtin_function_or_method",
    "instance",
    "_Feature"
   ],
   "window_display": false
  }
 },
 "nbformat": 4,
 "nbformat_minor": 2
}
