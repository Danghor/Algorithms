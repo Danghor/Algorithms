{
 "cells": [
  {
   "cell_type": "code",
   "execution_count": null,
   "metadata": {},
   "outputs": [],
   "source": [
    "#%autosave 0\n",
    "from IPython.core.display import HTML, display\n",
    "display(HTML('<style>.container { width:100%; !important } </style>'))"
   ]
  },
  {
   "cell_type": "markdown",
   "metadata": {},
   "source": [
    "# An Object-Oriented Implementation of the Union-Find Algorithm"
   ]
  },
  {
   "cell_type": "markdown",
   "metadata": {},
   "source": [
    "The class `UnionFind` maintains three member variables:\n",
    "  - `mParent` is a dictionary that assigns each node to its parent node.\n",
    "    Initially, all nodes point to themselves.\n",
    "  - `mHeight` is a dictionary that stores the height of the trees.  If $x$ is a node, then\n",
    "    $\\texttt{mHeight}[x]$ is the height of the tree rooted at $x$.\n",
    "    Initially, all trees contain but a single node and therefore have the height $1$.\n",
    "  - `mSize` is a dictionary that stores the number of nodes of the trees.\n",
    "    If $x$ is a node, then $\\texttt{mSize}[x]$ is the number of nodes of the tree rooted at $x$."
   ]
  },
  {
   "cell_type": "code",
   "execution_count": null,
   "metadata": {},
   "outputs": [],
   "source": [
    "class UnionFind:\n",
    "    def __init__(self, M):\n",
    "        self.mParent = { x: x for x in M }\n",
    "        self.mHeight = { x: 1 for x in M }\n",
    "        self.mSize   = { x: 1 for x in M }"
   ]
  },
  {
   "cell_type": "markdown",
   "metadata": {},
   "source": [
    "Given an element $x$ from the set $M$, the function $\\texttt{self}.\\texttt{find}(x)$ \n",
    "returns the ancestor of $x$ that is at the root of the tree containing $x$."
   ]
  },
  {
   "cell_type": "code",
   "execution_count": null,
   "metadata": {},
   "outputs": [],
   "source": [
    "def find(self, x):\n",
    "    p = self.mParent[x]\n",
    "    if p == x:\n",
    "        return x\n",
    "    return self.find(p)\n",
    "\n",
    "UnionFind.find = find"
   ]
  },
  {
   "cell_type": "code",
   "execution_count": null,
   "metadata": {},
   "outputs": [],
   "source": [
    "def union(self, x, y):\n",
    "    root_x = self.find(x)\n",
    "    root_y = self.find(y)\n",
    "    if root_x != root_y:\n",
    "        if self.mHeight[root_x] < self.mHeight[root_y]:\n",
    "            self.mParent[root_x]  = root_y\n",
    "            self.mSize  [root_y] += self.mSize[root_x]\n",
    "        elif self.mHeight[root_x] > self.mHeight[root_y]:\n",
    "            self.mParent[root_y]  = root_x\n",
    "            self.mSize  [root_x] += self.mSize[root_y]\n",
    "        else:\n",
    "            self.mParent[root_y]  = root_x\n",
    "            self.mHeight[root_x] += 1\n",
    "            self.mSize  [root_x] += self.mSize[root_y]\n",
    "                \n",
    "UnionFind.union = union"
   ]
  },
  {
   "cell_type": "code",
   "execution_count": null,
   "metadata": {},
   "outputs": [],
   "source": [
    "def partition(M, R):\n",
    "    UF = UnionFind(M)\n",
    "    for x, y in R:\n",
    "        UF.union(x, y)\n",
    "    Roots = { (x, UF.mSize[x]) for x in M if UF.find(x) == x }\n",
    "    return [{y for y in M if UF.find(y) == r} for (r, _) in Roots]"
   ]
  },
  {
   "cell_type": "code",
   "execution_count": null,
   "metadata": {},
   "outputs": [],
   "source": [
    "def demo():\n",
    "    M = set(range(1, 10))\n",
    "    R = { (1, 4), (7, 9), (3, 5), (2, 6), (5, 8), (1, 9), (4, 7) }\n",
    "    P = partition(M, R)\n",
    "    return P"
   ]
  },
  {
   "cell_type": "code",
   "execution_count": null,
   "metadata": {},
   "outputs": [],
   "source": [
    "P = demo()\n",
    "P"
   ]
  },
  {
   "cell_type": "code",
   "execution_count": null,
   "metadata": {},
   "outputs": [],
   "source": []
  }
 ],
 "metadata": {
  "kernelspec": {
   "display_name": "Python 3",
   "language": "python",
   "name": "python3"
  },
  "language_info": {
   "codemirror_mode": {
    "name": "ipython",
    "version": 3
   },
   "file_extension": ".py",
   "mimetype": "text/x-python",
   "name": "python",
   "nbconvert_exporter": "python",
   "pygments_lexer": "ipython3",
   "version": "3.6.7"
  }
 },
 "nbformat": 4,
 "nbformat_minor": 2
}
