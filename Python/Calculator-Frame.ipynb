{
 "cells": [
  {
   "cell_type": "code",
   "execution_count": 1,
   "metadata": {},
   "outputs": [
    {
     "data": {
      "application/javascript": [
       "IPython.notebook.set_autosave_interval(0)"
      ]
     },
     "metadata": {},
     "output_type": "display_data"
    },
    {
     "name": "stdout",
     "output_type": "stream",
     "text": [
      "Autosave disabled\n"
     ]
    },
    {
     "data": {
      "text/html": [
       "<style>.container { width:100%; !important } </style>"
      ],
      "text/plain": [
       "<IPython.core.display.HTML object>"
      ]
     },
     "metadata": {},
     "output_type": "display_data"
    }
   ],
   "source": [
    "%autosave 0\n",
    "from IPython.core.display import HTML, display\n",
    "display(HTML('<style>.container { width:100%; !important } </style>'))"
   ]
  },
  {
   "cell_type": "markdown",
   "metadata": {},
   "source": [
    "# The Shunting Yard Algorithm (Operator Precedence Parsing)"
   ]
  },
  {
   "cell_type": "markdown",
   "metadata": {},
   "source": [
    "The module `re` provides support for <a href='https://en.wikipedia.org/wiki/Regular_expression'>regular expressions</a>.  These are needed for\n",
    "<em style=\"color:blue;\">tokenizing</em> a string."
   ]
  },
  {
   "cell_type": "code",
   "execution_count": 2,
   "metadata": {},
   "outputs": [],
   "source": [
    "import re"
   ]
  },
  {
   "cell_type": "markdown",
   "metadata": {},
   "source": [
    "The module `math` provides a number of mathematical functions like `exp`, `sin`, `log` etc."
   ]
  },
  {
   "cell_type": "code",
   "execution_count": 3,
   "metadata": {},
   "outputs": [],
   "source": [
    "import math"
   ]
  },
  {
   "cell_type": "markdown",
   "metadata": {},
   "source": [
    "The function $\\texttt{isWhiteSpace}(s)$ checks whether $s$ contains only blanks and tabulators."
   ]
  },
  {
   "cell_type": "code",
   "execution_count": 4,
   "metadata": {},
   "outputs": [],
   "source": [
    "def isWhiteSpace(s):\n",
    "    whitespace = re.compile(r'[ \\t]+')\n",
    "    return whitespace.fullmatch(s)"
   ]
  },
  {
   "cell_type": "markdown",
   "metadata": {},
   "source": [
    "The function $\\texttt{toInt}(s)$ tries to convert the string $s$ to an integer.  If this works out, the integer is returned.  Otherwise, the string $s$ is returned unchanged."
   ]
  },
  {
   "cell_type": "code",
   "execution_count": 5,
   "metadata": {},
   "outputs": [],
   "source": [
    "def toInt(s):\n",
    "    try:\n",
    "        return int(s)   \n",
    "    except ValueError:\n",
    "        return s"
   ]
  },
  {
   "cell_type": "markdown",
   "metadata": {},
   "source": [
    "The function $\\texttt{tokenize}(s)$ takes a string and splits this string into a list of tokens.  Whitespace is discarded."
   ]
  },
  {
   "cell_type": "code",
   "execution_count": null,
   "metadata": {},
   "outputs": [],
   "source": [
    "def tokenize(s):\n",
    "    regExp = r'''\n",
    "              0|[1-9][0-9]* |             # number\n",
    "              \\*\\*          |             # power operator\n",
    "              [-+*/%()]     |             # arithmetic operators and parentheses\n",
    "              [ \\t]+        |             # white space\n",
    "              sin           |\n",
    "              cos           |\n",
    "              tan           |   \n",
    "              asin          |\n",
    "              acos          |\n",
    "              atan          |\n",
    "              exp           |\n",
    "              log           |\n",
    "              x             |\n",
    "              e             |\n",
    "              pi\n",
    "              '''\n",
    "    L = [toInt(t) for t in re.findall(regExp, s, flags=re.VERBOSE) if not isWhiteSpace(t)]\n",
    "    return list(reversed(L))"
   ]
  },
  {
   "cell_type": "code",
   "execution_count": null,
   "metadata": {},
   "outputs": [],
   "source": [
    "tokenize('x**2 - 2')"
   ]
  },
  {
   "cell_type": "markdown",
   "metadata": {},
   "source": [
    "The function $\\texttt{findZero}(f, a, b, n)$ takes a function $f$ and two numbers $a$ and $b$ such that\n",
    "\n",
    "  - $a < b$,\n",
    "  - $f(a) \\leq 0$, and \n",
    "  - $0 \\leq f(b)$.\n",
    "  \n",
    "It uses the bisection method to find a number $x \\in [a, b]$ such that $f(x) \\approx 0$."
   ]
  },
  {
   "cell_type": "code",
   "execution_count": null,
   "metadata": {},
   "outputs": [],
   "source": [
    "def findZero(f, a, b, n):\n",
    "    assert a < b    , f'{a} has to be less than {b}'\n",
    "    assert f(a) <= 0, f'f({a}) > 0'\n",
    "    assert 0 <= f(b), f'0 > f({b})'\n",
    "    for k in range(n):\n",
    "        c = 1/2 * (a + b)\n",
    "        print(f'f({c}) = {f(c)}, {b-a}')\n",
    "        if f(c) < 0:\n",
    "            a = c\n",
    "        elif f(c) > 0:\n",
    "            b = c\n",
    "        else:\n",
    "            return c\n",
    "    return (a + b) / 2"
   ]
  },
  {
   "cell_type": "code",
   "execution_count": null,
   "metadata": {},
   "outputs": [],
   "source": [
    "def f(x):\n",
    "    return x ** 2 - 2"
   ]
  },
  {
   "cell_type": "code",
   "execution_count": null,
   "metadata": {},
   "outputs": [],
   "source": [
    "findZero(f, 0, 2, 54)"
   ]
  },
  {
   "cell_type": "markdown",
   "metadata": {},
   "source": [
    "The function $\\texttt{precedence}(o)$ calculates the precedence of the operator $o$."
   ]
  },
  {
   "cell_type": "code",
   "execution_count": null,
   "metadata": {},
   "outputs": [],
   "source": [
    "def precedence(op):\n",
    "    if op in [\"+\", \"-\"]: \n",
    "        return 1\n",
    "    if op in [\"*\", \"/\", \"%\"]: \n",
    "        return 2\n",
    "    if op == \"**\": \n",
    "        return 3\n",
    "    if isUnaryOperator(op): \n",
    "        return 4\n",
    "    if isConstOperator(op): \n",
    "        return 5\n",
    "    assert False, f'unkown operator in precedence: {op}'"
   ]
  },
  {
   "cell_type": "markdown",
   "metadata": {},
   "source": [
    "The function $\\texttt{isUnaryOperator}(o)$ returns `True` of $o$ is a unary operator."
   ]
  },
  {
   "cell_type": "code",
   "execution_count": null,
   "metadata": {},
   "outputs": [],
   "source": [
    "def isUnaryOperator(op):\n",
    "    \"to be implemented\""
   ]
  },
  {
   "cell_type": "markdown",
   "metadata": {},
   "source": [
    "The function $\\texttt{isConstOperator}(o)$ returns `True` of $o$ is a constant like `e`or `pi`."
   ]
  },
  {
   "cell_type": "code",
   "execution_count": null,
   "metadata": {},
   "outputs": [],
   "source": [
    "def isConstOperator(op):\n",
    "    \"to be implemented\""
   ]
  },
  {
   "cell_type": "markdown",
   "metadata": {},
   "source": [
    "The function $\\texttt{isLeftAssociative}(o)$ returns `True` of $o$ is left associative."
   ]
  },
  {
   "cell_type": "code",
   "execution_count": null,
   "metadata": {},
   "outputs": [],
   "source": [
    "def isLeftAssociative(op):\n",
    "    \"to be implemented\""
   ]
  },
  {
   "cell_type": "markdown",
   "metadata": {},
   "source": [
    "The function $\\texttt{evalBefore}(\\texttt{o}_1, \\texttt{o}_2)$ receives to strings representing artithmetical operators.  It returns `True` if the operator $\\texttt{o}_1$ should be evaluated before the operator $\\texttt{o}_2$ in an arithmetical expression of the form $a \\;\\texttt{o}_1\\; b \\;\\texttt{o}_2\\; c$."
   ]
  },
  {
   "cell_type": "code",
   "execution_count": null,
   "metadata": {},
   "outputs": [],
   "source": [
    "def evalBefore(o1, o2):\n",
    "    \"to be implemented\""
   ]
  },
  {
   "cell_type": "code",
   "execution_count": null,
   "metadata": {},
   "outputs": [],
   "source": [
    "import stack"
   ]
  },
  {
   "cell_type": "markdown",
   "metadata": {},
   "source": [
    "The class `Calculator` supports three member variables:\n",
    "  - the token stack `mTokenStack`,\n",
    "  - the operator stack `mOperators`,\n",
    "  - the argument stack `mArguments`,\n",
    "  - the floating point number `mValue`, which is the current value of `x`.\n",
    "  \n",
    "The constructor takes a list of tokens `TL` and a number $x$.\n",
    "This number is assumed to be the *value* of the variable `x`."
   ]
  },
  {
   "cell_type": "code",
   "execution_count": null,
   "metadata": {},
   "outputs": [],
   "source": [
    "class Calculator:\n",
    "    def __init__(self, TL, x):\n",
    "        self.mTokenStack = stack.createStack(TL)\n",
    "        self.mOperators  = stack.Stack()\n",
    "        self.mArguments  = stack.Stack()\n",
    "        self.mValue      = x"
   ]
  },
  {
   "cell_type": "markdown",
   "metadata": {},
   "source": [
    "The method `__str__` is used to convert an object of class `Calculator` to a string."
   ]
  },
  {
   "cell_type": "code",
   "execution_count": null,
   "metadata": {},
   "outputs": [],
   "source": [
    "def toString(self):\n",
    "    return '\\n'.join(['_' * 50, \n",
    "                      'TokenStack: ' + str(self.mTokenStack), \n",
    "                      'Arguments:  ' + str(self.mArguments), \n",
    "                      'Operators:  ' + str(self.mOperators), \n",
    "                      '_' * 50])\n",
    "\n",
    "Calculator.__str__ = toString"
   ]
  },
  {
   "cell_type": "markdown",
   "metadata": {},
   "source": [
    "The function $\\texttt{evaluate}(\\texttt{self})$ evaluates the expression that is given by the tokens on the `mTokenStack`."
   ]
  },
  {
   "cell_type": "code",
   "execution_count": null,
   "metadata": {},
   "outputs": [],
   "source": [
    "def evaluate(self):\n",
    "    \"to be implemented\"\n",
    "    \n",
    "Calculator.evaluate = evaluate"
   ]
  },
  {
   "cell_type": "markdown",
   "metadata": {},
   "source": [
    "The method $\\texttt{popAndevaluate}(\\texttt{self})$ removes an operator from the operator stack and removes the corresponding arguments from the \n",
    "arguments stack.  It evaluates the operator and pushes the result on the argument stack."
   ]
  },
  {
   "cell_type": "code",
   "execution_count": null,
   "metadata": {},
   "outputs": [],
   "source": [
    "def popAndEvaluate(self):\n",
    "    \"to be implemented\"\n",
    "\n",
    "Calculator.popAndEvaluate = popAndEvaluate"
   ]
  },
  {
   "cell_type": "code",
   "execution_count": null,
   "metadata": {},
   "outputs": [],
   "source": [
    "TL = tokenize('x - cos(x)')\n",
    "C = Calculator(TL, 1)"
   ]
  },
  {
   "cell_type": "code",
   "execution_count": null,
   "metadata": {},
   "outputs": [],
   "source": [
    "C.evaluate()"
   ]
  },
  {
   "cell_type": "code",
   "execution_count": null,
   "metadata": {},
   "outputs": [],
   "source": [
    "def computeZero():\n",
    "    s  = input(\"enter function: \")\n",
    "    TL = tokenize(s)\n",
    "    left_Boundary = float(input(\"Enter left  boundary: \"))\n",
    "    rightBoundary = float(input(\"Enter right boundary: \"))\n",
    "\n",
    "    def f(x):\n",
    "        c = Calculator(TL, x)\n",
    "        return c.evaluate()\n",
    "\n",
    "    return findZero(f, left_Boundary, rightBoundary, 55);"
   ]
  },
  {
   "cell_type": "code",
   "execution_count": null,
   "metadata": {},
   "outputs": [],
   "source": [
    "computeZero()"
   ]
  },
  {
   "cell_type": "code",
   "execution_count": null,
   "metadata": {},
   "outputs": [],
   "source": []
  }
 ],
 "metadata": {
  "kernelspec": {
   "display_name": "Python 2",
   "language": "python",
   "name": "python2"
  },
  "language_info": {
   "codemirror_mode": {
    "name": "ipython",
    "version": 2
   },
   "file_extension": ".py",
   "mimetype": "text/x-python",
   "name": "python",
   "nbconvert_exporter": "python",
   "pygments_lexer": "ipython2",
   "version": "2.7.15"
  }
 },
 "nbformat": 4,
 "nbformat_minor": 2
}
