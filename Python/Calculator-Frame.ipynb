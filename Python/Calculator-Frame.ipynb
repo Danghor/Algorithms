{
 "cells": [
  {
   "cell_type": "code",
   "execution_count": 1,
   "metadata": {},
   "outputs": [
    {
     "data": {
      "text/html": [
       "<style>.container { width:100%; !important } </style>"
      ],
      "text/plain": [
       "<IPython.core.display.HTML object>"
      ]
     },
     "metadata": {},
     "output_type": "display_data"
    }
   ],
   "source": [
    "#%autosave 0\n",
    "from IPython.core.display import HTML, display\n",
    "display(HTML('<style>.container { width:100%; !important } </style>'))"
   ]
  },
  {
   "cell_type": "markdown",
   "metadata": {},
   "source": [
    "# The Shunting Yard Algorithm (Operator Precedence Parsing)"
   ]
  },
  {
   "cell_type": "markdown",
   "metadata": {},
   "source": [
    "The module `re` provides support for <a href='https://en.wikipedia.org/wiki/Regular_expression'>regular expressions</a>.  These are needed for\n",
    "<em style=\"color:blue;\">tokenizing</em> a string."
   ]
  },
  {
   "cell_type": "code",
   "execution_count": 2,
   "metadata": {},
   "outputs": [],
   "source": [
    "import re"
   ]
  },
  {
   "cell_type": "markdown",
   "metadata": {},
   "source": [
    "The module `math` provides a number of mathematical functions like `exp`, `sin`, `log` etc."
   ]
  },
  {
   "cell_type": "code",
   "execution_count": 3,
   "metadata": {},
   "outputs": [],
   "source": [
    "import math"
   ]
  },
  {
   "cell_type": "markdown",
   "metadata": {},
   "source": [
    "The function $\\texttt{isWhiteSpace}(s)$ checks whether $s$ contains only blanks and tabulators."
   ]
  },
  {
   "cell_type": "code",
   "execution_count": 4,
   "metadata": {},
   "outputs": [],
   "source": [
    "def isWhiteSpace(s):\n",
    "    whitespace = re.compile(r'[ \\t]+')\n",
    "    return whitespace.fullmatch(s)"
   ]
  },
  {
   "cell_type": "markdown",
   "metadata": {},
   "source": [
    "The function $\\texttt{toInt}(s)$ tries to convert the string $s$ to an integer.  If this works out, the integer is returned.  Otherwise, the string $s$ is returned unchanged."
   ]
  },
  {
   "cell_type": "code",
   "execution_count": 5,
   "metadata": {},
   "outputs": [],
   "source": [
    "def toInt(s):\n",
    "    try:\n",
    "        return int(s)   \n",
    "    except ValueError:\n",
    "        return s"
   ]
  },
  {
   "cell_type": "markdown",
   "metadata": {},
   "source": [
    "The function $\\texttt{tokenize}(s)$ takes a string and splits this string into a list of tokens.  Whitespace is discarded."
   ]
  },
  {
   "cell_type": "code",
   "execution_count": 6,
   "metadata": {},
   "outputs": [],
   "source": [
    "def tokenize(s):\n",
    "    regExp = r'''\n",
    "              0|[1-9][0-9]* |             # number\n",
    "              \\*\\*          |             # power operator\n",
    "              [-+*/%()]     |             # arithmetic operators and parentheses\n",
    "              [ \\t]         |             # white space\n",
    "              sin           |\n",
    "              cos           |\n",
    "              tan           |   \n",
    "              asin          |\n",
    "              acos          |\n",
    "              atan          |\n",
    "              exp           |\n",
    "              log           |\n",
    "              x             |\n",
    "              e             |\n",
    "              pi\n",
    "              '''\n",
    "    L = [toInt(t) for t in re.findall(regExp, s, flags=re.VERBOSE) if not isWhiteSpace(t)]\n",
    "    return list(reversed(L))"
   ]
  },
  {
   "cell_type": "code",
   "execution_count": 7,
   "metadata": {},
   "outputs": [
    {
     "data": {
      "text/plain": [
       "[2, '-', 2, '**', 'x']"
      ]
     },
     "execution_count": 7,
     "metadata": {},
     "output_type": "execute_result"
    }
   ],
   "source": [
    "tokenize('x**2 - 2')"
   ]
  },
  {
   "cell_type": "markdown",
   "metadata": {},
   "source": [
    "The function $\\texttt{findZero}(f, a, b, n)$ takes a function $f$ and two numbers $a$ and $b$ such that\n",
    "\n",
    "  - $a < b$,\n",
    "  - $f(a) \\leq 0$, and \n",
    "  - $0 \\leq f(b)$.\n",
    "  \n",
    "It uses the bisection method to find a number $x \\in [a, b]$ such that $f(x) \\approx 0$."
   ]
  },
  {
   "cell_type": "code",
   "execution_count": 8,
   "metadata": {},
   "outputs": [],
   "source": [
    "def findZero(f, a, b, n):\n",
    "    assert a < b    , f'{a} has to be less than {b}'\n",
    "    assert f(a) <= 0, f'f({a}) > 0'\n",
    "    assert 0 <= f(b), f'0 > f({b})'\n",
    "    for k in range(n):\n",
    "        c = 1/2 * (a + b)\n",
    "        print(f'f({c}) = {f(c)}, {b-a}')\n",
    "        if f(c) < 0:\n",
    "            a = c\n",
    "        elif f(c) > 0:\n",
    "            b = c\n",
    "        else:\n",
    "            return c\n",
    "    return (a + b) / 2"
   ]
  },
  {
   "cell_type": "code",
   "execution_count": 9,
   "metadata": {},
   "outputs": [],
   "source": [
    "def f(x):\n",
    "    return x ** 2 - 2"
   ]
  },
  {
   "cell_type": "code",
   "execution_count": 10,
   "metadata": {},
   "outputs": [
    {
     "name": "stdout",
     "output_type": "stream",
     "text": [
      "f(1.0) = -1.0, 2\n",
      "f(1.5) = 0.25, 1.0\n",
      "f(1.25) = -0.4375, 0.5\n",
      "f(1.375) = -0.109375, 0.25\n",
      "f(1.4375) = 0.06640625, 0.125\n",
      "f(1.40625) = -0.0224609375, 0.0625\n",
      "f(1.421875) = 0.021728515625, 0.03125\n",
      "f(1.4140625) = -0.00042724609375, 0.015625\n",
      "f(1.41796875) = 0.0106353759765625, 0.0078125\n",
      "f(1.416015625) = 0.005100250244140625, 0.00390625\n",
      "f(1.4150390625) = 0.0023355484008789062, 0.001953125\n",
      "f(1.41455078125) = 0.0009539127349853516, 0.0009765625\n",
      "f(1.414306640625) = 0.0002632737159729004, 0.00048828125\n",
      "f(1.4141845703125) = -8.200109004974365e-05, 0.000244140625\n",
      "f(1.41424560546875) = 9.063258767127991e-05, 0.0001220703125\n",
      "f(1.414215087890625) = 4.314817488193512e-06, 6.103515625e-05\n",
      "f(1.4141998291015625) = -3.8843369111418724e-05, 3.0517578125e-05\n",
      "f(1.4142074584960938) = -1.726433401927352e-05, 1.52587890625e-05\n",
      "f(1.4142112731933594) = -6.474772817455232e-06, 7.62939453125e-06\n",
      "f(1.4142131805419922) = -1.0799813026096672e-06, 3.814697265625e-06\n",
      "f(1.4142141342163086) = 1.6174171832972206e-06, 1.9073486328125e-06\n",
      "f(1.4142136573791504) = 2.687177129701013e-07, 9.5367431640625e-07\n",
      "f(1.4142134189605713) = -4.056318516632018e-07, 4.76837158203125e-07\n",
      "f(1.4142135381698608) = -6.845708355740499e-08, 2.384185791015625e-07\n",
      "f(1.4142135977745056) = 1.0013031115363447e-07, 1.1920928955078125e-07\n",
      "f(1.4142135679721832) = 1.583661290993632e-08, 5.960464477539063e-08\n",
      "f(1.414213553071022) = -2.6310235545778937e-08, 2.9802322387695312e-08\n",
      "f(1.4142135605216026) = -5.236811428943611e-09, 1.4901161193847656e-08\n",
      "f(1.414213564246893) = 5.29990096254096e-09, 7.450580596923828e-09\n",
      "f(1.4142135623842478) = 3.154454475406965e-11, 3.725290298461914e-09\n",
      "f(1.4142135614529252) = -2.6026334420947705e-09, 1.862645149230957e-09\n",
      "f(1.4142135619185865) = -1.285544337648048e-09, 9.313225746154785e-10\n",
      "f(1.4142135621514171) = -6.269997854246867e-10, 4.656612873077393e-10\n",
      "f(1.4142135622678325) = -2.9772762033530853e-10, 2.3283064365386963e-10\n",
      "f(1.4142135623260401) = -1.3309153779061944e-10, 1.1641532182693481e-10\n",
      "f(1.414213562355144) = -5.0773385495972434e-11, 5.820766091346741e-11\n",
      "f(1.4142135623696959) = -9.61430934864893e-12, 2.9103830456733704e-11\n",
      "f(1.4142135623769718) = 1.0965006680407896e-11, 1.4551915228366852e-11\n",
      "f(1.4142135623733338) = 6.754596881819452e-13, 7.275957614183426e-12\n",
      "f(1.4142135623715149) = -4.469535852535955e-12, 3.637978807091713e-12\n",
      "f(1.4142135623724243) = -1.8969270598745425e-12, 1.8189894035458565e-12\n",
      "f(1.414213562372879) = -6.108447081487611e-13, 9.094947017729282e-13\n",
      "f(1.4142135623731065) = 3.241851231905457e-14, 4.547473508864641e-13\n",
      "f(1.4142135623729928) = -2.893241202173158e-13, 2.2737367544323206e-13\n",
      "f(1.4142135623730496) = -1.2856382625159313e-13, 1.1368683772161603e-13\n",
      "f(1.414213562373078) = -4.8183679268731794e-14, 5.684341886080802e-14\n",
      "f(1.4142135623730923) = -7.993605777301127e-15, 2.842170943040401e-14\n",
      "f(1.4142135623730994) = 1.199040866595169e-14, 1.4210854715202004e-14\n",
      "f(1.4142135623730958) = 2.220446049250313e-15, 7.105427357601002e-15\n",
      "f(1.414213562373094) = -2.886579864025407e-15, 3.552713678800501e-15\n",
      "f(1.414213562373095) = -4.440892098500626e-16, 1.7763568394002505e-15\n",
      "f(1.4142135623730954) = 8.881784197001252e-16, 8.881784197001252e-16\n",
      "f(1.4142135623730951) = 4.440892098500626e-16, 4.440892098500626e-16\n",
      "f(1.414213562373095) = -4.440892098500626e-16, 2.220446049250313e-16\n"
     ]
    },
    {
     "data": {
      "text/plain": [
       "1.414213562373095"
      ]
     },
     "execution_count": 10,
     "metadata": {},
     "output_type": "execute_result"
    }
   ],
   "source": [
    "findZero(f, 0, 2, 54)"
   ]
  },
  {
   "cell_type": "markdown",
   "metadata": {},
   "source": [
    "The function $\\texttt{precedence}(o)$ calculates the precedence of the operator $o$."
   ]
  },
  {
   "cell_type": "code",
   "execution_count": 11,
   "metadata": {},
   "outputs": [],
   "source": [
    "def precedence(op):\n",
    "    if op in [\"+\", \"-\"]: \n",
    "        return 1\n",
    "    if op in [\"*\", \"/\", \"%\"]: \n",
    "        return 2\n",
    "    if op == \"**\": \n",
    "        return 3\n",
    "    if isUnaryOperator(op): \n",
    "        return 4\n",
    "    if isConstOperator(op): \n",
    "        return 5\n",
    "    assert False, f'unkown operator in precedence: {op}'"
   ]
  },
  {
   "cell_type": "markdown",
   "metadata": {},
   "source": [
    "The function $\\texttt{isUnaryOperator}(o)$ returns `True` of $o$ is a unary operator."
   ]
  },
  {
   "cell_type": "code",
   "execution_count": 12,
   "metadata": {},
   "outputs": [],
   "source": [
    "def isUnaryOperator(op):\n",
    "    \"to be implemented\""
   ]
  },
  {
   "cell_type": "markdown",
   "metadata": {},
   "source": [
    "The function $\\texttt{isConstOperator}(o)$ returns `True` of $o$ is a constant like `e`or `pi`."
   ]
  },
  {
   "cell_type": "code",
   "execution_count": 13,
   "metadata": {},
   "outputs": [],
   "source": [
    "def isConstOperator(op):\n",
    "    \"to be implemented\""
   ]
  },
  {
   "cell_type": "markdown",
   "metadata": {},
   "source": [
    "The function $\\texttt{isLeftAssociative}(o)$ returns `True` of $o$ is left associative."
   ]
  },
  {
   "cell_type": "code",
   "execution_count": 14,
   "metadata": {},
   "outputs": [],
   "source": [
    "def isLeftAssociative(op):\n",
    "    \"to be implemented\""
   ]
  },
  {
   "cell_type": "markdown",
   "metadata": {},
   "source": [
    "The function $\\texttt{evalBefore}(\\texttt{o}_1, \\texttt{o}_2)$ receives to strings representing artithmetical operators.  It returns `True` if the operator $\\texttt{o}_1$ should be evaluated before the operator $\\texttt{o}_2$ in an arithmetical expression of the form $a \\;\\texttt{o}_1\\; b \\;\\texttt{o}_2\\; c$."
   ]
  },
  {
   "cell_type": "code",
   "execution_count": 15,
   "metadata": {},
   "outputs": [],
   "source": [
    "def evalBefore(o1, o2):\n",
    "    \"to be implemented\""
   ]
  },
  {
   "cell_type": "code",
   "execution_count": 16,
   "metadata": {},
   "outputs": [],
   "source": [
    "import stack"
   ]
  },
  {
   "cell_type": "markdown",
   "metadata": {},
   "source": [
    "The class `Calculator` supports three member variables:\n",
    "  - the token stack `mTokenStack`,\n",
    "  - the operator stack `mOperators`,\n",
    "  - the argument stack `mArguments`,\n",
    "  - the floating point number `mValue`, which is the current value of `x`.\n",
    "  \n",
    "The constructor takes a list of tokens `TL` and a number $x$.\n",
    "This number is assumed to be the *value* of the variable `x`."
   ]
  },
  {
   "cell_type": "code",
   "execution_count": 17,
   "metadata": {},
   "outputs": [],
   "source": [
    "class Calculator:\n",
    "    def __init__(self, TL, x):\n",
    "        self.mTokenStack = stack.createStack(TL)\n",
    "        self.mOperators  = stack.Stack()\n",
    "        self.mArguments  = stack.Stack()\n",
    "        self.mValue      = x"
   ]
  },
  {
   "cell_type": "markdown",
   "metadata": {},
   "source": [
    "The method `__str__` is used to convert an object of class `Calculator` to a string."
   ]
  },
  {
   "cell_type": "code",
   "execution_count": 18,
   "metadata": {},
   "outputs": [],
   "source": [
    "def toString(self):\n",
    "    return '\\n'.join(['_' * 50, \n",
    "                      'TokenStack: ' + str(self.mTokenStack), \n",
    "                      'Arguments:  ' + str(self.mArguments), \n",
    "                      'Operators:  ' + str(self.mOperators), \n",
    "                      '_' * 50])\n",
    "\n",
    "Calculator.__str__ = toString"
   ]
  },
  {
   "cell_type": "markdown",
   "metadata": {},
   "source": [
    "The function $\\texttt{evaluate}(\\texttt{self})$ evaluates the expression that is given by the tokens on the `mTokenStack`."
   ]
  },
  {
   "cell_type": "code",
   "execution_count": 19,
   "metadata": {},
   "outputs": [],
   "source": [
    "def evaluate(self):\n",
    "    \"to be implemented\"\n",
    "    \n",
    "Calculator.evaluate = evaluate"
   ]
  },
  {
   "cell_type": "markdown",
   "metadata": {},
   "source": [
    "The method $\\texttt{popAndevaluate}(\\texttt{self})$ removes an operator from the operator stack and removes the corresponding arguments from the \n",
    "arguments stack.  It evaluates the operator and pushes the result on the argument stack."
   ]
  },
  {
   "cell_type": "code",
   "execution_count": 20,
   "metadata": {},
   "outputs": [],
   "source": [
    "def popAndEvaluate(self):\n",
    "    \"to be implemented\"\n",
    "\n",
    "Calculator.popAndEvaluate = popAndEvaluate"
   ]
  },
  {
   "cell_type": "code",
   "execution_count": 21,
   "metadata": {},
   "outputs": [],
   "source": [
    "TL = tokenize('x - cos(x)')\n",
    "C = Calculator(TL, 1)"
   ]
  },
  {
   "cell_type": "code",
   "execution_count": 22,
   "metadata": {},
   "outputs": [],
   "source": [
    "C.evaluate()"
   ]
  },
  {
   "cell_type": "code",
   "execution_count": null,
   "metadata": {},
   "outputs": [],
   "source": [
    "def computeZero():\n",
    "    s  = input(\"enter function: \")\n",
    "    TL = tokenize(s)\n",
    "    left_Boundary = float(input(\"Enter left  boundary: \"))\n",
    "    rightBoundary = float(input(\"Enter right boundary: \"))\n",
    "\n",
    "    def f(x):\n",
    "        c = Calculator(TL, x)\n",
    "        return c.evaluate()\n",
    "\n",
    "    return findZero(f, left_Boundary, rightBoundary, 55);"
   ]
  },
  {
   "cell_type": "code",
   "execution_count": null,
   "metadata": {},
   "outputs": [],
   "source": [
    "computeZero()"
   ]
  },
  {
   "cell_type": "code",
   "execution_count": null,
   "metadata": {},
   "outputs": [],
   "source": []
  }
 ],
 "metadata": {
  "kernelspec": {
   "display_name": "Python 3",
   "language": "python",
   "name": "python3"
  },
  "language_info": {
   "codemirror_mode": {
    "name": "ipython",
    "version": 3
   },
   "file_extension": ".py",
   "mimetype": "text/x-python",
   "name": "python",
   "nbconvert_exporter": "python",
   "pygments_lexer": "ipython3",
   "version": "3.6.7"
  }
 },
 "nbformat": 4,
 "nbformat_minor": 2
}
