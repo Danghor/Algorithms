{
 "cells": [
  {
   "cell_type": "code",
   "execution_count": null,
   "metadata": {},
   "outputs": [],
   "source": [
    "%autosave 0\n",
    "from IPython.core.display import HTML, display\n",
    "display(HTML('<style>.container { width:100%; !important } </style>'))"
   ]
  },
  {
   "cell_type": "markdown",
   "metadata": {},
   "source": [
    "# Tries"
   ]
  },
  {
   "cell_type": "markdown",
   "metadata": {},
   "source": [
    "A <a href=\"https://en.wikipedia.org/wiki/Trie\">Trie</a> is a data structure that implements the abstract data type of a <em style=\"color:blue;\">dictionary</em> in the case that the keys are strings.\n",
    "The set $\\mathbb{T}$ of all tries is defined inductively using the constructor \n",
    "$$ \\texttt{Node}: \\texttt{Value} \\times \\texttt{List}(\\Sigma) \\times\\texttt{List}(\\mathbb{T}) \\rightarrow \\mathbb{T}. $$ \n",
    "The inductive definition of the set $\\mathbb{T}$ has only a single clause: If\n",
    "  - $v \\in \\texttt{Value} \\cup \\{\\Omega\\}$,\n",
    "  - $C = [c_1, \\cdots, c_n] \\in \\texttt{List}(\\Sigma)$ is a list of different characters of length $n$ and\n",
    "  - $T = [t_1, \\cdots, t_n] \\in \\texttt{List}(\\mathbb{T})$ is a list of tries of the same length $n$, \n",
    "\n",
    "then we have \n",
    "$$ \\texttt{Node}(v, C, T) \\in \\mathbb{T}. $$  "
   ]
  },
  {
   "cell_type": "markdown",
   "metadata": {},
   "source": [
    "An object $t$ of the class `Trie` represents the <em style=\"color:blue;\">trie</em>\n",
    "$$ \\texttt{Node}(t.\\texttt{mValue}, t.\\texttt{mChars}, t.\\texttt{mTries}). $$\n",
    "The constructor creates an empty <em style=\"color:blue;\">trie</em>."
   ]
  },
  {
   "cell_type": "code",
   "execution_count": null,
   "metadata": {},
   "outputs": [],
   "source": [
    "class Trie():\n",
    "    def __init__(self):\n",
    "        self.mValue  = None\n",
    "        self.mChars  = []\n",
    "        self.mTries  = []\n",
    "        self.mParent = '' # only used by graphviz"
   ]
  },
  {
   "cell_type": "markdown",
   "metadata": {},
   "source": [
    "The function `find` has the signature\n",
    "$$ \\texttt{find}: \\mathbb{T} \\times \\Sigma^* \\rightarrow \\texttt{Value} \\cup \\{ \\Omega\\}. $$\n",
    "For a trie $t$ and a string $s$, the expression $t.\\texttt{find}(s)$ returns the\n",
    "value that is associated with the key $s$ in $t$.  The expression\n",
    "$\\texttt{Node}(v,C,T).\\texttt{find}(s)$ is defined by induction on the length of the  string $s$:\n",
    "  - $\\texttt{Node}(v, C, T).\\texttt{find}(\\varepsilon) = v$.\n",
    "  \n",
    "    The value associated with the empty string $\\varepsilon$ is stored at the root of the trie.\n",
    "  - $\\texttt{Node}(v, [c_1, \\cdots, c_n], [t_1, \\cdots, t_n]).\\texttt{find}(cr) = \n",
    "        \\left\\{\n",
    "        \\begin{array}{ll}\n",
    "        t_1.\\texttt{find}(r) & \\mbox{if} \\quad c = c_1 \\mbox{;} \\\\\n",
    "        \\vdots &                                     \\\\\n",
    "        t_i.\\texttt{find}(r) & \\mbox{if} \\quad c = c_i \\mbox{;} \\\\\n",
    "        \\vdots &                                     \\\\\n",
    "        t_n.\\texttt{find}(r) & \\mbox{if} \\quad c = c_n \\mbox{;} \\\\[0.2cm]\n",
    "        \\Omega               & \\mbox{if} \\quad c \\notin \\{c_1,\\cdots,c_n\\} \\mbox{.}         \n",
    "        \\end{array}\n",
    "       \\right.\n",
    "    $\n",
    "\n",
    "    The trie $\\texttt{Node}(v, [c_1, \\cdots, c_n], [t_1, \\cdots, t_n])$ associates a value with\n",
    "    the key $cr$ if the list $[c_1, \\cdots, c_n]$ has a position $i$ such that $c$ equals $c_i$\n",
    "    and, furthermore, the trie  $t_i$ associates a value with the key  $r$.\n"
   ]
  },
  {
   "cell_type": "code",
   "execution_count": null,
   "metadata": {},
   "outputs": [],
   "source": [
    "def find(self, s):\n",
    "    if s == '':\n",
    "        return self.mValue\n",
    "    c, r = s[0], s[1:]\n",
    "    for i, ci in enumerate(self.mChars):\n",
    "        if c == ci:\n",
    "            return self.mTries[i].find(r)\n",
    "\n",
    "Trie.find = find"
   ]
  },
  {
   "cell_type": "code",
   "execution_count": null,
   "metadata": {},
   "outputs": [],
   "source": [
    "list(enumerate(['a', 'b', 'c']))"
   ]
  },
  {
   "cell_type": "markdown",
   "metadata": {},
   "source": [
    "The signature of the method $\\texttt{insert}$ is given as follows:\n",
    "$$ \\texttt{insert}: \\mathbb{T} \\times \\Sigma^* \\times \\texttt{Value} \\rightarrow \\mathbb{T}. $$\n",
    "The result of evaluating \n",
    "$$ \\texttt{Node}(v_1, [c_1, \\cdots, c_n], [t_1, \\cdots, t_n]).\\texttt{insert}(w, v_2) $$\n",
    "for a string $w\\in \\Sigma^*$ and a value $v_2 \\in \\texttt{Value}$ is defined by induction on the\n",
    "length of $w$:\n",
    "  - $\\texttt{Node}(v_1,L,T).\\texttt{insert}(\\varepsilon, v_2) = \\texttt{Node}(v_2,L,T)$.\n",
    "  \n",
    "    If a new value $v_2$ is associated with the empty string $\\varepsilon$, then the old value\n",
    "    $v_1$, which had been stored at the root before, is overwritten.\n",
    "  - $\\texttt{Node}\\bigl(v_1,[c_1,\\cdots,c_i,\\cdots,c_n], [t_1,\\cdots,t_i,\\cdots,t_n]\\bigr).\\texttt{insert}(c_ir,v_2) =\n",
    "     \\texttt{Node}\\bigl(v_1,[c_1,\\cdots,c_i,\\cdots,c_n], [t_1,\\cdots,t_i.\\texttt{insert}(r,v_2),\\cdots,t_n]\\bigr)$.\n",
    "\n",
    "    In order to associate a value $v_2$ with the string $c_ir$ in the trie\n",
    "    $$ \\texttt{Node}\\bigl(v_1,[c_1,\\cdots,c_i,\\cdots,c_n], [t_1,\\cdots,t_i,\\cdots,t_n]\\bigr) $$ \n",
    "    we have to recursively associate the value $v_2$ with the string $r$ in the trie $t_i$.\n",
    "  - $c \\not\\in\\{c_1,\\cdots,c_n\\} \\;\\rightarrow\\;\\texttt{Node}\\bigl(v_1,[c_1,\\cdots,c_n], [t_1,\\cdots,t_n]\\bigr).\\texttt{insert}(cr,v_2) =\n",
    "     \\texttt{Node}\\bigl(v_1,[c_1,\\cdots,c_n,c], [t_1,\\cdots,t_n,\\texttt{Node}(\\Omega,[],[]).\\texttt{insert}(r,v_2)]\\bigr)$.\n",
    "      \n",
    "    If we want to associate a value $v$ with the key $cr$ in the trie\n",
    "    $\\texttt{Node}\\bigl(v_1,[c_1,\\cdots,c_n], [t_1,\\cdots,t_n]\\bigr)$ then, if the character $c$\n",
    "    does not occur in the list $[c_1,\\cdots,c_n]$, we first have to create a new empty trie.\n",
    "    This trie has the form \n",
    "    $$ \\texttt{Node}(\\Omega, [], []). $$ \n",
    "    Next, we associate the value $v_2$ with the key $r$ in this empty trie.  Finally,\n",
    "    we append the character $c$ to the end of the list $[c_1,\\cdots,c_n]$ and append the trie\n",
    "    $$ \\texttt{Node}(\\Omega, [], []).\\texttt{insert}(r,v_2) $$ \n",
    "    to the end of the list $[t_1,\\cdots,t_n]$."
   ]
  },
  {
   "cell_type": "code",
   "execution_count": null,
   "metadata": {},
   "outputs": [],
   "source": [
    "def insert(self, s, v):\n",
    "    if s == '':\n",
    "        self.mValue = v\n",
    "        return\n",
    "    c, r = s[0], s[1:]\n",
    "    for i, ci in enumerate(self.mChars):\n",
    "        if c == ci:\n",
    "            self.mTries[i].insert(r, v)\n",
    "            return\n",
    "    t = Trie()\n",
    "    t.insert(r, v)\n",
    "    t.mParent = c # necessary for visualization\n",
    "    self.mChars.append(c)\n",
    "    self.mTries.append(t)\n",
    "    \n",
    "Trie.insert = insert"
   ]
  },
  {
   "cell_type": "markdown",
   "metadata": {},
   "source": [
    "In order to implement deletion in tries, we need the auxiliary function `isEmpty`.  Its signature is given as\n",
    "$$ \\texttt{isEmpty}: \\mathbb{T} \\rightarrow \\mathbb{B}. $$\n",
    "For a trie $t$, we have $t.\\texttt{isEmpty}() = \\texttt{True}$ if and only if the trie $t$ does not\n",
    "store any key.  The following formula specifies the function $\\texttt{isEmpty}$:\n",
    "$$ \\texttt{Node}(v, L, T).\\texttt{isEmpty}() = \\mathtt{True} \\Leftrightarrow v = \\Omega \\wedge L = []. $$"
   ]
  },
  {
   "cell_type": "code",
   "execution_count": null,
   "metadata": {},
   "outputs": [],
   "source": [
    "def isEmpty(self):\n",
    "    return self.mValue == None and self.mChars == []\n",
    "\n",
    "Trie.isEmpty = isEmpty"
   ]
  },
  {
   "cell_type": "markdown",
   "metadata": {},
   "source": [
    "For a trie  $t \\in \\mathbb{T}$ and a string $w \\in \\Sigma^*$ the value $t.\\texttt{delete}(w)$\n",
    "is defined by induction on the length of  $w$.\n",
    "  - $\\texttt{Node}(v,C,T).\\texttt{delete}(\\varepsilon) = \\texttt{Node}(\\Omega,C,T)$\n",
    "\n",
    "    The value that is associated with the empty  string $\\varepsilon$ is stored at the root of the\n",
    "    trie where is can be deleted without further ado.\n",
    "  - $\\begin{array}[t]{ll}\n",
    "     t_i.\\texttt{delete}(r).\\texttt{isEmpty}()   & \\rightarrow \\\\\n",
    "     \\texttt{Node}(v, [c_1,\\cdots,c_i,\\cdots,c_n],[t_1,\\cdots,t_i,\\cdots,t_n]).\\texttt{delete}(c_ir) \n",
    "     & = \\\\\n",
    "     \\qquad \n",
    "     \\texttt{Node}(v, [c_1,\\cdots,c_{i-1},c_{i+1},\\cdots,c_n],[t_1,\\cdots,t_{i-1},t_{i+1},\\cdots,t_n]).\n",
    "     \\end{array}\n",
    "    $\n",
    "\n",
    "    If  the key that is to be deleted starts with the character $c_i$ and if deletion of  the key\n",
    "    $r$ in the $i$th  trie $t_i$ yields an empty\n",
    "    trie, then both the $i$th character $c_i$ and the $i$th trie $t_i$ are deleted.\n",
    "  - $\\begin{array}[t]{ll}\n",
    "     \\neg t_i.\\texttt{delete}(r).\\texttt{isEmpty}()   & \\rightarrow \\\\\n",
    "     \\texttt{Node}(v, [c_1,\\cdots,c_i,\\cdots,c_n],[t_1,\\cdots,t_i,\\cdots,t_n]).\\texttt{delete}(c_ir) \n",
    "     & = \\\\\n",
    "     \\qquad \\texttt{Node}(v, [c_1,\\cdots,c_i,\\cdots,c_n],[t_1,\\cdots,t_i.\\texttt{delete}(r),\\cdots,t_n]).\n",
    "     \\end{array}\n",
    "    $\n",
    "\n",
    "    If  the key that is to be deleted starts with the character $c_i$ and if deletion of  the key\n",
    "    $r$ in the $i$th  trie $t_i$ yields a non-empty trie, then the key $r$ has to be deleted recursively\n",
    "    in the trie $t_i$.\n",
    "  - $c \\notin C \\rightarrow \\texttt{Node}(v, C, T).\\texttt{delete}(cr) =\n",
    "       \\texttt{Node}(v, C, T)$. \n",
    "       \n",
    "    If  the key that is to be deleted starts with the character $c$ and  $c$ does not occur in\n",
    "    the list of characters $C$, then the trie does not contain the key $cr$ and therefore there\n",
    "    is nothing  to do:  The trie is left unchanged."
   ]
  },
  {
   "cell_type": "code",
   "execution_count": null,
   "metadata": {},
   "outputs": [],
   "source": [
    "def delete(self, s):\n",
    "    if s == '':\n",
    "        self.mValue = None\n",
    "        return\n",
    "    c, r = s[0], s[1:]\n",
    "    for i, ci in enumerate(self.mChars):\n",
    "        if c == ci:\n",
    "            self.mTries[i].delete(r)\n",
    "            if self.mTries[i].isEmpty():\n",
    "                self.mChars.pop(i)\n",
    "                self.mTries.pop(i)\n",
    "            return\n",
    "        \n",
    "Trie.delete = delete"
   ]
  },
  {
   "cell_type": "code",
   "execution_count": null,
   "metadata": {},
   "outputs": [],
   "source": [
    "import graphviz as gv"
   ]
  },
  {
   "cell_type": "code",
   "execution_count": null,
   "metadata": {},
   "outputs": [],
   "source": [
    "def toDot(self):\n",
    "    Trie.sNodeCount = 0 # this is a static variable of the class Trie\n",
    "    dot = gv.Digraph(node_attr={'shape': 'record', 'style': 'rounded'})\n",
    "    NodeDict = {}\n",
    "    self._assignIDs(NodeDict)\n",
    "    for id, t in NodeDict.items():\n",
    "        if t.mValue != None:\n",
    "            dot.node(id, label='{' + t.mParent + '|' + str(t.mValue) + '}')\n",
    "        else:\n",
    "            dot.node(id, label=t.mParent)\n",
    "    for id, t in NodeDict.items():\n",
    "        for x in t.mTries:\n",
    "            dot.edge(id, x.mID)\n",
    "    return dot\n",
    "\n",
    "Trie.toDot = toDot"
   ]
  },
  {
   "cell_type": "code",
   "execution_count": null,
   "metadata": {},
   "outputs": [],
   "source": [
    "def _assignIDs(self, NodeDict):\n",
    "    Trie.sNodeCount += 1\n",
    "    self.mID = str(Trie.sNodeCount)\n",
    "    NodeDict[self.mID] = self\n",
    "    for t in self.mTries:\n",
    "        t._assignIDs(NodeDict) \n",
    "    \n",
    "Trie._assignIDs = _assignIDs"
   ]
  },
  {
   "cell_type": "code",
   "execution_count": null,
   "metadata": {},
   "outputs": [],
   "source": [
    "t = Trie()\n",
    "t.toDot()"
   ]
  },
  {
   "cell_type": "code",
   "execution_count": null,
   "metadata": {},
   "outputs": [],
   "source": [
    "t.insert(\"Hans\", 1)\n",
    "t.toDot()"
   ]
  },
  {
   "cell_type": "code",
   "execution_count": null,
   "metadata": {},
   "outputs": [],
   "source": [
    "t.insert(\"Hanna\", 2)\n",
    "t.toDot()"
   ]
  },
  {
   "cell_type": "code",
   "execution_count": null,
   "metadata": {},
   "outputs": [],
   "source": [
    "t.insert(\"Hildegard\", 3)\n",
    "t.toDot()"
   ]
  },
  {
   "cell_type": "code",
   "execution_count": null,
   "metadata": {},
   "outputs": [],
   "source": [
    "t.insert(\"Hugo\", 4)\n",
    "t.toDot()"
   ]
  },
  {
   "cell_type": "code",
   "execution_count": null,
   "metadata": {},
   "outputs": [],
   "source": [
    "t.insert(\"Harro\", 5)\n",
    "t.toDot()"
   ]
  },
  {
   "cell_type": "code",
   "execution_count": null,
   "metadata": {},
   "outputs": [],
   "source": [
    "t.insert(\"Heike\", 6)\n",
    "t.toDot()"
   ]
  },
  {
   "cell_type": "code",
   "execution_count": null,
   "metadata": {},
   "outputs": [],
   "source": [
    "t.insert(\"Heiko\", 7)\n",
    "t.toDot()"
   ]
  },
  {
   "cell_type": "code",
   "execution_count": null,
   "metadata": {},
   "outputs": [],
   "source": [
    "t.insert(\"Harald\", 8)\n",
    "t.insert(\"Hasso\", 9)\n",
    "t.insert(\"Haley\", 1)\n",
    "t.insert(\"Hanny\", 1)\n",
    "t.insert(\"Happy\", 1)\n",
    "t.insert(\"Harlene\", 1)\n",
    "t.insert(\"Harley\", 1)\n",
    "t.insert(\"Harmony\", 1)\n",
    "t.insert(\"Harriet\", 1)\n",
    "t.insert(\"Harrietta\", 1)\n",
    "t.insert(\"Hazel\", 1)\n",
    "t.insert(\"Heather\", 1)\n",
    "t.insert(\"Hedwig\", 1)\n",
    "t.insert(\"Hedy\", 1)\n",
    "t.insert(\"Heidi\", 1)\n",
    "t.insert(\"Helaina\", 1)\n",
    "t.insert(\"Helaine\", 1)\n",
    "t.insert(\"Helen\", 1)\n",
    "t.insert(\"Helena\", 1)\n",
    "t.insert(\"Helene\", 1)\n",
    "t.insert(\"Helga\", 1)\n",
    "t.insert(\"Hendrika\", 1)\n",
    "t.insert(\"Henrietta\", 1)\n",
    "t.insert(\"Henriette\", 1)\n",
    "t.insert(\"Hermione\", 1)\n",
    "t.insert(\"Herta\", 1)\n",
    "t.insert(\"Hilary\", 1)\n",
    "t.insert(\"Hilda\", 1)\n",
    "t.toDot()"
   ]
  },
  {
   "cell_type": "code",
   "execution_count": null,
   "metadata": {},
   "outputs": [],
   "source": [
    "t.find('Hildegard')"
   ]
  },
  {
   "cell_type": "code",
   "execution_count": null,
   "metadata": {
    "scrolled": false
   },
   "outputs": [],
   "source": [
    "t.delete('Hanny')\n",
    "t.toDot()"
   ]
  },
  {
   "cell_type": "code",
   "execution_count": null,
   "metadata": {},
   "outputs": [],
   "source": [
    "t.insert('Auto', 7)\n",
    "t.toDot()"
   ]
  },
  {
   "cell_type": "code",
   "execution_count": null,
   "metadata": {},
   "outputs": [],
   "source": [
    "t.delete(\"Hans\")\n",
    "t.delete(\"Hanna\")\n",
    "t.delete(\"Hildegard\")\n",
    "t.delete(\"Hugo\")\n",
    "t.delete(\"Harro\")\n",
    "t.delete(\"Heike\")\n",
    "t.delete(\"Heiko\")\n",
    "t.delete(\"Harald\")\n",
    "t.delete(\"Hasso\")\n",
    "t.delete(\"Haley\")\n",
    "t.delete(\"Hanny\")\n",
    "t.delete(\"Happy\")\n",
    "t.delete(\"Harlene\")\n",
    "t.delete(\"Harley\")\n",
    "t.delete(\"Harmony\")\n",
    "t.delete(\"Harriet\")\n",
    "t.delete(\"Harrietta\")\n",
    "t.delete(\"Hazel\")\n",
    "display(t.toDot())\n",
    "t.delete(\"Heather\")\n",
    "t.delete(\"Hedwig\")\n",
    "t.delete(\"Hedy\")\n",
    "t.delete(\"Heidi\")\n",
    "t.delete(\"Helaina\")\n",
    "t.delete(\"Helaine\")\n",
    "t.delete(\"Helen\")\n",
    "t.delete(\"Helena\")\n",
    "t.delete(\"Helene\")\n",
    "t.delete(\"Helga\")\n",
    "t.delete(\"Hendrika\")\n",
    "t.delete(\"Henrietta\")\n",
    "t.delete(\"Henriette\")\n",
    "t.delete(\"Hermione\")\n",
    "t.delete(\"Herta\")\n",
    "t.delete(\"Hilary\")\n",
    "t.delete(\"Hilda\")"
   ]
  },
  {
   "cell_type": "code",
   "execution_count": null,
   "metadata": {},
   "outputs": [],
   "source": [
    "t.toDot()"
   ]
  },
  {
   "cell_type": "code",
   "execution_count": null,
   "metadata": {},
   "outputs": [],
   "source": []
  }
 ],
 "metadata": {
  "kernelspec": {
   "display_name": "Python 3",
   "language": "python",
   "name": "python3"
  },
  "language_info": {
   "codemirror_mode": {
    "name": "ipython",
    "version": 3
   },
   "file_extension": ".py",
   "mimetype": "text/x-python",
   "name": "python",
   "nbconvert_exporter": "python",
   "pygments_lexer": "ipython3",
   "version": "3.6.7"
  }
 },
 "nbformat": 4,
 "nbformat_minor": 2
}
