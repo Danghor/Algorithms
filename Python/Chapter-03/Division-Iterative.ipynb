{
 "cells": [
  {
   "cell_type": "code",
   "execution_count": null,
   "metadata": {},
   "outputs": [],
   "source": [
    "from IPython.core.display import HTML\n",
    "with open('../style.css') as file:\n",
    "    css = file.read()\n",
    "HTML(css)"
   ]
  },
  {
   "cell_type": "markdown",
   "metadata": {},
   "source": [
    "# Euclidean Division"
   ]
  },
  {
   "cell_type": "markdown",
   "metadata": {},
   "source": [
    "The function $\\texttt{div_mod}(a, b)$ takes two natural numbers $a, b \\in \\mathbb{N}$ such that $b > 0$ \n",
    "and returns a pair $(q, r)$ where $q$ is the <em style=\"color:blue\">quotient</em> of dividing $m$ by $n$, \n",
    "while $r$ is the <em style=\"color:blue\">remainder</em>.\n",
    "Mathematically, $q$ and $r$ are defined as those number that satisfy the following:\n",
    "  - $a = q \\cdot b + r$,\n",
    "  - $0 \\leq r < b$.\n",
    "  \n",
    "The iterative algorithm for computing $q$ and $r$ performs two steps:\n",
    "- In the first step, we determine a number $n$ such that \n",
    "  $$ b \\cdot 2^n \\geq a. $$\n",
    "  The number $b \\cdot 2^n$ is stored in the variable $f$.\n",
    "- Next, we compute the bits of the quotient $q$ one by one.  We start with the highest bit of $q$.\n",
    "  The <em style=\"color:blue\">invariants</em> maintained by the `for`-loop below are as follows:\n",
    "  - $f = b \\cdot 2^i$,\n",
    "  - $a = q \\cdot f + r$,\n",
    "  - $0 \\leq r < f$.\n",
    "  \n",
    "  Therefore, when the `for`-loop ends we have $i=0$ and $f = b \\cdot 2^0 = b$.  This implies\n",
    "  - $a = q \\cdot b + r$,\n",
    "  - $0 \\leq r < b$."
   ]
  },
  {
   "cell_type": "code",
   "execution_count": null,
   "metadata": {},
   "outputs": [],
   "source": [
    "def div_mod(a, b):\n",
    "    n = 0 # number of left shifts\n",
    "    q = 0\n",
    "    r = a\n",
    "    f = b # b * 2 ** n\n",
    "    while f < a:\n",
    "        f <<= 1\n",
    "        n  += 1\n",
    "    for i in range(n, -1, -1):\n",
    "        q <<= 1\n",
    "        if r >= f:\n",
    "            q += 1\n",
    "            r -= f\n",
    "        f >>= 1\n",
    "    return q, r"
   ]
  },
  {
   "cell_type": "code",
   "execution_count": null,
   "metadata": {},
   "outputs": [],
   "source": [
    "div_mod(29, 5)"
   ]
  },
  {
   "cell_type": "code",
   "execution_count": null,
   "metadata": {},
   "outputs": [],
   "source": [
    "def test_div_mod(m, n):\n",
    "    q, r = div_mod(m, n)\n",
    "    assert m == q * n + r, f'm = {m}, n = {n}, q = {q}, r = {r}'\n",
    "    assert 0 <= r < n,     f'm = {m}, n = {n}, q = {q}, r = {r}'"
   ]
  },
  {
   "cell_type": "code",
   "execution_count": null,
   "metadata": {},
   "outputs": [],
   "source": [
    "import random"
   ]
  },
  {
   "cell_type": "code",
   "execution_count": null,
   "metadata": {},
   "outputs": [],
   "source": [
    "%%time\n",
    "for k in range(100000):\n",
    "    m = random.randrange(1000000)\n",
    "    n = random.randrange(1000) + 1\n",
    "    test_div_mod(m, n)"
   ]
  },
  {
   "cell_type": "code",
   "execution_count": null,
   "metadata": {},
   "outputs": [],
   "source": []
  },
  {
   "cell_type": "code",
   "execution_count": null,
   "metadata": {},
   "outputs": [],
   "source": []
  }
 ],
 "metadata": {
  "kernelspec": {
   "display_name": "Python 3 (ipykernel)",
   "language": "python",
   "name": "python3"
  },
  "language_info": {
   "codemirror_mode": {
    "name": "ipython",
    "version": 3
   },
   "file_extension": ".py",
   "mimetype": "text/x-python",
   "name": "python",
   "nbconvert_exporter": "python",
   "pygments_lexer": "ipython3",
   "version": "3.9.12"
  }
 },
 "nbformat": 4,
 "nbformat_minor": 2
}
