{
 "cells": [
  {
   "cell_type": "code",
   "execution_count": 1,
   "metadata": {},
   "outputs": [
    {
     "data": {
      "text/html": [
       "<style>.container { width:100%; !important } </style>"
      ],
      "text/plain": [
       "<IPython.core.display.HTML object>"
      ]
     },
     "metadata": {},
     "output_type": "display_data"
    }
   ],
   "source": [
    "#%autosave 0\n",
    "from IPython.core.display import HTML, display\n",
    "display(HTML('<style>.container { width:100%; !important } </style>'))"
   ]
  },
  {
   "cell_type": "markdown",
   "metadata": {},
   "source": [
    "Kurzfassung: \n",
    "Es sterben folgende Figuren:\n",
    "1. Theon Greyjoy\n",
    "2. Nightking\n",
    "3. Alle Mormonts (Sir Jorah und das kleine Mädchen)\n",
    "4. Alle White Walker und die ganzen Wiederkehrer\n",
    "5. Barek Dondarion\n",
    "6. Melissandre\n",
    "7. Der schwermütige Ed (Leiter der Nachtwache)"
   ]
  },
  {
   "cell_type": "markdown",
   "metadata": {},
   "source": [
    "# The Shunting Yard Algorithm (Operator Precedence Parsing)"
   ]
  },
  {
   "cell_type": "markdown",
   "metadata": {},
   "source": [
    "The function $\\texttt{toInt}(s)$ tries to convert the string $s$ to an integer.  If this works out, the integer is returned.  Otherwise, the string $s$ is returned unchanged."
   ]
  },
  {
   "cell_type": "code",
   "execution_count": 2,
   "metadata": {},
   "outputs": [],
   "source": [
    "def toInt(s):\n",
    "    try:\n",
    "        return int(s)   \n",
    "    except ValueError:\n",
    "        return s"
   ]
  },
  {
   "cell_type": "code",
   "execution_count": 3,
   "metadata": {},
   "outputs": [
    {
     "data": {
      "text/plain": [
       "123"
      ]
     },
     "execution_count": 3,
     "metadata": {},
     "output_type": "execute_result"
    }
   ],
   "source": [
    "toInt('123')"
   ]
  },
  {
   "cell_type": "code",
   "execution_count": 6,
   "metadata": {},
   "outputs": [
    {
     "data": {
      "text/plain": [
       "'abc123'"
      ]
     },
     "execution_count": 6,
     "metadata": {},
     "output_type": "execute_result"
    }
   ],
   "source": [
    "toInt('abc123')"
   ]
  },
  {
   "cell_type": "markdown",
   "metadata": {},
   "source": [
    "The module `re` provides support for <a href='https://en.wikipedia.org/wiki/Regular_expression'>regular expressions</a>.  These are needed for\n",
    "<em style=\"color:blue;\">tokenizing</em> a string."
   ]
  },
  {
   "cell_type": "code",
   "execution_count": 7,
   "metadata": {},
   "outputs": [],
   "source": [
    "import re"
   ]
  },
  {
   "cell_type": "markdown",
   "metadata": {},
   "source": [
    "The function $\\texttt{tokenize}(s)$ takes a string $s$ representing an arithmetic expression and splits this string into a list of tokens.\n",
    "The string `regExp` in the implementation below is interpreted as follows:\n",
    "\n",
    "  - The `r` in front of the apostrophe `'` specifies that the regular expression is defined as a <em style=\"color:blue;\">raw string</em>.  In a *raw string* the backslash does not have to be escaped because it is treated as a literal character.</br>  \n",
    "  - The regular expression is divided into three parts. These parts are separated by the character `|`.  \n",
    "      1. `[0-9]+` matches a natural number.  For example, it matches `0`or `123`.  It would also match a string like `007`.\n",
    "         The `+` at the end of the substring `[0-9]*` specifies that there are any positive number of the characters in the range `[0-9]`.</br>\n",
    "      2. `\\*\\*` matches the operator `**`.</br>\n",
    "      3. `[()+*/%-]` matches a parenthesis or an arithmetical operator.  Note that the operator `-` has to be the last character in the \n",
    "         set of charaters specified inside the square brackets since otherwise it would be interpreted as a \n",
    "         <em style=\"color:blue;\">range operator</em>.</br>"
   ]
  },
  {
   "cell_type": "code",
   "execution_count": 12,
   "metadata": {},
   "outputs": [],
   "source": [
    "def tokenize(s):\n",
    "    regExp = r'([0-9]+|\\*\\*|[()+*%/-])'\n",
    "    L = [ toInt(t) for t in re.findall(regExp, s) ]\n",
    "    return list(reversed(L))"
   ]
  },
  {
   "cell_type": "code",
   "execution_count": 13,
   "metadata": {},
   "outputs": [
    {
     "data": {
      "text/plain": [
       "[')', 4, '**', 2, '+', 17, '(', '-', 3, '/', 56, '*', 34, '+', 12]"
      ]
     },
     "execution_count": 13,
     "metadata": {},
     "output_type": "execute_result"
    }
   ],
   "source": [
    "tokenize('12+34*56/3-(17+2**4)')"
   ]
  },
  {
   "cell_type": "markdown",
   "metadata": {},
   "source": [
    "The function $\\texttt{evalBefore}(\\texttt{o}_1, \\texttt{o}_2)$ receives to strings representing artithmetical operators.  It returns `True` if the operator $\\texttt{o}_1$ should be evaluated before the operator $\\texttt{o}_2$ in an arithmetical expression of the form $a \\;\\texttt{o}_1\\; b \\;\\texttt{o}_2\\; c$."
   ]
  },
  {
   "cell_type": "code",
   "execution_count": 14,
   "metadata": {},
   "outputs": [],
   "source": [
    "def evalBefore(o1, o2):\n",
    "    if o1 =='(':\n",
    "        return False\n",
    "    Precedence = { '+': 1, '-': 1, '*': 2, '/': 2, '%': 2, '**' : 3 }\n",
    "    if Precedence[o1] > Precedence[o2]:\n",
    "        return True\n",
    "    elif Precedence[o1] == Precedence[o2]:\n",
    "        if o1 == o2:\n",
    "            return o1 in { '+', '-', '*', '/', '%' }\n",
    "        else:\n",
    "            return True\n",
    "    else:\n",
    "        return False"
   ]
  },
  {
   "cell_type": "code",
   "execution_count": 15,
   "metadata": {},
   "outputs": [],
   "source": [
    "import stack"
   ]
  },
  {
   "cell_type": "markdown",
   "metadata": {},
   "source": [
    "The class `Calculator` supports three member variables:\n",
    "  - the token stack `mTokenStack` \n",
    "  - the operator stack `mOperators`\n",
    "  - the argument stack `mArguments`\n",
    "  \n",
    "The constructor takes a string that is tokenized and pushes the tokens onto the token stack such that the first token is on top of the token stack."
   ]
  },
  {
   "cell_type": "code",
   "execution_count": 16,
   "metadata": {},
   "outputs": [],
   "source": [
    "class Calculator:\n",
    "    def __init__(self, s):\n",
    "        self.mTokens    = stack.createStack(tokenize(s))\n",
    "        self.mOperators = stack.Stack()\n",
    "        self.mArguments = stack.Stack()    "
   ]
  },
  {
   "cell_type": "markdown",
   "metadata": {},
   "source": [
    "The method `__str__` is used to convert an object of class `Calculator` to a string."
   ]
  },
  {
   "cell_type": "code",
   "execution_count": 17,
   "metadata": {},
   "outputs": [],
   "source": [
    "def toString(self):\n",
    "    return '\\n'.join(['_'*50, \n",
    "                      'Tokens:    ' + str(self.mTokens), \n",
    "                      'Arguments: ' + str(self.mArguments), \n",
    "                      'Operators: ' + str(self.mOperators), \n",
    "                      '_'*50])\n",
    "\n",
    "Calculator.__str__ = toString"
   ]
  },
  {
   "cell_type": "markdown",
   "metadata": {},
   "source": [
    "The function $\\texttt{evaluate}(\\texttt{self})$ evaluates the expression that is given by the tokens on the `mTokenStack`."
   ]
  },
  {
   "cell_type": "code",
   "execution_count": 18,
   "metadata": {},
   "outputs": [],
   "source": [
    "def evaluate(self):\n",
    "    while not self.mTokens.isEmpty():\n",
    "        print(self)\n",
    "        t = self.mTokens.top(); self.mTokens.pop()\n",
    "        if isinstance(t, int):\n",
    "            self.mArguments.push(t)\n",
    "            continue\n",
    "        if (self.mOperators.isEmpty() or t == \"(\"):\n",
    "            self.mOperators.push(t)\n",
    "            continue\n",
    "        topOp = self.mOperators.top()\n",
    "        if topOp == \"(\" and t == \")\":\n",
    "            self.mOperators.pop()\n",
    "        elif (t == \")\" or evalBefore(topOp, t)):\n",
    "            self.popAndEvaluate()\n",
    "            self.mTokens.push(t)\n",
    "        else:\n",
    "            self.mOperators.push(t)\n",
    "    while not self.mOperators.isEmpty():\n",
    "        print(self)\n",
    "        self.popAndEvaluate()\n",
    "    return self.mArguments.top()\n",
    "    \n",
    "Calculator.evaluate = evaluate"
   ]
  },
  {
   "cell_type": "markdown",
   "metadata": {},
   "source": [
    "The method $\\texttt{popAndevaluate}(\\texttt{self})$ removes the two topmost numbers $\\texttt{rhs}$ and $\\texttt{lhs}$ from the argument stack and \n",
    "removes the topmost operator $\\texttt{op}$ from the argument stack.  It computes the value\n",
    "$$ \\texttt{lhs} \\;\\texttt{op}\\; \\texttt{rhs} $$\n",
    "and pushes this value on the argument stack."
   ]
  },
  {
   "cell_type": "code",
   "execution_count": 19,
   "metadata": {},
   "outputs": [],
   "source": [
    "def popAndEvaluate(self):\n",
    "    rhs = self.mArguments.top(); self.mArguments.pop()\n",
    "    lhs = self.mArguments.top(); self.mArguments.pop()\n",
    "    op  = self.mOperators.top(); self.mOperators.pop()\n",
    "    result = None\n",
    "    if op == '+':\n",
    "        result = lhs + rhs\n",
    "    if op == '-':\n",
    "        result = lhs - rhs\n",
    "    if op == '*':\n",
    "        result = lhs * rhs\n",
    "    if op == '/':\n",
    "        result = lhs // rhs\n",
    "    if op == '%':\n",
    "        result = lhs % rhs\n",
    "    if op == '**':\n",
    "        result = lhs ** rhs\n",
    "    assert result != None, f'ERROR: *** Unknown Operator *** \"{op}\"'\n",
    "    self.mArguments.push(result)\n",
    "    \n",
    "Calculator.popAndEvaluate = popAndEvaluate"
   ]
  },
  {
   "cell_type": "code",
   "execution_count": 20,
   "metadata": {},
   "outputs": [],
   "source": [
    "C = Calculator('1+2*3-4**2')"
   ]
  },
  {
   "cell_type": "code",
   "execution_count": 21,
   "metadata": {},
   "outputs": [
    {
     "name": "stdout",
     "output_type": "stream",
     "text": [
      "__________________________________________________\n",
      "Tokens:    | 2 | ** | 4 | - | 3 | * | 2 | + | 1 |\n",
      "Arguments: |\n",
      "Operators: |\n",
      "__________________________________________________\n",
      "__________________________________________________\n",
      "Tokens:    | 2 | ** | 4 | - | 3 | * | 2 | + |\n",
      "Arguments: | 1 |\n",
      "Operators: |\n",
      "__________________________________________________\n",
      "__________________________________________________\n",
      "Tokens:    | 2 | ** | 4 | - | 3 | * | 2 |\n",
      "Arguments: | 1 |\n",
      "Operators: | + |\n",
      "__________________________________________________\n",
      "__________________________________________________\n",
      "Tokens:    | 2 | ** | 4 | - | 3 | * |\n",
      "Arguments: | 1 | 2 |\n",
      "Operators: | + |\n",
      "__________________________________________________\n",
      "__________________________________________________\n",
      "Tokens:    | 2 | ** | 4 | - | 3 |\n",
      "Arguments: | 1 | 2 |\n",
      "Operators: | + | * |\n",
      "__________________________________________________\n",
      "__________________________________________________\n",
      "Tokens:    | 2 | ** | 4 | - |\n",
      "Arguments: | 1 | 2 | 3 |\n",
      "Operators: | + | * |\n",
      "__________________________________________________\n",
      "__________________________________________________\n",
      "Tokens:    | 2 | ** | 4 | - |\n",
      "Arguments: | 1 | 6 |\n",
      "Operators: | + |\n",
      "__________________________________________________\n",
      "__________________________________________________\n",
      "Tokens:    | 2 | ** | 4 | - |\n",
      "Arguments: | 7 |\n",
      "Operators: |\n",
      "__________________________________________________\n",
      "__________________________________________________\n",
      "Tokens:    | 2 | ** | 4 |\n",
      "Arguments: | 7 |\n",
      "Operators: | - |\n",
      "__________________________________________________\n",
      "__________________________________________________\n",
      "Tokens:    | 2 | ** |\n",
      "Arguments: | 7 | 4 |\n",
      "Operators: | - |\n",
      "__________________________________________________\n",
      "__________________________________________________\n",
      "Tokens:    | 2 |\n",
      "Arguments: | 7 | 4 |\n",
      "Operators: | - | ** |\n",
      "__________________________________________________\n",
      "__________________________________________________\n",
      "Tokens:    |\n",
      "Arguments: | 7 | 4 | 2 |\n",
      "Operators: | - | ** |\n",
      "__________________________________________________\n",
      "__________________________________________________\n",
      "Tokens:    |\n",
      "Arguments: | 7 | 16 |\n",
      "Operators: | - |\n",
      "__________________________________________________\n"
     ]
    },
    {
     "data": {
      "text/plain": [
       "-9"
      ]
     },
     "execution_count": 21,
     "metadata": {},
     "output_type": "execute_result"
    }
   ],
   "source": [
    "C.evaluate()"
   ]
  },
  {
   "cell_type": "code",
   "execution_count": null,
   "metadata": {},
   "outputs": [],
   "source": []
  }
 ],
 "metadata": {
  "kernelspec": {
   "display_name": "Python 3",
   "language": "python",
   "name": "python3"
  },
  "language_info": {
   "codemirror_mode": {
    "name": "ipython",
    "version": 3
   },
   "file_extension": ".py",
   "mimetype": "text/x-python",
   "name": "python",
   "nbconvert_exporter": "python",
   "pygments_lexer": "ipython3",
   "version": "3.6.8"
  }
 },
 "nbformat": 4,
 "nbformat_minor": 2
}
