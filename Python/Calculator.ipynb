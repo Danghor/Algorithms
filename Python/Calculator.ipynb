{
 "cells": [
  {
   "cell_type": "code",
   "execution_count": null,
   "metadata": {},
   "outputs": [],
   "source": [
    "%%HTML\n",
    "<style>\n",
    ".container { width:100% } \n",
    "</style>"
   ]
  },
  {
   "cell_type": "markdown",
   "metadata": {},
   "source": [
    "# The Shunting Yard Algorithm (Operator Precedence Parsing)"
   ]
  },
  {
   "cell_type": "markdown",
   "metadata": {},
   "source": [
    "The function $\\texttt{toInt}(s)$ tries to convert the string $s$ to an integer.  If this works out, the integer is returned.  Otherwise, the string $s$ is returned unchanged."
   ]
  },
  {
   "cell_type": "code",
   "execution_count": null,
   "metadata": {},
   "outputs": [],
   "source": [
    "def toInt(s):\n",
    "    try:\n",
    "        return int(s)   \n",
    "    except ValueError:\n",
    "        return s"
   ]
  },
  {
   "cell_type": "code",
   "execution_count": null,
   "metadata": {},
   "outputs": [],
   "source": [
    "toInt('123')"
   ]
  },
  {
   "cell_type": "code",
   "execution_count": null,
   "metadata": {},
   "outputs": [],
   "source": [
    "toInt('**')"
   ]
  },
  {
   "cell_type": "markdown",
   "metadata": {},
   "source": [
    "The module `re` provides support for <a href='https://en.wikipedia.org/wiki/Regular_expression'>regular expressions</a>.  These are needed for\n",
    "<em style=\"color:blue;\">tokenizing</em> a string."
   ]
  },
  {
   "cell_type": "code",
   "execution_count": null,
   "metadata": {},
   "outputs": [],
   "source": [
    "import re"
   ]
  },
  {
   "cell_type": "markdown",
   "metadata": {},
   "source": [
    "The function $\\texttt{tokenize}(s)$ takes a string $s$ representing an arithmetic expression and splits this string into a list of tokens.\n",
    "The string `regExp` in the implementation below is interpreted as follows:\n",
    "\n",
    "  - The `r` in front of the apostrophe `'` specifies that the regular expression is defined as a <em style=\"color:blue;\">raw string</em>.  In a *raw string* the backslash does not have to be escaped because it is treated as a literal character.</br>  \n",
    "  - The regular expression is divided into three parts. These parts are separated by the character `|`.  \n",
    "      1. `[0-9]+` matches a natural number.  For example, it matches `0` or `123`.  It would also match a string like `007`.\n",
    "         The `+` at the end of the substring `[0-9]*` specifies that there are any positive number of the characters in the range `[0-9]`.</br>\n",
    "      2. `\\*\\*` matches the operator `**`.</br>\n",
    "      3. `[()+*/%-]` matches a parenthesis or an arithmetical operator.  Note that we have \n",
    "         to put the symbol `-` last in this group as otherwise this symbol would be \n",
    "         interpreted as a range operator."
   ]
  },
  {
   "cell_type": "code",
   "execution_count": null,
   "metadata": {},
   "outputs": [],
   "source": [
    "def tokenize(s):\n",
    "    regExp = r'([0-9]+|\\*\\*|[()+*%/-])'\n",
    "    L = [ toInt(t) for t in re.findall(regExp, s) ]\n",
    "    return list(reversed(L))"
   ]
  },
  {
   "cell_type": "code",
   "execution_count": null,
   "metadata": {},
   "outputs": [],
   "source": [
    "tokenize('12+34*56/3-(17+2**4)')"
   ]
  },
  {
   "cell_type": "markdown",
   "metadata": {},
   "source": [
    "The function $\\texttt{evalBefore}(\\texttt{o}_1, \\texttt{o}_2)$ receives to strings representing artithmetical operators.  It returns `True` if the operator $\\texttt{o}_1$ should be evaluated before the operator $\\texttt{o}_2$ in an arithmetical expression of the form $a \\;\\texttt{o}_1\\; b \\;\\texttt{o}_2\\; c$."
   ]
  },
  {
   "cell_type": "code",
   "execution_count": null,
   "metadata": {},
   "outputs": [],
   "source": [
    "def evalBefore(stackOp, nextOp):\n",
    "    if stackOp == '(':\n",
    "        return False\n",
    "    Precedence = { '+': 1, '-': 1, '*': 2, '/': 2, '%': 2, '**' : 3 }\n",
    "    if Precedence[stackOp] > Precedence[nextOp]:\n",
    "        return True\n",
    "    elif Precedence[stackOp] == Precedence[nextOp]:\n",
    "        if stackOp == nextOp:\n",
    "            return stackOp in { '+', '-', '*', '/', '%' }\n",
    "        else:\n",
    "            return True\n",
    "    else:\n",
    "        return False"
   ]
  },
  {
   "cell_type": "code",
   "execution_count": null,
   "metadata": {},
   "outputs": [],
   "source": [
    "import stack"
   ]
  },
  {
   "cell_type": "markdown",
   "metadata": {},
   "source": [
    "The class `Calculator` supports three member variables:\n",
    "  - the token stack `mTokenStack` \n",
    "  - the operator stack `mOperators`\n",
    "  - the argument stack `mArguments`\n",
    "  \n",
    "The constructor takes a string that is tokenized and pushes the tokens onto the token stack such that the first token is on top of the token stack."
   ]
  },
  {
   "cell_type": "code",
   "execution_count": null,
   "metadata": {},
   "outputs": [],
   "source": [
    "class Calculator:\n",
    "    def __init__(self, s):\n",
    "        self.mTokens    = stack.createStack(tokenize(s))\n",
    "        self.mOperators = stack.Stack()\n",
    "        self.mArguments = stack.Stack()    "
   ]
  },
  {
   "cell_type": "markdown",
   "metadata": {},
   "source": [
    "The method `__str__` is used to convert an object of class `Calculator` to a string."
   ]
  },
  {
   "cell_type": "code",
   "execution_count": null,
   "metadata": {},
   "outputs": [],
   "source": [
    "def toString(self):\n",
    "    return '\\n'.join(['_'*50, \n",
    "                      'Tokens:    ' + str(self.mTokens), \n",
    "                      'Arguments: ' + str(self.mArguments), \n",
    "                      'Operators: ' + str(self.mOperators), \n",
    "                      '_'*50])\n",
    "\n",
    "Calculator.__str__ = toString\n",
    "del toString"
   ]
  },
  {
   "cell_type": "markdown",
   "metadata": {},
   "source": [
    "The function $\\texttt{evaluate}(\\texttt{self})$ evaluates the expression that is given by the tokens on the `mTokenStack`."
   ]
  },
  {
   "cell_type": "code",
   "execution_count": null,
   "metadata": {},
   "outputs": [],
   "source": [
    "def evaluate(self):\n",
    "    while not self.mTokens.isEmpty():\n",
    "        print(self)\n",
    "        nextOp = self.mTokens.top(); self.mTokens.pop()\n",
    "        if isinstance(nextOp, int):\n",
    "            self.mArguments.push(nextOp)\n",
    "            continue\n",
    "        if self.mOperators.isEmpty() or nextOp == \"(\":\n",
    "            self.mOperators.push(nextOp)\n",
    "            continue\n",
    "        stackOp = self.mOperators.top()\n",
    "        if stackOp == \"(\" and nextOp == \")\":\n",
    "            self.mOperators.pop()\n",
    "        elif nextOp == \")\" or evalBefore(stackOp, nextOp):\n",
    "            self.popAndEvaluate()\n",
    "            self.mTokens.push(nextOp)\n",
    "        else:\n",
    "            self.mOperators.push(nextOp)\n",
    "    while not self.mOperators.isEmpty():\n",
    "        print(self)\n",
    "        self.popAndEvaluate()\n",
    "    return self.mArguments.top()\n",
    "    \n",
    "Calculator.evaluate = evaluate"
   ]
  },
  {
   "cell_type": "markdown",
   "metadata": {},
   "source": [
    "The method $\\texttt{popAndevaluate}(\\texttt{self})$ removes the two topmost numbers $\\texttt{rhs}$ and $\\texttt{lhs}$ from the argument stack and \n",
    "removes the topmost operator $\\texttt{op}$ from the argument stack.  It computes the value\n",
    "$$ \\texttt{lhs} \\;\\texttt{op}\\; \\texttt{rhs} $$\n",
    "and pushes this value on the argument stack."
   ]
  },
  {
   "cell_type": "code",
   "execution_count": null,
   "metadata": {},
   "outputs": [],
   "source": [
    "def popAndEvaluate(self):\n",
    "    rhs = self.mArguments.top(); self.mArguments.pop()\n",
    "    lhs = self.mArguments.top(); self.mArguments.pop()\n",
    "    op  = self.mOperators.top(); self.mOperators.pop()\n",
    "    result = None\n",
    "    if op == '+':\n",
    "        result = lhs + rhs\n",
    "    if op == '-':\n",
    "        result = lhs - rhs\n",
    "    if op == '*':\n",
    "        result = lhs * rhs\n",
    "    if op == '/':\n",
    "        result = lhs // rhs\n",
    "    if op == '%':\n",
    "        result = lhs % rhs\n",
    "    if op == '**':\n",
    "        result = lhs ** rhs\n",
    "    assert result != None, f'ERROR: *** Unknown Operator *** \"{op}\"'\n",
    "    self.mArguments.push(result)\n",
    "    \n",
    "Calculator.popAndEvaluate = popAndEvaluate\n",
    "del popAndEvaluate"
   ]
  },
  {
   "cell_type": "code",
   "execution_count": null,
   "metadata": {},
   "outputs": [],
   "source": [
    "C = Calculator('2*(3+4)**2')"
   ]
  },
  {
   "cell_type": "code",
   "execution_count": null,
   "metadata": {},
   "outputs": [],
   "source": [
    "C.evaluate()"
   ]
  },
  {
   "cell_type": "code",
   "execution_count": null,
   "metadata": {},
   "outputs": [],
   "source": []
  }
 ],
 "metadata": {
  "kernelspec": {
   "display_name": "Python 3",
   "language": "python",
   "name": "python3"
  },
  "language_info": {
   "codemirror_mode": {
    "name": "ipython",
    "version": 3
   },
   "file_extension": ".py",
   "mimetype": "text/x-python",
   "name": "python",
   "nbconvert_exporter": "python",
   "pygments_lexer": "ipython3",
   "version": "3.7.3"
  }
 },
 "nbformat": 4,
 "nbformat_minor": 2
}
