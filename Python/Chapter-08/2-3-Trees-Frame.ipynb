{
 "cells": [
  {
   "cell_type": "code",
   "execution_count": 2,
   "metadata": {},
   "outputs": [
    {
     "data": {
      "text/html": [
       "<link href='http://fonts.googleapis.com/css?family=Alegreya+Sans:100,300,400,500,700,800,900,100italic,300italic,400italic,500italic,700italic,800italic,900italic' rel='stylesheet' type='text/css'>\n",
       "<link href='http://fonts.googleapis.com/css?family=Arvo:400,700,400italic' rel='stylesheet' type='text/css'>\n",
       "<link href='http://fonts.googleapis.com/css?family=PT+Mono' rel='stylesheet' type='text/css'>\n",
       "<link href='http://fonts.googleapis.com/css?family=Shadows+Into+Light' rel='stylesheet' type='text/css'>\n",
       "<link href='http://fonts.googleapis.com/css?family=Philosopher:400,700,400italic,700italic' rel='stylesheet' type='text/css'>\n",
       "\n",
       "<style>\n",
       "\n",
       "@font-face {\n",
       "    font-family: \"Computer Modern\";\n",
       "    src: url('http://mirrors.ctan.org/fonts/cm-unicode/fonts/otf/cmunss.otf');\n",
       "}\n",
       "\n",
       ".container { width: 100% }\n",
       "\n",
       "/* Formatting for header cells */\n",
       ".text_cell_render h1 {\n",
       "    font-family: 'Philosopher', sans-serif;\n",
       "    font-weight: 400;\n",
       "    font-size: 2.2em;\n",
       "    line-height: 100%;\n",
       "    color: rgb(0, 80, 120);\n",
       "    margin-bottom: 0.1em;\n",
       "    margin-top: 0.1em;\n",
       "    display: block;\n",
       "}\t\n",
       ".text_cell_render h2 {\n",
       "    font-family: 'Philosopher', serif;\n",
       "    font-weight: 400;\n",
       "    font-size: 1.9em;\n",
       "    line-height: 100%;\n",
       "    color: rgb(200,100,0);\n",
       "    margin-bottom: 0.1em;\n",
       "    margin-top: 0.1em;\n",
       "    display: block;\n",
       "}\t\n",
       "\n",
       ".text_cell_render h3 {\n",
       "    font-family: 'Philosopher', serif;\n",
       "    margin-top:12px;\n",
       "    margin-bottom: 3px;\n",
       "    font-style: italic;\n",
       "    color: rgb(94,127,192);\n",
       "}\n",
       "\n",
       ".text_cell_render h4 {\n",
       "    font-family: 'Philosopher', serif;\n",
       "}\n",
       "\n",
       ".text_cell_render h5 {\n",
       "    font-family: 'Alegreya Sans', sans-serif;\n",
       "    font-weight: 300;\n",
       "    font-size: 16pt;\n",
       "    color: grey;\n",
       "    font-style: italic;\n",
       "    margin-bottom: .1em;\n",
       "    margin-top: 0.1em;\n",
       "    display: block;\n",
       "}\n",
       "\n",
       ".text_cell_render h6 {\n",
       "    font-family: 'PT Mono', sans-serif;\n",
       "    font-weight: 300;\n",
       "    font-size: 10pt;\n",
       "    color: grey;\n",
       "    margin-bottom: 1px;\n",
       "    margin-top: 1px;\n",
       "}\n",
       "\n",
       ".text_cell_render em {\n",
       "    font-family: 'Philosopher', sans-serif;\n",
       "    color:        blue;\n",
       "    background-color: rgb(255,220,180);\n",
       "    font-size:    110%;\n",
       "    margin-left:   2px;\n",
       "    margin-right:  2px;\n",
       "    font-weight:   100;\n",
       "}\n",
       "\n",
       ".text_cell_render b {\n",
       "    color:            rgb(255,195,195);\n",
       "    background-color: rgb(0,0,0);\n",
       "    font-size:    110%;\n",
       "    margin-left:   2px;\n",
       "    margin-right:  2px;\n",
       "    font-weight:   650;\n",
       "}\n",
       "\n",
       ".text_cell_render tt {\n",
       "    font-size:    120%;\n",
       "    margin-left:   2px;\n",
       "    margin-right:  2px;\n",
       "    font-weight:   150;\n",
       "}\n",
       "\n",
       ".Codemirror {\n",
       "    font-family: \"PT Mono\";\n",
       "    font-size: 100%;\n",
       "}\n",
       "\n",
       "</style>\n",
       "\n"
      ],
      "text/plain": [
       "<IPython.core.display.HTML object>"
      ]
     },
     "execution_count": 2,
     "metadata": {},
     "output_type": "execute_result"
    }
   ],
   "source": [
    "from IPython.core.display import HTML\n",
    "with open('../style.css') as file:\n",
    "    css = file.read()\n",
    "HTML(css)"
   ]
  },
  {
   "cell_type": "markdown",
   "metadata": {},
   "source": [
    "# 2-3 Trees"
   ]
  },
  {
   "cell_type": "code",
   "execution_count": 3,
   "metadata": {},
   "outputs": [],
   "source": [
    "import graphviz as gv"
   ]
  },
  {
   "cell_type": "markdown",
   "metadata": {},
   "source": [
    "Ths notebook presents <a href=\"https://en.wikipedia.org/wiki/2-3_tree\">2-3 trees</a>.  We define these trees inductively as follows:\n",
    "  - $\\texttt{Nil}$ is a 2-3 tree that represents the empty set.\n",
    "  - $\\texttt{Two}(l, k, r)$ is a 2-3 tree provided that\n",
    "      - $l$ is a 2-3 tree,\n",
    "      - $k$ is a key,\n",
    "      - $r$ is a 2-3 tree,\n",
    "      - all keys stored in $l$ are less than k and all keys stored in $r$ are bigger than $k$, that is we have\n",
    "        $$ l < k < r. $$\n",
    "      - $l$ and $r$ have the same height.\n",
    "      A node of the form  $\\texttt{Two}(l, k, r)$ is called a *2-node*.  Except for the fact\n",
    "      that there is no value, a 2-node is\n",
    "      interpreted in the same way as we have interpreted the term $\\texttt{Node}(k, v, l, r)$.\n",
    "  - $\\texttt{Three}(l, k_l, m, k_r, r)$ is a 2-3 tree provided\n",
    "      - $l$, $m$, and $r$ are 2-3 trees,\n",
    "      - $k_l$ and $k_r$ are keys,\n",
    "      - $l < k_l < m < k_r < r$,\n",
    "      - $l$, $m$, and $r$ have the same height.\n",
    "      A node of the form  $\\texttt{Three}(l, k_l, m, k_r, r)$ is called a *3-node*. \n",
    "\n",
    "In order to keep 2-3 trees balanced when inserting new keys we use a fourth constructor of the form\n",
    "$\\texttt{Four}(l,k_1,m_l, k_2, m_r, k_3, r)$.\n",
    "A term of the form $\\texttt{Four}(l,k_1,m_l, k_2, m_r, k_3, r)$ is a *2-3-4 tree* iff\n",
    "  - $l$, $m_l$, $m_r$, and $r$ are 2-3 trees,\n",
    "  - $k_l$, $k_m$, and $k_r$ are keys,\n",
    "  - $l < k_l < m_l < k_m < m_r < k_r < r$,\n",
    "  - $l$, $m_l$, $m_r$, and $r$ all have the same height.\n",
    "  \n",
    "Nodes of this form are called *4-nodes* and the key $k_m$ is called the *middle key*.\n",
    "Trees containing 2-nodes, 3-node, and 4-nodes are called *2-3-4 trees*.\n",
    "\n",
    "In order to keep 2-3 trees balanced when deleting keys we use a fifth constructor of the form\n",
    "$\\texttt{One}(t)$.\n",
    "A term of the form $\\texttt{One}(t)$ is a *1-2-3 tree* iff $t$ is a 2-3 tree."
   ]
  },
  {
   "cell_type": "markdown",
   "metadata": {},
   "source": [
    "The class `TwoThreeTree` is a *superclass* for constructing the nodes of *2-3-4 trees*.  It has one static variable `sNodeCount`.  This variable is used to equip all nodes with a unique identifier.  This identifier is used to draw the trees using `graphviz`.\n",
    "\n",
    "Every node has a uniques id `mID` that is stored as a member variable.  Furthermore, this class provides defaults for the functions `isNil`, `isTwo`, `isThree`, and `isFour`.  These functions can be used to check the type of a node."
   ]
  },
  {
   "cell_type": "code",
   "execution_count": 4,
   "metadata": {},
   "outputs": [],
   "source": [
    "class TwoThreeTree:\n",
    "    sNodeCount = 0\n",
    "    \n",
    "    def __init__(self):\n",
    "        TwoThreeTree.sNodeCount += 1\n",
    "        self.mID = TwoThreeTree.sNodeCount\n",
    "        \n",
    "    def getID(self):\n",
    "        return self.mID\n",
    "        \n",
    "    def isNil(self):\n",
    "        return False\n",
    "    \n",
    "    def isOne(self):\n",
    "        return False\n",
    "    \n",
    "    def isTwo(self):\n",
    "        return False\n",
    "    \n",
    "    def isThree(self):\n",
    "        return False\n",
    "    \n",
    "    def isFour(self):\n",
    "        return False\n",
    "    \n",
    "    def isTree(self):\n",
    "        return False\n",
    "    \n",
    "    def isMethod(self):\n",
    "        return False\n",
    "    \n",
    "    def insert(self, k):\n",
    "        return self._ins(k)._restore()._grow()\n",
    "    \n",
    "    def delete(self, k):\n",
    "        return self._del(k)._repair()._shrink()\n",
    "    \n",
    "    def _grow(self):\n",
    "        return self\n",
    "    \n",
    "    def _shrink(self):\n",
    "        return self"
   ]
  },
  {
   "cell_type": "markdown",
   "metadata": {},
   "source": [
    "The function `make_string` is a helper function used to shorten the implementation of `__str__`.\n",
    "  - `obj` is the object that is to be rendered as a string\n",
    "  - `attributes` is a list of those member variables that are used to produce the string"
   ]
  },
  {
   "cell_type": "code",
   "execution_count": 5,
   "metadata": {},
   "outputs": [],
   "source": [
    "def _make_string(self, attributes):\n",
    "        # map the function __str__ to all attributes and join them with a comma\n",
    "        name = self.__class__.__name__\n",
    "        return f\"{name}({', '.join(map(str, [getattr(self, at) for at in attributes]))})\"\n",
    "    \n",
    "TwoThreeTree._make_string = _make_string"
   ]
  },
  {
   "cell_type": "markdown",
   "metadata": {},
   "source": [
    "The method $t.\\texttt{toDot}()$ takes a 2-3-4 tree $t$ and returns a graph that depicts the tree $t$."
   ]
  },
  {
   "cell_type": "code",
   "execution_count": 6,
   "metadata": {},
   "outputs": [],
   "source": [
    "def toDot(self):\n",
    "    dot = gv.Digraph(node_attr={'shape': 'record', 'style': 'rounded'})\n",
    "    nodeDict = {}\n",
    "    self._collectIDs(nodeDict)\n",
    "    for n, t in nodeDict.items():\n",
    "        if t.isNil():\n",
    "            dot.node(str(n), label='', shape='point')\n",
    "        elif t.isOne():\n",
    "            dot.node(str(n), label='', shape='point')\n",
    "        elif t.isTwo():\n",
    "            dot.node(str(n), label=str(t.mKey))\n",
    "        elif t.isThree():\n",
    "            dot.node(str(n), label=str(t.mKeyL) + '|' + str(t.mKeyR))\n",
    "        elif t.isFour():\n",
    "            dot.node(str(n), label=str(t.mKeyL) + '|' + str(t.mKeyM) + '|' + str(t.mKeyR))\n",
    "        elif t.isTree():\n",
    "            dot.node(str(n), label=str(t.mName), shape='triangle')\n",
    "        else:\n",
    "            assert False, f'Unknown node {t}'\n",
    "    for n, t in nodeDict.items():\n",
    "        if t.isOne():\n",
    "            dot.edge(str(n), str(t.mChild.getID()))\n",
    "        if t.isTwo():\n",
    "            dot.edge(str(n), str(t.mLeft .getID()))\n",
    "            dot.edge(str(n), str(t.mRight.getID()))\n",
    "        if t.isThree():\n",
    "            dot.edge(str(n), str(t.mLeft  .getID()))\n",
    "            dot.edge(str(n), str(t.mMiddle.getID()))\n",
    "            dot.edge(str(n), str(t.mRight .getID()))\n",
    "        if t.isFour():\n",
    "            dot.edge(str(n), str(t.mLeft   .getID()))\n",
    "            dot.edge(str(n), str(t.mMiddleL.getID()))\n",
    "            dot.edge(str(n), str(t.mMiddleR.getID()))\n",
    "            dot.edge(str(n), str(t.mRight  .getID()))\n",
    "    return dot\n",
    "\n",
    "TwoThreeTree.toDot = toDot"
   ]
  },
  {
   "cell_type": "markdown",
   "metadata": {},
   "source": [
    "The method $t.\\texttt{collectIDs}(d)$ takes a tree $t$ and a dictionary $d$ and updates the dictionary so that the following holds:\n",
    "$$ d[\\texttt{id}] = n \\quad \\mbox{for every node $n$ in $t$.} $$\n",
    "Here, $\\texttt{id}$ is the unique identifier of the node $n$, i.e. $d$ associates the identifiers with the corresponding nodes."
   ]
  },
  {
   "cell_type": "code",
   "execution_count": 7,
   "metadata": {},
   "outputs": [],
   "source": [
    "def _collectIDs(self, nodeDict):\n",
    "    nodeDict[self.getID()] = self\n",
    "    if self.isOne():\n",
    "        self.mChild._collectIDs(nodeDict)\n",
    "    elif self.isTwo():\n",
    "        self.mLeft ._collectIDs(nodeDict)\n",
    "        self.mRight._collectIDs(nodeDict)\n",
    "    elif self.isThree():\n",
    "        self.mLeft  ._collectIDs(nodeDict)\n",
    "        self.mMiddle._collectIDs(nodeDict)\n",
    "        self.mRight ._collectIDs(nodeDict)\n",
    "    elif self.isFour():\n",
    "        self.mLeft   ._collectIDs(nodeDict)\n",
    "        self.mMiddleL._collectIDs(nodeDict)\n",
    "        self.mMiddleR._collectIDs(nodeDict)\n",
    "        self.mRight  ._collectIDs(nodeDict)\n",
    "        \n",
    "TwoThreeTree._collectIDs = _collectIDs"
   ]
  },
  {
   "cell_type": "markdown",
   "metadata": {},
   "source": [
    "The function $\\texttt{toDotList}(\\texttt{NodeList})$ takes a list of trees and displays them one by one."
   ]
  },
  {
   "cell_type": "code",
   "execution_count": 8,
   "metadata": {},
   "outputs": [],
   "source": [
    "def toDotList(NodeList):\n",
    "    dot = gv.Digraph(node_attr={'shape': 'record', 'style': 'rounded'})\n",
    "    nodeDict = {}\n",
    "    for node in NodeList:\n",
    "        node._collectIDs(nodeDict)\n",
    "    for n, t in nodeDict.items():\n",
    "        if t.isNil():\n",
    "            dot.node(str(n), label='', shape='point')\n",
    "        elif t.isOne():\n",
    "            dot.node(str(n), label='', shape='point')\n",
    "        elif t.isTwo():\n",
    "            dot.node(str(n), label=str(t.mKey))\n",
    "        elif t.isThree():\n",
    "            dot.node(str(n), label=str(t.mKeyL) + '|' + str(t.mKeyR))\n",
    "        elif t.isFour():\n",
    "            dot.node(str(n), label=str(t.mKeyL) + '|' + str(t.mKeyM) + '|' + str(t.mKeyR))\n",
    "        elif t.isTree():\n",
    "            dot.node(str(n), label=str(t.mName), shape='triangle', style='solid')\n",
    "        elif t.isMethod():\n",
    "            dot.node(str(n), label=str(t.mLabel), shape='rectangle', style='dotted')\n",
    "        else:\n",
    "            assert False, f'toDotList: Unknown node {str(t)}'\n",
    "    for n, t in nodeDict.items():\n",
    "        if t.isOne():\n",
    "            dot.edge(str(n), str(t.mChild.getID()))\n",
    "        if t.isTwo():\n",
    "            dot.edge(str(n), str(t.mLeft .getID()))\n",
    "            dot.edge(str(n), str(t.mRight.getID()))\n",
    "        if t.isThree():\n",
    "            dot.edge(str(n), str(t.mLeft  .getID()))\n",
    "            dot.edge(str(n), str(t.mMiddle.getID()))\n",
    "            dot.edge(str(n), str(t.mRight .getID()))\n",
    "        if t.isFour():\n",
    "            dot.edge(str(n), str(t.mLeft   .getID()))\n",
    "            dot.edge(str(n), str(t.mMiddleL.getID()))\n",
    "            dot.edge(str(n), str(t.mMiddleR.getID()))\n",
    "            dot.edge(str(n), str(t.mRight  .getID()))\n",
    "    return dot"
   ]
  },
  {
   "cell_type": "markdown",
   "metadata": {},
   "source": [
    "The class `Tree` is not used in the implementation of *2-3 trees*.  It is only used for displaying abstract subtrees in equations.\n",
    "It is displayed as a triangle containing the string that is stored in the member variable `mName`."
   ]
  },
  {
   "cell_type": "code",
   "execution_count": 9,
   "metadata": {},
   "outputs": [],
   "source": [
    "class Tree(TwoThreeTree):\n",
    "    def __init__(self, name):\n",
    "        TwoThreeTree.__init__(self)\n",
    "        self.mName = name\n",
    "        \n",
    "    def __str__(self):\n",
    "        return self.mName\n",
    "    \n",
    "    def isTree(self):\n",
    "        return True"
   ]
  },
  {
   "cell_type": "markdown",
   "metadata": {},
   "source": [
    "The class `Method` is not used in the implementation of 2-3 trees. It is only used for displaying method calls in equations. It is displayed as a rectangle containing the string that is stored in the member variable `mLabel`."
   ]
  },
  {
   "cell_type": "code",
   "execution_count": 10,
   "metadata": {},
   "outputs": [],
   "source": [
    "class Method(TwoThreeTree):\n",
    "    def __init__(self, label):\n",
    "        TwoThreeTree.__init__(self)\n",
    "        self.mLabel = label\n",
    "        \n",
    "    def __str__(self):\n",
    "        return self.mLabel\n",
    "    \n",
    "    def isMethod(self):\n",
    "        return True"
   ]
  },
  {
   "cell_type": "markdown",
   "metadata": {},
   "source": [
    "The class `Nil` represents an empty tree.  It has no member variables of its own."
   ]
  },
  {
   "cell_type": "code",
   "execution_count": 11,
   "metadata": {},
   "outputs": [],
   "source": [
    "class Nil(TwoThreeTree):\n",
    "    def __init__(self):\n",
    "        TwoThreeTree.__init__(self)\n",
    "        \n",
    "    def isNil(self):\n",
    "        return True\n",
    "    \n",
    "    def __str__(self):\n",
    "        return 'Nil()'"
   ]
  },
  {
   "cell_type": "markdown",
   "metadata": {},
   "source": [
    "The class `One`represents a 1-node.  These are nodes without a key that have only a single child."
   ]
  },
  {
   "cell_type": "code",
   "execution_count": 12,
   "metadata": {},
   "outputs": [],
   "source": [
    "class One(TwoThreeTree):\n",
    "    def __init__(self, child):\n",
    "        TwoThreeTree.__init__(self)\n",
    "        self.mChild = child\n",
    "        \n",
    "    def isOne(self):\n",
    "        return True\n",
    "\n",
    "    def __str__(self):\n",
    "        return make_string(self, ['mChild'])"
   ]
  },
  {
   "cell_type": "markdown",
   "metadata": {},
   "source": [
    "Graphically, the node $\\texttt{One}(t)$ is represented as shown below:"
   ]
  },
  {
   "cell_type": "code",
   "execution_count": 13,
   "metadata": {},
   "outputs": [
    {
     "data": {
      "image/svg+xml": [
       "<?xml version=\"1.0\" encoding=\"UTF-8\" standalone=\"no\"?>\r\n",
       "<!DOCTYPE svg PUBLIC \"-//W3C//DTD SVG 1.1//EN\"\r\n",
       " \"http://www.w3.org/Graphics/SVG/1.1/DTD/svg11.dtd\">\r\n",
       "<!-- Generated by graphviz version 2.38.0 (20140413.2041)\r\n",
       " -->\r\n",
       "<!-- Title: %3 Pages: 1 -->\r\n",
       "<svg width=\"62pt\" height=\"94pt\"\r\n",
       " viewBox=\"0.00 0.00 62.00 93.60\" xmlns=\"http://www.w3.org/2000/svg\" xmlns:xlink=\"http://www.w3.org/1999/xlink\">\r\n",
       "<g id=\"graph0\" class=\"graph\" transform=\"scale(1 1) rotate(0) translate(4 89.6)\">\r\n",
       "<title>%3</title>\r\n",
       "<polygon fill=\"white\" stroke=\"none\" points=\"-4,4 -4,-89.6 58,-89.6 58,4 -4,4\"/>\r\n",
       "<!-- 2 -->\r\n",
       "<g id=\"node1\" class=\"node\"><title>2</title>\r\n",
       "<ellipse fill=\"black\" stroke=\"black\" cx=\"27\" cy=\"-83.8\" rx=\"1.8\" ry=\"1.8\"/>\r\n",
       "</g>\r\n",
       "<!-- 1 -->\r\n",
       "<g id=\"node2\" class=\"node\"><title>1</title>\r\n",
       "<polygon fill=\"none\" stroke=\"black\" points=\"27,-46 0,-11.5 54,-11.5 27,-46\"/>\r\n",
       "<text text-anchor=\"middle\" x=\"27\" y=\"-19.3\" font-family=\"Times New Roman,serif\" font-size=\"14.00\">t</text>\r\n",
       "</g>\r\n",
       "<!-- 2&#45;&gt;1 -->\r\n",
       "<g id=\"edge1\" class=\"edge\"><title>2&#45;&gt;1</title>\r\n",
       "<path fill=\"none\" stroke=\"black\" d=\"M27,-81.7794C27,-78.4768 27,-67.6309 27,-56.2138\"/>\r\n",
       "<polygon fill=\"black\" stroke=\"black\" points=\"30.5001,-56.2088 27,-46.2088 23.5001,-56.2088 30.5001,-56.2088\"/>\r\n",
       "</g>\r\n",
       "</g>\r\n",
       "</svg>\r\n"
      ],
      "text/plain": [
       "<graphviz.dot.Digraph at 0x1d5141786a0>"
      ]
     },
     "execution_count": 13,
     "metadata": {},
     "output_type": "execute_result"
    }
   ],
   "source": [
    "toDotList([One(Tree('t'))])"
   ]
  },
  {
   "cell_type": "markdown",
   "metadata": {},
   "source": [
    "The class `Two` represents a 2-node of the form $\\texttt{Two}(l, k, r)$.  It manages three member variables:\n",
    "  - `mLeft`  is the left subtree $l$,\n",
    "  - `mKey`   is the key that is stored at this node,\n",
    "  - `mRight` is the right subtree $r$."
   ]
  },
  {
   "cell_type": "code",
   "execution_count": 14,
   "metadata": {},
   "outputs": [],
   "source": [
    "class Two(TwoThreeTree):\n",
    "    def __init__(self, left, key, right):\n",
    "        TwoThreeTree.__init__(self)\n",
    "        self.mLeft  = left\n",
    "        self.mKey   = key\n",
    "        self.mRight = right\n",
    "        \n",
    "    def isTwo(self):\n",
    "        return True\n",
    "\n",
    "    def __str__(self):\n",
    "        return self._make_string(['mLeft', 'mKey', 'mRight'])"
   ]
  },
  {
   "cell_type": "markdown",
   "metadata": {},
   "source": [
    "Graphically, the node $\\texttt{Two}(l, k, r)$ is represented as shown below:"
   ]
  },
  {
   "cell_type": "code",
   "execution_count": 15,
   "metadata": {},
   "outputs": [
    {
     "data": {
      "image/svg+xml": [
       "<?xml version=\"1.0\" encoding=\"UTF-8\" standalone=\"no\"?>\r\n",
       "<!DOCTYPE svg PUBLIC \"-//W3C//DTD SVG 1.1//EN\"\r\n",
       " \"http://www.w3.org/Graphics/SVG/1.1/DTD/svg11.dtd\">\r\n",
       "<!-- Generated by graphviz version 2.38.0 (20140413.2041)\r\n",
       " -->\r\n",
       "<!-- Title: %3 Pages: 1 -->\r\n",
       "<svg width=\"134pt\" height=\"127pt\"\r\n",
       " viewBox=\"0.00 0.00 134.30 127.00\" xmlns=\"http://www.w3.org/2000/svg\" xmlns:xlink=\"http://www.w3.org/1999/xlink\">\r\n",
       "<g id=\"graph0\" class=\"graph\" transform=\"scale(1 1) rotate(0) translate(4 123)\">\r\n",
       "<title>%3</title>\r\n",
       "<polygon fill=\"white\" stroke=\"none\" points=\"-4,4 -4,-123 130.298,-123 130.298,4 -4,4\"/>\r\n",
       "<!-- 5 -->\r\n",
       "<g id=\"node1\" class=\"node\"><title>5</title>\r\n",
       "<path fill=\"none\" stroke=\"black\" d=\"M48,-82.5C48,-82.5 78,-82.5 78,-82.5 84,-82.5 90,-88.5 90,-94.5 90,-94.5 90,-106.5 90,-106.5 90,-112.5 84,-118.5 78,-118.5 78,-118.5 48,-118.5 48,-118.5 42,-118.5 36,-112.5 36,-106.5 36,-106.5 36,-94.5 36,-94.5 36,-88.5 42,-82.5 48,-82.5\"/>\r\n",
       "<text text-anchor=\"middle\" x=\"63\" y=\"-96.8\" font-family=\"Times New Roman,serif\" font-size=\"14.00\">k</text>\r\n",
       "</g>\r\n",
       "<!-- 3 -->\r\n",
       "<g id=\"node2\" class=\"node\"><title>3</title>\r\n",
       "<polygon fill=\"none\" stroke=\"black\" points=\"27,-46 0,-11.5 54,-11.5 27,-46\"/>\r\n",
       "<text text-anchor=\"middle\" x=\"27\" y=\"-19.3\" font-family=\"Times New Roman,serif\" font-size=\"14.00\">l</text>\r\n",
       "</g>\r\n",
       "<!-- 5&#45;&gt;3 -->\r\n",
       "<g id=\"edge1\" class=\"edge\"><title>5&#45;&gt;3</title>\r\n",
       "<path fill=\"none\" stroke=\"black\" d=\"M54.831,-82.3679C49.8892,-72.0037 43.5211,-58.6485 38.1238,-47.3292\"/>\r\n",
       "<polygon fill=\"black\" stroke=\"black\" points=\"41.1542,-45.5523 33.6909,-38.0323 34.8357,-48.5651 41.1542,-45.5523\"/>\r\n",
       "</g>\r\n",
       "<!-- 4 -->\r\n",
       "<g id=\"node3\" class=\"node\"><title>4</title>\r\n",
       "<polygon fill=\"none\" stroke=\"black\" points=\"99,-46 71.9034,-11.5 126.097,-11.5 99,-46\"/>\r\n",
       "<text text-anchor=\"middle\" x=\"99\" y=\"-19.3\" font-family=\"Times New Roman,serif\" font-size=\"14.00\">r</text>\r\n",
       "</g>\r\n",
       "<!-- 5&#45;&gt;4 -->\r\n",
       "<g id=\"edge2\" class=\"edge\"><title>5&#45;&gt;4</title>\r\n",
       "<path fill=\"none\" stroke=\"black\" d=\"M71.169,-82.3679C76.1108,-72.0037 82.4789,-58.6485 87.8762,-47.3292\"/>\r\n",
       "<polygon fill=\"black\" stroke=\"black\" points=\"91.1643,-48.5651 92.3091,-38.0323 84.8458,-45.5523 91.1643,-48.5651\"/>\r\n",
       "</g>\r\n",
       "</g>\r\n",
       "</svg>\r\n"
      ],
      "text/plain": [
       "<graphviz.dot.Digraph at 0x1d514188c70>"
      ]
     },
     "execution_count": 15,
     "metadata": {},
     "output_type": "execute_result"
    }
   ],
   "source": [
    "toDotList([Two(Tree('l'), 'k', Tree('r'))])"
   ]
  },
  {
   "cell_type": "markdown",
   "metadata": {},
   "source": [
    "The class `Three` represents a 3-node of the form $\\texttt{Three}(l, k_L, m, k_R, r)$.  It manages 5 member variables:\n",
    "  - `mLeft`   is the left subtree $l$,\n",
    "  - `mKeyL`   is the left key $k_L$,\n",
    "  - `mMiddle` is the middle subtree $m$,\n",
    "  - `mKeyR`   is the right key $k_r$,\n",
    "  - `mRight`  is the right subtree."
   ]
  },
  {
   "cell_type": "code",
   "execution_count": 16,
   "metadata": {},
   "outputs": [],
   "source": [
    "class Three(TwoThreeTree):\n",
    "    def __init__(self, left, keyL, middle, keyR, right):\n",
    "        TwoThreeTree.__init__(self)\n",
    "        self.mLeft   = left\n",
    "        self.mKeyL   = keyL\n",
    "        self.mMiddle = middle\n",
    "        self.mKeyR   = keyR\n",
    "        self.mRight  = right\n",
    "\n",
    "    def __str__(self):\n",
    "        return self._make_string(['mLeft', 'mKeyL', 'mMiddle', 'mKeyR', 'mRight'])        \n",
    "\n",
    "    def isThree(self):\n",
    "        return True"
   ]
  },
  {
   "cell_type": "markdown",
   "metadata": {},
   "source": [
    "Graphically, the node $\\texttt{Three}(l, k_L, m, k_R, r)$ is represented as shown below:"
   ]
  },
  {
   "cell_type": "code",
   "execution_count": 17,
   "metadata": {},
   "outputs": [
    {
     "data": {
      "image/svg+xml": [
       "<?xml version=\"1.0\" encoding=\"UTF-8\" standalone=\"no\"?>\r\n",
       "<!DOCTYPE svg PUBLIC \"-//W3C//DTD SVG 1.1//EN\"\r\n",
       " \"http://www.w3.org/Graphics/SVG/1.1/DTD/svg11.dtd\">\r\n",
       "<!-- Generated by graphviz version 2.38.0 (20140413.2041)\r\n",
       " -->\r\n",
       "<!-- Title: %3 Pages: 1 -->\r\n",
       "<svg width=\"222pt\" height=\"127pt\"\r\n",
       " viewBox=\"0.00 0.00 222.30 127.00\" xmlns=\"http://www.w3.org/2000/svg\" xmlns:xlink=\"http://www.w3.org/1999/xlink\">\r\n",
       "<g id=\"graph0\" class=\"graph\" transform=\"scale(1 1) rotate(0) translate(4 123)\">\r\n",
       "<title>%3</title>\r\n",
       "<polygon fill=\"white\" stroke=\"none\" points=\"-4,4 -4,-123 218.298,-123 218.298,4 -4,4\"/>\r\n",
       "<!-- 9 -->\r\n",
       "<g id=\"node1\" class=\"node\"><title>9</title>\r\n",
       "<path fill=\"none\" stroke=\"black\" d=\"M86.5,-82.5C86.5,-82.5 127.5,-82.5 127.5,-82.5 133.5,-82.5 139.5,-88.5 139.5,-94.5 139.5,-94.5 139.5,-106.5 139.5,-106.5 139.5,-112.5 133.5,-118.5 127.5,-118.5 127.5,-118.5 86.5,-118.5 86.5,-118.5 80.5,-118.5 74.5,-112.5 74.5,-106.5 74.5,-106.5 74.5,-94.5 74.5,-94.5 74.5,-88.5 80.5,-82.5 86.5,-82.5\"/>\r\n",
       "<text text-anchor=\"middle\" x=\"90.5\" y=\"-96.8\" font-family=\"Times New Roman,serif\" font-size=\"14.00\">kL</text>\r\n",
       "<polyline fill=\"none\" stroke=\"black\" points=\"106.5,-82.5 106.5,-118.5 \"/>\r\n",
       "<text text-anchor=\"middle\" x=\"123\" y=\"-96.8\" font-family=\"Times New Roman,serif\" font-size=\"14.00\">kR</text>\r\n",
       "</g>\r\n",
       "<!-- 6 -->\r\n",
       "<g id=\"node2\" class=\"node\"><title>6</title>\r\n",
       "<polygon fill=\"none\" stroke=\"black\" points=\"27,-46 0,-11.5 54,-11.5 27,-46\"/>\r\n",
       "<text text-anchor=\"middle\" x=\"27\" y=\"-19.3\" font-family=\"Times New Roman,serif\" font-size=\"14.00\">l</text>\r\n",
       "</g>\r\n",
       "<!-- 9&#45;&gt;6 -->\r\n",
       "<g id=\"edge1\" class=\"edge\"><title>9&#45;&gt;6</title>\r\n",
       "<path fill=\"none\" stroke=\"black\" d=\"M88.8468,-82.3679C75.5612,-69.8297 57.6375,-52.9141 44.506,-40.5213\"/>\r\n",
       "<polygon fill=\"black\" stroke=\"black\" points=\"46.7083,-37.7871 37.0334,-33.469 41.9038,-42.878 46.7083,-37.7871\"/>\r\n",
       "</g>\r\n",
       "<!-- 7 -->\r\n",
       "<g id=\"node3\" class=\"node\"><title>7</title>\r\n",
       "<polygon fill=\"none\" stroke=\"black\" points=\"107,-46 71.806,-11.5 142.194,-11.5 107,-46\"/>\r\n",
       "<text text-anchor=\"middle\" x=\"107\" y=\"-19.3\" font-family=\"Times New Roman,serif\" font-size=\"14.00\">m</text>\r\n",
       "</g>\r\n",
       "<!-- 9&#45;&gt;7 -->\r\n",
       "<g id=\"edge2\" class=\"edge\"><title>9&#45;&gt;7</title>\r\n",
       "<path fill=\"none\" stroke=\"black\" d=\"M107,-82.3679C107,-74.6753 107,-65.3349 107,-56.4023\"/>\r\n",
       "<polygon fill=\"black\" stroke=\"black\" points=\"110.5,-56.2266 107,-46.2266 103.5,-56.2267 110.5,-56.2266\"/>\r\n",
       "</g>\r\n",
       "<!-- 8 -->\r\n",
       "<g id=\"node4\" class=\"node\"><title>8</title>\r\n",
       "<polygon fill=\"none\" stroke=\"black\" points=\"187,-46 159.903,-11.5 214.097,-11.5 187,-46\"/>\r\n",
       "<text text-anchor=\"middle\" x=\"187\" y=\"-19.3\" font-family=\"Times New Roman,serif\" font-size=\"14.00\">r</text>\r\n",
       "</g>\r\n",
       "<!-- 9&#45;&gt;8 -->\r\n",
       "<g id=\"edge3\" class=\"edge\"><title>9&#45;&gt;8</title>\r\n",
       "<path fill=\"none\" stroke=\"black\" d=\"M125.153,-82.3679C138.439,-69.8297 156.363,-52.9141 169.494,-40.5213\"/>\r\n",
       "<polygon fill=\"black\" stroke=\"black\" points=\"172.096,-42.878 176.967,-33.469 167.292,-37.7871 172.096,-42.878\"/>\r\n",
       "</g>\r\n",
       "</g>\r\n",
       "</svg>\r\n"
      ],
      "text/plain": [
       "<graphviz.dot.Digraph at 0x1d514178220>"
      ]
     },
     "execution_count": 17,
     "metadata": {},
     "output_type": "execute_result"
    }
   ],
   "source": [
    "toDotList([Three(Tree('l'), 'kL', Tree('m'), 'kR', Tree('r'))])"
   ]
  },
  {
   "cell_type": "markdown",
   "metadata": {},
   "source": [
    "The class `Four` represents a 4-node.  It manages 7 member variables:\n",
    "  - `mLeft`    is the left subtree $l$,\n",
    "  - `mKeyL`    is the left key $k_L$,\n",
    "  - `mMiddleL` is the middle left subtree $m_L$,\n",
    "  - `mKeyM`    is the middle key,\n",
    "  - `mMiddleR` is the middle right subtree $m_R$,\n",
    "  - `mKeyR`    is the right key $k_r$,\n",
    "  - `mRight`   is the right subtree."
   ]
  },
  {
   "cell_type": "code",
   "execution_count": 18,
   "metadata": {},
   "outputs": [],
   "source": [
    "class Four(TwoThreeTree):\n",
    "    def __init__(self, l, kl, ml, km, mr, kr, r):\n",
    "        TwoThreeTree.__init__(self)\n",
    "        self.mLeft    = l\n",
    "        self.mKeyL    = kl\n",
    "        self.mMiddleL = ml\n",
    "        self.mKeyM    = km\n",
    "        self.mMiddleR = mr\n",
    "        self.mKeyR    = kr\n",
    "        self.mRight   = r\n",
    "        \n",
    "    def __str__(self):\n",
    "        return self._make_string(['mLeft', 'mKeyL', 'mMiddleL', 'mKeyM', 'mMiddleR', 'mKeyR', 'mRight'])\n",
    "    \n",
    "    def isFour(self):\n",
    "        return True"
   ]
  },
  {
   "cell_type": "markdown",
   "metadata": {},
   "source": [
    "Graphically, the node $\\texttt{Four}(l, k_L, m_L, k_M, m_R, k_R, r)$ is represented as shown below:"
   ]
  },
  {
   "cell_type": "code",
   "execution_count": 19,
   "metadata": {},
   "outputs": [
    {
     "data": {
      "image/svg+xml": [
       "<?xml version=\"1.0\" encoding=\"UTF-8\" standalone=\"no\"?>\r\n",
       "<!DOCTYPE svg PUBLIC \"-//W3C//DTD SVG 1.1//EN\"\r\n",
       " \"http://www.w3.org/Graphics/SVG/1.1/DTD/svg11.dtd\">\r\n",
       "<!-- Generated by graphviz version 2.38.0 (20140413.2041)\r\n",
       " -->\r\n",
       "<!-- Title: %3 Pages: 1 -->\r\n",
       "<svg width=\"357pt\" height=\"127pt\"\r\n",
       " viewBox=\"0.00 0.00 357.30 127.00\" xmlns=\"http://www.w3.org/2000/svg\" xmlns:xlink=\"http://www.w3.org/1999/xlink\">\r\n",
       "<g id=\"graph0\" class=\"graph\" transform=\"scale(1 1) rotate(0) translate(4 123)\">\r\n",
       "<title>%3</title>\r\n",
       "<polygon fill=\"white\" stroke=\"none\" points=\"-4,4 -4,-123 353.298,-123 353.298,4 -4,4\"/>\r\n",
       "<!-- 14 -->\r\n",
       "<g id=\"node1\" class=\"node\"><title>14</title>\r\n",
       "<path fill=\"none\" stroke=\"black\" d=\"M135,-82.5C135,-82.5 211,-82.5 211,-82.5 217,-82.5 223,-88.5 223,-94.5 223,-94.5 223,-106.5 223,-106.5 223,-112.5 217,-118.5 211,-118.5 211,-118.5 135,-118.5 135,-118.5 129,-118.5 123,-112.5 123,-106.5 123,-106.5 123,-94.5 123,-94.5 123,-88.5 129,-82.5 135,-82.5\"/>\r\n",
       "<text text-anchor=\"middle\" x=\"139\" y=\"-96.8\" font-family=\"Times New Roman,serif\" font-size=\"14.00\">kL</text>\r\n",
       "<polyline fill=\"none\" stroke=\"black\" points=\"155,-82.5 155,-118.5 \"/>\r\n",
       "<text text-anchor=\"middle\" x=\"172.5\" y=\"-96.8\" font-family=\"Times New Roman,serif\" font-size=\"14.00\">kM</text>\r\n",
       "<polyline fill=\"none\" stroke=\"black\" points=\"190,-82.5 190,-118.5 \"/>\r\n",
       "<text text-anchor=\"middle\" x=\"206.5\" y=\"-96.8\" font-family=\"Times New Roman,serif\" font-size=\"14.00\">kR</text>\r\n",
       "</g>\r\n",
       "<!-- 10 -->\r\n",
       "<g id=\"node2\" class=\"node\"><title>10</title>\r\n",
       "<polygon fill=\"none\" stroke=\"black\" points=\"27,-46 0,-11.5 54,-11.5 27,-46\"/>\r\n",
       "<text text-anchor=\"middle\" x=\"27\" y=\"-19.3\" font-family=\"Times New Roman,serif\" font-size=\"14.00\">l</text>\r\n",
       "</g>\r\n",
       "<!-- 14&#45;&gt;10 -->\r\n",
       "<g id=\"edge1\" class=\"edge\"><title>14&#45;&gt;10</title>\r\n",
       "<path fill=\"none\" stroke=\"black\" d=\"M135.632,-82.4162C114.132,-72.317 86.7535,-58.9956 63,-46 57.779,-43.1436 52.2458,-39.8842 47.1244,-36.7654\"/>\r\n",
       "<polygon fill=\"black\" stroke=\"black\" points=\"48.8502,-33.7173 38.5072,-31.4208 45.1606,-39.666 48.8502,-33.7173\"/>\r\n",
       "</g>\r\n",
       "<!-- 11 -->\r\n",
       "<g id=\"node3\" class=\"node\"><title>11</title>\r\n",
       "<polygon fill=\"none\" stroke=\"black\" points=\"117,-46 71.5081,-11.5 162.492,-11.5 117,-46\"/>\r\n",
       "<text text-anchor=\"middle\" x=\"117\" y=\"-19.3\" font-family=\"Times New Roman,serif\" font-size=\"14.00\">mL</text>\r\n",
       "</g>\r\n",
       "<!-- 14&#45;&gt;11 -->\r\n",
       "<g id=\"edge2\" class=\"edge\"><title>14&#45;&gt;11</title>\r\n",
       "<path fill=\"none\" stroke=\"black\" d=\"M160.293,-82.3679C152.475,-71.8283 142.364,-58.1956 133.879,-46.7563\"/>\r\n",
       "<polygon fill=\"black\" stroke=\"black\" points=\"136.541,-44.4704 127.772,-38.5236 130.919,-48.6405 136.541,-44.4704\"/>\r\n",
       "</g>\r\n",
       "<!-- 12 -->\r\n",
       "<g id=\"node4\" class=\"node\"><title>12</title>\r\n",
       "<polygon fill=\"none\" stroke=\"black\" points=\"229,-46 180.808,-11.5 277.192,-11.5 229,-46\"/>\r\n",
       "<text text-anchor=\"middle\" x=\"229\" y=\"-19.3\" font-family=\"Times New Roman,serif\" font-size=\"14.00\">mR</text>\r\n",
       "</g>\r\n",
       "<!-- 14&#45;&gt;12 -->\r\n",
       "<g id=\"edge3\" class=\"edge\"><title>14&#45;&gt;12</title>\r\n",
       "<path fill=\"none\" stroke=\"black\" d=\"M185.707,-82.3679C193.525,-71.8283 203.636,-58.1956 212.121,-46.7563\"/>\r\n",
       "<polygon fill=\"black\" stroke=\"black\" points=\"215.081,-48.6405 218.228,-38.5236 209.459,-44.4704 215.081,-48.6405\"/>\r\n",
       "</g>\r\n",
       "<!-- 13 -->\r\n",
       "<g id=\"node5\" class=\"node\"><title>13</title>\r\n",
       "<polygon fill=\"none\" stroke=\"black\" points=\"322,-46 294.903,-11.5 349.097,-11.5 322,-46\"/>\r\n",
       "<text text-anchor=\"middle\" x=\"322\" y=\"-19.3\" font-family=\"Times New Roman,serif\" font-size=\"14.00\">r</text>\r\n",
       "</g>\r\n",
       "<!-- 14&#45;&gt;13 -->\r\n",
       "<g id=\"edge4\" class=\"edge\"><title>14&#45;&gt;13</title>\r\n",
       "<path fill=\"none\" stroke=\"black\" d=\"M211.687,-82.4185C233.748,-72.373 261.747,-59.1037 286,-46 291.236,-43.171 296.775,-39.9217 301.896,-36.8038\"/>\r\n",
       "<polygon fill=\"black\" stroke=\"black\" points=\"303.863,-39.7027 310.51,-31.4527 300.169,-33.7567 303.863,-39.7027\"/>\r\n",
       "</g>\r\n",
       "</g>\r\n",
       "</svg>\r\n"
      ],
      "text/plain": [
       "<graphviz.dot.Digraph at 0x1d514172250>"
      ]
     },
     "execution_count": 19,
     "metadata": {},
     "output_type": "execute_result"
    }
   ],
   "source": [
    "toDotList([Four(Tree('l'), 'kL', Tree('mL'), 'kM', Tree('mR'), 'kR', Tree('r'))])"
   ]
  },
  {
   "cell_type": "markdown",
   "metadata": {},
   "source": [
    "## Methods of the Class `Nil`"
   ]
  },
  {
   "cell_type": "markdown",
   "metadata": {},
   "source": [
    "The empty tree does not contain any keys:\n",
    "$$ \\texttt{Nil}.\\texttt{member}(k) = \\texttt{False} $$"
   ]
  },
  {
   "cell_type": "code",
   "execution_count": 20,
   "metadata": {},
   "outputs": [],
   "source": [
    "def member(self, k):\n",
    "    return False\n",
    "\n",
    "Nil.member = member"
   ]
  },
  {
   "cell_type": "markdown",
   "metadata": {},
   "source": [
    "Insertings a key $k$ into an empty node returns a 2-node with two empty subtrees."
   ]
  },
  {
   "cell_type": "code",
   "execution_count": 21,
   "metadata": {},
   "outputs": [
    {
     "data": {
      "image/svg+xml": [
       "<?xml version=\"1.0\" encoding=\"UTF-8\" standalone=\"no\"?>\r\n",
       "<!DOCTYPE svg PUBLIC \"-//W3C//DTD SVG 1.1//EN\"\r\n",
       " \"http://www.w3.org/Graphics/SVG/1.1/DTD/svg11.dtd\">\r\n",
       "<!-- Generated by graphviz version 2.38.0 (20140413.2041)\r\n",
       " -->\r\n",
       "<!-- Title: %3 Pages: 1 -->\r\n",
       "<svg width=\"156pt\" height=\"85pt\"\r\n",
       " viewBox=\"0.00 0.00 155.80 84.60\" xmlns=\"http://www.w3.org/2000/svg\" xmlns:xlink=\"http://www.w3.org/1999/xlink\">\r\n",
       "<g id=\"graph0\" class=\"graph\" transform=\"scale(1 1) rotate(0) translate(4 80.6)\">\r\n",
       "<title>%3</title>\r\n",
       "<polygon fill=\"white\" stroke=\"none\" points=\"-4,4 -4,-80.6 151.8,-80.6 151.8,4 -4,4\"/>\r\n",
       "<!-- 15 -->\r\n",
       "<g id=\"node1\" class=\"node\"><title>15</title>\r\n",
       "<ellipse fill=\"black\" stroke=\"black\" cx=\"1.8\" cy=\"-58.1\" rx=\"1.8\" ry=\"1.8\"/>\r\n",
       "</g>\r\n",
       "<!-- 16 -->\r\n",
       "<g id=\"node2\" class=\"node\"><title>16</title>\r\n",
       "<polygon fill=\"none\" stroke=\"black\" stroke-dasharray=\"1,5\" points=\"75.8,-76.1 21.8,-76.1 21.8,-40.1 75.8,-40.1 75.8,-76.1\"/>\r\n",
       "<text text-anchor=\"middle\" x=\"48.8\" y=\"-54.4\" font-family=\"Times New Roman,serif\" font-size=\"14.00\">ins(k)</text>\r\n",
       "</g>\r\n",
       "<!-- 19 -->\r\n",
       "<g id=\"node3\" class=\"node\"><title>19</title>\r\n",
       "<path fill=\"none\" stroke=\"black\" d=\"M105.8,-40.1C105.8,-40.1 135.8,-40.1 135.8,-40.1 141.8,-40.1 147.8,-46.1 147.8,-52.1 147.8,-52.1 147.8,-64.1 147.8,-64.1 147.8,-70.1 141.8,-76.1 135.8,-76.1 135.8,-76.1 105.8,-76.1 105.8,-76.1 99.8,-76.1 93.8,-70.1 93.8,-64.1 93.8,-64.1 93.8,-52.1 93.8,-52.1 93.8,-46.1 99.8,-40.1 105.8,-40.1\"/>\r\n",
       "<text text-anchor=\"middle\" x=\"120.8\" y=\"-54.4\" font-family=\"Times New Roman,serif\" font-size=\"14.00\">k</text>\r\n",
       "</g>\r\n",
       "<!-- 17 -->\r\n",
       "<g id=\"node4\" class=\"node\"><title>17</title>\r\n",
       "<ellipse fill=\"black\" stroke=\"black\" cx=\"109.8\" cy=\"-1.8\" rx=\"1.8\" ry=\"1.8\"/>\r\n",
       "</g>\r\n",
       "<!-- 19&#45;&gt;17 -->\r\n",
       "<g id=\"edge1\" class=\"edge\"><title>19&#45;&gt;17</title>\r\n",
       "<path fill=\"none\" stroke=\"black\" d=\"M117.32,-39.9191C115.579,-31.3281 113.526,-21.1905 112.005,-13.6823\"/>\r\n",
       "<polygon fill=\"black\" stroke=\"black\" points=\"115.407,-12.8485 109.991,-3.74248 108.546,-14.2383 115.407,-12.8485\"/>\r\n",
       "</g>\r\n",
       "<!-- 18 -->\r\n",
       "<g id=\"node5\" class=\"node\"><title>18</title>\r\n",
       "<ellipse fill=\"black\" stroke=\"black\" cx=\"131.8\" cy=\"-1.8\" rx=\"1.8\" ry=\"1.8\"/>\r\n",
       "</g>\r\n",
       "<!-- 19&#45;&gt;18 -->\r\n",
       "<g id=\"edge2\" class=\"edge\"><title>19&#45;&gt;18</title>\r\n",
       "<path fill=\"none\" stroke=\"black\" d=\"M124.28,-39.9191C126.021,-31.3281 128.074,-21.1905 129.595,-13.6823\"/>\r\n",
       "<polygon fill=\"black\" stroke=\"black\" points=\"133.054,-14.2383 131.609,-3.74248 126.193,-12.8485 133.054,-14.2383\"/>\r\n",
       "</g>\r\n",
       "</g>\r\n",
       "</svg>\r\n"
      ],
      "text/plain": [
       "<graphviz.dot.Digraph at 0x1d5140ff250>"
      ]
     },
     "execution_count": 21,
     "metadata": {},
     "output_type": "execute_result"
    }
   ],
   "source": [
    "toDotList([Nil(), Method('ins(k)'), Two(Nil(), 'k', Nil())])"
   ]
  },
  {
   "cell_type": "markdown",
   "metadata": {},
   "source": [
    "Mathematically, this can be written as follows:\n",
    "$$ \\texttt{Nil}.\\texttt{ins}(k) = \\texttt{Two}(\\texttt{Nil}, k, \\texttt{Nil}) $$\n",
    "The implementation is straightforward as shown below."
   ]
  },
  {
   "cell_type": "code",
   "execution_count": 22,
   "metadata": {},
   "outputs": [],
   "source": [
    "def _ins(self, k):\n",
    "    return \"your code here\"\n",
    "\n",
    "Nil._ins = _ins"
   ]
  },
  {
   "cell_type": "markdown",
   "metadata": {},
   "source": [
    "## Methods of the Class One"
   ]
  },
  {
   "cell_type": "code",
   "execution_count": 23,
   "metadata": {},
   "outputs": [],
   "source": [
    "def _extract(self):\n",
    "    return self.mChild\n",
    "\n",
    "One._extract = _extract"
   ]
  },
  {
   "cell_type": "markdown",
   "metadata": {},
   "source": [
    "## Methods of the Class Two"
   ]
  },
  {
   "cell_type": "markdown",
   "metadata": {},
   "source": [
    "The method `extract` returns the member variables stored in a 2-node.  This is usefull to shorten the code since when we use this method, we don't have to prefix all variable names with `self.`."
   ]
  },
  {
   "cell_type": "code",
   "execution_count": 24,
   "metadata": {},
   "outputs": [],
   "source": [
    "def _extract(self):\n",
    "    return self.mLeft, self.mKey, self.mRight\n",
    "\n",
    "Two._extract = _extract"
   ]
  },
  {
   "cell_type": "markdown",
   "metadata": {},
   "source": [
    "Given a 2-node $t$ and a key $k$, the method $t.\\texttt{member}(k)$ checks whether the key $k$ occurs in $t$.  It is specified as follows:\n",
    "  - $\\texttt{Two}(l,k,r).\\texttt{member}(k) = \\texttt{True}$,\n",
    "  - $k_1 < k_2 \\rightarrow \\texttt{Two}(l,k_1,r).\\texttt{member}(k_2) = r.\\texttt{member}(k_2)$,\n",
    "  - $k_1 > k_2 \\rightarrow \\texttt{Two}(l,k_1,r).\\texttt{member}(k_2) = l.\\texttt{member}(k_2)$."
   ]
  },
  {
   "cell_type": "code",
   "execution_count": 25,
   "metadata": {},
   "outputs": [],
   "source": [
    "def member(self, key):\n",
    "    l, k, r = self._extract()\n",
    "    if k == key:\n",
    "        return True\n",
    "    elif key < k:\n",
    "        return l.member(key)\n",
    "    elif key > self.mKey:\n",
    "        return r.member(key)\n",
    "\n",
    "Two.member = member"
   ]
  },
  {
   "cell_type": "markdown",
   "metadata": {},
   "source": [
    "The method $t.\\texttt{ins}(k)$ takes a 2-3 tree $t$ and and a key $k$ and inserts the key $k$ into $t$.\n",
    "It returns a 2-3-4 tree that has at most one 4-node, which has to be a child of the root\n",
    "node.  The function $\\texttt{ins}$ is recursive and uses the function $\\texttt{restore}$ defined below. \n",
    "\n",
    "The most important invariant satisfied by the method call $t.\\texttt{ins}(k)$ is the fact that the tree\n",
    "$t.\\texttt{ins}(k)$ has the same height as the tree $t$.\n",
    "\n",
    "The different cases that need to be handled by `ins` are shown graphically below:"
   ]
  },
  {
   "cell_type": "code",
   "execution_count": 26,
   "metadata": {},
   "outputs": [
    {
     "data": {
      "image/svg+xml": [
       "<?xml version=\"1.0\" encoding=\"UTF-8\" standalone=\"no\"?>\r\n",
       "<!DOCTYPE svg PUBLIC \"-//W3C//DTD SVG 1.1//EN\"\r\n",
       " \"http://www.w3.org/Graphics/SVG/1.1/DTD/svg11.dtd\">\r\n",
       "<!-- Generated by graphviz version 2.38.0 (20140413.2041)\r\n",
       " -->\r\n",
       "<!-- Title: %3 Pages: 1 -->\r\n",
       "<svg width=\"309pt\" height=\"127pt\"\r\n",
       " viewBox=\"0.00 0.00 309.30 127.00\" xmlns=\"http://www.w3.org/2000/svg\" xmlns:xlink=\"http://www.w3.org/1999/xlink\">\r\n",
       "<g id=\"graph0\" class=\"graph\" transform=\"scale(1 1) rotate(0) translate(4 123)\">\r\n",
       "<title>%3</title>\r\n",
       "<polygon fill=\"white\" stroke=\"none\" points=\"-4,4 -4,-123 305.298,-123 305.298,4 -4,4\"/>\r\n",
       "<!-- 22 -->\r\n",
       "<g id=\"node1\" class=\"node\"><title>22</title>\r\n",
       "<path fill=\"none\" stroke=\"black\" d=\"M21,-82.5C21,-82.5 51,-82.5 51,-82.5 57,-82.5 63,-88.5 63,-94.5 63,-94.5 63,-106.5 63,-106.5 63,-112.5 57,-118.5 51,-118.5 51,-118.5 21,-118.5 21,-118.5 15,-118.5 9,-112.5 9,-106.5 9,-106.5 9,-94.5 9,-94.5 9,-88.5 15,-82.5 21,-82.5\"/>\r\n",
       "<text text-anchor=\"middle\" x=\"36\" y=\"-96.8\" font-family=\"Times New Roman,serif\" font-size=\"14.00\">k</text>\r\n",
       "</g>\r\n",
       "<!-- 20 -->\r\n",
       "<g id=\"node2\" class=\"node\"><title>20</title>\r\n",
       "<polygon fill=\"none\" stroke=\"black\" points=\"27,-46 0,-11.5 54,-11.5 27,-46\"/>\r\n",
       "<text text-anchor=\"middle\" x=\"27\" y=\"-19.3\" font-family=\"Times New Roman,serif\" font-size=\"14.00\">l</text>\r\n",
       "</g>\r\n",
       "<!-- 22&#45;&gt;20 -->\r\n",
       "<g id=\"edge1\" class=\"edge\"><title>22&#45;&gt;20</title>\r\n",
       "<path fill=\"none\" stroke=\"black\" d=\"M33.9578,-82.3679C32.937,-73.8051 31.6729,-63.2008 30.5034,-53.3897\"/>\r\n",
       "<polygon fill=\"black\" stroke=\"black\" points=\"33.9466,-52.7045 29.2874,-43.1891 26.9958,-53.5331 33.9466,-52.7045\"/>\r\n",
       "</g>\r\n",
       "<!-- 21 -->\r\n",
       "<g id=\"node3\" class=\"node\"><title>21</title>\r\n",
       "<polygon fill=\"none\" stroke=\"black\" points=\"99,-46 71.9034,-11.5 126.097,-11.5 99,-46\"/>\r\n",
       "<text text-anchor=\"middle\" x=\"99\" y=\"-19.3\" font-family=\"Times New Roman,serif\" font-size=\"14.00\">r</text>\r\n",
       "</g>\r\n",
       "<!-- 22&#45;&gt;21 -->\r\n",
       "<g id=\"edge2\" class=\"edge\"><title>22&#45;&gt;21</title>\r\n",
       "<path fill=\"none\" stroke=\"black\" d=\"M50.2957,-82.3679C60.2067,-70.4904 73.3954,-54.6849 83.5488,-42.517\"/>\r\n",
       "<polygon fill=\"black\" stroke=\"black\" points=\"86.2959,-44.6876 90.0155,-34.7672 80.9213,-40.2028 86.2959,-44.6876\"/>\r\n",
       "</g>\r\n",
       "<!-- 23 -->\r\n",
       "<g id=\"node4\" class=\"node\"><title>23</title>\r\n",
       "<polygon fill=\"none\" stroke=\"black\" stroke-dasharray=\"1,5\" points=\"153,-118.5 99,-118.5 99,-82.5 153,-82.5 153,-118.5\"/>\r\n",
       "<text text-anchor=\"middle\" x=\"126\" y=\"-96.8\" font-family=\"Times New Roman,serif\" font-size=\"14.00\">.ins(k)</text>\r\n",
       "</g>\r\n",
       "<!-- 26 -->\r\n",
       "<g id=\"node5\" class=\"node\"><title>26</title>\r\n",
       "<path fill=\"none\" stroke=\"black\" d=\"M219,-82.5C219,-82.5 249,-82.5 249,-82.5 255,-82.5 261,-88.5 261,-94.5 261,-94.5 261,-106.5 261,-106.5 261,-112.5 255,-118.5 249,-118.5 249,-118.5 219,-118.5 219,-118.5 213,-118.5 207,-112.5 207,-106.5 207,-106.5 207,-94.5 207,-94.5 207,-88.5 213,-82.5 219,-82.5\"/>\r\n",
       "<text text-anchor=\"middle\" x=\"234\" y=\"-96.8\" font-family=\"Times New Roman,serif\" font-size=\"14.00\">k</text>\r\n",
       "</g>\r\n",
       "<!-- 24 -->\r\n",
       "<g id=\"node6\" class=\"node\"><title>24</title>\r\n",
       "<polygon fill=\"none\" stroke=\"black\" points=\"202,-46 175,-11.5 229,-11.5 202,-46\"/>\r\n",
       "<text text-anchor=\"middle\" x=\"202\" y=\"-19.3\" font-family=\"Times New Roman,serif\" font-size=\"14.00\">l</text>\r\n",
       "</g>\r\n",
       "<!-- 26&#45;&gt;24 -->\r\n",
       "<g id=\"edge3\" class=\"edge\"><title>26&#45;&gt;24</title>\r\n",
       "<path fill=\"none\" stroke=\"black\" d=\"M226.739,-82.3679C222.403,-72.1383 216.832,-58.9949 212.075,-47.7712\"/>\r\n",
       "<polygon fill=\"black\" stroke=\"black\" points=\"215.281,-46.3649 208.156,-38.5236 208.836,-49.0966 215.281,-46.3649\"/>\r\n",
       "</g>\r\n",
       "<!-- 25 -->\r\n",
       "<g id=\"node7\" class=\"node\"><title>25</title>\r\n",
       "<polygon fill=\"none\" stroke=\"black\" points=\"274,-46 246.903,-11.5 301.097,-11.5 274,-46\"/>\r\n",
       "<text text-anchor=\"middle\" x=\"274\" y=\"-19.3\" font-family=\"Times New Roman,serif\" font-size=\"14.00\">r</text>\r\n",
       "</g>\r\n",
       "<!-- 26&#45;&gt;25 -->\r\n",
       "<g id=\"edge4\" class=\"edge\"><title>26&#45;&gt;25</title>\r\n",
       "<path fill=\"none\" stroke=\"black\" d=\"M243.077,-82.3679C248.695,-71.763 255.973,-58.0267 262.056,-46.544\"/>\r\n",
       "<polygon fill=\"black\" stroke=\"black\" points=\"265.234,-48.0219 266.823,-37.5469 259.048,-44.7448 265.234,-48.0219\"/>\r\n",
       "</g>\r\n",
       "</g>\r\n",
       "</svg>\r\n"
      ],
      "text/plain": [
       "<graphviz.dot.Digraph at 0x1d514172a60>"
      ]
     },
     "execution_count": 26,
     "metadata": {},
     "output_type": "execute_result"
    }
   ],
   "source": [
    "toDotList([Two(Tree('l'), 'k', Tree('r')), Method('.ins(k)'), Two(Tree('l'), 'k', Tree('r')) ])"
   ]
  },
  {
   "cell_type": "markdown",
   "metadata": {},
   "source": [
    "  - $\\displaystyle\\texttt{Two}(l,k,r).\\texttt{ins}(k) = \\texttt{Two}(l,k,r)$"
   ]
  },
  {
   "cell_type": "code",
   "execution_count": 27,
   "metadata": {},
   "outputs": [
    {
     "data": {
      "image/svg+xml": [
       "<?xml version=\"1.0\" encoding=\"UTF-8\" standalone=\"no\"?>\r\n",
       "<!DOCTYPE svg PUBLIC \"-//W3C//DTD SVG 1.1//EN\"\r\n",
       " \"http://www.w3.org/Graphics/SVG/1.1/DTD/svg11.dtd\">\r\n",
       "<!-- Generated by graphviz version 2.38.0 (20140413.2041)\r\n",
       " -->\r\n",
       "<!-- Title: %3 Pages: 1 -->\r\n",
       "<svg width=\"298pt\" height=\"85pt\"\r\n",
       " viewBox=\"0.00 0.00 298.00 84.60\" xmlns=\"http://www.w3.org/2000/svg\" xmlns:xlink=\"http://www.w3.org/1999/xlink\">\r\n",
       "<g id=\"graph0\" class=\"graph\" transform=\"scale(1 1) rotate(0) translate(4 80.6)\">\r\n",
       "<title>%3</title>\r\n",
       "<polygon fill=\"white\" stroke=\"none\" points=\"-4,4 -4,-80.6 294,-80.6 294,4 -4,4\"/>\r\n",
       "<!-- 27 -->\r\n",
       "<g id=\"node1\" class=\"node\"><title>27</title>\r\n",
       "<polygon fill=\"none\" stroke=\"black\" stroke-dasharray=\"1,5\" points=\"62,-76.1 0,-76.1 0,-40.1 62,-40.1 62,-76.1\"/>\r\n",
       "<text text-anchor=\"middle\" x=\"31\" y=\"-54.4\" font-family=\"Times New Roman,serif\" font-size=\"14.00\">k1 &lt; k2:</text>\r\n",
       "</g>\r\n",
       "<!-- 30 -->\r\n",
       "<g id=\"node2\" class=\"node\"><title>30</title>\r\n",
       "<path fill=\"none\" stroke=\"black\" d=\"M92,-40.1C92,-40.1 122,-40.1 122,-40.1 128,-40.1 134,-46.1 134,-52.1 134,-52.1 134,-64.1 134,-64.1 134,-70.1 128,-76.1 122,-76.1 122,-76.1 92,-76.1 92,-76.1 86,-76.1 80,-70.1 80,-64.1 80,-64.1 80,-52.1 80,-52.1 80,-46.1 86,-40.1 92,-40.1\"/>\r\n",
       "<text text-anchor=\"middle\" x=\"107\" y=\"-54.4\" font-family=\"Times New Roman,serif\" font-size=\"14.00\">k1</text>\r\n",
       "</g>\r\n",
       "<!-- 28 -->\r\n",
       "<g id=\"node3\" class=\"node\"><title>28</title>\r\n",
       "<ellipse fill=\"black\" stroke=\"black\" cx=\"96\" cy=\"-1.8\" rx=\"1.8\" ry=\"1.8\"/>\r\n",
       "</g>\r\n",
       "<!-- 30&#45;&gt;28 -->\r\n",
       "<g id=\"edge1\" class=\"edge\"><title>30&#45;&gt;28</title>\r\n",
       "<path fill=\"none\" stroke=\"black\" d=\"M103.52,-39.9191C101.779,-31.3281 99.7255,-21.1905 98.2045,-13.6823\"/>\r\n",
       "<polygon fill=\"black\" stroke=\"black\" points=\"101.607,-12.8485 96.1909,-3.74248 94.7461,-14.2383 101.607,-12.8485\"/>\r\n",
       "</g>\r\n",
       "<!-- 29 -->\r\n",
       "<g id=\"node4\" class=\"node\"><title>29</title>\r\n",
       "<ellipse fill=\"black\" stroke=\"black\" cx=\"118\" cy=\"-1.8\" rx=\"1.8\" ry=\"1.8\"/>\r\n",
       "</g>\r\n",
       "<!-- 30&#45;&gt;29 -->\r\n",
       "<g id=\"edge2\" class=\"edge\"><title>30&#45;&gt;29</title>\r\n",
       "<path fill=\"none\" stroke=\"black\" d=\"M110.48,-39.9191C112.221,-31.3281 114.274,-21.1905 115.795,-13.6823\"/>\r\n",
       "<polygon fill=\"black\" stroke=\"black\" points=\"119.254,-14.2383 117.809,-3.74248 112.393,-12.8485 119.254,-14.2383\"/>\r\n",
       "</g>\r\n",
       "<!-- 31 -->\r\n",
       "<g id=\"node5\" class=\"node\"><title>31</title>\r\n",
       "<polygon fill=\"none\" stroke=\"black\" stroke-dasharray=\"1,5\" points=\"211.5,-76.1 152.5,-76.1 152.5,-40.1 211.5,-40.1 211.5,-76.1\"/>\r\n",
       "<text text-anchor=\"middle\" x=\"182\" y=\"-54.4\" font-family=\"Times New Roman,serif\" font-size=\"14.00\">.ins(k2)</text>\r\n",
       "</g>\r\n",
       "<!-- 35 -->\r\n",
       "<g id=\"node6\" class=\"node\"><title>35</title>\r\n",
       "<path fill=\"none\" stroke=\"black\" d=\"M242,-40.1C242,-40.1 278,-40.1 278,-40.1 284,-40.1 290,-46.1 290,-52.1 290,-52.1 290,-64.1 290,-64.1 290,-70.1 284,-76.1 278,-76.1 278,-76.1 242,-76.1 242,-76.1 236,-76.1 230,-70.1 230,-64.1 230,-64.1 230,-52.1 230,-52.1 230,-46.1 236,-40.1 242,-40.1\"/>\r\n",
       "<text text-anchor=\"middle\" x=\"245\" y=\"-54.4\" font-family=\"Times New Roman,serif\" font-size=\"14.00\">k1</text>\r\n",
       "<polyline fill=\"none\" stroke=\"black\" points=\"260,-40.1 260,-76.1 \"/>\r\n",
       "<text text-anchor=\"middle\" x=\"275\" y=\"-54.4\" font-family=\"Times New Roman,serif\" font-size=\"14.00\">k2</text>\r\n",
       "</g>\r\n",
       "<!-- 32 -->\r\n",
       "<g id=\"node7\" class=\"node\"><title>32</title>\r\n",
       "<ellipse fill=\"black\" stroke=\"black\" cx=\"238\" cy=\"-1.8\" rx=\"1.8\" ry=\"1.8\"/>\r\n",
       "</g>\r\n",
       "<!-- 35&#45;&gt;32 -->\r\n",
       "<g id=\"edge3\" class=\"edge\"><title>35&#45;&gt;32</title>\r\n",
       "<path fill=\"none\" stroke=\"black\" d=\"M253.039,-39.9191C249.47,-31.1106 245.243,-20.6763 242.18,-13.1172\"/>\r\n",
       "<polygon fill=\"black\" stroke=\"black\" points=\"245.381,-11.6964 238.382,-3.74248 238.893,-14.325 245.381,-11.6964\"/>\r\n",
       "</g>\r\n",
       "<!-- 33 -->\r\n",
       "<g id=\"node8\" class=\"node\"><title>33</title>\r\n",
       "<ellipse fill=\"black\" stroke=\"black\" cx=\"260\" cy=\"-1.8\" rx=\"1.8\" ry=\"1.8\"/>\r\n",
       "</g>\r\n",
       "<!-- 35&#45;&gt;33 -->\r\n",
       "<g id=\"edge4\" class=\"edge\"><title>35&#45;&gt;33</title>\r\n",
       "<path fill=\"none\" stroke=\"black\" d=\"M260,-39.9191C260,-31.4368 260,-21.4469 260,-13.9687\"/>\r\n",
       "<polygon fill=\"black\" stroke=\"black\" points=\"263.5,-13.7424 260,-3.74248 256.5,-13.7425 263.5,-13.7424\"/>\r\n",
       "</g>\r\n",
       "<!-- 34 -->\r\n",
       "<g id=\"node9\" class=\"node\"><title>34</title>\r\n",
       "<ellipse fill=\"black\" stroke=\"black\" cx=\"282\" cy=\"-1.8\" rx=\"1.8\" ry=\"1.8\"/>\r\n",
       "</g>\r\n",
       "<!-- 35&#45;&gt;34 -->\r\n",
       "<g id=\"edge5\" class=\"edge\"><title>35&#45;&gt;34</title>\r\n",
       "<path fill=\"none\" stroke=\"black\" d=\"M266.961,-39.9191C270.53,-31.1106 274.757,-20.6763 277.82,-13.1172\"/>\r\n",
       "<polygon fill=\"black\" stroke=\"black\" points=\"281.107,-14.325 281.618,-3.74248 274.619,-11.6964 281.107,-14.325\"/>\r\n",
       "</g>\r\n",
       "</g>\r\n",
       "</svg>\r\n"
      ],
      "text/plain": [
       "<graphviz.dot.Digraph at 0x1d514172f70>"
      ]
     },
     "execution_count": 27,
     "metadata": {},
     "output_type": "execute_result"
    }
   ],
   "source": [
    "toDotList([Method('k1 < k2:'), Two(Nil(), 'k1', Nil()), Method('.ins(k2)'), Three(Nil(), 'k1', Nil(), 'k2', Nil()) ])"
   ]
  },
  {
   "cell_type": "markdown",
   "metadata": {},
   "source": [
    "- $k_1 < k_2 \\rightarrow \\texttt{Two}(\\texttt{Nil},k_1,\\texttt{Nil}).\\texttt{ins}(k_2) = \\texttt{Three}(\\texttt{Nil},k_1,\\texttt{Nil},k_2,\\texttt{Nil})$"
   ]
  },
  {
   "cell_type": "code",
   "execution_count": 28,
   "metadata": {},
   "outputs": [
    {
     "data": {
      "image/svg+xml": [
       "<?xml version=\"1.0\" encoding=\"UTF-8\" standalone=\"no\"?>\r\n",
       "<!DOCTYPE svg PUBLIC \"-//W3C//DTD SVG 1.1//EN\"\r\n",
       " \"http://www.w3.org/Graphics/SVG/1.1/DTD/svg11.dtd\">\r\n",
       "<!-- Generated by graphviz version 2.38.0 (20140413.2041)\r\n",
       " -->\r\n",
       "<!-- Title: %3 Pages: 1 -->\r\n",
       "<svg width=\"298pt\" height=\"85pt\"\r\n",
       " viewBox=\"0.00 0.00 298.00 84.60\" xmlns=\"http://www.w3.org/2000/svg\" xmlns:xlink=\"http://www.w3.org/1999/xlink\">\r\n",
       "<g id=\"graph0\" class=\"graph\" transform=\"scale(1 1) rotate(0) translate(4 80.6)\">\r\n",
       "<title>%3</title>\r\n",
       "<polygon fill=\"white\" stroke=\"none\" points=\"-4,4 -4,-80.6 294,-80.6 294,4 -4,4\"/>\r\n",
       "<!-- 36 -->\r\n",
       "<g id=\"node1\" class=\"node\"><title>36</title>\r\n",
       "<polygon fill=\"none\" stroke=\"black\" stroke-dasharray=\"1,5\" points=\"62,-76.1 0,-76.1 0,-40.1 62,-40.1 62,-76.1\"/>\r\n",
       "<text text-anchor=\"middle\" x=\"31\" y=\"-54.4\" font-family=\"Times New Roman,serif\" font-size=\"14.00\">k2 &lt; k1:</text>\r\n",
       "</g>\r\n",
       "<!-- 39 -->\r\n",
       "<g id=\"node2\" class=\"node\"><title>39</title>\r\n",
       "<path fill=\"none\" stroke=\"black\" d=\"M92,-40.1C92,-40.1 122,-40.1 122,-40.1 128,-40.1 134,-46.1 134,-52.1 134,-52.1 134,-64.1 134,-64.1 134,-70.1 128,-76.1 122,-76.1 122,-76.1 92,-76.1 92,-76.1 86,-76.1 80,-70.1 80,-64.1 80,-64.1 80,-52.1 80,-52.1 80,-46.1 86,-40.1 92,-40.1\"/>\r\n",
       "<text text-anchor=\"middle\" x=\"107\" y=\"-54.4\" font-family=\"Times New Roman,serif\" font-size=\"14.00\">k1</text>\r\n",
       "</g>\r\n",
       "<!-- 37 -->\r\n",
       "<g id=\"node3\" class=\"node\"><title>37</title>\r\n",
       "<ellipse fill=\"black\" stroke=\"black\" cx=\"96\" cy=\"-1.8\" rx=\"1.8\" ry=\"1.8\"/>\r\n",
       "</g>\r\n",
       "<!-- 39&#45;&gt;37 -->\r\n",
       "<g id=\"edge1\" class=\"edge\"><title>39&#45;&gt;37</title>\r\n",
       "<path fill=\"none\" stroke=\"black\" d=\"M103.52,-39.9191C101.779,-31.3281 99.7255,-21.1905 98.2045,-13.6823\"/>\r\n",
       "<polygon fill=\"black\" stroke=\"black\" points=\"101.607,-12.8485 96.1909,-3.74248 94.7461,-14.2383 101.607,-12.8485\"/>\r\n",
       "</g>\r\n",
       "<!-- 38 -->\r\n",
       "<g id=\"node4\" class=\"node\"><title>38</title>\r\n",
       "<ellipse fill=\"black\" stroke=\"black\" cx=\"118\" cy=\"-1.8\" rx=\"1.8\" ry=\"1.8\"/>\r\n",
       "</g>\r\n",
       "<!-- 39&#45;&gt;38 -->\r\n",
       "<g id=\"edge2\" class=\"edge\"><title>39&#45;&gt;38</title>\r\n",
       "<path fill=\"none\" stroke=\"black\" d=\"M110.48,-39.9191C112.221,-31.3281 114.274,-21.1905 115.795,-13.6823\"/>\r\n",
       "<polygon fill=\"black\" stroke=\"black\" points=\"119.254,-14.2383 117.809,-3.74248 112.393,-12.8485 119.254,-14.2383\"/>\r\n",
       "</g>\r\n",
       "<!-- 40 -->\r\n",
       "<g id=\"node5\" class=\"node\"><title>40</title>\r\n",
       "<polygon fill=\"none\" stroke=\"black\" stroke-dasharray=\"1,5\" points=\"211.5,-76.1 152.5,-76.1 152.5,-40.1 211.5,-40.1 211.5,-76.1\"/>\r\n",
       "<text text-anchor=\"middle\" x=\"182\" y=\"-54.4\" font-family=\"Times New Roman,serif\" font-size=\"14.00\">.ins(k2)</text>\r\n",
       "</g>\r\n",
       "<!-- 44 -->\r\n",
       "<g id=\"node6\" class=\"node\"><title>44</title>\r\n",
       "<path fill=\"none\" stroke=\"black\" d=\"M242,-40.1C242,-40.1 278,-40.1 278,-40.1 284,-40.1 290,-46.1 290,-52.1 290,-52.1 290,-64.1 290,-64.1 290,-70.1 284,-76.1 278,-76.1 278,-76.1 242,-76.1 242,-76.1 236,-76.1 230,-70.1 230,-64.1 230,-64.1 230,-52.1 230,-52.1 230,-46.1 236,-40.1 242,-40.1\"/>\r\n",
       "<text text-anchor=\"middle\" x=\"245\" y=\"-54.4\" font-family=\"Times New Roman,serif\" font-size=\"14.00\">k2</text>\r\n",
       "<polyline fill=\"none\" stroke=\"black\" points=\"260,-40.1 260,-76.1 \"/>\r\n",
       "<text text-anchor=\"middle\" x=\"275\" y=\"-54.4\" font-family=\"Times New Roman,serif\" font-size=\"14.00\">k1</text>\r\n",
       "</g>\r\n",
       "<!-- 41 -->\r\n",
       "<g id=\"node7\" class=\"node\"><title>41</title>\r\n",
       "<ellipse fill=\"black\" stroke=\"black\" cx=\"238\" cy=\"-1.8\" rx=\"1.8\" ry=\"1.8\"/>\r\n",
       "</g>\r\n",
       "<!-- 44&#45;&gt;41 -->\r\n",
       "<g id=\"edge3\" class=\"edge\"><title>44&#45;&gt;41</title>\r\n",
       "<path fill=\"none\" stroke=\"black\" d=\"M253.039,-39.9191C249.47,-31.1106 245.243,-20.6763 242.18,-13.1172\"/>\r\n",
       "<polygon fill=\"black\" stroke=\"black\" points=\"245.381,-11.6964 238.382,-3.74248 238.893,-14.325 245.381,-11.6964\"/>\r\n",
       "</g>\r\n",
       "<!-- 42 -->\r\n",
       "<g id=\"node8\" class=\"node\"><title>42</title>\r\n",
       "<ellipse fill=\"black\" stroke=\"black\" cx=\"260\" cy=\"-1.8\" rx=\"1.8\" ry=\"1.8\"/>\r\n",
       "</g>\r\n",
       "<!-- 44&#45;&gt;42 -->\r\n",
       "<g id=\"edge4\" class=\"edge\"><title>44&#45;&gt;42</title>\r\n",
       "<path fill=\"none\" stroke=\"black\" d=\"M260,-39.9191C260,-31.4368 260,-21.4469 260,-13.9687\"/>\r\n",
       "<polygon fill=\"black\" stroke=\"black\" points=\"263.5,-13.7424 260,-3.74248 256.5,-13.7425 263.5,-13.7424\"/>\r\n",
       "</g>\r\n",
       "<!-- 43 -->\r\n",
       "<g id=\"node9\" class=\"node\"><title>43</title>\r\n",
       "<ellipse fill=\"black\" stroke=\"black\" cx=\"282\" cy=\"-1.8\" rx=\"1.8\" ry=\"1.8\"/>\r\n",
       "</g>\r\n",
       "<!-- 44&#45;&gt;43 -->\r\n",
       "<g id=\"edge5\" class=\"edge\"><title>44&#45;&gt;43</title>\r\n",
       "<path fill=\"none\" stroke=\"black\" d=\"M266.961,-39.9191C270.53,-31.1106 274.757,-20.6763 277.82,-13.1172\"/>\r\n",
       "<polygon fill=\"black\" stroke=\"black\" points=\"281.107,-14.325 281.618,-3.74248 274.619,-11.6964 281.107,-14.325\"/>\r\n",
       "</g>\r\n",
       "</g>\r\n",
       "</svg>\r\n"
      ],
      "text/plain": [
       "<graphviz.dot.Digraph at 0x1d514197cd0>"
      ]
     },
     "execution_count": 28,
     "metadata": {},
     "output_type": "execute_result"
    }
   ],
   "source": [
    "toDotList([Method('k2 < k1:'), Two(Nil(), 'k1', Nil()), Method('.ins(k2)'), Three(Nil(), 'k2', Nil(), 'k1', Nil()) ])"
   ]
  },
  {
   "cell_type": "markdown",
   "metadata": {},
   "source": [
    "- $k_2 < k_1 \\rightarrow \\texttt{Two}(\\texttt{Nil},k_1,\\texttt{Nil}).\\texttt{ins}(k_2) = \\texttt{Three}(\\texttt{Nil},k_2,\\texttt{Nil},k_1,\\texttt{Nil})$"
   ]
  },
  {
   "cell_type": "code",
   "execution_count": 29,
   "metadata": {},
   "outputs": [
    {
     "data": {
      "image/svg+xml": [
       "<?xml version=\"1.0\" encoding=\"UTF-8\" standalone=\"no\"?>\r\n",
       "<!DOCTYPE svg PUBLIC \"-//W3C//DTD SVG 1.1//EN\"\r\n",
       " \"http://www.w3.org/Graphics/SVG/1.1/DTD/svg11.dtd\">\r\n",
       "<!-- Generated by graphviz version 2.38.0 (20140413.2041)\r\n",
       " -->\r\n",
       "<!-- Title: %3 Pages: 1 -->\r\n",
       "<svg width=\"432pt\" height=\"127pt\"\r\n",
       " viewBox=\"0.00 0.00 431.89 127.00\" xmlns=\"http://www.w3.org/2000/svg\" xmlns:xlink=\"http://www.w3.org/1999/xlink\">\r\n",
       "<g id=\"graph0\" class=\"graph\" transform=\"scale(1 1) rotate(0) translate(4 123)\">\r\n",
       "<title>%3</title>\r\n",
       "<polygon fill=\"white\" stroke=\"none\" points=\"-4,4 -4,-123 427.893,-123 427.893,4 -4,4\"/>\r\n",
       "<!-- 45 -->\r\n",
       "<g id=\"node1\" class=\"node\"><title>45</title>\r\n",
       "<polygon fill=\"none\" stroke=\"black\" stroke-dasharray=\"1,5\" points=\"62,-118.5 0,-118.5 0,-82.5 62,-82.5 62,-118.5\"/>\r\n",
       "<text text-anchor=\"middle\" x=\"31\" y=\"-96.8\" font-family=\"Times New Roman,serif\" font-size=\"14.00\">k1 &lt; k2:</text>\r\n",
       "</g>\r\n",
       "<!-- 48 -->\r\n",
       "<g id=\"node2\" class=\"node\"><title>48</title>\r\n",
       "<path fill=\"none\" stroke=\"black\" d=\"M92,-82.5C92,-82.5 122,-82.5 122,-82.5 128,-82.5 134,-88.5 134,-94.5 134,-94.5 134,-106.5 134,-106.5 134,-112.5 128,-118.5 122,-118.5 122,-118.5 92,-118.5 92,-118.5 86,-118.5 80,-112.5 80,-106.5 80,-106.5 80,-94.5 80,-94.5 80,-88.5 86,-82.5 92,-82.5\"/>\r\n",
       "<text text-anchor=\"middle\" x=\"107\" y=\"-96.8\" font-family=\"Times New Roman,serif\" font-size=\"14.00\">k1</text>\r\n",
       "</g>\r\n",
       "<!-- 46 -->\r\n",
       "<g id=\"node3\" class=\"node\"><title>46</title>\r\n",
       "<polygon fill=\"none\" stroke=\"black\" points=\"71,-46 44,-11.5 98,-11.5 71,-46\"/>\r\n",
       "<text text-anchor=\"middle\" x=\"71\" y=\"-19.3\" font-family=\"Times New Roman,serif\" font-size=\"14.00\">l</text>\r\n",
       "</g>\r\n",
       "<!-- 48&#45;&gt;46 -->\r\n",
       "<g id=\"edge1\" class=\"edge\"><title>48&#45;&gt;46</title>\r\n",
       "<path fill=\"none\" stroke=\"black\" d=\"M98.831,-82.3679C93.8892,-72.0037 87.5211,-58.6485 82.1238,-47.3292\"/>\r\n",
       "<polygon fill=\"black\" stroke=\"black\" points=\"85.1542,-45.5523 77.6909,-38.0323 78.8357,-48.5651 85.1542,-45.5523\"/>\r\n",
       "</g>\r\n",
       "<!-- 47 -->\r\n",
       "<g id=\"node4\" class=\"node\"><title>47</title>\r\n",
       "<polygon fill=\"none\" stroke=\"black\" points=\"143,-46 115.903,-11.5 170.097,-11.5 143,-46\"/>\r\n",
       "<text text-anchor=\"middle\" x=\"143\" y=\"-19.3\" font-family=\"Times New Roman,serif\" font-size=\"14.00\">r</text>\r\n",
       "</g>\r\n",
       "<!-- 48&#45;&gt;47 -->\r\n",
       "<g id=\"edge2\" class=\"edge\"><title>48&#45;&gt;47</title>\r\n",
       "<path fill=\"none\" stroke=\"black\" d=\"M115.169,-82.3679C120.111,-72.0037 126.479,-58.6485 131.876,-47.3292\"/>\r\n",
       "<polygon fill=\"black\" stroke=\"black\" points=\"135.164,-48.5651 136.309,-38.0323 128.846,-45.5523 135.164,-48.5651\"/>\r\n",
       "</g>\r\n",
       "<!-- 49 -->\r\n",
       "<g id=\"node5\" class=\"node\"><title>49</title>\r\n",
       "<polygon fill=\"none\" stroke=\"black\" stroke-dasharray=\"1,5\" points=\"235.5,-118.5 176.5,-118.5 176.5,-82.5 235.5,-82.5 235.5,-118.5\"/>\r\n",
       "<text text-anchor=\"middle\" x=\"206\" y=\"-96.8\" font-family=\"Times New Roman,serif\" font-size=\"14.00\">.ins(k2)</text>\r\n",
       "</g>\r\n",
       "<!-- 52 -->\r\n",
       "<g id=\"node6\" class=\"node\"><title>52</title>\r\n",
       "<path fill=\"none\" stroke=\"black\" d=\"M315,-82.5C315,-82.5 345,-82.5 345,-82.5 351,-82.5 357,-88.5 357,-94.5 357,-94.5 357,-106.5 357,-106.5 357,-112.5 351,-118.5 345,-118.5 345,-118.5 315,-118.5 315,-118.5 309,-118.5 303,-112.5 303,-106.5 303,-106.5 303,-94.5 303,-94.5 303,-88.5 309,-82.5 315,-82.5\"/>\r\n",
       "<text text-anchor=\"middle\" x=\"330\" y=\"-96.8\" font-family=\"Times New Roman,serif\" font-size=\"14.00\">k1</text>\r\n",
       "</g>\r\n",
       "<!-- 50 -->\r\n",
       "<g id=\"node7\" class=\"node\"><title>50</title>\r\n",
       "<polygon fill=\"none\" stroke=\"black\" points=\"215,-46 188,-11.5 242,-11.5 215,-46\"/>\r\n",
       "<text text-anchor=\"middle\" x=\"215\" y=\"-19.3\" font-family=\"Times New Roman,serif\" font-size=\"14.00\">l</text>\r\n",
       "</g>\r\n",
       "<!-- 52&#45;&gt;50 -->\r\n",
       "<g id=\"edge3\" class=\"edge\"><title>52&#45;&gt;50</title>\r\n",
       "<path fill=\"none\" stroke=\"black\" d=\"M303.905,-82.3679C283.061,-68.6835 254.275,-49.785 235.171,-37.2429\"/>\r\n",
       "<polygon fill=\"black\" stroke=\"black\" points=\"236.928,-34.2096 226.648,-31.6472 233.087,-40.0612 236.928,-34.2096\"/>\r\n",
       "</g>\r\n",
       "<!-- 51 -->\r\n",
       "<g id=\"node8\" class=\"node\"><title>51</title>\r\n",
       "<polygon fill=\"none\" stroke=\"black\" points=\"342,-46 260.214,-11.5 423.786,-11.5 342,-46\"/>\r\n",
       "<text text-anchor=\"middle\" x=\"342\" y=\"-19.3\" font-family=\"Times New Roman,serif\" font-size=\"14.00\">r.ins(k2)</text>\r\n",
       "</g>\r\n",
       "<!-- 52&#45;&gt;51 -->\r\n",
       "<g id=\"edge4\" class=\"edge\"><title>52&#45;&gt;51</title>\r\n",
       "<path fill=\"none\" stroke=\"black\" d=\"M332.723,-82.3679C334.023,-74.1885 335.619,-64.1464 337.119,-54.7121\"/>\r\n",
       "<polygon fill=\"black\" stroke=\"black\" points=\"340.576,-55.256 338.689,-44.8306 333.663,-54.1572 340.576,-55.256\"/>\r\n",
       "</g>\r\n",
       "</g>\r\n",
       "</svg>\r\n"
      ],
      "text/plain": [
       "<graphviz.dot.Digraph at 0x1d514197640>"
      ]
     },
     "execution_count": 29,
     "metadata": {},
     "output_type": "execute_result"
    }
   ],
   "source": [
    "toDotList([Method('k1 < k2:'), Two(Tree('l'), 'k1', Tree('r')), Method('.ins(k2)'), Two(Tree('l'), 'k1', Tree('r.ins(k2)')) ])"
   ]
  },
  {
   "cell_type": "markdown",
   "metadata": {},
   "source": [
    "- $k_1 < k_2 \\wedge l \\not= \\texttt{Nil} \\wedge r \\not= \\texttt{Nil} \\rightarrow \\texttt{Two}(l,k_1,r).\\texttt{ins}(k_2) = \\texttt{Two}(l,k_1,r.\\texttt{ins}(k_2)).\\texttt{restore}()$"
   ]
  },
  {
   "cell_type": "code",
   "execution_count": 30,
   "metadata": {},
   "outputs": [
    {
     "data": {
      "image/svg+xml": [
       "<?xml version=\"1.0\" encoding=\"UTF-8\" standalone=\"no\"?>\r\n",
       "<!DOCTYPE svg PUBLIC \"-//W3C//DTD SVG 1.1//EN\"\r\n",
       " \"http://www.w3.org/Graphics/SVG/1.1/DTD/svg11.dtd\">\r\n",
       "<!-- Generated by graphviz version 2.38.0 (20140413.2041)\r\n",
       " -->\r\n",
       "<!-- Title: %3 Pages: 1 -->\r\n",
       "<svg width=\"462pt\" height=\"127pt\"\r\n",
       " viewBox=\"0.00 0.00 462.30 127.00\" xmlns=\"http://www.w3.org/2000/svg\" xmlns:xlink=\"http://www.w3.org/1999/xlink\">\r\n",
       "<g id=\"graph0\" class=\"graph\" transform=\"scale(1 1) rotate(0) translate(4 123)\">\r\n",
       "<title>%3</title>\r\n",
       "<polygon fill=\"white\" stroke=\"none\" points=\"-4,4 -4,-123 458.298,-123 458.298,4 -4,4\"/>\r\n",
       "<!-- 53 -->\r\n",
       "<g id=\"node1\" class=\"node\"><title>53</title>\r\n",
       "<polygon fill=\"none\" stroke=\"black\" stroke-dasharray=\"1,5\" points=\"62,-118.5 0,-118.5 0,-82.5 62,-82.5 62,-118.5\"/>\r\n",
       "<text text-anchor=\"middle\" x=\"31\" y=\"-96.8\" font-family=\"Times New Roman,serif\" font-size=\"14.00\">k2 &lt; k1:</text>\r\n",
       "</g>\r\n",
       "<!-- 56 -->\r\n",
       "<g id=\"node2\" class=\"node\"><title>56</title>\r\n",
       "<path fill=\"none\" stroke=\"black\" d=\"M92,-82.5C92,-82.5 122,-82.5 122,-82.5 128,-82.5 134,-88.5 134,-94.5 134,-94.5 134,-106.5 134,-106.5 134,-112.5 128,-118.5 122,-118.5 122,-118.5 92,-118.5 92,-118.5 86,-118.5 80,-112.5 80,-106.5 80,-106.5 80,-94.5 80,-94.5 80,-88.5 86,-82.5 92,-82.5\"/>\r\n",
       "<text text-anchor=\"middle\" x=\"107\" y=\"-96.8\" font-family=\"Times New Roman,serif\" font-size=\"14.00\">k1</text>\r\n",
       "</g>\r\n",
       "<!-- 54 -->\r\n",
       "<g id=\"node3\" class=\"node\"><title>54</title>\r\n",
       "<polygon fill=\"none\" stroke=\"black\" points=\"71,-46 44,-11.5 98,-11.5 71,-46\"/>\r\n",
       "<text text-anchor=\"middle\" x=\"71\" y=\"-19.3\" font-family=\"Times New Roman,serif\" font-size=\"14.00\">l</text>\r\n",
       "</g>\r\n",
       "<!-- 56&#45;&gt;54 -->\r\n",
       "<g id=\"edge1\" class=\"edge\"><title>56&#45;&gt;54</title>\r\n",
       "<path fill=\"none\" stroke=\"black\" d=\"M98.831,-82.3679C93.8892,-72.0037 87.5211,-58.6485 82.1238,-47.3292\"/>\r\n",
       "<polygon fill=\"black\" stroke=\"black\" points=\"85.1542,-45.5523 77.6909,-38.0323 78.8357,-48.5651 85.1542,-45.5523\"/>\r\n",
       "</g>\r\n",
       "<!-- 55 -->\r\n",
       "<g id=\"node4\" class=\"node\"><title>55</title>\r\n",
       "<polygon fill=\"none\" stroke=\"black\" points=\"143,-46 115.903,-11.5 170.097,-11.5 143,-46\"/>\r\n",
       "<text text-anchor=\"middle\" x=\"143\" y=\"-19.3\" font-family=\"Times New Roman,serif\" font-size=\"14.00\">r</text>\r\n",
       "</g>\r\n",
       "<!-- 56&#45;&gt;55 -->\r\n",
       "<g id=\"edge2\" class=\"edge\"><title>56&#45;&gt;55</title>\r\n",
       "<path fill=\"none\" stroke=\"black\" d=\"M115.169,-82.3679C120.111,-72.0037 126.479,-58.6485 131.876,-47.3292\"/>\r\n",
       "<polygon fill=\"black\" stroke=\"black\" points=\"135.164,-48.5651 136.309,-38.0323 128.846,-45.5523 135.164,-48.5651\"/>\r\n",
       "</g>\r\n",
       "<!-- 57 -->\r\n",
       "<g id=\"node5\" class=\"node\"><title>57</title>\r\n",
       "<polygon fill=\"none\" stroke=\"black\" stroke-dasharray=\"1,5\" points=\"236.5,-118.5 177.5,-118.5 177.5,-82.5 236.5,-82.5 236.5,-118.5\"/>\r\n",
       "<text text-anchor=\"middle\" x=\"207\" y=\"-96.8\" font-family=\"Times New Roman,serif\" font-size=\"14.00\">.ins(k2)</text>\r\n",
       "</g>\r\n",
       "<!-- 60 -->\r\n",
       "<g id=\"node6\" class=\"node\"><title>60</title>\r\n",
       "<path fill=\"none\" stroke=\"black\" d=\"M318,-82.5C318,-82.5 348,-82.5 348,-82.5 354,-82.5 360,-88.5 360,-94.5 360,-94.5 360,-106.5 360,-106.5 360,-112.5 354,-118.5 348,-118.5 348,-118.5 318,-118.5 318,-118.5 312,-118.5 306,-112.5 306,-106.5 306,-106.5 306,-94.5 306,-94.5 306,-88.5 312,-82.5 318,-82.5\"/>\r\n",
       "<text text-anchor=\"middle\" x=\"333\" y=\"-96.8\" font-family=\"Times New Roman,serif\" font-size=\"14.00\">k1</text>\r\n",
       "</g>\r\n",
       "<!-- 58 -->\r\n",
       "<g id=\"node7\" class=\"node\"><title>58</title>\r\n",
       "<polygon fill=\"none\" stroke=\"black\" points=\"301,-46 220.314,-11.5 381.686,-11.5 301,-46\"/>\r\n",
       "<text text-anchor=\"middle\" x=\"301\" y=\"-19.3\" font-family=\"Times New Roman,serif\" font-size=\"14.00\">l.ins(k2)</text>\r\n",
       "</g>\r\n",
       "<!-- 60&#45;&gt;58 -->\r\n",
       "<g id=\"edge3\" class=\"edge\"><title>60&#45;&gt;58</title>\r\n",
       "<path fill=\"none\" stroke=\"black\" d=\"M325.739,-82.3679C321.938,-73.4 317.188,-62.1927 312.869,-52.0027\"/>\r\n",
       "<polygon fill=\"black\" stroke=\"black\" points=\"316.03,-50.4921 308.905,-42.6508 309.585,-53.2238 316.03,-50.4921\"/>\r\n",
       "</g>\r\n",
       "<!-- 59 -->\r\n",
       "<g id=\"node8\" class=\"node\"><title>59</title>\r\n",
       "<polygon fill=\"none\" stroke=\"black\" points=\"427,-46 399.903,-11.5 454.097,-11.5 427,-46\"/>\r\n",
       "<text text-anchor=\"middle\" x=\"427\" y=\"-19.3\" font-family=\"Times New Roman,serif\" font-size=\"14.00\">r</text>\r\n",
       "</g>\r\n",
       "<!-- 60&#45;&gt;59 -->\r\n",
       "<g id=\"edge4\" class=\"edge\"><title>60&#45;&gt;59</title>\r\n",
       "<path fill=\"none\" stroke=\"black\" d=\"M354.33,-82.3679C370.601,-69.2994 392.792,-51.4756 408.357,-38.9739\"/>\r\n",
       "<polygon fill=\"black\" stroke=\"black\" points=\"410.638,-41.6311 416.243,-32.6401 406.254,-36.1735 410.638,-41.6311\"/>\r\n",
       "</g>\r\n",
       "</g>\r\n",
       "</svg>\r\n"
      ],
      "text/plain": [
       "<graphviz.dot.Digraph at 0x1d514197820>"
      ]
     },
     "execution_count": 30,
     "metadata": {},
     "output_type": "execute_result"
    }
   ],
   "source": [
    "toDotList([Method('k2 < k1:'), Two(Tree('l'), 'k1', Tree('r')), Method('.ins(k2)'), Two(Tree('l.ins(k2)'), 'k1', Tree('r')) ])"
   ]
  },
  {
   "cell_type": "markdown",
   "metadata": {},
   "source": [
    "- $k_2 < k_1 \\wedge l \\not= \\texttt{Nil} \\wedge r \\not= \\texttt{Nil} \\rightarrow \\texttt{Two}(l,k_1,r).\\texttt{ins}(k_2) = \\texttt{Two}(l.\\texttt{ins}(k_2),k_1,r).\\texttt{restore}()$"
   ]
  },
  {
   "cell_type": "markdown",
   "metadata": {},
   "source": [
    "I have collected all of these equations below:\n",
    "  - $\\texttt{Two}(l,k,r).\\texttt{ins}(k) = \\texttt{Two}(l,k,r)$\n",
    "  - $k_1 < k_2 \\rightarrow \\texttt{Two}(\\texttt{Nil},k_1,\\texttt{Nil}).\\texttt{ins}(k_2) = \\texttt{Three}(\\texttt{Nil},k_1,\\texttt{Nil},k_2,\\texttt{Nil})$\n",
    "  - $k_2 < k_1 \\rightarrow \\texttt{Two}(\\texttt{Nil},k_1,\\texttt{Nil}).\\texttt{ins}(k_2) = \\texttt{Three}(\\texttt{Nil},k_2,\\texttt{Nil},k_1,\\texttt{Nil})$\n",
    "  - $k_1 < k_2 \\wedge l \\not= \\texttt{Nil} \\wedge r \\not= \\texttt{Nil} \\rightarrow \\texttt{Two}(l,k_1,r).\\texttt{ins}(k_2) = \\texttt{Two}(l,k_1,r.\\texttt{ins}(k_2)).\\texttt{restore}()$\n",
    "  - $k_2 < k_1 \\wedge l \\not= \\texttt{Nil} \\wedge r \\not= \\texttt{Nil} \\rightarrow \\texttt{Two}(l,k_1,r).\\texttt{ins}(k_2) = \\texttt{Two}(l.\\texttt{ins}(k_2),k_1,r).\\texttt{restore}()$\n",
    "  \n",
    "Using these equations, the implementation of `ins` is straightforward."
   ]
  },
  {
   "cell_type": "code",
   "execution_count": null,
   "metadata": {},
   "outputs": [],
   "source": [
    "def _ins(self, key):\n",
    "    \"your code here\"\n",
    "    assert False, f'Unbalanced node {self}'\n",
    "    \n",
    "Two._ins = _ins"
   ]
  },
  {
   "cell_type": "markdown",
   "metadata": {},
   "source": [
    "The function call $t.\\texttt{restore}()$ takes a 2-3-4 tree $t$ that has at most one 4-node. This 4-node has to be a child\n",
    "of the root.  It returns a 2-3-4 tree that has at most one 4-node.  This 4-node has to be the root node.\n",
    "Graphically, it is specified as shown below."
   ]
  },
  {
   "cell_type": "code",
   "execution_count": null,
   "metadata": {},
   "outputs": [],
   "source": [
    "toDotList([Two(Four(Tree('l1'),'kl',Tree('ml'),'km', Tree('mr'),'kr',Tree('r1')), 'k', Tree('r')), \n",
    "           Method('.restore()'), \n",
    "           Three(Two(Tree('l1'),'kl',Tree('ml')), 'km', Two(Tree('mr'),'kr',Tree('r1')), 'k', Tree('r'))])"
   ]
  },
  {
   "cell_type": "markdown",
   "metadata": {},
   "source": [
    " - $\\texttt{Two}\\bigl(\\texttt{Four}(l_1,k_l,m_l,k_m,m_r,k_r,r_1), k, r\\bigr).\\texttt{restore}() = \n",
    "     \\texttt{Three}\\bigl(\\texttt{Two}(l_1, k_l, m_l), k_m, \\texttt{Two}(m_r, k_r, r_1), k, r\\bigr) $"
   ]
  },
  {
   "cell_type": "code",
   "execution_count": null,
   "metadata": {},
   "outputs": [],
   "source": [
    "toDotList([Two(Tree('l'), 'k', Four(Tree('l1'),'kl',Tree('ml'),'km', Tree('mr'),'kr',Tree('r1'))), \n",
    "           Method('.restore()'), \n",
    "           Three(Tree('l'), 'k', Two(Tree('l1'),'kl',Tree('ml')), 'km', Two(Tree('mr'),'kr',Tree('r1')))])"
   ]
  },
  {
   "cell_type": "markdown",
   "metadata": {},
   "source": [
    "  - $\\texttt{Two}\\bigl(l, k, \\texttt{Four}(l_1,k_l,m_l,k_m,m_r,k_r,r_1)\\bigr).\\texttt{restore}() = \n",
    "     \\texttt{Three}\\bigl(l, k, \\texttt{Two}(l_1, k_l, m_l), k_m, \\texttt{Two}(m_r, k_r, r_1)\\bigr) $"
   ]
  },
  {
   "cell_type": "markdown",
   "metadata": {},
   "source": [
    "I have collected both equations below:\n",
    "  - $\\texttt{Two}\\bigl(\\texttt{Four}(l_1,k_l,m_l,k_m,m_r,k_r,r_1), k, r\\bigr).\\texttt{restore}() = \n",
    "     \\texttt{Three}\\bigl(\\texttt{Two}(l_1, k_l, m_l), k_m, \\texttt{Two}(m_r, k_r, r_1), k, r\\bigr) $,\n",
    "  - $\\texttt{Two}\\bigl(l, k, \\texttt{Four}(l_1,k_l,m_l,k_m,m_r,k_r,r_1)\\bigr).\\texttt{restore}() = \n",
    "     \\texttt{Three}\\bigl(l, k, \\texttt{Two}(l_1, k_l, m_l), k_m, \\texttt{Two}(m_r, k_r, r_1)\\bigr) $\n",
    "\n",
    "If neither the left nor the right child node of a 2-node is a 4-node, the node is returned unchanged.  "
   ]
  },
  {
   "cell_type": "code",
   "execution_count": null,
   "metadata": {},
   "outputs": [],
   "source": [
    "def _restore(self):\n",
    "    \"your code here\"\n",
    "    return self\n",
    "\n",
    "Two._restore = _restore"
   ]
  },
  {
   "cell_type": "markdown",
   "metadata": {},
   "source": [
    "## Methods of the Class `Three`"
   ]
  },
  {
   "cell_type": "markdown",
   "metadata": {},
   "source": [
    "The method `extract` returns the member variables stored in a 3-node."
   ]
  },
  {
   "cell_type": "code",
   "execution_count": null,
   "metadata": {},
   "outputs": [],
   "source": [
    "def _extract(self):\n",
    "    return self.mLeft, self.mKeyL, self.mMiddle, self.mKeyR, self.mRight\n",
    "\n",
    "Three._extract = _extract"
   ]
  },
  {
   "cell_type": "markdown",
   "metadata": {},
   "source": [
    "Given a 3-node $t$ and a key $k$, the method $t.\\texttt{member}(k)$ checks whether the key $k$ occurs in $t$.  It is specified as follows:\n",
    "  - $k = k_l \\vee k = k_r \\rightarrow \\texttt{Three}(l,k_l,m,k_r,r).\\texttt{member}(k) = \\texttt{True}$,\n",
    "  - $k < k_l \\rightarrow \\texttt{Three}(l,k_l,m,k_r,r).\\texttt{member}(k) = l.\\texttt{member}(k)$,\n",
    "  - $k_l < k < k_r \\rightarrow \\texttt{Three}(l,k_l,m,k_r,r).\\texttt{member}(k) = m.\\texttt{member}(k)$,\n",
    "  - $k_r < k \\rightarrow \\texttt{Three}(l,k_l,m,k_r,r).\\texttt{member}(k) = r.\\texttt{member}(k)$."
   ]
  },
  {
   "cell_type": "code",
   "execution_count": null,
   "metadata": {},
   "outputs": [],
   "source": [
    "def member(self, key):\n",
    "    l, kL, m, kR, r = self._extract()\n",
    "    if key == kL or key == kR:\n",
    "        return True\n",
    "    if key < kL:\n",
    "        return l.member(key)\n",
    "    if kL < key < kR:\n",
    "        return m.member(key)\n",
    "    if kR < key:\n",
    "        return self.mRight.member(key)\n",
    "    \n",
    "Three.member = member"
   ]
  },
  {
   "cell_type": "markdown",
   "metadata": {},
   "source": [
    "The method $t.\\texttt{ins}(k)$ takes a 2-3 tree $t$ and and a key $k$ and inserts the key $k$ into $t$.\n",
    "It returns a 2-3-4 tree that has at most one 4-node, which has to be a child of the root\n",
    "node.  The function $\\texttt{ins}$ is recursive and uses the function $\\texttt{restore}$ defined below. \n",
    "It is defined as follows:\n",
    "  - $k = k_l \\vee k = k_r \\rightarrow\\texttt{Three}(l,k_l,m,k_r,r).\\texttt{ins}(k) = \\texttt{Three}(l,k_l,m,k_r,r)$\n",
    "  - $k < k_l \\rightarrow \\texttt{Three}(\\texttt{Nil},k_l,\\texttt{Nil},k_r,\\texttt{Nil}).\\texttt{ins}(k) = \n",
    "                         \\texttt{Four}(\\texttt{Nil},k,\\texttt{Nil},k_l,\\texttt{Nil},k_r,\\texttt{Nil})$\n",
    "  - $k_l < k < k_r \\rightarrow \\texttt{Three}(\\texttt{Nil},k_l,\\texttt{Nil},k_r,\\texttt{Nil}).\\texttt{ins}(k) = \n",
    "                         \\texttt{Four}(\\texttt{Nil},k_l,\\texttt{Nil},k,\\texttt{Nil},k_r,\\texttt{Nil})$\n",
    "  - $k_r < k \\rightarrow \\texttt{Three}(\\texttt{Nil},k_l,\\texttt{Nil},k_r,\\texttt{Nil}).\\texttt{ins}(k) = \n",
    "                         \\texttt{Four}(\\texttt{Nil},k_l,\\texttt{Nil},k_r,\\texttt{Nil},k,\\texttt{Nil})$\n",
    "  \n",
    "  - $k < k_l \\wedge l \\not= \\texttt{Nil} \\wedge m \\not= \\texttt{Nil}\\wedge r \\not= \\texttt{Nil} \\rightarrow \n",
    "     \\texttt{Three}(l,k_l,m,k_r,r).\\texttt{ins}(k) = \\texttt{Three}\\bigl(l.\\texttt{ins}(k),k_l,m,k_r,r\\bigr).\\texttt{restore}()$\n",
    "  - $k_l < k < k_r \\wedge l \\not= \\texttt{Nil} \\wedge m \\not= \\texttt{Nil}\\wedge r \\not= \\texttt{Nil} \\rightarrow \n",
    "     \\texttt{Three}(l,k_l,m,k_r,r).\\texttt{ins}(k) = \\texttt{Three}\\bigl(l,k_l,m.\\texttt{ins}(k),k_r,r\\bigr).\\texttt{restore}()$\n",
    "  - $k_r < k \\wedge l \\not= \\texttt{Nil} \\wedge m \\not= \\texttt{Nil}\\wedge r \\not= \\texttt{Nil} \\rightarrow \n",
    "     \\texttt{Three}(l,k_l,m,k_r,r).\\texttt{ins}(k) = \\texttt{Three}\\bigl(l,k_l,m,k_r,r.\\texttt{ins}(k)\\bigr).\\texttt{restore}()$"
   ]
  },
  {
   "cell_type": "code",
   "execution_count": null,
   "metadata": {},
   "outputs": [],
   "source": [
    "def _ins(self, key):\n",
    "    \"your code here\"\n",
    "    assert False, f'Unbalanced node {self}'\n",
    "    \n",
    "Three._ins = _ins"
   ]
  },
  {
   "cell_type": "markdown",
   "metadata": {},
   "source": [
    "The function call $t.\\texttt{restore}()$ takes a 2-3-4 tree $t$ that has at most one 4-node. This 4-node has to be a child\n",
    "of the root.  It returns a 2-3-4 tree that has at most one 4-node.  This 4-node has to be the root node.\n",
    "\n",
    "The most important invariant satisfied by the method call $t.\\texttt{ins}(k)$ is the fact that the tree\n",
    "$t.\\texttt{ins}(k)$ has the same height as the tree $t$.\n",
    "\n",
    "The different cases that need to be handled by `ins` are shown graphically below:"
   ]
  },
  {
   "cell_type": "code",
   "execution_count": null,
   "metadata": {
    "scrolled": true
   },
   "outputs": [],
   "source": [
    "toDotList([Three(Four(Tree('l1'), 'k1', Tree('ml'), 'k2', Tree('mr'), 'k3', Tree('r1')), 'kl', Tree('m'), 'kr', Tree('r')),\n",
    "           Method('.restore()'),\n",
    "           Four(Two(Tree('l1'), 'k1', Tree('ml')), 'k2', Two(Tree('mr'), 'k3', Tree('r1')), 'kl', Tree('m'), 'kr', Tree('r')),\n",
    "          ])"
   ]
  },
  {
   "cell_type": "markdown",
   "metadata": {},
   "source": [
    "  - $\\texttt{Three}\\bigl(\\texttt{Four}(l_1,k_1,m_l,k_2,m_r,k_3,r_1), k_l, m, k_r, r\\bigr).\\texttt{restore}() = \n",
    "     \\texttt{Four}\\bigl(\\texttt{Two}(l_1, k_1, m_l), k_2, \\texttt{Two}(m_r, k_3, r_1), k_l, m, k_r, r\\bigr) $"
   ]
  },
  {
   "cell_type": "code",
   "execution_count": null,
   "metadata": {},
   "outputs": [],
   "source": [
    "toDotList([Three(Tree('l'), 'kL', Four(Tree('l1'), 'k1', Tree('ml'), 'k2', Tree('mr'), 'k3', Tree('r1')), 'kR', Tree('r')),\n",
    "           Method('.restore()'),\n",
    "           Four(Tree('l'), 'kL', Two(Tree('l1'), 'k1', Tree('ml')), 'k2', Two(Tree('mr'), 'k3', Tree('r1')), 'kR', Tree('r'))\n",
    "          ])"
   ]
  },
  {
   "cell_type": "markdown",
   "metadata": {},
   "source": [
    "  - $\\texttt{Three}\\bigl(l, k_l, \\texttt{Four}(l_1,k_1,m_l,k_2,m_r,k_3,r_1), k_r, r\\bigr).\\texttt{restore}() = \n",
    "     \\texttt{Four}\\bigl(l, k_l, \\texttt{Two}(l_1, k_1, m_l), k_2, \\texttt{Two}(m_r, k_3, r_1), k_r, r\\bigr) $"
   ]
  },
  {
   "cell_type": "code",
   "execution_count": null,
   "metadata": {},
   "outputs": [],
   "source": [
    "toDotList([Three(Tree('l'), 'kl', Tree('m'), 'kr', Four(Tree('l1'), 'k1', Tree('ml'), 'k2', Tree('mr'), 'k3', Tree('r1'))),\n",
    "           Method('.restore()'),\n",
    "           Four(Tree('l'), 'kl', Tree('m'), 'kr', Two(Tree('l1'), 'k1', Tree('ml')), 'k2', Two(Tree('mr'), 'k3', Tree('r1')))\n",
    "          ])"
   ]
  },
  {
   "cell_type": "markdown",
   "metadata": {},
   "source": [
    "  - $\\texttt{Three}\\bigl(l, k_l, m, k_r, \\texttt{Four}(l_1,k_1,m_l,k_2,m_r,k_3,r_1)\\bigr).\\texttt{restore}() = \n",
    "     \\texttt{Four}\\bigl(l, k_l, m, k_r, \\texttt{Two}(l_1, k_1, m_l), k_2, \\texttt{Two}(m_r, k_3, r_1)\\bigr) $"
   ]
  },
  {
   "cell_type": "markdown",
   "metadata": {},
   "source": [
    "Below I have collected all the equations specifying the implementation of `restore` for 3-nodes.\n",
    "  - $\\texttt{Three}\\bigl(\\texttt{Four}(l_1,k_1,m_l,k_2,m_r,k_3,r_1), k_l, m, k_r, r\\bigr).\\texttt{restore}() = \n",
    "     \\texttt{Four}\\bigl(\\texttt{Two}(l_1, k_1, m_l), k_2, \\texttt{Two}(m_r, k_3, r_1), k_l, m, k_r, r\\bigr) $\n",
    "  - $\\texttt{Three}\\bigl(l, k_l, \\texttt{Four}(l_1,k_1,m_l,k_2,m_r,k_3,r_1), k_r, r\\bigr).\\texttt{restore}() = \n",
    "     \\texttt{Four}\\bigl(l, k_l, \\texttt{Two}(l_1, k_1, m_l), k_2, \\texttt{Two}(m_r, k_3, r_1), k_r, r\\bigr) $\n",
    "  - $\\texttt{Three}\\bigl(l, k_l, m, k_r, \\texttt{Four}(l_1,k_1,m_l,k_2,m_r,k_3,r_1)\\bigr).\\texttt{restore}() = \n",
    "     \\texttt{Four}\\bigl(l, k_l, m, k_r, \\texttt{Two}(l_1, k_1, m_l), k_2, \\texttt{Two}(m_r, k_3, r_1)\\bigr) $\n",
    "     \n",
    "If neither of the child nodes of a 3-node is a 4-node, the node is returned unchanged."
   ]
  },
  {
   "cell_type": "code",
   "execution_count": null,
   "metadata": {},
   "outputs": [],
   "source": [
    "def _restore(self):\n",
    "    \"your code here\"\n",
    "    return self\n",
    "\n",
    "Three._restore = _restore"
   ]
  },
  {
   "cell_type": "markdown",
   "metadata": {},
   "source": [
    "## Methods of the Class `Four`"
   ]
  },
  {
   "cell_type": "markdown",
   "metadata": {},
   "source": [
    "The method extract returns the member variables stored in a 4-node."
   ]
  },
  {
   "cell_type": "code",
   "execution_count": null,
   "metadata": {},
   "outputs": [],
   "source": [
    "def _extract(self):\n",
    "    return self.mLeft, self.mKeyL, self.mMiddleL, self.mKeyM, self.mMiddleR, self.mKeyR, self.mRight \n",
    "\n",
    "Four._extract = _extract"
   ]
  },
  {
   "cell_type": "markdown",
   "metadata": {},
   "source": [
    "The method `restore` returns a 4-node unchanged."
   ]
  },
  {
   "cell_type": "code",
   "execution_count": null,
   "metadata": {},
   "outputs": [],
   "source": [
    "def _restore(self):\n",
    "    return self\n",
    "\n",
    "Four._restore = _restore"
   ]
  },
  {
   "cell_type": "markdown",
   "metadata": {},
   "source": [
    "The function `grow` turns a 4-node into 3 2-nodes.  Graphically, it is specified as follows:"
   ]
  },
  {
   "cell_type": "code",
   "execution_count": null,
   "metadata": {},
   "outputs": [],
   "source": [
    "toDotList([Four(Tree('l'),'kl', Tree('ml'), 'km', Tree('mr'), 'kr', Tree('r')),\n",
    "           Method('.grow()'),\n",
    "           Two(Two(Tree('l'),'kl', Tree('ml')), 'km', Two(Tree('mr'), 'kr', Tree('r')))\n",
    "          ])"
   ]
  },
  {
   "cell_type": "markdown",
   "metadata": {},
   "source": [
    "  - $\\texttt{Four}(l, k_l, m_l, k_m, m_r, k_r, r).\\texttt{grow}() =  \n",
    "     \\texttt{Two}\\bigl(\\texttt{Two}(l, k_l, m_l), k_m, \\texttt{Two}(m_r, k_r, r)\\bigr)$"
   ]
  },
  {
   "cell_type": "code",
   "execution_count": null,
   "metadata": {},
   "outputs": [],
   "source": [
    "def _grow(self):\n",
    "    \"your code here\"\n",
    "    \n",
    "Four._grow = _grow"
   ]
  },
  {
   "cell_type": "markdown",
   "metadata": {},
   "source": [
    "## Testing"
   ]
  },
  {
   "cell_type": "code",
   "execution_count": null,
   "metadata": {},
   "outputs": [],
   "source": [
    "m = Nil()\n",
    "m.isNil()\n",
    "m.toDot()"
   ]
  },
  {
   "cell_type": "code",
   "execution_count": null,
   "metadata": {},
   "outputs": [],
   "source": [
    "m = m.insert(\"anton\")\n",
    "m.toDot()"
   ]
  },
  {
   "cell_type": "code",
   "execution_count": null,
   "metadata": {},
   "outputs": [],
   "source": [
    "m = m.insert(\"hugo\" )\n",
    "m.toDot()"
   ]
  },
  {
   "cell_type": "code",
   "execution_count": null,
   "metadata": {},
   "outputs": [],
   "source": [
    "m = m.insert(\"gustav\")\n",
    "m.toDot()"
   ]
  },
  {
   "cell_type": "code",
   "execution_count": null,
   "metadata": {},
   "outputs": [],
   "source": [
    "m = m.insert(\"jens\")\n",
    "m.toDot()"
   ]
  },
  {
   "cell_type": "code",
   "execution_count": null,
   "metadata": {},
   "outputs": [],
   "source": [
    "m = m.insert(\"hubert\")\n",
    "m.toDot()"
   ]
  },
  {
   "cell_type": "code",
   "execution_count": null,
   "metadata": {},
   "outputs": [],
   "source": [
    "m = m.insert(\"andre\")\n",
    "m.toDot()"
   ]
  },
  {
   "cell_type": "code",
   "execution_count": null,
   "metadata": {},
   "outputs": [],
   "source": [
    "m = m.insert(\"philipp\")\n",
    "m.toDot()"
   ]
  },
  {
   "cell_type": "code",
   "execution_count": null,
   "metadata": {},
   "outputs": [],
   "source": [
    "m = m.insert(\"rene\")\n",
    "m.toDot()"
   ]
  },
  {
   "cell_type": "code",
   "execution_count": null,
   "metadata": {},
   "outputs": [],
   "source": [
    "m = m.insert(\"walter\")\n",
    "m.toDot()"
   ]
  },
  {
   "cell_type": "markdown",
   "metadata": {},
   "source": [
    "Let's generate 2-3 tree with random keys."
   ]
  },
  {
   "cell_type": "code",
   "execution_count": null,
   "metadata": {},
   "outputs": [],
   "source": [
    "import random as rnd"
   ]
  },
  {
   "cell_type": "code",
   "execution_count": null,
   "metadata": {},
   "outputs": [],
   "source": [
    "t = Nil()\n",
    "for k in range(30):\n",
    "    k = rnd.randrange(100)\n",
    "    t = t.insert(k)\n",
    "t.toDot()"
   ]
  },
  {
   "cell_type": "markdown",
   "metadata": {},
   "source": [
    "Lets us try to create a tree by inserting sorted numbers because that resulted in linear complexity for ordered binary trees."
   ]
  },
  {
   "cell_type": "code",
   "execution_count": null,
   "metadata": {
    "scrolled": false
   },
   "outputs": [],
   "source": [
    "M = Nil()\n",
    "for k in range(30):\n",
    "    M = M.insert(k)\n",
    "M.toDot()"
   ]
  },
  {
   "cell_type": "markdown",
   "metadata": {},
   "source": [
    "Finally, we compute the set of prime numbers $\\leq 100$.  Mathematically, this set is given as follows:\n",
    "$$ \\bigl\\{2, \\cdots, 100 \\bigr\\} - \\bigl\\{ i \\cdot j \\bigm| i, j \\in \\{2, \\cdots, 100 \\}\\bigr\\}$$\n",
    "First, we compute the set of products $\\bigl\\{ i \\cdot j \\bigm| i, j \\in \\{2, \\cdots, 100 \\}\\bigr\\}$.\n",
    "Then, we insert all naturals numbers less than 100 that are not products into the set of primes."
   ]
  },
  {
   "cell_type": "code",
   "execution_count": null,
   "metadata": {},
   "outputs": [],
   "source": [
    "Products = Nil()    \n",
    "for i in range(2, 101):\n",
    "    for j in range(2, 101):\n",
    "        Products = Products.insert(i * j)\n",
    "        \n",
    "Primes = Nil()\n",
    "for k in range(2, 101):\n",
    "    if not Products.member(k):\n",
    "        Primes = Primes.insert(k)\n",
    "Primes.toDot()"
   ]
  },
  {
   "cell_type": "code",
   "execution_count": null,
   "metadata": {},
   "outputs": [],
   "source": []
  }
 ],
 "metadata": {
  "kernelspec": {
   "display_name": "Python 3 (ipykernel)",
   "language": "python",
   "name": "python3"
  },
  "language_info": {
   "codemirror_mode": {
    "name": "ipython",
    "version": 3
   },
   "file_extension": ".py",
   "mimetype": "text/x-python",
   "name": "python",
   "nbconvert_exporter": "python",
   "pygments_lexer": "ipython3",
   "version": "3.9.11"
  },
  "varInspector": {
   "cols": {
    "lenName": 16,
    "lenType": 16,
    "lenVar": 40
   },
   "kernels_config": {
    "python": {
     "delete_cmd_postfix": "",
     "delete_cmd_prefix": "del ",
     "library": "var_list.py",
     "varRefreshCmd": "print(var_dic_list())"
    },
    "r": {
     "delete_cmd_postfix": ") ",
     "delete_cmd_prefix": "rm(",
     "library": "var_list.r",
     "varRefreshCmd": "cat(var_dic_list()) "
    }
   },
   "types_to_exclude": [
    "module",
    "function",
    "builtin_function_or_method",
    "instance",
    "_Feature"
   ],
   "window_display": false
  }
 },
 "nbformat": 4,
 "nbformat_minor": 2
}
