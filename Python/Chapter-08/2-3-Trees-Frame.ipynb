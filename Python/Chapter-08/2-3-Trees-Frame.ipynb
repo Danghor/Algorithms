{
 "cells": [
  {
   "cell_type": "code",
   "execution_count": 13,
   "metadata": {},
   "outputs": [
    {
     "data": {
      "text/html": [
       "<link href='http://fonts.googleapis.com/css?family=Alegreya+Sans:100,300,400,500,700,800,900,100italic,300italic,400italic,500italic,700italic,800italic,900italic' rel='stylesheet' type='text/css'>\n",
       "<link href='http://fonts.googleapis.com/css?family=Arvo:400,700,400italic' rel='stylesheet' type='text/css'>\n",
       "<link href='http://fonts.googleapis.com/css?family=PT+Mono' rel='stylesheet' type='text/css'>\n",
       "<link href='http://fonts.googleapis.com/css?family=Shadows+Into+Light' rel='stylesheet' type='text/css'>\n",
       "<link href='http://fonts.googleapis.com/css?family=Philosopher:400,700,400italic,700italic' rel='stylesheet' type='text/css'>\n",
       "\n",
       "<style>\n",
       "\n",
       "@font-face {\n",
       "    font-family: \"Computer Modern\";\n",
       "    src: url('http://mirrors.ctan.org/fonts/cm-unicode/fonts/otf/cmunss.otf');\n",
       "}\n",
       "\n",
       ".container { width: 100% }\n",
       "\n",
       "/* Formatting for header cells */\n",
       ".text_cell_render h1 {\n",
       "    font-family: 'Philosopher', sans-serif;\n",
       "    font-weight: 400;\n",
       "    font-size: 2.2em;\n",
       "    line-height: 100%;\n",
       "    color: rgb(0, 80, 120);\n",
       "    margin-bottom: 0.1em;\n",
       "    margin-top: 0.1em;\n",
       "    display: block;\n",
       "}\t\n",
       ".text_cell_render h2 {\n",
       "    font-family: 'Philosopher', serif;\n",
       "    font-weight: 400;\n",
       "    font-size: 1.9em;\n",
       "    line-height: 100%;\n",
       "    color: rgb(200,100,0);\n",
       "    margin-bottom: 0.1em;\n",
       "    margin-top: 0.1em;\n",
       "    display: block;\n",
       "}\t\n",
       "\n",
       ".text_cell_render h3 {\n",
       "    font-family: 'Philosopher', serif;\n",
       "    margin-top:12px;\n",
       "    margin-bottom: 3px;\n",
       "    font-style: italic;\n",
       "    color: rgb(94,127,192);\n",
       "}\n",
       "\n",
       ".text_cell_render h4 {\n",
       "    font-family: 'Philosopher', serif;\n",
       "}\n",
       "\n",
       ".text_cell_render h5 {\n",
       "    font-family: 'Alegreya Sans', sans-serif;\n",
       "    font-weight: 300;\n",
       "    font-size: 16pt;\n",
       "    color: grey;\n",
       "    font-style: italic;\n",
       "    margin-bottom: .1em;\n",
       "    margin-top: 0.1em;\n",
       "    display: block;\n",
       "}\n",
       "\n",
       ".text_cell_render h6 {\n",
       "    font-family: 'PT Mono', sans-serif;\n",
       "    font-weight: 300;\n",
       "    font-size: 10pt;\n",
       "    color: grey;\n",
       "    margin-bottom: 1px;\n",
       "    margin-top: 1px;\n",
       "}\n",
       "\n",
       ".text_cell_render em {\n",
       "    font-family: 'Philosopher', sans-serif;\n",
       "    color:        blue;\n",
       "    background-color: rgb(255,220,180);\n",
       "    font-size:    110%;\n",
       "    margin-left:   2px;\n",
       "    margin-right:  2px;\n",
       "    font-weight:   100;\n",
       "}\n",
       "\n",
       ".text_cell_render b {\n",
       "    color:            rgb(255,195,195);\n",
       "    background-color: rgb(0,0,0);\n",
       "    font-size:    110%;\n",
       "    margin-left:   2px;\n",
       "    margin-right:  2px;\n",
       "    font-weight:   650;\n",
       "}\n",
       "\n",
       ".text_cell_render tt {\n",
       "    font-size:    120%;\n",
       "    margin-left:   2px;\n",
       "    margin-right:  2px;\n",
       "    font-weight:   150;\n",
       "}\n",
       "\n",
       ".Codemirror {\n",
       "    font-family: \"PT Mono\";\n",
       "    font-size: 100%;\n",
       "}\n",
       "\n",
       "</style>\n",
       "\n"
      ],
      "text/plain": [
       "<IPython.core.display.HTML object>"
      ]
     },
     "execution_count": 13,
     "metadata": {},
     "output_type": "execute_result"
    }
   ],
   "source": [
    "from IPython.core.display import HTML\n",
    "with open('../style.css') as file:\n",
    "    css = file.read()\n",
    "HTML(css)"
   ]
  },
  {
   "cell_type": "markdown",
   "metadata": {},
   "source": [
    "# 2-3 Trees"
   ]
  },
  {
   "cell_type": "code",
   "execution_count": 14,
   "metadata": {},
   "outputs": [],
   "source": [
    "import graphviz as gv"
   ]
  },
  {
   "cell_type": "markdown",
   "metadata": {},
   "source": [
    "Ths notebook presents <a href=\"https://en.wikipedia.org/wiki/2-3_tree\">2-3 trees</a>.  We define these trees inductively as follows:\n",
    "  - $\\texttt{Nil}$ is a 2-3 tree that represents the empty set.\n",
    "  - $\\texttt{Two}(l, k, r)$ is a 2-3 tree provided that\n",
    "      - $l$ is a 2-3 tree,\n",
    "      - $k$ is a key,\n",
    "      - $r$ is a 2-3 tree,\n",
    "      - All keys stored in $l$ are less than k and all keys stored in $r$ are bigger than $k$, that is we have\n",
    "        $$ l < k < r. $$\n",
    "        This is called the *order constraint*.\n",
    "      - $l$ and $r$ have the same height, we have\n",
    "        $$ l.\\texttt{height}() = r.\\texttt{height}() $$\n",
    "        This is called the *balancing constraint*.\n",
    "        \n",
    "      A node of the form  $\\texttt{Two}(l, k, r)$ is called a *2-node*.  Except for the fact\n",
    "      that there is no value, a 2-node is\n",
    "      interpreted in the same way as we have interpreted the term $\\texttt{Node}(k, v, l, r)$.\n",
    "  - $\\texttt{Three}(l, k_l, m, k_r, r)$ is a 2-3 tree provided\n",
    "      - $l$, $m$, and $r$ are 2-3 trees,\n",
    "      - $k_l$ and $k_r$ are keys,\n",
    "      - $l < k_l < m < k_r < r$, (*order constraint*)\n",
    "      - $l$, $m$, and $r$ have the same height. (*balancing constraint*)\n",
    "      \n",
    "      A node of the form  $\\texttt{Three}(l, k_l, m, k_r, r)$ is called a *3-node*. \n",
    "\n",
    "In order to keep 2-3 trees balanced when inserting new keys we use a fourth constructor of the form\n",
    "$\\texttt{Four}(l,k_1,m_l, k_2, m_r, k_3, r)$.\n",
    "A term of the form $\\texttt{Four}(l,k_1,m_l, k_2, m_r, k_3, r)$ is a *2-3-4 tree* iff\n",
    "  - $l$, $m_l$, $m_r$, and $r$ are 2-3 trees,\n",
    "  - $k_l$, $k_m$, and $k_r$ are keys,\n",
    "  - $l < k_l < m_l < k_m < m_r < k_r < r$, (*order constraint*)\n",
    "  - $l$, $m_l$, $m_r$, and $r$ all have the same height, (*balancing constraint*).\n",
    "  \n",
    "Nodes of this form are called *4-nodes* and the key $k_m$ is called the *middle key*.\n",
    "Trees containing 2-nodes, 3-node, and 4-nodes are called *2-3-4 trees*."
   ]
  },
  {
   "cell_type": "markdown",
   "metadata": {},
   "source": [
    "The class `TwoThreeTree` is a *superclass* for constructing the nodes of *2-3-4 trees*.  \n",
    "  * It has one static variable `sNodeCount`.  This variable is used to equip all nodes with a unique identifier.  \n",
    "    This identifier is used to draw the trees using `graphviz`.\n",
    "  * Every node has a unique id `mID` that is stored as a member variable.  \n",
    "    This identifier is only used for drawing.\n",
    "  * The class provides defaults for the methods `isNil`, `isTwo`, `isThree`, and `isFour`.  \n",
    "    These functions can be used to check the type of a node.\n",
    "  * The class provides defaults for the method `_grow`.\n",
    "  * It provides the implementation of the method `insert`."
   ]
  },
  {
   "cell_type": "code",
   "execution_count": 15,
   "metadata": {},
   "outputs": [],
   "source": [
    "class TwoThreeTree:\n",
    "    sNodeCount = 0\n",
    "    \n",
    "    def __init__(self):\n",
    "        TwoThreeTree.sNodeCount += 1\n",
    "        self.mID = TwoThreeTree.sNodeCount\n",
    "        \n",
    "    def getID(self):\n",
    "        return self.mID\n",
    "        \n",
    "    def isNil(self):\n",
    "        return False\n",
    "    \n",
    "    def isTwo(self):\n",
    "        return False\n",
    "    \n",
    "    def isThree(self):\n",
    "        return False\n",
    "    \n",
    "    def isFour(self):\n",
    "        return False\n",
    "    \n",
    "    def isTree(self):\n",
    "        return False\n",
    "    \n",
    "    def isMethod(self):\n",
    "        return False\n",
    "    \n",
    "    def insert(self, k):\n",
    "        return self._ins(k)._restore()._grow()\n",
    "    \n",
    "    def _grow(self):\n",
    "        return self"
   ]
  },
  {
   "cell_type": "markdown",
   "metadata": {},
   "source": [
    "The function `make_string` is a helper function used to shorten the implementation of `__str__`.\n",
    "  - `obj` is the object that is to be rendered as a string\n",
    "  - `attributes` is a list of those member variables that are used to produce the string"
   ]
  },
  {
   "cell_type": "code",
   "execution_count": 16,
   "metadata": {},
   "outputs": [],
   "source": [
    "def _make_string(self, attributes):\n",
    "        # map the function __str__ to all attributes and join them with a comma\n",
    "        name = self.__class__.__name__\n",
    "        return f\"{name}({', '.join(map(str, [getattr(self, at) for at in attributes]))})\"\n",
    "    \n",
    "TwoThreeTree._make_string = _make_string"
   ]
  },
  {
   "cell_type": "markdown",
   "metadata": {},
   "source": [
    "The method $t.\\texttt{toDot}()$ takes a 2-3-4 tree $t$ and returns a graph that depicts the tree $t$."
   ]
  },
  {
   "cell_type": "code",
   "execution_count": 17,
   "metadata": {},
   "outputs": [],
   "source": [
    "def toDot(self):\n",
    "    dot = gv.Digraph(node_attr={'shape': 'record', 'style': 'rounded'})\n",
    "    nodeDict = {}\n",
    "    self._collectIDs(nodeDict)\n",
    "    for n, t in nodeDict.items():\n",
    "        if t.isNil():\n",
    "            dot.node(str(n), label='', shape='point')\n",
    "        elif t.isTwo():\n",
    "            dot.node(str(n), label=str(t.mKey))\n",
    "        elif t.isThree():\n",
    "            dot.node(str(n), label=str(t.mKeyL) + '|' + str(t.mKeyR))\n",
    "        elif t.isFour():\n",
    "            dot.node(str(n), label=str(t.mKeyL) + '|' + str(t.mKeyM) + '|' + str(t.mKeyR))\n",
    "        elif t.isTree():\n",
    "            dot.node(str(n), label=str(t.mName), shape='triangle')\n",
    "        else:\n",
    "            assert False, f'Unknown node {t}'\n",
    "    for n, t in nodeDict.items():\n",
    "        if t.isTwo():\n",
    "            dot.edge(str(n), str(t.mLeft .getID()))\n",
    "            dot.edge(str(n), str(t.mRight.getID()))\n",
    "        if t.isThree():\n",
    "            dot.edge(str(n), str(t.mLeft  .getID()))\n",
    "            dot.edge(str(n), str(t.mMiddle.getID()))\n",
    "            dot.edge(str(n), str(t.mRight .getID()))\n",
    "        if t.isFour():\n",
    "            dot.edge(str(n), str(t.mLeft   .getID()))\n",
    "            dot.edge(str(n), str(t.mMiddleL.getID()))\n",
    "            dot.edge(str(n), str(t.mMiddleR.getID()))\n",
    "            dot.edge(str(n), str(t.mRight  .getID()))\n",
    "    return dot\n",
    "\n",
    "TwoThreeTree.toDot = toDot"
   ]
  },
  {
   "cell_type": "markdown",
   "metadata": {},
   "source": [
    "The method $t.\\texttt{collectIDs}(d)$ takes a tree $t$ and a dictionary $d$ and updates the dictionary so that the following holds:\n",
    "$$ d[\\texttt{id}] = n \\quad \\mbox{for every node $n$ in $t$.} $$\n",
    "Here, $\\texttt{id}$ is the unique identifier of the node $n$, i.e. $d$ associates the identifiers with the corresponding nodes."
   ]
  },
  {
   "cell_type": "code",
   "execution_count": 18,
   "metadata": {},
   "outputs": [],
   "source": [
    "def _collectIDs(self, nodeDict):\n",
    "    nodeDict[self.getID()] = self\n",
    "    if self.isTwo():\n",
    "        self.mLeft ._collectIDs(nodeDict)\n",
    "        self.mRight._collectIDs(nodeDict)\n",
    "    elif self.isThree():\n",
    "        self.mLeft  ._collectIDs(nodeDict)\n",
    "        self.mMiddle._collectIDs(nodeDict)\n",
    "        self.mRight ._collectIDs(nodeDict)\n",
    "    elif self.isFour():\n",
    "        self.mLeft   ._collectIDs(nodeDict)\n",
    "        self.mMiddleL._collectIDs(nodeDict)\n",
    "        self.mMiddleR._collectIDs(nodeDict)\n",
    "        self.mRight  ._collectIDs(nodeDict)\n",
    "        \n",
    "TwoThreeTree._collectIDs = _collectIDs"
   ]
  },
  {
   "cell_type": "markdown",
   "metadata": {},
   "source": [
    "The function $\\texttt{toDotList}(\\texttt{NodeList})$ takes a list of trees and displays them one by one."
   ]
  },
  {
   "cell_type": "code",
   "execution_count": 19,
   "metadata": {},
   "outputs": [],
   "source": [
    "def toDotList(NodeList):\n",
    "    dot = gv.Digraph(node_attr={'shape': 'record', 'style': 'rounded'})\n",
    "    nodeDict = {}\n",
    "    for node in NodeList:\n",
    "        node._collectIDs(nodeDict)\n",
    "    for n, t in nodeDict.items():\n",
    "        if t.isNil():\n",
    "            dot.node(str(n), label='', shape='point')\n",
    "        elif t.isTwo():\n",
    "            dot.node(str(n), label=str(t.mKey))\n",
    "        elif t.isThree():\n",
    "            dot.node(str(n), label=str(t.mKeyL) + '|' + str(t.mKeyR))\n",
    "        elif t.isFour():\n",
    "            dot.node(str(n), label=str(t.mKeyL) + '|' + str(t.mKeyM) + '|' + str(t.mKeyR))\n",
    "        elif t.isTree():\n",
    "            dot.node(str(n), label=str(t.mName), shape='triangle', style='solid')\n",
    "        elif t.isMethod():\n",
    "            dot.node(str(n), label=str(t.mLabel), shape='rectangle', style='dotted')\n",
    "        else:\n",
    "            assert False, f'toDotList: Unknown node {str(t)}'\n",
    "    for n, t in nodeDict.items():\n",
    "        if t.isTwo():\n",
    "            dot.edge(str(n), str(t.mLeft .getID()))\n",
    "            dot.edge(str(n), str(t.mRight.getID()))\n",
    "        if t.isThree():\n",
    "            dot.edge(str(n), str(t.mLeft  .getID()))\n",
    "            dot.edge(str(n), str(t.mMiddle.getID()))\n",
    "            dot.edge(str(n), str(t.mRight .getID()))\n",
    "        if t.isFour():\n",
    "            dot.edge(str(n), str(t.mLeft   .getID()))\n",
    "            dot.edge(str(n), str(t.mMiddleL.getID()))\n",
    "            dot.edge(str(n), str(t.mMiddleR.getID()))\n",
    "            dot.edge(str(n), str(t.mRight  .getID()))\n",
    "    return dot"
   ]
  },
  {
   "cell_type": "markdown",
   "metadata": {},
   "source": [
    "The class `Tree` is not used in the implementation of *2-3 trees*.  It is only used for displaying abstract subtrees in equations.\n",
    "It is displayed as a triangle containing the string that is stored in the member variable `mName`."
   ]
  },
  {
   "cell_type": "code",
   "execution_count": 20,
   "metadata": {},
   "outputs": [],
   "source": [
    "class Tree(TwoThreeTree):\n",
    "    def __init__(self, name):\n",
    "        TwoThreeTree.__init__(self)\n",
    "        self.mName = name\n",
    "        \n",
    "    def __str__(self):\n",
    "        return self.mName\n",
    "    \n",
    "    def isTree(self):\n",
    "        return True"
   ]
  },
  {
   "cell_type": "markdown",
   "metadata": {},
   "source": [
    "The class `Method` is not used in the implementation of 2-3 trees. It is only used for displaying method calls in equations. It is displayed as a rectangle containing the string that is stored in the member variable `mLabel`."
   ]
  },
  {
   "cell_type": "code",
   "execution_count": 21,
   "metadata": {},
   "outputs": [],
   "source": [
    "class Method(TwoThreeTree):\n",
    "    def __init__(self, label):\n",
    "        TwoThreeTree.__init__(self)\n",
    "        self.mLabel = label\n",
    "        \n",
    "    def __str__(self):\n",
    "        return self.mLabel\n",
    "    \n",
    "    def isMethod(self):\n",
    "        return True"
   ]
  },
  {
   "cell_type": "markdown",
   "metadata": {},
   "source": [
    "The class `Nil` represents an empty tree.  It has no member variables of its own."
   ]
  },
  {
   "cell_type": "code",
   "execution_count": 22,
   "metadata": {},
   "outputs": [],
   "source": [
    "class Nil(TwoThreeTree):\n",
    "    def __init__(self):\n",
    "        TwoThreeTree.__init__(self)\n",
    "        \n",
    "    def isNil(self):\n",
    "        return True\n",
    "    \n",
    "    def __str__(self):\n",
    "        return 'Nil()'"
   ]
  },
  {
   "cell_type": "markdown",
   "metadata": {},
   "source": [
    "The class `Two` represents a 2-node of the form $\\texttt{Two}(l, k, r)$.  It manages three member variables:\n",
    "  - `mLeft`  is the left subtree $l$,\n",
    "  - `mKey`   is the key that is stored at this node,\n",
    "  - `mRight` is the right subtree $r$."
   ]
  },
  {
   "cell_type": "code",
   "execution_count": 23,
   "metadata": {},
   "outputs": [],
   "source": [
    "class Two(TwoThreeTree):\n",
    "    def __init__(self, left, key, right):\n",
    "        TwoThreeTree.__init__(self)\n",
    "        self.mLeft  = left\n",
    "        self.mKey   = key\n",
    "        self.mRight = right\n",
    "        \n",
    "    def isTwo(self):\n",
    "        return True\n",
    "\n",
    "    def __str__(self):\n",
    "        return self._make_string(['mLeft', 'mKey', 'mRight'])"
   ]
  },
  {
   "cell_type": "markdown",
   "metadata": {},
   "source": [
    "Graphically, the node $\\texttt{Two}(l, k, r)$ is represented as shown below:"
   ]
  },
  {
   "cell_type": "code",
   "execution_count": 24,
   "metadata": {},
   "outputs": [
    {
     "data": {
      "image/svg+xml": [
       "<?xml version=\"1.0\" encoding=\"UTF-8\" standalone=\"no\"?>\n",
       "<!DOCTYPE svg PUBLIC \"-//W3C//DTD SVG 1.1//EN\"\n",
       " \"http://www.w3.org/Graphics/SVG/1.1/DTD/svg11.dtd\">\n",
       "<!-- Generated by graphviz version 2.50.0 (0)\n",
       " -->\n",
       "<!-- Pages: 1 -->\n",
       "<svg width=\"134pt\" height=\"127pt\"\n",
       " viewBox=\"0.00 0.00 134.30 127.00\" xmlns=\"http://www.w3.org/2000/svg\" xmlns:xlink=\"http://www.w3.org/1999/xlink\">\n",
       "<g id=\"graph0\" class=\"graph\" transform=\"scale(1 1) rotate(0) translate(4 123)\">\n",
       "<polygon fill=\"white\" stroke=\"transparent\" points=\"-4,4 -4,-123 130.3,-123 130.3,4 -4,4\"/>\n",
       "<!-- 3 -->\n",
       "<g id=\"node1\" class=\"node\">\n",
       "<title>3</title>\n",
       "<path fill=\"none\" stroke=\"black\" d=\"M48,-82.5C48,-82.5 78,-82.5 78,-82.5 84,-82.5 90,-88.5 90,-94.5 90,-94.5 90,-106.5 90,-106.5 90,-112.5 84,-118.5 78,-118.5 78,-118.5 48,-118.5 48,-118.5 42,-118.5 36,-112.5 36,-106.5 36,-106.5 36,-94.5 36,-94.5 36,-88.5 42,-82.5 48,-82.5\"/>\n",
       "<text text-anchor=\"middle\" x=\"63\" y=\"-96.8\" font-family=\"Times,serif\" font-size=\"14.00\">k</text>\n",
       "</g>\n",
       "<!-- 1 -->\n",
       "<g id=\"node2\" class=\"node\">\n",
       "<title>1</title>\n",
       "<polygon fill=\"none\" stroke=\"black\" points=\"27,-46 0,-11.5 54,-11.5 27,-46\"/>\n",
       "<text text-anchor=\"middle\" x=\"27\" y=\"-19.3\" font-family=\"Times,serif\" font-size=\"14.00\">l</text>\n",
       "</g>\n",
       "<!-- 3&#45;&gt;1 -->\n",
       "<g id=\"edge1\" class=\"edge\">\n",
       "<title>3&#45;&gt;1</title>\n",
       "<path fill=\"none\" stroke=\"black\" d=\"M54.83,-82.37C49.89,-72 43.52,-58.65 38.12,-47.33\"/>\n",
       "<polygon fill=\"black\" stroke=\"black\" points=\"41.15,-45.55 33.69,-38.03 34.84,-48.57 41.15,-45.55\"/>\n",
       "</g>\n",
       "<!-- 2 -->\n",
       "<g id=\"node3\" class=\"node\">\n",
       "<title>2</title>\n",
       "<polygon fill=\"none\" stroke=\"black\" points=\"99,-46 71.9,-11.5 126.1,-11.5 99,-46\"/>\n",
       "<text text-anchor=\"middle\" x=\"99\" y=\"-19.3\" font-family=\"Times,serif\" font-size=\"14.00\">r</text>\n",
       "</g>\n",
       "<!-- 3&#45;&gt;2 -->\n",
       "<g id=\"edge2\" class=\"edge\">\n",
       "<title>3&#45;&gt;2</title>\n",
       "<path fill=\"none\" stroke=\"black\" d=\"M71.17,-82.37C76.11,-72 82.48,-58.65 87.88,-47.33\"/>\n",
       "<polygon fill=\"black\" stroke=\"black\" points=\"91.16,-48.57 92.31,-38.03 84.85,-45.55 91.16,-48.57\"/>\n",
       "</g>\n",
       "</g>\n",
       "</svg>\n"
      ],
      "text/plain": [
       "<graphviz.graphs.Digraph at 0x7fc327557850>"
      ]
     },
     "execution_count": 24,
     "metadata": {},
     "output_type": "execute_result"
    }
   ],
   "source": [
    "toDotList([Two(Tree('l'), 'k', Tree('r'))])"
   ]
  },
  {
   "cell_type": "markdown",
   "metadata": {},
   "source": [
    "The class `Three` represents a 3-node of the form $\\texttt{Three}(l, k_L, m, k_R, r)$.  It manages 5 member variables:\n",
    "  - `mLeft`   is the left subtree $l$,\n",
    "  - `mKeyL`   is the left key $k_L$,\n",
    "  - `mMiddle` is the middle subtree $m$,\n",
    "  - `mKeyR`   is the right key $k_r$,\n",
    "  - `mRight`  is the right subtree."
   ]
  },
  {
   "cell_type": "code",
   "execution_count": 25,
   "metadata": {},
   "outputs": [],
   "source": [
    "class Three(TwoThreeTree):\n",
    "    def __init__(self, left, keyL, middle, keyR, right):\n",
    "        TwoThreeTree.__init__(self)\n",
    "        self.mLeft   = left\n",
    "        self.mKeyL   = keyL\n",
    "        self.mMiddle = middle\n",
    "        self.mKeyR   = keyR\n",
    "        self.mRight  = right\n",
    "\n",
    "    def __str__(self):\n",
    "        return self._make_string(['mLeft', 'mKeyL', 'mMiddle', 'mKeyR', 'mRight'])        \n",
    "\n",
    "    def isThree(self):\n",
    "        return True"
   ]
  },
  {
   "cell_type": "markdown",
   "metadata": {},
   "source": [
    "Graphically, the node $\\texttt{Three}(l, k_L, m, k_R, r)$ is represented as shown below:"
   ]
  },
  {
   "cell_type": "code",
   "execution_count": 26,
   "metadata": {},
   "outputs": [
    {
     "data": {
      "image/svg+xml": [
       "<?xml version=\"1.0\" encoding=\"UTF-8\" standalone=\"no\"?>\n",
       "<!DOCTYPE svg PUBLIC \"-//W3C//DTD SVG 1.1//EN\"\n",
       " \"http://www.w3.org/Graphics/SVG/1.1/DTD/svg11.dtd\">\n",
       "<!-- Generated by graphviz version 2.50.0 (0)\n",
       " -->\n",
       "<!-- Pages: 1 -->\n",
       "<svg width=\"225pt\" height=\"127pt\"\n",
       " viewBox=\"0.00 0.00 225.30 127.00\" xmlns=\"http://www.w3.org/2000/svg\" xmlns:xlink=\"http://www.w3.org/1999/xlink\">\n",
       "<g id=\"graph0\" class=\"graph\" transform=\"scale(1 1) rotate(0) translate(4 123)\">\n",
       "<polygon fill=\"white\" stroke=\"transparent\" points=\"-4,4 -4,-123 221.3,-123 221.3,4 -4,4\"/>\n",
       "<!-- 7 -->\n",
       "<g id=\"node1\" class=\"node\">\n",
       "<title>7</title>\n",
       "<path fill=\"none\" stroke=\"black\" d=\"M88,-82.5C88,-82.5 128,-82.5 128,-82.5 134,-82.5 140,-88.5 140,-94.5 140,-94.5 140,-106.5 140,-106.5 140,-112.5 134,-118.5 128,-118.5 128,-118.5 88,-118.5 88,-118.5 82,-118.5 76,-112.5 76,-106.5 76,-106.5 76,-94.5 76,-94.5 76,-88.5 82,-82.5 88,-82.5\"/>\n",
       "<text text-anchor=\"middle\" x=\"92\" y=\"-96.8\" font-family=\"Times,serif\" font-size=\"14.00\">kL</text>\n",
       "<polyline fill=\"none\" stroke=\"black\" points=\"108,-82.5 108,-118.5 \"/>\n",
       "<text text-anchor=\"middle\" x=\"124\" y=\"-96.8\" font-family=\"Times,serif\" font-size=\"14.00\">kR</text>\n",
       "</g>\n",
       "<!-- 4 -->\n",
       "<g id=\"node2\" class=\"node\">\n",
       "<title>4</title>\n",
       "<polygon fill=\"none\" stroke=\"black\" points=\"27,-46 0,-11.5 54,-11.5 27,-46\"/>\n",
       "<text text-anchor=\"middle\" x=\"27\" y=\"-19.3\" font-family=\"Times,serif\" font-size=\"14.00\">l</text>\n",
       "</g>\n",
       "<!-- 7&#45;&gt;4 -->\n",
       "<g id=\"edge1\" class=\"edge\">\n",
       "<title>7&#45;&gt;4</title>\n",
       "<path fill=\"none\" stroke=\"black\" d=\"M89.62,-82.37C76.17,-69.83 58.02,-52.91 44.72,-40.52\"/>\n",
       "<polygon fill=\"black\" stroke=\"black\" points=\"46.86,-37.73 37.16,-33.47 42.09,-42.85 46.86,-37.73\"/>\n",
       "</g>\n",
       "<!-- 5 -->\n",
       "<g id=\"node3\" class=\"node\">\n",
       "<title>5</title>\n",
       "<polygon fill=\"none\" stroke=\"black\" points=\"108,-46 71.71,-11.5 144.29,-11.5 108,-46\"/>\n",
       "<text text-anchor=\"middle\" x=\"108\" y=\"-19.3\" font-family=\"Times,serif\" font-size=\"14.00\">m</text>\n",
       "</g>\n",
       "<!-- 7&#45;&gt;5 -->\n",
       "<g id=\"edge2\" class=\"edge\">\n",
       "<title>7&#45;&gt;5</title>\n",
       "<path fill=\"none\" stroke=\"black\" d=\"M108,-82.37C108,-74.68 108,-65.33 108,-56.4\"/>\n",
       "<polygon fill=\"black\" stroke=\"black\" points=\"111.5,-56.23 108,-46.23 104.5,-56.23 111.5,-56.23\"/>\n",
       "</g>\n",
       "<!-- 6 -->\n",
       "<g id=\"node4\" class=\"node\">\n",
       "<title>6</title>\n",
       "<polygon fill=\"none\" stroke=\"black\" points=\"190,-46 162.9,-11.5 217.1,-11.5 190,-46\"/>\n",
       "<text text-anchor=\"middle\" x=\"190\" y=\"-19.3\" font-family=\"Times,serif\" font-size=\"14.00\">r</text>\n",
       "</g>\n",
       "<!-- 7&#45;&gt;6 -->\n",
       "<g id=\"edge3\" class=\"edge\">\n",
       "<title>7&#45;&gt;6</title>\n",
       "<path fill=\"none\" stroke=\"black\" d=\"M126.61,-82.37C140.22,-69.83 158.6,-52.91 172.06,-40.52\"/>\n",
       "<polygon fill=\"black\" stroke=\"black\" points=\"174.73,-42.82 179.72,-33.47 169.99,-37.67 174.73,-42.82\"/>\n",
       "</g>\n",
       "</g>\n",
       "</svg>\n"
      ],
      "text/plain": [
       "<graphviz.graphs.Digraph at 0x7fc3275574c0>"
      ]
     },
     "execution_count": 26,
     "metadata": {},
     "output_type": "execute_result"
    }
   ],
   "source": [
    "toDotList([Three(Tree('l'), 'kL', Tree('m'), 'kR', Tree('r'))])"
   ]
  },
  {
   "cell_type": "markdown",
   "metadata": {},
   "source": [
    "The class `Four` represents a 4-node.  It manages 7 member variables:\n",
    "  - `mLeft`    is the left subtree $l$,\n",
    "  - `mKeyL`    is the left key $k_L$,\n",
    "  - `mMiddleL` is the middle left subtree $m_L$,\n",
    "  - `mKeyM`    is the middle key,\n",
    "  - `mMiddleR` is the middle right subtree $m_R$,\n",
    "  - `mKeyR`    is the right key $k_r$,\n",
    "  - `mRight`   is the right subtree."
   ]
  },
  {
   "cell_type": "code",
   "execution_count": 27,
   "metadata": {},
   "outputs": [],
   "source": [
    "class Four(TwoThreeTree):\n",
    "    def __init__(self, l, kl, ml, km, mr, kr, r):\n",
    "        TwoThreeTree.__init__(self)\n",
    "        self.mLeft    = l\n",
    "        self.mKeyL    = kl\n",
    "        self.mMiddleL = ml\n",
    "        self.mKeyM    = km\n",
    "        self.mMiddleR = mr\n",
    "        self.mKeyR    = kr\n",
    "        self.mRight   = r\n",
    "        \n",
    "    def __str__(self):\n",
    "        return self._make_string(['mLeft', 'mKeyL', 'mMiddleL', 'mKeyM', 'mMiddleR', 'mKeyR', 'mRight'])\n",
    "    \n",
    "    def isFour(self):\n",
    "        return True"
   ]
  },
  {
   "cell_type": "markdown",
   "metadata": {},
   "source": [
    "Graphically, the node $\\texttt{Four}(l, k_L, m_L, k_M, m_R, k_R, r)$ is represented as shown below:"
   ]
  },
  {
   "cell_type": "code",
   "execution_count": 28,
   "metadata": {},
   "outputs": [
    {
     "data": {
      "image/svg+xml": [
       "<?xml version=\"1.0\" encoding=\"UTF-8\" standalone=\"no\"?>\n",
       "<!DOCTYPE svg PUBLIC \"-//W3C//DTD SVG 1.1//EN\"\n",
       " \"http://www.w3.org/Graphics/SVG/1.1/DTD/svg11.dtd\">\n",
       "<!-- Generated by graphviz version 2.50.0 (0)\n",
       " -->\n",
       "<!-- Pages: 1 -->\n",
       "<svg width=\"360pt\" height=\"127pt\"\n",
       " viewBox=\"0.00 0.00 360.30 127.00\" xmlns=\"http://www.w3.org/2000/svg\" xmlns:xlink=\"http://www.w3.org/1999/xlink\">\n",
       "<g id=\"graph0\" class=\"graph\" transform=\"scale(1 1) rotate(0) translate(4 123)\">\n",
       "<polygon fill=\"white\" stroke=\"transparent\" points=\"-4,4 -4,-123 356.3,-123 356.3,4 -4,4\"/>\n",
       "<!-- 12 -->\n",
       "<g id=\"node1\" class=\"node\">\n",
       "<title>12</title>\n",
       "<path fill=\"none\" stroke=\"black\" d=\"M137,-82.5C137,-82.5 213,-82.5 213,-82.5 219,-82.5 225,-88.5 225,-94.5 225,-94.5 225,-106.5 225,-106.5 225,-112.5 219,-118.5 213,-118.5 213,-118.5 137,-118.5 137,-118.5 131,-118.5 125,-112.5 125,-106.5 125,-106.5 125,-94.5 125,-94.5 125,-88.5 131,-82.5 137,-82.5\"/>\n",
       "<text text-anchor=\"middle\" x=\"141\" y=\"-96.8\" font-family=\"Times,serif\" font-size=\"14.00\">kL</text>\n",
       "<polyline fill=\"none\" stroke=\"black\" points=\"157,-82.5 157,-118.5 \"/>\n",
       "<text text-anchor=\"middle\" x=\"175\" y=\"-96.8\" font-family=\"Times,serif\" font-size=\"14.00\">kM</text>\n",
       "<polyline fill=\"none\" stroke=\"black\" points=\"193,-82.5 193,-118.5 \"/>\n",
       "<text text-anchor=\"middle\" x=\"209\" y=\"-96.8\" font-family=\"Times,serif\" font-size=\"14.00\">kR</text>\n",
       "</g>\n",
       "<!-- 8 -->\n",
       "<g id=\"node2\" class=\"node\">\n",
       "<title>8</title>\n",
       "<polygon fill=\"none\" stroke=\"black\" points=\"27,-46 0,-11.5 54,-11.5 27,-46\"/>\n",
       "<text text-anchor=\"middle\" x=\"27\" y=\"-19.3\" font-family=\"Times,serif\" font-size=\"14.00\">l</text>\n",
       "</g>\n",
       "<!-- 12&#45;&gt;8 -->\n",
       "<g id=\"edge1\" class=\"edge\">\n",
       "<title>12&#45;&gt;8</title>\n",
       "<path fill=\"none\" stroke=\"black\" d=\"M136.93,-82.5C115.03,-72.42 87.15,-59.1 63,-46 57.77,-43.16 52.23,-39.91 47.11,-36.79\"/>\n",
       "<polygon fill=\"black\" stroke=\"black\" points=\"48.84,-33.74 38.5,-31.44 45.14,-39.69 48.84,-33.74\"/>\n",
       "</g>\n",
       "<!-- 9 -->\n",
       "<g id=\"node3\" class=\"node\">\n",
       "<title>9</title>\n",
       "<polygon fill=\"none\" stroke=\"black\" points=\"119,-46 72.41,-11.5 165.59,-11.5 119,-46\"/>\n",
       "<text text-anchor=\"middle\" x=\"119\" y=\"-19.3\" font-family=\"Times,serif\" font-size=\"14.00\">mL</text>\n",
       "</g>\n",
       "<!-- 12&#45;&gt;9 -->\n",
       "<g id=\"edge2\" class=\"edge\">\n",
       "<title>12&#45;&gt;9</title>\n",
       "<path fill=\"none\" stroke=\"black\" d=\"M162.29,-82.37C154.48,-71.83 144.36,-58.2 135.88,-46.76\"/>\n",
       "<polygon fill=\"black\" stroke=\"black\" points=\"138.54,-44.47 129.77,-38.52 132.92,-48.64 138.54,-44.47\"/>\n",
       "</g>\n",
       "<!-- 10 -->\n",
       "<g id=\"node4\" class=\"node\">\n",
       "<title>10</title>\n",
       "<polygon fill=\"none\" stroke=\"black\" points=\"232,-46 183.81,-11.5 280.19,-11.5 232,-46\"/>\n",
       "<text text-anchor=\"middle\" x=\"232\" y=\"-19.3\" font-family=\"Times,serif\" font-size=\"14.00\">mR</text>\n",
       "</g>\n",
       "<!-- 12&#45;&gt;10 -->\n",
       "<g id=\"edge3\" class=\"edge\">\n",
       "<title>12&#45;&gt;10</title>\n",
       "<path fill=\"none\" stroke=\"black\" d=\"M187.93,-82.37C195.89,-71.83 206.18,-58.2 214.82,-46.76\"/>\n",
       "<polygon fill=\"black\" stroke=\"black\" points=\"217.8,-48.61 221.04,-38.52 212.22,-44.4 217.8,-48.61\"/>\n",
       "</g>\n",
       "<!-- 11 -->\n",
       "<g id=\"node5\" class=\"node\">\n",
       "<title>11</title>\n",
       "<polygon fill=\"none\" stroke=\"black\" points=\"325,-46 297.9,-11.5 352.1,-11.5 325,-46\"/>\n",
       "<text text-anchor=\"middle\" x=\"325\" y=\"-19.3\" font-family=\"Times,serif\" font-size=\"14.00\">r</text>\n",
       "</g>\n",
       "<!-- 12&#45;&gt;11 -->\n",
       "<g id=\"edge4\" class=\"edge\">\n",
       "<title>12&#45;&gt;11</title>\n",
       "<path fill=\"none\" stroke=\"black\" d=\"M214.04,-82.46C236.3,-72.43 264.55,-59.16 289,-46 294.24,-43.18 299.78,-39.93 304.9,-36.82\"/>\n",
       "<polygon fill=\"black\" stroke=\"black\" points=\"306.87,-39.71 313.52,-31.46 303.17,-33.77 306.87,-39.71\"/>\n",
       "</g>\n",
       "</g>\n",
       "</svg>\n"
      ],
      "text/plain": [
       "<graphviz.graphs.Digraph at 0x7fc327538e20>"
      ]
     },
     "execution_count": 28,
     "metadata": {},
     "output_type": "execute_result"
    }
   ],
   "source": [
    "toDotList([Four(Tree('l'), 'kL', Tree('mL'), 'kM', Tree('mR'), 'kR', Tree('r'))])"
   ]
  },
  {
   "cell_type": "markdown",
   "metadata": {},
   "source": [
    "## Methods of the Class `Nil`"
   ]
  },
  {
   "cell_type": "markdown",
   "metadata": {},
   "source": [
    "The empty tree does not contain any keys:\n",
    "$$ \\texttt{Nil}.\\texttt{member}(k) = \\texttt{False} $$"
   ]
  },
  {
   "cell_type": "code",
   "execution_count": 29,
   "metadata": {},
   "outputs": [],
   "source": [
    "def member(self, k):\n",
    "    return False\n",
    "\n",
    "Nil.member = member"
   ]
  },
  {
   "cell_type": "markdown",
   "metadata": {},
   "source": [
    "Insertings a key $k$ into an empty node returns a 2-node with two empty subtrees."
   ]
  },
  {
   "cell_type": "code",
   "execution_count": 30,
   "metadata": {},
   "outputs": [
    {
     "data": {
      "image/svg+xml": [
       "<?xml version=\"1.0\" encoding=\"UTF-8\" standalone=\"no\"?>\n",
       "<!DOCTYPE svg PUBLIC \"-//W3C//DTD SVG 1.1//EN\"\n",
       " \"http://www.w3.org/Graphics/SVG/1.1/DTD/svg11.dtd\">\n",
       "<!-- Generated by graphviz version 2.50.0 (0)\n",
       " -->\n",
       "<!-- Pages: 1 -->\n",
       "<svg width=\"156pt\" height=\"85pt\"\n",
       " viewBox=\"0.00 0.00 155.80 84.60\" xmlns=\"http://www.w3.org/2000/svg\" xmlns:xlink=\"http://www.w3.org/1999/xlink\">\n",
       "<g id=\"graph0\" class=\"graph\" transform=\"scale(1 1) rotate(0) translate(4 80.6)\">\n",
       "<polygon fill=\"white\" stroke=\"transparent\" points=\"-4,4 -4,-80.6 151.8,-80.6 151.8,4 -4,4\"/>\n",
       "<!-- 13 -->\n",
       "<g id=\"node1\" class=\"node\">\n",
       "<title>13</title>\n",
       "<ellipse fill=\"black\" stroke=\"black\" cx=\"1.8\" cy=\"-58.1\" rx=\"1.8\" ry=\"1.8\"/>\n",
       "</g>\n",
       "<!-- 14 -->\n",
       "<g id=\"node2\" class=\"node\">\n",
       "<title>14</title>\n",
       "<polygon fill=\"none\" stroke=\"black\" stroke-dasharray=\"1,5\" points=\"75.8,-76.1 21.8,-76.1 21.8,-40.1 75.8,-40.1 75.8,-76.1\"/>\n",
       "<text text-anchor=\"middle\" x=\"48.8\" y=\"-54.4\" font-family=\"Times,serif\" font-size=\"14.00\">ins(k)</text>\n",
       "</g>\n",
       "<!-- 17 -->\n",
       "<g id=\"node3\" class=\"node\">\n",
       "<title>17</title>\n",
       "<path fill=\"none\" stroke=\"black\" d=\"M105.8,-40.1C105.8,-40.1 135.8,-40.1 135.8,-40.1 141.8,-40.1 147.8,-46.1 147.8,-52.1 147.8,-52.1 147.8,-64.1 147.8,-64.1 147.8,-70.1 141.8,-76.1 135.8,-76.1 135.8,-76.1 105.8,-76.1 105.8,-76.1 99.8,-76.1 93.8,-70.1 93.8,-64.1 93.8,-64.1 93.8,-52.1 93.8,-52.1 93.8,-46.1 99.8,-40.1 105.8,-40.1\"/>\n",
       "<text text-anchor=\"middle\" x=\"120.8\" y=\"-54.4\" font-family=\"Times,serif\" font-size=\"14.00\">k</text>\n",
       "</g>\n",
       "<!-- 15 -->\n",
       "<g id=\"node4\" class=\"node\">\n",
       "<title>15</title>\n",
       "<ellipse fill=\"black\" stroke=\"black\" cx=\"109.8\" cy=\"-1.8\" rx=\"1.8\" ry=\"1.8\"/>\n",
       "</g>\n",
       "<!-- 17&#45;&gt;15 -->\n",
       "<g id=\"edge1\" class=\"edge\">\n",
       "<title>17&#45;&gt;15</title>\n",
       "<path fill=\"none\" stroke=\"black\" d=\"M117.32,-39.92C115.58,-31.33 113.53,-21.19 112,-13.68\"/>\n",
       "<polygon fill=\"black\" stroke=\"black\" points=\"115.41,-12.85 109.99,-3.74 108.55,-14.24 115.41,-12.85\"/>\n",
       "</g>\n",
       "<!-- 16 -->\n",
       "<g id=\"node5\" class=\"node\">\n",
       "<title>16</title>\n",
       "<ellipse fill=\"black\" stroke=\"black\" cx=\"131.8\" cy=\"-1.8\" rx=\"1.8\" ry=\"1.8\"/>\n",
       "</g>\n",
       "<!-- 17&#45;&gt;16 -->\n",
       "<g id=\"edge2\" class=\"edge\">\n",
       "<title>17&#45;&gt;16</title>\n",
       "<path fill=\"none\" stroke=\"black\" d=\"M124.28,-39.92C126.02,-31.33 128.07,-21.19 129.6,-13.68\"/>\n",
       "<polygon fill=\"black\" stroke=\"black\" points=\"133.05,-14.24 131.61,-3.74 126.19,-12.85 133.05,-14.24\"/>\n",
       "</g>\n",
       "</g>\n",
       "</svg>\n"
      ],
      "text/plain": [
       "<graphviz.graphs.Digraph at 0x7fc32753a5f0>"
      ]
     },
     "execution_count": 30,
     "metadata": {},
     "output_type": "execute_result"
    }
   ],
   "source": [
    "toDotList([Nil(), Method('ins(k)'), Two(Nil(), 'k', Nil())])"
   ]
  },
  {
   "cell_type": "code",
   "execution_count": 31,
   "metadata": {},
   "outputs": [
    {
     "name": "stdout",
     "output_type": "stream",
     "text": [
      "Nil()\n"
     ]
    }
   ],
   "source": [
    "t = Nil()\n",
    "print(t)"
   ]
  },
  {
   "cell_type": "code",
   "execution_count": 32,
   "metadata": {},
   "outputs": [
    {
     "data": {
      "text/plain": [
       "False"
      ]
     },
     "execution_count": 32,
     "metadata": {},
     "output_type": "execute_result"
    }
   ],
   "source": [
    "t == Nil()"
   ]
  },
  {
   "cell_type": "code",
   "execution_count": 33,
   "metadata": {},
   "outputs": [
    {
     "data": {
      "text/plain": [
       "True"
      ]
     },
     "execution_count": 33,
     "metadata": {},
     "output_type": "execute_result"
    }
   ],
   "source": [
    "t.isNil()"
   ]
  },
  {
   "cell_type": "markdown",
   "metadata": {},
   "source": [
    "Mathematically, this can be written as follows:\n",
    "$$ \\texttt{Nil}.\\texttt{ins}(k) = \\texttt{Two}(\\texttt{Nil}, k, \\texttt{Nil}) $$\n",
    "The implementation is straightforward as shown below."
   ]
  },
  {
   "cell_type": "code",
   "execution_count": 34,
   "metadata": {},
   "outputs": [],
   "source": [
    "def _ins(self, k):\n",
    "    return \"your code here\"\n",
    "\n",
    "Nil._ins = _ins"
   ]
  },
  {
   "cell_type": "markdown",
   "metadata": {},
   "source": [
    "## Methods of the Class Two"
   ]
  },
  {
   "cell_type": "markdown",
   "metadata": {},
   "source": [
    "The method `extract` returns the member variables stored in a 2-node.  This is usefull to shorten the code since when we use this method, we don't have to prefix all variable names with `self.`."
   ]
  },
  {
   "cell_type": "code",
   "execution_count": 35,
   "metadata": {},
   "outputs": [],
   "source": [
    "def _extract(self):\n",
    "    return self.mLeft, self.mKey, self.mRight\n",
    "\n",
    "Two._extract = _extract"
   ]
  },
  {
   "cell_type": "markdown",
   "metadata": {},
   "source": [
    "Given a 2-node $t$ and a key $k$, the method $t.\\texttt{member}(k)$ checks whether the key $k$ occurs in $t$.  It is specified as follows:\n",
    "  - $\\texttt{Two}(l,k,r).\\texttt{member}(k) = \\texttt{True}$,\n",
    "  - $k_1 < k_2 \\rightarrow \\texttt{Two}(l,k_1,r).\\texttt{member}(k_2) = r.\\texttt{member}(k_2)$,\n",
    "  - $k_1 > k_2 \\rightarrow \\texttt{Two}(l,k_1,r).\\texttt{member}(k_2) = l.\\texttt{member}(k_2)$."
   ]
  },
  {
   "cell_type": "code",
   "execution_count": 36,
   "metadata": {},
   "outputs": [],
   "source": [
    "def member(self, key):\n",
    "    l, k, r = self._extract()\n",
    "    if k == key:\n",
    "        return True\n",
    "    elif key < k:\n",
    "        return l.member(key)\n",
    "    elif key > self.mKey:\n",
    "        return r.member(key)\n",
    "\n",
    "Two.member = member"
   ]
  },
  {
   "cell_type": "markdown",
   "metadata": {},
   "source": [
    "The method $t.\\texttt{ins}(k)$ takes a 2-3 tree $t$ and and a key $k$ and inserts the key $k$ into $t$.\n",
    "It returns a 2-3-4 tree that has at most one 4-node, which has to be a child of the root\n",
    "node.  The function $\\texttt{ins}$ is recursive and uses the function $\\texttt{restore}$ defined below. \n",
    "\n",
    "The most important invariant satisfied by the method call $t.\\texttt{ins}(k)$ is the fact that the tree\n",
    "$t.\\texttt{ins}(k)$ has the same height as the tree $t$.\n",
    "\n",
    "The different cases that need to be handled by `ins` are shown graphically below:"
   ]
  },
  {
   "cell_type": "code",
   "execution_count": 37,
   "metadata": {},
   "outputs": [
    {
     "data": {
      "image/svg+xml": [
       "<?xml version=\"1.0\" encoding=\"UTF-8\" standalone=\"no\"?>\n",
       "<!DOCTYPE svg PUBLIC \"-//W3C//DTD SVG 1.1//EN\"\n",
       " \"http://www.w3.org/Graphics/SVG/1.1/DTD/svg11.dtd\">\n",
       "<!-- Generated by graphviz version 2.50.0 (0)\n",
       " -->\n",
       "<!-- Pages: 1 -->\n",
       "<svg width=\"309pt\" height=\"127pt\"\n",
       " viewBox=\"0.00 0.00 309.30 127.00\" xmlns=\"http://www.w3.org/2000/svg\" xmlns:xlink=\"http://www.w3.org/1999/xlink\">\n",
       "<g id=\"graph0\" class=\"graph\" transform=\"scale(1 1) rotate(0) translate(4 123)\">\n",
       "<polygon fill=\"white\" stroke=\"transparent\" points=\"-4,4 -4,-123 305.3,-123 305.3,4 -4,4\"/>\n",
       "<!-- 22 -->\n",
       "<g id=\"node1\" class=\"node\">\n",
       "<title>22</title>\n",
       "<path fill=\"none\" stroke=\"black\" d=\"M21,-82.5C21,-82.5 51,-82.5 51,-82.5 57,-82.5 63,-88.5 63,-94.5 63,-94.5 63,-106.5 63,-106.5 63,-112.5 57,-118.5 51,-118.5 51,-118.5 21,-118.5 21,-118.5 15,-118.5 9,-112.5 9,-106.5 9,-106.5 9,-94.5 9,-94.5 9,-88.5 15,-82.5 21,-82.5\"/>\n",
       "<text text-anchor=\"middle\" x=\"36\" y=\"-96.8\" font-family=\"Times,serif\" font-size=\"14.00\">k</text>\n",
       "</g>\n",
       "<!-- 20 -->\n",
       "<g id=\"node2\" class=\"node\">\n",
       "<title>20</title>\n",
       "<polygon fill=\"none\" stroke=\"black\" points=\"27,-46 0,-11.5 54,-11.5 27,-46\"/>\n",
       "<text text-anchor=\"middle\" x=\"27\" y=\"-19.3\" font-family=\"Times,serif\" font-size=\"14.00\">l</text>\n",
       "</g>\n",
       "<!-- 22&#45;&gt;20 -->\n",
       "<g id=\"edge1\" class=\"edge\">\n",
       "<title>22&#45;&gt;20</title>\n",
       "<path fill=\"none\" stroke=\"black\" d=\"M33.96,-82.37C32.94,-73.81 31.67,-63.2 30.5,-53.39\"/>\n",
       "<polygon fill=\"black\" stroke=\"black\" points=\"33.95,-52.7 29.29,-43.19 27,-53.53 33.95,-52.7\"/>\n",
       "</g>\n",
       "<!-- 21 -->\n",
       "<g id=\"node3\" class=\"node\">\n",
       "<title>21</title>\n",
       "<polygon fill=\"none\" stroke=\"black\" points=\"99,-46 71.9,-11.5 126.1,-11.5 99,-46\"/>\n",
       "<text text-anchor=\"middle\" x=\"99\" y=\"-19.3\" font-family=\"Times,serif\" font-size=\"14.00\">r</text>\n",
       "</g>\n",
       "<!-- 22&#45;&gt;21 -->\n",
       "<g id=\"edge2\" class=\"edge\">\n",
       "<title>22&#45;&gt;21</title>\n",
       "<path fill=\"none\" stroke=\"black\" d=\"M50.3,-82.37C60.21,-70.49 73.4,-54.68 83.55,-42.52\"/>\n",
       "<polygon fill=\"black\" stroke=\"black\" points=\"86.3,-44.69 90.02,-34.77 80.92,-40.2 86.3,-44.69\"/>\n",
       "</g>\n",
       "<!-- 23 -->\n",
       "<g id=\"node4\" class=\"node\">\n",
       "<title>23</title>\n",
       "<polygon fill=\"none\" stroke=\"black\" stroke-dasharray=\"1,5\" points=\"153,-118.5 99,-118.5 99,-82.5 153,-82.5 153,-118.5\"/>\n",
       "<text text-anchor=\"middle\" x=\"126\" y=\"-96.8\" font-family=\"Times,serif\" font-size=\"14.00\">.ins(k)</text>\n",
       "</g>\n",
       "<!-- 26 -->\n",
       "<g id=\"node5\" class=\"node\">\n",
       "<title>26</title>\n",
       "<path fill=\"none\" stroke=\"black\" d=\"M219,-82.5C219,-82.5 249,-82.5 249,-82.5 255,-82.5 261,-88.5 261,-94.5 261,-94.5 261,-106.5 261,-106.5 261,-112.5 255,-118.5 249,-118.5 249,-118.5 219,-118.5 219,-118.5 213,-118.5 207,-112.5 207,-106.5 207,-106.5 207,-94.5 207,-94.5 207,-88.5 213,-82.5 219,-82.5\"/>\n",
       "<text text-anchor=\"middle\" x=\"234\" y=\"-96.8\" font-family=\"Times,serif\" font-size=\"14.00\">k</text>\n",
       "</g>\n",
       "<!-- 24 -->\n",
       "<g id=\"node6\" class=\"node\">\n",
       "<title>24</title>\n",
       "<polygon fill=\"none\" stroke=\"black\" points=\"202,-46 175,-11.5 229,-11.5 202,-46\"/>\n",
       "<text text-anchor=\"middle\" x=\"202\" y=\"-19.3\" font-family=\"Times,serif\" font-size=\"14.00\">l</text>\n",
       "</g>\n",
       "<!-- 26&#45;&gt;24 -->\n",
       "<g id=\"edge3\" class=\"edge\">\n",
       "<title>26&#45;&gt;24</title>\n",
       "<path fill=\"none\" stroke=\"black\" d=\"M226.74,-82.37C222.4,-72.14 216.83,-58.99 212.08,-47.77\"/>\n",
       "<polygon fill=\"black\" stroke=\"black\" points=\"215.28,-46.36 208.16,-38.52 208.84,-49.1 215.28,-46.36\"/>\n",
       "</g>\n",
       "<!-- 25 -->\n",
       "<g id=\"node7\" class=\"node\">\n",
       "<title>25</title>\n",
       "<polygon fill=\"none\" stroke=\"black\" points=\"274,-46 246.9,-11.5 301.1,-11.5 274,-46\"/>\n",
       "<text text-anchor=\"middle\" x=\"274\" y=\"-19.3\" font-family=\"Times,serif\" font-size=\"14.00\">r</text>\n",
       "</g>\n",
       "<!-- 26&#45;&gt;25 -->\n",
       "<g id=\"edge4\" class=\"edge\">\n",
       "<title>26&#45;&gt;25</title>\n",
       "<path fill=\"none\" stroke=\"black\" d=\"M243.08,-82.37C248.7,-71.76 255.97,-58.03 262.06,-46.54\"/>\n",
       "<polygon fill=\"black\" stroke=\"black\" points=\"265.23,-48.02 266.82,-37.55 259.05,-44.74 265.23,-48.02\"/>\n",
       "</g>\n",
       "</g>\n",
       "</svg>\n"
      ],
      "text/plain": [
       "<graphviz.graphs.Digraph at 0x7fc32753aa40>"
      ]
     },
     "execution_count": 37,
     "metadata": {},
     "output_type": "execute_result"
    }
   ],
   "source": [
    "toDotList([Two(Tree('l'), 'k', Tree('r')), Method('.ins(k)'), Two(Tree('l'), 'k', Tree('r')) ])"
   ]
  },
  {
   "cell_type": "markdown",
   "metadata": {},
   "source": [
    "  - $\\displaystyle\\texttt{Two}(l,k,r).\\texttt{ins}(k) = \\texttt{Two}(l,k,r)$"
   ]
  },
  {
   "cell_type": "code",
   "execution_count": 38,
   "metadata": {},
   "outputs": [
    {
     "data": {
      "image/svg+xml": [
       "<?xml version=\"1.0\" encoding=\"UTF-8\" standalone=\"no\"?>\n",
       "<!DOCTYPE svg PUBLIC \"-//W3C//DTD SVG 1.1//EN\"\n",
       " \"http://www.w3.org/Graphics/SVG/1.1/DTD/svg11.dtd\">\n",
       "<!-- Generated by graphviz version 2.50.0 (0)\n",
       " -->\n",
       "<!-- Pages: 1 -->\n",
       "<svg width=\"300pt\" height=\"85pt\"\n",
       " viewBox=\"0.00 0.00 299.50 84.60\" xmlns=\"http://www.w3.org/2000/svg\" xmlns:xlink=\"http://www.w3.org/1999/xlink\">\n",
       "<g id=\"graph0\" class=\"graph\" transform=\"scale(1 1) rotate(0) translate(4 80.6)\">\n",
       "<polygon fill=\"white\" stroke=\"transparent\" points=\"-4,4 -4,-80.6 295.5,-80.6 295.5,4 -4,4\"/>\n",
       "<!-- 27 -->\n",
       "<g id=\"node1\" class=\"node\">\n",
       "<title>27</title>\n",
       "<polygon fill=\"none\" stroke=\"black\" stroke-dasharray=\"1,5\" points=\"63,-76.1 0,-76.1 0,-40.1 63,-40.1 63,-76.1\"/>\n",
       "<text text-anchor=\"middle\" x=\"31.5\" y=\"-54.4\" font-family=\"Times,serif\" font-size=\"14.00\">k1 &lt; k2:</text>\n",
       "</g>\n",
       "<!-- 30 -->\n",
       "<g id=\"node2\" class=\"node\">\n",
       "<title>30</title>\n",
       "<path fill=\"none\" stroke=\"black\" d=\"M93.5,-40.1C93.5,-40.1 123.5,-40.1 123.5,-40.1 129.5,-40.1 135.5,-46.1 135.5,-52.1 135.5,-52.1 135.5,-64.1 135.5,-64.1 135.5,-70.1 129.5,-76.1 123.5,-76.1 123.5,-76.1 93.5,-76.1 93.5,-76.1 87.5,-76.1 81.5,-70.1 81.5,-64.1 81.5,-64.1 81.5,-52.1 81.5,-52.1 81.5,-46.1 87.5,-40.1 93.5,-40.1\"/>\n",
       "<text text-anchor=\"middle\" x=\"108.5\" y=\"-54.4\" font-family=\"Times,serif\" font-size=\"14.00\">k1</text>\n",
       "</g>\n",
       "<!-- 28 -->\n",
       "<g id=\"node3\" class=\"node\">\n",
       "<title>28</title>\n",
       "<ellipse fill=\"black\" stroke=\"black\" cx=\"97.5\" cy=\"-1.8\" rx=\"1.8\" ry=\"1.8\"/>\n",
       "</g>\n",
       "<!-- 30&#45;&gt;28 -->\n",
       "<g id=\"edge1\" class=\"edge\">\n",
       "<title>30&#45;&gt;28</title>\n",
       "<path fill=\"none\" stroke=\"black\" d=\"M105.02,-39.92C103.28,-31.33 101.23,-21.19 99.7,-13.68\"/>\n",
       "<polygon fill=\"black\" stroke=\"black\" points=\"103.11,-12.85 97.69,-3.74 96.25,-14.24 103.11,-12.85\"/>\n",
       "</g>\n",
       "<!-- 29 -->\n",
       "<g id=\"node4\" class=\"node\">\n",
       "<title>29</title>\n",
       "<ellipse fill=\"black\" stroke=\"black\" cx=\"119.5\" cy=\"-1.8\" rx=\"1.8\" ry=\"1.8\"/>\n",
       "</g>\n",
       "<!-- 30&#45;&gt;29 -->\n",
       "<g id=\"edge2\" class=\"edge\">\n",
       "<title>30&#45;&gt;29</title>\n",
       "<path fill=\"none\" stroke=\"black\" d=\"M111.98,-39.92C113.72,-31.33 115.77,-21.19 117.3,-13.68\"/>\n",
       "<polygon fill=\"black\" stroke=\"black\" points=\"120.75,-14.24 119.31,-3.74 113.89,-12.85 120.75,-14.24\"/>\n",
       "</g>\n",
       "<!-- 31 -->\n",
       "<g id=\"node5\" class=\"node\">\n",
       "<title>31</title>\n",
       "<polygon fill=\"none\" stroke=\"black\" stroke-dasharray=\"1,5\" points=\"213,-76.1 154,-76.1 154,-40.1 213,-40.1 213,-76.1\"/>\n",
       "<text text-anchor=\"middle\" x=\"183.5\" y=\"-54.4\" font-family=\"Times,serif\" font-size=\"14.00\">.ins(k2)</text>\n",
       "</g>\n",
       "<!-- 35 -->\n",
       "<g id=\"node6\" class=\"node\">\n",
       "<title>35</title>\n",
       "<path fill=\"none\" stroke=\"black\" d=\"M243.5,-40.1C243.5,-40.1 279.5,-40.1 279.5,-40.1 285.5,-40.1 291.5,-46.1 291.5,-52.1 291.5,-52.1 291.5,-64.1 291.5,-64.1 291.5,-70.1 285.5,-76.1 279.5,-76.1 279.5,-76.1 243.5,-76.1 243.5,-76.1 237.5,-76.1 231.5,-70.1 231.5,-64.1 231.5,-64.1 231.5,-52.1 231.5,-52.1 231.5,-46.1 237.5,-40.1 243.5,-40.1\"/>\n",
       "<text text-anchor=\"middle\" x=\"246.5\" y=\"-54.4\" font-family=\"Times,serif\" font-size=\"14.00\">k1</text>\n",
       "<polyline fill=\"none\" stroke=\"black\" points=\"261.5,-40.1 261.5,-76.1 \"/>\n",
       "<text text-anchor=\"middle\" x=\"276.5\" y=\"-54.4\" font-family=\"Times,serif\" font-size=\"14.00\">k2</text>\n",
       "</g>\n",
       "<!-- 32 -->\n",
       "<g id=\"node7\" class=\"node\">\n",
       "<title>32</title>\n",
       "<ellipse fill=\"black\" stroke=\"black\" cx=\"239.5\" cy=\"-1.8\" rx=\"1.8\" ry=\"1.8\"/>\n",
       "</g>\n",
       "<!-- 35&#45;&gt;32 -->\n",
       "<g id=\"edge3\" class=\"edge\">\n",
       "<title>35&#45;&gt;32</title>\n",
       "<path fill=\"none\" stroke=\"black\" d=\"M254.54,-39.92C250.97,-31.11 246.74,-20.68 243.68,-13.12\"/>\n",
       "<polygon fill=\"black\" stroke=\"black\" points=\"246.88,-11.7 239.88,-3.74 240.39,-14.32 246.88,-11.7\"/>\n",
       "</g>\n",
       "<!-- 33 -->\n",
       "<g id=\"node8\" class=\"node\">\n",
       "<title>33</title>\n",
       "<ellipse fill=\"black\" stroke=\"black\" cx=\"261.5\" cy=\"-1.8\" rx=\"1.8\" ry=\"1.8\"/>\n",
       "</g>\n",
       "<!-- 35&#45;&gt;33 -->\n",
       "<g id=\"edge4\" class=\"edge\">\n",
       "<title>35&#45;&gt;33</title>\n",
       "<path fill=\"none\" stroke=\"black\" d=\"M261.5,-39.92C261.5,-31.44 261.5,-21.45 261.5,-13.97\"/>\n",
       "<polygon fill=\"black\" stroke=\"black\" points=\"265,-13.74 261.5,-3.74 258,-13.74 265,-13.74\"/>\n",
       "</g>\n",
       "<!-- 34 -->\n",
       "<g id=\"node9\" class=\"node\">\n",
       "<title>34</title>\n",
       "<ellipse fill=\"black\" stroke=\"black\" cx=\"283.5\" cy=\"-1.8\" rx=\"1.8\" ry=\"1.8\"/>\n",
       "</g>\n",
       "<!-- 35&#45;&gt;34 -->\n",
       "<g id=\"edge5\" class=\"edge\">\n",
       "<title>35&#45;&gt;34</title>\n",
       "<path fill=\"none\" stroke=\"black\" d=\"M268.46,-39.92C272.03,-31.11 276.26,-20.68 279.32,-13.12\"/>\n",
       "<polygon fill=\"black\" stroke=\"black\" points=\"282.61,-14.32 283.12,-3.74 276.12,-11.7 282.61,-14.32\"/>\n",
       "</g>\n",
       "</g>\n",
       "</svg>\n"
      ],
      "text/plain": [
       "<graphviz.graphs.Digraph at 0x7fc327557cd0>"
      ]
     },
     "execution_count": 38,
     "metadata": {},
     "output_type": "execute_result"
    }
   ],
   "source": [
    "toDotList([Method('k1 < k2:'), Two(Nil(), 'k1', Nil()), Method('.ins(k2)'), Three(Nil(), 'k1', Nil(), 'k2', Nil()) ])"
   ]
  },
  {
   "cell_type": "markdown",
   "metadata": {},
   "source": [
    "- $k_1 < k_2 \\rightarrow \\texttt{Two}(\\texttt{Nil},k_1,\\texttt{Nil}).\\texttt{ins}(k_2) = \\texttt{Three}(\\texttt{Nil},k_1,\\texttt{Nil},k_2,\\texttt{Nil})$"
   ]
  },
  {
   "cell_type": "code",
   "execution_count": null,
   "metadata": {},
   "outputs": [],
   "source": [
    "toDotList([Method('k2 < k1:'), Two(Nil(), 'k1', Nil()), Method('.ins(k2)'), Three(Nil(), 'k2', Nil(), 'k1', Nil()) ])"
   ]
  },
  {
   "cell_type": "markdown",
   "metadata": {},
   "source": [
    "- $k_2 < k_1 \\rightarrow \\texttt{Two}(\\texttt{Nil},k_1,\\texttt{Nil}).\\texttt{ins}(k_2) = \\texttt{Three}(\\texttt{Nil},k_2,\\texttt{Nil},k_1,\\texttt{Nil})$"
   ]
  },
  {
   "cell_type": "code",
   "execution_count": null,
   "metadata": {},
   "outputs": [],
   "source": [
    "toDotList([Method('k1 < k2:'), Two(Tree('l'), 'k1', Tree('r')), Method('.ins(k2)'), Two(Tree('l'), 'k1', Tree('r.ins(k2)')) ])"
   ]
  },
  {
   "cell_type": "markdown",
   "metadata": {},
   "source": [
    "- $k_1 < k_2 \\wedge l \\not= \\texttt{Nil} \\wedge r \\not= \\texttt{Nil} \\rightarrow \\texttt{Two}(l,k_1,r).\\texttt{ins}(k_2) = \\texttt{Two}(l,k_1,r.\\texttt{ins}(k_2)).\\texttt{restore}()$"
   ]
  },
  {
   "cell_type": "code",
   "execution_count": null,
   "metadata": {},
   "outputs": [],
   "source": [
    "toDotList([Method('k2 < k1:'), Two(Tree('l'), 'k1', Tree('r')), Method('.ins(k2)'), Two(Tree('l.ins(k2)'), 'k1', Tree('r')) ])"
   ]
  },
  {
   "cell_type": "markdown",
   "metadata": {},
   "source": [
    "- $k_2 < k_1 \\wedge l \\not= \\texttt{Nil} \\wedge r \\not= \\texttt{Nil} \\rightarrow \\texttt{Two}(l,k_1,r).\\texttt{ins}(k_2) = \\texttt{Two}(l.\\texttt{ins}(k_2),k_1,r).\\texttt{restore}()$"
   ]
  },
  {
   "cell_type": "markdown",
   "metadata": {},
   "source": [
    "I have collected all of these equations below:\n",
    "  - $\\texttt{Two}(l,k,r).\\texttt{ins}(k) = \\texttt{Two}(l,k,r)$\n",
    "  - $k_1 < k_2 \\rightarrow \\texttt{Two}(\\texttt{Nil},k_1,\\texttt{Nil}).\\texttt{ins}(k_2) = \\texttt{Three}(\\texttt{Nil},k_1,\\texttt{Nil},k_2,\\texttt{Nil})$\n",
    "  - $k_2 < k_1 \\rightarrow \\texttt{Two}(\\texttt{Nil},k_1,\\texttt{Nil}).\\texttt{ins}(k_2) = \\texttt{Three}(\\texttt{Nil},k_2,\\texttt{Nil},k_1,\\texttt{Nil})$\n",
    "  - $k_1 < k_2 \\wedge l \\not= \\texttt{Nil} \\wedge r \\not= \\texttt{Nil} \\rightarrow \\texttt{Two}(l,k_1,r).\\texttt{ins}(k_2) = \\texttt{Two}(l,k_1,r.\\texttt{ins}(k_2)).\\texttt{restore}()$\n",
    "  - $k_2 < k_1 \\wedge l \\not= \\texttt{Nil} \\wedge r \\not= \\texttt{Nil} \\rightarrow \\texttt{Two}(l,k_1,r).\\texttt{ins}(k_2) = \\texttt{Two}(l.\\texttt{ins}(k_2),k_1,r).\\texttt{restore}()$\n",
    "  \n",
    "Using these equations, the implementation of `ins` is straightforward."
   ]
  },
  {
   "cell_type": "code",
   "execution_count": null,
   "metadata": {},
   "outputs": [],
   "source": [
    "def _ins(self, key):\n",
    "    \"your code here\"\n",
    "    assert False, f'Unbalanced node {self}'\n",
    "    \n",
    "Two._ins = _ins"
   ]
  },
  {
   "cell_type": "markdown",
   "metadata": {},
   "source": [
    "The function call $t.\\texttt{restore}()$ takes a 2-3-4 tree $t$ that has at most one 4-node. This 4-node has to be a child\n",
    "of the root.  It returns a 2-3-4 tree that has at most one 4-node.  This 4-node has to be the root node.\n",
    "Graphically, it is specified as shown below."
   ]
  },
  {
   "cell_type": "code",
   "execution_count": null,
   "metadata": {},
   "outputs": [],
   "source": [
    "toDotList([Two(Four(Tree('l1'),'kl',Tree('ml'),'km', Tree('mr'),'kr',Tree('r1')), 'k', Tree('r')), \n",
    "           Method('.restore()'), \n",
    "           Three(Two(Tree('l1'),'kl',Tree('ml')), 'km', Two(Tree('mr'),'kr',Tree('r1')), 'k', Tree('r'))])"
   ]
  },
  {
   "cell_type": "markdown",
   "metadata": {},
   "source": [
    " - $\\texttt{Two}\\bigl(\\texttt{Four}(l_1,k_l,m_l,k_m,m_r,k_r,r_1), k, r\\bigr).\\texttt{restore}() = \n",
    "     \\texttt{Three}\\bigl(\\texttt{Two}(l_1, k_l, m_l), k_m, \\texttt{Two}(m_r, k_r, r_1), k, r\\bigr) $"
   ]
  },
  {
   "cell_type": "code",
   "execution_count": null,
   "metadata": {},
   "outputs": [],
   "source": [
    "toDotList([Two(Tree('l'), 'k', Four(Tree('l1'),'kl',Tree('ml'),'km', Tree('mr'),'kr',Tree('r1'))), \n",
    "           Method('.restore()'), \n",
    "           Three(Tree('l'), 'k', Two(Tree('l1'),'kl',Tree('ml')), 'km', Two(Tree('mr'),'kr',Tree('r1')))])"
   ]
  },
  {
   "cell_type": "markdown",
   "metadata": {},
   "source": [
    "  - $\\texttt{Two}\\bigl(l, k, \\texttt{Four}(l_1,k_l,m_l,k_m,m_r,k_r,r_1)\\bigr).\\texttt{restore}() = \n",
    "     \\texttt{Three}\\bigl(l, k, \\texttt{Two}(l_1, k_l, m_l), k_m, \\texttt{Two}(m_r, k_r, r_1)\\bigr) $"
   ]
  },
  {
   "cell_type": "markdown",
   "metadata": {},
   "source": [
    "I have collected both equations below:\n",
    "  - $\\texttt{Two}\\bigl(\\texttt{Four}(l_1,k_l,m_l,k_m,m_r,k_r,r_1), k, r\\bigr).\\texttt{restore}() = \n",
    "     \\texttt{Three}\\bigl(\\texttt{Two}(l_1, k_l, m_l), k_m, \\texttt{Two}(m_r, k_r, r_1), k, r\\bigr) $,\n",
    "  - $\\texttt{Two}\\bigl(l, k, \\texttt{Four}(l_1,k_l,m_l,k_m,m_r,k_r,r_1)\\bigr).\\texttt{restore}() = \n",
    "     \\texttt{Three}\\bigl(l, k, \\texttt{Two}(l_1, k_l, m_l), k_m, \\texttt{Two}(m_r, k_r, r_1)\\bigr) $\n",
    "\n",
    "If neither the left nor the right child node of a 2-node is a 4-node, the node is returned unchanged.  "
   ]
  },
  {
   "cell_type": "code",
   "execution_count": null,
   "metadata": {},
   "outputs": [],
   "source": [
    "def _restore(self):\n",
    "    \"your code here\"\n",
    "    return self\n",
    "\n",
    "Two._restore = _restore"
   ]
  },
  {
   "cell_type": "markdown",
   "metadata": {},
   "source": [
    "## Methods of the Class `Three`"
   ]
  },
  {
   "cell_type": "markdown",
   "metadata": {},
   "source": [
    "The method `extract` returns the member variables stored in a 3-node."
   ]
  },
  {
   "cell_type": "code",
   "execution_count": null,
   "metadata": {},
   "outputs": [],
   "source": [
    "def _extract(self):\n",
    "    return self.mLeft, self.mKeyL, self.mMiddle, self.mKeyR, self.mRight\n",
    "\n",
    "Three._extract = _extract"
   ]
  },
  {
   "cell_type": "markdown",
   "metadata": {},
   "source": [
    "Given a 3-node $t$ and a key $k$, the method $t.\\texttt{member}(k)$ checks whether the key $k$ occurs in $t$.  It is specified as follows:\n",
    "  - $k = k_l \\vee k = k_r \\rightarrow \\texttt{Three}(l,k_l,m,k_r,r).\\texttt{member}(k) = \\texttt{True}$,\n",
    "  - $k < k_l \\rightarrow \\texttt{Three}(l,k_l,m,k_r,r).\\texttt{member}(k) = l.\\texttt{member}(k)$,\n",
    "  - $k_l < k < k_r \\rightarrow \\texttt{Three}(l,k_l,m,k_r,r).\\texttt{member}(k) = m.\\texttt{member}(k)$,\n",
    "  - $k_r < k \\rightarrow \\texttt{Three}(l,k_l,m,k_r,r).\\texttt{member}(k) = r.\\texttt{member}(k)$."
   ]
  },
  {
   "cell_type": "code",
   "execution_count": null,
   "metadata": {},
   "outputs": [],
   "source": [
    "def member(self, key):\n",
    "    l, kL, m, kR, r = self._extract()\n",
    "    if key == kL or key == kR:\n",
    "        return True\n",
    "    if key < kL:\n",
    "        return l.member(key)\n",
    "    if kL < key < kR:\n",
    "        return m.member(key)\n",
    "    if kR < key:\n",
    "        return self.mRight.member(key)\n",
    "    \n",
    "Three.member = member"
   ]
  },
  {
   "cell_type": "markdown",
   "metadata": {},
   "source": [
    "The method $t.\\texttt{ins}(k)$ takes a 2-3 tree $t$ and and a key $k$ and inserts the key $k$ into $t$.\n",
    "It returns a 2-3-4 tree that has at most one 4-node, which has to be the root\n",
    "node.  The function $\\texttt{ins}$ is recursive and uses the function $\\texttt{restore}$ defined below. \n",
    "It is defined as follows:\n",
    "  - $k = k_l \\vee k = k_r \\rightarrow\\texttt{Three}(l,k_l,m,k_r,r).\\texttt{ins}(k) = \\texttt{Three}(l,k_l,m,k_r,r)$\n",
    "  - $k < k_l \\rightarrow \\texttt{Three}(\\texttt{Nil},k_l,\\texttt{Nil},k_r,\\texttt{Nil}).\\texttt{ins}(k) = \n",
    "                         \\texttt{Four}(\\texttt{Nil},k,\\texttt{Nil},k_l,\\texttt{Nil},k_r,\\texttt{Nil})$\n",
    "  - $k_l < k < k_r \\rightarrow \\texttt{Three}(\\texttt{Nil},k_l,\\texttt{Nil},k_r,\\texttt{Nil}).\\texttt{ins}(k) = \n",
    "                         \\texttt{Four}(\\texttt{Nil},k_l,\\texttt{Nil},k,\\texttt{Nil},k_r,\\texttt{Nil})$\n",
    "  - $k_r < k \\rightarrow \\texttt{Three}(\\texttt{Nil},k_l,\\texttt{Nil},k_r,\\texttt{Nil}).\\texttt{ins}(k) = \n",
    "                         \\texttt{Four}(\\texttt{Nil},k_l,\\texttt{Nil},k_r,\\texttt{Nil},k,\\texttt{Nil})$\n",
    "  \n",
    "  - $k < k_l \\wedge l \\not= \\texttt{Nil} \\wedge m \\not= \\texttt{Nil}\\wedge r \\not= \\texttt{Nil} \\rightarrow \n",
    "     \\texttt{Three}(l,k_l,m,k_r,r).\\texttt{ins}(k) = \\texttt{Three}\\bigl(l.\\texttt{ins}(k),k_l,m,k_r,r\\bigr).\\texttt{restore}()$\n",
    "  - $k_l < k < k_r \\wedge l \\not= \\texttt{Nil} \\wedge m \\not= \\texttt{Nil}\\wedge r \\not= \\texttt{Nil} \\rightarrow \n",
    "     \\texttt{Three}(l,k_l,m,k_r,r).\\texttt{ins}(k) = \\texttt{Three}\\bigl(l,k_l,m.\\texttt{ins}(k),k_r,r\\bigr).\\texttt{restore}()$\n",
    "  - $k_r < k \\wedge l \\not= \\texttt{Nil} \\wedge m \\not= \\texttt{Nil}\\wedge r \\not= \\texttt{Nil} \\rightarrow \n",
    "     \\texttt{Three}(l,k_l,m,k_r,r).\\texttt{ins}(k) = \\texttt{Three}\\bigl(l,k_l,m,k_r,r.\\texttt{ins}(k)\\bigr).\\texttt{restore}()$"
   ]
  },
  {
   "cell_type": "code",
   "execution_count": null,
   "metadata": {},
   "outputs": [],
   "source": [
    "def _ins(self, key):\n",
    "    \"your code here\"\n",
    "    assert False, f'Unbalanced node {self}'\n",
    "    \n",
    "Three._ins = _ins"
   ]
  },
  {
   "cell_type": "markdown",
   "metadata": {},
   "source": [
    "The function call $t.\\texttt{restore}()$ takes a 2-3-4 tree $t$ that has at most one 4-node. This 4-node has to be a child\n",
    "of the root.  It returns a 2-3-4 tree that has at most one 4-node.  This 4-node has to be the root node.\n",
    "\n",
    "The most important invariant satisfied by the method call $t.\\texttt{ins}(k)$ is the fact that the tree\n",
    "$t.\\texttt{ins}(k)$ has the same height as the tree $t$.\n",
    "\n",
    "The different cases that need to be handled by `ins` are shown graphically below:"
   ]
  },
  {
   "cell_type": "code",
   "execution_count": null,
   "metadata": {
    "scrolled": true
   },
   "outputs": [],
   "source": [
    "toDotList([Three(Four(Tree('l1'), 'k1', Tree('ml'), 'k2', Tree('mr'), 'k3', Tree('r1')), 'kl', Tree('m'), 'kr', Tree('r')),\n",
    "           Method('.restore()'),\n",
    "           Four(Two(Tree('l1'), 'k1', Tree('ml')), 'k2', Two(Tree('mr'), 'k3', Tree('r1')), 'kl', Tree('m'), 'kr', Tree('r')),\n",
    "          ])"
   ]
  },
  {
   "cell_type": "markdown",
   "metadata": {},
   "source": [
    "  - $\\texttt{Three}\\bigl(\\texttt{Four}(l_1,k_1,m_l,k_2,m_r,k_3,r_1), k_l, m, k_r, r\\bigr).\\texttt{restore}() = \n",
    "     \\texttt{Four}\\bigl(\\texttt{Two}(l_1, k_1, m_l), k_2, \\texttt{Two}(m_r, k_3, r_1), k_l, m, k_r, r\\bigr) $"
   ]
  },
  {
   "cell_type": "code",
   "execution_count": null,
   "metadata": {},
   "outputs": [],
   "source": [
    "toDotList([Three(Tree('l'), 'kL', Four(Tree('l1'), 'k1', Tree('ml'), 'k2', Tree('mr'), 'k3', Tree('r1')), 'kR', Tree('r')),\n",
    "           Method('.restore()'),\n",
    "           Four(Tree('l'), 'kL', Two(Tree('l1'), 'k1', Tree('ml')), 'k2', Two(Tree('mr'), 'k3', Tree('r1')), 'kR', Tree('r'))\n",
    "          ])"
   ]
  },
  {
   "cell_type": "markdown",
   "metadata": {},
   "source": [
    "  - $\\texttt{Three}\\bigl(l, k_l, \\texttt{Four}(l_1,k_1,m_l,k_2,m_r,k_3,r_1), k_r, r\\bigr).\\texttt{restore}() = \n",
    "     \\texttt{Four}\\bigl(l, k_l, \\texttt{Two}(l_1, k_1, m_l), k_2, \\texttt{Two}(m_r, k_3, r_1), k_r, r\\bigr) $"
   ]
  },
  {
   "cell_type": "code",
   "execution_count": null,
   "metadata": {},
   "outputs": [],
   "source": [
    "toDotList([Three(Tree('l'), 'kl', Tree('m'), 'kr', Four(Tree('l1'), 'k1', Tree('ml'), 'k2', Tree('mr'), 'k3', Tree('r1'))),\n",
    "           Method('.restore()'),\n",
    "           Four(Tree('l'), 'kl', Tree('m'), 'kr', Two(Tree('l1'), 'k1', Tree('ml')), 'k2', Two(Tree('mr'), 'k3', Tree('r1')))\n",
    "          ])"
   ]
  },
  {
   "cell_type": "markdown",
   "metadata": {},
   "source": [
    "  - $\\texttt{Three}\\bigl(l, k_l, m, k_r, \\texttt{Four}(l_1,k_1,m_l,k_2,m_r,k_3,r_1)\\bigr).\\texttt{restore}() = \n",
    "     \\texttt{Four}\\bigl(l, k_l, m, k_r, \\texttt{Two}(l_1, k_1, m_l), k_2, \\texttt{Two}(m_r, k_3, r_1)\\bigr) $"
   ]
  },
  {
   "cell_type": "markdown",
   "metadata": {},
   "source": [
    "Below I have collected all the equations specifying the implementation of `restore` for 3-nodes.\n",
    "  - $\\texttt{Three}\\bigl(\\texttt{Four}(l_1,k_1,m_l,k_2,m_r,k_3,r_1), k_l, m, k_r, r\\bigr).\\texttt{restore}() = \n",
    "     \\texttt{Four}\\bigl(\\texttt{Two}(l_1, k_1, m_l), k_2, \\texttt{Two}(m_r, k_3, r_1), k_l, m, k_r, r\\bigr) $\n",
    "  - $\\texttt{Three}\\bigl(l, k_l, \\texttt{Four}(l_1,k_1,m_l,k_2,m_r,k_3,r_1), k_r, r\\bigr).\\texttt{restore}() = \n",
    "     \\texttt{Four}\\bigl(l, k_l, \\texttt{Two}(l_1, k_1, m_l), k_2, \\texttt{Two}(m_r, k_3, r_1), k_r, r\\bigr) $\n",
    "  - $\\texttt{Three}\\bigl(l, k_l, m, k_r, \\texttt{Four}(l_1,k_1,m_l,k_2,m_r,k_3,r_1)\\bigr).\\texttt{restore}() = \n",
    "     \\texttt{Four}\\bigl(l, k_l, m, k_r, \\texttt{Two}(l_1, k_1, m_l), k_2, \\texttt{Two}(m_r, k_3, r_1)\\bigr) $\n",
    "     \n",
    "If neither of the child nodes of a 3-node is a 4-node, the node is returned unchanged."
   ]
  },
  {
   "cell_type": "code",
   "execution_count": null,
   "metadata": {},
   "outputs": [],
   "source": [
    "def _restore(self):\n",
    "    \"your code here\"\n",
    "    return self\n",
    "\n",
    "Three._restore = _restore"
   ]
  },
  {
   "cell_type": "markdown",
   "metadata": {},
   "source": [
    "## Methods of the Class `Four`"
   ]
  },
  {
   "cell_type": "markdown",
   "metadata": {},
   "source": [
    "The method extract returns the member variables stored in a 4-node."
   ]
  },
  {
   "cell_type": "code",
   "execution_count": null,
   "metadata": {},
   "outputs": [],
   "source": [
    "def _extract(self):\n",
    "    return self.mLeft, self.mKeyL, self.mMiddleL, self.mKeyM, self.mMiddleR, self.mKeyR, self.mRight \n",
    "\n",
    "Four._extract = _extract"
   ]
  },
  {
   "cell_type": "markdown",
   "metadata": {},
   "source": [
    "The method `restore` returns a 4-node unchanged."
   ]
  },
  {
   "cell_type": "code",
   "execution_count": null,
   "metadata": {},
   "outputs": [],
   "source": [
    "def _restore(self):\n",
    "    return self\n",
    "\n",
    "Four._restore = _restore"
   ]
  },
  {
   "cell_type": "markdown",
   "metadata": {},
   "source": [
    "The function `grow` turns a 4-node into 3 2-nodes.  Graphically, it is specified as follows:"
   ]
  },
  {
   "cell_type": "code",
   "execution_count": null,
   "metadata": {},
   "outputs": [],
   "source": [
    "toDotList([Four(Tree('l'),'kl', Tree('ml'), 'km', Tree('mr'), 'kr', Tree('r')),\n",
    "           Method('.grow()'),\n",
    "           Two(Two(Tree('l'),'kl', Tree('ml')), 'km', Two(Tree('mr'), 'kr', Tree('r')))\n",
    "          ])"
   ]
  },
  {
   "cell_type": "markdown",
   "metadata": {},
   "source": [
    "  - $\\texttt{Four}(l, k_l, m_l, k_m, m_r, k_r, r).\\texttt{grow}() =  \n",
    "     \\texttt{Two}\\bigl(\\texttt{Two}(l, k_l, m_l), k_m, \\texttt{Two}(m_r, k_r, r)\\bigr)$"
   ]
  },
  {
   "cell_type": "code",
   "execution_count": null,
   "metadata": {},
   "outputs": [],
   "source": [
    "def _grow(self):\n",
    "    \"your code here\"\n",
    "    \n",
    "Four._grow = _grow"
   ]
  },
  {
   "cell_type": "markdown",
   "metadata": {},
   "source": [
    "## Testing"
   ]
  },
  {
   "cell_type": "code",
   "execution_count": null,
   "metadata": {},
   "outputs": [],
   "source": [
    "m = Nil()\n",
    "m.isNil()\n",
    "m.toDot()"
   ]
  },
  {
   "cell_type": "code",
   "execution_count": null,
   "metadata": {},
   "outputs": [],
   "source": [
    "m = m.insert(\"anton\")\n",
    "m.toDot()"
   ]
  },
  {
   "cell_type": "code",
   "execution_count": null,
   "metadata": {},
   "outputs": [],
   "source": [
    "m = m.insert(\"hugo\" )\n",
    "m.toDot()"
   ]
  },
  {
   "cell_type": "code",
   "execution_count": null,
   "metadata": {},
   "outputs": [],
   "source": [
    "m = m.insert(\"gustav\")\n",
    "m.toDot()"
   ]
  },
  {
   "cell_type": "code",
   "execution_count": null,
   "metadata": {},
   "outputs": [],
   "source": [
    "m = m.insert(\"jens\")\n",
    "m.toDot()"
   ]
  },
  {
   "cell_type": "code",
   "execution_count": null,
   "metadata": {},
   "outputs": [],
   "source": [
    "m = m.insert(\"hubert\")\n",
    "m.toDot()"
   ]
  },
  {
   "cell_type": "code",
   "execution_count": null,
   "metadata": {},
   "outputs": [],
   "source": [
    "m = m.insert(\"andre\")\n",
    "m.toDot()"
   ]
  },
  {
   "cell_type": "code",
   "execution_count": null,
   "metadata": {},
   "outputs": [],
   "source": [
    "m = m.insert(\"philipp\")\n",
    "m.toDot()"
   ]
  },
  {
   "cell_type": "code",
   "execution_count": null,
   "metadata": {},
   "outputs": [],
   "source": [
    "m = m.insert(\"rene\")\n",
    "m.toDot()"
   ]
  },
  {
   "cell_type": "code",
   "execution_count": null,
   "metadata": {},
   "outputs": [],
   "source": [
    "m = m.insert(\"walter\")\n",
    "m.toDot()"
   ]
  },
  {
   "cell_type": "markdown",
   "metadata": {},
   "source": [
    "Let's generate 2-3 tree with random keys."
   ]
  },
  {
   "cell_type": "code",
   "execution_count": null,
   "metadata": {},
   "outputs": [],
   "source": [
    "import random as rnd"
   ]
  },
  {
   "cell_type": "code",
   "execution_count": null,
   "metadata": {},
   "outputs": [],
   "source": [
    "t = Nil()\n",
    "for k in range(30):\n",
    "    k = rnd.randrange(100)\n",
    "    t = t.insert(k)\n",
    "t.toDot()"
   ]
  },
  {
   "cell_type": "markdown",
   "metadata": {},
   "source": [
    "Lets us try to create a tree by inserting sorted numbers because that resulted in linear complexity for ordered binary trees."
   ]
  },
  {
   "cell_type": "code",
   "execution_count": null,
   "metadata": {
    "scrolled": false
   },
   "outputs": [],
   "source": [
    "M = Nil()\n",
    "for k in range(30):\n",
    "    M = M.insert(k)\n",
    "M.toDot()"
   ]
  },
  {
   "cell_type": "markdown",
   "metadata": {},
   "source": [
    "Finally, we compute the set of prime numbers $\\leq 100$.  Mathematically, this set is given as follows:\n",
    "$$ \\bigl\\{2, \\cdots, 100 \\bigr\\} - \\bigl\\{ i \\cdot j \\bigm| i, j \\in \\{2, \\cdots, 100 \\}\\bigr\\}$$\n",
    "First, we compute the set of products $\\bigl\\{ i \\cdot j \\bigm| i, j \\in \\{2, \\cdots, 100 \\}\\bigr\\}$.\n",
    "Then, we insert all naturals numbers less than 100 that are not products into the set of primes."
   ]
  },
  {
   "cell_type": "code",
   "execution_count": null,
   "metadata": {},
   "outputs": [],
   "source": [
    "Products = Nil()    \n",
    "for i in range(2, 101):\n",
    "    for j in range(2, 101):\n",
    "        Products = Products.insert(i * j)\n",
    "        \n",
    "Primes = Nil()\n",
    "for k in range(2, 101):\n",
    "    if not Products.member(k):\n",
    "        Primes = Primes.insert(k)\n",
    "Primes.toDot()"
   ]
  },
  {
   "cell_type": "code",
   "execution_count": null,
   "metadata": {},
   "outputs": [],
   "source": []
  }
 ],
 "metadata": {
  "kernelspec": {
   "display_name": "Python 3 (ipykernel)",
   "language": "python",
   "name": "python3"
  },
  "language_info": {
   "codemirror_mode": {
    "name": "ipython",
    "version": 3
   },
   "file_extension": ".py",
   "mimetype": "text/x-python",
   "name": "python",
   "nbconvert_exporter": "python",
   "pygments_lexer": "ipython3",
   "version": "3.10.4"
  },
  "varInspector": {
   "cols": {
    "lenName": 16,
    "lenType": 16,
    "lenVar": 40
   },
   "kernels_config": {
    "python": {
     "delete_cmd_postfix": "",
     "delete_cmd_prefix": "del ",
     "library": "var_list.py",
     "varRefreshCmd": "print(var_dic_list())"
    },
    "r": {
     "delete_cmd_postfix": ") ",
     "delete_cmd_prefix": "rm(",
     "library": "var_list.r",
     "varRefreshCmd": "cat(var_dic_list()) "
    }
   },
   "types_to_exclude": [
    "module",
    "function",
    "builtin_function_or_method",
    "instance",
    "_Feature"
   ],
   "window_display": false
  }
 },
 "nbformat": 4,
 "nbformat_minor": 2
}
