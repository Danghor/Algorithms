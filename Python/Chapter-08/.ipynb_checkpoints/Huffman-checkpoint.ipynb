{
 "cells": [
  {
   "cell_type": "code",
   "execution_count": 1,
   "metadata": {
    "scrolled": false
   },
   "outputs": [
    {
     "data": {
      "text/html": [
       "<link href='http://fonts.googleapis.com/css?family=Alegreya+Sans:100,300,400,500,700,800,900,100italic,300italic,400italic,500italic,700italic,800italic,900italic' rel='stylesheet' type='text/css'>\n",
       "<link href='http://fonts.googleapis.com/css?family=Arvo:400,700,400italic' rel='stylesheet' type='text/css'>\n",
       "<link href='http://fonts.googleapis.com/css?family=PT+Mono' rel='stylesheet' type='text/css'>\n",
       "<link href='http://fonts.googleapis.com/css?family=Shadows+Into+Light' rel='stylesheet' type='text/css'>\n",
       "<link href='http://fonts.googleapis.com/css?family=Philosopher:400,700,400italic,700italic' rel='stylesheet' type='text/css'>\n",
       "\n",
       "<style>\n",
       "\n",
       "@font-face {\n",
       "    font-family: \"Computer Modern\";\n",
       "    src: url('http://mirrors.ctan.org/fonts/cm-unicode/fonts/otf/cmunss.otf');\n",
       "}\n",
       "\n",
       ".container { width: 100% }\n",
       "\n",
       "/* Formatting for header cells */\n",
       ".text_cell_render h1 {\n",
       "    font-family: 'Philosopher', sans-serif;\n",
       "    font-weight: 400;\n",
       "    font-size: 2.2em;\n",
       "    line-height: 100%;\n",
       "    color: rgb(0, 80, 120);\n",
       "    margin-bottom: 0.1em;\n",
       "    margin-top: 0.1em;\n",
       "    display: block;\n",
       "}\t\n",
       ".text_cell_render h2 {\n",
       "    font-family: 'Philosopher', serif;\n",
       "    font-weight: 400;\n",
       "    font-size: 1.9em;\n",
       "    line-height: 100%;\n",
       "    color: rgb(200,100,0);\n",
       "    margin-bottom: 0.1em;\n",
       "    margin-top: 0.1em;\n",
       "    display: block;\n",
       "}\t\n",
       "\n",
       ".text_cell_render h3 {\n",
       "    font-family: 'Philosopher', serif;\n",
       "    margin-top:12px;\n",
       "    margin-bottom: 3px;\n",
       "    font-style: italic;\n",
       "    color: rgb(94,127,192);\n",
       "}\n",
       "\n",
       ".text_cell_render h4 {\n",
       "    font-family: 'Philosopher', serif;\n",
       "}\n",
       "\n",
       ".text_cell_render h5 {\n",
       "    font-family: 'Alegreya Sans', sans-serif;\n",
       "    font-weight: 300;\n",
       "    font-size: 16pt;\n",
       "    color: grey;\n",
       "    font-style: italic;\n",
       "    margin-bottom: .1em;\n",
       "    margin-top: 0.1em;\n",
       "    display: block;\n",
       "}\n",
       "\n",
       ".text_cell_render h6 {\n",
       "    font-family: 'PT Mono', sans-serif;\n",
       "    font-weight: 300;\n",
       "    font-size: 10pt;\n",
       "    color: grey;\n",
       "    margin-bottom: 1px;\n",
       "    margin-top: 1px;\n",
       "}\n",
       "\n",
       ".text_cell_render em {\n",
       "    font-family: 'Philosopher', sans-serif;\n",
       "    color:        blue;\n",
       "    background-color: rgb(255,220,180);\n",
       "    font-size:    110%;\n",
       "    margin-left:   2px;\n",
       "    margin-right:  2px;\n",
       "    font-weight:   100;\n",
       "}\n",
       "\n",
       ".text_cell_render b {\n",
       "    color:            rgb(255,195,195);\n",
       "    background-color: rgb(0,0,0);\n",
       "    font-size:    110%;\n",
       "    margin-left:   2px;\n",
       "    margin-right:  2px;\n",
       "    font-weight:   650;\n",
       "}\n",
       "\n",
       ".text_cell_render tt {\n",
       "    font-size:    120%;\n",
       "    margin-left:   2px;\n",
       "    margin-right:  2px;\n",
       "    font-weight:   150;\n",
       "}\n",
       "\n",
       ".Codemirror {\n",
       "    font-family: \"PT Mono\";\n",
       "    font-size: 100%;\n",
       "}\n",
       "\n",
       "</style>\n",
       "\n"
      ],
      "text/plain": [
       "<IPython.core.display.HTML object>"
      ]
     },
     "execution_count": 1,
     "metadata": {},
     "output_type": "execute_result"
    }
   ],
   "source": [
    "from IPython.core.display import HTML\n",
    "with open('../style.css') as file:\n",
    "    css = file.read()\n",
    "HTML(css)"
   ]
  },
  {
   "cell_type": "markdown",
   "metadata": {},
   "source": [
    "# Huffman's Algorithm for Lossless Data Compression"
   ]
  },
  {
   "cell_type": "code",
   "execution_count": 2,
   "metadata": {
    "scrolled": false
   },
   "outputs": [],
   "source": [
    "import graphviz as gv"
   ]
  },
  {
   "cell_type": "markdown",
   "metadata": {},
   "source": [
    "This notebook presents <em style=\"color:blue;\">coding trees</em>.  Given an alphabet $\\Sigma$ of characters, \n",
    "we define the set $\\mathcal{K}$ of coding trees by induction:\n",
    "\n",
    "  - $\\texttt{Leaf}(c,f) \\in \\mathcal{K} $ if $c \\in \\Sigma$ and $f \\in \\mathbb{N}$\n",
    "\n",
    "    An expression of the form $\\texttt{Leaf}(c,f)$ represent a *leaf* in a coding tree.  Here  $c$ is a letter\n",
    "    from the alphabet $\\Sigma$ and $f$ is the number of times that the letter $c$ occurs in the string $s$\n",
    "    that is to be encoded.\n",
    "\n",
    "  - $\\texttt{Node}(l,r) \\in \\mathcal{K}$ if $l \\in\\mathcal{K}$ and $r \\in \\mathcal{K}$\n",
    "\n",
    "    The expressions $\\texttt{Node}(l,r)$ represent the *inner nodes* of the coding-tree."
   ]
  },
  {
   "cell_type": "markdown",
   "metadata": {},
   "source": [
    "The class `CodingTree` is a *superclass* for constructing coding trees.  It has one static variable `sNodeCount`.  This variable is used to equip all nodes with a unique identifier.  This identifier is used to draw the trees using [graphviz](https://graphviz.org/).\n",
    "\n",
    "Every object of class `CodingTree` has a uniques identifier `mID` that is stored as a member variable.  This identifier is only used by `graphviz`."
   ]
  },
  {
   "cell_type": "code",
   "execution_count": 3,
   "metadata": {
    "scrolled": false
   },
   "outputs": [],
   "source": [
    "class CodingTree:\n",
    "    sNodeCount = 0\n",
    "    \n",
    "    def __init__(self):\n",
    "        CodingTree.sNodeCount += 1\n",
    "        self.mID = CodingTree.sNodeCount\n",
    "        \n",
    "    def count(self):\n",
    "        \"compute the number of characters\"\n",
    "        pass\n",
    "        \n",
    "    def cost(self):\n",
    "        \"compute the number of bits used by this coding tree\"\n",
    "        pass\n",
    "        \n",
    "    def getID(self):\n",
    "        return self.mID  # used only by graphviz"
   ]
  },
  {
   "cell_type": "markdown",
   "metadata": {},
   "source": [
    "The function `make_string` is a helper function that is used to simplify the implementation of `__str__`.\n",
    "  - `self` is the object that is to be rendered as a string\n",
    "  - `attributes` is a list of those member variables that are used to produce the string"
   ]
  },
  {
   "cell_type": "code",
   "execution_count": 4,
   "metadata": {
    "scrolled": false
   },
   "outputs": [],
   "source": [
    "def _make_string(self, Attributes):\n",
    "        # map the function __str__ to all attributes and join them with a comma\n",
    "        name = self.__class__.__name__\n",
    "        return f\"{name}({', '.join(map(str, [getattr(self, at) for at in Attributes]))})\"\n",
    "    \n",
    "CodingTree._make_string = _make_string"
   ]
  },
  {
   "cell_type": "markdown",
   "metadata": {},
   "source": [
    "The method $t.\\texttt{toDot}()$ takes a binary trie $t$ and returns a graph that depicts the tree $t$."
   ]
  },
  {
   "cell_type": "code",
   "execution_count": 5,
   "metadata": {
    "scrolled": false
   },
   "outputs": [],
   "source": [
    "def toDot(self):\n",
    "    dot = gv.Digraph(node_attr={'shape': 'record', 'style': 'rounded'})\n",
    "    nodeDict = {}\n",
    "    self._collectIDs(nodeDict)\n",
    "    for n, t in nodeDict.items():\n",
    "        if isinstance(t, Leaf):\n",
    "            if t.mCharacter == ' ':\n",
    "                dot.node(str(n), label='{ \\' \\' |' + \"{:,}\".format(t.mFrequency) + '}') \n",
    "            elif t.mCharacter == '\\t':\n",
    "                dot.node(str(n), label='{ \\'\\t\\' |' + \"{:,}\".format(t.mFrequency) + '}') \n",
    "            elif t.mCharacter == '\\n':\n",
    "                dot.node(str(n), label='{ \\'\\n\\' |' + \"{:,}\".format(t.mFrequency) + '}')     \n",
    "            elif t.mCharacter == '\\v':\n",
    "            else:\n",
    "                dot.node(str(n), label='{' + str(t.mCharacter) + '|' + \"{:,}\".format(t.mFrequency) + '}') \n",
    "        elif isinstance(t, Node):\n",
    "            dot.node(str(n), label=\"{:,}\".format(t.count()))\n",
    "        else:\n",
    "            assert False, f'Unknown node {t}'\n",
    "    for n, t in nodeDict.items():\n",
    "        if isinstance(t, Node):\n",
    "            dot.edge(str(n), str(t.mLeft .getID()), label='0')\n",
    "            dot.edge(str(n), str(t.mRight.getID()), label='1')\n",
    "    return dot\n",
    "\n",
    "CodingTree.toDot = toDot"
   ]
  },
  {
   "cell_type": "markdown",
   "metadata": {},
   "source": [
    "The method $t.\\texttt{collectIDs}(d)$ takes a coding tree $t$ and a dictionary $d$ and updates the dictionary so that the following holds:\n",
    "$$ d[\\texttt{id}] = n \\quad \\mbox{for every node $n$ in $t$.} $$\n",
    "Here, $\\texttt{id}$ is the unique identifier of the node $n$, i.e. $d$ associates the identifiers with the corresponding nodes."
   ]
  },
  {
   "cell_type": "code",
   "execution_count": 6,
   "metadata": {
    "scrolled": false
   },
   "outputs": [],
   "source": [
    "def _collectIDs(self, nodeDict):\n",
    "    nodeDict[self.getID()] = self\n",
    "    if isinstance(self, Node):\n",
    "        self.mLeft ._collectIDs(nodeDict)\n",
    "        self.mRight._collectIDs(nodeDict)\n",
    "        \n",
    "CodingTree._collectIDs = _collectIDs"
   ]
  },
  {
   "cell_type": "markdown",
   "metadata": {},
   "source": [
    "The class `Leaf` represents a leaf of the form $\\texttt{Leaf}(c, f)$.  It maintains two member variables.\n",
    "  - $c$ represents the character that is encoded.  This character is stored in the member variable `mCharacter`.\n",
    "  - $f$ represents the number of occurrences of the character $c$ in the string $s$ that is to be encoded and is stored in the member variable `mFrequancy`."
   ]
  },
  {
   "cell_type": "code",
   "execution_count": 7,
   "metadata": {
    "scrolled": false
   },
   "outputs": [],
   "source": [
    "class Leaf(CodingTree):\n",
    "    def __init__(self, c, f):\n",
    "        CodingTree.__init__(self)\n",
    "        self.mCharacter = c\n",
    "        self.mFrequency = f\n",
    "        \n",
    "    def count(self):\n",
    "        return self.mFrequency\n",
    "    \n",
    "    def cost(self):\n",
    "        return 0\n",
    "    \n",
    "    def __str__(self):\n",
    "        return _make_string(self, ['mCharacter', 'mFrequency'])\n",
    "    \n",
    "    def __lt__(self, other):\n",
    "        if isinstance(other, Node):\n",
    "            return True\n",
    "        return self.mCharacter < other.mCharacter"
   ]
  },
  {
   "cell_type": "markdown",
   "metadata": {},
   "source": [
    "The class `Node` represents an inner node of the form $\\texttt{Node}(l, r)$.  It maintains two member variables:\n",
    "  - `self.mLeft` is the left subtree $l$,\n",
    "  - `self.mRight` is the right subtree $r$."
   ]
  },
  {
   "cell_type": "code",
   "execution_count": 8,
   "metadata": {
    "scrolled": false
   },
   "outputs": [],
   "source": [
    "class Node(CodingTree):\n",
    "    def __init__(self, l, r):\n",
    "        CodingTree.__init__(self)\n",
    "        self.mLeft  = l\n",
    "        self.mRight = r\n",
    "\n",
    "    def count(self):\n",
    "        return self.mLeft.count() + self.mRight.count()\n",
    "        \n",
    "    def cost(self):\n",
    "        return self.mLeft.cost() + self.mRight.cost() + self.count()\n",
    "    \n",
    "    def __str__(self):\n",
    "        return _make_string(self, ['mLeft', 'mRight'])\n",
    "    \n",
    "    def __lt__(self, other):\n",
    "        if isinstance(other, Leaf):\n",
    "            return False\n",
    "        return self.mLeft < other.mLeft"
   ]
  },
  {
   "cell_type": "markdown",
   "metadata": {},
   "source": [
    "## Building a Coding Tree"
   ]
  },
  {
   "cell_type": "markdown",
   "metadata": {},
   "source": [
    "The module `heapq` provides priority queues.  The api is given at https://docs.python.org/3/library/heapq.html.\n",
    "This module represents heaps as arrays."
   ]
  },
  {
   "cell_type": "code",
   "execution_count": 9,
   "metadata": {
    "scrolled": false
   },
   "outputs": [],
   "source": [
    "import heapq"
   ]
  },
  {
   "cell_type": "code",
   "execution_count": 10,
   "metadata": {
    "scrolled": false
   },
   "outputs": [
    {
     "data": {
      "text/plain": [
       "[0, 6, 1, 7]"
      ]
     },
     "execution_count": 10,
     "metadata": {},
     "output_type": "execute_result"
    }
   ],
   "source": [
    "H = []\n",
    "heapq.heappush(H, 7)\n",
    "heapq.heappush(H, 1)\n",
    "heapq.heappush(H, 0)\n",
    "heapq.heappush(H, 6)\n",
    "H"
   ]
  },
  {
   "cell_type": "code",
   "execution_count": 11,
   "metadata": {
    "scrolled": false
   },
   "outputs": [
    {
     "name": "stdout",
     "output_type": "stream",
     "text": [
      "a =  0\n"
     ]
    },
    {
     "data": {
      "text/plain": [
       "[1, 6, 7]"
      ]
     },
     "execution_count": 11,
     "metadata": {},
     "output_type": "execute_result"
    }
   ],
   "source": [
    "a = heapq.heappop(H)\n",
    "print('a = ', a)\n",
    "H"
   ]
  },
  {
   "cell_type": "markdown",
   "metadata": {},
   "source": [
    "The function `coding_tree` implements [Huffman's algorithm](https://en.wikipedia.org/wiki/Huffman_coding) for data compression. \n",
    "The input $M$ is a set of pairs of the form\n",
    "$$ \\bigl\\{ (c_1, f_1), \\cdots, (c_k, f_k)\\bigr\\} $$\n",
    "where $c_i$ is a character and $f_i$ is the number of times this character occurs in the string $s$ that is to be encoded.  Huffman's algorithm is\n",
    "<em style=\"color:blue;\">greedy</em>:  It always combines those coding trees that have the *least* character count so far as this results in the smallest cost increase.\n",
    "\n",
    "The heap `H` that is maintained by this function is a priority queue which is represented by an array that is structured as a heap.  The items in this priority queue are pairs of the form\n",
    "$$ \\bigl( t.\\texttt{count}(), t \\bigr)  $$\n",
    "where $t$ is a coding tree and $t.\\texttt{count}()$ is the count of this coding tree."
   ]
  },
  {
   "cell_type": "code",
   "execution_count": 12,
   "metadata": {
    "scrolled": false
   },
   "outputs": [],
   "source": [
    "def coding_tree(M):\n",
    "    H = []  # empty priority queue\n",
    "    for c, f in M:\n",
    "        heapq.heappush(H, (f, Leaf(c, f)))\n",
    "    while len(H) > 1:\n",
    "        a = heapq.heappop(H)\n",
    "        b = heapq.heappop(H)\n",
    "        heapq.heappush(H, (a[0] + b[0], Node(a[1], b[1])))\n",
    "    return H[0][1]"
   ]
  },
  {
   "cell_type": "markdown",
   "metadata": {},
   "source": [
    "Let us test this with a trivial example."
   ]
  },
  {
   "cell_type": "code",
   "execution_count": 13,
   "metadata": {
    "scrolled": false
   },
   "outputs": [],
   "source": [
    "import math"
   ]
  },
  {
   "cell_type": "markdown",
   "metadata": {},
   "source": [
    "The function `log2(n)` computes $\\log_2(n)$."
   ]
  },
  {
   "cell_type": "code",
   "execution_count": 14,
   "metadata": {
    "scrolled": false
   },
   "outputs": [],
   "source": [
    "def log2(n):\n",
    "    return math.log(n) / math.log(2)"
   ]
  },
  {
   "cell_type": "code",
   "execution_count": 15,
   "metadata": {
    "scrolled": false
   },
   "outputs": [
    {
     "data": {
      "text/plain": [
       "2.0"
      ]
     },
     "execution_count": 15,
     "metadata": {},
     "output_type": "execute_result"
    }
   ],
   "source": [
    "log2(4)"
   ]
  },
  {
   "cell_type": "code",
   "execution_count": 16,
   "metadata": {
    "scrolled": false
   },
   "outputs": [],
   "source": [
    "def demo(M):\n",
    "    K = coding_tree(M)\n",
    "    display(K.toDot())\n",
    "    n = math.ceil(log2(len(M)))\n",
    "    cost_huffman  = K.cost()\n",
    "    cost_constant = n * K.count()\n",
    "    savings       = (cost_constant - cost_huffman) / cost_constant\n",
    "    print(f'cost of encoding with Huffman coding tree : {\"{:,}\".format(cost_huffman)} bits')\n",
    "    print(f'cost of encoding with {n} bits              : {\"{:,}\".format(cost_constant)} bits')\n",
    "    print(f'savings: {100 * savings}%')\n",
    "    return savings"
   ]
  },
  {
   "cell_type": "code",
   "execution_count": 17,
   "metadata": {},
   "outputs": [
    {
     "data": {
      "image/svg+xml": [
       "<?xml version=\"1.0\" encoding=\"UTF-8\" standalone=\"no\"?>\r\n",
       "<!DOCTYPE svg PUBLIC \"-//W3C//DTD SVG 1.1//EN\"\r\n",
       " \"http://www.w3.org/Graphics/SVG/1.1/DTD/svg11.dtd\">\r\n",
       "<!-- Generated by graphviz version 2.38.0 (20140413.2041)\r\n",
       " -->\r\n",
       "<!-- Title: %3 Pages: 1 -->\r\n",
       "<svg width=\"224pt\" height=\"354pt\"\r\n",
       " viewBox=\"0.00 0.00 224.00 354.00\" xmlns=\"http://www.w3.org/2000/svg\" xmlns:xlink=\"http://www.w3.org/1999/xlink\">\r\n",
       "<g id=\"graph0\" class=\"graph\" transform=\"scale(1 1) rotate(0) translate(4 350)\">\r\n",
       "<title>%3</title>\r\n",
       "<polygon fill=\"white\" stroke=\"none\" points=\"-4,4 -4,-350 220,-350 220,4 -4,4\"/>\r\n",
       "<!-- 7 -->\r\n",
       "<g id=\"node1\" class=\"node\"><title>7</title>\r\n",
       "<path fill=\"none\" stroke=\"black\" d=\"M156,-309.5C156,-309.5 186,-309.5 186,-309.5 192,-309.5 198,-315.5 198,-321.5 198,-321.5 198,-333.5 198,-333.5 198,-339.5 192,-345.5 186,-345.5 186,-345.5 156,-345.5 156,-345.5 150,-345.5 144,-339.5 144,-333.5 144,-333.5 144,-321.5 144,-321.5 144,-315.5 150,-309.5 156,-309.5\"/>\r\n",
       "<text text-anchor=\"middle\" x=\"171\" y=\"-323.8\" font-family=\"Times New Roman,serif\" font-size=\"14.00\">1,000</text>\r\n",
       "</g>\r\n",
       "<!-- 6 -->\r\n",
       "<g id=\"node2\" class=\"node\"><title>6</title>\r\n",
       "<path fill=\"none\" stroke=\"black\" d=\"M102,-216.5C102,-216.5 132,-216.5 132,-216.5 138,-216.5 144,-222.5 144,-228.5 144,-228.5 144,-240.5 144,-240.5 144,-246.5 138,-252.5 132,-252.5 132,-252.5 102,-252.5 102,-252.5 96,-252.5 90,-246.5 90,-240.5 90,-240.5 90,-228.5 90,-228.5 90,-222.5 96,-216.5 102,-216.5\"/>\r\n",
       "<text text-anchor=\"middle\" x=\"117\" y=\"-230.8\" font-family=\"Times New Roman,serif\" font-size=\"14.00\">10</text>\r\n",
       "</g>\r\n",
       "<!-- 7&#45;&gt;6 -->\r\n",
       "<g id=\"edge1\" class=\"edge\"><title>7&#45;&gt;6</title>\r\n",
       "<path fill=\"none\" stroke=\"black\" d=\"M160.843,-309.384C152.848,-295.911 141.572,-276.909 132.458,-261.55\"/>\r\n",
       "<polygon fill=\"black\" stroke=\"black\" points=\"135.225,-259.353 127.111,-252.54 129.205,-262.926 135.225,-259.353\"/>\r\n",
       "<text text-anchor=\"middle\" x=\"152.5\" y=\"-279.8\" font-family=\"Times New Roman,serif\" font-size=\"14.00\">0</text>\r\n",
       "</g>\r\n",
       "<!-- 2 -->\r\n",
       "<g id=\"node7\" class=\"node\"><title>2</title>\r\n",
       "<path fill=\"none\" stroke=\"black\" d=\"M174,-211.5C174,-211.5 204,-211.5 204,-211.5 210,-211.5 216,-217.5 216,-223.5 216,-223.5 216,-245.5 216,-245.5 216,-251.5 210,-257.5 204,-257.5 204,-257.5 174,-257.5 174,-257.5 168,-257.5 162,-251.5 162,-245.5 162,-245.5 162,-223.5 162,-223.5 162,-217.5 168,-211.5 174,-211.5\"/>\r\n",
       "<text text-anchor=\"middle\" x=\"189\" y=\"-242.3\" font-family=\"Times New Roman,serif\" font-size=\"14.00\">&#39; &#39;</text>\r\n",
       "<polyline fill=\"none\" stroke=\"black\" points=\"162,-234.5 216,-234.5 \"/>\r\n",
       "<text text-anchor=\"middle\" x=\"189\" y=\"-219.3\" font-family=\"Times New Roman,serif\" font-size=\"14.00\">990</text>\r\n",
       "</g>\r\n",
       "<!-- 7&#45;&gt;2 -->\r\n",
       "<g id=\"edge2\" class=\"edge\"><title>7&#45;&gt;2</title>\r\n",
       "<path fill=\"none\" stroke=\"black\" d=\"M174.386,-309.384C176.713,-297.618 179.874,-281.635 182.661,-267.545\"/>\r\n",
       "<polygon fill=\"black\" stroke=\"black\" points=\"186.1,-268.196 184.607,-257.707 179.234,-266.837 186.1,-268.196\"/>\r\n",
       "<text text-anchor=\"middle\" x=\"183.5\" y=\"-279.8\" font-family=\"Times New Roman,serif\" font-size=\"14.00\">1</text>\r\n",
       "</g>\r\n",
       "<!-- 5 -->\r\n",
       "<g id=\"node3\" class=\"node\"><title>5</title>\r\n",
       "<path fill=\"none\" stroke=\"black\" d=\"M48,-118.5C48,-118.5 78,-118.5 78,-118.5 84,-118.5 90,-124.5 90,-130.5 90,-130.5 90,-142.5 90,-142.5 90,-148.5 84,-154.5 78,-154.5 78,-154.5 48,-154.5 48,-154.5 42,-154.5 36,-148.5 36,-142.5 36,-142.5 36,-130.5 36,-130.5 36,-124.5 42,-118.5 48,-118.5\"/>\r\n",
       "<text text-anchor=\"middle\" x=\"63\" y=\"-132.8\" font-family=\"Times New Roman,serif\" font-size=\"14.00\">2</text>\r\n",
       "</g>\r\n",
       "<!-- 6&#45;&gt;5 -->\r\n",
       "<g id=\"edge3\" class=\"edge\"><title>6&#45;&gt;5</title>\r\n",
       "<path fill=\"none\" stroke=\"black\" d=\"M107.346,-216.337C99.0526,-201.594 86.9731,-180.119 77.5148,-163.304\"/>\r\n",
       "<polygon fill=\"black\" stroke=\"black\" points=\"80.5237,-161.514 72.5705,-154.514 74.4227,-164.946 80.5237,-161.514\"/>\r\n",
       "<text text-anchor=\"middle\" x=\"97.5\" y=\"-181.8\" font-family=\"Times New Roman,serif\" font-size=\"14.00\">0</text>\r\n",
       "</g>\r\n",
       "<!-- 3 -->\r\n",
       "<g id=\"node6\" class=\"node\"><title>3</title>\r\n",
       "<path fill=\"none\" stroke=\"black\" d=\"M120,-113.5C120,-113.5 150,-113.5 150,-113.5 156,-113.5 162,-119.5 162,-125.5 162,-125.5 162,-147.5 162,-147.5 162,-153.5 156,-159.5 150,-159.5 150,-159.5 120,-159.5 120,-159.5 114,-159.5 108,-153.5 108,-147.5 108,-147.5 108,-125.5 108,-125.5 108,-119.5 114,-113.5 120,-113.5\"/>\r\n",
       "<text text-anchor=\"middle\" x=\"135\" y=\"-144.3\" font-family=\"Times New Roman,serif\" font-size=\"14.00\">&#39;t&#39;</text>\r\n",
       "<polyline fill=\"none\" stroke=\"black\" points=\"108,-136.5 162,-136.5 \"/>\r\n",
       "<text text-anchor=\"middle\" x=\"135\" y=\"-121.3\" font-family=\"Times New Roman,serif\" font-size=\"14.00\">8</text>\r\n",
       "</g>\r\n",
       "<!-- 6&#45;&gt;3 -->\r\n",
       "<g id=\"edge4\" class=\"edge\"><title>6&#45;&gt;3</title>\r\n",
       "<path fill=\"none\" stroke=\"black\" d=\"M120.218,-216.337C122.657,-203.33 126.078,-185.085 129.015,-169.422\"/>\r\n",
       "<polygon fill=\"black\" stroke=\"black\" points=\"132.457,-170.056 130.859,-159.583 125.576,-168.766 132.457,-170.056\"/>\r\n",
       "<text text-anchor=\"middle\" x=\"131.5\" y=\"-181.8\" font-family=\"Times New Roman,serif\" font-size=\"14.00\">1</text>\r\n",
       "</g>\r\n",
       "<!-- 1 -->\r\n",
       "<g id=\"node4\" class=\"node\"><title>1</title>\r\n",
       "<path fill=\"none\" stroke=\"black\" d=\"M12,-0.5C12,-0.5 42,-0.5 42,-0.5 48,-0.5 54,-6.5 54,-12.5 54,-12.5 54,-49.5 54,-49.5 54,-55.5 48,-61.5 42,-61.5 42,-61.5 12,-61.5 12,-61.5 6,-61.5 0,-55.5 0,-49.5 0,-49.5 0,-12.5 0,-12.5 0,-6.5 6,-0.5 12,-0.5\"/>\r\n",
       "<text text-anchor=\"middle\" x=\"27\" y=\"-46.3\" font-family=\"Times New Roman,serif\" font-size=\"14.00\">&#39;</text>\r\n",
       "<text text-anchor=\"middle\" x=\"27\" y=\"-31.3\" font-family=\"Times New Roman,serif\" font-size=\"14.00\">&#39;</text>\r\n",
       "<polyline fill=\"none\" stroke=\"black\" points=\"0,-23.5 54,-23.5 \"/>\r\n",
       "<text text-anchor=\"middle\" x=\"27\" y=\"-8.3\" font-family=\"Times New Roman,serif\" font-size=\"14.00\">1</text>\r\n",
       "</g>\r\n",
       "<!-- 5&#45;&gt;1 -->\r\n",
       "<g id=\"edge5\" class=\"edge\"><title>5&#45;&gt;1</title>\r\n",
       "<path fill=\"none\" stroke=\"black\" d=\"M57.0553,-118.409C52.6231,-105.666 46.386,-87.7348 40.7416,-71.5071\"/>\r\n",
       "<polygon fill=\"black\" stroke=\"black\" points=\"43.9162,-69.9801 37.3252,-61.6849 37.3047,-72.2798 43.9162,-69.9801\"/>\r\n",
       "<text text-anchor=\"middle\" x=\"52.5\" y=\"-83.8\" font-family=\"Times New Roman,serif\" font-size=\"14.00\">0</text>\r\n",
       "</g>\r\n",
       "<!-- 4 -->\r\n",
       "<g id=\"node5\" class=\"node\"><title>4</title>\r\n",
       "<path fill=\"none\" stroke=\"black\" d=\"M84,-8C84,-8 114,-8 114,-8 120,-8 126,-14 126,-20 126,-20 126,-42 126,-42 126,-48 120,-54 114,-54 114,-54 84,-54 84,-54 78,-54 72,-48 72,-42 72,-42 72,-20 72,-20 72,-14 78,-8 84,-8\"/>\r\n",
       "<text text-anchor=\"middle\" x=\"99\" y=\"-38.8\" font-family=\"Times New Roman,serif\" font-size=\"14.00\"> </text>\r\n",
       "<polyline fill=\"none\" stroke=\"black\" points=\"72,-31 126,-31 \"/>\r\n",
       "<text text-anchor=\"middle\" x=\"99\" y=\"-15.8\" font-family=\"Times New Roman,serif\" font-size=\"14.00\">1</text>\r\n",
       "</g>\r\n",
       "<!-- 5&#45;&gt;4 -->\r\n",
       "<g id=\"edge6\" class=\"edge\"><title>5&#45;&gt;4</title>\r\n",
       "<path fill=\"none\" stroke=\"black\" d=\"M68.9447,-118.409C74.1009,-103.585 81.6996,-81.7387 87.9663,-63.7219\"/>\r\n",
       "<polygon fill=\"black\" stroke=\"black\" points=\"91.3072,-64.7704 91.2868,-54.1756 84.6957,-62.4707 91.3072,-64.7704\"/>\r\n",
       "<text text-anchor=\"middle\" x=\"86.5\" y=\"-83.8\" font-family=\"Times New Roman,serif\" font-size=\"14.00\">1</text>\r\n",
       "</g>\r\n",
       "</g>\r\n",
       "</svg>\r\n"
      ],
      "text/plain": [
       "<graphviz.dot.Digraph at 0x233430b8f10>"
      ]
     },
     "metadata": {},
     "output_type": "display_data"
    },
    {
     "name": "stdout",
     "output_type": "stream",
     "text": [
      "cost of encoding with Huffman coding tree : 1,012 bits\n",
      "cost of encoding with 2 bits              : 2,000 bits\n",
      "savings: 49.4%\n"
     ]
    },
    {
     "data": {
      "text/plain": [
       "0.494"
      ]
     },
     "execution_count": 17,
     "metadata": {},
     "output_type": "execute_result"
    }
   ],
   "source": [
    "demo({ (' ', 990), ('\\t', 8), ('\\n', 1), ('\\v', 1) })"
   ]
  },
  {
   "cell_type": "code",
   "execution_count": null,
   "metadata": {
    "scrolled": false
   },
   "outputs": [],
   "source": [
    "demo({ ('a', 990), ('b', 8), ('c', 1), ('d', 1) })"
   ]
  },
  {
   "cell_type": "code",
   "execution_count": null,
   "metadata": {},
   "outputs": [],
   "source": [
    "demo({ ('a', 4), ('b', 9), ('c', 16), ('d', 25), ('e', 36), ('f', 49), ('g', 64) })"
   ]
  },
  {
   "cell_type": "code",
   "execution_count": null,
   "metadata": {
    "scrolled": false
   },
   "outputs": [],
   "source": [
    "demo({ ('a', 1), ('b', 2), ('c', 3), ('d', 4), ('e', 5), ('f', 6), ('g', 7), ('h', 8), ('i', 9), ('j', 10) })"
   ]
  },
  {
   "cell_type": "code",
   "execution_count": null,
   "metadata": {
    "scrolled": false
   },
   "outputs": [],
   "source": [
    "demo({ ('a', 1), ('b', 1), ('c', 2), ('d', 3), ('e', 5), ('f', 8), ('g', 13) })"
   ]
  },
  {
   "cell_type": "markdown",
   "metadata": {},
   "source": [
    "The function `demo_file(fn)` reads the file with name `fn`  and calculates the frequency of all characters occurring in `fn`.  Using these frequencies it computes the Huffman coding tree."
   ]
  },
  {
   "cell_type": "code",
   "execution_count": null,
   "metadata": {
    "scrolled": false
   },
   "outputs": [],
   "source": [
    "def demo_file(fn):\n",
    "    with open(fn, 'r') as file:\n",
    "        s = file.read() # read file as string s\n",
    "    Frequencies = {}\n",
    "    for c in s:\n",
    "        f = Frequencies.get(c, 0)\n",
    "        if f != 0:\n",
    "            Frequencies[c] += 1\n",
    "        else:\n",
    "            Frequencies[c] = 1\n",
    "    M = { (c, f) for (c, f) in Frequencies.items() }\n",
    "    print(M)\n",
    "    return demo(M)"
   ]
  },
  {
   "cell_type": "code",
   "execution_count": null,
   "metadata": {
    "scrolled": false
   },
   "outputs": [],
   "source": [
    "demo_file('alice.txt')"
   ]
  },
  {
   "cell_type": "code",
   "execution_count": null,
   "metadata": {
    "scrolled": false
   },
   "outputs": [],
   "source": [
    "demo_file('moby-dick.txt')"
   ]
  },
  {
   "cell_type": "code",
   "execution_count": null,
   "metadata": {
    "scrolled": false
   },
   "outputs": [],
   "source": []
  }
 ],
 "metadata": {
  "kernelspec": {
   "display_name": "Python 3",
   "language": "python",
   "name": "python3"
  },
  "language_info": {
   "codemirror_mode": {
    "name": "ipython",
    "version": 3
   },
   "file_extension": ".py",
   "mimetype": "text/x-python",
   "name": "python",
   "nbconvert_exporter": "python",
   "pygments_lexer": "ipython3",
   "version": "3.9.4"
  },
  "toc": {
   "base_numbering": 1,
   "nav_menu": {},
   "number_sections": true,
   "sideBar": true,
   "skip_h1_title": false,
   "title_cell": "Table of Contents",
   "title_sidebar": "Contents",
   "toc_cell": false,
   "toc_position": {},
   "toc_section_display": true,
   "toc_window_display": false
  },
  "varInspector": {
   "cols": {
    "lenName": 16,
    "lenType": 16,
    "lenVar": 40
   },
   "kernels_config": {
    "python": {
     "delete_cmd_postfix": "",
     "delete_cmd_prefix": "del ",
     "library": "var_list.py",
     "varRefreshCmd": "print(var_dic_list())"
    },
    "r": {
     "delete_cmd_postfix": ") ",
     "delete_cmd_prefix": "rm(",
     "library": "var_list.r",
     "varRefreshCmd": "cat(var_dic_list()) "
    }
   },
   "types_to_exclude": [
    "module",
    "function",
    "builtin_function_or_method",
    "instance",
    "_Feature"
   ],
   "window_display": false
  }
 },
 "nbformat": 4,
 "nbformat_minor": 2
}
