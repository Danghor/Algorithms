{
 "cells": [
  {
   "cell_type": "code",
   "execution_count": null,
   "metadata": {},
   "outputs": [],
   "source": [
    "from IPython.core.display import HTML\n",
    "with open('../style.css') as file:\n",
    "    css = file.read()\n",
    "HTML(css)"
   ]
  },
  {
   "cell_type": "markdown",
   "metadata": {},
   "source": [
    "This notebook implements an array-based version of Heapsort."
   ]
  },
  {
   "cell_type": "markdown",
   "metadata": {},
   "source": [
    "# Heapsort"
   ]
  },
  {
   "cell_type": "markdown",
   "metadata": {},
   "source": [
    "The function call `swap(A, i, j)` takes an array `A` and  two indexes `i` and `j` and exchanges the elements at these indexes."
   ]
  },
  {
   "cell_type": "code",
   "execution_count": null,
   "metadata": {},
   "outputs": [],
   "source": [
    "def swap(A, i, j):\n",
    "    A[i], A[j] = A[j], A[i]"
   ]
  },
  {
   "cell_type": "markdown",
   "metadata": {},
   "source": [
    "The procedure `sink` takes three arguments.\n",
    "- `A` is the array representing the heap.\n",
    "- `k` is an index into the array `A`.\n",
    "- `n` is the upper bound  of the part of this array that has to be transformed into a heap.  \n",
    "\n",
    "The array `A` itself might actually have more than $n+1$ elements, but for the\n",
    "purpose of the method `sink` we restrict our attention to the subarray\n",
    "`A[k:n]`. \n",
    "When calling `sink`, the assumption is that `A[k:n+1]` should represent a heap \n",
    "that possibly has its heap condition violated at its root, i.e. at index `k`.  The\n",
    "purpose of the procedure `sink` is to restore the heap condition at index `k`.\n",
    "- We compute the index `j` of the left subtree below index `k`.\n",
    "- We check whether there also is a right subtree at position `j+1`.\n",
    "  \n",
    "  This is the case if `j + 1 <= n`.  \n",
    "- If the heap condition is violated at index `k`, we exchange the element at  position `k` \n",
    "  with the child that has the higher priority, i.e. the child that is smaller. \n",
    "- Next, we check in line 9 whether the heap condition is violated at index `k`.  \n",
    "  If the heap condition is satisfied, there is nothing left to do and the procedure returns.  \n",
    "  \n",
    "- Otherwise, the element at position `k` is swapped with\n",
    "  the element at position `j`.  \n",
    "  \n",
    "  Of course, after this swap it is possible that the heap condition is\n",
    "  violated at position `j`.  Therefore,  `k` is set to `j` and the `while`-loop continues\n",
    "  as long as the node at position `k` has at least one child, i.e. as long as \n",
    "  `2 * k + 1 <= n`."
   ]
  },
  {
   "cell_type": "code",
   "execution_count": null,
   "metadata": {},
   "outputs": [],
   "source": [
    "def sink(A, k, n):\n",
    "    while 2 * k + 1 <= n:\n",
    "        j = 2 * k + 1\n",
    "        if j + 1 <= n and A[j] > A[j + 1]:\n",
    "            j += 1\n",
    "        if A[k] < A[j]:\n",
    "            return\n",
    "        swap(A, k, j)\n",
    "        k = j"
   ]
  },
  {
   "cell_type": "markdown",
   "metadata": {},
   "source": [
    "The function call `heapSort(A)` has the task to sort the array `A` and proceeds in two phases.\n",
    "- In phase one our goal is to transform the array `A`into a heap that is stored in `A`.\n",
    "\n",
    "  In order to do so, we traverse the array `A` in reverse in a loop.  \n",
    "  The invariant of this loop is that before \n",
    "  `sink` is called, all trees rooted at an index greater than \n",
    "  `k` satisfy the heap condition.  Initially this is true because the trees that\n",
    "  are rooted at indices greater than  $(n + 1) // 2 - 1$ are trivial, i.e. they only\n",
    "  consist of their root node.  \n",
    "            \n",
    "  In order to maintain the invariant for index `k`, `sink` is called with\n",
    "  argument `k`,  since at this point, the tree rooted at index `k` satisfies\n",
    "  the heap condition except possibly at the root.  It is then the job of $\\texttt{sink}$ to\n",
    "  establish the heap condition at index `k`.  If the element at the root has a\n",
    "  priority that is too low, `sink` ensures that this element sinks down in the tree\n",
    "  as far as necessary.\n",
    "- In phase two we remove the elements from the heap one-by-one and insert them at the end of\n",
    "  the array.\n",
    "\n",
    "  When the `while`-loop starts, the array `A` contains a heap.  Therefore,\n",
    "  the smallest element is found at the root of the heap.  Since we want to sort the\n",
    "  array `A` descendingly, we move this element to the end of the array `A` and in\n",
    "  return move the element from the end of the array`A`to the front.\n",
    "  After this exchange, the sublist `A[0:n-1]` represents a heap, except that the\n",
    "  heap condition might now be violated at the root.  Next, we decrement `n`, since the\n",
    "  last element of the array `A` is already in its correct position.  \n",
    "  In order to reestablish the heap condition at the root, we call `sink` with index\n",
    "  `0`."
   ]
  },
  {
   "cell_type": "code",
   "execution_count": null,
   "metadata": {},
   "outputs": [],
   "source": [
    "def heap_sort(A):\n",
    "    n = len(A) - 1\n",
    "    for k in range((n + 1) // 2 - 1, -1, -1):\n",
    "        sink(A, k, n)\n",
    "    while n >= 1:\n",
    "        swap(A, 0, n)\n",
    "        n -= 1\n",
    "        sink(A, 0, n)"
   ]
  },
  {
   "cell_type": "markdown",
   "metadata": {},
   "source": [
    "The version of `heap_sort` given below adds some animation."
   ]
  },
  {
   "cell_type": "code",
   "execution_count": null,
   "metadata": {},
   "outputs": [],
   "source": [
    "def heap_sort(A):\n",
    "    n = len(A) - 1\n",
    "    for k in range((n + 1) // 2 - 1, -1, -1):\n",
    "        sink(A, k, n)\n",
    "    while n >= 1:\n",
    "        swap(A, 0, n)\n",
    "        n -= 1\n",
    "        sink(A, 0, n)"
   ]
  },
  {
   "cell_type": "markdown",
   "metadata": {},
   "source": [
    "## Testing"
   ]
  },
  {
   "cell_type": "code",
   "execution_count": null,
   "metadata": {},
   "outputs": [],
   "source": [
    "import random as rnd"
   ]
  },
  {
   "cell_type": "code",
   "execution_count": null,
   "metadata": {},
   "outputs": [],
   "source": [
    "def isOrdered(L):\n",
    "    for i in range(len(L) - 1):\n",
    "        assert L[i] >= L[i+1]"
   ]
  },
  {
   "cell_type": "code",
   "execution_count": null,
   "metadata": {},
   "outputs": [],
   "source": [
    "from collections import Counter"
   ]
  },
  {
   "cell_type": "code",
   "execution_count": null,
   "metadata": {},
   "outputs": [],
   "source": [
    "def sameElements(L, S):\n",
    "    assert Counter(L) == Counter(S)"
   ]
  },
  {
   "cell_type": "markdown",
   "metadata": {},
   "source": [
    "The function $\\texttt{testSort}(n, k)$ generates $n$ random lists of length $k$, sorts them, and checks whether the output is sorted and contains the same elements as the input."
   ]
  },
  {
   "cell_type": "code",
   "execution_count": null,
   "metadata": {},
   "outputs": [],
   "source": [
    "def testSort(n, k):\n",
    "    for i in range(n):\n",
    "        L = [ rnd.randrange(2*k) for x in range(k) ]\n",
    "        oldL = L[:]\n",
    "        heap_sort(L)\n",
    "        isOrdered(L)\n",
    "        sameElements(L, oldL)\n",
    "        assert len(L) == len(oldL)\n",
    "        print('.', end='')\n",
    "    print()\n",
    "    print(\"All tests successful!\")"
   ]
  },
  {
   "cell_type": "code",
   "execution_count": null,
   "metadata": {},
   "outputs": [],
   "source": [
    "%%time\n",
    "testSort(100, 20_000)"
   ]
  },
  {
   "cell_type": "markdown",
   "metadata": {},
   "source": [
    "Next, we sort a million random integers.  It is not as fast as merge sort, but we do not need an auxiliary array and hence we don't need additional storage."
   ]
  },
  {
   "cell_type": "code",
   "execution_count": null,
   "metadata": {},
   "outputs": [],
   "source": [
    "%%timeit\n",
    "k = 1000_000\n",
    "L = [ rnd.randrange(2 * k) for x in range(k) ]\n",
    "S = heap_sort(L)"
   ]
  },
  {
   "cell_type": "code",
   "execution_count": null,
   "metadata": {},
   "outputs": [],
   "source": []
  }
 ],
 "metadata": {
  "kernelspec": {
   "display_name": "Python 3 (ipykernel)",
   "language": "python",
   "name": "python3"
  },
  "language_info": {
   "codemirror_mode": {
    "name": "ipython",
    "version": 3
   },
   "file_extension": ".py",
   "mimetype": "text/x-python",
   "name": "python",
   "nbconvert_exporter": "python",
   "pygments_lexer": "ipython3",
   "version": "3.9.11"
  },
  "varInspector": {
   "cols": {
    "lenName": 16,
    "lenType": 16,
    "lenVar": 40
   },
   "kernels_config": {
    "python": {
     "delete_cmd_postfix": "",
     "delete_cmd_prefix": "del ",
     "library": "var_list.py",
     "varRefreshCmd": "print(var_dic_list())"
    },
    "r": {
     "delete_cmd_postfix": ") ",
     "delete_cmd_prefix": "rm(",
     "library": "var_list.r",
     "varRefreshCmd": "cat(var_dic_list()) "
    }
   },
   "types_to_exclude": [
    "module",
    "function",
    "builtin_function_or_method",
    "instance",
    "_Feature"
   ],
   "window_display": false
  }
 },
 "nbformat": 4,
 "nbformat_minor": 2
}
