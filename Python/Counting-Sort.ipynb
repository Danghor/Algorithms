{
 "cells": [
  {
   "cell_type": "code",
   "execution_count": 1,
   "metadata": {},
   "outputs": [
    {
     "data": {
      "text/html": [
       "<style>.container { width:100%; !important } </style>"
      ],
      "text/plain": [
       "<IPython.core.display.HTML object>"
      ]
     },
     "metadata": {},
     "output_type": "display_data"
    }
   ],
   "source": [
    "#%autosave 0\n",
    "from IPython.core.display import HTML, display\n",
    "display(HTML('<style>.container { width:100%; !important } </style>'))"
   ]
  },
  {
   "cell_type": "markdown",
   "metadata": {},
   "source": [
    "# Counting Sort"
   ]
  },
  {
   "cell_type": "code",
   "execution_count": 2,
   "metadata": {},
   "outputs": [],
   "source": [
    "def countingSort(Names, Grades):\n",
    "    assert len(Names) == len(Grades)\n",
    "    maxGrade     = max(Grades)\n",
    "    Counts       =    [0] * maxGrade\n",
    "    Indices      = [None] * maxGrade\n",
    "    SortedNames  = [None] * len(Names)\n",
    "    SortedGrades = [None] * len(Names)\n",
    "    # Phase 1: Counting\n",
    "    for g in Grades:\n",
    "        Counts[g-1] += 1\n",
    "    # Phase 2: Indexing\n",
    "    Indices[0] = 0\n",
    "    for g in range(2, maxGrade + 1):\n",
    "        Indices[g-1] = Indices[g-2] + Counts[g-2]\n",
    "    # Phase 3: Distribution\n",
    "    for i in range(len(Names)):\n",
    "        grade             = Grades [i]\n",
    "        idx               = Indices[grade-1]\n",
    "        SortedNames [idx] = Names[i]\n",
    "        SortedGrades[idx] = Grades[i]\n",
    "        Indices[grade-1] += 1\n",
    "    return SortedNames, SortedGrades"
   ]
  },
  {
   "cell_type": "code",
   "execution_count": 3,
   "metadata": {},
   "outputs": [],
   "source": [
    "Data = [\n",
    "     ('Alexander', 4),\n",
    "     ('Benjamin',  2),\n",
    "     ('Daniel',    3),\n",
    "     ('David',     3),\n",
    "     ('Elijah',    2),\n",
    "     ('Gabriel',   1),\n",
    "     ('Henry',     2),\n",
    "     ('Jacob',     5),\n",
    "     ('James',     3),\n",
    "     ('Joseph',    2),\n",
    "     ('Liam',      2),\n",
    "     ('Logan',     3),\n",
    "     ('Lucas',     1),\n",
    "     ('Mason',     2),\n",
    "     ('Matthew',   5),\n",
    "     ('Michael',   3),\n",
    "     ('Noah',      4),\n",
    "     ('Oliver',    2),\n",
    "     ('Owen',      4),\n",
    "     ('Samuel',    3),\n",
    "     ('Sebastian', 2),\n",
    "     ('William',   1)\n",
    "]"
   ]
  },
  {
   "cell_type": "code",
   "execution_count": 4,
   "metadata": {},
   "outputs": [
    {
     "data": {
      "text/plain": [
       "['Alexander',\n",
       " 'Benjamin',\n",
       " 'Daniel',\n",
       " 'David',\n",
       " 'Elijah',\n",
       " 'Gabriel',\n",
       " 'Henry',\n",
       " 'Jacob',\n",
       " 'James',\n",
       " 'Joseph',\n",
       " 'Liam',\n",
       " 'Logan',\n",
       " 'Lucas',\n",
       " 'Mason',\n",
       " 'Matthew',\n",
       " 'Michael',\n",
       " 'Noah',\n",
       " 'Oliver',\n",
       " 'Owen',\n",
       " 'Samuel',\n",
       " 'Sebastian',\n",
       " 'William']"
      ]
     },
     "execution_count": 4,
     "metadata": {},
     "output_type": "execute_result"
    }
   ],
   "source": [
    "Names = [ n for n, _ in Data ]\n",
    "Names"
   ]
  },
  {
   "cell_type": "code",
   "execution_count": 5,
   "metadata": {},
   "outputs": [
    {
     "data": {
      "text/plain": [
       "[4, 2, 3, 3, 2, 1, 2, 5, 3, 2, 2, 3, 1, 2, 5, 3, 4, 2, 4, 3, 2, 1]"
      ]
     },
     "execution_count": 5,
     "metadata": {},
     "output_type": "execute_result"
    }
   ],
   "source": [
    "Grades = [ g for _, g in Data ]\n",
    "Grades"
   ]
  },
  {
   "cell_type": "code",
   "execution_count": 6,
   "metadata": {},
   "outputs": [
    {
     "name": "stdout",
     "output_type": "stream",
     "text": [
      "Gabriel  : 1\n",
      "Lucas    : 1\n",
      "William  : 1\n",
      "Benjamin : 2\n",
      "Elijah   : 2\n",
      "Henry    : 2\n",
      "Joseph   : 2\n",
      "Liam     : 2\n",
      "Mason    : 2\n",
      "Oliver   : 2\n",
      "Sebastian: 2\n",
      "Daniel   : 3\n",
      "David    : 3\n",
      "James    : 3\n",
      "Logan    : 3\n",
      "Michael  : 3\n",
      "Samuel   : 3\n",
      "Alexander: 4\n",
      "Noah     : 4\n",
      "Owen     : 4\n",
      "Jacob    : 5\n",
      "Matthew  : 5\n"
     ]
    }
   ],
   "source": [
    "SortedNames, SortedGrades = countingSort(Names, Grades) \n",
    "SortedData                = zip(SortedNames, SortedGrades)\n",
    "for n, g in SortedData:\n",
    "    print('%-9s: %1d' % (n, g))"
   ]
  },
  {
   "cell_type": "code",
   "execution_count": null,
   "metadata": {},
   "outputs": [],
   "source": []
  }
 ],
 "metadata": {
  "kernelspec": {
   "display_name": "Python 3",
   "language": "python",
   "name": "python3"
  },
  "language_info": {
   "codemirror_mode": {
    "name": "ipython",
    "version": 3
   },
   "file_extension": ".py",
   "mimetype": "text/x-python",
   "name": "python",
   "nbconvert_exporter": "python",
   "pygments_lexer": "ipython3",
   "version": "3.6.7"
  }
 },
 "nbformat": 4,
 "nbformat_minor": 2
}
