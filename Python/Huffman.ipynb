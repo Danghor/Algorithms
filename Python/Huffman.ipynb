{
 "cells": [
  {
   "cell_type": "code",
   "execution_count": null,
   "metadata": {},
   "outputs": [],
   "source": [
    "#%autosave 0\n",
    "from IPython.core.display import HTML, display\n",
    "display(HTML('<style>.container { width:100%; !important } </style>'))"
   ]
  },
  {
   "cell_type": "markdown",
   "metadata": {},
   "source": [
    "# Huffman's Algorithm for Lossless Data Compression"
   ]
  },
  {
   "cell_type": "code",
   "execution_count": null,
   "metadata": {},
   "outputs": [],
   "source": [
    "import graphviz as gv"
   ]
  },
  {
   "cell_type": "markdown",
   "metadata": {},
   "source": [
    "This notebook presents <em style=\"color:blue;\">coding trees</em>.  Given an alphabet $\\Sigma$ of characters, \n",
    "we define the set $\\mathcal{K}$ of coding trees by induction:\n",
    "\n",
    "  - $\\texttt{Leaf}(c,f) \\in \\mathcal{K} $ if $c \\in \\Sigma$ and $f \\in \\mathbb{N}$\n",
    "\n",
    "    An expression of the form $\\texttt{Leaf}(c,f)$ represent a leaf in a coding tree.  Here  $c$ is a letter\n",
    "    from the alphabet $\\Sigma$ and $f$ is the number of times that the letter $c$ occurs in the string $s$\n",
    "    that is to be encoded.\n",
    "\n",
    "  - $\\texttt{Node}(l,r) \\in \\mathcal{K}$ if $l \\in\\mathcal{K}$ and $r \\in \\mathcal{K}$\n",
    "\n",
    "    The expressions $\\texttt{Node}(l,r)$ represent the inner nodes of the coding-tree."
   ]
  },
  {
   "cell_type": "markdown",
   "metadata": {},
   "source": [
    "The class `CodingTree` is a *superclass* for constructing coding trees.  It has one static variable `sNodeCount`.  This variable is used to equip all nodes with a unique identifier.  This identifier is used to draw the trees using `graphviz`.\n",
    "\n",
    "Every object of class `CodingTree` has a uniques id `mID` that is stored as a member variable.  "
   ]
  },
  {
   "cell_type": "code",
   "execution_count": null,
   "metadata": {},
   "outputs": [],
   "source": [
    "class CodingTree:\n",
    "    sNodeCount = 0\n",
    "    \n",
    "    def __init__(self):\n",
    "        CodingTree.sNodeCount += 1\n",
    "        self.mID = CodingTree.sNodeCount\n",
    "        \n",
    "    def getID(self):\n",
    "        return self.mID  # used only by graphviz"
   ]
  },
  {
   "cell_type": "markdown",
   "metadata": {},
   "source": [
    "The function `make_string` is a helper function that is used to simplify the implementation of `__str__`.\n",
    "  - `self` is the object that is to be rendered as a string\n",
    "  - `attributes` is a list of those member variables that are used to produce the string"
   ]
  },
  {
   "cell_type": "code",
   "execution_count": null,
   "metadata": {},
   "outputs": [],
   "source": [
    "def _make_string(self, attributes):\n",
    "        # map the function __str__ to all attributes and join them with a comma\n",
    "        name = self.__class__.__name__\n",
    "        return f\"{name}({', '.join(map(str, [getattr(self, at) for at in attributes]))})\"\n",
    "    \n",
    "CodingTree._make_string = _make_string"
   ]
  },
  {
   "cell_type": "markdown",
   "metadata": {},
   "source": [
    "The method $t.\\texttt{toDot}()$ takes a binary trie $t$ and returns a graph that depicts the tree $t$."
   ]
  },
  {
   "cell_type": "code",
   "execution_count": null,
   "metadata": {},
   "outputs": [],
   "source": [
    "def toDot(self):\n",
    "    dot = gv.Digraph(node_attr={'shape': 'record', 'style': 'rounded'})\n",
    "    nodeDict = {}\n",
    "    self._collectIDs(nodeDict)\n",
    "    for n, t in nodeDict.items():\n",
    "        if isinstance(t, Leaf):\n",
    "            dot.node(str(n), label='{' + str(t.mCharacter) + '|' + str(t.mFrequency) + '}') \n",
    "        elif isinstance(t, Node):\n",
    "            dot.node(str(n), label='', shape='point')\n",
    "        else:\n",
    "            assert False, f'Unknown node {t}'\n",
    "    for n, t in nodeDict.items():\n",
    "        if isinstance(t, Node):\n",
    "            dot.edge(str(n), str(t.mLeft .getID()), label='0')\n",
    "            dot.edge(str(n), str(t.mRight.getID()), label='1')\n",
    "    return dot\n",
    "\n",
    "CodingTree.toDot = toDot"
   ]
  },
  {
   "cell_type": "markdown",
   "metadata": {},
   "source": [
    "The method $t.\\texttt{collectIDs}(d)$ takes a coding tree $t$ and a dictionary $d$ and updates the dictionary so that the following holds:\n",
    "$$ d[\\texttt{id}] = n \\quad \\mbox{for every node $n$ in $t$.} $$\n",
    "Here, $\\texttt{id}$ is the unique identifier of the node $n$, i.e. $d$ associates the identifiers with the corresponding nodes."
   ]
  },
  {
   "cell_type": "code",
   "execution_count": null,
   "metadata": {},
   "outputs": [],
   "source": [
    "def _collectIDs(self, nodeDict):\n",
    "    nodeDict[self.getID()] = self\n",
    "    if isinstance(self, Node):\n",
    "        self.mLeft ._collectIDs(nodeDict)\n",
    "        self.mRight._collectIDs(nodeDict)\n",
    "        \n",
    "CodingTree._collectIDs = _collectIDs"
   ]
  },
  {
   "cell_type": "markdown",
   "metadata": {},
   "source": [
    "The class `Leaf` represents a leaf of the form $\\texttt{Leaf}(c, f)$.  It maintains two member variables.\n",
    "  - $c$ represents the character that is encoded.  This character is stored in the member variable `mCharacter`.\n",
    "  - $f$ represents the frequency of the character $c$ and is stored in the member variable `mFrequancy`."
   ]
  },
  {
   "cell_type": "code",
   "execution_count": null,
   "metadata": {},
   "outputs": [],
   "source": [
    "class Leaf(CodingTree):\n",
    "    def __init__(self, c, f):\n",
    "        CodingTree.__init__(self)\n",
    "        self.mCharacter = c\n",
    "        self.mFrequency = f\n",
    "        \n",
    "    def __str__(self):\n",
    "        return _make_string(self, ['mCharacter', 'mFrequency'])\n",
    "    \n",
    "    def __lt__(self, other):\n",
    "        if isinstance(other, Node):\n",
    "            return True\n",
    "        return self.mCharacter < other.mCharacter"
   ]
  },
  {
   "cell_type": "markdown",
   "metadata": {},
   "source": [
    "The class `Node` represents an inner node of the form $\\texttt{Node}(l, r)$.  It maintains two member variables:\n",
    "  - `self.mLeft` is the left subtree $l$,\n",
    "  - `self.mRight` is the right subtree $r$."
   ]
  },
  {
   "cell_type": "code",
   "execution_count": null,
   "metadata": {},
   "outputs": [],
   "source": [
    "class Node(CodingTree):\n",
    "    def __init__(self, l, r):\n",
    "        CodingTree.__init__(self)\n",
    "        self.mLeft  = l\n",
    "        self.mRight = r\n",
    "\n",
    "    def __str__(self):\n",
    "        return _make_string(self, ['mLeft', 'mRight'])\n",
    "    \n",
    "    def __lt__(self, other):\n",
    "        if isinstance(other, Leaf):\n",
    "            return False\n",
    "        return self.mLeft < other.mLeft"
   ]
  },
  {
   "cell_type": "markdown",
   "metadata": {},
   "source": [
    "## Building a Coding Tree"
   ]
  },
  {
   "cell_type": "markdown",
   "metadata": {},
   "source": [
    "The module `heapq` provides priority queues.  The api is given at https://docs.python.org/3/library/heapq.html.\n",
    "The module represents heaps as arrays."
   ]
  },
  {
   "cell_type": "code",
   "execution_count": null,
   "metadata": {},
   "outputs": [],
   "source": [
    "import heapq"
   ]
  },
  {
   "cell_type": "markdown",
   "metadata": {},
   "source": [
    "Given a set $M$ of pairs of the form $(c, f)$ where $c$ is a character and $f$ it the number of times that this character occurs\n",
    "in a string $s$ that is to be compressed, the function $\\texttt{codingTree}(M)$ uses Hufman's algorithm to construct a coding tree."
   ]
  },
  {
   "cell_type": "code",
   "execution_count": null,
   "metadata": {},
   "outputs": [],
   "source": [
    "def codingTree(M):\n",
    "    H = []  # empty priority queue\n",
    "    for c, f in M:\n",
    "        heapq.heappush(H, (f, Leaf(c, f)))\n",
    "    while len(H) > 1:\n",
    "        a = heapq.heappop(H)\n",
    "        b = heapq.heappop(H)\n",
    "        heapq.heappush(H, (a[0] + b[0], Node(a[1], b[1])))\n",
    "    return H[0]"
   ]
  },
  {
   "cell_type": "markdown",
   "metadata": {},
   "source": [
    "Let us test this with a trivial example."
   ]
  },
  {
   "cell_type": "code",
   "execution_count": null,
   "metadata": {},
   "outputs": [],
   "source": [
    "M = { ('a', 990), ('b', 8), ('c', 1), ('d', 1) }\n",
    "K = codingTree(M)[1]\n",
    "K.toDot()"
   ]
  },
  {
   "cell_type": "code",
   "execution_count": null,
   "metadata": {},
   "outputs": [],
   "source": [
    "M = { ('a', 1), ('b', 2), ('c', 3), ('d', 4), ('e', 5), ('f', 6), ('g', 7), ('h', 8), ('i', 9), ('j', 10) }\n",
    "K = codingTree(M)[1]\n",
    "K.toDot()"
   ]
  },
  {
   "cell_type": "code",
   "execution_count": null,
   "metadata": {},
   "outputs": [],
   "source": [
    "M = { ('a', 1), ('b', 1), ('c', 2), ('d', 3), ('e', 5), ('f', 8), ('g', 13) }\n",
    "K = codingTree(M)[1]\n",
    "K.toDot()"
   ]
  },
  {
   "cell_type": "code",
   "execution_count": null,
   "metadata": {},
   "outputs": [],
   "source": []
  },
  {
   "cell_type": "code",
   "execution_count": null,
   "metadata": {},
   "outputs": [],
   "source": []
  }
 ],
 "metadata": {
  "kernelspec": {
   "display_name": "Python 3",
   "language": "python",
   "name": "python3"
  },
  "language_info": {
   "codemirror_mode": {
    "name": "ipython",
    "version": 3
   },
   "file_extension": ".py",
   "mimetype": "text/x-python",
   "name": "python",
   "nbconvert_exporter": "python",
   "pygments_lexer": "ipython3",
   "version": "3.7.3"
  }
 },
 "nbformat": 4,
 "nbformat_minor": 2
}
