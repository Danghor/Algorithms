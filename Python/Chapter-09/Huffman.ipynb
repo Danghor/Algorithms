{
 "cells": [
  {
   "cell_type": "code",
   "execution_count": null,
   "metadata": {
    "scrolled": false
   },
   "outputs": [],
   "source": [
    "from IPython.core.display import HTML\n",
    "with open('../style.css') as file:\n",
    "    css = file.read()\n",
    "HTML(css)"
   ]
  },
  {
   "cell_type": "markdown",
   "metadata": {},
   "source": [
    "# Huffman's Algorithm for Lossless Data Compression"
   ]
  },
  {
   "cell_type": "code",
   "execution_count": null,
   "metadata": {
    "scrolled": false
   },
   "outputs": [],
   "source": [
    "import graphviz as gv"
   ]
  },
  {
   "cell_type": "markdown",
   "metadata": {},
   "source": [
    "This notebook presents <em style=\"color:blue;\">coding trees</em>.  Given an alphabet $\\Sigma$ of characters, \n",
    "we define the set $\\mathcal{K}$ of coding trees by induction:\n",
    "\n",
    "  - $\\texttt{Leaf}(c,f) \\in \\mathcal{K} $ if $c \\in \\Sigma$ and $f \\in \\mathbb{N}$\n",
    "\n",
    "    An expression of the form $\\texttt{Leaf}(c,f)$ represent a *leaf* in a coding tree.  \n",
    "    * $c$ is a letter from the alphabet $\\Sigma$ and \n",
    "    * $f$ is the *frequency* of the letter $c$ in the string $s$ that is to be encoded.\n",
    "\n",
    "  - $\\texttt{Node}(l,r) \\in \\mathcal{K}$ if $l \\in\\mathcal{K}$ and $r \\in \\mathcal{K}$\n",
    "\n",
    "    The expressions $\\texttt{Node}(l,r)$ represent the *inner nodes* of the coding-tree."
   ]
  },
  {
   "cell_type": "markdown",
   "metadata": {},
   "source": [
    "The class `CodingTree` is a *superclass* for constructing coding trees.  It has one static variable `sNodeCount`.  This variable is used to equip all nodes with a unique identifier.  This identifier is used to draw the trees using [graphviz](https://graphviz.org/).\n",
    "\n",
    "Every object of class `CodingTree` has a uniques identifier `mID` that is stored as a member variable.  This identifier is only used by `graphviz`."
   ]
  },
  {
   "cell_type": "code",
   "execution_count": null,
   "metadata": {
    "scrolled": false
   },
   "outputs": [],
   "source": [
    "class CodingTree:\n",
    "    sNodeCount = 0\n",
    "    \n",
    "    def __init__(self):\n",
    "        CodingTree.sNodeCount += 1\n",
    "        self.mID = CodingTree.sNodeCount\n",
    "        \n",
    "    def count(self):\n",
    "        \"compute the number of characters\"\n",
    "        pass\n",
    "        \n",
    "    def cost(self):\n",
    "        \"compute the number of bits used by this coding tree\"\n",
    "        pass\n",
    "        \n",
    "    def getID(self):\n",
    "        return self.mID  # used only by graphviz"
   ]
  },
  {
   "cell_type": "markdown",
   "metadata": {},
   "source": [
    "The function `make_string` is a helper function that is used to simplify the implementation of `__str__`.\n",
    "  - `self` is the object that is to be rendered as a string\n",
    "  - `attributes` is a list of those member variables that are used to produce the string"
   ]
  },
  {
   "cell_type": "code",
   "execution_count": null,
   "metadata": {
    "scrolled": false
   },
   "outputs": [],
   "source": [
    "def _make_string(self, Attributes):\n",
    "        # map the function __str__ to all attributes and join them with a comma\n",
    "        name = self.__class__.__name__\n",
    "        return f\"{name}({', '.join(map(str, [getattr(self, at) for at in Attributes]))})\"\n",
    "    \n",
    "CodingTree._make_string = _make_string"
   ]
  },
  {
   "cell_type": "markdown",
   "metadata": {},
   "source": [
    "The method $t.\\texttt{toDot}()$ takes a binary trie $t$ and returns a graph that depicts the tree $t$."
   ]
  },
  {
   "cell_type": "code",
   "execution_count": null,
   "metadata": {
    "scrolled": false
   },
   "outputs": [],
   "source": [
    "def toDot(self):\n",
    "    dot = gv.Digraph(node_attr={'shape': 'record', 'style': 'rounded'})\n",
    "    nodeDict = {}\n",
    "    self._collectIDs(nodeDict)\n",
    "    for n, t in nodeDict.items():\n",
    "        if isinstance(t, Leaf):\n",
    "            if t.mCharacter == ' ':\n",
    "                dot.node(str(n), label='{ \\' \\' |' + \"{:,}\".format(t.mFrequency) + '}') \n",
    "            elif t.mCharacter == '\\t':\n",
    "                dot.node(str(n), label='{ \\'\\\\\\\\t\\' |' + \"{:,}\".format(t.mFrequency) + '}') \n",
    "            elif t.mCharacter == '\\n':\n",
    "                dot.node(str(n), label='{ \\'\\\\\\\\n\\' |' + \"{:,}\".format(t.mFrequency) + '}')     \n",
    "            elif t.mCharacter == '\\v':\n",
    "                dot.node(str(n), label='{ \\'\\\\\\\\v\\' |' + \"{:,}\".format(t.mFrequency) + '}')     \n",
    "            else:\n",
    "                dot.node(str(n), label='{' + str(t.mCharacter) + '|' + \"{:,}\".format(t.mFrequency) + '}') \n",
    "        elif isinstance(t, Node):\n",
    "            dot.node(str(n), label=\"{:,}\".format(t.count()))\n",
    "        else:\n",
    "            assert False, f'Unknown node {t}'\n",
    "    for n, t in nodeDict.items():\n",
    "        if isinstance(t, Node):\n",
    "            dot.edge(str(n), str(t.mLeft .getID()), label='0')\n",
    "            dot.edge(str(n), str(t.mRight.getID()), label='1')\n",
    "    return dot\n",
    "\n",
    "CodingTree.toDot = toDot"
   ]
  },
  {
   "cell_type": "markdown",
   "metadata": {},
   "source": [
    "The method $t.\\texttt{collectIDs}(d)$ takes a coding tree $t$ and a dictionary $d$ and updates the dictionary so that the following holds:\n",
    "$$ d[\\texttt{id}] = n \\quad \\mbox{for every node $n$ in $t$.} $$\n",
    "Here, $\\texttt{id}$ is the unique identifier of the node $n$, i.e. $d$ associates the identifiers with the corresponding nodes."
   ]
  },
  {
   "cell_type": "code",
   "execution_count": null,
   "metadata": {
    "scrolled": false
   },
   "outputs": [],
   "source": [
    "def _collectIDs(self, nodeDict):\n",
    "    nodeDict[self.getID()] = self\n",
    "    if isinstance(self, Node):\n",
    "        self.mLeft ._collectIDs(nodeDict)\n",
    "        self.mRight._collectIDs(nodeDict)\n",
    "        \n",
    "CodingTree._collectIDs = _collectIDs"
   ]
  },
  {
   "cell_type": "markdown",
   "metadata": {},
   "source": [
    "The class `Leaf` represents a leaf of the form $\\texttt{Leaf}(c, f)$.  It maintains two member variables.\n",
    "  - $c$ represents the character that is encoded.  This character is stored in the member variable `mCharacter`.\n",
    "  - $f$ represents the number of occurrences of the character $c$ in the string $s$ that is to be encoded and is stored in the member variable `mFrequency`.\n",
    "  \n",
    "The class `Leaf` implements the method `__lt__`. This way, nodes in a coding tree can be ordered.  The ordering between nodes is given as follows:\n",
    "* $\\texttt{Leaf}(c, f) < Node(l, r)$, \n",
    "\n",
    "  i.e. leaf nodes are smaller than inner nodes.\n",
    "* $\\texttt{Leaf}(c_1, f_1) < \\texttt{Leaf}(c_2, f_2) \\Leftrightarrow c_1 < c_2$, \n",
    "\n",
    "  i.e. leaf nodes are compared by comparing their characters lexicographically."
   ]
  },
  {
   "cell_type": "code",
   "execution_count": null,
   "metadata": {
    "scrolled": false
   },
   "outputs": [],
   "source": [
    "class Leaf(CodingTree):\n",
    "    def __init__(self, c, f):\n",
    "        CodingTree.__init__(self)\n",
    "        self.mCharacter = c\n",
    "        self.mFrequency = f\n",
    "        \n",
    "    def count(self):\n",
    "        return self.mFrequency\n",
    "    \n",
    "    def cost(self):\n",
    "        return 0\n",
    "    \n",
    "    def __str__(self):\n",
    "        return _make_string(self, ['mCharacter', 'mFrequency'])\n",
    "    \n",
    "    def __lt__(self, other):\n",
    "        if isinstance(other, Node):\n",
    "            return True\n",
    "        return self.mCharacter < other.mCharacter"
   ]
  },
  {
   "cell_type": "markdown",
   "metadata": {},
   "source": [
    "The class `Node` represents an inner node of the form $\\texttt{Node}(l, r)$.  It maintains two member variables:\n",
    "  - `self.mLeft` is the left subtree $l$,\n",
    "  - `self.mRight` is the right subtree $r$.\n",
    "  \n",
    "The class `Node` implements the method `__lt__`. This way, nodes in a coding tree can be ordered.  The ordering between nodes is given as follows:\n",
    "* $\\texttt{Leaf}(c, f) < Node(l, r)$, \n",
    "\n",
    "  i.e. leaf nodes are smaller than inner nodes.\n",
    "* $\\texttt{Node}(l_1, r_1) < \\texttt{Node}(l_2, r_2) \\Leftrightarrow l_1 < l_2$, \n",
    "\n",
    "  i.e. inner nodes are compared by comparing their left subtrees.  "
   ]
  },
  {
   "cell_type": "code",
   "execution_count": null,
   "metadata": {
    "scrolled": false
   },
   "outputs": [],
   "source": [
    "class Node(CodingTree):\n",
    "    def __init__(self, l, r):\n",
    "        CodingTree.__init__(self)\n",
    "        self.mLeft  = l\n",
    "        self.mRight = r\n",
    "\n",
    "    def count(self):\n",
    "        return self.mLeft.count() + self.mRight.count()\n",
    "        \n",
    "    def cost(self):\n",
    "        return self.mLeft.cost() + self.mRight.cost() + self.count()\n",
    "    \n",
    "    def __str__(self):\n",
    "        return _make_string(self, ['mLeft', 'mRight'])\n",
    "    \n",
    "    def __lt__(self, other):\n",
    "        if isinstance(other, Leaf):\n",
    "            return False\n",
    "        return self.mLeft < other.mLeft"
   ]
  },
  {
   "cell_type": "markdown",
   "metadata": {},
   "source": [
    "## Building a Coding Tree"
   ]
  },
  {
   "cell_type": "markdown",
   "metadata": {},
   "source": [
    "The module `heapq` provides priority queues.  The api is given at https://docs.python.org/3/library/heapq.html.\n",
    "We will use two methods:\n",
    "* `heapq.heappush(H, p)`\n",
    "  pushes the priority `p` onto the heap.  For this to be possible, `p` has to be an object of a class that provides the \n",
    "  method `__lt__`.  The expression `p.__lt__(q)` is `True` if `p` is smaller than `q`.\n",
    "* `heapq.heappop(H)` \n",
    "  removes **and** returns the element from the heap `H` that has the highest priority, i.e. the smallest element.\n",
    "\n",
    "The implementation of this module represents heaps as arrays.  Therefore, \n",
    "* to test whether a heap `H` is empty we can write `H == []` since `[]` is the empty heap.\n",
    "* to create an empty heap we write `H = []`,\n",
    "* to get the element with the highest priority in the heap `H` we write `H[0]`,\n",
    "* to get the number of elements in `H` we can write `len(H)`."
   ]
  },
  {
   "cell_type": "code",
   "execution_count": null,
   "metadata": {
    "scrolled": false
   },
   "outputs": [],
   "source": [
    "import heapq"
   ]
  },
  {
   "cell_type": "code",
   "execution_count": null,
   "metadata": {
    "scrolled": false
   },
   "outputs": [],
   "source": [
    "H = []\n",
    "heapq.heappush(H, 7)\n",
    "heapq.heappush(H, 1)\n",
    "heapq.heappush(H, 0)\n",
    "heapq.heappush(H, 6)\n",
    "H"
   ]
  },
  {
   "cell_type": "code",
   "execution_count": null,
   "metadata": {
    "scrolled": false
   },
   "outputs": [],
   "source": [
    "a = heapq.heappop(H)\n",
    "print('a = ', a)\n",
    "H"
   ]
  },
  {
   "cell_type": "markdown",
   "metadata": {},
   "source": [
    "The function `coding_tree` implements [Huffman's algorithm](https://en.wikipedia.org/wiki/Huffman_coding) for data compression. \n",
    "The input $M$ is a set of pairs of the form\n",
    "$$ \\bigl\\{ (c_1, f_1), \\cdots, (c_k, f_k)\\bigr\\} $$\n",
    "where $c_i$ is a character and $f_i$ is the number of times this character occurs in the string $s$ that is to be encoded.  Huffman's algorithm is\n",
    "<em style=\"color:blue;\">greedy</em>:  It always combines those coding trees that have the *least* character count so far as this results in the smallest cost increase.\n",
    "\n",
    "The heap `H` that is maintained by this function is a priority queue which is represented by an array that is structured as a heap.  The items in this priority queue are pairs of the form\n",
    "$$ \\bigl( t.\\texttt{count}(), t \\bigr)  $$\n",
    "where $t$ is a coding tree and $t.\\texttt{count}()$ is the count of this coding tree."
   ]
  },
  {
   "cell_type": "code",
   "execution_count": null,
   "metadata": {
    "scrolled": false
   },
   "outputs": [],
   "source": [
    "def coding_tree(M):\n",
    "    H = []  # empty priority queue\n",
    "    for c, f in M:\n",
    "        heapq.heappush(H, (f, Leaf(c, f)))\n",
    "    while len(H) > 1:\n",
    "        a = heapq.heappop(H)\n",
    "        b = heapq.heappop(H)\n",
    "        heapq.heappush(H, (a[0] + b[0], Node(a[1], b[1])))\n",
    "    return H[0][1]"
   ]
  },
  {
   "cell_type": "markdown",
   "metadata": {},
   "source": [
    "Let us test this with a trivial example."
   ]
  },
  {
   "cell_type": "code",
   "execution_count": null,
   "metadata": {
    "scrolled": false
   },
   "outputs": [],
   "source": [
    "import math"
   ]
  },
  {
   "cell_type": "markdown",
   "metadata": {},
   "source": [
    "The function `log2(n)` computes $\\log_2(n)$."
   ]
  },
  {
   "cell_type": "code",
   "execution_count": null,
   "metadata": {
    "scrolled": false
   },
   "outputs": [],
   "source": [
    "def log2(n):\n",
    "    return math.log(n) / math.log(2)"
   ]
  },
  {
   "cell_type": "code",
   "execution_count": null,
   "metadata": {
    "scrolled": false
   },
   "outputs": [],
   "source": [
    "log2(8)"
   ]
  },
  {
   "cell_type": "markdown",
   "metadata": {},
   "source": [
    "The function `demo(M)`takes one argument `M` that is a set of pairs of the form\n",
    "$$ M = \\bigl\\{ \\langle c_1, f_1 \\rangle, \\cdots,  \\langle c_n, f_n \\rangle \\bigr\\} $$\n",
    "Here, $c_1$, $\\cdots$, $c_n$ are characters and $f_1, \\cdots, f_n$ are the frequencies with which these \n",
    "characters occur in a given string that is to be encoded.\n",
    "\n",
    "The function builds the Huffman tree that is optimal for these characters. Additionally the function prints the \n",
    "percentage of memory savings that can be achieved with a Huffman tree.  This number is also returned."
   ]
  },
  {
   "cell_type": "code",
   "execution_count": null,
   "metadata": {
    "scrolled": false
   },
   "outputs": [],
   "source": [
    "def demo(M):\n",
    "    K = coding_tree(M)\n",
    "    display(K.toDot())\n",
    "    n = math.ceil(log2(len(M)))\n",
    "    cost_huffman  = K.cost()\n",
    "    cost_constant = n * K.count()\n",
    "    savings       = (cost_constant - cost_huffman) / cost_constant\n",
    "    print(f'cost of encoding with Huffman coding tree : {\"{:,}\".format(cost_huffman)} bits')\n",
    "    print(f'cost of encoding with {n} bits              : {\"{:,}\".format(cost_constant)} bits')\n",
    "    print(f'savings: {100 * savings}%')\n",
    "    return savings"
   ]
  },
  {
   "cell_type": "code",
   "execution_count": null,
   "metadata": {
    "scrolled": false
   },
   "outputs": [],
   "source": [
    "demo({ ('a', 990), ('b', 8), ('c', 1), ('d', 1) })"
   ]
  },
  {
   "cell_type": "code",
   "execution_count": null,
   "metadata": {},
   "outputs": [],
   "source": [
    "demo({ ('a', 4), ('b', 9), ('c', 16), ('d', 25), ('e', 36), ('f', 49), ('g', 64) })"
   ]
  },
  {
   "cell_type": "code",
   "execution_count": null,
   "metadata": {
    "scrolled": false
   },
   "outputs": [],
   "source": [
    "demo({ ('a', 1), ('b', 2), ('c', 3), ('d', 4), ('e', 5), ('f', 6), ('g', 7), ('h', 8), ('i', 9), ('j', 10) })"
   ]
  },
  {
   "cell_type": "code",
   "execution_count": null,
   "metadata": {
    "scrolled": false
   },
   "outputs": [],
   "source": [
    "demo({ ('a', 1), ('b', 1), ('c', 2), ('d', 3), ('e', 5), ('f', 8), ('g', 13) })"
   ]
  },
  {
   "cell_type": "markdown",
   "metadata": {},
   "source": [
    "The function `demo_file(fn)` reads the file with name `fn`  and calculates the frequency of all characters occurring in `fn`.  Using these frequencies it computes the Huffman coding tree."
   ]
  },
  {
   "cell_type": "code",
   "execution_count": null,
   "metadata": {
    "scrolled": false
   },
   "outputs": [],
   "source": [
    "def demo_file(fn):\n",
    "    with open(fn, 'r') as file:\n",
    "        s = file.read() # read file as string s\n",
    "    Frequencies = {}\n",
    "    for c in s:\n",
    "        f = Frequencies.get(c, 0)\n",
    "        f += 1\n",
    "        Frequencies[c] = f\n",
    "    M = { (c, f) for (c, f) in Frequencies.items() }\n",
    "    print(M)\n",
    "    return demo(M)"
   ]
  },
  {
   "cell_type": "code",
   "execution_count": null,
   "metadata": {},
   "outputs": [],
   "source": [
    "!type alice.txt || !cat alice.txt"
   ]
  },
  {
   "cell_type": "code",
   "execution_count": null,
   "metadata": {
    "scrolled": false
   },
   "outputs": [],
   "source": [
    "demo_file('alice.txt')"
   ]
  },
  {
   "cell_type": "code",
   "execution_count": null,
   "metadata": {
    "scrolled": false
   },
   "outputs": [],
   "source": [
    "demo_file('moby-dick.txt')"
   ]
  },
  {
   "cell_type": "code",
   "execution_count": null,
   "metadata": {
    "scrolled": false
   },
   "outputs": [],
   "source": []
  }
 ],
 "metadata": {
  "kernelspec": {
   "display_name": "Python 3 (ipykernel)",
   "language": "python",
   "name": "python3"
  },
  "language_info": {
   "codemirror_mode": {
    "name": "ipython",
    "version": 3
   },
   "file_extension": ".py",
   "mimetype": "text/x-python",
   "name": "python",
   "nbconvert_exporter": "python",
   "pygments_lexer": "ipython3",
   "version": "3.9.11"
  },
  "toc": {
   "base_numbering": 1,
   "nav_menu": {},
   "number_sections": true,
   "sideBar": true,
   "skip_h1_title": false,
   "title_cell": "Table of Contents",
   "title_sidebar": "Contents",
   "toc_cell": false,
   "toc_position": {},
   "toc_section_display": true,
   "toc_window_display": false
  },
  "varInspector": {
   "cols": {
    "lenName": 16,
    "lenType": 16,
    "lenVar": 40
   },
   "kernels_config": {
    "python": {
     "delete_cmd_postfix": "",
     "delete_cmd_prefix": "del ",
     "library": "var_list.py",
     "varRefreshCmd": "print(var_dic_list())"
    },
    "r": {
     "delete_cmd_postfix": ") ",
     "delete_cmd_prefix": "rm(",
     "library": "var_list.r",
     "varRefreshCmd": "cat(var_dic_list()) "
    }
   },
   "types_to_exclude": [
    "module",
    "function",
    "builtin_function_or_method",
    "instance",
    "_Feature"
   ],
   "window_display": false
  }
 },
 "nbformat": 4,
 "nbformat_minor": 2
}
