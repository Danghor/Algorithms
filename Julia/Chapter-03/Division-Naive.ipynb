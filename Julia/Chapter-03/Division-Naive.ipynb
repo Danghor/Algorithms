{
 "cells": [
  {
   "cell_type": "code",
   "execution_count": null,
   "id": "238d572a",
   "metadata": {},
   "outputs": [],
   "source": [
    "HTML(read(open(\"../style.css\"), String))"
   ]
  },
  {
   "cell_type": "markdown",
   "id": "641f2771",
   "metadata": {},
   "source": [
    "# Euclidean Division\n",
    "\n",
    "The function $\\texttt{div_mod}(a, n)$ takes two natural numbers $a, n \\in \\mathbb{N}$ such that $n > 0$ and \n",
    "returns a pair $(q, r)$ where $q$ is the <em style=\"color:blue\">quotient</em> of dividing $a$ by $n$, \n",
    "while $r$ is the <em style=\"color:blue\">remainder</em>.\n",
    "Mathematically, $q$ and $r$ are defined as those number that satisfy the following:\n",
    "  - $a = q \\cdot n + r$\n",
    "  - $0 \\leq r < n$"
   ]
  },
  {
   "cell_type": "code",
   "execution_count": null,
   "id": "b94952fc",
   "metadata": {},
   "outputs": [],
   "source": [
    "function div_mod(a, n)\n",
    "    q = 0\n",
    "    while a ≥ n\n",
    "        a -= n\n",
    "        q += 1\n",
    "    end\n",
    "    return q, a\n",
    "end"
   ]
  },
  {
   "cell_type": "code",
   "execution_count": null,
   "id": "3d7918fb",
   "metadata": {},
   "outputs": [],
   "source": [
    "div_mod(12, 3)"
   ]
  },
  {
   "cell_type": "code",
   "execution_count": null,
   "id": "e41c0860",
   "metadata": {},
   "outputs": [],
   "source": [
    "div_mod(14, 5)"
   ]
  },
  {
   "cell_type": "code",
   "execution_count": null,
   "id": "6201855e",
   "metadata": {},
   "outputs": [],
   "source": [
    "?@assert"
   ]
  },
  {
   "cell_type": "code",
   "execution_count": null,
   "id": "446f4d84",
   "metadata": {},
   "outputs": [],
   "source": [
    "@assert 1 == 2 \"Hugo\""
   ]
  },
  {
   "cell_type": "code",
   "execution_count": null,
   "id": "b730c8fc",
   "metadata": {},
   "outputs": [],
   "source": [
    "function test_div_mod(m, n)\n",
    "    q, r = div_mod(m, n)\n",
    "    @assert m == q * n + r \"m = $m, n = $n, q = $q, r = $r\"\n",
    "    @assert 0 <= r < n     \"m = $m, n = $n, q = $q, r = $r\"\n",
    "end"
   ]
  },
  {
   "cell_type": "code",
   "execution_count": null,
   "id": "bdaca6dc",
   "metadata": {},
   "outputs": [],
   "source": [
    "@time begin\n",
    "    for k ∈ 1:10_000\n",
    "        m = rand(0:1_000_000)\n",
    "        n = rand(1:1_000)\n",
    "        test_div_mod(m, n)\n",
    "    end\n",
    "end"
   ]
  },
  {
   "cell_type": "code",
   "execution_count": null,
   "id": "8e46e124",
   "metadata": {},
   "outputs": [],
   "source": []
  }
 ],
 "metadata": {
  "kernelspec": {
   "display_name": "Julia 1.8.1",
   "language": "julia",
   "name": "julia-1.8"
  },
  "language_info": {
   "file_extension": ".jl",
   "mimetype": "application/julia",
   "name": "julia",
   "version": "1.8.1"
  }
 },
 "nbformat": 4,
 "nbformat_minor": 5
}
