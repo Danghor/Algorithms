{
 "cells": [
  {
   "cell_type": "code",
   "execution_count": null,
   "id": "fd33177d",
   "metadata": {},
   "outputs": [],
   "source": [
    "HTML(read(open(\"../style.css\"), String))"
   ]
  },
  {
   "cell_type": "markdown",
   "id": "e83d92b3",
   "metadata": {},
   "source": [
    "# Efficient Computation of Powers\n",
    "\n",
    "The function `power` takes two natural numbers $m$ and $n$ and computes $m^n$.  Our first implementation is inefficient and takes $n-1$ multiplication to compute $m^n$."
   ]
  },
  {
   "cell_type": "code",
   "execution_count": null,
   "id": "e7c25a05",
   "metadata": {},
   "outputs": [],
   "source": [
    "function power(m::BigInt, n)\n",
    "    r::BigInt = 1\n",
    "    for i in 1:n\n",
    "        r *= m\n",
    "    end\n",
    "    return r\n",
    "end"
   ]
  },
  {
   "cell_type": "code",
   "execution_count": null,
   "id": "5d0c743a",
   "metadata": {},
   "outputs": [],
   "source": [
    "a::BigInt = 2\n",
    "b::BigInt = 3"
   ]
  },
  {
   "cell_type": "code",
   "execution_count": null,
   "id": "db3c4dfb",
   "metadata": {},
   "outputs": [],
   "source": [
    "power(a, 3), power(b, 2)"
   ]
  },
  {
   "cell_type": "code",
   "execution_count": null,
   "id": "a0dbe387",
   "metadata": {},
   "outputs": [],
   "source": [
    "@time begin\n",
    "    p = power(b, 500_000)\n",
    "end"
   ]
  },
  {
   "cell_type": "markdown",
   "id": "7c415975",
   "metadata": {},
   "source": [
    "Next, we try a *recursive implementation* that is based on the following two equations:\n",
    "1. $m^0 = 1$\n",
    "2. $m^n = \\left\\{\\begin{array}{ll}\n",
    "         m^{n//2} \\cdot m^{n//2}          & \\mbox{if $n$ is even};    \\\\\n",
    "         m^{n//2} \\cdot m^{n//2} \\cdot m  & \\mbox{if $n$ is odd}.\n",
    "         \\end{array}\n",
    "         \\right.\n",
    "         $\n",
    "         \n",
    "Effectively, we square the $m^{n//2}$.  Hence this method is also known as *iterative squaring*."
   ]
  },
  {
   "cell_type": "code",
   "execution_count": null,
   "id": "8cbf3319",
   "metadata": {},
   "outputs": [],
   "source": [
    "function power(m::BigInt, n)\n",
    "    if n == 0\n",
    "        return 1\n",
    "    end\n",
    "    p = power(m, n ÷ 2)\n",
    "    if n % 2 == 0\n",
    "        return p * p\n",
    "    else\n",
    "        return p * p * m\n",
    "    end\n",
    "end"
   ]
  },
  {
   "cell_type": "code",
   "execution_count": null,
   "id": "a4a3e8ce",
   "metadata": {},
   "outputs": [],
   "source": [
    "@time begin\n",
    "    p = power(a, 500_000)\n",
    "end"
   ]
  },
  {
   "cell_type": "code",
   "execution_count": null,
   "id": "5fbdf472",
   "metadata": {},
   "outputs": [],
   "source": []
  }
 ],
 "metadata": {
  "kernelspec": {
   "display_name": "Julia 1.8.2",
   "language": "julia",
   "name": "julia-1.8"
  },
  "language_info": {
   "file_extension": ".jl",
   "mimetype": "application/julia",
   "name": "julia",
   "version": "1.8.2"
  }
 },
 "nbformat": 4,
 "nbformat_minor": 5
}
