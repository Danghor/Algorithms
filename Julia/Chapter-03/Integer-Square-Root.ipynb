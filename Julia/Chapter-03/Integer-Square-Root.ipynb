{
 "cells": [
  {
   "cell_type": "code",
   "execution_count": null,
   "metadata": {},
   "outputs": [],
   "source": [
    "HTML(read(open(\"style.css\"), String))"
   ]
  },
  {
   "cell_type": "markdown",
   "metadata": {},
   "source": [
    "# Integer Square Root"
   ]
  },
  {
   "cell_type": "markdown",
   "metadata": {},
   "source": [
    "The function `isqrt(n)` takes one natural numbers $n$ and returns the largest natural number $r$ such that\n",
    "$r^2 \\leq n$, i.e. we have\n",
    "$$ \\texttt{isqrt}(n) := \\max\\bigl(\\{ r \\in \\mathbb{N} \\mid r^2 \\leq n \\}\\bigr). $$\n",
    "Our goal is to compute `isqrt(n)` recursively via a *divide-and-conquer* algorithm as follows:\n",
    "1. $\\texttt{isqrt}(0) = 0$.\n",
    "2. $\\bigl(2 \\cdot \\texttt{isqrt}(n \\,\\texttt{//}\\, 4) + 1\\bigr)^2 \\leq n \\rightarrow \\texttt{isqrt}(n) = 2 \\cdot \\texttt{isqrt}(n \\,\\texttt{//}\\, 4) + 1$.\n",
    "3. $\\bigl(2 \\cdot \\texttt{isqrt}(n \\,\\texttt{//}\\, 4) + 1\\bigr)^2 > n \\rightarrow \\texttt{isqrt}(n) = 2 \\cdot \\texttt{isqrt}(n \\,\\texttt{//}\\, 4)$."
   ]
  },
  {
   "cell_type": "code",
   "execution_count": null,
   "metadata": {},
   "outputs": [],
   "source": [
    "function isqrt(n)\n",
    "    if n == 0\n",
    "        return big(0)\n",
    "    end\n",
    "    r = isqrt(n ÷ 4)\n",
    "    if (2 * r + 1)^2 ≤ n\n",
    "        return 2 * r + 1\n",
    "    else\n",
    "        return 2 * r\n",
    "    end\n",
    "end"
   ]
  },
  {
   "cell_type": "code",
   "execution_count": null,
   "metadata": {},
   "outputs": [],
   "source": [
    "for n in 1:16\n",
    "    println(\"isqrt($n) = $(isqrt(n))\")\n",
    "end"
   ]
  },
  {
   "cell_type": "code",
   "execution_count": null,
   "metadata": {},
   "outputs": [],
   "source": [
    "rand(Int)"
   ]
  },
  {
   "cell_type": "markdown",
   "metadata": {},
   "source": [
    "The function `run_tests(n)` generates `n` random integers `x` and tests, whether `isqrt(x)` is the *integer square root* of `x` in each case."
   ]
  },
  {
   "cell_type": "code",
   "execution_count": null,
   "metadata": {},
   "outputs": [],
   "source": [
    "function run_tests(n)\n",
    "    for i in 1:n\n",
    "        x = abs(rand(Int))\n",
    "        r = isqrt(x)\n",
    "        @assert r * r ≤ x && (r + 1) * (r + 1) > n \n",
    "                \"Error: $r != isqrt($x)\"\n",
    "    end\n",
    "end"
   ]
  },
  {
   "cell_type": "code",
   "execution_count": null,
   "metadata": {},
   "outputs": [],
   "source": [
    "run_tests(1_000_000)"
   ]
  },
  {
   "cell_type": "markdown",
   "metadata": {},
   "source": [
    "The function `sqrt2(k)` returns $\\sqrt{2}$ up to `k` decimal places."
   ]
  },
  {
   "cell_type": "code",
   "execution_count": null,
   "metadata": {},
   "outputs": [],
   "source": [
    "function sqrt2(k)\n",
    "    n = 2 * big(10)^(2*k)\n",
    "    r = isqrt(n)\n",
    "    s = string(r)\n",
    "    l = length(s)\n",
    "    return s[1] * \".\" * s[2:l]\n",
    "end"
   ]
  },
  {
   "cell_type": "code",
   "execution_count": null,
   "metadata": {},
   "outputs": [],
   "source": [
    "@time begin\n",
    "    print(sqrt2(1000))\n",
    "end"
   ]
  },
  {
   "cell_type": "code",
   "execution_count": null,
   "metadata": {},
   "outputs": [],
   "source": []
  }
 ],
 "metadata": {
  "kernelspec": {
   "display_name": "Julia 1.8.2",
   "language": "julia",
   "name": "julia-1.8"
  },
  "language_info": {
   "file_extension": ".jl",
   "mimetype": "application/julia",
   "name": "julia",
   "version": "1.8.2"
  }
 },
 "nbformat": 4,
 "nbformat_minor": 4
}
