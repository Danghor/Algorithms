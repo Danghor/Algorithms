{
 "cells": [
  {
   "cell_type": "code",
   "execution_count": null,
   "metadata": {},
   "outputs": [],
   "source": [
    "HTML(read(open(\"../style.css\"), String))"
   ]
  },
  {
   "cell_type": "markdown",
   "metadata": {},
   "source": [
    "# Euclidean Division"
   ]
  },
  {
   "cell_type": "markdown",
   "metadata": {},
   "source": [
    "The function $\\texttt{div_mod}(a, b)$ takes two natural numbers $a, b \\in \\mathbb{N}$ such that $b > 0$ \n",
    "and returns a pair $(q, r)$ where $q$ is the <em style=\"color:blue\">quotient</em> of dividing $m$ by $n$, \n",
    "while $r$ is the <em style=\"color:blue\">remainder</em>.\n",
    "Mathematically, $q$ and $r$ are defined as those number that satisfy the following:\n",
    "  - $a = q \\cdot b + r$,\n",
    "  - $0 \\leq r < b$.\n",
    "  \n",
    "The iterative algorithm for computing $q$ and $r$ performs two steps:\n",
    "- In the first step, we determine a number $n$ such that \n",
    "  $$ b \\cdot 2^n \\geq a. $$\n",
    "  The number $b \\cdot 2^n$ is stored in the variable $f$.\n",
    "- Next, we compute the bits of the quotient $q$ one by one.  We start with the highest bit of $q$.\n",
    "  The <em style=\"color:blue\">invariants</em> maintained by the `for`-loop below are as follows:\n",
    "  - $f = b \\cdot 2^i$,\n",
    "  - $a = q \\cdot f + r$,\n",
    "  - $0 \\leq r < f$.\n",
    "  \n",
    "  Therefore, when the `for`-loop ends we have $i=0$ and $f = b \\cdot 2^0 = b$.  This implies\n",
    "  - $a = q \\cdot b + r$,\n",
    "  - $0 \\leq r < b$."
   ]
  },
  {
   "cell_type": "code",
   "execution_count": null,
   "metadata": {},
   "outputs": [],
   "source": [
    "function div_mod(a, b)\n",
    "    n = 0\n",
    "    q = 0\n",
    "    r = a\n",
    "    f = b # f = b * 2^n\n",
    "    while f < a\n",
    "        f *= 2\n",
    "        n += 1\n",
    "    end\n",
    "    for i ∈ n:-1:0\n",
    "        q *= 2\n",
    "        if r ≥ f\n",
    "            q += 1\n",
    "            r -= f\n",
    "        end\n",
    "        f ÷= 2      \n",
    "    end\n",
    "    return q, r\n",
    "end"
   ]
  },
  {
   "cell_type": "code",
   "execution_count": null,
   "metadata": {},
   "outputs": [],
   "source": [
    "div_mod(29, 5)"
   ]
  },
  {
   "cell_type": "code",
   "execution_count": null,
   "metadata": {},
   "outputs": [],
   "source": [
    "function test_div_mod(m, n)\n",
    "    q, r = div_mod(m, n)\n",
    "    @assert m == q * n + r \"m = $m, n = $n, q = $q, r = $r\"\n",
    "    @assert 0 <= r < n     \"m = $m, n = $n, q = $q, r = $r\"\n",
    "end"
   ]
  },
  {
   "cell_type": "code",
   "execution_count": null,
   "metadata": {},
   "outputs": [],
   "source": [
    "@time begin\n",
    "    for k ∈ 1:10_000\n",
    "        m = rand(0:1_000_000)\n",
    "        n = rand(1:1_000)\n",
    "        test_div_mod(m, n)\n",
    "    end\n",
    "end"
   ]
  },
  {
   "cell_type": "code",
   "execution_count": null,
   "metadata": {},
   "outputs": [],
   "source": []
  }
 ],
 "metadata": {
  "kernelspec": {
   "display_name": "Julia 1.8.2",
   "language": "julia",
   "name": "julia-1.8"
  },
  "language_info": {
   "file_extension": ".jl",
   "mimetype": "application/julia",
   "name": "julia",
   "version": "1.8.2"
  }
 },
 "nbformat": 4,
 "nbformat_minor": 4
}
