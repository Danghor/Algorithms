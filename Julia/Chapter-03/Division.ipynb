{
 "cells": [
  {
   "cell_type": "code",
   "execution_count": null,
   "metadata": {},
   "outputs": [],
   "source": [
    "HTML(read(open(\"../style.css\"), String))"
   ]
  },
  {
   "cell_type": "markdown",
   "metadata": {},
   "source": [
    "# Integer Divison"
   ]
  },
  {
   "cell_type": "markdown",
   "metadata": {},
   "source": [
    "The function `get_ith_bit(n, i)` returns the $\\texttt{i}^\\textrm{th}$ bit of the integer $n$, where $i=0$ specifies the bit of lowest value."
   ]
  },
  {
   "cell_type": "code",
   "execution_count": null,
   "metadata": {},
   "outputs": [],
   "source": [
    "function get_ith_bit(n::Int64, i)\n",
    "    return (n >>> i) & 1\n",
    "end"
   ]
  },
  {
   "cell_type": "markdown",
   "metadata": {},
   "source": [
    "The function `div_mod(m, n)` takes two natural numbers $m, n \\in \\mathbb{N}$ such that $n > 0$ \n",
    "and returns a pair $(q, r)$ where $q$ is the quotient of dividing $m$ by $n$, while $r$ is the remainder.\n",
    "Mathematically, $q$ and $r$ are defined as those number that satisfy the following conditions:\n",
    "  - $m = q \\cdot n + r$,\n",
    "  - $0 \\leq r < n$.\n",
    "  \n",
    "Assume that the binary representation of $m$ is as follows:\n",
    "$$ m = \\sum\\limits_{k=0}^{63} m_k \\cdot 2^k $$\n",
    "At the end of the body of the `for`-loop, the following invariants\n",
    "holds:\n",
    "- $q \\cdot n + r = \\sum\\limits_{k=i}^{63} m_k \\cdot 2^{k-i}$,\n",
    "- $r < n$.\n"
   ]
  },
  {
   "cell_type": "code",
   "execution_count": null,
   "metadata": {},
   "outputs": [],
   "source": [
    "function divide(m::Int, n::Int)\n",
    "    @assert n ≠ 0\n",
    "    q = 0 # quotient\n",
    "    r = 0 # remainder\n",
    "    for i = 63:-1:0\n",
    "        r *= 2\n",
    "        q *= 2\n",
    "        r += get_ith_bit(m, i)\n",
    "        if r ≥ n\n",
    "            r -= n\n",
    "            q += 1 \n",
    "        end\n",
    "    end\n",
    "    return q, r\n",
    "end"
   ]
  },
  {
   "cell_type": "code",
   "execution_count": null,
   "metadata": {},
   "outputs": [],
   "source": [
    "divide(45, 7)"
   ]
  },
  {
   "cell_type": "code",
   "execution_count": null,
   "metadata": {},
   "outputs": [],
   "source": []
  },
  {
   "cell_type": "code",
   "execution_count": null,
   "metadata": {},
   "outputs": [],
   "source": []
  }
 ],
 "metadata": {
  "kernelspec": {
   "display_name": "Julia 1.8.2",
   "language": "julia",
   "name": "julia-1.8"
  },
  "language_info": {
   "file_extension": ".jl",
   "mimetype": "application/julia",
   "name": "julia",
   "version": "1.8.2"
  }
 },
 "nbformat": 4,
 "nbformat_minor": 4
}
